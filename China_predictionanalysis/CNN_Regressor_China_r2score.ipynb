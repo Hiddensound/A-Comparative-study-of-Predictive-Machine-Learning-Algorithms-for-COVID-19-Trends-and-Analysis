{
  "nbformat": 4,
  "nbformat_minor": 0,
  "metadata": {
    "colab": {
      "name": "CNN_Regressor_China.ipynb",
      "provenance": [],
      "collapsed_sections": []
    },
    "kernelspec": {
      "name": "python3",
      "display_name": "Python 3"
    }
  },
  "cells": [
    {
      "cell_type": "code",
      "metadata": {
        "id": "Diq0iFZvivVw",
        "colab_type": "code",
        "outputId": "028e6a94-5827-4f04-f888-210072fe1fc7",
        "colab": {
          "base_uri": "https://localhost:8080/",
          "height": 34
        }
      },
      "source": [
        "from google.colab import drive\n",
        "drive.mount('/content/drive')"
      ],
      "execution_count": 119,
      "outputs": [
        {
          "output_type": "stream",
          "text": [
            "Drive already mounted at /content/drive; to attempt to forcibly remount, call drive.mount(\"/content/drive\", force_remount=True).\n"
          ],
          "name": "stdout"
        }
      ]
    },
    {
      "cell_type": "code",
      "metadata": {
        "id": "zZVwp_jkebDH",
        "colab_type": "code",
        "colab": {}
      },
      "source": [
        "import pandas as pd\n",
        "raw_seq = pd.read_csv(\"/content/drive/My Drive/Total_cases_China.csv\")"
      ],
      "execution_count": 0,
      "outputs": []
    },
    {
      "cell_type": "code",
      "metadata": {
        "id": "WobRCkyNy3X4",
        "colab_type": "code",
        "colab": {}
      },
      "source": [
        "raw_seq = raw_seq.rename(columns={'Confirmed deaths': 'China Deaths', \\\n",
        "                                  'Confirmed Recovered': 'China Recovered'})"
      ],
      "execution_count": 0,
      "outputs": []
    },
    {
      "cell_type": "code",
      "metadata": {
        "id": "8lTnsHMyhUu_",
        "colab_type": "code",
        "outputId": "dbba4044-d1ee-4658-fe7e-eb8067d82cf9",
        "colab": {
          "base_uri": "https://localhost:8080/",
          "height": 204
        }
      },
      "source": [
        "raw = raw_seq.iloc[4:]\n",
        "\n",
        "raw.head()"
      ],
      "execution_count": 122,
      "outputs": [
        {
          "output_type": "execute_result",
          "data": {
            "text/html": [
              "<div>\n",
              "<style scoped>\n",
              "    .dataframe tbody tr th:only-of-type {\n",
              "        vertical-align: middle;\n",
              "    }\n",
              "\n",
              "    .dataframe tbody tr th {\n",
              "        vertical-align: top;\n",
              "    }\n",
              "\n",
              "    .dataframe thead th {\n",
              "        text-align: right;\n",
              "    }\n",
              "</style>\n",
              "<table border=\"1\" class=\"dataframe\">\n",
              "  <thead>\n",
              "    <tr style=\"text-align: right;\">\n",
              "      <th></th>\n",
              "      <th>Dates</th>\n",
              "      <th>China Confirmed Cases</th>\n",
              "      <th>Confirmed Deaths</th>\n",
              "      <th>China Recovered</th>\n",
              "    </tr>\n",
              "  </thead>\n",
              "  <tbody>\n",
              "    <tr>\n",
              "      <th>4</th>\n",
              "      <td>01/26/2020</td>\n",
              "      <td>2075</td>\n",
              "      <td>56</td>\n",
              "      <td>49</td>\n",
              "    </tr>\n",
              "    <tr>\n",
              "      <th>5</th>\n",
              "      <td>01/27/2020</td>\n",
              "      <td>2877</td>\n",
              "      <td>82</td>\n",
              "      <td>58</td>\n",
              "    </tr>\n",
              "    <tr>\n",
              "      <th>6</th>\n",
              "      <td>01/28/2020</td>\n",
              "      <td>5509</td>\n",
              "      <td>131</td>\n",
              "      <td>101</td>\n",
              "    </tr>\n",
              "    <tr>\n",
              "      <th>7</th>\n",
              "      <td>01/29/2020</td>\n",
              "      <td>6087</td>\n",
              "      <td>133</td>\n",
              "      <td>120</td>\n",
              "    </tr>\n",
              "    <tr>\n",
              "      <th>8</th>\n",
              "      <td>01/30/2020</td>\n",
              "      <td>8141</td>\n",
              "      <td>171</td>\n",
              "      <td>135</td>\n",
              "    </tr>\n",
              "  </tbody>\n",
              "</table>\n",
              "</div>"
            ],
            "text/plain": [
              "        Dates  China Confirmed Cases  Confirmed Deaths  China Recovered\n",
              "4  01/26/2020                   2075                56               49\n",
              "5  01/27/2020                   2877                82               58\n",
              "6  01/28/2020                   5509               131              101\n",
              "7  01/29/2020                   6087               133              120\n",
              "8  01/30/2020                   8141               171              135"
            ]
          },
          "metadata": {
            "tags": []
          },
          "execution_count": 122
        }
      ]
    },
    {
      "cell_type": "code",
      "metadata": {
        "id": "vqCt-8xneii7",
        "colab_type": "code",
        "colab": {}
      },
      "source": [
        "china_confirmed_cases = raw_seq['China Confirmed Cases']\n",
        "china_deaths = raw_seq['Confirmed Deaths']\n",
        "china_recovered = raw_seq['China Recovered']"
      ],
      "execution_count": 0,
      "outputs": []
    },
    {
      "cell_type": "code",
      "metadata": {
        "id": "jUpNgS-ekJPV",
        "colab_type": "code",
        "outputId": "517aabe3-e559-4b33-f582-33dcce70a83d",
        "colab": {
          "base_uri": "https://localhost:8080/",
          "height": 282
        }
      },
      "source": [
        "raw_seq['China Confirmed Cases'].plot()"
      ],
      "execution_count": 124,
      "outputs": [
        {
          "output_type": "execute_result",
          "data": {
            "text/plain": [
              "<matplotlib.axes._subplots.AxesSubplot at 0x7f6d4b5dc668>"
            ]
          },
          "metadata": {
            "tags": []
          },
          "execution_count": 124
        },
        {
          "output_type": "display_data",
          "data": {
            "image/png": "[encoded data removed]",
            "text/plain": [
              "<Figure size 432x288 with 1 Axes>"
            ]
          },
          "metadata": {
            "tags": [],
            "needs_background": "light"
          }
        }
      ]
    },
    {
      "cell_type": "code",
      "metadata": {
        "id": "i-20nJWvpnct",
        "colab_type": "code",
        "outputId": "55554045-6b86-4b0d-a69d-6e63dc7ed8fc",
        "colab": {
          "base_uri": "https://localhost:8080/",
          "height": 286
        }
      },
      "source": [
        "raw_seq['Confirmed Deaths'].plot()"
      ],
      "execution_count": 125,
      "outputs": [
        {
          "output_type": "execute_result",
          "data": {
            "text/plain": [
              "<matplotlib.axes._subplots.AxesSubplot at 0x7f6d4b535be0>"
            ]
          },
          "metadata": {
            "tags": []
          },
          "execution_count": 125
        },
        {
          "output_type": "display_data",
          "data": {
            "image/png": "[encoded data removed]",
            "text/plain": [
              "<Figure size 432x288 with 1 Axes>"
            ]
          },
          "metadata": {
            "tags": [],
            "needs_background": "light"
          }
        }
      ]
    },
    {
      "cell_type": "code",
      "metadata": {
        "id": "yTHy92nMqXgz",
        "colab_type": "code",
        "outputId": "81799690-59ff-4246-97c2-6436a69a24c6",
        "colab": {
          "base_uri": "https://localhost:8080/",
          "height": 282
        }
      },
      "source": [
        "raw_seq['China Recovered'].plot()"
      ],
      "execution_count": 126,
      "outputs": [
        {
          "output_type": "execute_result",
          "data": {
            "text/plain": [
              "<matplotlib.axes._subplots.AxesSubplot at 0x7f6d4b51ff60>"
            ]
          },
          "metadata": {
            "tags": []
          },
          "execution_count": 126
        },
        {
          "output_type": "display_data",
          "data": {
            "image/png": "[encoded data removed]",
            "text/plain": [
              "<Figure size 432x288 with 1 Axes>"
            ]
          },
          "metadata": {
            "tags": [],
            "needs_background": "light"
          }
        }
      ]
    },
    {
      "cell_type": "code",
      "metadata": {
        "id": "wHB9Pp4Mb7qZ",
        "colab_type": "code",
        "outputId": "eb214c05-1087-4c82-e10f-8013610ef664",
        "colab": {
          "base_uri": "https://localhost:8080/",
          "height": 1000
        }
      },
      "source": [
        "# univariate cnn example\n",
        "import numpy as np\n",
        "from numpy import array\n",
        "from keras.models import Sequential\n",
        "from keras.layers import Dense\n",
        "from keras.layers import Flatten\n",
        "from keras.layers.convolutional import Conv1D\n",
        "from keras.layers.convolutional import MaxPooling1D\n",
        "\n",
        "# split a univariate sequence into samples\n",
        "def split_sequence(sequence, n_steps):\n",
        "\tX, y = list(), list()\n",
        "\tfor i in range(len(sequence)):\n",
        "\t\t# find the end of this pattern\n",
        "\t\tend_ix = i + n_steps\n",
        "\t\t# check if we are beyond the sequence\n",
        "\t\tif end_ix > len(sequence)-1:\n",
        "\t\t\tbreak\n",
        "\t\t# gather input and output parts of the pattern\n",
        "\t\tseq_x, seq_y = sequence[i:end_ix], sequence[end_ix]\n",
        "\t\tX.append(seq_x)\n",
        "\t\ty.append(seq_y)\n",
        "\treturn array(X), array(y)\n",
        "\n",
        "# define input sequence\n",
        "#raw_seq = pd.read_csv(\"/content/drive/My Drive/Total_cases_Canada.csv\")\n",
        "# choose a number of time steps\n",
        "n_steps = 3\n",
        "# split into samples\n",
        "X, y = split_sequence(china_confirmed_cases, n_steps)\n",
        "# reshape from [samples, timesteps] into [samples, timesteps, features]\n",
        "n_features = 1\n",
        "X = X.reshape((X.shape[0], X.shape[1], n_features))\n",
        "# define model\n",
        "model = Sequential()\n",
        "model.add(Conv1D(filters=64, kernel_size=2, activation='relu', input_shape=(n_steps, n_features)))\n",
        "model.add(MaxPooling1D(pool_size=2))\n",
        "model.add(Flatten())\n",
        "model.add(Dense(50, activation='relu'))\n",
        "model.add(Dense(1))\n",
        "model.compile(optimizer='adam', loss='mse')\n",
        "# fit model\n",
        "model.fit(X, y, epochs=1000, verbose=0)\n",
        "# demonstrate prediction\n",
        "x= len(china_confirmed_cases)\n",
        "pred_val = []\n",
        "for i in range(x):\n",
        "  i=china_confirmed_cases[i]\n",
        "  x_input1=[i,i+1,i+2]\n",
        "  x_input=np.asarray(x_input1)\n",
        "  x_input = x_input.reshape((1, n_steps, n_features))\n",
        "  yhat = model.predict(x_input, verbose=1)\n",
        "  pred_val.append(yhat)\n",
        "  print(yhat)\n",
        "#x_input = array([1263, 1264, 1265])\n",
        "#x_input = x_input.reshape((1, n_steps, n_features))\n",
        "#yhat = model.predict(x_input, verbose=0)\n",
        "#print(yhat)"
      ],
      "execution_count": 127,
      "outputs": [
        {
          "output_type": "stream",
          "text": [
            "1/1 [==============================] - 0s 11ms/step\n",
            "[[565.42847]]\n",
            "1/1 [==============================] - 0s 854us/step\n",
            "[[661.1544]]\n",
            "1/1 [==============================] - 0s 6ms/step\n",
            "[[940.2714]]\n",
            "1/1 [==============================] - 0s 6ms/step\n",
            "[[1429.9858]]\n",
            "1/1 [==============================] - 0s 1ms/step\n",
            "[[2104.0986]]\n",
            "1/1 [==============================] - 0s 1ms/step\n",
            "[[2912.2283]]\n",
            "1/1 [==============================] - 0s 875us/step\n",
            "[[5564.344]]\n",
            "1/1 [==============================] - 0s 1ms/step\n",
            "[[6146.7607]]\n",
            "1/1 [==============================] - 0s 922us/step\n",
            "[[8216.458]]\n",
            "1/1 [==============================] - 0s 577us/step\n",
            "[[9890.154]]\n",
            "1/1 [==============================] - 0s 819us/step\n",
            "[[11995.119]]\n",
            "1/1 [==============================] - 0s 519us/step\n",
            "[[16770.338]]\n",
            "1/1 [==============================] - 0s 842us/step\n",
            "[[19879.922]]\n",
            "1/1 [==============================] - 0s 2ms/step\n",
            "[[23901.422]]\n",
            "1/1 [==============================] - 0s 1ms/step\n",
            "[[27662.955]]\n",
            "1/1 [==============================] - 0s 700us/step\n",
            "[[30834.004]]\n",
            "1/1 [==============================] - 0s 653us/step\n",
            "[[34383.934]]\n",
            "1/1 [==============================] - 0s 2ms/step\n",
            "[[37108.598]]\n",
            "1/1 [==============================] - 0s 3ms/step\n",
            "[[40146.64]]\n",
            "1/1 [==============================] - 0s 1ms/step\n",
            "[[42690.938]]\n",
            "1/1 [==============================] - 0s 922us/step\n",
            "[[44738.457]]\n",
            "1/1 [==============================] - 0s 996us/step\n",
            "[[45114.312]]\n",
            "1/1 [==============================] - 0s 2ms/step\n",
            "[[60366.004]]\n",
            "1/1 [==============================] - 0s 849us/step\n",
            "[[66878.38]]\n",
            "1/1 [==============================] - 0s 851us/step\n",
            "[[68949.09]]\n",
            "1/1 [==============================] - 0s 919us/step\n",
            "[[71065.13]]\n",
            "1/1 [==============================] - 0s 544us/step\n",
            "[[73000.82]]\n",
            "1/1 [==============================] - 0s 559us/step\n",
            "[[74791.41]]\n",
            "1/1 [==============================] - 0s 730us/step\n",
            "[[75202.53]]\n",
            "1/1 [==============================] - 0s 781us/step\n",
            "[[75664.02]]\n",
            "1/1 [==============================] - 0s 477us/step\n",
            "[[76140.64]]\n",
            "1/1 [==============================] - 0s 495us/step\n",
            "[[77602.73]]\n",
            "1/1 [==============================] - 0s 807us/step\n",
            "[[77623.89]]\n",
            "1/1 [==============================] - 0s 645us/step\n",
            "[[77844.56]]\n",
            "1/1 [==============================] - 0s 624us/step\n",
            "[[78361.484]]\n",
            "1/1 [==============================] - 0s 635us/step\n",
            "[[78776.63]]\n",
            "1/1 [==============================] - 0s 659us/step\n",
            "[[79213.945]]\n",
            "1/1 [==============================] - 0s 1ms/step\n",
            "[[79544.46]]\n",
            "1/1 [==============================] - 0s 818us/step\n",
            "[[79975.73]]\n",
            "1/1 [==============================] - 0s 677us/step\n",
            "[[80556.125]]\n",
            "1/1 [==============================] - 0s 656us/step\n",
            "[[80761.68]]\n",
            "1/1 [==============================] - 0s 667us/step\n",
            "[[80887.625]]\n",
            "1/1 [==============================] - 0s 1ms/step\n",
            "[[81013.61]]\n",
            "1/1 [==============================] - 0s 826us/step\n",
            "[[81165.75]]\n",
            "1/1 [==============================] - 0s 662us/step\n",
            "[[81319.92]]\n",
            "1/1 [==============================] - 0s 628us/step\n",
            "[[81400.53]]\n",
            "1/1 [==============================] - 0s 645us/step\n",
            "[[81453.92]]\n",
            "1/1 [==============================] - 0s 655us/step\n",
            "[[81491.22]]\n",
            "1/1 [==============================] - 0s 658us/step\n",
            "[[81518.43]]\n",
            "1/1 [==============================] - 0s 651us/step\n",
            "[[81552.68]]\n",
            "1/1 [==============================] - 0s 1ms/step\n",
            "[[81563.766]]\n",
            "1/1 [==============================] - 0s 637us/step\n",
            "[[81576.875]]\n",
            "1/1 [==============================] - 0s 664us/step\n",
            "[[81609.12]]\n",
            "1/1 [==============================] - 0s 637us/step\n",
            "[[81635.31]]\n",
            "1/1 [==============================] - 0s 661us/step\n",
            "[[81635.31]]\n",
            "1/1 [==============================] - 0s 1ms/step\n",
            "[[81690.73]]\n",
            "1/1 [==============================] - 0s 635us/step\n",
            "[[81735.08]]\n",
            "1/1 [==============================] - 0s 663us/step\n",
            "[[81789.48]]\n",
            "1/1 [==============================] - 0s 796us/step\n",
            "[[81884.21]]\n",
            "1/1 [==============================] - 0s 655us/step\n",
            "[[81984.97]]\n",
            "1/1 [==============================] - 0s 630us/step\n",
            "[[82070.61]]\n",
            "1/1 [==============================] - 0s 660us/step\n",
            "[[82134.1]]\n",
            "1/1 [==============================] - 0s 655us/step\n",
            "[[82227.8]]\n",
            "1/1 [==============================] - 0s 654us/step\n",
            "[[82298.34]]\n",
            "1/1 [==============================] - 0s 629us/step\n",
            "[[82420.266]]\n",
            "1/1 [==============================] - 0s 837us/step\n",
            "[[82536.15]]\n",
            "1/1 [==============================] - 0s 631us/step\n",
            "[[82638.93]]\n",
            "1/1 [==============================] - 0s 747us/step\n",
            "[[82762.875]]\n",
            "1/1 [==============================] - 0s 652us/step\n",
            "[[82839.45]]\n",
            "1/1 [==============================] - 0s 730us/step\n",
            "[[82921.08]]\n",
            "1/1 [==============================] - 0s 677us/step\n",
            "[[83003.71]]\n",
            "1/1 [==============================] - 0s 1ms/step\n",
            "[[83075.234]]\n",
            "1/1 [==============================] - 0s 762us/step\n",
            "[[83154.836]]\n",
            "1/1 [==============================] - 0s 745us/step\n",
            "[[83187.07]]\n",
            "1/1 [==============================] - 0s 780us/step\n",
            "[[83246.54]]\n",
            "1/1 [==============================] - 0s 812us/step\n",
            "[[83310.016]]\n",
            "1/1 [==============================] - 0s 1ms/step\n",
            "[[83363.42]]\n",
            "1/1 [==============================] - 0s 661us/step\n",
            "[[83455.12]]\n",
            "1/1 [==============================] - 0s 2ms/step\n",
            "[[83529.67]]\n"
          ],
          "name": "stdout"
        }
      ]
    },
    {
      "cell_type": "code",
      "metadata": {
        "id": "vagYhyT3cJai",
        "colab_type": "code",
        "colab": {}
      },
      "source": [
        "pred_val\n",
        "predict= np.concatenate((pred_val))\n",
        "Predict_cases=pd.DataFrame(predict)\n",
        "Predict_cases['Predicted Cases']=Predict_cases\n",
        "Predict_cases.pop(0)\n",
        "Predict_cases\n",
        "#predicted_cases= Predict_cases.join(india_confirmed_cases)\n",
        "raw_seq = raw_seq.join(Predict_cases)\n",
        "raw_seq\n",
        "t1 = raw_seq\n"
      ],
      "execution_count": 0,
      "outputs": []
    },
    {
      "cell_type": "code",
      "metadata": {
        "id": "IPaL3Plhdjco",
        "colab_type": "code",
        "outputId": "98028dd1-4f50-43b4-eec4-62d2d8d65922",
        "colab": {
          "base_uri": "https://localhost:8080/",
          "height": 1000
        }
      },
      "source": [
        "print(t1)"
      ],
      "execution_count": 129,
      "outputs": [
        {
          "output_type": "stream",
          "text": [
            "         Dates  China Confirmed Cases  ...  China Recovered  Predicted Cases\n",
            "0   01/22/2020                    548  ...               28       565.428467\n",
            "1   01/23/2020                    643  ...               30       661.154419\n",
            "2   01/24/2020                    920  ...               36       940.271423\n",
            "3   01/25/2020                   1406  ...               39      1429.985840\n",
            "4   01/26/2020                   2075  ...               49      2104.098633\n",
            "5   01/27/2020                   2877  ...               58      2912.228271\n",
            "6   01/28/2020                   5509  ...              101      5564.344238\n",
            "7   01/29/2020                   6087  ...              120      6146.760742\n",
            "8   01/30/2020                   8141  ...              135      8216.458008\n",
            "9   01/31/2020                   9802  ...              214      9890.154297\n",
            "10  02/01/2020                  11891  ...              275     11995.119141\n",
            "11  02/02/2020                  16630  ...              463     16770.337891\n",
            "12  02/03/2020                  19716  ...              614     19879.921875\n",
            "13  02/04/2020                  23707  ...              843     23901.421875\n",
            "14  02/05/2020                  27440  ...             1115     27662.955078\n",
            "15  02/06/2020                  30587  ...             1477     30834.003906\n",
            "16  02/07/2020                  34110  ...             1999     34383.933594\n",
            "17  02/08/2020                  36814  ...             2596     37108.597656\n",
            "18  02/09/2020                  39829  ...             3219     40146.640625\n",
            "19  02/10/2020                  42354  ...             3918     42690.937500\n",
            "20  02/11/2020                  44386  ...             4636     44738.457031\n",
            "21  02/12/2020                  44759  ...             5082     45114.312500\n",
            "22  02/13/2020                  59895  ...             6217     60366.003906\n",
            "23  02/14/2020                  66358  ...             7977     66878.382812\n",
            "24  02/15/2020                  68413  ...             9298     68949.093750\n",
            "25  02/16/2020                  70513  ...            10755     71065.132812\n",
            "26  02/17/2020                  72434  ...            12462     73000.820312\n",
            "27  02/18/2020                  74211  ...            14206     74791.406250\n",
            "28  02/19/2020                  74619  ...            15962     75202.531250\n",
            "29  02/20/2020                  75077  ...            18014     75664.023438\n",
            "30  02/21/2020                  75550  ...            18704     76140.640625\n",
            "31  02/22/2020                  77001  ...            22699     77602.726562\n",
            "32  02/23/2020                  77022  ...            23187     77623.890625\n",
            "33  02/24/2020                  77241  ...            25015     77844.562500\n",
            "34  02/25/2020                  77754  ...            27676     78361.484375\n",
            "35  02/26/2020                  78166  ...            30084     78776.632812\n",
            "36  02/27/2020                  78600  ...            32930     79213.945312\n",
            "37  02/28/2020                  78928  ...            36329     79544.460938\n",
            "38  02/29/2020                  79356  ...            39320     79975.726562\n",
            "39  03/01/2020                  79932  ...            42162     80556.125000\n",
            "40  03/02/2020                  80136  ...            44854     80761.679688\n",
            "41  03/03/2020                  80261  ...            47450     80887.625000\n",
            "42  03/04/2020                  80386  ...            50001     81013.609375\n",
            "43  03/05/2020                  80537  ...            52292     81165.750000\n",
            "44  03/06/2020                  80690  ...            53944     81319.921875\n",
            "45  03/07/2020                  80770  ...            55539     81400.531250\n",
            "46  03/08/2020                  80823  ...            57388     81453.921875\n",
            "47  03/09/2020                  80860  ...            58804     81491.218750\n",
            "48  03/10/2020                  80887  ...            60181     81518.429688\n",
            "49  03/11/2020                  80921  ...            61644     81552.679688\n",
            "50  03/12/2020                  80932  ...            62901     81563.765625\n",
            "51  03/13/2020                  80945  ...            64196     81576.875000\n",
            "52  03/14/2020                  80977  ...            65660     81609.117188\n",
            "53  03/15/2020                  81003  ...            67017     81635.312500\n",
            "54  03/16/2020                  81003  ...            67901     81635.312500\n",
            "55  03/17/2020                  81058  ...            68798     81690.726562\n",
            "56  03/18/2020                  81102  ...            69755     81735.078125\n",
            "57  03/19/2020                  81156  ...            70535     81789.476562\n",
            "58  03/20/2020                  81250  ...            71266     81884.210938\n",
            "59  03/21/2020                  81350  ...            71857     81984.968750\n",
            "60  03/22/2020                  81435  ...            72362     82070.609375\n",
            "61  03/23/2020                  81498  ...            72814     82134.101562\n",
            "62  03/24/2020                  81591  ...            73280     82227.796875\n",
            "63  03/25/2020                  81661  ...            73773     82298.343750\n",
            "64  03/26/2020                  81782  ...            74181     82420.265625\n",
            "65  03/27/2020                  81897  ...            74720     82536.148438\n",
            "66  03/28/2020                  81999  ...            75100     82638.929688\n",
            "67  03/29/2020                  82122  ...            75582     82762.875000\n",
            "68  03/30/2020                  82198  ...            75923     82839.453125\n",
            "69  03/31/2020                  82279  ...            76206     82921.078125\n",
            "70  04/01/2020                  82361  ...            76405     83003.710938\n",
            "71  04/02/2020                  82432  ...            76565     83075.234375\n",
            "72  04/03/2020                  82511  ...            76760     83154.835938\n",
            "73  04/04/2020                  82543  ...            76946     83187.070312\n",
            "74  04/05/2020                  82602  ...            77207     83246.539062\n",
            "75  04/06/2020                  82665  ...            77310     83310.015625\n",
            "76  04/07/2020                  82718  ...            77410     83363.421875\n",
            "77  04/08/2020                  82809  ...            77567     83455.117188\n",
            "78  04/09/2020                  82883  ...            77679     83529.671875\n",
            "\n",
            "[79 rows x 5 columns]\n"
          ],
          "name": "stdout"
        }
      ]
    },
    {
      "cell_type": "code",
      "metadata": {
        "id": "sMTS3B2GdpWC",
        "colab_type": "code",
        "outputId": "42ee31ea-ce12-4c60-f2ec-f57478ac929a",
        "colab": {
          "base_uri": "https://localhost:8080/",
          "height": 286
        }
      },
      "source": [
        "t1['Confirmed Deaths'].plot()"
      ],
      "execution_count": 130,
      "outputs": [
        {
          "output_type": "execute_result",
          "data": {
            "text/plain": [
              "<matplotlib.axes._subplots.AxesSubplot at 0x7f6d4b48a898>"
            ]
          },
          "metadata": {
            "tags": []
          },
          "execution_count": 130
        },
        {
          "output_type": "display_data",
          "data": {
            "image/png": "[encoded data removed]",
            "text/plain": [
              "<Figure size 432x288 with 1 Axes>"
            ]
          },
          "metadata": {
            "tags": [],
            "needs_background": "light"
          }
        }
      ]
    },
    {
      "cell_type": "code",
      "metadata": {
        "id": "py5-7Of-1HFC",
        "colab_type": "code",
        "outputId": "e27ddc59-11a9-49dc-89ca-4db45994ecc6",
        "colab": {
          "base_uri": "https://localhost:8080/",
          "height": 1000
        }
      },
      "source": [
        "# Ontario Deaths\n",
        "import numpy as np\n",
        "from numpy import array\n",
        "from keras.models import Sequential\n",
        "from keras.layers import Dense\n",
        "from keras.layers import Flatten\n",
        "from keras.layers.convolutional import Conv1D\n",
        "from keras.layers.convolutional import MaxPooling1D\n",
        "\n",
        "# split a univariate sequence into samples\n",
        "def split_sequence(sequence, n_steps):\n",
        "\tX, y = list(), list()\n",
        "\tfor i in range(len(sequence)):\n",
        "\t\t# find the end of this pattern\n",
        "\t\tend_ix = i + n_steps\n",
        "\t\t# check if we are beyond the sequence\n",
        "\t\tif end_ix > len(sequence)-1:\n",
        "\t\t\tbreak\n",
        "\t\t# gather input and output parts of the pattern\n",
        "\t\tseq_x, seq_y = sequence[i:end_ix], sequence[end_ix]\n",
        "\t\tX.append(seq_x)\n",
        "\t\ty.append(seq_y)\n",
        "\treturn array(X), array(y)\n",
        "\n",
        "# define input sequence\n",
        "#raw_seq = pd.read_csv(\"/content/drive/My Drive/Total_cases_Canada.csv\")\n",
        "# choose a number of time steps\n",
        "n_steps = 3\n",
        "# split into samples\n",
        "X, y = split_sequence(china_deaths, n_steps)\n",
        "# reshape from [samples, timesteps] into [samples, timesteps, features]\n",
        "n_features = 1\n",
        "X = X.reshape((X.shape[0], X.shape[1], n_features))\n",
        "# define model\n",
        "model = Sequential()\n",
        "model.add(Conv1D(filters=64, kernel_size=2, activation='relu', input_shape=(n_steps, n_features)))\n",
        "model.add(MaxPooling1D(pool_size=2))\n",
        "model.add(Flatten())\n",
        "model.add(Dense(50, activation='relu'))\n",
        "model.add(Dense(1))\n",
        "model.compile(optimizer='adam', loss='mse')\n",
        "# fit model\n",
        "model.fit(X, y, epochs=1000, verbose=0)\n",
        "# demonstrate prediction\n",
        "x= len(china_deaths)\n",
        "pred_val = []\n",
        "for i in range(x):\n",
        "  i=china_deaths[i]\n",
        "  x_input1=[i,i+1,i+2]\n",
        "  x_input=np.asarray(x_input1)\n",
        "  x_input = x_input.reshape((1, n_steps, n_features))\n",
        "  yhat = model.predict(x_input, verbose=1)\n",
        "  pred_val.append(yhat)\n",
        "  print(yhat)\n",
        "#x_input = array([1263, 1264, 1265])\n",
        "#x_input = x_input.reshape((1, n_steps, n_features))\n",
        "#yhat = model.predict(x_input, verbose=0)\n",
        "#print(yhat)"
      ],
      "execution_count": 131,
      "outputs": [
        {
          "output_type": "stream",
          "text": [
            "1/1 [==============================] - 0s 13ms/step\n",
            "[[32.550804]]\n",
            "1/1 [==============================] - 0s 2ms/step\n",
            "[[33.570232]]\n",
            "1/1 [==============================] - 0s 695us/step\n",
            "[[41.725685]]\n",
            "1/1 [==============================] - 0s 639us/step\n",
            "[[57.882385]]\n",
            "1/1 [==============================] - 0s 597us/step\n",
            "[[71.87737]]\n",
            "1/1 [==============================] - 0s 952us/step\n",
            "[[97.868095]]\n",
            "1/1 [==============================] - 0s 2ms/step\n",
            "[[146.85057]]\n",
            "1/1 [==============================] - 0s 617us/step\n",
            "[[148.84988]]\n",
            "1/1 [==============================] - 0s 627us/step\n",
            "[[186.8363]]\n",
            "1/1 [==============================] - 0s 606us/step\n",
            "[[228.82129]]\n",
            "1/1 [==============================] - 0s 639us/step\n",
            "[[274.80487]]\n",
            "1/1 [==============================] - 0s 627us/step\n",
            "[[376.76846]]\n",
            "1/1 [==============================] - 0s 818us/step\n",
            "[[440.74557]]\n",
            "1/1 [==============================] - 0s 807us/step\n",
            "[[506.72202]]\n",
            "1/1 [==============================] - 0s 780us/step\n",
            "[[578.6963]]\n",
            "1/1 [==============================] - 0s 504us/step\n",
            "[[648.6712]]\n",
            "1/1 [==============================] - 0s 559us/step\n",
            "[[733.6409]]\n",
            "1/1 [==============================] - 0s 663us/step\n",
            "[[820.60986]]\n",
            "1/1 [==============================] - 0s 1ms/step\n",
            "[[920.5741]]\n",
            "1/1 [==============================] - 0s 898us/step\n",
            "[[1027.536]]\n",
            "1/1 [==============================] - 0s 815us/step\n",
            "[[1127.5002]]\n",
            "1/1 [==============================] - 0s 826us/step\n",
            "[[1132.4983]]\n",
            "1/1 [==============================] - 0s 838us/step\n",
            "[[1384.4083]]\n",
            "1/1 [==============================] - 0s 858us/step\n",
            "[[1536.3541]]\n",
            "1/1 [==============================] - 0s 795us/step\n",
            "[[1678.3035]]\n",
            "1/1 [==============================] - 0s 657us/step\n",
            "[[1781.2666]]\n",
            "1/1 [==============================] - 0s 664us/step\n",
            "[[1879.2316]]\n",
            "1/1 [==============================] - 0s 662us/step\n",
            "[[2018.182]]\n",
            "1/1 [==============================] - 0s 696us/step\n",
            "[[2131.1414]]\n",
            "1/1 [==============================] - 0s 913us/step\n",
            "[[2253.098]]\n",
            "1/1 [==============================] - 0s 633us/step\n",
            "[[2253.098]]\n",
            "1/1 [==============================] - 0s 881us/step\n",
            "[[2458.025]]\n",
            "1/1 [==============================] - 0s 659us/step\n",
            "[[2460.024]]\n",
            "1/1 [==============================] - 0s 656us/step\n",
            "[[2609.97]]\n",
            "1/1 [==============================] - 0s 638us/step\n",
            "[[2679.9453]]\n",
            "1/1 [==============================] - 0s 904us/step\n",
            "[[2731.9265]]\n",
            "1/1 [==============================] - 0s 631us/step\n",
            "[[2760.916]]\n",
            "1/1 [==============================] - 0s 633us/step\n",
            "[[2804.901]]\n",
            "1/1 [==============================] - 0s 654us/step\n",
            "[[2851.884]]\n",
            "1/1 [==============================] - 0s 912us/step\n",
            "[[2886.871]]\n",
            "1/1 [==============================] - 0s 899us/step\n",
            "[[2928.8564]]\n",
            "1/1 [==============================] - 0s 861us/step\n",
            "[[2961.8445]]\n",
            "1/1 [==============================] - 0s 790us/step\n",
            "[[2997.8318]]\n",
            "1/1 [==============================] - 0s 660us/step\n",
            "[[3029.8206]]\n",
            "1/1 [==============================] - 0s 981us/step\n",
            "[[3058.8103]]\n",
            "1/1 [==============================] - 0s 660us/step\n",
            "[[3086.8005]]\n",
            "1/1 [==============================] - 0s 824us/step\n",
            "[[3114.7903]]\n",
            "1/1 [==============================] - 0s 842us/step\n",
            "[[3137.7822]]\n",
            "1/1 [==============================] - 0s 918us/step\n",
            "[[3153.7761]]\n",
            "1/1 [==============================] - 0s 664us/step\n",
            "[[3175.7688]]\n",
            "1/1 [==============================] - 0s 661us/step\n",
            "[[3186.7642]]\n",
            "1/1 [==============================] - 0s 651us/step\n",
            "[[3194.7615]]\n",
            "1/1 [==============================] - 0s 674us/step\n",
            "[[3207.7573]]\n",
            "1/1 [==============================] - 0s 668us/step\n",
            "[[3217.7537]]\n",
            "1/1 [==============================] - 0s 638us/step\n",
            "[[3231.7485]]\n",
            "1/1 [==============================] - 0s 640us/step\n",
            "[[3244.744]]\n",
            "1/1 [==============================] - 0s 644us/step\n",
            "[[3255.7395]]\n",
            "1/1 [==============================] - 0s 799us/step\n",
            "[[3263.7368]]\n",
            "1/1 [==============================] - 0s 676us/step\n",
            "[[3267.7356]]\n",
            "1/1 [==============================] - 0s 672us/step\n",
            "[[3273.7334]]\n",
            "1/1 [==============================] - 0s 1ms/step\n",
            "[[3288.7278]]\n",
            "1/1 [==============================] - 0s 768us/step\n",
            "[[3288.7278]]\n",
            "1/1 [==============================] - 0s 837us/step\n",
            "[[3295.7253]]\n",
            "1/1 [==============================] - 0s 660us/step\n",
            "[[3299.7236]]\n",
            "1/1 [==============================] - 0s 804us/step\n",
            "[[3305.7217]]\n",
            "1/1 [==============================] - 0s 1ms/step\n",
            "[[3310.7202]]\n",
            "1/1 [==============================] - 0s 806us/step\n",
            "[[3313.719]]\n",
            "1/1 [==============================] - 0s 900us/step\n",
            "[[3318.7175]]\n",
            "1/1 [==============================] - 0s 653us/step\n",
            "[[3322.716]]\n",
            "1/1 [==============================] - 0s 1ms/step\n",
            "[[3323.7156]]\n",
            "1/1 [==============================] - 0s 651us/step\n",
            "[[3330.7134]]\n",
            "1/1 [==============================] - 0s 893us/step\n",
            "[[3336.7112]]\n",
            "1/1 [==============================] - 0s 1ms/step\n",
            "[[3340.7095]]\n",
            "1/1 [==============================] - 0s 731us/step\n",
            "[[3344.7075]]\n",
            "1/1 [==============================] - 0s 834us/step\n",
            "[[3347.707]]\n",
            "1/1 [==============================] - 0s 1ms/step\n",
            "[[3349.706]]\n",
            "1/1 [==============================] - 0s 2ms/step\n",
            "[[3349.706]]\n",
            "1/1 [==============================] - 0s 756us/step\n",
            "[[3351.7056]]\n",
            "1/1 [==============================] - 0s 897us/step\n",
            "[[3353.7043]]\n"
          ],
          "name": "stdout"
        }
      ]
    },
    {
      "cell_type": "code",
      "metadata": {
        "id": "ewKOC0cwcaV0",
        "colab_type": "code",
        "colab": {}
      },
      "source": [
        "pred_val\n",
        "predict= np.concatenate((pred_val))\n",
        "Predict_cases=pd.DataFrame(predict)\n",
        "Predict_cases['Predicted Deaths']=Predict_cases\n",
        "Predict_cases.pop(0)\n",
        "Predict_cases\n",
        "#predicted_cases= Predict_cases.join(india_confirmed_cases)\n",
        "raw_seq = raw_seq.join(Predict_cases)\n",
        "raw_seq\n",
        "t2 = raw_seq"
      ],
      "execution_count": 0,
      "outputs": []
    },
    {
      "cell_type": "code",
      "metadata": {
        "id": "yv13r-INeC5N",
        "colab_type": "code",
        "outputId": "f95daf12-baf4-4a0a-e31f-e47eef12dc8e",
        "colab": {
          "base_uri": "https://localhost:8080/",
          "height": 1000
        }
      },
      "source": [
        "print(t2)"
      ],
      "execution_count": 133,
      "outputs": [
        {
          "output_type": "stream",
          "text": [
            "         Dates  China Confirmed Cases  ...  Predicted Cases  Predicted Deaths\n",
            "0   01/22/2020                    548  ...       565.428467         32.550804\n",
            "1   01/23/2020                    643  ...       661.154419         33.570232\n",
            "2   01/24/2020                    920  ...       940.271423         41.725685\n",
            "3   01/25/2020                   1406  ...      1429.985840         57.882385\n",
            "4   01/26/2020                   2075  ...      2104.098633         71.877373\n",
            "5   01/27/2020                   2877  ...      2912.228271         97.868095\n",
            "6   01/28/2020                   5509  ...      5564.344238        146.850571\n",
            "7   01/29/2020                   6087  ...      6146.760742        148.849884\n",
            "8   01/30/2020                   8141  ...      8216.458008        186.836304\n",
            "9   01/31/2020                   9802  ...      9890.154297        228.821289\n",
            "10  02/01/2020                  11891  ...     11995.119141        274.804871\n",
            "11  02/02/2020                  16630  ...     16770.337891        376.768463\n",
            "12  02/03/2020                  19716  ...     19879.921875        440.745575\n",
            "13  02/04/2020                  23707  ...     23901.421875        506.722015\n",
            "14  02/05/2020                  27440  ...     27662.955078        578.696289\n",
            "15  02/06/2020                  30587  ...     30834.003906        648.671204\n",
            "16  02/07/2020                  34110  ...     34383.933594        733.640930\n",
            "17  02/08/2020                  36814  ...     37108.597656        820.609863\n",
            "18  02/09/2020                  39829  ...     40146.640625        920.574097\n",
            "19  02/10/2020                  42354  ...     42690.937500       1027.536011\n",
            "20  02/11/2020                  44386  ...     44738.457031       1127.500244\n",
            "21  02/12/2020                  44759  ...     45114.312500       1132.498291\n",
            "22  02/13/2020                  59895  ...     60366.003906       1384.408325\n",
            "23  02/14/2020                  66358  ...     66878.382812       1536.354126\n",
            "24  02/15/2020                  68413  ...     68949.093750       1678.303467\n",
            "25  02/16/2020                  70513  ...     71065.132812       1781.266602\n",
            "26  02/17/2020                  72434  ...     73000.820312       1879.231567\n",
            "27  02/18/2020                  74211  ...     74791.406250       2018.182007\n",
            "28  02/19/2020                  74619  ...     75202.531250       2131.141357\n",
            "29  02/20/2020                  75077  ...     75664.023438       2253.097900\n",
            "30  02/21/2020                  75550  ...     76140.640625       2253.097900\n",
            "31  02/22/2020                  77001  ...     77602.726562       2458.024902\n",
            "32  02/23/2020                  77022  ...     77623.890625       2460.023926\n",
            "33  02/24/2020                  77241  ...     77844.562500       2609.969971\n",
            "34  02/25/2020                  77754  ...     78361.484375       2679.945312\n",
            "35  02/26/2020                  78166  ...     78776.632812       2731.926514\n",
            "36  02/27/2020                  78600  ...     79213.945312       2760.916016\n",
            "37  02/28/2020                  78928  ...     79544.460938       2804.900879\n",
            "38  02/29/2020                  79356  ...     79975.726562       2851.884033\n",
            "39  03/01/2020                  79932  ...     80556.125000       2886.871094\n",
            "40  03/02/2020                  80136  ...     80761.679688       2928.856445\n",
            "41  03/03/2020                  80261  ...     80887.625000       2961.844482\n",
            "42  03/04/2020                  80386  ...     81013.609375       2997.831787\n",
            "43  03/05/2020                  80537  ...     81165.750000       3029.820557\n",
            "44  03/06/2020                  80690  ...     81319.921875       3058.810303\n",
            "45  03/07/2020                  80770  ...     81400.531250       3086.800537\n",
            "46  03/08/2020                  80823  ...     81453.921875       3114.790283\n",
            "47  03/09/2020                  80860  ...     81491.218750       3137.782227\n",
            "48  03/10/2020                  80887  ...     81518.429688       3153.776123\n",
            "49  03/11/2020                  80921  ...     81552.679688       3175.768799\n",
            "50  03/12/2020                  80932  ...     81563.765625       3186.764160\n",
            "51  03/13/2020                  80945  ...     81576.875000       3194.761475\n",
            "52  03/14/2020                  80977  ...     81609.117188       3207.757324\n",
            "53  03/15/2020                  81003  ...     81635.312500       3217.753662\n",
            "54  03/16/2020                  81003  ...     81635.312500       3231.748535\n",
            "55  03/17/2020                  81058  ...     81690.726562       3244.743896\n",
            "56  03/18/2020                  81102  ...     81735.078125       3255.739502\n",
            "57  03/19/2020                  81156  ...     81789.476562       3263.736816\n",
            "58  03/20/2020                  81250  ...     81884.210938       3267.735596\n",
            "59  03/21/2020                  81350  ...     81984.968750       3273.733398\n",
            "60  03/22/2020                  81435  ...     82070.609375       3288.727783\n",
            "61  03/23/2020                  81498  ...     82134.101562       3288.727783\n",
            "62  03/24/2020                  81591  ...     82227.796875       3295.725342\n",
            "63  03/25/2020                  81661  ...     82298.343750       3299.723633\n",
            "64  03/26/2020                  81782  ...     82420.265625       3305.721680\n",
            "65  03/27/2020                  81897  ...     82536.148438       3310.720215\n",
            "66  03/28/2020                  81999  ...     82638.929688       3313.718994\n",
            "67  03/29/2020                  82122  ...     82762.875000       3318.717529\n",
            "68  03/30/2020                  82198  ...     82839.453125       3322.716064\n",
            "69  03/31/2020                  82279  ...     82921.078125       3323.715576\n",
            "70  04/01/2020                  82361  ...     83003.710938       3330.713379\n",
            "71  04/02/2020                  82432  ...     83075.234375       3336.711182\n",
            "72  04/03/2020                  82511  ...     83154.835938       3340.709473\n",
            "73  04/04/2020                  82543  ...     83187.070312       3344.707520\n",
            "74  04/05/2020                  82602  ...     83246.539062       3347.707031\n",
            "75  04/06/2020                  82665  ...     83310.015625       3349.706055\n",
            "76  04/07/2020                  82718  ...     83363.421875       3349.706055\n",
            "77  04/08/2020                  82809  ...     83455.117188       3351.705566\n",
            "78  04/09/2020                  82883  ...     83529.671875       3353.704346\n",
            "\n",
            "[79 rows x 6 columns]\n"
          ],
          "name": "stdout"
        }
      ]
    },
    {
      "cell_type": "code",
      "metadata": {
        "id": "0Vaone0bePOG",
        "colab_type": "code",
        "outputId": "fc11d494-26a4-45ab-be65-ee2531ca0a4e",
        "colab": {
          "base_uri": "https://localhost:8080/",
          "height": 359
        }
      },
      "source": [
        "t2.tail(10)"
      ],
      "execution_count": 134,
      "outputs": [
        {
          "output_type": "execute_result",
          "data": {
            "text/html": [
              "<div>\n",
              "<style scoped>\n",
              "    .dataframe tbody tr th:only-of-type {\n",
              "        vertical-align: middle;\n",
              "    }\n",
              "\n",
              "    .dataframe tbody tr th {\n",
              "        vertical-align: top;\n",
              "    }\n",
              "\n",
              "    .dataframe thead th {\n",
              "        text-align: right;\n",
              "    }\n",
              "</style>\n",
              "<table border=\"1\" class=\"dataframe\">\n",
              "  <thead>\n",
              "    <tr style=\"text-align: right;\">\n",
              "      <th></th>\n",
              "      <th>Dates</th>\n",
              "      <th>China Confirmed Cases</th>\n",
              "      <th>Confirmed Deaths</th>\n",
              "      <th>China Recovered</th>\n",
              "      <th>Predicted Cases</th>\n",
              "      <th>Predicted Deaths</th>\n",
              "    </tr>\n",
              "  </thead>\n",
              "  <tbody>\n",
              "    <tr>\n",
              "      <th>69</th>\n",
              "      <td>03/31/2020</td>\n",
              "      <td>82279</td>\n",
              "      <td>3309</td>\n",
              "      <td>76206</td>\n",
              "      <td>82921.078125</td>\n",
              "      <td>3323.715576</td>\n",
              "    </tr>\n",
              "    <tr>\n",
              "      <th>70</th>\n",
              "      <td>04/01/2020</td>\n",
              "      <td>82361</td>\n",
              "      <td>3316</td>\n",
              "      <td>76405</td>\n",
              "      <td>83003.710938</td>\n",
              "      <td>3330.713379</td>\n",
              "    </tr>\n",
              "    <tr>\n",
              "      <th>71</th>\n",
              "      <td>04/02/2020</td>\n",
              "      <td>82432</td>\n",
              "      <td>3322</td>\n",
              "      <td>76565</td>\n",
              "      <td>83075.234375</td>\n",
              "      <td>3336.711182</td>\n",
              "    </tr>\n",
              "    <tr>\n",
              "      <th>72</th>\n",
              "      <td>04/03/2020</td>\n",
              "      <td>82511</td>\n",
              "      <td>3326</td>\n",
              "      <td>76760</td>\n",
              "      <td>83154.835938</td>\n",
              "      <td>3340.709473</td>\n",
              "    </tr>\n",
              "    <tr>\n",
              "      <th>73</th>\n",
              "      <td>04/04/2020</td>\n",
              "      <td>82543</td>\n",
              "      <td>3330</td>\n",
              "      <td>76946</td>\n",
              "      <td>83187.070312</td>\n",
              "      <td>3344.707520</td>\n",
              "    </tr>\n",
              "    <tr>\n",
              "      <th>74</th>\n",
              "      <td>04/05/2020</td>\n",
              "      <td>82602</td>\n",
              "      <td>3333</td>\n",
              "      <td>77207</td>\n",
              "      <td>83246.539062</td>\n",
              "      <td>3347.707031</td>\n",
              "    </tr>\n",
              "    <tr>\n",
              "      <th>75</th>\n",
              "      <td>04/06/2020</td>\n",
              "      <td>82665</td>\n",
              "      <td>3335</td>\n",
              "      <td>77310</td>\n",
              "      <td>83310.015625</td>\n",
              "      <td>3349.706055</td>\n",
              "    </tr>\n",
              "    <tr>\n",
              "      <th>76</th>\n",
              "      <td>04/07/2020</td>\n",
              "      <td>82718</td>\n",
              "      <td>3335</td>\n",
              "      <td>77410</td>\n",
              "      <td>83363.421875</td>\n",
              "      <td>3349.706055</td>\n",
              "    </tr>\n",
              "    <tr>\n",
              "      <th>77</th>\n",
              "      <td>04/08/2020</td>\n",
              "      <td>82809</td>\n",
              "      <td>3337</td>\n",
              "      <td>77567</td>\n",
              "      <td>83455.117188</td>\n",
              "      <td>3351.705566</td>\n",
              "    </tr>\n",
              "    <tr>\n",
              "      <th>78</th>\n",
              "      <td>04/09/2020</td>\n",
              "      <td>82883</td>\n",
              "      <td>3339</td>\n",
              "      <td>77679</td>\n",
              "      <td>83529.671875</td>\n",
              "      <td>3353.704346</td>\n",
              "    </tr>\n",
              "  </tbody>\n",
              "</table>\n",
              "</div>"
            ],
            "text/plain": [
              "         Dates  China Confirmed Cases  ...  Predicted Cases  Predicted Deaths\n",
              "69  03/31/2020                  82279  ...     82921.078125       3323.715576\n",
              "70  04/01/2020                  82361  ...     83003.710938       3330.713379\n",
              "71  04/02/2020                  82432  ...     83075.234375       3336.711182\n",
              "72  04/03/2020                  82511  ...     83154.835938       3340.709473\n",
              "73  04/04/2020                  82543  ...     83187.070312       3344.707520\n",
              "74  04/05/2020                  82602  ...     83246.539062       3347.707031\n",
              "75  04/06/2020                  82665  ...     83310.015625       3349.706055\n",
              "76  04/07/2020                  82718  ...     83363.421875       3349.706055\n",
              "77  04/08/2020                  82809  ...     83455.117188       3351.705566\n",
              "78  04/09/2020                  82883  ...     83529.671875       3353.704346\n",
              "\n",
              "[10 rows x 6 columns]"
            ]
          },
          "metadata": {
            "tags": []
          },
          "execution_count": 134
        }
      ]
    },
    {
      "cell_type": "code",
      "metadata": {
        "id": "nZaVWJIneoeH",
        "colab_type": "code",
        "outputId": "59340e14-80a2-40de-f05d-d3709973d967",
        "colab": {
          "base_uri": "https://localhost:8080/",
          "height": 282
        }
      },
      "source": [
        "t2.plot()"
      ],
      "execution_count": 135,
      "outputs": [
        {
          "output_type": "execute_result",
          "data": {
            "text/plain": [
              "<matplotlib.axes._subplots.AxesSubplot at 0x7f6d4b2905c0>"
            ]
          },
          "metadata": {
            "tags": []
          },
          "execution_count": 135
        },
        {
          "output_type": "display_data",
          "data": {
            "image/png": "[encoded data removed]",
            "text/plain": [
              "<Figure size 432x288 with 1 Axes>"
            ]
          },
          "metadata": {
            "tags": [],
            "needs_background": "light"
          }
        }
      ]
    },
    {
      "cell_type": "code",
      "metadata": {
        "id": "tpobDpR62bxb",
        "colab_type": "code",
        "outputId": "2ba681e5-fab3-4150-8ad2-a932600bd35e",
        "colab": {
          "base_uri": "https://localhost:8080/",
          "height": 1000
        }
      },
      "source": [
        "# china Recovered\n",
        "import numpy as np\n",
        "from numpy import array\n",
        "from keras.models import Sequential\n",
        "from keras.layers import Dense\n",
        "from keras.layers import Flatten\n",
        "from keras.layers.convolutional import Conv1D\n",
        "from keras.layers.convolutional import MaxPooling1D\n",
        "\n",
        "# split a univariate sequence into samples\n",
        "def split_sequence(sequence, n_steps):\n",
        "\tX, y = list(), list()\n",
        "\tfor i in range(len(sequence)):\n",
        "\t\t# find the end of this pattern\n",
        "\t\tend_ix = i + n_steps\n",
        "\t\t# check if we are beyond the sequence\n",
        "\t\tif end_ix > len(sequence)-1:\n",
        "\t\t\tbreak\n",
        "\t\t# gather input and output parts of the pattern\n",
        "\t\tseq_x, seq_y = sequence[i:end_ix], sequence[end_ix]\n",
        "\t\tX.append(seq_x)\n",
        "\t\ty.append(seq_y)\n",
        "\treturn array(X), array(y)\n",
        "\n",
        "# define input sequence\n",
        "#raw_seq = pd.read_csv(\"/content/drive/My Drive/Total_cases_Canada.csv\")\n",
        "# choose a number of time steps\n",
        "n_steps = 3\n",
        "# split into samples\n",
        "X, y = split_sequence(china_recovered, n_steps)\n",
        "# reshape from [samples, timesteps] into [samples, timesteps, features]\n",
        "n_features = 1\n",
        "X = X.reshape((X.shape[0], X.shape[1], n_features))\n",
        "# define model\n",
        "model = Sequential()\n",
        "model.add(Conv1D(filters=64, kernel_size=2, activation='relu', input_shape=(n_steps, n_features)))\n",
        "model.add(MaxPooling1D(pool_size=2))\n",
        "model.add(Flatten())\n",
        "model.add(Dense(50, activation='relu'))\n",
        "model.add(Dense(1))\n",
        "model.compile(optimizer='adam', loss='mse')\n",
        "# fit model\n",
        "model.fit(X, y, epochs=1000, verbose=0)\n",
        "# demonstrate prediction\n",
        "x= len(china_recovered)\n",
        "pred_val = []\n",
        "for i in range(x):\n",
        "  i=china_recovered[i]\n",
        "  x_input1=[i,i+1,i+2]\n",
        "  x_input=np.asarray(x_input1)\n",
        "  x_input = x_input.reshape((1, n_steps, n_features))\n",
        "  yhat = model.predict(x_input, verbose=1)\n",
        "  pred_val.append(yhat)\n",
        "  print(yhat)\n",
        "#x_input = array([1263, 1264, 1265])\n",
        "#x_input = x_input.reshape((1, n_steps, n_features))\n",
        "#yhat = model.predict(x_input, verbose=0)\n",
        "#print(yhat)"
      ],
      "execution_count": 136,
      "outputs": [
        {
          "output_type": "stream",
          "text": [
            "1/1 [==============================] - 0s 11ms/step\n",
            "[[42.20529]]\n",
            "1/1 [==============================] - 0s 4ms/step\n",
            "[[44.245964]]\n",
            "1/1 [==============================] - 0s 3ms/step\n",
            "[[50.367958]]\n",
            "1/1 [==============================] - 0s 3ms/step\n",
            "[[53.427784]]\n",
            "1/1 [==============================] - 0s 834us/step\n",
            "[[63.539764]]\n",
            "1/1 [==============================] - 0s 1ms/step\n",
            "[[72.53114]]\n",
            "1/1 [==============================] - 0s 715us/step\n",
            "[[115.489975]]\n",
            "1/1 [==============================] - 0s 801us/step\n",
            "[[134.47177]]\n",
            "1/1 [==============================] - 0s 825us/step\n",
            "[[149.4574]]\n",
            "1/1 [==============================] - 0s 1ms/step\n",
            "[[228.38177]]\n",
            "1/1 [==============================] - 0s 995us/step\n",
            "[[289.32336]]\n",
            "1/1 [==============================] - 0s 1ms/step\n",
            "[[477.1433]]\n",
            "1/1 [==============================] - 0s 891us/step\n",
            "[[627.9987]]\n",
            "1/1 [==============================] - 0s 774us/step\n",
            "[[856.7794]]\n",
            "1/1 [==============================] - 0s 711us/step\n",
            "[[1128.519]]\n",
            "1/1 [==============================] - 0s 1ms/step\n",
            "[[1490.1722]]\n",
            "1/1 [==============================] - 0s 459us/step\n",
            "[[2011.6724]]\n",
            "1/1 [==============================] - 0s 609us/step\n",
            "[[2608.1008]]\n",
            "1/1 [==============================] - 0s 530us/step\n",
            "[[3230.9814]]\n",
            "1/1 [==============================] - 0s 921us/step\n",
            "[[3930.575]]\n",
            "1/1 [==============================] - 0s 530us/step\n",
            "[[4650.229]]\n",
            "1/1 [==============================] - 0s 484us/step\n",
            "[[5097.2563]]\n",
            "1/1 [==============================] - 0s 528us/step\n",
            "[[6234.8726]]\n",
            "1/1 [==============================] - 0s 627us/step\n",
            "[[7998.9277]]\n",
            "1/1 [==============================] - 0s 1ms/step\n",
            "[[9322.971]]\n",
            "1/1 [==============================] - 0s 541us/step\n",
            "[[10783.329]]\n",
            "1/1 [==============================] - 0s 485us/step\n",
            "[[12494.264]]\n",
            "1/1 [==============================] - 0s 569us/step\n",
            "[[14242.281]]\n",
            "1/1 [==============================] - 0s 640us/step\n",
            "[[16002.328]]\n",
            "1/1 [==============================] - 0s 645us/step\n",
            "[[18059.059]]\n",
            "1/1 [==============================] - 0s 585us/step\n",
            "[[18750.65]]\n",
            "1/1 [==============================] - 0s 456us/step\n",
            "[[22754.852]]\n",
            "1/1 [==============================] - 0s 533us/step\n",
            "[[23243.979]]\n",
            "1/1 [==============================] - 0s 657us/step\n",
            "[[25076.191]]\n",
            "1/1 [==============================] - 0s 894us/step\n",
            "[[27743.324]]\n",
            "1/1 [==============================] - 0s 895us/step\n",
            "[[30156.877]]\n",
            "1/1 [==============================] - 0s 504us/step\n",
            "[[33009.43]]\n",
            "1/1 [==============================] - 0s 532us/step\n",
            "[[36416.27]]\n",
            "1/1 [==============================] - 0s 591us/step\n",
            "[[39414.156]]\n",
            "1/1 [==============================] - 0s 629us/step\n",
            "[[42262.707]]\n",
            "1/1 [==============================] - 0s 560us/step\n",
            "[[44960.91]]\n",
            "1/1 [==============================] - 0s 461us/step\n",
            "[[47562.895]]\n",
            "1/1 [==============================] - 0s 748us/step\n",
            "[[50119.773]]\n",
            "1/1 [==============================] - 0s 655us/step\n",
            "[[52416.047]]\n",
            "1/1 [==============================] - 0s 678us/step\n",
            "[[54071.86]]\n",
            "1/1 [==============================] - 0s 768us/step\n",
            "[[55670.53]]\n",
            "1/1 [==============================] - 0s 635us/step\n",
            "[[57523.797]]\n",
            "1/1 [==============================] - 0s 627us/step\n",
            "[[58943.055]]\n",
            "1/1 [==============================] - 0s 735us/step\n",
            "[[60323.23]]\n",
            "1/1 [==============================] - 0s 789us/step\n",
            "[[61789.6]]\n",
            "1/1 [==============================] - 0s 659us/step\n",
            "[[63049.5]]\n",
            "1/1 [==============================] - 0s 663us/step\n",
            "[[64347.49]]\n",
            "1/1 [==============================] - 0s 635us/step\n",
            "[[65814.85]]\n",
            "1/1 [==============================] - 0s 645us/step\n",
            "[[67174.99]]\n",
            "1/1 [==============================] - 0s 774us/step\n",
            "[[68061.02]]\n",
            "1/1 [==============================] - 0s 618us/step\n",
            "[[68960.09]]\n",
            "1/1 [==============================] - 0s 632us/step\n",
            "[[69919.3]]\n",
            "1/1 [==============================] - 0s 659us/step\n",
            "[[70701.086]]\n",
            "1/1 [==============================] - 0s 624us/step\n",
            "[[71433.77]]\n",
            "1/1 [==============================] - 0s 856us/step\n",
            "[[72026.14]]\n",
            "1/1 [==============================] - 0s 667us/step\n",
            "[[72532.31]]\n",
            "1/1 [==============================] - 0s 717us/step\n",
            "[[72985.34]]\n",
            "1/1 [==============================] - 0s 758us/step\n",
            "[[73452.414]]\n",
            "1/1 [==============================] - 0s 775us/step\n",
            "[[73946.555]]\n",
            "1/1 [==============================] - 0s 864us/step\n",
            "[[74355.51]]\n",
            "1/1 [==============================] - 0s 734us/step\n",
            "[[74895.734]]\n",
            "1/1 [==============================] - 0s 664us/step\n",
            "[[75276.61]]\n",
            "1/1 [==============================] - 0s 681us/step\n",
            "[[75759.72]]\n",
            "1/1 [==============================] - 0s 673us/step\n",
            "[[76101.51]]\n",
            "1/1 [==============================] - 0s 635us/step\n",
            "[[76385.164]]\n",
            "1/1 [==============================] - 0s 641us/step\n",
            "[[76584.625]]\n",
            "1/1 [==============================] - 0s 800us/step\n",
            "[[76744.984]]\n",
            "1/1 [==============================] - 0s 2ms/step\n",
            "[[76940.44]]\n",
            "1/1 [==============================] - 0s 660us/step\n",
            "[[77126.875]]\n",
            "1/1 [==============================] - 0s 702us/step\n",
            "[[77388.47]]\n",
            "1/1 [==============================] - 0s 656us/step\n",
            "[[77491.71]]\n",
            "1/1 [==============================] - 0s 688us/step\n",
            "[[77591.945]]\n",
            "1/1 [==============================] - 0s 659us/step\n",
            "[[77749.29]]\n",
            "1/1 [==============================] - 0s 642us/step\n",
            "[[77861.55]]\n"
          ],
          "name": "stdout"
        }
      ]
    },
    {
      "cell_type": "code",
      "metadata": {
        "id": "85qj4h_1vJ6V",
        "colab_type": "code",
        "colab": {}
      },
      "source": [
        "pred_val\n",
        "predict= np.concatenate((pred_val))\n",
        "Predict_cases=pd.DataFrame(predict)\n",
        "Predict_cases['Predicted Recovered']=Predict_cases\n",
        "Predict_cases.pop(0)\n",
        "Predict_cases\n",
        "#predicted_cases= Predict_cases.join(india_confirmed_cases)\n",
        "raw_seq = raw_seq.join(Predict_cases)\n",
        "raw_seq\n",
        "t3 = raw_seq"
      ],
      "execution_count": 0,
      "outputs": []
    },
    {
      "cell_type": "code",
      "metadata": {
        "id": "n3H_-alfirYc",
        "colab_type": "code",
        "outputId": "1a002b1a-ff3b-4637-c218-81d9a0ab6a91",
        "colab": {
          "base_uri": "https://localhost:8080/",
          "height": 1000
        }
      },
      "source": [
        "print(t3)"
      ],
      "execution_count": 138,
      "outputs": [
        {
          "output_type": "stream",
          "text": [
            "         Dates  China Confirmed Cases  ...  Predicted Deaths  Predicted Recovered\n",
            "0   01/22/2020                    548  ...         32.550804            42.205292\n",
            "1   01/23/2020                    643  ...         33.570232            44.245964\n",
            "2   01/24/2020                    920  ...         41.725685            50.367958\n",
            "3   01/25/2020                   1406  ...         57.882385            53.427784\n",
            "4   01/26/2020                   2075  ...         71.877373            63.539764\n",
            "5   01/27/2020                   2877  ...         97.868095            72.531143\n",
            "6   01/28/2020                   5509  ...        146.850571           115.489975\n",
            "7   01/29/2020                   6087  ...        148.849884           134.471771\n",
            "8   01/30/2020                   8141  ...        186.836304           149.457397\n",
            "9   01/31/2020                   9802  ...        228.821289           228.381775\n",
            "10  02/01/2020                  11891  ...        274.804871           289.323364\n",
            "11  02/02/2020                  16630  ...        376.768463           477.143311\n",
            "12  02/03/2020                  19716  ...        440.745575           627.998718\n",
            "13  02/04/2020                  23707  ...        506.722015           856.779419\n",
            "14  02/05/2020                  27440  ...        578.696289          1128.519043\n",
            "15  02/06/2020                  30587  ...        648.671204          1490.172241\n",
            "16  02/07/2020                  34110  ...        733.640930          2011.672363\n",
            "17  02/08/2020                  36814  ...        820.609863          2608.100830\n",
            "18  02/09/2020                  39829  ...        920.574097          3230.981445\n",
            "19  02/10/2020                  42354  ...       1027.536011          3930.574951\n",
            "20  02/11/2020                  44386  ...       1127.500244          4650.229004\n",
            "21  02/12/2020                  44759  ...       1132.498291          5097.256348\n",
            "22  02/13/2020                  59895  ...       1384.408325          6234.872559\n",
            "23  02/14/2020                  66358  ...       1536.354126          7998.927734\n",
            "24  02/15/2020                  68413  ...       1678.303467          9322.970703\n",
            "25  02/16/2020                  70513  ...       1781.266602         10783.329102\n",
            "26  02/17/2020                  72434  ...       1879.231567         12494.263672\n",
            "27  02/18/2020                  74211  ...       2018.182007         14242.281250\n",
            "28  02/19/2020                  74619  ...       2131.141357         16002.328125\n",
            "29  02/20/2020                  75077  ...       2253.097900         18059.058594\n",
            "30  02/21/2020                  75550  ...       2253.097900         18750.650391\n",
            "31  02/22/2020                  77001  ...       2458.024902         22754.851562\n",
            "32  02/23/2020                  77022  ...       2460.023926         23243.978516\n",
            "33  02/24/2020                  77241  ...       2609.969971         25076.191406\n",
            "34  02/25/2020                  77754  ...       2679.945312         27743.324219\n",
            "35  02/26/2020                  78166  ...       2731.926514         30156.876953\n",
            "36  02/27/2020                  78600  ...       2760.916016         33009.429688\n",
            "37  02/28/2020                  78928  ...       2804.900879         36416.269531\n",
            "38  02/29/2020                  79356  ...       2851.884033         39414.156250\n",
            "39  03/01/2020                  79932  ...       2886.871094         42262.707031\n",
            "40  03/02/2020                  80136  ...       2928.856445         44960.910156\n",
            "41  03/03/2020                  80261  ...       2961.844482         47562.894531\n",
            "42  03/04/2020                  80386  ...       2997.831787         50119.773438\n",
            "43  03/05/2020                  80537  ...       3029.820557         52416.046875\n",
            "44  03/06/2020                  80690  ...       3058.810303         54071.859375\n",
            "45  03/07/2020                  80770  ...       3086.800537         55670.531250\n",
            "46  03/08/2020                  80823  ...       3114.790283         57523.796875\n",
            "47  03/09/2020                  80860  ...       3137.782227         58943.054688\n",
            "48  03/10/2020                  80887  ...       3153.776123         60323.230469\n",
            "49  03/11/2020                  80921  ...       3175.768799         61789.601562\n",
            "50  03/12/2020                  80932  ...       3186.764160         63049.500000\n",
            "51  03/13/2020                  80945  ...       3194.761475         64347.488281\n",
            "52  03/14/2020                  80977  ...       3207.757324         65814.851562\n",
            "53  03/15/2020                  81003  ...       3217.753662         67174.992188\n",
            "54  03/16/2020                  81003  ...       3231.748535         68061.023438\n",
            "55  03/17/2020                  81058  ...       3244.743896         68960.093750\n",
            "56  03/18/2020                  81102  ...       3255.739502         69919.296875\n",
            "57  03/19/2020                  81156  ...       3263.736816         70701.085938\n",
            "58  03/20/2020                  81250  ...       3267.735596         71433.773438\n",
            "59  03/21/2020                  81350  ...       3273.733398         72026.140625\n",
            "60  03/22/2020                  81435  ...       3288.727783         72532.312500\n",
            "61  03/23/2020                  81498  ...       3288.727783         72985.343750\n",
            "62  03/24/2020                  81591  ...       3295.725342         73452.414062\n",
            "63  03/25/2020                  81661  ...       3299.723633         73946.554688\n",
            "64  03/26/2020                  81782  ...       3305.721680         74355.507812\n",
            "65  03/27/2020                  81897  ...       3310.720215         74895.734375\n",
            "66  03/28/2020                  81999  ...       3313.718994         75276.609375\n",
            "67  03/29/2020                  82122  ...       3318.717529         75759.718750\n",
            "68  03/30/2020                  82198  ...       3322.716064         76101.507812\n",
            "69  03/31/2020                  82279  ...       3323.715576         76385.164062\n",
            "70  04/01/2020                  82361  ...       3330.713379         76584.625000\n",
            "71  04/02/2020                  82432  ...       3336.711182         76744.984375\n",
            "72  04/03/2020                  82511  ...       3340.709473         76940.437500\n",
            "73  04/04/2020                  82543  ...       3344.707520         77126.875000\n",
            "74  04/05/2020                  82602  ...       3347.707031         77388.468750\n",
            "75  04/06/2020                  82665  ...       3349.706055         77491.710938\n",
            "76  04/07/2020                  82718  ...       3349.706055         77591.945312\n",
            "77  04/08/2020                  82809  ...       3351.705566         77749.289062\n",
            "78  04/09/2020                  82883  ...       3353.704346         77861.546875\n",
            "\n",
            "[79 rows x 7 columns]\n"
          ],
          "name": "stdout"
        }
      ]
    },
    {
      "cell_type": "code",
      "metadata": {
        "id": "6Dlpt_O7iwiJ",
        "colab_type": "code",
        "outputId": "6f3ac1b0-e7d8-42fc-98c1-b74991a08d57",
        "colab": {
          "base_uri": "https://localhost:8080/",
          "height": 359
        }
      },
      "source": [
        "t3.tail(10)"
      ],
      "execution_count": 139,
      "outputs": [
        {
          "output_type": "execute_result",
          "data": {
            "text/html": [
              "<div>\n",
              "<style scoped>\n",
              "    .dataframe tbody tr th:only-of-type {\n",
              "        vertical-align: middle;\n",
              "    }\n",
              "\n",
              "    .dataframe tbody tr th {\n",
              "        vertical-align: top;\n",
              "    }\n",
              "\n",
              "    .dataframe thead th {\n",
              "        text-align: right;\n",
              "    }\n",
              "</style>\n",
              "<table border=\"1\" class=\"dataframe\">\n",
              "  <thead>\n",
              "    <tr style=\"text-align: right;\">\n",
              "      <th></th>\n",
              "      <th>Dates</th>\n",
              "      <th>China Confirmed Cases</th>\n",
              "      <th>Confirmed Deaths</th>\n",
              "      <th>China Recovered</th>\n",
              "      <th>Predicted Cases</th>\n",
              "      <th>Predicted Deaths</th>\n",
              "      <th>Predicted Recovered</th>\n",
              "    </tr>\n",
              "  </thead>\n",
              "  <tbody>\n",
              "    <tr>\n",
              "      <th>69</th>\n",
              "      <td>03/31/2020</td>\n",
              "      <td>82279</td>\n",
              "      <td>3309</td>\n",
              "      <td>76206</td>\n",
              "      <td>82921.078125</td>\n",
              "      <td>3323.715576</td>\n",
              "      <td>76385.164062</td>\n",
              "    </tr>\n",
              "    <tr>\n",
              "      <th>70</th>\n",
              "      <td>04/01/2020</td>\n",
              "      <td>82361</td>\n",
              "      <td>3316</td>\n",
              "      <td>76405</td>\n",
              "      <td>83003.710938</td>\n",
              "      <td>3330.713379</td>\n",
              "      <td>76584.625000</td>\n",
              "    </tr>\n",
              "    <tr>\n",
              "      <th>71</th>\n",
              "      <td>04/02/2020</td>\n",
              "      <td>82432</td>\n",
              "      <td>3322</td>\n",
              "      <td>76565</td>\n",
              "      <td>83075.234375</td>\n",
              "      <td>3336.711182</td>\n",
              "      <td>76744.984375</td>\n",
              "    </tr>\n",
              "    <tr>\n",
              "      <th>72</th>\n",
              "      <td>04/03/2020</td>\n",
              "      <td>82511</td>\n",
              "      <td>3326</td>\n",
              "      <td>76760</td>\n",
              "      <td>83154.835938</td>\n",
              "      <td>3340.709473</td>\n",
              "      <td>76940.437500</td>\n",
              "    </tr>\n",
              "    <tr>\n",
              "      <th>73</th>\n",
              "      <td>04/04/2020</td>\n",
              "      <td>82543</td>\n",
              "      <td>3330</td>\n",
              "      <td>76946</td>\n",
              "      <td>83187.070312</td>\n",
              "      <td>3344.707520</td>\n",
              "      <td>77126.875000</td>\n",
              "    </tr>\n",
              "    <tr>\n",
              "      <th>74</th>\n",
              "      <td>04/05/2020</td>\n",
              "      <td>82602</td>\n",
              "      <td>3333</td>\n",
              "      <td>77207</td>\n",
              "      <td>83246.539062</td>\n",
              "      <td>3347.707031</td>\n",
              "      <td>77388.468750</td>\n",
              "    </tr>\n",
              "    <tr>\n",
              "      <th>75</th>\n",
              "      <td>04/06/2020</td>\n",
              "      <td>82665</td>\n",
              "      <td>3335</td>\n",
              "      <td>77310</td>\n",
              "      <td>83310.015625</td>\n",
              "      <td>3349.706055</td>\n",
              "      <td>77491.710938</td>\n",
              "    </tr>\n",
              "    <tr>\n",
              "      <th>76</th>\n",
              "      <td>04/07/2020</td>\n",
              "      <td>82718</td>\n",
              "      <td>3335</td>\n",
              "      <td>77410</td>\n",
              "      <td>83363.421875</td>\n",
              "      <td>3349.706055</td>\n",
              "      <td>77591.945312</td>\n",
              "    </tr>\n",
              "    <tr>\n",
              "      <th>77</th>\n",
              "      <td>04/08/2020</td>\n",
              "      <td>82809</td>\n",
              "      <td>3337</td>\n",
              "      <td>77567</td>\n",
              "      <td>83455.117188</td>\n",
              "      <td>3351.705566</td>\n",
              "      <td>77749.289062</td>\n",
              "    </tr>\n",
              "    <tr>\n",
              "      <th>78</th>\n",
              "      <td>04/09/2020</td>\n",
              "      <td>82883</td>\n",
              "      <td>3339</td>\n",
              "      <td>77679</td>\n",
              "      <td>83529.671875</td>\n",
              "      <td>3353.704346</td>\n",
              "      <td>77861.546875</td>\n",
              "    </tr>\n",
              "  </tbody>\n",
              "</table>\n",
              "</div>"
            ],
            "text/plain": [
              "         Dates  China Confirmed Cases  ...  Predicted Deaths  Predicted Recovered\n",
              "69  03/31/2020                  82279  ...       3323.715576         76385.164062\n",
              "70  04/01/2020                  82361  ...       3330.713379         76584.625000\n",
              "71  04/02/2020                  82432  ...       3336.711182         76744.984375\n",
              "72  04/03/2020                  82511  ...       3340.709473         76940.437500\n",
              "73  04/04/2020                  82543  ...       3344.707520         77126.875000\n",
              "74  04/05/2020                  82602  ...       3347.707031         77388.468750\n",
              "75  04/06/2020                  82665  ...       3349.706055         77491.710938\n",
              "76  04/07/2020                  82718  ...       3349.706055         77591.945312\n",
              "77  04/08/2020                  82809  ...       3351.705566         77749.289062\n",
              "78  04/09/2020                  82883  ...       3353.704346         77861.546875\n",
              "\n",
              "[10 rows x 7 columns]"
            ]
          },
          "metadata": {
            "tags": []
          },
          "execution_count": 139
        }
      ]
    },
    {
      "cell_type": "code",
      "metadata": {
        "id": "SZY4BCvxjAZL",
        "colab_type": "code",
        "outputId": "beda7741-a13f-4f65-b6d3-355b2ca95f70",
        "colab": {
          "base_uri": "https://localhost:8080/",
          "height": 282
        }
      },
      "source": [
        "t3.plot()"
      ],
      "execution_count": 140,
      "outputs": [
        {
          "output_type": "execute_result",
          "data": {
            "text/plain": [
              "<matplotlib.axes._subplots.AxesSubplot at 0x7f6d592657f0>"
            ]
          },
          "metadata": {
            "tags": []
          },
          "execution_count": 140
        },
        {
          "output_type": "display_data",
          "data": {
            "image/png": "[encoded data removed]",
            "text/plain": [
              "<Figure size 432x288 with 1 Axes>"
            ]
          },
          "metadata": {
            "tags": [],
            "needs_background": "light"
          }
        }
      ]
    },
    {
      "cell_type": "code",
      "metadata": {
        "id": "a6nk475f2zu2",
        "colab_type": "code",
        "colab": {}
      },
      "source": [
        "t3.to_csv (r'/content/drive/My Drive/china_og_preds.csv', index = False, header=True)"
      ],
      "execution_count": 0,
      "outputs": []
    },
    {
      "cell_type": "code",
      "metadata": {
        "id": "IjWFsjp42cNH",
        "colab_type": "code",
        "outputId": "18ccc54f-1b72-4750-b724-62e5ee0dfae8",
        "colab": {
          "base_uri": "https://localhost:8080/",
          "height": 34
        }
      },
      "source": [
        "from sklearn.metrics import r2_score\n",
        "score = r2_score(t3['China Confirmed Cases'], t3['Predicted Cases'])\n",
        "print(score)\n",
        "a= score"
      ],
      "execution_count": 158,
      "outputs": [
        {
          "output_type": "stream",
          "text": [
            "0.9996496270307114\n"
          ],
          "name": "stdout"
        }
      ]
    },
    {
      "cell_type": "code",
      "metadata": {
        "id": "zqK3TEhkXyVK",
        "colab_type": "code",
        "colab": {
          "base_uri": "https://localhost:8080/",
          "height": 34
        },
        "outputId": "4763cfd4-2fe2-4e57-ee56-99c22e84f0d5"
      },
      "source": [
        "from sklearn.metrics import r2_score\n",
        "score = r2_score(t3['China Recovered'], t3['Predicted Recovered'])\n",
        "print(score)\n",
        "b= score"
      ],
      "execution_count": 159,
      "outputs": [
        {
          "output_type": "stream",
          "text": [
            "0.9999855253432741\n"
          ],
          "name": "stdout"
        }
      ]
    },
    {
      "cell_type": "code",
      "metadata": {
        "id": "65g9CuH_YGLp",
        "colab_type": "code",
        "colab": {
          "base_uri": "https://localhost:8080/",
          "height": 34
        },
        "outputId": "2af313b4-982d-47dc-ed47-f9f5fa06915e"
      },
      "source": [
        "from sklearn.metrics import r2_score\n",
        "score = r2_score(t3['Confirmed Deaths'], t3['Predicted Deaths'])\n",
        "print(score)\n",
        "c = score"
      ],
      "execution_count": 160,
      "outputs": [
        {
          "output_type": "stream",
          "text": [
            "0.9998469686097212\n"
          ],
          "name": "stdout"
        }
      ]
    },
    {
      "cell_type": "code",
      "metadata": {
        "id": "jWSnrBd6YiSh",
        "colab_type": "code",
        "colab": {
          "base_uri": "https://localhost:8080/",
          "height": 34
        },
        "outputId": "77a381f2-7c3b-4b0c-e860-744df59cd51d"
      },
      "source": [
        "Average_r2score_ondataset = (a + b + c)/3\n",
        "print(Average_r2score_ondataset)"
      ],
      "execution_count": 161,
      "outputs": [
        {
          "output_type": "stream",
          "text": [
            "0.9998273736612355\n"
          ],
          "name": "stdout"
        }
      ]
    },
    {
      "cell_type": "code",
      "metadata": {
        "id": "Q7pPdkGaNnqd",
        "colab_type": "code",
        "outputId": "74787ac7-c907-42e9-a2cc-69a90f14726f",
        "colab": {
          "base_uri": "https://localhost:8080/",
          "height": 1000
        }
      },
      "source": [
        "pd.set_option('display.max_rows', t3.shape[0]+1)\n",
        "print(t3)"
      ],
      "execution_count": 143,
      "outputs": [
        {
          "output_type": "stream",
          "text": [
            "         Dates  China Confirmed Cases  ...  Predicted Deaths  Predicted Recovered\n",
            "0   01/22/2020                    548  ...         32.550804            42.205292\n",
            "1   01/23/2020                    643  ...         33.570232            44.245964\n",
            "2   01/24/2020                    920  ...         41.725685            50.367958\n",
            "3   01/25/2020                   1406  ...         57.882385            53.427784\n",
            "4   01/26/2020                   2075  ...         71.877373            63.539764\n",
            "5   01/27/2020                   2877  ...         97.868095            72.531143\n",
            "6   01/28/2020                   5509  ...        146.850571           115.489975\n",
            "7   01/29/2020                   6087  ...        148.849884           134.471771\n",
            "8   01/30/2020                   8141  ...        186.836304           149.457397\n",
            "9   01/31/2020                   9802  ...        228.821289           228.381775\n",
            "10  02/01/2020                  11891  ...        274.804871           289.323364\n",
            "11  02/02/2020                  16630  ...        376.768463           477.143311\n",
            "12  02/03/2020                  19716  ...        440.745575           627.998718\n",
            "13  02/04/2020                  23707  ...        506.722015           856.779419\n",
            "14  02/05/2020                  27440  ...        578.696289          1128.519043\n",
            "15  02/06/2020                  30587  ...        648.671204          1490.172241\n",
            "16  02/07/2020                  34110  ...        733.640930          2011.672363\n",
            "17  02/08/2020                  36814  ...        820.609863          2608.100830\n",
            "18  02/09/2020                  39829  ...        920.574097          3230.981445\n",
            "19  02/10/2020                  42354  ...       1027.536011          3930.574951\n",
            "20  02/11/2020                  44386  ...       1127.500244          4650.229004\n",
            "21  02/12/2020                  44759  ...       1132.498291          5097.256348\n",
            "22  02/13/2020                  59895  ...       1384.408325          6234.872559\n",
            "23  02/14/2020                  66358  ...       1536.354126          7998.927734\n",
            "24  02/15/2020                  68413  ...       1678.303467          9322.970703\n",
            "25  02/16/2020                  70513  ...       1781.266602         10783.329102\n",
            "26  02/17/2020                  72434  ...       1879.231567         12494.263672\n",
            "27  02/18/2020                  74211  ...       2018.182007         14242.281250\n",
            "28  02/19/2020                  74619  ...       2131.141357         16002.328125\n",
            "29  02/20/2020                  75077  ...       2253.097900         18059.058594\n",
            "30  02/21/2020                  75550  ...       2253.097900         18750.650391\n",
            "31  02/22/2020                  77001  ...       2458.024902         22754.851562\n",
            "32  02/23/2020                  77022  ...       2460.023926         23243.978516\n",
            "33  02/24/2020                  77241  ...       2609.969971         25076.191406\n",
            "34  02/25/2020                  77754  ...       2679.945312         27743.324219\n",
            "35  02/26/2020                  78166  ...       2731.926514         30156.876953\n",
            "36  02/27/2020                  78600  ...       2760.916016         33009.429688\n",
            "37  02/28/2020                  78928  ...       2804.900879         36416.269531\n",
            "38  02/29/2020                  79356  ...       2851.884033         39414.156250\n",
            "39  03/01/2020                  79932  ...       2886.871094         42262.707031\n",
            "40  03/02/2020                  80136  ...       2928.856445         44960.910156\n",
            "41  03/03/2020                  80261  ...       2961.844482         47562.894531\n",
            "42  03/04/2020                  80386  ...       2997.831787         50119.773438\n",
            "43  03/05/2020                  80537  ...       3029.820557         52416.046875\n",
            "44  03/06/2020                  80690  ...       3058.810303         54071.859375\n",
            "45  03/07/2020                  80770  ...       3086.800537         55670.531250\n",
            "46  03/08/2020                  80823  ...       3114.790283         57523.796875\n",
            "47  03/09/2020                  80860  ...       3137.782227         58943.054688\n",
            "48  03/10/2020                  80887  ...       3153.776123         60323.230469\n",
            "49  03/11/2020                  80921  ...       3175.768799         61789.601562\n",
            "50  03/12/2020                  80932  ...       3186.764160         63049.500000\n",
            "51  03/13/2020                  80945  ...       3194.761475         64347.488281\n",
            "52  03/14/2020                  80977  ...       3207.757324         65814.851562\n",
            "53  03/15/2020                  81003  ...       3217.753662         67174.992188\n",
            "54  03/16/2020                  81003  ...       3231.748535         68061.023438\n",
            "55  03/17/2020                  81058  ...       3244.743896         68960.093750\n",
            "56  03/18/2020                  81102  ...       3255.739502         69919.296875\n",
            "57  03/19/2020                  81156  ...       3263.736816         70701.085938\n",
            "58  03/20/2020                  81250  ...       3267.735596         71433.773438\n",
            "59  03/21/2020                  81350  ...       3273.733398         72026.140625\n",
            "60  03/22/2020                  81435  ...       3288.727783         72532.312500\n",
            "61  03/23/2020                  81498  ...       3288.727783         72985.343750\n",
            "62  03/24/2020                  81591  ...       3295.725342         73452.414062\n",
            "63  03/25/2020                  81661  ...       3299.723633         73946.554688\n",
            "64  03/26/2020                  81782  ...       3305.721680         74355.507812\n",
            "65  03/27/2020                  81897  ...       3310.720215         74895.734375\n",
            "66  03/28/2020                  81999  ...       3313.718994         75276.609375\n",
            "67  03/29/2020                  82122  ...       3318.717529         75759.718750\n",
            "68  03/30/2020                  82198  ...       3322.716064         76101.507812\n",
            "69  03/31/2020                  82279  ...       3323.715576         76385.164062\n",
            "70  04/01/2020                  82361  ...       3330.713379         76584.625000\n",
            "71  04/02/2020                  82432  ...       3336.711182         76744.984375\n",
            "72  04/03/2020                  82511  ...       3340.709473         76940.437500\n",
            "73  04/04/2020                  82543  ...       3344.707520         77126.875000\n",
            "74  04/05/2020                  82602  ...       3347.707031         77388.468750\n",
            "75  04/06/2020                  82665  ...       3349.706055         77491.710938\n",
            "76  04/07/2020                  82718  ...       3349.706055         77591.945312\n",
            "77  04/08/2020                  82809  ...       3351.705566         77749.289062\n",
            "78  04/09/2020                  82883  ...       3353.704346         77861.546875\n",
            "\n",
            "[79 rows x 7 columns]\n"
          ],
          "name": "stdout"
        }
      ]
    },
    {
      "cell_type": "code",
      "metadata": {
        "id": "vMQTTV3HxYeL",
        "colab_type": "code",
        "outputId": "6dad9695-544c-4533-915e-a3469bc16f7a",
        "colab": {
          "base_uri": "https://localhost:8080/",
          "height": 483
        }
      },
      "source": [
        "import matplotlib.pyplot as plt\n",
        "plt.figure(figsize=(16,8))\n",
        "plt.ylabel(\"Number of Cases\")\n",
        "plt.plot(t3['China Confirmed Cases'])\n",
        "plt.plot(t3['Predicted Cases'])\n",
        "plt.plot(t3['Confirmed Deaths'])\n",
        "#plt.plot(t3['Predicted Deaths'])\n",
        "plt.plot(t3['China Recovered'])\n",
        "#plt.plot(t3['Predicted Recovered'])\n",
        "plt.legend(['Confirmed Cases', 'Predicted Cases', 'China Deaths', 'China Recovered'], loc='upper left')\n",
        "plt.show()"
      ],
      "execution_count": 144,
      "outputs": [
        {
          "output_type": "display_data",
          "data": {
            "image/png": "[encoded data removed]",
            "text/plain": [
              "<Figure size 1152x576 with 1 Axes>"
            ]
          },
          "metadata": {
            "tags": [],
            "needs_background": "light"
          }
        }
      ]
    },
    {
      "cell_type": "code",
      "metadata": {
        "id": "GsASW11x3vT0",
        "colab_type": "code",
        "outputId": "d3069e49-d922-4341-d704-5c093363c119",
        "colab": {
          "base_uri": "https://localhost:8080/",
          "height": 483
        }
      },
      "source": [
        "import matplotlib.pyplot as plt\n",
        "plt.figure(figsize=(16,8))\n",
        "plt.ylabel(\"Number of Cases\")\n",
        "plt.plot(t3['China Confirmed Cases'])\n",
        "#plt.plot(raw_seq['Predicted Cases'])\n",
        "plt.plot(t3['Confirmed Deaths'])#plt.plot(raw_seq['Predicted Deaths'])\n",
        "plt.plot(t3['China Recovered'])\n",
        "#plt.plot(raw_seq['Predicted Recovered'])\n",
        "plt.legend(['Confirmed Cases', 'China Deaths', 'China Recovered'], loc='upper left')\n",
        "plt.show()"
      ],
      "execution_count": 145,
      "outputs": [
        {
          "output_type": "display_data",
          "data": {
            "image/png": "[encoded data removed]",
            "text/plain": [
              "<Figure size 1152x576 with 1 Axes>"
            ]
          },
          "metadata": {
            "tags": [],
            "needs_background": "light"
          }
        }
      ]
    },
    {
      "cell_type": "code",
      "metadata": {
        "id": "BO9txJ9G5rz9",
        "colab_type": "code",
        "outputId": "9a43a8b4-713b-489d-9af6-95f05f528cc2",
        "colab": {
          "base_uri": "https://localhost:8080/",
          "height": 483
        }
      },
      "source": [
        "import matplotlib.pyplot as plt\n",
        "plt.figure(figsize=(16,8))\n",
        "plt.ylabel(\"Number of Cases\")\n",
        "#plt.plot(raw_seq['India Confirmed Cases'])\n",
        "plt.plot(t3['Predicted Cases'])\n",
        "#plt.plot(raw_seq['India Deaths'])\n",
        "plt.plot(t3['Predicted Deaths'])\n",
        "#plt.plot(raw_seq['India Recovered'])\n",
        "plt.plot(t3['Predicted Recovered'])\n",
        "plt.legend(['Predicted Cases', 'Predicted Deaths', 'Predicted Recovered'], loc='upper left')\n",
        "plt.show()"
      ],
      "execution_count": 146,
      "outputs": [
        {
          "output_type": "display_data",
          "data": {
            "image/png": "[encoded data removed]",
            "text/plain": [
              "<Figure size 1152x576 with 1 Axes>"
            ]
          },
          "metadata": {
            "tags": [],
            "needs_background": "light"
          }
        }
      ]
    },
    {
      "cell_type": "code",
      "metadata": {
        "id": "Ob8oCUKSuvca",
        "colab_type": "code",
        "outputId": "044df7f2-d968-494d-ac7b-fecee1b77b97",
        "colab": {
          "base_uri": "https://localhost:8080/",
          "height": 296
        }
      },
      "source": [
        "import seaborn as sns\n",
        "sns.regplot(t3['China Confirmed Cases'], t3['Predicted Cases'])\n"
      ],
      "execution_count": 147,
      "outputs": [
        {
          "output_type": "execute_result",
          "data": {
            "text/plain": [
              "<matplotlib.axes._subplots.AxesSubplot at 0x7f6d4cb9b2e8>"
            ]
          },
          "metadata": {
            "tags": []
          },
          "execution_count": 147
        },
        {
          "output_type": "display_data",
          "data": {
            "image/png": "[encoded data removed]",
            "text/plain": [
              "<Figure size 432x288 with 1 Axes>"
            ]
          },
          "metadata": {
            "tags": [],
            "needs_background": "light"
          }
        }
      ]
    },
    {
      "cell_type": "code",
      "metadata": {
        "id": "HZSEpHkvvfZe",
        "colab_type": "code",
        "outputId": "bfdec3ed-2802-491a-b824-1bc8665cff7c",
        "colab": {
          "base_uri": "https://localhost:8080/",
          "height": 320
        }
      },
      "source": [
        "aj = t3['Predicted Cases']\n",
        "jk = t3['Predicted Deaths']\n",
        "lm = t3['Predicted Recovered']\n",
        "lp = t3['China Confirmed Cases']\n",
        "lt = t3['China Recovered']\n",
        "lx = t3['Confirmed Deaths']\n",
        "fig = plt.figure()\n",
        "fig.set_size_inches(10,5)\n",
        "ax1 = fig.add_subplot(211)\n",
        "line1 = ax1.plot(aj,marker='.',color='red',label=\"Predicted Cases\")\n",
        "ax2 = fig.add_subplot(212)\n",
        "line2 = ax2.plot(jk,marker='.',color='blue',label=\"Predicted Deaths\")\n",
        "ax1.grid()\n",
        "ax2.grid()\n",
        "plt.show()"
      ],
      "execution_count": 148,
      "outputs": [
        {
          "output_type": "display_data",
          "data": {
            "image/png": "[encoded data removed]",
            "text/plain": [
              "<Figure size 720x360 with 2 Axes>"
            ]
          },
          "metadata": {
            "tags": [],
            "needs_background": "light"
          }
        }
      ]
    },
    {
      "cell_type": "code",
      "metadata": {
        "id": "7ZC4CKYIyxKv",
        "colab_type": "code",
        "outputId": "b03ca07f-1f40-42ef-eff4-e71e43c6e895",
        "colab": {
          "base_uri": "https://localhost:8080/",
          "height": 429
        }
      },
      "source": [
        "import altair as alt\n",
        "\n",
        "alt.Chart(t3).mark_point().encode(\n",
        "    x='Dates',\n",
        "    y='Predicted Cases',\n",
        "    color='China Confirmed Cases',\n",
        ").interactive()"
      ],
      "execution_count": 149,
      "outputs": [
        {
          "output_type": "execute_result",
          "data": {
            "text/plain": [
              "alt.Chart(...)"
            ],
            "text/html": [
              "\n",
              "<div id=\"altair-viz-96d1f7c6b06947a5af3aab93018d9e00\"></div>\n",
              "<script type=\"text/javascript\">\n",
              "  (function(spec, embedOpt){\n",
              "    let outputDiv = document.currentScript.previousElementSibling;\n",
              "    if (outputDiv.id !== \"altair-viz-96d1f7c6b06947a5af3aab93018d9e00\") {\n",
              "      outputDiv = document.getElementById(\"altair-viz-96d1f7c6b06947a5af3aab93018d9e00\");\n",
              "    }\n",
              "    const paths = {\n",
              "      \"vega\": \"https://cdn.jsdelivr.net/npm//vega@5?noext\",\n",
              "      \"vega-lib\": \"https://cdn.jsdelivr.net/npm//vega-lib?noext\",\n",
              "      \"vega-lite\": \"https://cdn.jsdelivr.net/npm//vega-lite@4.8.1?noext\",\n",
              "      \"vega-embed\": \"https://cdn.jsdelivr.net/npm//vega-embed@6?noext\",\n",
              "    };\n",
              "\n",
              "    function loadScript(lib) {\n",
              "      return new Promise(function(resolve, reject) {\n",
              "        var s = document.createElement('script');\n",
              "        s.src = paths[lib];\n",
              "        s.async = true;\n",
              "        s.onload = () => resolve(paths[lib]);\n",
              "        s.onerror = () => reject(`Error loading script: ${paths[lib]}`);\n",
              "        document.getElementsByTagName(\"head\")[0].appendChild(s);\n",
              "      });\n",
              "    }\n",
              "\n",
              "    function showError(err) {\n",
              "      outputDiv.innerHTML = `<div class=\"error\" style=\"color:red;\">${err}</div>`;\n",
              "      throw err;\n",
              "    }\n",
              "\n",
              "    function displayChart(vegaEmbed) {\n",
              "      vegaEmbed(outputDiv, spec, embedOpt)\n",
              "        .catch(err => showError(`Javascript Error: ${err.message}<br>This usually means there's a typo in your chart specification. See the javascript console for the full traceback.`));\n",
              "    }\n",
              "\n",
              "    if(typeof define === \"function\" && define.amd) {\n",
              "      requirejs.config({paths});\n",
              "      require([\"vega-embed\"], displayChart, err => showError(`Error loading script: ${err.message}`));\n",
              "    } else if (typeof vegaEmbed === \"function\") {\n",
              "      displayChart(vegaEmbed);\n",
              "    } else {\n",
              "      loadScript(\"vega\")\n",
              "        .then(() => loadScript(\"vega-lite\"))\n",
              "        .then(() => loadScript(\"vega-embed\"))\n",
              "        .catch(showError)\n",
              "        .then(() => displayChart(vegaEmbed));\n",
              "    }\n",
              "  })({\"config\": {\"view\": {\"continuousWidth\": 400, \"continuousHeight\": 300}}, \"data\": {\"name\": \"data-d6e4dd57e7ff88798e990eb7ce2a5ea7\"}, \"mark\": \"point\", \"encoding\": {\"color\": {\"type\": \"quantitative\", \"field\": \"China Confirmed Cases\"}, \"x\": {\"type\": \"nominal\", \"field\": \"Dates\"}, \"y\": {\"type\": \"quantitative\", \"field\": \"Predicted Cases\"}}, \"selection\": {\"selector006\": {\"type\": \"interval\", \"bind\": \"scales\", \"encodings\": [\"x\", \"y\"]}}, \"$schema\": \"https://vega.github.io/schema/vega-lite/v4.8.1.json\", \"datasets\": {\"data-d6e4dd57e7ff88798e990eb7ce2a5ea7\": [{\"Dates\": \"01/22/2020\", \"China Confirmed Cases\": 548, \"Confirmed Deaths\": 17, \"China Recovered\": 28, \"Predicted Cases\": 565.428466796875, \"Predicted Deaths\": 32.550804138183594, \"Predicted Recovered\": 42.205291748046875}, {\"Dates\": \"01/23/2020\", \"China Confirmed Cases\": 643, \"Confirmed Deaths\": 18, \"China Recovered\": 30, \"Predicted Cases\": 661.1544189453125, \"Predicted Deaths\": 33.57023239135742, \"Predicted Recovered\": 44.24596405029297}, {\"Dates\": \"01/24/2020\", \"China Confirmed Cases\": 920, \"Confirmed Deaths\": 26, \"China Recovered\": 36, \"Predicted Cases\": 940.2714233398438, \"Predicted Deaths\": 41.725685119628906, \"Predicted Recovered\": 50.367958068847656}, {\"Dates\": \"01/25/2020\", \"China Confirmed Cases\": 1406, \"Confirmed Deaths\": 42, \"China Recovered\": 39, \"Predicted Cases\": 1429.98583984375, \"Predicted Deaths\": 57.88238525390625, \"Predicted Recovered\": 53.42778396606445}, {\"Dates\": \"01/26/2020\", \"China Confirmed Cases\": 2075, \"Confirmed Deaths\": 56, \"China Recovered\": 49, \"Predicted Cases\": 2104.0986328125, \"Predicted Deaths\": 71.87737274169922, \"Predicted Recovered\": 63.539764404296875}, {\"Dates\": \"01/27/2020\", \"China Confirmed Cases\": 2877, \"Confirmed Deaths\": 82, \"China Recovered\": 58, \"Predicted Cases\": 2912.228271484375, \"Predicted Deaths\": 97.86809539794922, \"Predicted Recovered\": 72.53114318847656}, {\"Dates\": \"01/28/2020\", \"China Confirmed Cases\": 5509, \"Confirmed Deaths\": 131, \"China Recovered\": 101, \"Predicted Cases\": 5564.34423828125, \"Predicted Deaths\": 146.85057067871094, \"Predicted Recovered\": 115.48997497558594}, {\"Dates\": \"01/29/2020\", \"China Confirmed Cases\": 6087, \"Confirmed Deaths\": 133, \"China Recovered\": 120, \"Predicted Cases\": 6146.7607421875, \"Predicted Deaths\": 148.84988403320312, \"Predicted Recovered\": 134.47177124023438}, {\"Dates\": \"01/30/2020\", \"China Confirmed Cases\": 8141, \"Confirmed Deaths\": 171, \"China Recovered\": 135, \"Predicted Cases\": 8216.4580078125, \"Predicted Deaths\": 186.8363037109375, \"Predicted Recovered\": 149.4573974609375}, {\"Dates\": \"01/31/2020\", \"China Confirmed Cases\": 9802, \"Confirmed Deaths\": 213, \"China Recovered\": 214, \"Predicted Cases\": 9890.154296875, \"Predicted Deaths\": 228.8212890625, \"Predicted Recovered\": 228.38177490234375}, {\"Dates\": \"02/01/2020\", \"China Confirmed Cases\": 11891, \"Confirmed Deaths\": 259, \"China Recovered\": 275, \"Predicted Cases\": 11995.119140625, \"Predicted Deaths\": 274.80487060546875, \"Predicted Recovered\": 289.3233642578125}, {\"Dates\": \"02/02/2020\", \"China Confirmed Cases\": 16630, \"Confirmed Deaths\": 361, \"China Recovered\": 463, \"Predicted Cases\": 16770.337890625, \"Predicted Deaths\": 376.7684631347656, \"Predicted Recovered\": 477.143310546875}, {\"Dates\": \"02/03/2020\", \"China Confirmed Cases\": 19716, \"Confirmed Deaths\": 425, \"China Recovered\": 614, \"Predicted Cases\": 19879.921875, \"Predicted Deaths\": 440.7455749511719, \"Predicted Recovered\": 627.9987182617188}, {\"Dates\": \"02/04/2020\", \"China Confirmed Cases\": 23707, \"Confirmed Deaths\": 491, \"China Recovered\": 843, \"Predicted Cases\": 23901.421875, \"Predicted Deaths\": 506.7220153808594, \"Predicted Recovered\": 856.7794189453125}, {\"Dates\": \"02/05/2020\", \"China Confirmed Cases\": 27440, \"Confirmed Deaths\": 563, \"China Recovered\": 1115, \"Predicted Cases\": 27662.955078125, \"Predicted Deaths\": 578.6962890625, \"Predicted Recovered\": 1128.51904296875}, {\"Dates\": \"02/06/2020\", \"China Confirmed Cases\": 30587, \"Confirmed Deaths\": 633, \"China Recovered\": 1477, \"Predicted Cases\": 30834.00390625, \"Predicted Deaths\": 648.6712036132812, \"Predicted Recovered\": 1490.1722412109375}, {\"Dates\": \"02/07/2020\", \"China Confirmed Cases\": 34110, \"Confirmed Deaths\": 718, \"China Recovered\": 1999, \"Predicted Cases\": 34383.93359375, \"Predicted Deaths\": 733.6409301757812, \"Predicted Recovered\": 2011.67236328125}, {\"Dates\": \"02/08/2020\", \"China Confirmed Cases\": 36814, \"Confirmed Deaths\": 805, \"China Recovered\": 2596, \"Predicted Cases\": 37108.59765625, \"Predicted Deaths\": 820.60986328125, \"Predicted Recovered\": 2608.100830078125}, {\"Dates\": \"02/09/2020\", \"China Confirmed Cases\": 39829, \"Confirmed Deaths\": 905, \"China Recovered\": 3219, \"Predicted Cases\": 40146.640625, \"Predicted Deaths\": 920.5740966796875, \"Predicted Recovered\": 3230.9814453125}, {\"Dates\": \"02/10/2020\", \"China Confirmed Cases\": 42354, \"Confirmed Deaths\": 1012, \"China Recovered\": 3918, \"Predicted Cases\": 42690.9375, \"Predicted Deaths\": 1027.5360107421875, \"Predicted Recovered\": 3930.574951171875}, {\"Dates\": \"02/11/2020\", \"China Confirmed Cases\": 44386, \"Confirmed Deaths\": 1112, \"China Recovered\": 4636, \"Predicted Cases\": 44738.45703125, \"Predicted Deaths\": 1127.500244140625, \"Predicted Recovered\": 4650.22900390625}, {\"Dates\": \"02/12/2020\", \"China Confirmed Cases\": 44759, \"Confirmed Deaths\": 1117, \"China Recovered\": 5082, \"Predicted Cases\": 45114.3125, \"Predicted Deaths\": 1132.498291015625, \"Predicted Recovered\": 5097.25634765625}, {\"Dates\": \"02/13/2020\", \"China Confirmed Cases\": 59895, \"Confirmed Deaths\": 1369, \"China Recovered\": 6217, \"Predicted Cases\": 60366.00390625, \"Predicted Deaths\": 1384.4083251953125, \"Predicted Recovered\": 6234.87255859375}, {\"Dates\": \"02/14/2020\", \"China Confirmed Cases\": 66358, \"Confirmed Deaths\": 1521, \"China Recovered\": 7977, \"Predicted Cases\": 66878.3828125, \"Predicted Deaths\": 1536.3541259765625, \"Predicted Recovered\": 7998.927734375}, {\"Dates\": \"02/15/2020\", \"China Confirmed Cases\": 68413, \"Confirmed Deaths\": 1663, \"China Recovered\": 9298, \"Predicted Cases\": 68949.09375, \"Predicted Deaths\": 1678.303466796875, \"Predicted Recovered\": 9322.970703125}, {\"Dates\": \"02/16/2020\", \"China Confirmed Cases\": 70513, \"Confirmed Deaths\": 1766, \"China Recovered\": 10755, \"Predicted Cases\": 71065.1328125, \"Predicted Deaths\": 1781.2666015625, \"Predicted Recovered\": 10783.3291015625}, {\"Dates\": \"02/17/2020\", \"China Confirmed Cases\": 72434, \"Confirmed Deaths\": 1864, \"China Recovered\": 12462, \"Predicted Cases\": 73000.8203125, \"Predicted Deaths\": 1879.2315673828125, \"Predicted Recovered\": 12494.263671875}, {\"Dates\": \"02/18/2020\", \"China Confirmed Cases\": 74211, \"Confirmed Deaths\": 2003, \"China Recovered\": 14206, \"Predicted Cases\": 74791.40625, \"Predicted Deaths\": 2018.1820068359375, \"Predicted Recovered\": 14242.28125}, {\"Dates\": \"02/19/2020\", \"China Confirmed Cases\": 74619, \"Confirmed Deaths\": 2116, \"China Recovered\": 15962, \"Predicted Cases\": 75202.53125, \"Predicted Deaths\": 2131.141357421875, \"Predicted Recovered\": 16002.328125}, {\"Dates\": \"02/20/2020\", \"China Confirmed Cases\": 75077, \"Confirmed Deaths\": 2238, \"China Recovered\": 18014, \"Predicted Cases\": 75664.0234375, \"Predicted Deaths\": 2253.097900390625, \"Predicted Recovered\": 18059.05859375}, {\"Dates\": \"02/21/2020\", \"China Confirmed Cases\": 75550, \"Confirmed Deaths\": 2238, \"China Recovered\": 18704, \"Predicted Cases\": 76140.640625, \"Predicted Deaths\": 2253.097900390625, \"Predicted Recovered\": 18750.650390625}, {\"Dates\": \"02/22/2020\", \"China Confirmed Cases\": 77001, \"Confirmed Deaths\": 2443, \"China Recovered\": 22699, \"Predicted Cases\": 77602.7265625, \"Predicted Deaths\": 2458.02490234375, \"Predicted Recovered\": 22754.8515625}, {\"Dates\": \"02/23/2020\", \"China Confirmed Cases\": 77022, \"Confirmed Deaths\": 2445, \"China Recovered\": 23187, \"Predicted Cases\": 77623.890625, \"Predicted Deaths\": 2460.02392578125, \"Predicted Recovered\": 23243.978515625}, {\"Dates\": \"02/24/2020\", \"China Confirmed Cases\": 77241, \"Confirmed Deaths\": 2595, \"China Recovered\": 25015, \"Predicted Cases\": 77844.5625, \"Predicted Deaths\": 2609.969970703125, \"Predicted Recovered\": 25076.19140625}, {\"Dates\": \"02/25/2020\", \"China Confirmed Cases\": 77754, \"Confirmed Deaths\": 2665, \"China Recovered\": 27676, \"Predicted Cases\": 78361.484375, \"Predicted Deaths\": 2679.9453125, \"Predicted Recovered\": 27743.32421875}, {\"Dates\": \"02/26/2020\", \"China Confirmed Cases\": 78166, \"Confirmed Deaths\": 2717, \"China Recovered\": 30084, \"Predicted Cases\": 78776.6328125, \"Predicted Deaths\": 2731.926513671875, \"Predicted Recovered\": 30156.876953125}, {\"Dates\": \"02/27/2020\", \"China Confirmed Cases\": 78600, \"Confirmed Deaths\": 2746, \"China Recovered\": 32930, \"Predicted Cases\": 79213.9453125, \"Predicted Deaths\": 2760.916015625, \"Predicted Recovered\": 33009.4296875}, {\"Dates\": \"02/28/2020\", \"China Confirmed Cases\": 78928, \"Confirmed Deaths\": 2790, \"China Recovered\": 36329, \"Predicted Cases\": 79544.4609375, \"Predicted Deaths\": 2804.90087890625, \"Predicted Recovered\": 36416.26953125}, {\"Dates\": \"02/29/2020\", \"China Confirmed Cases\": 79356, \"Confirmed Deaths\": 2837, \"China Recovered\": 39320, \"Predicted Cases\": 79975.7265625, \"Predicted Deaths\": 2851.884033203125, \"Predicted Recovered\": 39414.15625}, {\"Dates\": \"03/01/2020\", \"China Confirmed Cases\": 79932, \"Confirmed Deaths\": 2872, \"China Recovered\": 42162, \"Predicted Cases\": 80556.125, \"Predicted Deaths\": 2886.87109375, \"Predicted Recovered\": 42262.70703125}, {\"Dates\": \"03/02/2020\", \"China Confirmed Cases\": 80136, \"Confirmed Deaths\": 2914, \"China Recovered\": 44854, \"Predicted Cases\": 80761.6796875, \"Predicted Deaths\": 2928.8564453125, \"Predicted Recovered\": 44960.91015625}, {\"Dates\": \"03/03/2020\", \"China Confirmed Cases\": 80261, \"Confirmed Deaths\": 2947, \"China Recovered\": 47450, \"Predicted Cases\": 80887.625, \"Predicted Deaths\": 2961.844482421875, \"Predicted Recovered\": 47562.89453125}, {\"Dates\": \"03/04/2020\", \"China Confirmed Cases\": 80386, \"Confirmed Deaths\": 2983, \"China Recovered\": 50001, \"Predicted Cases\": 81013.609375, \"Predicted Deaths\": 2997.831787109375, \"Predicted Recovered\": 50119.7734375}, {\"Dates\": \"03/05/2020\", \"China Confirmed Cases\": 80537, \"Confirmed Deaths\": 3015, \"China Recovered\": 52292, \"Predicted Cases\": 81165.75, \"Predicted Deaths\": 3029.820556640625, \"Predicted Recovered\": 52416.046875}, {\"Dates\": \"03/06/2020\", \"China Confirmed Cases\": 80690, \"Confirmed Deaths\": 3044, \"China Recovered\": 53944, \"Predicted Cases\": 81319.921875, \"Predicted Deaths\": 3058.810302734375, \"Predicted Recovered\": 54071.859375}, {\"Dates\": \"03/07/2020\", \"China Confirmed Cases\": 80770, \"Confirmed Deaths\": 3072, \"China Recovered\": 55539, \"Predicted Cases\": 81400.53125, \"Predicted Deaths\": 3086.800537109375, \"Predicted Recovered\": 55670.53125}, {\"Dates\": \"03/08/2020\", \"China Confirmed Cases\": 80823, \"Confirmed Deaths\": 3100, \"China Recovered\": 57388, \"Predicted Cases\": 81453.921875, \"Predicted Deaths\": 3114.790283203125, \"Predicted Recovered\": 57523.796875}, {\"Dates\": \"03/09/2020\", \"China Confirmed Cases\": 80860, \"Confirmed Deaths\": 3123, \"China Recovered\": 58804, \"Predicted Cases\": 81491.21875, \"Predicted Deaths\": 3137.7822265625, \"Predicted Recovered\": 58943.0546875}, {\"Dates\": \"03/10/2020\", \"China Confirmed Cases\": 80887, \"Confirmed Deaths\": 3139, \"China Recovered\": 60181, \"Predicted Cases\": 81518.4296875, \"Predicted Deaths\": 3153.776123046875, \"Predicted Recovered\": 60323.23046875}, {\"Dates\": \"03/11/2020\", \"China Confirmed Cases\": 80921, \"Confirmed Deaths\": 3161, \"China Recovered\": 61644, \"Predicted Cases\": 81552.6796875, \"Predicted Deaths\": 3175.768798828125, \"Predicted Recovered\": 61789.6015625}, {\"Dates\": \"03/12/2020\", \"China Confirmed Cases\": 80932, \"Confirmed Deaths\": 3172, \"China Recovered\": 62901, \"Predicted Cases\": 81563.765625, \"Predicted Deaths\": 3186.76416015625, \"Predicted Recovered\": 63049.5}, {\"Dates\": \"03/13/2020\", \"China Confirmed Cases\": 80945, \"Confirmed Deaths\": 3180, \"China Recovered\": 64196, \"Predicted Cases\": 81576.875, \"Predicted Deaths\": 3194.761474609375, \"Predicted Recovered\": 64347.48828125}, {\"Dates\": \"03/14/2020\", \"China Confirmed Cases\": 80977, \"Confirmed Deaths\": 3193, \"China Recovered\": 65660, \"Predicted Cases\": 81609.1171875, \"Predicted Deaths\": 3207.75732421875, \"Predicted Recovered\": 65814.8515625}, {\"Dates\": \"03/15/2020\", \"China Confirmed Cases\": 81003, \"Confirmed Deaths\": 3203, \"China Recovered\": 67017, \"Predicted Cases\": 81635.3125, \"Predicted Deaths\": 3217.753662109375, \"Predicted Recovered\": 67174.9921875}, {\"Dates\": \"03/16/2020\", \"China Confirmed Cases\": 81003, \"Confirmed Deaths\": 3217, \"China Recovered\": 67901, \"Predicted Cases\": 81635.3125, \"Predicted Deaths\": 3231.74853515625, \"Predicted Recovered\": 68061.0234375}, {\"Dates\": \"03/17/2020\", \"China Confirmed Cases\": 81058, \"Confirmed Deaths\": 3230, \"China Recovered\": 68798, \"Predicted Cases\": 81690.7265625, \"Predicted Deaths\": 3244.743896484375, \"Predicted Recovered\": 68960.09375}, {\"Dates\": \"03/18/2020\", \"China Confirmed Cases\": 81102, \"Confirmed Deaths\": 3241, \"China Recovered\": 69755, \"Predicted Cases\": 81735.078125, \"Predicted Deaths\": 3255.739501953125, \"Predicted Recovered\": 69919.296875}, {\"Dates\": \"03/19/2020\", \"China Confirmed Cases\": 81156, \"Confirmed Deaths\": 3249, \"China Recovered\": 70535, \"Predicted Cases\": 81789.4765625, \"Predicted Deaths\": 3263.73681640625, \"Predicted Recovered\": 70701.0859375}, {\"Dates\": \"03/20/2020\", \"China Confirmed Cases\": 81250, \"Confirmed Deaths\": 3253, \"China Recovered\": 71266, \"Predicted Cases\": 81884.2109375, \"Predicted Deaths\": 3267.735595703125, \"Predicted Recovered\": 71433.7734375}, {\"Dates\": \"03/21/2020\", \"China Confirmed Cases\": 81350, \"Confirmed Deaths\": 3259, \"China Recovered\": 71857, \"Predicted Cases\": 81984.96875, \"Predicted Deaths\": 3273.7333984375, \"Predicted Recovered\": 72026.140625}, {\"Dates\": \"03/22/2020\", \"China Confirmed Cases\": 81435, \"Confirmed Deaths\": 3274, \"China Recovered\": 72362, \"Predicted Cases\": 82070.609375, \"Predicted Deaths\": 3288.727783203125, \"Predicted Recovered\": 72532.3125}, {\"Dates\": \"03/23/2020\", \"China Confirmed Cases\": 81498, \"Confirmed Deaths\": 3274, \"China Recovered\": 72814, \"Predicted Cases\": 82134.1015625, \"Predicted Deaths\": 3288.727783203125, \"Predicted Recovered\": 72985.34375}, {\"Dates\": \"03/24/2020\", \"China Confirmed Cases\": 81591, \"Confirmed Deaths\": 3281, \"China Recovered\": 73280, \"Predicted Cases\": 82227.796875, \"Predicted Deaths\": 3295.725341796875, \"Predicted Recovered\": 73452.4140625}, {\"Dates\": \"03/25/2020\", \"China Confirmed Cases\": 81661, \"Confirmed Deaths\": 3285, \"China Recovered\": 73773, \"Predicted Cases\": 82298.34375, \"Predicted Deaths\": 3299.7236328125, \"Predicted Recovered\": 73946.5546875}, {\"Dates\": \"03/26/2020\", \"China Confirmed Cases\": 81782, \"Confirmed Deaths\": 3291, \"China Recovered\": 74181, \"Predicted Cases\": 82420.265625, \"Predicted Deaths\": 3305.7216796875, \"Predicted Recovered\": 74355.5078125}, {\"Dates\": \"03/27/2020\", \"China Confirmed Cases\": 81897, \"Confirmed Deaths\": 3296, \"China Recovered\": 74720, \"Predicted Cases\": 82536.1484375, \"Predicted Deaths\": 3310.72021484375, \"Predicted Recovered\": 74895.734375}, {\"Dates\": \"03/28/2020\", \"China Confirmed Cases\": 81999, \"Confirmed Deaths\": 3299, \"China Recovered\": 75100, \"Predicted Cases\": 82638.9296875, \"Predicted Deaths\": 3313.718994140625, \"Predicted Recovered\": 75276.609375}, {\"Dates\": \"03/29/2020\", \"China Confirmed Cases\": 82122, \"Confirmed Deaths\": 3304, \"China Recovered\": 75582, \"Predicted Cases\": 82762.875, \"Predicted Deaths\": 3318.717529296875, \"Predicted Recovered\": 75759.71875}, {\"Dates\": \"03/30/2020\", \"China Confirmed Cases\": 82198, \"Confirmed Deaths\": 3308, \"China Recovered\": 75923, \"Predicted Cases\": 82839.453125, \"Predicted Deaths\": 3322.716064453125, \"Predicted Recovered\": 76101.5078125}, {\"Dates\": \"03/31/2020\", \"China Confirmed Cases\": 82279, \"Confirmed Deaths\": 3309, \"China Recovered\": 76206, \"Predicted Cases\": 82921.078125, \"Predicted Deaths\": 3323.715576171875, \"Predicted Recovered\": 76385.1640625}, {\"Dates\": \"04/01/2020\", \"China Confirmed Cases\": 82361, \"Confirmed Deaths\": 3316, \"China Recovered\": 76405, \"Predicted Cases\": 83003.7109375, \"Predicted Deaths\": 3330.71337890625, \"Predicted Recovered\": 76584.625}, {\"Dates\": \"04/02/2020\", \"China Confirmed Cases\": 82432, \"Confirmed Deaths\": 3322, \"China Recovered\": 76565, \"Predicted Cases\": 83075.234375, \"Predicted Deaths\": 3336.711181640625, \"Predicted Recovered\": 76744.984375}, {\"Dates\": \"04/03/2020\", \"China Confirmed Cases\": 82511, \"Confirmed Deaths\": 3326, \"China Recovered\": 76760, \"Predicted Cases\": 83154.8359375, \"Predicted Deaths\": 3340.70947265625, \"Predicted Recovered\": 76940.4375}, {\"Dates\": \"04/04/2020\", \"China Confirmed Cases\": 82543, \"Confirmed Deaths\": 3330, \"China Recovered\": 76946, \"Predicted Cases\": 83187.0703125, \"Predicted Deaths\": 3344.70751953125, \"Predicted Recovered\": 77126.875}, {\"Dates\": \"04/05/2020\", \"China Confirmed Cases\": 82602, \"Confirmed Deaths\": 3333, \"China Recovered\": 77207, \"Predicted Cases\": 83246.5390625, \"Predicted Deaths\": 3347.70703125, \"Predicted Recovered\": 77388.46875}, {\"Dates\": \"04/06/2020\", \"China Confirmed Cases\": 82665, \"Confirmed Deaths\": 3335, \"China Recovered\": 77310, \"Predicted Cases\": 83310.015625, \"Predicted Deaths\": 3349.7060546875, \"Predicted Recovered\": 77491.7109375}, {\"Dates\": \"04/07/2020\", \"China Confirmed Cases\": 82718, \"Confirmed Deaths\": 3335, \"China Recovered\": 77410, \"Predicted Cases\": 83363.421875, \"Predicted Deaths\": 3349.7060546875, \"Predicted Recovered\": 77591.9453125}, {\"Dates\": \"04/08/2020\", \"China Confirmed Cases\": 82809, \"Confirmed Deaths\": 3337, \"China Recovered\": 77567, \"Predicted Cases\": 83455.1171875, \"Predicted Deaths\": 3351.70556640625, \"Predicted Recovered\": 77749.2890625}, {\"Dates\": \"04/09/2020\", \"China Confirmed Cases\": 82883, \"Confirmed Deaths\": 3339, \"China Recovered\": 77679, \"Predicted Cases\": 83529.671875, \"Predicted Deaths\": 3353.704345703125, \"Predicted Recovered\": 77861.546875}]}}, {\"mode\": \"vega-lite\"});\n",
              "</script>"
            ]
          },
          "metadata": {
            "tags": []
          },
          "execution_count": 149
        }
      ]
    },
    {
      "cell_type": "code",
      "metadata": {
        "id": "iv_hpepC8wb8",
        "colab_type": "code",
        "outputId": "c6174df1-7670-435e-ecf7-ca2afbe6d9d8",
        "colab": {
          "base_uri": "https://localhost:8080/",
          "height": 409
        }
      },
      "source": [
        "import altair as alt\n",
        "\n",
        "alt.Chart(t3).mark_point().encode(\n",
        "    x='Dates',\n",
        "    y='Predicted Deaths',\n",
        "    color='Confirmed Deaths',\n",
        ").interactive()"
      ],
      "execution_count": 150,
      "outputs": [
        {
          "output_type": "execute_result",
          "data": {
            "text/plain": [
              "alt.Chart(...)"
            ],
            "text/html": [
              "\n",
              "<div id=\"altair-viz-fc2a78b9ea974d63abbbe687e9f32728\"></div>\n",
              "<script type=\"text/javascript\">\n",
              "  (function(spec, embedOpt){\n",
              "    let outputDiv = document.currentScript.previousElementSibling;\n",
              "    if (outputDiv.id !== \"altair-viz-fc2a78b9ea974d63abbbe687e9f32728\") {\n",
              "      outputDiv = document.getElementById(\"altair-viz-fc2a78b9ea974d63abbbe687e9f32728\");\n",
              "    }\n",
              "    const paths = {\n",
              "      \"vega\": \"https://cdn.jsdelivr.net/npm//vega@5?noext\",\n",
              "      \"vega-lib\": \"https://cdn.jsdelivr.net/npm//vega-lib?noext\",\n",
              "      \"vega-lite\": \"https://cdn.jsdelivr.net/npm//vega-lite@4.8.1?noext\",\n",
              "      \"vega-embed\": \"https://cdn.jsdelivr.net/npm//vega-embed@6?noext\",\n",
              "    };\n",
              "\n",
              "    function loadScript(lib) {\n",
              "      return new Promise(function(resolve, reject) {\n",
              "        var s = document.createElement('script');\n",
              "        s.src = paths[lib];\n",
              "        s.async = true;\n",
              "        s.onload = () => resolve(paths[lib]);\n",
              "        s.onerror = () => reject(`Error loading script: ${paths[lib]}`);\n",
              "        document.getElementsByTagName(\"head\")[0].appendChild(s);\n",
              "      });\n",
              "    }\n",
              "\n",
              "    function showError(err) {\n",
              "      outputDiv.innerHTML = `<div class=\"error\" style=\"color:red;\">${err}</div>`;\n",
              "      throw err;\n",
              "    }\n",
              "\n",
              "    function displayChart(vegaEmbed) {\n",
              "      vegaEmbed(outputDiv, spec, embedOpt)\n",
              "        .catch(err => showError(`Javascript Error: ${err.message}<br>This usually means there's a typo in your chart specification. See the javascript console for the full traceback.`));\n",
              "    }\n",
              "\n",
              "    if(typeof define === \"function\" && define.amd) {\n",
              "      requirejs.config({paths});\n",
              "      require([\"vega-embed\"], displayChart, err => showError(`Error loading script: ${err.message}`));\n",
              "    } else if (typeof vegaEmbed === \"function\") {\n",
              "      displayChart(vegaEmbed);\n",
              "    } else {\n",
              "      loadScript(\"vega\")\n",
              "        .then(() => loadScript(\"vega-lite\"))\n",
              "        .then(() => loadScript(\"vega-embed\"))\n",
              "        .catch(showError)\n",
              "        .then(() => displayChart(vegaEmbed));\n",
              "    }\n",
              "  })({\"config\": {\"view\": {\"continuousWidth\": 400, \"continuousHeight\": 300}}, \"data\": {\"name\": \"data-d6e4dd57e7ff88798e990eb7ce2a5ea7\"}, \"mark\": \"point\", \"encoding\": {\"color\": {\"type\": \"quantitative\", \"field\": \"Confirmed Deaths\"}, \"x\": {\"type\": \"nominal\", \"field\": \"Dates\"}, \"y\": {\"type\": \"quantitative\", \"field\": \"Predicted Deaths\"}}, \"selection\": {\"selector007\": {\"type\": \"interval\", \"bind\": \"scales\", \"encodings\": [\"x\", \"y\"]}}, \"$schema\": \"https://vega.github.io/schema/vega-lite/v4.8.1.json\", \"datasets\": {\"data-d6e4dd57e7ff88798e990eb7ce2a5ea7\": [{\"Dates\": \"01/22/2020\", \"China Confirmed Cases\": 548, \"Confirmed Deaths\": 17, \"China Recovered\": 28, \"Predicted Cases\": 565.428466796875, \"Predicted Deaths\": 32.550804138183594, \"Predicted Recovered\": 42.205291748046875}, {\"Dates\": \"01/23/2020\", \"China Confirmed Cases\": 643, \"Confirmed Deaths\": 18, \"China Recovered\": 30, \"Predicted Cases\": 661.1544189453125, \"Predicted Deaths\": 33.57023239135742, \"Predicted Recovered\": 44.24596405029297}, {\"Dates\": \"01/24/2020\", \"China Confirmed Cases\": 920, \"Confirmed Deaths\": 26, \"China Recovered\": 36, \"Predicted Cases\": 940.2714233398438, \"Predicted Deaths\": 41.725685119628906, \"Predicted Recovered\": 50.367958068847656}, {\"Dates\": \"01/25/2020\", \"China Confirmed Cases\": 1406, \"Confirmed Deaths\": 42, \"China Recovered\": 39, \"Predicted Cases\": 1429.98583984375, \"Predicted Deaths\": 57.88238525390625, \"Predicted Recovered\": 53.42778396606445}, {\"Dates\": \"01/26/2020\", \"China Confirmed Cases\": 2075, \"Confirmed Deaths\": 56, \"China Recovered\": 49, \"Predicted Cases\": 2104.0986328125, \"Predicted Deaths\": 71.87737274169922, \"Predicted Recovered\": 63.539764404296875}, {\"Dates\": \"01/27/2020\", \"China Confirmed Cases\": 2877, \"Confirmed Deaths\": 82, \"China Recovered\": 58, \"Predicted Cases\": 2912.228271484375, \"Predicted Deaths\": 97.86809539794922, \"Predicted Recovered\": 72.53114318847656}, {\"Dates\": \"01/28/2020\", \"China Confirmed Cases\": 5509, \"Confirmed Deaths\": 131, \"China Recovered\": 101, \"Predicted Cases\": 5564.34423828125, \"Predicted Deaths\": 146.85057067871094, \"Predicted Recovered\": 115.48997497558594}, {\"Dates\": \"01/29/2020\", \"China Confirmed Cases\": 6087, \"Confirmed Deaths\": 133, \"China Recovered\": 120, \"Predicted Cases\": 6146.7607421875, \"Predicted Deaths\": 148.84988403320312, \"Predicted Recovered\": 134.47177124023438}, {\"Dates\": \"01/30/2020\", \"China Confirmed Cases\": 8141, \"Confirmed Deaths\": 171, \"China Recovered\": 135, \"Predicted Cases\": 8216.4580078125, \"Predicted Deaths\": 186.8363037109375, \"Predicted Recovered\": 149.4573974609375}, {\"Dates\": \"01/31/2020\", \"China Confirmed Cases\": 9802, \"Confirmed Deaths\": 213, \"China Recovered\": 214, \"Predicted Cases\": 9890.154296875, \"Predicted Deaths\": 228.8212890625, \"Predicted Recovered\": 228.38177490234375}, {\"Dates\": \"02/01/2020\", \"China Confirmed Cases\": 11891, \"Confirmed Deaths\": 259, \"China Recovered\": 275, \"Predicted Cases\": 11995.119140625, \"Predicted Deaths\": 274.80487060546875, \"Predicted Recovered\": 289.3233642578125}, {\"Dates\": \"02/02/2020\", \"China Confirmed Cases\": 16630, \"Confirmed Deaths\": 361, \"China Recovered\": 463, \"Predicted Cases\": 16770.337890625, \"Predicted Deaths\": 376.7684631347656, \"Predicted Recovered\": 477.143310546875}, {\"Dates\": \"02/03/2020\", \"China Confirmed Cases\": 19716, \"Confirmed Deaths\": 425, \"China Recovered\": 614, \"Predicted Cases\": 19879.921875, \"Predicted Deaths\": 440.7455749511719, \"Predicted Recovered\": 627.9987182617188}, {\"Dates\": \"02/04/2020\", \"China Confirmed Cases\": 23707, \"Confirmed Deaths\": 491, \"China Recovered\": 843, \"Predicted Cases\": 23901.421875, \"Predicted Deaths\": 506.7220153808594, \"Predicted Recovered\": 856.7794189453125}, {\"Dates\": \"02/05/2020\", \"China Confirmed Cases\": 27440, \"Confirmed Deaths\": 563, \"China Recovered\": 1115, \"Predicted Cases\": 27662.955078125, \"Predicted Deaths\": 578.6962890625, \"Predicted Recovered\": 1128.51904296875}, {\"Dates\": \"02/06/2020\", \"China Confirmed Cases\": 30587, \"Confirmed Deaths\": 633, \"China Recovered\": 1477, \"Predicted Cases\": 30834.00390625, \"Predicted Deaths\": 648.6712036132812, \"Predicted Recovered\": 1490.1722412109375}, {\"Dates\": \"02/07/2020\", \"China Confirmed Cases\": 34110, \"Confirmed Deaths\": 718, \"China Recovered\": 1999, \"Predicted Cases\": 34383.93359375, \"Predicted Deaths\": 733.6409301757812, \"Predicted Recovered\": 2011.67236328125}, {\"Dates\": \"02/08/2020\", \"China Confirmed Cases\": 36814, \"Confirmed Deaths\": 805, \"China Recovered\": 2596, \"Predicted Cases\": 37108.59765625, \"Predicted Deaths\": 820.60986328125, \"Predicted Recovered\": 2608.100830078125}, {\"Dates\": \"02/09/2020\", \"China Confirmed Cases\": 39829, \"Confirmed Deaths\": 905, \"China Recovered\": 3219, \"Predicted Cases\": 40146.640625, \"Predicted Deaths\": 920.5740966796875, \"Predicted Recovered\": 3230.9814453125}, {\"Dates\": \"02/10/2020\", \"China Confirmed Cases\": 42354, \"Confirmed Deaths\": 1012, \"China Recovered\": 3918, \"Predicted Cases\": 42690.9375, \"Predicted Deaths\": 1027.5360107421875, \"Predicted Recovered\": 3930.574951171875}, {\"Dates\": \"02/11/2020\", \"China Confirmed Cases\": 44386, \"Confirmed Deaths\": 1112, \"China Recovered\": 4636, \"Predicted Cases\": 44738.45703125, \"Predicted Deaths\": 1127.500244140625, \"Predicted Recovered\": 4650.22900390625}, {\"Dates\": \"02/12/2020\", \"China Confirmed Cases\": 44759, \"Confirmed Deaths\": 1117, \"China Recovered\": 5082, \"Predicted Cases\": 45114.3125, \"Predicted Deaths\": 1132.498291015625, \"Predicted Recovered\": 5097.25634765625}, {\"Dates\": \"02/13/2020\", \"China Confirmed Cases\": 59895, \"Confirmed Deaths\": 1369, \"China Recovered\": 6217, \"Predicted Cases\": 60366.00390625, \"Predicted Deaths\": 1384.4083251953125, \"Predicted Recovered\": 6234.87255859375}, {\"Dates\": \"02/14/2020\", \"China Confirmed Cases\": 66358, \"Confirmed Deaths\": 1521, \"China Recovered\": 7977, \"Predicted Cases\": 66878.3828125, \"Predicted Deaths\": 1536.3541259765625, \"Predicted Recovered\": 7998.927734375}, {\"Dates\": \"02/15/2020\", \"China Confirmed Cases\": 68413, \"Confirmed Deaths\": 1663, \"China Recovered\": 9298, \"Predicted Cases\": 68949.09375, \"Predicted Deaths\": 1678.303466796875, \"Predicted Recovered\": 9322.970703125}, {\"Dates\": \"02/16/2020\", \"China Confirmed Cases\": 70513, \"Confirmed Deaths\": 1766, \"China Recovered\": 10755, \"Predicted Cases\": 71065.1328125, \"Predicted Deaths\": 1781.2666015625, \"Predicted Recovered\": 10783.3291015625}, {\"Dates\": \"02/17/2020\", \"China Confirmed Cases\": 72434, \"Confirmed Deaths\": 1864, \"China Recovered\": 12462, \"Predicted Cases\": 73000.8203125, \"Predicted Deaths\": 1879.2315673828125, \"Predicted Recovered\": 12494.263671875}, {\"Dates\": \"02/18/2020\", \"China Confirmed Cases\": 74211, \"Confirmed Deaths\": 2003, \"China Recovered\": 14206, \"Predicted Cases\": 74791.40625, \"Predicted Deaths\": 2018.1820068359375, \"Predicted Recovered\": 14242.28125}, {\"Dates\": \"02/19/2020\", \"China Confirmed Cases\": 74619, \"Confirmed Deaths\": 2116, \"China Recovered\": 15962, \"Predicted Cases\": 75202.53125, \"Predicted Deaths\": 2131.141357421875, \"Predicted Recovered\": 16002.328125}, {\"Dates\": \"02/20/2020\", \"China Confirmed Cases\": 75077, \"Confirmed Deaths\": 2238, \"China Recovered\": 18014, \"Predicted Cases\": 75664.0234375, \"Predicted Deaths\": 2253.097900390625, \"Predicted Recovered\": 18059.05859375}, {\"Dates\": \"02/21/2020\", \"China Confirmed Cases\": 75550, \"Confirmed Deaths\": 2238, \"China Recovered\": 18704, \"Predicted Cases\": 76140.640625, \"Predicted Deaths\": 2253.097900390625, \"Predicted Recovered\": 18750.650390625}, {\"Dates\": \"02/22/2020\", \"China Confirmed Cases\": 77001, \"Confirmed Deaths\": 2443, \"China Recovered\": 22699, \"Predicted Cases\": 77602.7265625, \"Predicted Deaths\": 2458.02490234375, \"Predicted Recovered\": 22754.8515625}, {\"Dates\": \"02/23/2020\", \"China Confirmed Cases\": 77022, \"Confirmed Deaths\": 2445, \"China Recovered\": 23187, \"Predicted Cases\": 77623.890625, \"Predicted Deaths\": 2460.02392578125, \"Predicted Recovered\": 23243.978515625}, {\"Dates\": \"02/24/2020\", \"China Confirmed Cases\": 77241, \"Confirmed Deaths\": 2595, \"China Recovered\": 25015, \"Predicted Cases\": 77844.5625, \"Predicted Deaths\": 2609.969970703125, \"Predicted Recovered\": 25076.19140625}, {\"Dates\": \"02/25/2020\", \"China Confirmed Cases\": 77754, \"Confirmed Deaths\": 2665, \"China Recovered\": 27676, \"Predicted Cases\": 78361.484375, \"Predicted Deaths\": 2679.9453125, \"Predicted Recovered\": 27743.32421875}, {\"Dates\": \"02/26/2020\", \"China Confirmed Cases\": 78166, \"Confirmed Deaths\": 2717, \"China Recovered\": 30084, \"Predicted Cases\": 78776.6328125, \"Predicted Deaths\": 2731.926513671875, \"Predicted Recovered\": 30156.876953125}, {\"Dates\": \"02/27/2020\", \"China Confirmed Cases\": 78600, \"Confirmed Deaths\": 2746, \"China Recovered\": 32930, \"Predicted Cases\": 79213.9453125, \"Predicted Deaths\": 2760.916015625, \"Predicted Recovered\": 33009.4296875}, {\"Dates\": \"02/28/2020\", \"China Confirmed Cases\": 78928, \"Confirmed Deaths\": 2790, \"China Recovered\": 36329, \"Predicted Cases\": 79544.4609375, \"Predicted Deaths\": 2804.90087890625, \"Predicted Recovered\": 36416.26953125}, {\"Dates\": \"02/29/2020\", \"China Confirmed Cases\": 79356, \"Confirmed Deaths\": 2837, \"China Recovered\": 39320, \"Predicted Cases\": 79975.7265625, \"Predicted Deaths\": 2851.884033203125, \"Predicted Recovered\": 39414.15625}, {\"Dates\": \"03/01/2020\", \"China Confirmed Cases\": 79932, \"Confirmed Deaths\": 2872, \"China Recovered\": 42162, \"Predicted Cases\": 80556.125, \"Predicted Deaths\": 2886.87109375, \"Predicted Recovered\": 42262.70703125}, {\"Dates\": \"03/02/2020\", \"China Confirmed Cases\": 80136, \"Confirmed Deaths\": 2914, \"China Recovered\": 44854, \"Predicted Cases\": 80761.6796875, \"Predicted Deaths\": 2928.8564453125, \"Predicted Recovered\": 44960.91015625}, {\"Dates\": \"03/03/2020\", \"China Confirmed Cases\": 80261, \"Confirmed Deaths\": 2947, \"China Recovered\": 47450, \"Predicted Cases\": 80887.625, \"Predicted Deaths\": 2961.844482421875, \"Predicted Recovered\": 47562.89453125}, {\"Dates\": \"03/04/2020\", \"China Confirmed Cases\": 80386, \"Confirmed Deaths\": 2983, \"China Recovered\": 50001, \"Predicted Cases\": 81013.609375, \"Predicted Deaths\": 2997.831787109375, \"Predicted Recovered\": 50119.7734375}, {\"Dates\": \"03/05/2020\", \"China Confirmed Cases\": 80537, \"Confirmed Deaths\": 3015, \"China Recovered\": 52292, \"Predicted Cases\": 81165.75, \"Predicted Deaths\": 3029.820556640625, \"Predicted Recovered\": 52416.046875}, {\"Dates\": \"03/06/2020\", \"China Confirmed Cases\": 80690, \"Confirmed Deaths\": 3044, \"China Recovered\": 53944, \"Predicted Cases\": 81319.921875, \"Predicted Deaths\": 3058.810302734375, \"Predicted Recovered\": 54071.859375}, {\"Dates\": \"03/07/2020\", \"China Confirmed Cases\": 80770, \"Confirmed Deaths\": 3072, \"China Recovered\": 55539, \"Predicted Cases\": 81400.53125, \"Predicted Deaths\": 3086.800537109375, \"Predicted Recovered\": 55670.53125}, {\"Dates\": \"03/08/2020\", \"China Confirmed Cases\": 80823, \"Confirmed Deaths\": 3100, \"China Recovered\": 57388, \"Predicted Cases\": 81453.921875, \"Predicted Deaths\": 3114.790283203125, \"Predicted Recovered\": 57523.796875}, {\"Dates\": \"03/09/2020\", \"China Confirmed Cases\": 80860, \"Confirmed Deaths\": 3123, \"China Recovered\": 58804, \"Predicted Cases\": 81491.21875, \"Predicted Deaths\": 3137.7822265625, \"Predicted Recovered\": 58943.0546875}, {\"Dates\": \"03/10/2020\", \"China Confirmed Cases\": 80887, \"Confirmed Deaths\": 3139, \"China Recovered\": 60181, \"Predicted Cases\": 81518.4296875, \"Predicted Deaths\": 3153.776123046875, \"Predicted Recovered\": 60323.23046875}, {\"Dates\": \"03/11/2020\", \"China Confirmed Cases\": 80921, \"Confirmed Deaths\": 3161, \"China Recovered\": 61644, \"Predicted Cases\": 81552.6796875, \"Predicted Deaths\": 3175.768798828125, \"Predicted Recovered\": 61789.6015625}, {\"Dates\": \"03/12/2020\", \"China Confirmed Cases\": 80932, \"Confirmed Deaths\": 3172, \"China Recovered\": 62901, \"Predicted Cases\": 81563.765625, \"Predicted Deaths\": 3186.76416015625, \"Predicted Recovered\": 63049.5}, {\"Dates\": \"03/13/2020\", \"China Confirmed Cases\": 80945, \"Confirmed Deaths\": 3180, \"China Recovered\": 64196, \"Predicted Cases\": 81576.875, \"Predicted Deaths\": 3194.761474609375, \"Predicted Recovered\": 64347.48828125}, {\"Dates\": \"03/14/2020\", \"China Confirmed Cases\": 80977, \"Confirmed Deaths\": 3193, \"China Recovered\": 65660, \"Predicted Cases\": 81609.1171875, \"Predicted Deaths\": 3207.75732421875, \"Predicted Recovered\": 65814.8515625}, {\"Dates\": \"03/15/2020\", \"China Confirmed Cases\": 81003, \"Confirmed Deaths\": 3203, \"China Recovered\": 67017, \"Predicted Cases\": 81635.3125, \"Predicted Deaths\": 3217.753662109375, \"Predicted Recovered\": 67174.9921875}, {\"Dates\": \"03/16/2020\", \"China Confirmed Cases\": 81003, \"Confirmed Deaths\": 3217, \"China Recovered\": 67901, \"Predicted Cases\": 81635.3125, \"Predicted Deaths\": 3231.74853515625, \"Predicted Recovered\": 68061.0234375}, {\"Dates\": \"03/17/2020\", \"China Confirmed Cases\": 81058, \"Confirmed Deaths\": 3230, \"China Recovered\": 68798, \"Predicted Cases\": 81690.7265625, \"Predicted Deaths\": 3244.743896484375, \"Predicted Recovered\": 68960.09375}, {\"Dates\": \"03/18/2020\", \"China Confirmed Cases\": 81102, \"Confirmed Deaths\": 3241, \"China Recovered\": 69755, \"Predicted Cases\": 81735.078125, \"Predicted Deaths\": 3255.739501953125, \"Predicted Recovered\": 69919.296875}, {\"Dates\": \"03/19/2020\", \"China Confirmed Cases\": 81156, \"Confirmed Deaths\": 3249, \"China Recovered\": 70535, \"Predicted Cases\": 81789.4765625, \"Predicted Deaths\": 3263.73681640625, \"Predicted Recovered\": 70701.0859375}, {\"Dates\": \"03/20/2020\", \"China Confirmed Cases\": 81250, \"Confirmed Deaths\": 3253, \"China Recovered\": 71266, \"Predicted Cases\": 81884.2109375, \"Predicted Deaths\": 3267.735595703125, \"Predicted Recovered\": 71433.7734375}, {\"Dates\": \"03/21/2020\", \"China Confirmed Cases\": 81350, \"Confirmed Deaths\": 3259, \"China Recovered\": 71857, \"Predicted Cases\": 81984.96875, \"Predicted Deaths\": 3273.7333984375, \"Predicted Recovered\": 72026.140625}, {\"Dates\": \"03/22/2020\", \"China Confirmed Cases\": 81435, \"Confirmed Deaths\": 3274, \"China Recovered\": 72362, \"Predicted Cases\": 82070.609375, \"Predicted Deaths\": 3288.727783203125, \"Predicted Recovered\": 72532.3125}, {\"Dates\": \"03/23/2020\", \"China Confirmed Cases\": 81498, \"Confirmed Deaths\": 3274, \"China Recovered\": 72814, \"Predicted Cases\": 82134.1015625, \"Predicted Deaths\": 3288.727783203125, \"Predicted Recovered\": 72985.34375}, {\"Dates\": \"03/24/2020\", \"China Confirmed Cases\": 81591, \"Confirmed Deaths\": 3281, \"China Recovered\": 73280, \"Predicted Cases\": 82227.796875, \"Predicted Deaths\": 3295.725341796875, \"Predicted Recovered\": 73452.4140625}, {\"Dates\": \"03/25/2020\", \"China Confirmed Cases\": 81661, \"Confirmed Deaths\": 3285, \"China Recovered\": 73773, \"Predicted Cases\": 82298.34375, \"Predicted Deaths\": 3299.7236328125, \"Predicted Recovered\": 73946.5546875}, {\"Dates\": \"03/26/2020\", \"China Confirmed Cases\": 81782, \"Confirmed Deaths\": 3291, \"China Recovered\": 74181, \"Predicted Cases\": 82420.265625, \"Predicted Deaths\": 3305.7216796875, \"Predicted Recovered\": 74355.5078125}, {\"Dates\": \"03/27/2020\", \"China Confirmed Cases\": 81897, \"Confirmed Deaths\": 3296, \"China Recovered\": 74720, \"Predicted Cases\": 82536.1484375, \"Predicted Deaths\": 3310.72021484375, \"Predicted Recovered\": 74895.734375}, {\"Dates\": \"03/28/2020\", \"China Confirmed Cases\": 81999, \"Confirmed Deaths\": 3299, \"China Recovered\": 75100, \"Predicted Cases\": 82638.9296875, \"Predicted Deaths\": 3313.718994140625, \"Predicted Recovered\": 75276.609375}, {\"Dates\": \"03/29/2020\", \"China Confirmed Cases\": 82122, \"Confirmed Deaths\": 3304, \"China Recovered\": 75582, \"Predicted Cases\": 82762.875, \"Predicted Deaths\": 3318.717529296875, \"Predicted Recovered\": 75759.71875}, {\"Dates\": \"03/30/2020\", \"China Confirmed Cases\": 82198, \"Confirmed Deaths\": 3308, \"China Recovered\": 75923, \"Predicted Cases\": 82839.453125, \"Predicted Deaths\": 3322.716064453125, \"Predicted Recovered\": 76101.5078125}, {\"Dates\": \"03/31/2020\", \"China Confirmed Cases\": 82279, \"Confirmed Deaths\": 3309, \"China Recovered\": 76206, \"Predicted Cases\": 82921.078125, \"Predicted Deaths\": 3323.715576171875, \"Predicted Recovered\": 76385.1640625}, {\"Dates\": \"04/01/2020\", \"China Confirmed Cases\": 82361, \"Confirmed Deaths\": 3316, \"China Recovered\": 76405, \"Predicted Cases\": 83003.7109375, \"Predicted Deaths\": 3330.71337890625, \"Predicted Recovered\": 76584.625}, {\"Dates\": \"04/02/2020\", \"China Confirmed Cases\": 82432, \"Confirmed Deaths\": 3322, \"China Recovered\": 76565, \"Predicted Cases\": 83075.234375, \"Predicted Deaths\": 3336.711181640625, \"Predicted Recovered\": 76744.984375}, {\"Dates\": \"04/03/2020\", \"China Confirmed Cases\": 82511, \"Confirmed Deaths\": 3326, \"China Recovered\": 76760, \"Predicted Cases\": 83154.8359375, \"Predicted Deaths\": 3340.70947265625, \"Predicted Recovered\": 76940.4375}, {\"Dates\": \"04/04/2020\", \"China Confirmed Cases\": 82543, \"Confirmed Deaths\": 3330, \"China Recovered\": 76946, \"Predicted Cases\": 83187.0703125, \"Predicted Deaths\": 3344.70751953125, \"Predicted Recovered\": 77126.875}, {\"Dates\": \"04/05/2020\", \"China Confirmed Cases\": 82602, \"Confirmed Deaths\": 3333, \"China Recovered\": 77207, \"Predicted Cases\": 83246.5390625, \"Predicted Deaths\": 3347.70703125, \"Predicted Recovered\": 77388.46875}, {\"Dates\": \"04/06/2020\", \"China Confirmed Cases\": 82665, \"Confirmed Deaths\": 3335, \"China Recovered\": 77310, \"Predicted Cases\": 83310.015625, \"Predicted Deaths\": 3349.7060546875, \"Predicted Recovered\": 77491.7109375}, {\"Dates\": \"04/07/2020\", \"China Confirmed Cases\": 82718, \"Confirmed Deaths\": 3335, \"China Recovered\": 77410, \"Predicted Cases\": 83363.421875, \"Predicted Deaths\": 3349.7060546875, \"Predicted Recovered\": 77591.9453125}, {\"Dates\": \"04/08/2020\", \"China Confirmed Cases\": 82809, \"Confirmed Deaths\": 3337, \"China Recovered\": 77567, \"Predicted Cases\": 83455.1171875, \"Predicted Deaths\": 3351.70556640625, \"Predicted Recovered\": 77749.2890625}, {\"Dates\": \"04/09/2020\", \"China Confirmed Cases\": 82883, \"Confirmed Deaths\": 3339, \"China Recovered\": 77679, \"Predicted Cases\": 83529.671875, \"Predicted Deaths\": 3353.704345703125, \"Predicted Recovered\": 77861.546875}]}}, {\"mode\": \"vega-lite\"});\n",
              "</script>"
            ]
          },
          "metadata": {
            "tags": []
          },
          "execution_count": 150
        }
      ]
    },
    {
      "cell_type": "code",
      "metadata": {
        "id": "RcrLVhmJ9HWM",
        "colab_type": "code",
        "outputId": "2ef826b0-ad31-4e8b-cbf7-8a34be5a2a77",
        "colab": {
          "base_uri": "https://localhost:8080/",
          "height": 409
        }
      },
      "source": [
        "import altair as alt\n",
        "\n",
        "alt.Chart(t3).mark_point().encode(\n",
        "    x='Dates',\n",
        "    y='Predicted Recovered',\n",
        "    color='China Recovered',\n",
        ").interactive()"
      ],
      "execution_count": 151,
      "outputs": [
        {
          "output_type": "execute_result",
          "data": {
            "text/plain": [
              "alt.Chart(...)"
            ],
            "text/html": [
              "\n",
              "<div id=\"altair-viz-29b418f9e9804a82a62e83841dbed0ea\"></div>\n",
              "<script type=\"text/javascript\">\n",
              "  (function(spec, embedOpt){\n",
              "    let outputDiv = document.currentScript.previousElementSibling;\n",
              "    if (outputDiv.id !== \"altair-viz-29b418f9e9804a82a62e83841dbed0ea\") {\n",
              "      outputDiv = document.getElementById(\"altair-viz-29b418f9e9804a82a62e83841dbed0ea\");\n",
              "    }\n",
              "    const paths = {\n",
              "      \"vega\": \"https://cdn.jsdelivr.net/npm//vega@5?noext\",\n",
              "      \"vega-lib\": \"https://cdn.jsdelivr.net/npm//vega-lib?noext\",\n",
              "      \"vega-lite\": \"https://cdn.jsdelivr.net/npm//vega-lite@4.8.1?noext\",\n",
              "      \"vega-embed\": \"https://cdn.jsdelivr.net/npm//vega-embed@6?noext\",\n",
              "    };\n",
              "\n",
              "    function loadScript(lib) {\n",
              "      return new Promise(function(resolve, reject) {\n",
              "        var s = document.createElement('script');\n",
              "        s.src = paths[lib];\n",
              "        s.async = true;\n",
              "        s.onload = () => resolve(paths[lib]);\n",
              "        s.onerror = () => reject(`Error loading script: ${paths[lib]}`);\n",
              "        document.getElementsByTagName(\"head\")[0].appendChild(s);\n",
              "      });\n",
              "    }\n",
              "\n",
              "    function showError(err) {\n",
              "      outputDiv.innerHTML = `<div class=\"error\" style=\"color:red;\">${err}</div>`;\n",
              "      throw err;\n",
              "    }\n",
              "\n",
              "    function displayChart(vegaEmbed) {\n",
              "      vegaEmbed(outputDiv, spec, embedOpt)\n",
              "        .catch(err => showError(`Javascript Error: ${err.message}<br>This usually means there's a typo in your chart specification. See the javascript console for the full traceback.`));\n",
              "    }\n",
              "\n",
              "    if(typeof define === \"function\" && define.amd) {\n",
              "      requirejs.config({paths});\n",
              "      require([\"vega-embed\"], displayChart, err => showError(`Error loading script: ${err.message}`));\n",
              "    } else if (typeof vegaEmbed === \"function\") {\n",
              "      displayChart(vegaEmbed);\n",
              "    } else {\n",
              "      loadScript(\"vega\")\n",
              "        .then(() => loadScript(\"vega-lite\"))\n",
              "        .then(() => loadScript(\"vega-embed\"))\n",
              "        .catch(showError)\n",
              "        .then(() => displayChart(vegaEmbed));\n",
              "    }\n",
              "  })({\"config\": {\"view\": {\"continuousWidth\": 400, \"continuousHeight\": 300}}, \"data\": {\"name\": \"data-d6e4dd57e7ff88798e990eb7ce2a5ea7\"}, \"mark\": \"point\", \"encoding\": {\"color\": {\"type\": \"quantitative\", \"field\": \"China Recovered\"}, \"x\": {\"type\": \"nominal\", \"field\": \"Dates\"}, \"y\": {\"type\": \"quantitative\", \"field\": \"Predicted Recovered\"}}, \"selection\": {\"selector008\": {\"type\": \"interval\", \"bind\": \"scales\", \"encodings\": [\"x\", \"y\"]}}, \"$schema\": \"https://vega.github.io/schema/vega-lite/v4.8.1.json\", \"datasets\": {\"data-d6e4dd57e7ff88798e990eb7ce2a5ea7\": [{\"Dates\": \"01/22/2020\", \"China Confirmed Cases\": 548, \"Confirmed Deaths\": 17, \"China Recovered\": 28, \"Predicted Cases\": 565.428466796875, \"Predicted Deaths\": 32.550804138183594, \"Predicted Recovered\": 42.205291748046875}, {\"Dates\": \"01/23/2020\", \"China Confirmed Cases\": 643, \"Confirmed Deaths\": 18, \"China Recovered\": 30, \"Predicted Cases\": 661.1544189453125, \"Predicted Deaths\": 33.57023239135742, \"Predicted Recovered\": 44.24596405029297}, {\"Dates\": \"01/24/2020\", \"China Confirmed Cases\": 920, \"Confirmed Deaths\": 26, \"China Recovered\": 36, \"Predicted Cases\": 940.2714233398438, \"Predicted Deaths\": 41.725685119628906, \"Predicted Recovered\": 50.367958068847656}, {\"Dates\": \"01/25/2020\", \"China Confirmed Cases\": 1406, \"Confirmed Deaths\": 42, \"China Recovered\": 39, \"Predicted Cases\": 1429.98583984375, \"Predicted Deaths\": 57.88238525390625, \"Predicted Recovered\": 53.42778396606445}, {\"Dates\": \"01/26/2020\", \"China Confirmed Cases\": 2075, \"Confirmed Deaths\": 56, \"China Recovered\": 49, \"Predicted Cases\": 2104.0986328125, \"Predicted Deaths\": 71.87737274169922, \"Predicted Recovered\": 63.539764404296875}, {\"Dates\": \"01/27/2020\", \"China Confirmed Cases\": 2877, \"Confirmed Deaths\": 82, \"China Recovered\": 58, \"Predicted Cases\": 2912.228271484375, \"Predicted Deaths\": 97.86809539794922, \"Predicted Recovered\": 72.53114318847656}, {\"Dates\": \"01/28/2020\", \"China Confirmed Cases\": 5509, \"Confirmed Deaths\": 131, \"China Recovered\": 101, \"Predicted Cases\": 5564.34423828125, \"Predicted Deaths\": 146.85057067871094, \"Predicted Recovered\": 115.48997497558594}, {\"Dates\": \"01/29/2020\", \"China Confirmed Cases\": 6087, \"Confirmed Deaths\": 133, \"China Recovered\": 120, \"Predicted Cases\": 6146.7607421875, \"Predicted Deaths\": 148.84988403320312, \"Predicted Recovered\": 134.47177124023438}, {\"Dates\": \"01/30/2020\", \"China Confirmed Cases\": 8141, \"Confirmed Deaths\": 171, \"China Recovered\": 135, \"Predicted Cases\": 8216.4580078125, \"Predicted Deaths\": 186.8363037109375, \"Predicted Recovered\": 149.4573974609375}, {\"Dates\": \"01/31/2020\", \"China Confirmed Cases\": 9802, \"Confirmed Deaths\": 213, \"China Recovered\": 214, \"Predicted Cases\": 9890.154296875, \"Predicted Deaths\": 228.8212890625, \"Predicted Recovered\": 228.38177490234375}, {\"Dates\": \"02/01/2020\", \"China Confirmed Cases\": 11891, \"Confirmed Deaths\": 259, \"China Recovered\": 275, \"Predicted Cases\": 11995.119140625, \"Predicted Deaths\": 274.80487060546875, \"Predicted Recovered\": 289.3233642578125}, {\"Dates\": \"02/02/2020\", \"China Confirmed Cases\": 16630, \"Confirmed Deaths\": 361, \"China Recovered\": 463, \"Predicted Cases\": 16770.337890625, \"Predicted Deaths\": 376.7684631347656, \"Predicted Recovered\": 477.143310546875}, {\"Dates\": \"02/03/2020\", \"China Confirmed Cases\": 19716, \"Confirmed Deaths\": 425, \"China Recovered\": 614, \"Predicted Cases\": 19879.921875, \"Predicted Deaths\": 440.7455749511719, \"Predicted Recovered\": 627.9987182617188}, {\"Dates\": \"02/04/2020\", \"China Confirmed Cases\": 23707, \"Confirmed Deaths\": 491, \"China Recovered\": 843, \"Predicted Cases\": 23901.421875, \"Predicted Deaths\": 506.7220153808594, \"Predicted Recovered\": 856.7794189453125}, {\"Dates\": \"02/05/2020\", \"China Confirmed Cases\": 27440, \"Confirmed Deaths\": 563, \"China Recovered\": 1115, \"Predicted Cases\": 27662.955078125, \"Predicted Deaths\": 578.6962890625, \"Predicted Recovered\": 1128.51904296875}, {\"Dates\": \"02/06/2020\", \"China Confirmed Cases\": 30587, \"Confirmed Deaths\": 633, \"China Recovered\": 1477, \"Predicted Cases\": 30834.00390625, \"Predicted Deaths\": 648.6712036132812, \"Predicted Recovered\": 1490.1722412109375}, {\"Dates\": \"02/07/2020\", \"China Confirmed Cases\": 34110, \"Confirmed Deaths\": 718, \"China Recovered\": 1999, \"Predicted Cases\": 34383.93359375, \"Predicted Deaths\": 733.6409301757812, \"Predicted Recovered\": 2011.67236328125}, {\"Dates\": \"02/08/2020\", \"China Confirmed Cases\": 36814, \"Confirmed Deaths\": 805, \"China Recovered\": 2596, \"Predicted Cases\": 37108.59765625, \"Predicted Deaths\": 820.60986328125, \"Predicted Recovered\": 2608.100830078125}, {\"Dates\": \"02/09/2020\", \"China Confirmed Cases\": 39829, \"Confirmed Deaths\": 905, \"China Recovered\": 3219, \"Predicted Cases\": 40146.640625, \"Predicted Deaths\": 920.5740966796875, \"Predicted Recovered\": 3230.9814453125}, {\"Dates\": \"02/10/2020\", \"China Confirmed Cases\": 42354, \"Confirmed Deaths\": 1012, \"China Recovered\": 3918, \"Predicted Cases\": 42690.9375, \"Predicted Deaths\": 1027.5360107421875, \"Predicted Recovered\": 3930.574951171875}, {\"Dates\": \"02/11/2020\", \"China Confirmed Cases\": 44386, \"Confirmed Deaths\": 1112, \"China Recovered\": 4636, \"Predicted Cases\": 44738.45703125, \"Predicted Deaths\": 1127.500244140625, \"Predicted Recovered\": 4650.22900390625}, {\"Dates\": \"02/12/2020\", \"China Confirmed Cases\": 44759, \"Confirmed Deaths\": 1117, \"China Recovered\": 5082, \"Predicted Cases\": 45114.3125, \"Predicted Deaths\": 1132.498291015625, \"Predicted Recovered\": 5097.25634765625}, {\"Dates\": \"02/13/2020\", \"China Confirmed Cases\": 59895, \"Confirmed Deaths\": 1369, \"China Recovered\": 6217, \"Predicted Cases\": 60366.00390625, \"Predicted Deaths\": 1384.4083251953125, \"Predicted Recovered\": 6234.87255859375}, {\"Dates\": \"02/14/2020\", \"China Confirmed Cases\": 66358, \"Confirmed Deaths\": 1521, \"China Recovered\": 7977, \"Predicted Cases\": 66878.3828125, \"Predicted Deaths\": 1536.3541259765625, \"Predicted Recovered\": 7998.927734375}, {\"Dates\": \"02/15/2020\", \"China Confirmed Cases\": 68413, \"Confirmed Deaths\": 1663, \"China Recovered\": 9298, \"Predicted Cases\": 68949.09375, \"Predicted Deaths\": 1678.303466796875, \"Predicted Recovered\": 9322.970703125}, {\"Dates\": \"02/16/2020\", \"China Confirmed Cases\": 70513, \"Confirmed Deaths\": 1766, \"China Recovered\": 10755, \"Predicted Cases\": 71065.1328125, \"Predicted Deaths\": 1781.2666015625, \"Predicted Recovered\": 10783.3291015625}, {\"Dates\": \"02/17/2020\", \"China Confirmed Cases\": 72434, \"Confirmed Deaths\": 1864, \"China Recovered\": 12462, \"Predicted Cases\": 73000.8203125, \"Predicted Deaths\": 1879.2315673828125, \"Predicted Recovered\": 12494.263671875}, {\"Dates\": \"02/18/2020\", \"China Confirmed Cases\": 74211, \"Confirmed Deaths\": 2003, \"China Recovered\": 14206, \"Predicted Cases\": 74791.40625, \"Predicted Deaths\": 2018.1820068359375, \"Predicted Recovered\": 14242.28125}, {\"Dates\": \"02/19/2020\", \"China Confirmed Cases\": 74619, \"Confirmed Deaths\": 2116, \"China Recovered\": 15962, \"Predicted Cases\": 75202.53125, \"Predicted Deaths\": 2131.141357421875, \"Predicted Recovered\": 16002.328125}, {\"Dates\": \"02/20/2020\", \"China Confirmed Cases\": 75077, \"Confirmed Deaths\": 2238, \"China Recovered\": 18014, \"Predicted Cases\": 75664.0234375, \"Predicted Deaths\": 2253.097900390625, \"Predicted Recovered\": 18059.05859375}, {\"Dates\": \"02/21/2020\", \"China Confirmed Cases\": 75550, \"Confirmed Deaths\": 2238, \"China Recovered\": 18704, \"Predicted Cases\": 76140.640625, \"Predicted Deaths\": 2253.097900390625, \"Predicted Recovered\": 18750.650390625}, {\"Dates\": \"02/22/2020\", \"China Confirmed Cases\": 77001, \"Confirmed Deaths\": 2443, \"China Recovered\": 22699, \"Predicted Cases\": 77602.7265625, \"Predicted Deaths\": 2458.02490234375, \"Predicted Recovered\": 22754.8515625}, {\"Dates\": \"02/23/2020\", \"China Confirmed Cases\": 77022, \"Confirmed Deaths\": 2445, \"China Recovered\": 23187, \"Predicted Cases\": 77623.890625, \"Predicted Deaths\": 2460.02392578125, \"Predicted Recovered\": 23243.978515625}, {\"Dates\": \"02/24/2020\", \"China Confirmed Cases\": 77241, \"Confirmed Deaths\": 2595, \"China Recovered\": 25015, \"Predicted Cases\": 77844.5625, \"Predicted Deaths\": 2609.969970703125, \"Predicted Recovered\": 25076.19140625}, {\"Dates\": \"02/25/2020\", \"China Confirmed Cases\": 77754, \"Confirmed Deaths\": 2665, \"China Recovered\": 27676, \"Predicted Cases\": 78361.484375, \"Predicted Deaths\": 2679.9453125, \"Predicted Recovered\": 27743.32421875}, {\"Dates\": \"02/26/2020\", \"China Confirmed Cases\": 78166, \"Confirmed Deaths\": 2717, \"China Recovered\": 30084, \"Predicted Cases\": 78776.6328125, \"Predicted Deaths\": 2731.926513671875, \"Predicted Recovered\": 30156.876953125}, {\"Dates\": \"02/27/2020\", \"China Confirmed Cases\": 78600, \"Confirmed Deaths\": 2746, \"China Recovered\": 32930, \"Predicted Cases\": 79213.9453125, \"Predicted Deaths\": 2760.916015625, \"Predicted Recovered\": 33009.4296875}, {\"Dates\": \"02/28/2020\", \"China Confirmed Cases\": 78928, \"Confirmed Deaths\": 2790, \"China Recovered\": 36329, \"Predicted Cases\": 79544.4609375, \"Predicted Deaths\": 2804.90087890625, \"Predicted Recovered\": 36416.26953125}, {\"Dates\": \"02/29/2020\", \"China Confirmed Cases\": 79356, \"Confirmed Deaths\": 2837, \"China Recovered\": 39320, \"Predicted Cases\": 79975.7265625, \"Predicted Deaths\": 2851.884033203125, \"Predicted Recovered\": 39414.15625}, {\"Dates\": \"03/01/2020\", \"China Confirmed Cases\": 79932, \"Confirmed Deaths\": 2872, \"China Recovered\": 42162, \"Predicted Cases\": 80556.125, \"Predicted Deaths\": 2886.87109375, \"Predicted Recovered\": 42262.70703125}, {\"Dates\": \"03/02/2020\", \"China Confirmed Cases\": 80136, \"Confirmed Deaths\": 2914, \"China Recovered\": 44854, \"Predicted Cases\": 80761.6796875, \"Predicted Deaths\": 2928.8564453125, \"Predicted Recovered\": 44960.91015625}, {\"Dates\": \"03/03/2020\", \"China Confirmed Cases\": 80261, \"Confirmed Deaths\": 2947, \"China Recovered\": 47450, \"Predicted Cases\": 80887.625, \"Predicted Deaths\": 2961.844482421875, \"Predicted Recovered\": 47562.89453125}, {\"Dates\": \"03/04/2020\", \"China Confirmed Cases\": 80386, \"Confirmed Deaths\": 2983, \"China Recovered\": 50001, \"Predicted Cases\": 81013.609375, \"Predicted Deaths\": 2997.831787109375, \"Predicted Recovered\": 50119.7734375}, {\"Dates\": \"03/05/2020\", \"China Confirmed Cases\": 80537, \"Confirmed Deaths\": 3015, \"China Recovered\": 52292, \"Predicted Cases\": 81165.75, \"Predicted Deaths\": 3029.820556640625, \"Predicted Recovered\": 52416.046875}, {\"Dates\": \"03/06/2020\", \"China Confirmed Cases\": 80690, \"Confirmed Deaths\": 3044, \"China Recovered\": 53944, \"Predicted Cases\": 81319.921875, \"Predicted Deaths\": 3058.810302734375, \"Predicted Recovered\": 54071.859375}, {\"Dates\": \"03/07/2020\", \"China Confirmed Cases\": 80770, \"Confirmed Deaths\": 3072, \"China Recovered\": 55539, \"Predicted Cases\": 81400.53125, \"Predicted Deaths\": 3086.800537109375, \"Predicted Recovered\": 55670.53125}, {\"Dates\": \"03/08/2020\", \"China Confirmed Cases\": 80823, \"Confirmed Deaths\": 3100, \"China Recovered\": 57388, \"Predicted Cases\": 81453.921875, \"Predicted Deaths\": 3114.790283203125, \"Predicted Recovered\": 57523.796875}, {\"Dates\": \"03/09/2020\", \"China Confirmed Cases\": 80860, \"Confirmed Deaths\": 3123, \"China Recovered\": 58804, \"Predicted Cases\": 81491.21875, \"Predicted Deaths\": 3137.7822265625, \"Predicted Recovered\": 58943.0546875}, {\"Dates\": \"03/10/2020\", \"China Confirmed Cases\": 80887, \"Confirmed Deaths\": 3139, \"China Recovered\": 60181, \"Predicted Cases\": 81518.4296875, \"Predicted Deaths\": 3153.776123046875, \"Predicted Recovered\": 60323.23046875}, {\"Dates\": \"03/11/2020\", \"China Confirmed Cases\": 80921, \"Confirmed Deaths\": 3161, \"China Recovered\": 61644, \"Predicted Cases\": 81552.6796875, \"Predicted Deaths\": 3175.768798828125, \"Predicted Recovered\": 61789.6015625}, {\"Dates\": \"03/12/2020\", \"China Confirmed Cases\": 80932, \"Confirmed Deaths\": 3172, \"China Recovered\": 62901, \"Predicted Cases\": 81563.765625, \"Predicted Deaths\": 3186.76416015625, \"Predicted Recovered\": 63049.5}, {\"Dates\": \"03/13/2020\", \"China Confirmed Cases\": 80945, \"Confirmed Deaths\": 3180, \"China Recovered\": 64196, \"Predicted Cases\": 81576.875, \"Predicted Deaths\": 3194.761474609375, \"Predicted Recovered\": 64347.48828125}, {\"Dates\": \"03/14/2020\", \"China Confirmed Cases\": 80977, \"Confirmed Deaths\": 3193, \"China Recovered\": 65660, \"Predicted Cases\": 81609.1171875, \"Predicted Deaths\": 3207.75732421875, \"Predicted Recovered\": 65814.8515625}, {\"Dates\": \"03/15/2020\", \"China Confirmed Cases\": 81003, \"Confirmed Deaths\": 3203, \"China Recovered\": 67017, \"Predicted Cases\": 81635.3125, \"Predicted Deaths\": 3217.753662109375, \"Predicted Recovered\": 67174.9921875}, {\"Dates\": \"03/16/2020\", \"China Confirmed Cases\": 81003, \"Confirmed Deaths\": 3217, \"China Recovered\": 67901, \"Predicted Cases\": 81635.3125, \"Predicted Deaths\": 3231.74853515625, \"Predicted Recovered\": 68061.0234375}, {\"Dates\": \"03/17/2020\", \"China Confirmed Cases\": 81058, \"Confirmed Deaths\": 3230, \"China Recovered\": 68798, \"Predicted Cases\": 81690.7265625, \"Predicted Deaths\": 3244.743896484375, \"Predicted Recovered\": 68960.09375}, {\"Dates\": \"03/18/2020\", \"China Confirmed Cases\": 81102, \"Confirmed Deaths\": 3241, \"China Recovered\": 69755, \"Predicted Cases\": 81735.078125, \"Predicted Deaths\": 3255.739501953125, \"Predicted Recovered\": 69919.296875}, {\"Dates\": \"03/19/2020\", \"China Confirmed Cases\": 81156, \"Confirmed Deaths\": 3249, \"China Recovered\": 70535, \"Predicted Cases\": 81789.4765625, \"Predicted Deaths\": 3263.73681640625, \"Predicted Recovered\": 70701.0859375}, {\"Dates\": \"03/20/2020\", \"China Confirmed Cases\": 81250, \"Confirmed Deaths\": 3253, \"China Recovered\": 71266, \"Predicted Cases\": 81884.2109375, \"Predicted Deaths\": 3267.735595703125, \"Predicted Recovered\": 71433.7734375}, {\"Dates\": \"03/21/2020\", \"China Confirmed Cases\": 81350, \"Confirmed Deaths\": 3259, \"China Recovered\": 71857, \"Predicted Cases\": 81984.96875, \"Predicted Deaths\": 3273.7333984375, \"Predicted Recovered\": 72026.140625}, {\"Dates\": \"03/22/2020\", \"China Confirmed Cases\": 81435, \"Confirmed Deaths\": 3274, \"China Recovered\": 72362, \"Predicted Cases\": 82070.609375, \"Predicted Deaths\": 3288.727783203125, \"Predicted Recovered\": 72532.3125}, {\"Dates\": \"03/23/2020\", \"China Confirmed Cases\": 81498, \"Confirmed Deaths\": 3274, \"China Recovered\": 72814, \"Predicted Cases\": 82134.1015625, \"Predicted Deaths\": 3288.727783203125, \"Predicted Recovered\": 72985.34375}, {\"Dates\": \"03/24/2020\", \"China Confirmed Cases\": 81591, \"Confirmed Deaths\": 3281, \"China Recovered\": 73280, \"Predicted Cases\": 82227.796875, \"Predicted Deaths\": 3295.725341796875, \"Predicted Recovered\": 73452.4140625}, {\"Dates\": \"03/25/2020\", \"China Confirmed Cases\": 81661, \"Confirmed Deaths\": 3285, \"China Recovered\": 73773, \"Predicted Cases\": 82298.34375, \"Predicted Deaths\": 3299.7236328125, \"Predicted Recovered\": 73946.5546875}, {\"Dates\": \"03/26/2020\", \"China Confirmed Cases\": 81782, \"Confirmed Deaths\": 3291, \"China Recovered\": 74181, \"Predicted Cases\": 82420.265625, \"Predicted Deaths\": 3305.7216796875, \"Predicted Recovered\": 74355.5078125}, {\"Dates\": \"03/27/2020\", \"China Confirmed Cases\": 81897, \"Confirmed Deaths\": 3296, \"China Recovered\": 74720, \"Predicted Cases\": 82536.1484375, \"Predicted Deaths\": 3310.72021484375, \"Predicted Recovered\": 74895.734375}, {\"Dates\": \"03/28/2020\", \"China Confirmed Cases\": 81999, \"Confirmed Deaths\": 3299, \"China Recovered\": 75100, \"Predicted Cases\": 82638.9296875, \"Predicted Deaths\": 3313.718994140625, \"Predicted Recovered\": 75276.609375}, {\"Dates\": \"03/29/2020\", \"China Confirmed Cases\": 82122, \"Confirmed Deaths\": 3304, \"China Recovered\": 75582, \"Predicted Cases\": 82762.875, \"Predicted Deaths\": 3318.717529296875, \"Predicted Recovered\": 75759.71875}, {\"Dates\": \"03/30/2020\", \"China Confirmed Cases\": 82198, \"Confirmed Deaths\": 3308, \"China Recovered\": 75923, \"Predicted Cases\": 82839.453125, \"Predicted Deaths\": 3322.716064453125, \"Predicted Recovered\": 76101.5078125}, {\"Dates\": \"03/31/2020\", \"China Confirmed Cases\": 82279, \"Confirmed Deaths\": 3309, \"China Recovered\": 76206, \"Predicted Cases\": 82921.078125, \"Predicted Deaths\": 3323.715576171875, \"Predicted Recovered\": 76385.1640625}, {\"Dates\": \"04/01/2020\", \"China Confirmed Cases\": 82361, \"Confirmed Deaths\": 3316, \"China Recovered\": 76405, \"Predicted Cases\": 83003.7109375, \"Predicted Deaths\": 3330.71337890625, \"Predicted Recovered\": 76584.625}, {\"Dates\": \"04/02/2020\", \"China Confirmed Cases\": 82432, \"Confirmed Deaths\": 3322, \"China Recovered\": 76565, \"Predicted Cases\": 83075.234375, \"Predicted Deaths\": 3336.711181640625, \"Predicted Recovered\": 76744.984375}, {\"Dates\": \"04/03/2020\", \"China Confirmed Cases\": 82511, \"Confirmed Deaths\": 3326, \"China Recovered\": 76760, \"Predicted Cases\": 83154.8359375, \"Predicted Deaths\": 3340.70947265625, \"Predicted Recovered\": 76940.4375}, {\"Dates\": \"04/04/2020\", \"China Confirmed Cases\": 82543, \"Confirmed Deaths\": 3330, \"China Recovered\": 76946, \"Predicted Cases\": 83187.0703125, \"Predicted Deaths\": 3344.70751953125, \"Predicted Recovered\": 77126.875}, {\"Dates\": \"04/05/2020\", \"China Confirmed Cases\": 82602, \"Confirmed Deaths\": 3333, \"China Recovered\": 77207, \"Predicted Cases\": 83246.5390625, \"Predicted Deaths\": 3347.70703125, \"Predicted Recovered\": 77388.46875}, {\"Dates\": \"04/06/2020\", \"China Confirmed Cases\": 82665, \"Confirmed Deaths\": 3335, \"China Recovered\": 77310, \"Predicted Cases\": 83310.015625, \"Predicted Deaths\": 3349.7060546875, \"Predicted Recovered\": 77491.7109375}, {\"Dates\": \"04/07/2020\", \"China Confirmed Cases\": 82718, \"Confirmed Deaths\": 3335, \"China Recovered\": 77410, \"Predicted Cases\": 83363.421875, \"Predicted Deaths\": 3349.7060546875, \"Predicted Recovered\": 77591.9453125}, {\"Dates\": \"04/08/2020\", \"China Confirmed Cases\": 82809, \"Confirmed Deaths\": 3337, \"China Recovered\": 77567, \"Predicted Cases\": 83455.1171875, \"Predicted Deaths\": 3351.70556640625, \"Predicted Recovered\": 77749.2890625}, {\"Dates\": \"04/09/2020\", \"China Confirmed Cases\": 82883, \"Confirmed Deaths\": 3339, \"China Recovered\": 77679, \"Predicted Cases\": 83529.671875, \"Predicted Deaths\": 3353.704345703125, \"Predicted Recovered\": 77861.546875}]}}, {\"mode\": \"vega-lite\"});\n",
              "</script>"
            ]
          },
          "metadata": {
            "tags": []
          },
          "execution_count": 151
        }
      ]
    }
  ]
}