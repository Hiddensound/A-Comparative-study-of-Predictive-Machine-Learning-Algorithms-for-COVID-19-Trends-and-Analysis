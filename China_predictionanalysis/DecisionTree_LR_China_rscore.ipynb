{
  "nbformat": 4,
  "nbformat_minor": 0,
  "metadata": {
    "colab": {
      "name": "DecisionTree_LR_China.ipynb",
      "provenance": [],
      "collapsed_sections": []
    },
    "kernelspec": {
      "name": "python3",
      "display_name": "Python 3"
    }
  },
  "cells": [
    {
      "cell_type": "code",
      "metadata": {
        "id": "E3xGUpjHrtXO",
        "colab_type": "code",
        "colab": {
          "base_uri": "https://localhost:8080/",
          "height": 34
        },
        "outputId": "f960b8fb-0e1d-40ff-968e-3327aac73e96"
      },
      "source": [
        "from google.colab import drive\n",
        "drive.mount('/content/drive')"
      ],
      "execution_count": 5,
      "outputs": [
        {
          "output_type": "stream",
          "text": [
            "Drive already mounted at /content/drive; to attempt to forcibly remount, call drive.mount(\"/content/drive\", force_remount=True).\n"
          ],
          "name": "stdout"
        }
      ]
    },
    {
      "cell_type": "code",
      "metadata": {
        "id": "UEA638fDLeL-",
        "colab_type": "code",
        "colab": {}
      },
      "source": [
        "import numpy as np\n",
        "import pandas as pd\n",
        "from sklearn.tree import DecisionTreeRegressor\n",
        "from sklearn.linear_model import LinearRegression\n",
        "from sklearn.model_selection import train_test_split\n",
        "import matplotlib.pyplot as plt\n",
        "plt.style.use('bmh')\n"
      ],
      "execution_count": 0,
      "outputs": []
    },
    {
      "cell_type": "code",
      "metadata": {
        "id": "oI37JYKvNLip",
        "colab_type": "code",
        "colab": {}
      },
      "source": [
        "#from google.colab import files\n",
        "#uploaded = files.upload()\n"
      ],
      "execution_count": 0,
      "outputs": []
    },
    {
      "cell_type": "code",
      "metadata": {
        "id": "u2nFM8H_N1Zc",
        "colab_type": "code",
        "outputId": "0f83efa5-76d8-497d-df36-44a95c5f24dc",
        "colab": {
          "base_uri": "https://localhost:8080/",
          "height": 639
        }
      },
      "source": [
        "df = pd.read_csv('/content/drive/My Drive/Total_cases_China.csv', index_col = 'Dates')\n",
        "df.tail(19)"
      ],
      "execution_count": 7,
      "outputs": [
        {
          "output_type": "execute_result",
          "data": {
            "text/html": [
              "<div>\n",
              "<style scoped>\n",
              "    .dataframe tbody tr th:only-of-type {\n",
              "        vertical-align: middle;\n",
              "    }\n",
              "\n",
              "    .dataframe tbody tr th {\n",
              "        vertical-align: top;\n",
              "    }\n",
              "\n",
              "    .dataframe thead th {\n",
              "        text-align: right;\n",
              "    }\n",
              "</style>\n",
              "<table border=\"1\" class=\"dataframe\">\n",
              "  <thead>\n",
              "    <tr style=\"text-align: right;\">\n",
              "      <th></th>\n",
              "      <th>China Confirmed Cases</th>\n",
              "      <th>Confirmed Deaths</th>\n",
              "      <th>Confirmed Recovered</th>\n",
              "    </tr>\n",
              "    <tr>\n",
              "      <th>Dates</th>\n",
              "      <th></th>\n",
              "      <th></th>\n",
              "      <th></th>\n",
              "    </tr>\n",
              "  </thead>\n",
              "  <tbody>\n",
              "    <tr>\n",
              "      <th>03/22/2020</th>\n",
              "      <td>81435</td>\n",
              "      <td>3274</td>\n",
              "      <td>72362</td>\n",
              "    </tr>\n",
              "    <tr>\n",
              "      <th>03/23/2020</th>\n",
              "      <td>81498</td>\n",
              "      <td>3274</td>\n",
              "      <td>72814</td>\n",
              "    </tr>\n",
              "    <tr>\n",
              "      <th>03/24/2020</th>\n",
              "      <td>81591</td>\n",
              "      <td>3281</td>\n",
              "      <td>73280</td>\n",
              "    </tr>\n",
              "    <tr>\n",
              "      <th>03/25/2020</th>\n",
              "      <td>81661</td>\n",
              "      <td>3285</td>\n",
              "      <td>73773</td>\n",
              "    </tr>\n",
              "    <tr>\n",
              "      <th>03/26/2020</th>\n",
              "      <td>81782</td>\n",
              "      <td>3291</td>\n",
              "      <td>74181</td>\n",
              "    </tr>\n",
              "    <tr>\n",
              "      <th>03/27/2020</th>\n",
              "      <td>81897</td>\n",
              "      <td>3296</td>\n",
              "      <td>74720</td>\n",
              "    </tr>\n",
              "    <tr>\n",
              "      <th>03/28/2020</th>\n",
              "      <td>81999</td>\n",
              "      <td>3299</td>\n",
              "      <td>75100</td>\n",
              "    </tr>\n",
              "    <tr>\n",
              "      <th>03/29/2020</th>\n",
              "      <td>82122</td>\n",
              "      <td>3304</td>\n",
              "      <td>75582</td>\n",
              "    </tr>\n",
              "    <tr>\n",
              "      <th>03/30/2020</th>\n",
              "      <td>82198</td>\n",
              "      <td>3308</td>\n",
              "      <td>75923</td>\n",
              "    </tr>\n",
              "    <tr>\n",
              "      <th>03/31/2020</th>\n",
              "      <td>82279</td>\n",
              "      <td>3309</td>\n",
              "      <td>76206</td>\n",
              "    </tr>\n",
              "    <tr>\n",
              "      <th>04/01/2020</th>\n",
              "      <td>82361</td>\n",
              "      <td>3316</td>\n",
              "      <td>76405</td>\n",
              "    </tr>\n",
              "    <tr>\n",
              "      <th>04/02/2020</th>\n",
              "      <td>82432</td>\n",
              "      <td>3322</td>\n",
              "      <td>76565</td>\n",
              "    </tr>\n",
              "    <tr>\n",
              "      <th>04/03/2020</th>\n",
              "      <td>82511</td>\n",
              "      <td>3326</td>\n",
              "      <td>76760</td>\n",
              "    </tr>\n",
              "    <tr>\n",
              "      <th>04/04/2020</th>\n",
              "      <td>82543</td>\n",
              "      <td>3330</td>\n",
              "      <td>76946</td>\n",
              "    </tr>\n",
              "    <tr>\n",
              "      <th>04/05/2020</th>\n",
              "      <td>82602</td>\n",
              "      <td>3333</td>\n",
              "      <td>77207</td>\n",
              "    </tr>\n",
              "    <tr>\n",
              "      <th>04/06/2020</th>\n",
              "      <td>82665</td>\n",
              "      <td>3335</td>\n",
              "      <td>77310</td>\n",
              "    </tr>\n",
              "    <tr>\n",
              "      <th>04/07/2020</th>\n",
              "      <td>82718</td>\n",
              "      <td>3335</td>\n",
              "      <td>77410</td>\n",
              "    </tr>\n",
              "    <tr>\n",
              "      <th>04/08/2020</th>\n",
              "      <td>82809</td>\n",
              "      <td>3337</td>\n",
              "      <td>77567</td>\n",
              "    </tr>\n",
              "    <tr>\n",
              "      <th>04/09/2020</th>\n",
              "      <td>82883</td>\n",
              "      <td>3339</td>\n",
              "      <td>77679</td>\n",
              "    </tr>\n",
              "  </tbody>\n",
              "</table>\n",
              "</div>"
            ],
            "text/plain": [
              "            China Confirmed Cases  Confirmed Deaths  Confirmed Recovered\n",
              "Dates                                                                   \n",
              "03/22/2020                  81435              3274                72362\n",
              "03/23/2020                  81498              3274                72814\n",
              "03/24/2020                  81591              3281                73280\n",
              "03/25/2020                  81661              3285                73773\n",
              "03/26/2020                  81782              3291                74181\n",
              "03/27/2020                  81897              3296                74720\n",
              "03/28/2020                  81999              3299                75100\n",
              "03/29/2020                  82122              3304                75582\n",
              "03/30/2020                  82198              3308                75923\n",
              "03/31/2020                  82279              3309                76206\n",
              "04/01/2020                  82361              3316                76405\n",
              "04/02/2020                  82432              3322                76565\n",
              "04/03/2020                  82511              3326                76760\n",
              "04/04/2020                  82543              3330                76946\n",
              "04/05/2020                  82602              3333                77207\n",
              "04/06/2020                  82665              3335                77310\n",
              "04/07/2020                  82718              3335                77410\n",
              "04/08/2020                  82809              3337                77567\n",
              "04/09/2020                  82883              3339                77679"
            ]
          },
          "metadata": {
            "tags": []
          },
          "execution_count": 7
        }
      ]
    },
    {
      "cell_type": "code",
      "metadata": {
        "id": "mVF_MbsHODTu",
        "colab_type": "code",
        "outputId": "e9c3c61d-f29c-42ef-c48b-bef8d2412239",
        "colab": {
          "base_uri": "https://localhost:8080/",
          "height": 34
        }
      },
      "source": [
        "df.shape"
      ],
      "execution_count": 8,
      "outputs": [
        {
          "output_type": "execute_result",
          "data": {
            "text/plain": [
              "(79, 3)"
            ]
          },
          "metadata": {
            "tags": []
          },
          "execution_count": 8
        }
      ]
    },
    {
      "cell_type": "code",
      "metadata": {
        "id": "ck56jx2eOIyX",
        "colab_type": "code",
        "outputId": "7c39f462-75eb-4c3c-e3ef-6fab5d8ccd52",
        "colab": {
          "base_uri": "https://localhost:8080/",
          "height": 561
        }
      },
      "source": [
        "plt.figure(figsize=(16,8))\n",
        "plt.title('Confirmed Cases in China')\n",
        "plt.xlabel('Dates')\n",
        "plt.ylabel('Confirmed Cases')\n",
        "plt.plot(df['China Confirmed Cases'])\n",
        "plt.xticks(rotation=90)\n",
        "plt.show()"
      ],
      "execution_count": 61,
      "outputs": [
        {
          "output_type": "display_data",
          "data": {
            "image/png": "[encoded data removed]",
            "text/plain": [
              "<Figure size 1152x576 with 1 Axes>"
            ]
          },
          "metadata": {
            "tags": [],
            "needs_background": "light"
          }
        }
      ]
    },
    {
      "cell_type": "code",
      "metadata": {
        "id": "poXjJWvLOluh",
        "colab_type": "code",
        "outputId": "42b6c58d-8651-4c36-ecd5-0528426e77ca",
        "colab": {
          "base_uri": "https://localhost:8080/",
          "height": 195
        }
      },
      "source": [
        "df = df[['China Confirmed Cases']]\n",
        "df.head(4)"
      ],
      "execution_count": 10,
      "outputs": [
        {
          "output_type": "execute_result",
          "data": {
            "text/html": [
              "<div>\n",
              "<style scoped>\n",
              "    .dataframe tbody tr th:only-of-type {\n",
              "        vertical-align: middle;\n",
              "    }\n",
              "\n",
              "    .dataframe tbody tr th {\n",
              "        vertical-align: top;\n",
              "    }\n",
              "\n",
              "    .dataframe thead th {\n",
              "        text-align: right;\n",
              "    }\n",
              "</style>\n",
              "<table border=\"1\" class=\"dataframe\">\n",
              "  <thead>\n",
              "    <tr style=\"text-align: right;\">\n",
              "      <th></th>\n",
              "      <th>China Confirmed Cases</th>\n",
              "    </tr>\n",
              "    <tr>\n",
              "      <th>Dates</th>\n",
              "      <th></th>\n",
              "    </tr>\n",
              "  </thead>\n",
              "  <tbody>\n",
              "    <tr>\n",
              "      <th>01/22/2020</th>\n",
              "      <td>548</td>\n",
              "    </tr>\n",
              "    <tr>\n",
              "      <th>01/23/2020</th>\n",
              "      <td>643</td>\n",
              "    </tr>\n",
              "    <tr>\n",
              "      <th>01/24/2020</th>\n",
              "      <td>920</td>\n",
              "    </tr>\n",
              "    <tr>\n",
              "      <th>01/25/2020</th>\n",
              "      <td>1406</td>\n",
              "    </tr>\n",
              "  </tbody>\n",
              "</table>\n",
              "</div>"
            ],
            "text/plain": [
              "            China Confirmed Cases\n",
              "Dates                            \n",
              "01/22/2020                    548\n",
              "01/23/2020                    643\n",
              "01/24/2020                    920\n",
              "01/25/2020                   1406"
            ]
          },
          "metadata": {
            "tags": []
          },
          "execution_count": 10
        }
      ]
    },
    {
      "cell_type": "code",
      "metadata": {
        "id": "Dw7vnK4MO6-Z",
        "colab_type": "code",
        "outputId": "fd68b539-414e-4cee-d3ff-0c520e2d8899",
        "colab": {
          "base_uri": "https://localhost:8080/",
          "height": 195
        }
      },
      "source": [
        "future_days = 25\n",
        "df['Predicted Cases'] = df[['China Confirmed Cases']].shift(-future_days)\n",
        "df.head(4)"
      ],
      "execution_count": 11,
      "outputs": [
        {
          "output_type": "execute_result",
          "data": {
            "text/html": [
              "<div>\n",
              "<style scoped>\n",
              "    .dataframe tbody tr th:only-of-type {\n",
              "        vertical-align: middle;\n",
              "    }\n",
              "\n",
              "    .dataframe tbody tr th {\n",
              "        vertical-align: top;\n",
              "    }\n",
              "\n",
              "    .dataframe thead th {\n",
              "        text-align: right;\n",
              "    }\n",
              "</style>\n",
              "<table border=\"1\" class=\"dataframe\">\n",
              "  <thead>\n",
              "    <tr style=\"text-align: right;\">\n",
              "      <th></th>\n",
              "      <th>China Confirmed Cases</th>\n",
              "      <th>Predicted Cases</th>\n",
              "    </tr>\n",
              "    <tr>\n",
              "      <th>Dates</th>\n",
              "      <th></th>\n",
              "      <th></th>\n",
              "    </tr>\n",
              "  </thead>\n",
              "  <tbody>\n",
              "    <tr>\n",
              "      <th>01/22/2020</th>\n",
              "      <td>548</td>\n",
              "      <td>70513.0</td>\n",
              "    </tr>\n",
              "    <tr>\n",
              "      <th>01/23/2020</th>\n",
              "      <td>643</td>\n",
              "      <td>72434.0</td>\n",
              "    </tr>\n",
              "    <tr>\n",
              "      <th>01/24/2020</th>\n",
              "      <td>920</td>\n",
              "      <td>74211.0</td>\n",
              "    </tr>\n",
              "    <tr>\n",
              "      <th>01/25/2020</th>\n",
              "      <td>1406</td>\n",
              "      <td>74619.0</td>\n",
              "    </tr>\n",
              "  </tbody>\n",
              "</table>\n",
              "</div>"
            ],
            "text/plain": [
              "            China Confirmed Cases  Predicted Cases\n",
              "Dates                                             \n",
              "01/22/2020                    548          70513.0\n",
              "01/23/2020                    643          72434.0\n",
              "01/24/2020                    920          74211.0\n",
              "01/25/2020                   1406          74619.0"
            ]
          },
          "metadata": {
            "tags": []
          },
          "execution_count": 11
        }
      ]
    },
    {
      "cell_type": "code",
      "metadata": {
        "id": "Lq_4p2TdPaQh",
        "colab_type": "code",
        "outputId": "e1fc5654-7961-4fd0-9388-90f07750c576",
        "colab": {
          "base_uri": "https://localhost:8080/",
          "height": 669
        }
      },
      "source": [
        "df.tail(20)"
      ],
      "execution_count": 12,
      "outputs": [
        {
          "output_type": "execute_result",
          "data": {
            "text/html": [
              "<div>\n",
              "<style scoped>\n",
              "    .dataframe tbody tr th:only-of-type {\n",
              "        vertical-align: middle;\n",
              "    }\n",
              "\n",
              "    .dataframe tbody tr th {\n",
              "        vertical-align: top;\n",
              "    }\n",
              "\n",
              "    .dataframe thead th {\n",
              "        text-align: right;\n",
              "    }\n",
              "</style>\n",
              "<table border=\"1\" class=\"dataframe\">\n",
              "  <thead>\n",
              "    <tr style=\"text-align: right;\">\n",
              "      <th></th>\n",
              "      <th>China Confirmed Cases</th>\n",
              "      <th>Predicted Cases</th>\n",
              "    </tr>\n",
              "    <tr>\n",
              "      <th>Dates</th>\n",
              "      <th></th>\n",
              "      <th></th>\n",
              "    </tr>\n",
              "  </thead>\n",
              "  <tbody>\n",
              "    <tr>\n",
              "      <th>03/21/2020</th>\n",
              "      <td>81350</td>\n",
              "      <td>NaN</td>\n",
              "    </tr>\n",
              "    <tr>\n",
              "      <th>03/22/2020</th>\n",
              "      <td>81435</td>\n",
              "      <td>NaN</td>\n",
              "    </tr>\n",
              "    <tr>\n",
              "      <th>03/23/2020</th>\n",
              "      <td>81498</td>\n",
              "      <td>NaN</td>\n",
              "    </tr>\n",
              "    <tr>\n",
              "      <th>03/24/2020</th>\n",
              "      <td>81591</td>\n",
              "      <td>NaN</td>\n",
              "    </tr>\n",
              "    <tr>\n",
              "      <th>03/25/2020</th>\n",
              "      <td>81661</td>\n",
              "      <td>NaN</td>\n",
              "    </tr>\n",
              "    <tr>\n",
              "      <th>03/26/2020</th>\n",
              "      <td>81782</td>\n",
              "      <td>NaN</td>\n",
              "    </tr>\n",
              "    <tr>\n",
              "      <th>03/27/2020</th>\n",
              "      <td>81897</td>\n",
              "      <td>NaN</td>\n",
              "    </tr>\n",
              "    <tr>\n",
              "      <th>03/28/2020</th>\n",
              "      <td>81999</td>\n",
              "      <td>NaN</td>\n",
              "    </tr>\n",
              "    <tr>\n",
              "      <th>03/29/2020</th>\n",
              "      <td>82122</td>\n",
              "      <td>NaN</td>\n",
              "    </tr>\n",
              "    <tr>\n",
              "      <th>03/30/2020</th>\n",
              "      <td>82198</td>\n",
              "      <td>NaN</td>\n",
              "    </tr>\n",
              "    <tr>\n",
              "      <th>03/31/2020</th>\n",
              "      <td>82279</td>\n",
              "      <td>NaN</td>\n",
              "    </tr>\n",
              "    <tr>\n",
              "      <th>04/01/2020</th>\n",
              "      <td>82361</td>\n",
              "      <td>NaN</td>\n",
              "    </tr>\n",
              "    <tr>\n",
              "      <th>04/02/2020</th>\n",
              "      <td>82432</td>\n",
              "      <td>NaN</td>\n",
              "    </tr>\n",
              "    <tr>\n",
              "      <th>04/03/2020</th>\n",
              "      <td>82511</td>\n",
              "      <td>NaN</td>\n",
              "    </tr>\n",
              "    <tr>\n",
              "      <th>04/04/2020</th>\n",
              "      <td>82543</td>\n",
              "      <td>NaN</td>\n",
              "    </tr>\n",
              "    <tr>\n",
              "      <th>04/05/2020</th>\n",
              "      <td>82602</td>\n",
              "      <td>NaN</td>\n",
              "    </tr>\n",
              "    <tr>\n",
              "      <th>04/06/2020</th>\n",
              "      <td>82665</td>\n",
              "      <td>NaN</td>\n",
              "    </tr>\n",
              "    <tr>\n",
              "      <th>04/07/2020</th>\n",
              "      <td>82718</td>\n",
              "      <td>NaN</td>\n",
              "    </tr>\n",
              "    <tr>\n",
              "      <th>04/08/2020</th>\n",
              "      <td>82809</td>\n",
              "      <td>NaN</td>\n",
              "    </tr>\n",
              "    <tr>\n",
              "      <th>04/09/2020</th>\n",
              "      <td>82883</td>\n",
              "      <td>NaN</td>\n",
              "    </tr>\n",
              "  </tbody>\n",
              "</table>\n",
              "</div>"
            ],
            "text/plain": [
              "            China Confirmed Cases  Predicted Cases\n",
              "Dates                                             \n",
              "03/21/2020                  81350              NaN\n",
              "03/22/2020                  81435              NaN\n",
              "03/23/2020                  81498              NaN\n",
              "03/24/2020                  81591              NaN\n",
              "03/25/2020                  81661              NaN\n",
              "03/26/2020                  81782              NaN\n",
              "03/27/2020                  81897              NaN\n",
              "03/28/2020                  81999              NaN\n",
              "03/29/2020                  82122              NaN\n",
              "03/30/2020                  82198              NaN\n",
              "03/31/2020                  82279              NaN\n",
              "04/01/2020                  82361              NaN\n",
              "04/02/2020                  82432              NaN\n",
              "04/03/2020                  82511              NaN\n",
              "04/04/2020                  82543              NaN\n",
              "04/05/2020                  82602              NaN\n",
              "04/06/2020                  82665              NaN\n",
              "04/07/2020                  82718              NaN\n",
              "04/08/2020                  82809              NaN\n",
              "04/09/2020                  82883              NaN"
            ]
          },
          "metadata": {
            "tags": []
          },
          "execution_count": 12
        }
      ]
    },
    {
      "cell_type": "code",
      "metadata": {
        "id": "dBJojLg2Pmqm",
        "colab_type": "code",
        "outputId": "238e2f7f-52d8-470d-bc5b-a92731dbee4f",
        "colab": {
          "base_uri": "https://localhost:8080/",
          "height": 924
        }
      },
      "source": [
        "X = np.array(df.drop(['Predicted Cases'], 1))[:-future_days]\n",
        "print(X)"
      ],
      "execution_count": 13,
      "outputs": [
        {
          "output_type": "stream",
          "text": [
            "[[  548]\n",
            " [  643]\n",
            " [  920]\n",
            " [ 1406]\n",
            " [ 2075]\n",
            " [ 2877]\n",
            " [ 5509]\n",
            " [ 6087]\n",
            " [ 8141]\n",
            " [ 9802]\n",
            " [11891]\n",
            " [16630]\n",
            " [19716]\n",
            " [23707]\n",
            " [27440]\n",
            " [30587]\n",
            " [34110]\n",
            " [36814]\n",
            " [39829]\n",
            " [42354]\n",
            " [44386]\n",
            " [44759]\n",
            " [59895]\n",
            " [66358]\n",
            " [68413]\n",
            " [70513]\n",
            " [72434]\n",
            " [74211]\n",
            " [74619]\n",
            " [75077]\n",
            " [75550]\n",
            " [77001]\n",
            " [77022]\n",
            " [77241]\n",
            " [77754]\n",
            " [78166]\n",
            " [78600]\n",
            " [78928]\n",
            " [79356]\n",
            " [79932]\n",
            " [80136]\n",
            " [80261]\n",
            " [80386]\n",
            " [80537]\n",
            " [80690]\n",
            " [80770]\n",
            " [80823]\n",
            " [80860]\n",
            " [80887]\n",
            " [80921]\n",
            " [80932]\n",
            " [80945]\n",
            " [80977]\n",
            " [81003]]\n"
          ],
          "name": "stdout"
        }
      ]
    },
    {
      "cell_type": "code",
      "metadata": {
        "id": "-ztJYcsaQ6qt",
        "colab_type": "code",
        "outputId": "72b5a576-1d68-4625-ca36-6e5f9961f350",
        "colab": {
          "base_uri": "https://localhost:8080/",
          "height": 118
        }
      },
      "source": [
        "y = np.array(df['Predicted Cases'])[:-future_days]\n",
        "print(y)"
      ],
      "execution_count": 14,
      "outputs": [
        {
          "output_type": "stream",
          "text": [
            "[70513. 72434. 74211. 74619. 75077. 75550. 77001. 77022. 77241. 77754.\n",
            " 78166. 78600. 78928. 79356. 79932. 80136. 80261. 80386. 80537. 80690.\n",
            " 80770. 80823. 80860. 80887. 80921. 80932. 80945. 80977. 81003. 81003.\n",
            " 81058. 81102. 81156. 81250. 81350. 81435. 81498. 81591. 81661. 81782.\n",
            " 81897. 81999. 82122. 82198. 82279. 82361. 82432. 82511. 82543. 82602.\n",
            " 82665. 82718. 82809. 82883.]\n"
          ],
          "name": "stdout"
        }
      ]
    },
    {
      "cell_type": "code",
      "metadata": {
        "id": "fGN9tyk-Th_3",
        "colab_type": "code",
        "colab": {}
      },
      "source": [
        "x_train, x_test, y_train, y_test = train_test_split(X, y, test_size = 0.25)\n"
      ],
      "execution_count": 0,
      "outputs": []
    },
    {
      "cell_type": "code",
      "metadata": {
        "id": "ysK5qsIHUT8g",
        "colab_type": "code",
        "colab": {}
      },
      "source": [
        "tree = DecisionTreeRegressor().fit(x_train, y_train)\n",
        "lr = LinearRegression().fit(x_train, y_train)"
      ],
      "execution_count": 0,
      "outputs": []
    },
    {
      "cell_type": "code",
      "metadata": {
        "id": "RrvRuufqUnOe",
        "colab_type": "code",
        "outputId": "03fe3f01-be75-4bb1-f780-e35fe76bc6dd",
        "colab": {
          "base_uri": "https://localhost:8080/",
          "height": 437
        }
      },
      "source": [
        "x_future = df.drop(['Predicted Cases'], 1)[:-future_days]\n",
        "x_future = x_future.tail(future_days)\n",
        "x_future = np.array(x_future)\n",
        "x_future"
      ],
      "execution_count": 17,
      "outputs": [
        {
          "output_type": "execute_result",
          "data": {
            "text/plain": [
              "array([[75077],\n",
              "       [75550],\n",
              "       [77001],\n",
              "       [77022],\n",
              "       [77241],\n",
              "       [77754],\n",
              "       [78166],\n",
              "       [78600],\n",
              "       [78928],\n",
              "       [79356],\n",
              "       [79932],\n",
              "       [80136],\n",
              "       [80261],\n",
              "       [80386],\n",
              "       [80537],\n",
              "       [80690],\n",
              "       [80770],\n",
              "       [80823],\n",
              "       [80860],\n",
              "       [80887],\n",
              "       [80921],\n",
              "       [80932],\n",
              "       [80945],\n",
              "       [80977],\n",
              "       [81003]])"
            ]
          },
          "metadata": {
            "tags": []
          },
          "execution_count": 17
        }
      ]
    },
    {
      "cell_type": "code",
      "metadata": {
        "id": "aHRneIw7VbYN",
        "colab_type": "code",
        "outputId": "854585ac-7a80-422e-d16f-e78816f9539d",
        "colab": {
          "base_uri": "https://localhost:8080/",
          "height": 202
        }
      },
      "source": [
        "tree_predictions = tree.predict(x_future)\n",
        "print(tree_predictions)\n",
        "print()\n",
        "lr_predictions = lr.predict(x_future)\n",
        "print(lr_predictions)"
      ],
      "execution_count": 18,
      "outputs": [
        {
          "output_type": "stream",
          "text": [
            "[81003. 81003. 81156. 81156. 81250. 81350. 81435. 81435. 81661. 81661.\n",
            " 81782. 81897. 81999. 82122. 82198. 82279. 82432. 82432. 82511. 82543.\n",
            " 82602. 82602. 82718. 82883. 82883.]\n",
            "\n",
            "[81811.13514855 81849.83266752 81968.54323841 81970.26131007\n",
            " 81988.17834317 82030.1483796  82063.85530945 82099.3621239\n",
            " 82126.19676707 82161.2127039  82208.33695534 82225.02679439\n",
            " 82235.25341145 82245.48002852 82257.83378193 82270.35116122\n",
            " 82276.89619614 82281.23228177 82284.25936042 82286.46830971\n",
            " 82289.24994955 82290.14989185 82291.21346003 82293.831474\n",
            " 82295.95861035]\n"
          ],
          "name": "stdout"
        }
      ]
    },
    {
      "cell_type": "code",
      "metadata": {
        "id": "6osrr3d3VqPe",
        "colab_type": "code",
        "outputId": "78463b20-97d8-4df8-bb5c-51d619c791d2",
        "colab": {
          "base_uri": "https://localhost:8080/",
          "height": 662
        }
      },
      "source": [
        "predictions = tree_predictions\n",
        "\n",
        "valid = df[X.shape[0]:]\n",
        "valid['Predicted Cases'] = predictions\n",
        "\n",
        "plt.figure(figsize=(16,8))\n",
        "plt.title('Model')\n",
        "plt.xlabel('Dates')\n",
        "plt.ylabel('Predicted Cases')\n",
        "plt.plot(df['China Confirmed Cases'])\n",
        "plt.plot(valid['China Confirmed Cases'])\n",
        "plt.plot(valid['Predicted Cases'])\n",
        "plt.xticks(rotation=90)\n",
        "plt.legend(['Orig', 'Val', 'Pred'])\n",
        "plt.show()\n"
      ],
      "execution_count": 62,
      "outputs": [
        {
          "output_type": "stream",
          "text": [
            "/usr/local/lib/python3.6/dist-packages/ipykernel_launcher.py:4: SettingWithCopyWarning: \n",
            "A value is trying to be set on a copy of a slice from a DataFrame.\n",
            "Try using .loc[row_indexer,col_indexer] = value instead\n",
            "\n",
            "See the caveats in the documentation: https://pandas.pydata.org/pandas-docs/stable/user_guide/indexing.html#returning-a-view-versus-a-copy\n",
            "  after removing the cwd from sys.path.\n"
          ],
          "name": "stderr"
        },
        {
          "output_type": "display_data",
          "data": {
            "image/png": "[encoded data removed]",
            "text/plain": [
              "<Figure size 1152x576 with 1 Axes>"
            ]
          },
          "metadata": {
            "tags": [],
            "needs_background": "light"
          }
        }
      ]
    },
    {
      "cell_type": "code",
      "metadata": {
        "id": "LIeCTaIFQ1JC",
        "colab_type": "code",
        "outputId": "c515aab2-0949-456b-9bf2-359483eaaad6",
        "colab": {
          "base_uri": "https://localhost:8080/",
          "height": 817
        }
      },
      "source": [
        "valid"
      ],
      "execution_count": 20,
      "outputs": [
        {
          "output_type": "execute_result",
          "data": {
            "text/html": [
              "<div>\n",
              "<style scoped>\n",
              "    .dataframe tbody tr th:only-of-type {\n",
              "        vertical-align: middle;\n",
              "    }\n",
              "\n",
              "    .dataframe tbody tr th {\n",
              "        vertical-align: top;\n",
              "    }\n",
              "\n",
              "    .dataframe thead th {\n",
              "        text-align: right;\n",
              "    }\n",
              "</style>\n",
              "<table border=\"1\" class=\"dataframe\">\n",
              "  <thead>\n",
              "    <tr style=\"text-align: right;\">\n",
              "      <th></th>\n",
              "      <th>China Confirmed Cases</th>\n",
              "      <th>Predicted Cases</th>\n",
              "    </tr>\n",
              "    <tr>\n",
              "      <th>Dates</th>\n",
              "      <th></th>\n",
              "      <th></th>\n",
              "    </tr>\n",
              "  </thead>\n",
              "  <tbody>\n",
              "    <tr>\n",
              "      <th>03/16/2020</th>\n",
              "      <td>81003</td>\n",
              "      <td>81003.0</td>\n",
              "    </tr>\n",
              "    <tr>\n",
              "      <th>03/17/2020</th>\n",
              "      <td>81058</td>\n",
              "      <td>81003.0</td>\n",
              "    </tr>\n",
              "    <tr>\n",
              "      <th>03/18/2020</th>\n",
              "      <td>81102</td>\n",
              "      <td>81156.0</td>\n",
              "    </tr>\n",
              "    <tr>\n",
              "      <th>03/19/2020</th>\n",
              "      <td>81156</td>\n",
              "      <td>81156.0</td>\n",
              "    </tr>\n",
              "    <tr>\n",
              "      <th>03/20/2020</th>\n",
              "      <td>81250</td>\n",
              "      <td>81250.0</td>\n",
              "    </tr>\n",
              "    <tr>\n",
              "      <th>03/21/2020</th>\n",
              "      <td>81350</td>\n",
              "      <td>81350.0</td>\n",
              "    </tr>\n",
              "    <tr>\n",
              "      <th>03/22/2020</th>\n",
              "      <td>81435</td>\n",
              "      <td>81435.0</td>\n",
              "    </tr>\n",
              "    <tr>\n",
              "      <th>03/23/2020</th>\n",
              "      <td>81498</td>\n",
              "      <td>81435.0</td>\n",
              "    </tr>\n",
              "    <tr>\n",
              "      <th>03/24/2020</th>\n",
              "      <td>81591</td>\n",
              "      <td>81661.0</td>\n",
              "    </tr>\n",
              "    <tr>\n",
              "      <th>03/25/2020</th>\n",
              "      <td>81661</td>\n",
              "      <td>81661.0</td>\n",
              "    </tr>\n",
              "    <tr>\n",
              "      <th>03/26/2020</th>\n",
              "      <td>81782</td>\n",
              "      <td>81782.0</td>\n",
              "    </tr>\n",
              "    <tr>\n",
              "      <th>03/27/2020</th>\n",
              "      <td>81897</td>\n",
              "      <td>81897.0</td>\n",
              "    </tr>\n",
              "    <tr>\n",
              "      <th>03/28/2020</th>\n",
              "      <td>81999</td>\n",
              "      <td>81999.0</td>\n",
              "    </tr>\n",
              "    <tr>\n",
              "      <th>03/29/2020</th>\n",
              "      <td>82122</td>\n",
              "      <td>82122.0</td>\n",
              "    </tr>\n",
              "    <tr>\n",
              "      <th>03/30/2020</th>\n",
              "      <td>82198</td>\n",
              "      <td>82198.0</td>\n",
              "    </tr>\n",
              "    <tr>\n",
              "      <th>03/31/2020</th>\n",
              "      <td>82279</td>\n",
              "      <td>82279.0</td>\n",
              "    </tr>\n",
              "    <tr>\n",
              "      <th>04/01/2020</th>\n",
              "      <td>82361</td>\n",
              "      <td>82432.0</td>\n",
              "    </tr>\n",
              "    <tr>\n",
              "      <th>04/02/2020</th>\n",
              "      <td>82432</td>\n",
              "      <td>82432.0</td>\n",
              "    </tr>\n",
              "    <tr>\n",
              "      <th>04/03/2020</th>\n",
              "      <td>82511</td>\n",
              "      <td>82511.0</td>\n",
              "    </tr>\n",
              "    <tr>\n",
              "      <th>04/04/2020</th>\n",
              "      <td>82543</td>\n",
              "      <td>82543.0</td>\n",
              "    </tr>\n",
              "    <tr>\n",
              "      <th>04/05/2020</th>\n",
              "      <td>82602</td>\n",
              "      <td>82602.0</td>\n",
              "    </tr>\n",
              "    <tr>\n",
              "      <th>04/06/2020</th>\n",
              "      <td>82665</td>\n",
              "      <td>82602.0</td>\n",
              "    </tr>\n",
              "    <tr>\n",
              "      <th>04/07/2020</th>\n",
              "      <td>82718</td>\n",
              "      <td>82718.0</td>\n",
              "    </tr>\n",
              "    <tr>\n",
              "      <th>04/08/2020</th>\n",
              "      <td>82809</td>\n",
              "      <td>82883.0</td>\n",
              "    </tr>\n",
              "    <tr>\n",
              "      <th>04/09/2020</th>\n",
              "      <td>82883</td>\n",
              "      <td>82883.0</td>\n",
              "    </tr>\n",
              "  </tbody>\n",
              "</table>\n",
              "</div>"
            ],
            "text/plain": [
              "            China Confirmed Cases  Predicted Cases\n",
              "Dates                                             \n",
              "03/16/2020                  81003          81003.0\n",
              "03/17/2020                  81058          81003.0\n",
              "03/18/2020                  81102          81156.0\n",
              "03/19/2020                  81156          81156.0\n",
              "03/20/2020                  81250          81250.0\n",
              "03/21/2020                  81350          81350.0\n",
              "03/22/2020                  81435          81435.0\n",
              "03/23/2020                  81498          81435.0\n",
              "03/24/2020                  81591          81661.0\n",
              "03/25/2020                  81661          81661.0\n",
              "03/26/2020                  81782          81782.0\n",
              "03/27/2020                  81897          81897.0\n",
              "03/28/2020                  81999          81999.0\n",
              "03/29/2020                  82122          82122.0\n",
              "03/30/2020                  82198          82198.0\n",
              "03/31/2020                  82279          82279.0\n",
              "04/01/2020                  82361          82432.0\n",
              "04/02/2020                  82432          82432.0\n",
              "04/03/2020                  82511          82511.0\n",
              "04/04/2020                  82543          82543.0\n",
              "04/05/2020                  82602          82602.0\n",
              "04/06/2020                  82665          82602.0\n",
              "04/07/2020                  82718          82718.0\n",
              "04/08/2020                  82809          82883.0\n",
              "04/09/2020                  82883          82883.0"
            ]
          },
          "metadata": {
            "tags": []
          },
          "execution_count": 20
        }
      ]
    },
    {
      "cell_type": "code",
      "metadata": {
        "id": "mcscwDMaQ9sy",
        "colab_type": "code",
        "outputId": "8e0fe813-28ad-4426-9eae-1293cd181c2e",
        "colab": {
          "base_uri": "https://localhost:8080/",
          "height": 34
        }
      },
      "source": [
        "from sklearn.metrics import r2_score\n",
        "score = r2_score(valid['China Confirmed Cases'], valid['Predicted Cases'])\n",
        "print(score)"
      ],
      "execution_count": 21,
      "outputs": [
        {
          "output_type": "stream",
          "text": [
            "0.9967477378705143\n"
          ],
          "name": "stdout"
        }
      ]
    },
    {
      "cell_type": "code",
      "metadata": {
        "id": "gUsHrbQSS-Ad",
        "colab_type": "code",
        "outputId": "9d0b8d20-9894-4182-e725-883e8d9b7272",
        "colab": {
          "base_uri": "https://localhost:8080/",
          "height": 296
        }
      },
      "source": [
        "valid.plot()"
      ],
      "execution_count": 22,
      "outputs": [
        {
          "output_type": "execute_result",
          "data": {
            "text/plain": [
              "<matplotlib.axes._subplots.AxesSubplot at 0x7f51ff2529e8>"
            ]
          },
          "metadata": {
            "tags": []
          },
          "execution_count": 22
        },
        {
          "output_type": "display_data",
          "data": {
            "image/png": "[encoded data removed]",
            "text/plain": [
              "<Figure size 432x288 with 1 Axes>"
            ]
          },
          "metadata": {
            "tags": [],
            "needs_background": "light"
          }
        }
      ]
    },
    {
      "cell_type": "markdown",
      "metadata": {
        "id": "N_v3pHJWqoW9",
        "colab_type": "text"
      },
      "source": [
        ""
      ]
    },
    {
      "cell_type": "code",
      "metadata": {
        "id": "u1KkTYbaoogQ",
        "colab_type": "code",
        "outputId": "19811eab-514d-48d9-e590-f1cc337f32c6",
        "colab": {
          "base_uri": "https://localhost:8080/",
          "height": 373
        }
      },
      "source": [
        "df2= pd.read_csv('/content/drive/My Drive/Total_cases_China.csv', index_col = 'Dates')\n",
        "df2.head(10)"
      ],
      "execution_count": 23,
      "outputs": [
        {
          "output_type": "execute_result",
          "data": {
            "text/html": [
              "<div>\n",
              "<style scoped>\n",
              "    .dataframe tbody tr th:only-of-type {\n",
              "        vertical-align: middle;\n",
              "    }\n",
              "\n",
              "    .dataframe tbody tr th {\n",
              "        vertical-align: top;\n",
              "    }\n",
              "\n",
              "    .dataframe thead th {\n",
              "        text-align: right;\n",
              "    }\n",
              "</style>\n",
              "<table border=\"1\" class=\"dataframe\">\n",
              "  <thead>\n",
              "    <tr style=\"text-align: right;\">\n",
              "      <th></th>\n",
              "      <th>China Confirmed Cases</th>\n",
              "      <th>Confirmed Deaths</th>\n",
              "      <th>Confirmed Recovered</th>\n",
              "    </tr>\n",
              "    <tr>\n",
              "      <th>Dates</th>\n",
              "      <th></th>\n",
              "      <th></th>\n",
              "      <th></th>\n",
              "    </tr>\n",
              "  </thead>\n",
              "  <tbody>\n",
              "    <tr>\n",
              "      <th>01/22/2020</th>\n",
              "      <td>548</td>\n",
              "      <td>17</td>\n",
              "      <td>28</td>\n",
              "    </tr>\n",
              "    <tr>\n",
              "      <th>01/23/2020</th>\n",
              "      <td>643</td>\n",
              "      <td>18</td>\n",
              "      <td>30</td>\n",
              "    </tr>\n",
              "    <tr>\n",
              "      <th>01/24/2020</th>\n",
              "      <td>920</td>\n",
              "      <td>26</td>\n",
              "      <td>36</td>\n",
              "    </tr>\n",
              "    <tr>\n",
              "      <th>01/25/2020</th>\n",
              "      <td>1406</td>\n",
              "      <td>42</td>\n",
              "      <td>39</td>\n",
              "    </tr>\n",
              "    <tr>\n",
              "      <th>01/26/2020</th>\n",
              "      <td>2075</td>\n",
              "      <td>56</td>\n",
              "      <td>49</td>\n",
              "    </tr>\n",
              "    <tr>\n",
              "      <th>01/27/2020</th>\n",
              "      <td>2877</td>\n",
              "      <td>82</td>\n",
              "      <td>58</td>\n",
              "    </tr>\n",
              "    <tr>\n",
              "      <th>01/28/2020</th>\n",
              "      <td>5509</td>\n",
              "      <td>131</td>\n",
              "      <td>101</td>\n",
              "    </tr>\n",
              "    <tr>\n",
              "      <th>01/29/2020</th>\n",
              "      <td>6087</td>\n",
              "      <td>133</td>\n",
              "      <td>120</td>\n",
              "    </tr>\n",
              "    <tr>\n",
              "      <th>01/30/2020</th>\n",
              "      <td>8141</td>\n",
              "      <td>171</td>\n",
              "      <td>135</td>\n",
              "    </tr>\n",
              "    <tr>\n",
              "      <th>01/31/2020</th>\n",
              "      <td>9802</td>\n",
              "      <td>213</td>\n",
              "      <td>214</td>\n",
              "    </tr>\n",
              "  </tbody>\n",
              "</table>\n",
              "</div>"
            ],
            "text/plain": [
              "            China Confirmed Cases  Confirmed Deaths  Confirmed Recovered\n",
              "Dates                                                                   \n",
              "01/22/2020                    548                17                   28\n",
              "01/23/2020                    643                18                   30\n",
              "01/24/2020                    920                26                   36\n",
              "01/25/2020                   1406                42                   39\n",
              "01/26/2020                   2075                56                   49\n",
              "01/27/2020                   2877                82                   58\n",
              "01/28/2020                   5509               131                  101\n",
              "01/29/2020                   6087               133                  120\n",
              "01/30/2020                   8141               171                  135\n",
              "01/31/2020                   9802               213                  214"
            ]
          },
          "metadata": {
            "tags": []
          },
          "execution_count": 23
        }
      ]
    },
    {
      "cell_type": "code",
      "metadata": {
        "id": "wXjiNHbFo2Wf",
        "colab_type": "code",
        "colab": {}
      },
      "source": [
        "df2 = df2[['Confirmed Deaths']]"
      ],
      "execution_count": 0,
      "outputs": []
    },
    {
      "cell_type": "code",
      "metadata": {
        "id": "B6lKm6KYo5DR",
        "colab_type": "code",
        "outputId": "92424f0f-9e50-485e-f18c-49bf2de7a017",
        "colab": {
          "base_uri": "https://localhost:8080/",
          "height": 225
        }
      },
      "source": [
        "df2.head()"
      ],
      "execution_count": 25,
      "outputs": [
        {
          "output_type": "execute_result",
          "data": {
            "text/html": [
              "<div>\n",
              "<style scoped>\n",
              "    .dataframe tbody tr th:only-of-type {\n",
              "        vertical-align: middle;\n",
              "    }\n",
              "\n",
              "    .dataframe tbody tr th {\n",
              "        vertical-align: top;\n",
              "    }\n",
              "\n",
              "    .dataframe thead th {\n",
              "        text-align: right;\n",
              "    }\n",
              "</style>\n",
              "<table border=\"1\" class=\"dataframe\">\n",
              "  <thead>\n",
              "    <tr style=\"text-align: right;\">\n",
              "      <th></th>\n",
              "      <th>Confirmed Deaths</th>\n",
              "    </tr>\n",
              "    <tr>\n",
              "      <th>Dates</th>\n",
              "      <th></th>\n",
              "    </tr>\n",
              "  </thead>\n",
              "  <tbody>\n",
              "    <tr>\n",
              "      <th>01/22/2020</th>\n",
              "      <td>17</td>\n",
              "    </tr>\n",
              "    <tr>\n",
              "      <th>01/23/2020</th>\n",
              "      <td>18</td>\n",
              "    </tr>\n",
              "    <tr>\n",
              "      <th>01/24/2020</th>\n",
              "      <td>26</td>\n",
              "    </tr>\n",
              "    <tr>\n",
              "      <th>01/25/2020</th>\n",
              "      <td>42</td>\n",
              "    </tr>\n",
              "    <tr>\n",
              "      <th>01/26/2020</th>\n",
              "      <td>56</td>\n",
              "    </tr>\n",
              "  </tbody>\n",
              "</table>\n",
              "</div>"
            ],
            "text/plain": [
              "            Confirmed Deaths\n",
              "Dates                       \n",
              "01/22/2020                17\n",
              "01/23/2020                18\n",
              "01/24/2020                26\n",
              "01/25/2020                42\n",
              "01/26/2020                56"
            ]
          },
          "metadata": {
            "tags": []
          },
          "execution_count": 25
        }
      ]
    },
    {
      "cell_type": "code",
      "metadata": {
        "id": "b4pVTMhfo7gp",
        "colab_type": "code",
        "outputId": "c5b9b9e7-a8f5-4607-d3ab-7adbf9fc2132",
        "colab": {
          "base_uri": "https://localhost:8080/",
          "height": 195
        }
      },
      "source": [
        "future_days_deaths = 25\n",
        "df2['Predicted Deaths'] = df2[['Confirmed Deaths']].shift(-future_days_deaths)\n",
        "df2.tail(4)"
      ],
      "execution_count": 26,
      "outputs": [
        {
          "output_type": "execute_result",
          "data": {
            "text/html": [
              "<div>\n",
              "<style scoped>\n",
              "    .dataframe tbody tr th:only-of-type {\n",
              "        vertical-align: middle;\n",
              "    }\n",
              "\n",
              "    .dataframe tbody tr th {\n",
              "        vertical-align: top;\n",
              "    }\n",
              "\n",
              "    .dataframe thead th {\n",
              "        text-align: right;\n",
              "    }\n",
              "</style>\n",
              "<table border=\"1\" class=\"dataframe\">\n",
              "  <thead>\n",
              "    <tr style=\"text-align: right;\">\n",
              "      <th></th>\n",
              "      <th>Confirmed Deaths</th>\n",
              "      <th>Predicted Deaths</th>\n",
              "    </tr>\n",
              "    <tr>\n",
              "      <th>Dates</th>\n",
              "      <th></th>\n",
              "      <th></th>\n",
              "    </tr>\n",
              "  </thead>\n",
              "  <tbody>\n",
              "    <tr>\n",
              "      <th>04/06/2020</th>\n",
              "      <td>3335</td>\n",
              "      <td>NaN</td>\n",
              "    </tr>\n",
              "    <tr>\n",
              "      <th>04/07/2020</th>\n",
              "      <td>3335</td>\n",
              "      <td>NaN</td>\n",
              "    </tr>\n",
              "    <tr>\n",
              "      <th>04/08/2020</th>\n",
              "      <td>3337</td>\n",
              "      <td>NaN</td>\n",
              "    </tr>\n",
              "    <tr>\n",
              "      <th>04/09/2020</th>\n",
              "      <td>3339</td>\n",
              "      <td>NaN</td>\n",
              "    </tr>\n",
              "  </tbody>\n",
              "</table>\n",
              "</div>"
            ],
            "text/plain": [
              "            Confirmed Deaths  Predicted Deaths\n",
              "Dates                                         \n",
              "04/06/2020              3335               NaN\n",
              "04/07/2020              3335               NaN\n",
              "04/08/2020              3337               NaN\n",
              "04/09/2020              3339               NaN"
            ]
          },
          "metadata": {
            "tags": []
          },
          "execution_count": 26
        }
      ]
    },
    {
      "cell_type": "code",
      "metadata": {
        "id": "9TymVp_SpHWg",
        "colab_type": "code",
        "outputId": "6d0403b5-874d-4627-ea4d-6437b836859f",
        "colab": {
          "base_uri": "https://localhost:8080/",
          "height": 300
        }
      },
      "source": [
        "df2['Confirmed Deaths'].plot()"
      ],
      "execution_count": 27,
      "outputs": [
        {
          "output_type": "execute_result",
          "data": {
            "text/plain": [
              "<matplotlib.axes._subplots.AxesSubplot at 0x7f51ff1ce518>"
            ]
          },
          "metadata": {
            "tags": []
          },
          "execution_count": 27
        },
        {
          "output_type": "display_data",
          "data": {
            "image/png": "[encoded data removed]",
            "text/plain": [
              "<Figure size 432x288 with 1 Axes>"
            ]
          },
          "metadata": {
            "tags": [],
            "needs_background": "light"
          }
        }
      ]
    },
    {
      "cell_type": "code",
      "metadata": {
        "id": "0vLGqqbppLMO",
        "colab_type": "code",
        "outputId": "b99cb5ec-933b-4711-8747-e7b99ab02c3a",
        "colab": {
          "base_uri": "https://localhost:8080/",
          "height": 924
        }
      },
      "source": [
        "X1 = np.array(df2.drop(['Predicted Deaths'], 1))[:-future_days_deaths]\n",
        "print(X1)"
      ],
      "execution_count": 28,
      "outputs": [
        {
          "output_type": "stream",
          "text": [
            "[[  17]\n",
            " [  18]\n",
            " [  26]\n",
            " [  42]\n",
            " [  56]\n",
            " [  82]\n",
            " [ 131]\n",
            " [ 133]\n",
            " [ 171]\n",
            " [ 213]\n",
            " [ 259]\n",
            " [ 361]\n",
            " [ 425]\n",
            " [ 491]\n",
            " [ 563]\n",
            " [ 633]\n",
            " [ 718]\n",
            " [ 805]\n",
            " [ 905]\n",
            " [1012]\n",
            " [1112]\n",
            " [1117]\n",
            " [1369]\n",
            " [1521]\n",
            " [1663]\n",
            " [1766]\n",
            " [1864]\n",
            " [2003]\n",
            " [2116]\n",
            " [2238]\n",
            " [2238]\n",
            " [2443]\n",
            " [2445]\n",
            " [2595]\n",
            " [2665]\n",
            " [2717]\n",
            " [2746]\n",
            " [2790]\n",
            " [2837]\n",
            " [2872]\n",
            " [2914]\n",
            " [2947]\n",
            " [2983]\n",
            " [3015]\n",
            " [3044]\n",
            " [3072]\n",
            " [3100]\n",
            " [3123]\n",
            " [3139]\n",
            " [3161]\n",
            " [3172]\n",
            " [3180]\n",
            " [3193]\n",
            " [3203]]\n"
          ],
          "name": "stdout"
        }
      ]
    },
    {
      "cell_type": "code",
      "metadata": {
        "id": "pzFe6lEcpV8j",
        "colab_type": "code",
        "outputId": "eebcd765-5f5e-477c-9d96-9a77da9852e5",
        "colab": {
          "base_uri": "https://localhost:8080/",
          "height": 101
        }
      },
      "source": [
        "y1 = np.array(df2['Predicted Deaths'])[:-future_days_deaths]\n",
        "print(y1)"
      ],
      "execution_count": 29,
      "outputs": [
        {
          "output_type": "stream",
          "text": [
            "[1766. 1864. 2003. 2116. 2238. 2238. 2443. 2445. 2595. 2665. 2717. 2746.\n",
            " 2790. 2837. 2872. 2914. 2947. 2983. 3015. 3044. 3072. 3100. 3123. 3139.\n",
            " 3161. 3172. 3180. 3193. 3203. 3217. 3230. 3241. 3249. 3253. 3259. 3274.\n",
            " 3274. 3281. 3285. 3291. 3296. 3299. 3304. 3308. 3309. 3316. 3322. 3326.\n",
            " 3330. 3333. 3335. 3335. 3337. 3339.]\n"
          ],
          "name": "stdout"
        }
      ]
    },
    {
      "cell_type": "code",
      "metadata": {
        "id": "vsp7Cjnjpflz",
        "colab_type": "code",
        "colab": {}
      },
      "source": [
        "x_train2, x_test2, y_train2, y_test2 = train_test_split(X1, y1, test_size = 0.25)\n"
      ],
      "execution_count": 0,
      "outputs": []
    },
    {
      "cell_type": "code",
      "metadata": {
        "id": "J5hJE6U4pppI",
        "colab_type": "code",
        "colab": {}
      },
      "source": [
        "tree2 = DecisionTreeRegressor().fit(x_train2, y_train2)\n",
        "lr2 = LinearRegression().fit(x_train2, y_train2)"
      ],
      "execution_count": 0,
      "outputs": []
    },
    {
      "cell_type": "code",
      "metadata": {
        "id": "BqvwX4MepyP0",
        "colab_type": "code",
        "outputId": "cc3dc61e-973c-4fa7-fe98-ec6334212846",
        "colab": {
          "base_uri": "https://localhost:8080/",
          "height": 437
        }
      },
      "source": [
        "x_future2 = df2.drop(['Predicted Deaths'], 1)[:-future_days_deaths]\n",
        "x_future2 = x_future2.tail(future_days_deaths)\n",
        "x_future2 = np.array(x_future2)\n",
        "x_future2"
      ],
      "execution_count": 32,
      "outputs": [
        {
          "output_type": "execute_result",
          "data": {
            "text/plain": [
              "array([[2238],\n",
              "       [2238],\n",
              "       [2443],\n",
              "       [2445],\n",
              "       [2595],\n",
              "       [2665],\n",
              "       [2717],\n",
              "       [2746],\n",
              "       [2790],\n",
              "       [2837],\n",
              "       [2872],\n",
              "       [2914],\n",
              "       [2947],\n",
              "       [2983],\n",
              "       [3015],\n",
              "       [3044],\n",
              "       [3072],\n",
              "       [3100],\n",
              "       [3123],\n",
              "       [3139],\n",
              "       [3161],\n",
              "       [3172],\n",
              "       [3180],\n",
              "       [3193],\n",
              "       [3203]])"
            ]
          },
          "metadata": {
            "tags": []
          },
          "execution_count": 32
        }
      ]
    },
    {
      "cell_type": "code",
      "metadata": {
        "id": "TrrKGYD6p9A1",
        "colab_type": "code",
        "outputId": "7b7c20c0-f092-40b9-8f33-cb6964435fb9",
        "colab": {
          "base_uri": "https://localhost:8080/",
          "height": 168
        }
      },
      "source": [
        "tree_predictions2 = tree2.predict(x_future2)\n",
        "print(tree_predictions2)\n",
        "print()\n",
        "lr_predictions2 = lr2.predict(x_future2)\n",
        "print(lr_predictions2)"
      ],
      "execution_count": 33,
      "outputs": [
        {
          "output_type": "stream",
          "text": [
            "[3223.5 3223.5 3241.  3249.  3253.  3259.  3274.  3274.  3281.  3285.\n",
            " 3285.  3296.  3296.  3304.  3308.  3309.  3309.  3322.  3326.  3330.\n",
            " 3333.  3335.  3335.  3337.  3337. ]\n",
            "\n",
            "[3147.47150579 3147.47150579 3213.10861924 3213.74898133 3261.77613752\n",
            " 3284.1888104  3300.83822455 3310.12347475 3324.21144056 3339.2599495\n",
            " 3350.46628594 3363.91388968 3374.47986404 3386.00638152 3396.25217484\n",
            " 3405.53742504 3414.5024942  3423.46756335 3430.8317273  3435.95462396\n",
            " 3442.99860687 3446.52059832 3449.08204665 3453.24440019 3456.4462106 ]\n"
          ],
          "name": "stdout"
        }
      ]
    },
    {
      "cell_type": "code",
      "metadata": {
        "id": "p-6opNICqHbk",
        "colab_type": "code",
        "outputId": "eef75123-7425-4675-e4c5-cfca017ea987",
        "colab": {
          "base_uri": "https://localhost:8080/",
          "height": 662
        }
      },
      "source": [
        "predictions2 = tree_predictions2\n",
        "\n",
        "valid2 = df2[X1.shape[0]:]\n",
        "valid2['Predicted Deaths'] = predictions2\n",
        "\n",
        "plt.figure(figsize=(16,8))\n",
        "plt.title('Model')\n",
        "plt.xlabel('Dates')\n",
        "plt.ylabel('Predicted Cases')\n",
        "plt.plot(df2['Confirmed Deaths'])\n",
        "plt.plot(valid2['Confirmed Deaths'])\n",
        "plt.plot(valid2['Predicted Deaths'])\n",
        "plt.xticks(rotation=90)\n",
        "plt.legend(['Orig', 'Val', 'Pred'])\n",
        "plt.show()\n"
      ],
      "execution_count": 63,
      "outputs": [
        {
          "output_type": "stream",
          "text": [
            "/usr/local/lib/python3.6/dist-packages/ipykernel_launcher.py:4: SettingWithCopyWarning: \n",
            "A value is trying to be set on a copy of a slice from a DataFrame.\n",
            "Try using .loc[row_indexer,col_indexer] = value instead\n",
            "\n",
            "See the caveats in the documentation: https://pandas.pydata.org/pandas-docs/stable/user_guide/indexing.html#returning-a-view-versus-a-copy\n",
            "  after removing the cwd from sys.path.\n"
          ],
          "name": "stderr"
        },
        {
          "output_type": "display_data",
          "data": {
            "image/png": "[encoded data removed]",
            "text/plain": [
              "<Figure size 1152x576 with 1 Axes>"
            ]
          },
          "metadata": {
            "tags": [],
            "needs_background": "light"
          }
        }
      ]
    },
    {
      "cell_type": "code",
      "metadata": {
        "id": "4FZ6JT4fqfLH",
        "colab_type": "code",
        "outputId": "9cd6c2bc-3fc6-449a-fe15-581c27ef110e",
        "colab": {
          "base_uri": "https://localhost:8080/",
          "height": 34
        }
      },
      "source": [
        "from sklearn.metrics import r2_score\n",
        "score2 = r2_score(valid2['Confirmed Deaths'], valid2['Predicted Deaths'])\n",
        "print(score2)"
      ],
      "execution_count": 35,
      "outputs": [
        {
          "output_type": "stream",
          "text": [
            "0.994245995212668\n"
          ],
          "name": "stdout"
        }
      ]
    },
    {
      "cell_type": "code",
      "metadata": {
        "id": "IubNRhywqv_j",
        "colab_type": "code",
        "outputId": "46d2dde1-e4ee-4fbf-bf87-70de314edf27",
        "colab": {
          "base_uri": "https://localhost:8080/",
          "height": 296
        }
      },
      "source": [
        "valid2.plot()"
      ],
      "execution_count": 36,
      "outputs": [
        {
          "output_type": "execute_result",
          "data": {
            "text/plain": [
              "<matplotlib.axes._subplots.AxesSubplot at 0x7f51ff18a080>"
            ]
          },
          "metadata": {
            "tags": []
          },
          "execution_count": 36
        },
        {
          "output_type": "display_data",
          "data": {
            "image/png": "[encoded data removed]",
            "text/plain": [
              "<Figure size 432x288 with 1 Axes>"
            ]
          },
          "metadata": {
            "tags": [],
            "needs_background": "light"
          }
        }
      ]
    },
    {
      "cell_type": "code",
      "metadata": {
        "id": "tD6IvAA8q69C",
        "colab_type": "code",
        "outputId": "2c140706-09cf-4192-b5d2-2789e350258b",
        "colab": {
          "base_uri": "https://localhost:8080/",
          "height": 225
        }
      },
      "source": [
        "df3 = pd.read_csv(\"/content/drive/My Drive/Total_cases_China.csv\", index_col = 'Dates')\n",
        "df3.head(5)"
      ],
      "execution_count": 37,
      "outputs": [
        {
          "output_type": "execute_result",
          "data": {
            "text/html": [
              "<div>\n",
              "<style scoped>\n",
              "    .dataframe tbody tr th:only-of-type {\n",
              "        vertical-align: middle;\n",
              "    }\n",
              "\n",
              "    .dataframe tbody tr th {\n",
              "        vertical-align: top;\n",
              "    }\n",
              "\n",
              "    .dataframe thead th {\n",
              "        text-align: right;\n",
              "    }\n",
              "</style>\n",
              "<table border=\"1\" class=\"dataframe\">\n",
              "  <thead>\n",
              "    <tr style=\"text-align: right;\">\n",
              "      <th></th>\n",
              "      <th>China Confirmed Cases</th>\n",
              "      <th>Confirmed Deaths</th>\n",
              "      <th>Confirmed Recovered</th>\n",
              "    </tr>\n",
              "    <tr>\n",
              "      <th>Dates</th>\n",
              "      <th></th>\n",
              "      <th></th>\n",
              "      <th></th>\n",
              "    </tr>\n",
              "  </thead>\n",
              "  <tbody>\n",
              "    <tr>\n",
              "      <th>01/22/2020</th>\n",
              "      <td>548</td>\n",
              "      <td>17</td>\n",
              "      <td>28</td>\n",
              "    </tr>\n",
              "    <tr>\n",
              "      <th>01/23/2020</th>\n",
              "      <td>643</td>\n",
              "      <td>18</td>\n",
              "      <td>30</td>\n",
              "    </tr>\n",
              "    <tr>\n",
              "      <th>01/24/2020</th>\n",
              "      <td>920</td>\n",
              "      <td>26</td>\n",
              "      <td>36</td>\n",
              "    </tr>\n",
              "    <tr>\n",
              "      <th>01/25/2020</th>\n",
              "      <td>1406</td>\n",
              "      <td>42</td>\n",
              "      <td>39</td>\n",
              "    </tr>\n",
              "    <tr>\n",
              "      <th>01/26/2020</th>\n",
              "      <td>2075</td>\n",
              "      <td>56</td>\n",
              "      <td>49</td>\n",
              "    </tr>\n",
              "  </tbody>\n",
              "</table>\n",
              "</div>"
            ],
            "text/plain": [
              "            China Confirmed Cases  Confirmed Deaths  Confirmed Recovered\n",
              "Dates                                                                   \n",
              "01/22/2020                    548                17                   28\n",
              "01/23/2020                    643                18                   30\n",
              "01/24/2020                    920                26                   36\n",
              "01/25/2020                   1406                42                   39\n",
              "01/26/2020                   2075                56                   49"
            ]
          },
          "metadata": {
            "tags": []
          },
          "execution_count": 37
        }
      ]
    },
    {
      "cell_type": "code",
      "metadata": {
        "id": "uru1gx_Rrlw5",
        "colab_type": "code",
        "colab": {}
      },
      "source": [
        "df3 = df3[['Confirmed Recovered']]"
      ],
      "execution_count": 0,
      "outputs": []
    },
    {
      "cell_type": "code",
      "metadata": {
        "id": "8JeNcCL6rpPe",
        "colab_type": "code",
        "outputId": "8b521ed6-fbf7-4410-e055-e672660166b5",
        "colab": {
          "base_uri": "https://localhost:8080/",
          "height": 225
        }
      },
      "source": [
        "df3.head()"
      ],
      "execution_count": 39,
      "outputs": [
        {
          "output_type": "execute_result",
          "data": {
            "text/html": [
              "<div>\n",
              "<style scoped>\n",
              "    .dataframe tbody tr th:only-of-type {\n",
              "        vertical-align: middle;\n",
              "    }\n",
              "\n",
              "    .dataframe tbody tr th {\n",
              "        vertical-align: top;\n",
              "    }\n",
              "\n",
              "    .dataframe thead th {\n",
              "        text-align: right;\n",
              "    }\n",
              "</style>\n",
              "<table border=\"1\" class=\"dataframe\">\n",
              "  <thead>\n",
              "    <tr style=\"text-align: right;\">\n",
              "      <th></th>\n",
              "      <th>Confirmed Recovered</th>\n",
              "    </tr>\n",
              "    <tr>\n",
              "      <th>Dates</th>\n",
              "      <th></th>\n",
              "    </tr>\n",
              "  </thead>\n",
              "  <tbody>\n",
              "    <tr>\n",
              "      <th>01/22/2020</th>\n",
              "      <td>28</td>\n",
              "    </tr>\n",
              "    <tr>\n",
              "      <th>01/23/2020</th>\n",
              "      <td>30</td>\n",
              "    </tr>\n",
              "    <tr>\n",
              "      <th>01/24/2020</th>\n",
              "      <td>36</td>\n",
              "    </tr>\n",
              "    <tr>\n",
              "      <th>01/25/2020</th>\n",
              "      <td>39</td>\n",
              "    </tr>\n",
              "    <tr>\n",
              "      <th>01/26/2020</th>\n",
              "      <td>49</td>\n",
              "    </tr>\n",
              "  </tbody>\n",
              "</table>\n",
              "</div>"
            ],
            "text/plain": [
              "            Confirmed Recovered\n",
              "Dates                          \n",
              "01/22/2020                   28\n",
              "01/23/2020                   30\n",
              "01/24/2020                   36\n",
              "01/25/2020                   39\n",
              "01/26/2020                   49"
            ]
          },
          "metadata": {
            "tags": []
          },
          "execution_count": 39
        }
      ]
    },
    {
      "cell_type": "code",
      "metadata": {
        "id": "grFHfIT-r8H7",
        "colab_type": "code",
        "colab": {}
      },
      "source": [
        "future_days_recover = 25"
      ],
      "execution_count": 0,
      "outputs": []
    },
    {
      "cell_type": "code",
      "metadata": {
        "id": "PmUBDMblsHX5",
        "colab_type": "code",
        "outputId": "9e2fb86d-a2a7-4e0a-f5d6-8888588b7e8c",
        "colab": {
          "base_uri": "https://localhost:8080/",
          "height": 195
        }
      },
      "source": [
        "df3['Predicted Recovered'] = df3[['Confirmed Recovered']].shift(-future_days_recover)\n",
        "df3.tail(4)"
      ],
      "execution_count": 41,
      "outputs": [
        {
          "output_type": "execute_result",
          "data": {
            "text/html": [
              "<div>\n",
              "<style scoped>\n",
              "    .dataframe tbody tr th:only-of-type {\n",
              "        vertical-align: middle;\n",
              "    }\n",
              "\n",
              "    .dataframe tbody tr th {\n",
              "        vertical-align: top;\n",
              "    }\n",
              "\n",
              "    .dataframe thead th {\n",
              "        text-align: right;\n",
              "    }\n",
              "</style>\n",
              "<table border=\"1\" class=\"dataframe\">\n",
              "  <thead>\n",
              "    <tr style=\"text-align: right;\">\n",
              "      <th></th>\n",
              "      <th>Confirmed Recovered</th>\n",
              "      <th>Predicted Recovered</th>\n",
              "    </tr>\n",
              "    <tr>\n",
              "      <th>Dates</th>\n",
              "      <th></th>\n",
              "      <th></th>\n",
              "    </tr>\n",
              "  </thead>\n",
              "  <tbody>\n",
              "    <tr>\n",
              "      <th>04/06/2020</th>\n",
              "      <td>77310</td>\n",
              "      <td>NaN</td>\n",
              "    </tr>\n",
              "    <tr>\n",
              "      <th>04/07/2020</th>\n",
              "      <td>77410</td>\n",
              "      <td>NaN</td>\n",
              "    </tr>\n",
              "    <tr>\n",
              "      <th>04/08/2020</th>\n",
              "      <td>77567</td>\n",
              "      <td>NaN</td>\n",
              "    </tr>\n",
              "    <tr>\n",
              "      <th>04/09/2020</th>\n",
              "      <td>77679</td>\n",
              "      <td>NaN</td>\n",
              "    </tr>\n",
              "  </tbody>\n",
              "</table>\n",
              "</div>"
            ],
            "text/plain": [
              "            Confirmed Recovered  Predicted Recovered\n",
              "Dates                                               \n",
              "04/06/2020                77310                  NaN\n",
              "04/07/2020                77410                  NaN\n",
              "04/08/2020                77567                  NaN\n",
              "04/09/2020                77679                  NaN"
            ]
          },
          "metadata": {
            "tags": []
          },
          "execution_count": 41
        }
      ]
    },
    {
      "cell_type": "code",
      "metadata": {
        "id": "Aid3ptng_kxi",
        "colab_type": "code",
        "outputId": "78a8da90-45b2-446d-bcf4-adbd12181c9d",
        "colab": {
          "base_uri": "https://localhost:8080/",
          "height": 296
        }
      },
      "source": [
        "df3['Confirmed Recovered'].plot()"
      ],
      "execution_count": 42,
      "outputs": [
        {
          "output_type": "execute_result",
          "data": {
            "text/plain": [
              "<matplotlib.axes._subplots.AxesSubplot at 0x7f51fef48908>"
            ]
          },
          "metadata": {
            "tags": []
          },
          "execution_count": 42
        },
        {
          "output_type": "display_data",
          "data": {
            "image/png": "[encoded data removed]",
            "text/plain": [
              "<Figure size 432x288 with 1 Axes>"
            ]
          },
          "metadata": {
            "tags": [],
            "needs_background": "light"
          }
        }
      ]
    },
    {
      "cell_type": "code",
      "metadata": {
        "id": "POcJir7URXwZ",
        "colab_type": "code",
        "outputId": "d4c1496f-7a1e-4956-ea43-2c234e4b6526",
        "colab": {
          "base_uri": "https://localhost:8080/",
          "height": 924
        }
      },
      "source": [
        "X2 = np.array(df3.drop(['Predicted Recovered'], 1))[:-future_days_recover]\n",
        "print(X2)"
      ],
      "execution_count": 43,
      "outputs": [
        {
          "output_type": "stream",
          "text": [
            "[[   28]\n",
            " [   30]\n",
            " [   36]\n",
            " [   39]\n",
            " [   49]\n",
            " [   58]\n",
            " [  101]\n",
            " [  120]\n",
            " [  135]\n",
            " [  214]\n",
            " [  275]\n",
            " [  463]\n",
            " [  614]\n",
            " [  843]\n",
            " [ 1115]\n",
            " [ 1477]\n",
            " [ 1999]\n",
            " [ 2596]\n",
            " [ 3219]\n",
            " [ 3918]\n",
            " [ 4636]\n",
            " [ 5082]\n",
            " [ 6217]\n",
            " [ 7977]\n",
            " [ 9298]\n",
            " [10755]\n",
            " [12462]\n",
            " [14206]\n",
            " [15962]\n",
            " [18014]\n",
            " [18704]\n",
            " [22699]\n",
            " [23187]\n",
            " [25015]\n",
            " [27676]\n",
            " [30084]\n",
            " [32930]\n",
            " [36329]\n",
            " [39320]\n",
            " [42162]\n",
            " [44854]\n",
            " [47450]\n",
            " [50001]\n",
            " [52292]\n",
            " [53944]\n",
            " [55539]\n",
            " [57388]\n",
            " [58804]\n",
            " [60181]\n",
            " [61644]\n",
            " [62901]\n",
            " [64196]\n",
            " [65660]\n",
            " [67017]]\n"
          ],
          "name": "stdout"
        }
      ]
    },
    {
      "cell_type": "code",
      "metadata": {
        "id": "cqc9zeCyReGL",
        "colab_type": "code",
        "outputId": "119e1845-a7cf-4295-ca8f-6d0a8361903b",
        "colab": {
          "base_uri": "https://localhost:8080/",
          "height": 118
        }
      },
      "source": [
        "y2 = np.array(df3['Predicted Recovered'])[:-future_days_recover]\n",
        "print(y2)"
      ],
      "execution_count": 44,
      "outputs": [
        {
          "output_type": "stream",
          "text": [
            "[10755. 12462. 14206. 15962. 18014. 18704. 22699. 23187. 25015. 27676.\n",
            " 30084. 32930. 36329. 39320. 42162. 44854. 47450. 50001. 52292. 53944.\n",
            " 55539. 57388. 58804. 60181. 61644. 62901. 64196. 65660. 67017. 67901.\n",
            " 68798. 69755. 70535. 71266. 71857. 72362. 72814. 73280. 73773. 74181.\n",
            " 74720. 75100. 75582. 75923. 76206. 76405. 76565. 76760. 76946. 77207.\n",
            " 77310. 77410. 77567. 77679.]\n"
          ],
          "name": "stdout"
        }
      ]
    },
    {
      "cell_type": "code",
      "metadata": {
        "id": "HPFZnvaRRlc0",
        "colab_type": "code",
        "colab": {}
      },
      "source": [
        "x_train3, x_test3, y_train3, y_test3 = train_test_split(X2, y2, test_size = 0.25)\n"
      ],
      "execution_count": 0,
      "outputs": []
    },
    {
      "cell_type": "code",
      "metadata": {
        "id": "NeUDWYHcRsmE",
        "colab_type": "code",
        "colab": {}
      },
      "source": [
        "tree3 = DecisionTreeRegressor().fit(x_train3, y_train3)\n",
        "lr3 = LinearRegression().fit(x_train3, y_train3)"
      ],
      "execution_count": 0,
      "outputs": []
    },
    {
      "cell_type": "code",
      "metadata": {
        "id": "2MkUhWy7SUOt",
        "colab_type": "code",
        "outputId": "17704beb-2fa9-4103-f17a-1741a43b3793",
        "colab": {
          "base_uri": "https://localhost:8080/",
          "height": 437
        }
      },
      "source": [
        "x_future3 = df3.drop(['Predicted Recovered'], 1)[:-future_days_recover]\n",
        "x_future3 = x_future3.tail(future_days_recover)\n",
        "x_future3 = np.array(x_future3)\n",
        "x_future3"
      ],
      "execution_count": 47,
      "outputs": [
        {
          "output_type": "execute_result",
          "data": {
            "text/plain": [
              "array([[18014],\n",
              "       [18704],\n",
              "       [22699],\n",
              "       [23187],\n",
              "       [25015],\n",
              "       [27676],\n",
              "       [30084],\n",
              "       [32930],\n",
              "       [36329],\n",
              "       [39320],\n",
              "       [42162],\n",
              "       [44854],\n",
              "       [47450],\n",
              "       [50001],\n",
              "       [52292],\n",
              "       [53944],\n",
              "       [55539],\n",
              "       [57388],\n",
              "       [58804],\n",
              "       [60181],\n",
              "       [61644],\n",
              "       [62901],\n",
              "       [64196],\n",
              "       [65660],\n",
              "       [67017]])"
            ]
          },
          "metadata": {
            "tags": []
          },
          "execution_count": 47
        }
      ]
    },
    {
      "cell_type": "code",
      "metadata": {
        "id": "4XblUqFiSlrN",
        "colab_type": "code",
        "outputId": "e9078b18-e3b2-45ed-e7c6-22c7d87558b0",
        "colab": {
          "base_uri": "https://localhost:8080/",
          "height": 202
        }
      },
      "source": [
        "tree_predictions3 = tree3.predict(x_future3)\n",
        "print(tree_predictions3)\n",
        "print()\n",
        "lr_predictions3 = lr3.predict(x_future3)\n",
        "print(lr_predictions3)"
      ],
      "execution_count": 48,
      "outputs": [
        {
          "output_type": "stream",
          "text": [
            "[67901. 67901. 69755. 70535. 71266. 72362. 72362. 72362. 73280. 73773.\n",
            " 74181. 74720. 75100. 75582. 75923. 76206. 76405. 76565. 76760. 76946.\n",
            " 77207. 77310. 77410. 77567. 77679.]\n",
            "\n",
            "[54357.67152005 54802.02615214 57374.77507269 57689.04327625\n",
            " 58866.26105516 60579.92435368 62130.65762043 63963.45947973\n",
            " 66152.38903691 68078.56976816 69908.79565857 71642.42271592\n",
            " 73314.22652012 74957.05067439 76432.43685135 77496.31199947\n",
            " 78523.47959103 79714.22120657 80626.11419068 81512.89147819\n",
            " 82455.05209665 83264.55031771 84098.52024314 85041.32485383\n",
            " 85915.22229693]\n"
          ],
          "name": "stdout"
        }
      ]
    },
    {
      "cell_type": "code",
      "metadata": {
        "id": "7HRP9MupR1v3",
        "colab_type": "code",
        "outputId": "8140ffc3-01c2-4021-dbd5-2abb1de26d28",
        "colab": {
          "base_uri": "https://localhost:8080/",
          "height": 662
        }
      },
      "source": [
        "predictions3 = tree_predictions3\n",
        "\n",
        "valid3 = df3[X2.shape[0]:]\n",
        "valid3['Predicted Recovered'] = predictions3\n",
        "\n",
        "plt.figure(figsize=(16,8))\n",
        "plt.title('Model')\n",
        "plt.xlabel('Dates')\n",
        "plt.ylabel('Predicted Cases')\n",
        "plt.plot(df3['Confirmed Recovered'])\n",
        "plt.plot(valid3['Confirmed Recovered'])\n",
        "plt.plot(valid3['Predicted Recovered'])\n",
        "plt.xticks(rotation=90)\n",
        "plt.legend(['Orig', 'Val', 'Pred'])\n",
        "plt.show()\n"
      ],
      "execution_count": 64,
      "outputs": [
        {
          "output_type": "stream",
          "text": [
            "/usr/local/lib/python3.6/dist-packages/ipykernel_launcher.py:4: SettingWithCopyWarning: \n",
            "A value is trying to be set on a copy of a slice from a DataFrame.\n",
            "Try using .loc[row_indexer,col_indexer] = value instead\n",
            "\n",
            "See the caveats in the documentation: https://pandas.pydata.org/pandas-docs/stable/user_guide/indexing.html#returning-a-view-versus-a-copy\n",
            "  after removing the cwd from sys.path.\n"
          ],
          "name": "stderr"
        },
        {
          "output_type": "display_data",
          "data": {
            "image/png": "[encoded data removed]",
            "text/plain": [
              "<Figure size 1152x576 with 1 Axes>"
            ]
          },
          "metadata": {
            "tags": [],
            "needs_background": "light"
          }
        }
      ]
    },
    {
      "cell_type": "code",
      "metadata": {
        "id": "JOmwjWPsSy5a",
        "colab_type": "code",
        "outputId": "d60bd054-07d9-4c46-f478-a13232838345",
        "colab": {
          "base_uri": "https://localhost:8080/",
          "height": 817
        }
      },
      "source": [
        "valid3"
      ],
      "execution_count": 50,
      "outputs": [
        {
          "output_type": "execute_result",
          "data": {
            "text/html": [
              "<div>\n",
              "<style scoped>\n",
              "    .dataframe tbody tr th:only-of-type {\n",
              "        vertical-align: middle;\n",
              "    }\n",
              "\n",
              "    .dataframe tbody tr th {\n",
              "        vertical-align: top;\n",
              "    }\n",
              "\n",
              "    .dataframe thead th {\n",
              "        text-align: right;\n",
              "    }\n",
              "</style>\n",
              "<table border=\"1\" class=\"dataframe\">\n",
              "  <thead>\n",
              "    <tr style=\"text-align: right;\">\n",
              "      <th></th>\n",
              "      <th>Confirmed Recovered</th>\n",
              "      <th>Predicted Recovered</th>\n",
              "    </tr>\n",
              "    <tr>\n",
              "      <th>Dates</th>\n",
              "      <th></th>\n",
              "      <th></th>\n",
              "    </tr>\n",
              "  </thead>\n",
              "  <tbody>\n",
              "    <tr>\n",
              "      <th>03/16/2020</th>\n",
              "      <td>67901</td>\n",
              "      <td>67901.0</td>\n",
              "    </tr>\n",
              "    <tr>\n",
              "      <th>03/17/2020</th>\n",
              "      <td>68798</td>\n",
              "      <td>67901.0</td>\n",
              "    </tr>\n",
              "    <tr>\n",
              "      <th>03/18/2020</th>\n",
              "      <td>69755</td>\n",
              "      <td>69755.0</td>\n",
              "    </tr>\n",
              "    <tr>\n",
              "      <th>03/19/2020</th>\n",
              "      <td>70535</td>\n",
              "      <td>70535.0</td>\n",
              "    </tr>\n",
              "    <tr>\n",
              "      <th>03/20/2020</th>\n",
              "      <td>71266</td>\n",
              "      <td>71266.0</td>\n",
              "    </tr>\n",
              "    <tr>\n",
              "      <th>03/21/2020</th>\n",
              "      <td>71857</td>\n",
              "      <td>72362.0</td>\n",
              "    </tr>\n",
              "    <tr>\n",
              "      <th>03/22/2020</th>\n",
              "      <td>72362</td>\n",
              "      <td>72362.0</td>\n",
              "    </tr>\n",
              "    <tr>\n",
              "      <th>03/23/2020</th>\n",
              "      <td>72814</td>\n",
              "      <td>72362.0</td>\n",
              "    </tr>\n",
              "    <tr>\n",
              "      <th>03/24/2020</th>\n",
              "      <td>73280</td>\n",
              "      <td>73280.0</td>\n",
              "    </tr>\n",
              "    <tr>\n",
              "      <th>03/25/2020</th>\n",
              "      <td>73773</td>\n",
              "      <td>73773.0</td>\n",
              "    </tr>\n",
              "    <tr>\n",
              "      <th>03/26/2020</th>\n",
              "      <td>74181</td>\n",
              "      <td>74181.0</td>\n",
              "    </tr>\n",
              "    <tr>\n",
              "      <th>03/27/2020</th>\n",
              "      <td>74720</td>\n",
              "      <td>74720.0</td>\n",
              "    </tr>\n",
              "    <tr>\n",
              "      <th>03/28/2020</th>\n",
              "      <td>75100</td>\n",
              "      <td>75100.0</td>\n",
              "    </tr>\n",
              "    <tr>\n",
              "      <th>03/29/2020</th>\n",
              "      <td>75582</td>\n",
              "      <td>75582.0</td>\n",
              "    </tr>\n",
              "    <tr>\n",
              "      <th>03/30/2020</th>\n",
              "      <td>75923</td>\n",
              "      <td>75923.0</td>\n",
              "    </tr>\n",
              "    <tr>\n",
              "      <th>03/31/2020</th>\n",
              "      <td>76206</td>\n",
              "      <td>76206.0</td>\n",
              "    </tr>\n",
              "    <tr>\n",
              "      <th>04/01/2020</th>\n",
              "      <td>76405</td>\n",
              "      <td>76405.0</td>\n",
              "    </tr>\n",
              "    <tr>\n",
              "      <th>04/02/2020</th>\n",
              "      <td>76565</td>\n",
              "      <td>76565.0</td>\n",
              "    </tr>\n",
              "    <tr>\n",
              "      <th>04/03/2020</th>\n",
              "      <td>76760</td>\n",
              "      <td>76760.0</td>\n",
              "    </tr>\n",
              "    <tr>\n",
              "      <th>04/04/2020</th>\n",
              "      <td>76946</td>\n",
              "      <td>76946.0</td>\n",
              "    </tr>\n",
              "    <tr>\n",
              "      <th>04/05/2020</th>\n",
              "      <td>77207</td>\n",
              "      <td>77207.0</td>\n",
              "    </tr>\n",
              "    <tr>\n",
              "      <th>04/06/2020</th>\n",
              "      <td>77310</td>\n",
              "      <td>77310.0</td>\n",
              "    </tr>\n",
              "    <tr>\n",
              "      <th>04/07/2020</th>\n",
              "      <td>77410</td>\n",
              "      <td>77410.0</td>\n",
              "    </tr>\n",
              "    <tr>\n",
              "      <th>04/08/2020</th>\n",
              "      <td>77567</td>\n",
              "      <td>77567.0</td>\n",
              "    </tr>\n",
              "    <tr>\n",
              "      <th>04/09/2020</th>\n",
              "      <td>77679</td>\n",
              "      <td>77679.0</td>\n",
              "    </tr>\n",
              "  </tbody>\n",
              "</table>\n",
              "</div>"
            ],
            "text/plain": [
              "            Confirmed Recovered  Predicted Recovered\n",
              "Dates                                               \n",
              "03/16/2020                67901              67901.0\n",
              "03/17/2020                68798              67901.0\n",
              "03/18/2020                69755              69755.0\n",
              "03/19/2020                70535              70535.0\n",
              "03/20/2020                71266              71266.0\n",
              "03/21/2020                71857              72362.0\n",
              "03/22/2020                72362              72362.0\n",
              "03/23/2020                72814              72362.0\n",
              "03/24/2020                73280              73280.0\n",
              "03/25/2020                73773              73773.0\n",
              "03/26/2020                74181              74181.0\n",
              "03/27/2020                74720              74720.0\n",
              "03/28/2020                75100              75100.0\n",
              "03/29/2020                75582              75582.0\n",
              "03/30/2020                75923              75923.0\n",
              "03/31/2020                76206              76206.0\n",
              "04/01/2020                76405              76405.0\n",
              "04/02/2020                76565              76565.0\n",
              "04/03/2020                76760              76760.0\n",
              "04/04/2020                76946              76946.0\n",
              "04/05/2020                77207              77207.0\n",
              "04/06/2020                77310              77310.0\n",
              "04/07/2020                77410              77410.0\n",
              "04/08/2020                77567              77567.0\n",
              "04/09/2020                77679              77679.0"
            ]
          },
          "metadata": {
            "tags": []
          },
          "execution_count": 50
        }
      ]
    },
    {
      "cell_type": "code",
      "metadata": {
        "id": "n9EmsA0mSK6p",
        "colab_type": "code",
        "outputId": "aabdb44b-22ac-4d93-d2f6-970d87d03d66",
        "colab": {
          "base_uri": "https://localhost:8080/",
          "height": 296
        }
      },
      "source": [
        "valid3.plot()"
      ],
      "execution_count": 51,
      "outputs": [
        {
          "output_type": "execute_result",
          "data": {
            "text/plain": [
              "<matplotlib.axes._subplots.AxesSubplot at 0x7f51fef241d0>"
            ]
          },
          "metadata": {
            "tags": []
          },
          "execution_count": 51
        },
        {
          "output_type": "display_data",
          "data": {
            "image/png": "[encoded data removed]",
            "text/plain": [
              "<Figure size 432x288 with 1 Axes>"
            ]
          },
          "metadata": {
            "tags": [],
            "needs_background": "light"
          }
        }
      ]
    },
    {
      "cell_type": "code",
      "metadata": {
        "id": "NYTmxRmzTKZ5",
        "colab_type": "code",
        "outputId": "72d95856-1607-43e0-f4a1-9c2ce6dbb98f",
        "colab": {
          "base_uri": "https://localhost:8080/",
          "height": 817
        }
      },
      "source": [
        "valid_final = valid.join(valid2.join(valid3))\n",
        "valid_final"
      ],
      "execution_count": 52,
      "outputs": [
        {
          "output_type": "execute_result",
          "data": {
            "text/html": [
              "<div>\n",
              "<style scoped>\n",
              "    .dataframe tbody tr th:only-of-type {\n",
              "        vertical-align: middle;\n",
              "    }\n",
              "\n",
              "    .dataframe tbody tr th {\n",
              "        vertical-align: top;\n",
              "    }\n",
              "\n",
              "    .dataframe thead th {\n",
              "        text-align: right;\n",
              "    }\n",
              "</style>\n",
              "<table border=\"1\" class=\"dataframe\">\n",
              "  <thead>\n",
              "    <tr style=\"text-align: right;\">\n",
              "      <th></th>\n",
              "      <th>China Confirmed Cases</th>\n",
              "      <th>Predicted Cases</th>\n",
              "      <th>Confirmed Deaths</th>\n",
              "      <th>Predicted Deaths</th>\n",
              "      <th>Confirmed Recovered</th>\n",
              "      <th>Predicted Recovered</th>\n",
              "    </tr>\n",
              "    <tr>\n",
              "      <th>Dates</th>\n",
              "      <th></th>\n",
              "      <th></th>\n",
              "      <th></th>\n",
              "      <th></th>\n",
              "      <th></th>\n",
              "      <th></th>\n",
              "    </tr>\n",
              "  </thead>\n",
              "  <tbody>\n",
              "    <tr>\n",
              "      <th>03/16/2020</th>\n",
              "      <td>81003</td>\n",
              "      <td>81003.0</td>\n",
              "      <td>3217</td>\n",
              "      <td>3223.5</td>\n",
              "      <td>67901</td>\n",
              "      <td>67901.0</td>\n",
              "    </tr>\n",
              "    <tr>\n",
              "      <th>03/17/2020</th>\n",
              "      <td>81058</td>\n",
              "      <td>81003.0</td>\n",
              "      <td>3230</td>\n",
              "      <td>3223.5</td>\n",
              "      <td>68798</td>\n",
              "      <td>67901.0</td>\n",
              "    </tr>\n",
              "    <tr>\n",
              "      <th>03/18/2020</th>\n",
              "      <td>81102</td>\n",
              "      <td>81156.0</td>\n",
              "      <td>3241</td>\n",
              "      <td>3241.0</td>\n",
              "      <td>69755</td>\n",
              "      <td>69755.0</td>\n",
              "    </tr>\n",
              "    <tr>\n",
              "      <th>03/19/2020</th>\n",
              "      <td>81156</td>\n",
              "      <td>81156.0</td>\n",
              "      <td>3249</td>\n",
              "      <td>3249.0</td>\n",
              "      <td>70535</td>\n",
              "      <td>70535.0</td>\n",
              "    </tr>\n",
              "    <tr>\n",
              "      <th>03/20/2020</th>\n",
              "      <td>81250</td>\n",
              "      <td>81250.0</td>\n",
              "      <td>3253</td>\n",
              "      <td>3253.0</td>\n",
              "      <td>71266</td>\n",
              "      <td>71266.0</td>\n",
              "    </tr>\n",
              "    <tr>\n",
              "      <th>03/21/2020</th>\n",
              "      <td>81350</td>\n",
              "      <td>81350.0</td>\n",
              "      <td>3259</td>\n",
              "      <td>3259.0</td>\n",
              "      <td>71857</td>\n",
              "      <td>72362.0</td>\n",
              "    </tr>\n",
              "    <tr>\n",
              "      <th>03/22/2020</th>\n",
              "      <td>81435</td>\n",
              "      <td>81435.0</td>\n",
              "      <td>3274</td>\n",
              "      <td>3274.0</td>\n",
              "      <td>72362</td>\n",
              "      <td>72362.0</td>\n",
              "    </tr>\n",
              "    <tr>\n",
              "      <th>03/23/2020</th>\n",
              "      <td>81498</td>\n",
              "      <td>81435.0</td>\n",
              "      <td>3274</td>\n",
              "      <td>3274.0</td>\n",
              "      <td>72814</td>\n",
              "      <td>72362.0</td>\n",
              "    </tr>\n",
              "    <tr>\n",
              "      <th>03/24/2020</th>\n",
              "      <td>81591</td>\n",
              "      <td>81661.0</td>\n",
              "      <td>3281</td>\n",
              "      <td>3281.0</td>\n",
              "      <td>73280</td>\n",
              "      <td>73280.0</td>\n",
              "    </tr>\n",
              "    <tr>\n",
              "      <th>03/25/2020</th>\n",
              "      <td>81661</td>\n",
              "      <td>81661.0</td>\n",
              "      <td>3285</td>\n",
              "      <td>3285.0</td>\n",
              "      <td>73773</td>\n",
              "      <td>73773.0</td>\n",
              "    </tr>\n",
              "    <tr>\n",
              "      <th>03/26/2020</th>\n",
              "      <td>81782</td>\n",
              "      <td>81782.0</td>\n",
              "      <td>3291</td>\n",
              "      <td>3285.0</td>\n",
              "      <td>74181</td>\n",
              "      <td>74181.0</td>\n",
              "    </tr>\n",
              "    <tr>\n",
              "      <th>03/27/2020</th>\n",
              "      <td>81897</td>\n",
              "      <td>81897.0</td>\n",
              "      <td>3296</td>\n",
              "      <td>3296.0</td>\n",
              "      <td>74720</td>\n",
              "      <td>74720.0</td>\n",
              "    </tr>\n",
              "    <tr>\n",
              "      <th>03/28/2020</th>\n",
              "      <td>81999</td>\n",
              "      <td>81999.0</td>\n",
              "      <td>3299</td>\n",
              "      <td>3296.0</td>\n",
              "      <td>75100</td>\n",
              "      <td>75100.0</td>\n",
              "    </tr>\n",
              "    <tr>\n",
              "      <th>03/29/2020</th>\n",
              "      <td>82122</td>\n",
              "      <td>82122.0</td>\n",
              "      <td>3304</td>\n",
              "      <td>3304.0</td>\n",
              "      <td>75582</td>\n",
              "      <td>75582.0</td>\n",
              "    </tr>\n",
              "    <tr>\n",
              "      <th>03/30/2020</th>\n",
              "      <td>82198</td>\n",
              "      <td>82198.0</td>\n",
              "      <td>3308</td>\n",
              "      <td>3308.0</td>\n",
              "      <td>75923</td>\n",
              "      <td>75923.0</td>\n",
              "    </tr>\n",
              "    <tr>\n",
              "      <th>03/31/2020</th>\n",
              "      <td>82279</td>\n",
              "      <td>82279.0</td>\n",
              "      <td>3309</td>\n",
              "      <td>3309.0</td>\n",
              "      <td>76206</td>\n",
              "      <td>76206.0</td>\n",
              "    </tr>\n",
              "    <tr>\n",
              "      <th>04/01/2020</th>\n",
              "      <td>82361</td>\n",
              "      <td>82432.0</td>\n",
              "      <td>3316</td>\n",
              "      <td>3309.0</td>\n",
              "      <td>76405</td>\n",
              "      <td>76405.0</td>\n",
              "    </tr>\n",
              "    <tr>\n",
              "      <th>04/02/2020</th>\n",
              "      <td>82432</td>\n",
              "      <td>82432.0</td>\n",
              "      <td>3322</td>\n",
              "      <td>3322.0</td>\n",
              "      <td>76565</td>\n",
              "      <td>76565.0</td>\n",
              "    </tr>\n",
              "    <tr>\n",
              "      <th>04/03/2020</th>\n",
              "      <td>82511</td>\n",
              "      <td>82511.0</td>\n",
              "      <td>3326</td>\n",
              "      <td>3326.0</td>\n",
              "      <td>76760</td>\n",
              "      <td>76760.0</td>\n",
              "    </tr>\n",
              "    <tr>\n",
              "      <th>04/04/2020</th>\n",
              "      <td>82543</td>\n",
              "      <td>82543.0</td>\n",
              "      <td>3330</td>\n",
              "      <td>3330.0</td>\n",
              "      <td>76946</td>\n",
              "      <td>76946.0</td>\n",
              "    </tr>\n",
              "    <tr>\n",
              "      <th>04/05/2020</th>\n",
              "      <td>82602</td>\n",
              "      <td>82602.0</td>\n",
              "      <td>3333</td>\n",
              "      <td>3333.0</td>\n",
              "      <td>77207</td>\n",
              "      <td>77207.0</td>\n",
              "    </tr>\n",
              "    <tr>\n",
              "      <th>04/06/2020</th>\n",
              "      <td>82665</td>\n",
              "      <td>82602.0</td>\n",
              "      <td>3335</td>\n",
              "      <td>3335.0</td>\n",
              "      <td>77310</td>\n",
              "      <td>77310.0</td>\n",
              "    </tr>\n",
              "    <tr>\n",
              "      <th>04/07/2020</th>\n",
              "      <td>82718</td>\n",
              "      <td>82718.0</td>\n",
              "      <td>3335</td>\n",
              "      <td>3335.0</td>\n",
              "      <td>77410</td>\n",
              "      <td>77410.0</td>\n",
              "    </tr>\n",
              "    <tr>\n",
              "      <th>04/08/2020</th>\n",
              "      <td>82809</td>\n",
              "      <td>82883.0</td>\n",
              "      <td>3337</td>\n",
              "      <td>3337.0</td>\n",
              "      <td>77567</td>\n",
              "      <td>77567.0</td>\n",
              "    </tr>\n",
              "    <tr>\n",
              "      <th>04/09/2020</th>\n",
              "      <td>82883</td>\n",
              "      <td>82883.0</td>\n",
              "      <td>3339</td>\n",
              "      <td>3337.0</td>\n",
              "      <td>77679</td>\n",
              "      <td>77679.0</td>\n",
              "    </tr>\n",
              "  </tbody>\n",
              "</table>\n",
              "</div>"
            ],
            "text/plain": [
              "            China Confirmed Cases  ...  Predicted Recovered\n",
              "Dates                              ...                     \n",
              "03/16/2020                  81003  ...              67901.0\n",
              "03/17/2020                  81058  ...              67901.0\n",
              "03/18/2020                  81102  ...              69755.0\n",
              "03/19/2020                  81156  ...              70535.0\n",
              "03/20/2020                  81250  ...              71266.0\n",
              "03/21/2020                  81350  ...              72362.0\n",
              "03/22/2020                  81435  ...              72362.0\n",
              "03/23/2020                  81498  ...              72362.0\n",
              "03/24/2020                  81591  ...              73280.0\n",
              "03/25/2020                  81661  ...              73773.0\n",
              "03/26/2020                  81782  ...              74181.0\n",
              "03/27/2020                  81897  ...              74720.0\n",
              "03/28/2020                  81999  ...              75100.0\n",
              "03/29/2020                  82122  ...              75582.0\n",
              "03/30/2020                  82198  ...              75923.0\n",
              "03/31/2020                  82279  ...              76206.0\n",
              "04/01/2020                  82361  ...              76405.0\n",
              "04/02/2020                  82432  ...              76565.0\n",
              "04/03/2020                  82511  ...              76760.0\n",
              "04/04/2020                  82543  ...              76946.0\n",
              "04/05/2020                  82602  ...              77207.0\n",
              "04/06/2020                  82665  ...              77310.0\n",
              "04/07/2020                  82718  ...              77410.0\n",
              "04/08/2020                  82809  ...              77567.0\n",
              "04/09/2020                  82883  ...              77679.0\n",
              "\n",
              "[25 rows x 6 columns]"
            ]
          },
          "metadata": {
            "tags": []
          },
          "execution_count": 52
        }
      ]
    },
    {
      "cell_type": "code",
      "metadata": {
        "id": "ulFob2nJoUON",
        "colab_type": "code",
        "outputId": "eaec8881-7fdd-400b-f6ef-9eb418d7dd3d",
        "colab": {
          "base_uri": "https://localhost:8080/",
          "height": 34
        }
      },
      "source": [
        "from sklearn.metrics import r2_score\n",
        "score3 = r2_score(valid3['Confirmed Recovered'], valid3['Predicted Recovered'])\n",
        "print(score3)"
      ],
      "execution_count": 53,
      "outputs": [
        {
          "output_type": "stream",
          "text": [
            "0.9939561963360559\n"
          ],
          "name": "stdout"
        }
      ]
    },
    {
      "cell_type": "code",
      "metadata": {
        "id": "fj44VNJ_omiu",
        "colab_type": "code",
        "outputId": "f5520c48-b5ca-4a3b-b006-03c117031bab",
        "colab": {
          "base_uri": "https://localhost:8080/",
          "height": 34
        }
      },
      "source": [
        "average = (score + score2 + score3) / 3\n",
        "average"
      ],
      "execution_count": 54,
      "outputs": [
        {
          "output_type": "execute_result",
          "data": {
            "text/plain": [
              "0.9949833098064126"
            ]
          },
          "metadata": {
            "tags": []
          },
          "execution_count": 54
        }
      ]
    },
    {
      "cell_type": "code",
      "metadata": {
        "id": "889WuKTjrkjF",
        "colab_type": "code",
        "colab": {
          "base_uri": "https://localhost:8080/",
          "height": 517
        },
        "outputId": "a64c588f-64f6-497b-f878-0c4b568d0b1c"
      },
      "source": [
        "plt.figure(figsize=(16,8))\n",
        "plt.plot(valid_final['China Confirmed Cases'])\n",
        "plt.plot(valid_final['Confirmed Deaths'])\n",
        "plt.plot(valid_final['Confirmed Recovered'])\n",
        "plt.xticks(rotation=45)\n",
        "#plt.legend('Cases', 'Deaths', 'Recovered')\n",
        "plt.show()"
      ],
      "execution_count": 70,
      "outputs": [
        {
          "output_type": "display_data",
          "data": {
            "image/png": "[encoded data removed]",
            "text/plain": [
              "<Figure size 1152x576 with 1 Axes>"
            ]
          },
          "metadata": {
            "tags": [],
            "needs_background": "light"
          }
        }
      ]
    },
    {
      "cell_type": "code",
      "metadata": {
        "id": "efusnK98rnU2",
        "colab_type": "code",
        "colab": {
          "base_uri": "https://localhost:8080/",
          "height": 517
        },
        "outputId": "1eab42bb-9099-4113-d214-35fe4025f127"
      },
      "source": [
        "plt.figure(figsize=(16,8))\n",
        "plt.plot(valid_final['Predicted Cases'])\n",
        "plt.plot(valid_final['Predicted Deaths'])\n",
        "plt.plot(valid_final['Predicted Recovered'])\n",
        "plt.xticks(rotation=45)\n",
        "plt.show()"
      ],
      "execution_count": 65,
      "outputs": [
        {
          "output_type": "display_data",
          "data": {
            "image/png": "[encoded data removed]",
            "text/plain": [
              "<Figure size 1152x576 with 1 Axes>"
            ]
          },
          "metadata": {
            "tags": [],
            "needs_background": "light"
          }
        }
      ]
    },
    {
      "cell_type": "code",
      "metadata": {
        "id": "-xlltve4t7-U",
        "colab_type": "code",
        "colab": {}
      },
      "source": [
        ""
      ],
      "execution_count": 0,
      "outputs": []
    }
  ]
}