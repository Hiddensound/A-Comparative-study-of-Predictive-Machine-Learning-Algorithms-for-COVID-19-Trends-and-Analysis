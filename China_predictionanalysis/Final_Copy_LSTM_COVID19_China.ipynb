{
  "nbformat": 4,
  "nbformat_minor": 0,
  "metadata": {
    "colab": {
      "name": "Final_Copy_LSTM_COVID19_China.ipynb",
      "provenance": [],
      "collapsed_sections": []
    },
    "kernelspec": {
      "name": "python3",
      "display_name": "Python 3"
    }
  },
  "cells": [
    {
      "cell_type": "code",
      "metadata": {
        "id": "O_LD9wHM_Q3q",
        "colab_type": "code",
        "outputId": "7cf01267-0fec-454c-c6d3-bcbe573998e1",
        "colab": {
          "base_uri": "https://localhost:8080/",
          "height": 34
        }
      },
      "source": [
        "from google.colab import drive\n",
        "drive.mount('/content/drive', force_remount=True)"
      ],
      "execution_count": 0,
      "outputs": [
        {
          "output_type": "stream",
          "text": [
            "Mounted at /content/drive\n"
          ],
          "name": "stdout"
        }
      ]
    },
    {
      "cell_type": "code",
      "metadata": {
        "id": "82fXctuP65F9",
        "colab_type": "code",
        "colab": {}
      },
      "source": [
        "import math\n",
        "import pandas_datareader as web\n",
        "import numpy as np\n",
        "import pandas as pd\n",
        "from sklearn.preprocessing import MinMaxScaler\n",
        "from keras.models import Sequential\n",
        "from keras.layers import Dense,LSTM\n",
        "import matplotlib.pyplot as plt\n",
        "from sklearn.metrics import r2_score\n"
      ],
      "execution_count": 0,
      "outputs": []
    },
    {
      "cell_type": "code",
      "metadata": {
        "id": "VkDgJ5kf7r99",
        "colab_type": "code",
        "colab": {}
      },
      "source": [
        "df = pd.read_csv('/content/drive/My Drive/COVID-19/Total_cases_China (1).csv', index_col='Dates')"
      ],
      "execution_count": 0,
      "outputs": []
    },
    {
      "cell_type": "code",
      "metadata": {
        "id": "vdPM2Sw68JPp",
        "colab_type": "code",
        "outputId": "9c03ef72-5a03-4216-c64c-48e3a2e3a109",
        "colab": {
          "base_uri": "https://localhost:8080/",
          "height": 269
        }
      },
      "source": [
        "print(df)"
      ],
      "execution_count": 0,
      "outputs": [
        {
          "output_type": "stream",
          "text": [
            "            China Confirmed Cases  Confirmed Deaths  Confirmed Recovered\n",
            "Dates                                                                   \n",
            "01/22/2020                    548                17                   28\n",
            "01/23/2020                    643                18                   30\n",
            "01/24/2020                    920                26                   36\n",
            "01/25/2020                   1406                42                   39\n",
            "01/26/2020                   2075                56                   49\n",
            "...                           ...               ...                  ...\n",
            "04/05/2020                  82602              3333                77207\n",
            "04/06/2020                  82665              3335                77310\n",
            "04/07/2020                  82718              3335                77410\n",
            "04/08/2020                  82809              3337                77567\n",
            "04/09/2020                  82883              3339                77679\n",
            "\n",
            "[79 rows x 3 columns]\n"
          ],
          "name": "stdout"
        }
      ]
    },
    {
      "cell_type": "code",
      "metadata": {
        "id": "WzUuAhLm8S84",
        "colab_type": "code",
        "outputId": "c024aa97-b904-415c-95ac-e023e4e53b53",
        "colab": {
          "base_uri": "https://localhost:8080/",
          "height": 296
        }
      },
      "source": [
        "df['China Confirmed Cases'].plot()\n",
        "#plt.figure(figsize=(16,8))"
      ],
      "execution_count": 0,
      "outputs": [
        {
          "output_type": "execute_result",
          "data": {
            "text/plain": [
              "<matplotlib.axes._subplots.AxesSubplot at 0x7f700d48c8d0>"
            ]
          },
          "metadata": {
            "tags": []
          },
          "execution_count": 213
        },
        {
          "output_type": "display_data",
          "data": {
            "image/png": "[encoded data removed]",
            "text/plain": [
              "<Figure size 432x288 with 1 Axes>"
            ]
          },
          "metadata": {
            "tags": [],
            "needs_background": "light"
          }
        }
      ]
    },
    {
      "cell_type": "code",
      "metadata": {
        "id": "B5Y-uDN-8sUR",
        "colab_type": "code",
        "colab": {}
      },
      "source": [
        "data = df.filter(['China Confirmed Cases'])"
      ],
      "execution_count": 0,
      "outputs": []
    },
    {
      "cell_type": "code",
      "metadata": {
        "id": "41X9NIEN9jZb",
        "colab_type": "code",
        "colab": {}
      },
      "source": [
        "dataset = data.values"
      ],
      "execution_count": 0,
      "outputs": []
    },
    {
      "cell_type": "code",
      "metadata": {
        "id": "7pOXyw-f9nNM",
        "colab_type": "code",
        "outputId": "f57691a0-8da6-4caa-d950-82082f684d5f",
        "colab": {
          "base_uri": "https://localhost:8080/",
          "height": 34
        }
      },
      "source": [
        "training_data_len = math.ceil(len(dataset) * 0.7)\n",
        "training_data_len"
      ],
      "execution_count": 0,
      "outputs": [
        {
          "output_type": "execute_result",
          "data": {
            "text/plain": [
              "56"
            ]
          },
          "metadata": {
            "tags": []
          },
          "execution_count": 216
        }
      ]
    },
    {
      "cell_type": "code",
      "metadata": {
        "id": "-CBMUNzf96CY",
        "colab_type": "code",
        "colab": {}
      },
      "source": [
        "scaler = MinMaxScaler(feature_range=(0,1))\n",
        "scaled_data = scaler.fit_transform(dataset)"
      ],
      "execution_count": 0,
      "outputs": []
    },
    {
      "cell_type": "code",
      "metadata": {
        "id": "wJQEDTaK-RA5",
        "colab_type": "code",
        "outputId": "3ef03fd1-da6b-4734-d613-86734083c790",
        "colab": {
          "base_uri": "https://localhost:8080/",
          "height": 1000
        }
      },
      "source": [
        "scaled_data"
      ],
      "execution_count": 0,
      "outputs": [
        {
          "output_type": "execute_result",
          "data": {
            "text/plain": [
              "array([[0.        ],\n",
              "       [0.00115382],\n",
              "       [0.00451813],\n",
              "       [0.01042084],\n",
              "       [0.01854618],\n",
              "       [0.02828688],\n",
              "       [0.06025384],\n",
              "       [0.06727394],\n",
              "       [0.09222081],\n",
              "       [0.11239449],\n",
              "       [0.13776644],\n",
              "       [0.19532398],\n",
              "       [0.232805  ],\n",
              "       [0.28127771],\n",
              "       [0.32661687],\n",
              "       [0.36483877],\n",
              "       [0.40762738],\n",
              "       [0.44046882],\n",
              "       [0.47708751],\n",
              "       [0.5077549 ],\n",
              "       [0.53243457],\n",
              "       [0.53696484],\n",
              "       [0.72079917],\n",
              "       [0.79929556],\n",
              "       [0.82425457],\n",
              "       [0.84976013],\n",
              "       [0.87309164],\n",
              "       [0.8946742 ],\n",
              "       [0.89962956],\n",
              "       [0.9051922 ],\n",
              "       [0.91093703],\n",
              "       [0.92856015],\n",
              "       [0.92881521],\n",
              "       [0.93147507],\n",
              "       [0.93770571],\n",
              "       [0.94270966],\n",
              "       [0.94798081],\n",
              "       [0.95196454],\n",
              "       [0.95716281],\n",
              "       [0.96415862],\n",
              "       [0.9666363 ],\n",
              "       [0.96815449],\n",
              "       [0.96967268],\n",
              "       [0.97150665],\n",
              "       [0.97336491],\n",
              "       [0.97433655],\n",
              "       [0.97498026],\n",
              "       [0.97542965],\n",
              "       [0.97575758],\n",
              "       [0.97617052],\n",
              "       [0.97630412],\n",
              "       [0.97646201],\n",
              "       [0.97685067],\n",
              "       [0.97716645],\n",
              "       [0.97716645],\n",
              "       [0.97783446],\n",
              "       [0.97836886],\n",
              "       [0.97902472],\n",
              "       [0.98016639],\n",
              "       [0.98138094],\n",
              "       [0.98241331],\n",
              "       [0.98317848],\n",
              "       [0.98430801],\n",
              "       [0.9851582 ],\n",
              "       [0.9866278 ],\n",
              "       [0.98802453],\n",
              "       [0.98926338],\n",
              "       [0.99075727],\n",
              "       [0.99168033],\n",
              "       [0.99266412],\n",
              "       [0.99366005],\n",
              "       [0.99452238],\n",
              "       [0.99548187],\n",
              "       [0.99587053],\n",
              "       [0.99658711],\n",
              "       [0.99735228],\n",
              "       [0.99799599],\n",
              "       [0.99910123],\n",
              "       [1.        ]])"
            ]
          },
          "metadata": {
            "tags": []
          },
          "execution_count": 218
        }
      ]
    },
    {
      "cell_type": "code",
      "metadata": {
        "id": "YL19PrqG-WP5",
        "colab_type": "code",
        "outputId": "74f0c406-d6d4-43ba-fc9c-0ebb24e17821",
        "colab": {
          "base_uri": "https://localhost:8080/",
          "height": 84
        }
      },
      "source": [
        "train_data = scaled_data[0:training_data_len, :]\n",
        "x_train = []\n",
        "y_train = []\n",
        "\n",
        "for i in range(10, len(train_data)):\n",
        "  x_train.append(train_data[i-10:i, 0])\n",
        "  y_train.append(train_data[i, 0])\n",
        "  if i<= 10:\n",
        "    print(x_train)\n",
        "    print(y_train)\n",
        "    print()"
      ],
      "execution_count": 0,
      "outputs": [
        {
          "output_type": "stream",
          "text": [
            "[array([0.        , 0.00115382, 0.00451813, 0.01042084, 0.01854618,\n",
            "       0.02828688, 0.06025384, 0.06727394, 0.09222081, 0.11239449])]\n",
            "[0.1377664419748588]\n",
            "\n"
          ],
          "name": "stdout"
        }
      ]
    },
    {
      "cell_type": "code",
      "metadata": {
        "id": "fLRFNnYqAHrQ",
        "colab_type": "code",
        "colab": {}
      },
      "source": [
        "x_train, y_train = np.array(x_train), np.array(y_train)"
      ],
      "execution_count": 0,
      "outputs": []
    },
    {
      "cell_type": "code",
      "metadata": {
        "id": "w2rnFmToA-Ux",
        "colab_type": "code",
        "outputId": "d187423a-a11e-4aa5-dcfb-7ee67a5b3e53",
        "colab": {
          "base_uri": "https://localhost:8080/",
          "height": 34
        }
      },
      "source": [
        "x_train = np.reshape(x_train, (x_train.shape[0], x_train.shape[1], 1))\n",
        "x_train.shape"
      ],
      "execution_count": 0,
      "outputs": [
        {
          "output_type": "execute_result",
          "data": {
            "text/plain": [
              "(46, 10, 1)"
            ]
          },
          "metadata": {
            "tags": []
          },
          "execution_count": 221
        }
      ]
    },
    {
      "cell_type": "code",
      "metadata": {
        "id": "b7adSETOMaIa",
        "colab_type": "code",
        "colab": {}
      },
      "source": [
        "model = Sequential()\n",
        "model.add(LSTM(50, return_sequences=True, input_shape=(x_train.shape[1], 1)))\n",
        "model.add(LSTM(50, return_sequences=False))\n",
        "model.add(Dense(25))\n",
        "model.add(Dense(1))"
      ],
      "execution_count": 0,
      "outputs": []
    },
    {
      "cell_type": "code",
      "metadata": {
        "id": "KdbEeOGKprOT",
        "colab_type": "code",
        "colab": {}
      },
      "source": [
        "#compile the model\n",
        "model.compile(optimizer='adam', loss='mean_squared_error')\n"
      ],
      "execution_count": 0,
      "outputs": []
    },
    {
      "cell_type": "code",
      "metadata": {
        "id": "SIUWBDqxqAPI",
        "colab_type": "code",
        "outputId": "17ed2059-8d96-4ad0-d9a8-5404e7739664",
        "colab": {
          "base_uri": "https://localhost:8080/",
          "height": 1000
        }
      },
      "source": [
        "model.fit(x_train,y_train,batch_size=1, epochs=50)"
      ],
      "execution_count": 0,
      "outputs": [
        {
          "output_type": "stream",
          "text": [
            "Epoch 1/50\n",
            "46/46 [==============================] - 1s 20ms/step - loss: 0.0480\n",
            "Epoch 2/50\n",
            "46/46 [==============================] - 0s 9ms/step - loss: 0.0062\n",
            "Epoch 3/50\n",
            "46/46 [==============================] - 0s 9ms/step - loss: 0.0055\n",
            "Epoch 4/50\n",
            "46/46 [==============================] - 0s 9ms/step - loss: 0.0053\n",
            "Epoch 5/50\n",
            "46/46 [==============================] - 0s 10ms/step - loss: 0.0056\n",
            "Epoch 6/50\n",
            "46/46 [==============================] - 0s 8ms/step - loss: 0.0073\n",
            "Epoch 7/50\n",
            "46/46 [==============================] - 0s 10ms/step - loss: 0.0061\n",
            "Epoch 8/50\n",
            "46/46 [==============================] - 0s 9ms/step - loss: 0.0048\n",
            "Epoch 9/50\n",
            "46/46 [==============================] - 0s 8ms/step - loss: 0.0034\n",
            "Epoch 10/50\n",
            "46/46 [==============================] - 0s 8ms/step - loss: 0.0031\n",
            "Epoch 11/50\n",
            "46/46 [==============================] - 0s 8ms/step - loss: 0.0031\n",
            "Epoch 12/50\n",
            "46/46 [==============================] - 0s 8ms/step - loss: 0.0032\n",
            "Epoch 13/50\n",
            "46/46 [==============================] - 0s 8ms/step - loss: 0.0029\n",
            "Epoch 14/50\n",
            "46/46 [==============================] - 0s 8ms/step - loss: 0.0016\n",
            "Epoch 15/50\n",
            "46/46 [==============================] - 0s 8ms/step - loss: 0.0018\n",
            "Epoch 16/50\n",
            "46/46 [==============================] - 0s 9ms/step - loss: 0.0019\n",
            "Epoch 17/50\n",
            "46/46 [==============================] - 0s 8ms/step - loss: 0.0018\n",
            "Epoch 18/50\n",
            "46/46 [==============================] - 0s 8ms/step - loss: 0.0014\n",
            "Epoch 19/50\n",
            "46/46 [==============================] - 0s 8ms/step - loss: 0.0012\n",
            "Epoch 20/50\n",
            "46/46 [==============================] - 0s 9ms/step - loss: 0.0017\n",
            "Epoch 21/50\n",
            "46/46 [==============================] - 0s 8ms/step - loss: 0.0017\n",
            "Epoch 22/50\n",
            "46/46 [==============================] - 0s 8ms/step - loss: 0.0013\n",
            "Epoch 23/50\n",
            "46/46 [==============================] - 0s 9ms/step - loss: 0.0015\n",
            "Epoch 24/50\n",
            "46/46 [==============================] - 0s 8ms/step - loss: 0.0015\n",
            "Epoch 25/50\n",
            "46/46 [==============================] - 0s 8ms/step - loss: 0.0012\n",
            "Epoch 26/50\n",
            "46/46 [==============================] - 0s 8ms/step - loss: 0.0026\n",
            "Epoch 27/50\n",
            "46/46 [==============================] - 0s 8ms/step - loss: 0.0014\n",
            "Epoch 28/50\n",
            "46/46 [==============================] - 0s 9ms/step - loss: 0.0014\n",
            "Epoch 29/50\n",
            "46/46 [==============================] - 0s 9ms/step - loss: 0.0012\n",
            "Epoch 30/50\n",
            "46/46 [==============================] - 0s 8ms/step - loss: 0.0016\n",
            "Epoch 31/50\n",
            "46/46 [==============================] - 0s 9ms/step - loss: 0.0017\n",
            "Epoch 32/50\n",
            "46/46 [==============================] - 0s 8ms/step - loss: 0.0015\n",
            "Epoch 33/50\n",
            "46/46 [==============================] - 0s 8ms/step - loss: 0.0013\n",
            "Epoch 34/50\n",
            "46/46 [==============================] - 0s 9ms/step - loss: 0.0017\n",
            "Epoch 35/50\n",
            "46/46 [==============================] - 0s 10ms/step - loss: 0.0014\n",
            "Epoch 36/50\n",
            "46/46 [==============================] - 0s 10ms/step - loss: 0.0016\n",
            "Epoch 37/50\n",
            "46/46 [==============================] - 0s 10ms/step - loss: 0.0013\n",
            "Epoch 38/50\n",
            "46/46 [==============================] - 0s 10ms/step - loss: 0.0011\n",
            "Epoch 39/50\n",
            "46/46 [==============================] - 0s 8ms/step - loss: 0.0014\n",
            "Epoch 40/50\n",
            "46/46 [==============================] - 0s 8ms/step - loss: 0.0013\n",
            "Epoch 41/50\n",
            "46/46 [==============================] - 0s 8ms/step - loss: 0.0015\n",
            "Epoch 42/50\n",
            "46/46 [==============================] - 0s 8ms/step - loss: 0.0012\n",
            "Epoch 43/50\n",
            "46/46 [==============================] - 0s 8ms/step - loss: 0.0012\n",
            "Epoch 44/50\n",
            "46/46 [==============================] - 0s 8ms/step - loss: 0.0017\n",
            "Epoch 45/50\n",
            "46/46 [==============================] - 0s 8ms/step - loss: 0.0014\n",
            "Epoch 46/50\n",
            "46/46 [==============================] - 0s 9ms/step - loss: 0.0013\n",
            "Epoch 47/50\n",
            "46/46 [==============================] - 0s 8ms/step - loss: 0.0025\n",
            "Epoch 48/50\n",
            "46/46 [==============================] - 0s 8ms/step - loss: 0.0020\n",
            "Epoch 49/50\n",
            "46/46 [==============================] - 0s 8ms/step - loss: 0.0022\n",
            "Epoch 50/50\n",
            "46/46 [==============================] - 0s 8ms/step - loss: 0.0011\n"
          ],
          "name": "stdout"
        },
        {
          "output_type": "execute_result",
          "data": {
            "text/plain": [
              "<keras.callbacks.callbacks.History at 0x7f700dac9b00>"
            ]
          },
          "metadata": {
            "tags": []
          },
          "execution_count": 224
        }
      ]
    },
    {
      "cell_type": "code",
      "metadata": {
        "id": "enX1Vm9EqNBq",
        "colab_type": "code",
        "colab": {}
      },
      "source": [
        "test_data = scaled_data[training_data_len-10: , :]\n",
        "x_test = []\n",
        "y_test = dataset[training_data_len:, :]\n",
        "for i in range(10, len(test_data)):\n",
        "  x_test.append(test_data[i-10:i, 0])\n",
        "  "
      ],
      "execution_count": 0,
      "outputs": []
    },
    {
      "cell_type": "code",
      "metadata": {
        "id": "1C4ylH1HAT8v",
        "colab_type": "code",
        "outputId": "7ee25d46-dad7-40ae-f1ac-a1082c4ed2ac",
        "colab": {
          "base_uri": "https://localhost:8080/",
          "height": 34
        }
      },
      "source": [
        "len(test_data)"
      ],
      "execution_count": 0,
      "outputs": [
        {
          "output_type": "execute_result",
          "data": {
            "text/plain": [
              "33"
            ]
          },
          "metadata": {
            "tags": []
          },
          "execution_count": 226
        }
      ]
    },
    {
      "cell_type": "code",
      "metadata": {
        "id": "9riQylarrFq4",
        "colab_type": "code",
        "colab": {}
      },
      "source": [
        "x_test = np.array(x_test)\n"
      ],
      "execution_count": 0,
      "outputs": []
    },
    {
      "cell_type": "code",
      "metadata": {
        "id": "gvFsLl8erUxJ",
        "colab_type": "code",
        "colab": {}
      },
      "source": [
        "x_test = np.reshape(x_test, (x_test.shape[0], x_test.shape[1], 1 ))"
      ],
      "execution_count": 0,
      "outputs": []
    },
    {
      "cell_type": "code",
      "metadata": {
        "id": "dJm2-FeerkCJ",
        "colab_type": "code",
        "outputId": "bc053169-5c9c-4ede-8cfe-4e9d01bcba20",
        "colab": {
          "base_uri": "https://localhost:8080/",
          "height": 1000
        }
      },
      "source": [
        "x_test"
      ],
      "execution_count": 0,
      "outputs": [
        {
          "output_type": "execute_result",
          "data": {
            "text/plain": [
              "array([[[0.97498026],\n",
              "        [0.97542965],\n",
              "        [0.97575758],\n",
              "        [0.97617052],\n",
              "        [0.97630412],\n",
              "        [0.97646201],\n",
              "        [0.97685067],\n",
              "        [0.97716645],\n",
              "        [0.97716645],\n",
              "        [0.97783446]],\n",
              "\n",
              "       [[0.97542965],\n",
              "        [0.97575758],\n",
              "        [0.97617052],\n",
              "        [0.97630412],\n",
              "        [0.97646201],\n",
              "        [0.97685067],\n",
              "        [0.97716645],\n",
              "        [0.97716645],\n",
              "        [0.97783446],\n",
              "        [0.97836886]],\n",
              "\n",
              "       [[0.97575758],\n",
              "        [0.97617052],\n",
              "        [0.97630412],\n",
              "        [0.97646201],\n",
              "        [0.97685067],\n",
              "        [0.97716645],\n",
              "        [0.97716645],\n",
              "        [0.97783446],\n",
              "        [0.97836886],\n",
              "        [0.97902472]],\n",
              "\n",
              "       [[0.97617052],\n",
              "        [0.97630412],\n",
              "        [0.97646201],\n",
              "        [0.97685067],\n",
              "        [0.97716645],\n",
              "        [0.97716645],\n",
              "        [0.97783446],\n",
              "        [0.97836886],\n",
              "        [0.97902472],\n",
              "        [0.98016639]],\n",
              "\n",
              "       [[0.97630412],\n",
              "        [0.97646201],\n",
              "        [0.97685067],\n",
              "        [0.97716645],\n",
              "        [0.97716645],\n",
              "        [0.97783446],\n",
              "        [0.97836886],\n",
              "        [0.97902472],\n",
              "        [0.98016639],\n",
              "        [0.98138094]],\n",
              "\n",
              "       [[0.97646201],\n",
              "        [0.97685067],\n",
              "        [0.97716645],\n",
              "        [0.97716645],\n",
              "        [0.97783446],\n",
              "        [0.97836886],\n",
              "        [0.97902472],\n",
              "        [0.98016639],\n",
              "        [0.98138094],\n",
              "        [0.98241331]],\n",
              "\n",
              "       [[0.97685067],\n",
              "        [0.97716645],\n",
              "        [0.97716645],\n",
              "        [0.97783446],\n",
              "        [0.97836886],\n",
              "        [0.97902472],\n",
              "        [0.98016639],\n",
              "        [0.98138094],\n",
              "        [0.98241331],\n",
              "        [0.98317848]],\n",
              "\n",
              "       [[0.97716645],\n",
              "        [0.97716645],\n",
              "        [0.97783446],\n",
              "        [0.97836886],\n",
              "        [0.97902472],\n",
              "        [0.98016639],\n",
              "        [0.98138094],\n",
              "        [0.98241331],\n",
              "        [0.98317848],\n",
              "        [0.98430801]],\n",
              "\n",
              "       [[0.97716645],\n",
              "        [0.97783446],\n",
              "        [0.97836886],\n",
              "        [0.97902472],\n",
              "        [0.98016639],\n",
              "        [0.98138094],\n",
              "        [0.98241331],\n",
              "        [0.98317848],\n",
              "        [0.98430801],\n",
              "        [0.9851582 ]],\n",
              "\n",
              "       [[0.97783446],\n",
              "        [0.97836886],\n",
              "        [0.97902472],\n",
              "        [0.98016639],\n",
              "        [0.98138094],\n",
              "        [0.98241331],\n",
              "        [0.98317848],\n",
              "        [0.98430801],\n",
              "        [0.9851582 ],\n",
              "        [0.9866278 ]],\n",
              "\n",
              "       [[0.97836886],\n",
              "        [0.97902472],\n",
              "        [0.98016639],\n",
              "        [0.98138094],\n",
              "        [0.98241331],\n",
              "        [0.98317848],\n",
              "        [0.98430801],\n",
              "        [0.9851582 ],\n",
              "        [0.9866278 ],\n",
              "        [0.98802453]],\n",
              "\n",
              "       [[0.97902472],\n",
              "        [0.98016639],\n",
              "        [0.98138094],\n",
              "        [0.98241331],\n",
              "        [0.98317848],\n",
              "        [0.98430801],\n",
              "        [0.9851582 ],\n",
              "        [0.9866278 ],\n",
              "        [0.98802453],\n",
              "        [0.98926338]],\n",
              "\n",
              "       [[0.98016639],\n",
              "        [0.98138094],\n",
              "        [0.98241331],\n",
              "        [0.98317848],\n",
              "        [0.98430801],\n",
              "        [0.9851582 ],\n",
              "        [0.9866278 ],\n",
              "        [0.98802453],\n",
              "        [0.98926338],\n",
              "        [0.99075727]],\n",
              "\n",
              "       [[0.98138094],\n",
              "        [0.98241331],\n",
              "        [0.98317848],\n",
              "        [0.98430801],\n",
              "        [0.9851582 ],\n",
              "        [0.9866278 ],\n",
              "        [0.98802453],\n",
              "        [0.98926338],\n",
              "        [0.99075727],\n",
              "        [0.99168033]],\n",
              "\n",
              "       [[0.98241331],\n",
              "        [0.98317848],\n",
              "        [0.98430801],\n",
              "        [0.9851582 ],\n",
              "        [0.9866278 ],\n",
              "        [0.98802453],\n",
              "        [0.98926338],\n",
              "        [0.99075727],\n",
              "        [0.99168033],\n",
              "        [0.99266412]],\n",
              "\n",
              "       [[0.98317848],\n",
              "        [0.98430801],\n",
              "        [0.9851582 ],\n",
              "        [0.9866278 ],\n",
              "        [0.98802453],\n",
              "        [0.98926338],\n",
              "        [0.99075727],\n",
              "        [0.99168033],\n",
              "        [0.99266412],\n",
              "        [0.99366005]],\n",
              "\n",
              "       [[0.98430801],\n",
              "        [0.9851582 ],\n",
              "        [0.9866278 ],\n",
              "        [0.98802453],\n",
              "        [0.98926338],\n",
              "        [0.99075727],\n",
              "        [0.99168033],\n",
              "        [0.99266412],\n",
              "        [0.99366005],\n",
              "        [0.99452238]],\n",
              "\n",
              "       [[0.9851582 ],\n",
              "        [0.9866278 ],\n",
              "        [0.98802453],\n",
              "        [0.98926338],\n",
              "        [0.99075727],\n",
              "        [0.99168033],\n",
              "        [0.99266412],\n",
              "        [0.99366005],\n",
              "        [0.99452238],\n",
              "        [0.99548187]],\n",
              "\n",
              "       [[0.9866278 ],\n",
              "        [0.98802453],\n",
              "        [0.98926338],\n",
              "        [0.99075727],\n",
              "        [0.99168033],\n",
              "        [0.99266412],\n",
              "        [0.99366005],\n",
              "        [0.99452238],\n",
              "        [0.99548187],\n",
              "        [0.99587053]],\n",
              "\n",
              "       [[0.98802453],\n",
              "        [0.98926338],\n",
              "        [0.99075727],\n",
              "        [0.99168033],\n",
              "        [0.99266412],\n",
              "        [0.99366005],\n",
              "        [0.99452238],\n",
              "        [0.99548187],\n",
              "        [0.99587053],\n",
              "        [0.99658711]],\n",
              "\n",
              "       [[0.98926338],\n",
              "        [0.99075727],\n",
              "        [0.99168033],\n",
              "        [0.99266412],\n",
              "        [0.99366005],\n",
              "        [0.99452238],\n",
              "        [0.99548187],\n",
              "        [0.99587053],\n",
              "        [0.99658711],\n",
              "        [0.99735228]],\n",
              "\n",
              "       [[0.99075727],\n",
              "        [0.99168033],\n",
              "        [0.99266412],\n",
              "        [0.99366005],\n",
              "        [0.99452238],\n",
              "        [0.99548187],\n",
              "        [0.99587053],\n",
              "        [0.99658711],\n",
              "        [0.99735228],\n",
              "        [0.99799599]],\n",
              "\n",
              "       [[0.99168033],\n",
              "        [0.99266412],\n",
              "        [0.99366005],\n",
              "        [0.99452238],\n",
              "        [0.99548187],\n",
              "        [0.99587053],\n",
              "        [0.99658711],\n",
              "        [0.99735228],\n",
              "        [0.99799599],\n",
              "        [0.99910123]]])"
            ]
          },
          "metadata": {
            "tags": []
          },
          "execution_count": 229
        }
      ]
    },
    {
      "cell_type": "code",
      "metadata": {
        "id": "uUTmSYy-Ahx1",
        "colab_type": "code",
        "outputId": "2c94bae0-f7c0-472e-d654-3f5051090bbe",
        "colab": {
          "base_uri": "https://localhost:8080/",
          "height": 34
        }
      },
      "source": [
        "len(x_test)"
      ],
      "execution_count": 0,
      "outputs": [
        {
          "output_type": "execute_result",
          "data": {
            "text/plain": [
              "23"
            ]
          },
          "metadata": {
            "tags": []
          },
          "execution_count": 230
        }
      ]
    },
    {
      "cell_type": "code",
      "metadata": {
        "id": "QRpcISLfBBha",
        "colab_type": "code",
        "outputId": "3dc24e8c-bc1e-4f49-fb8a-00cc498f09c5",
        "colab": {
          "base_uri": "https://localhost:8080/",
          "height": 34
        }
      },
      "source": [
        "len(x_train)"
      ],
      "execution_count": 0,
      "outputs": [
        {
          "output_type": "execute_result",
          "data": {
            "text/plain": [
              "46"
            ]
          },
          "metadata": {
            "tags": []
          },
          "execution_count": 231
        }
      ]
    },
    {
      "cell_type": "code",
      "metadata": {
        "id": "5T3FumoDrl_J",
        "colab_type": "code",
        "colab": {}
      },
      "source": [
        "predictions = model.predict(x_test)\n",
        "predictions = scaler.inverse_transform(predictions)"
      ],
      "execution_count": 0,
      "outputs": []
    },
    {
      "cell_type": "code",
      "metadata": {
        "id": "xeSdeCGzuS9b",
        "colab_type": "code",
        "outputId": "d5d60607-9742-4ae6-add7-9c34ebe207f8",
        "colab": {
          "base_uri": "https://localhost:8080/",
          "height": 403
        }
      },
      "source": [
        "predictions"
      ],
      "execution_count": 0,
      "outputs": [
        {
          "output_type": "execute_result",
          "data": {
            "text/plain": [
              "array([[81047.09 ],\n",
              "       [81054.016],\n",
              "       [81061.82 ],\n",
              "       [81071.99 ],\n",
              "       [81084.48 ],\n",
              "       [81098.68 ],\n",
              "       [81113.41 ],\n",
              "       [81129.26 ],\n",
              "       [81145.45 ],\n",
              "       [81164.27 ],\n",
              "       [81184.69 ],\n",
              "       [81206.19 ],\n",
              "       [81229.23 ],\n",
              "       [81251.34 ],\n",
              "       [81272.47 ],\n",
              "       [81292.97 ],\n",
              "       [81312.98 ],\n",
              "       [81332.47 ],\n",
              "       [81350.29 ],\n",
              "       [81366.71 ],\n",
              "       [81382.305],\n",
              "       [81397.016],\n",
              "       [81411.98 ]], dtype=float32)"
            ]
          },
          "metadata": {
            "tags": []
          },
          "execution_count": 233
        }
      ]
    },
    {
      "cell_type": "code",
      "metadata": {
        "id": "SKwx-v8gBvJm",
        "colab_type": "code",
        "outputId": "cd973a0c-6549-4187-fbb9-6b8f8d3bb34d",
        "colab": {
          "base_uri": "https://localhost:8080/",
          "height": 34
        }
      },
      "source": [
        "len(predictions)"
      ],
      "execution_count": 0,
      "outputs": [
        {
          "output_type": "execute_result",
          "data": {
            "text/plain": [
              "23"
            ]
          },
          "metadata": {
            "tags": []
          },
          "execution_count": 234
        }
      ]
    },
    {
      "cell_type": "code",
      "metadata": {
        "id": "eqFoe549sXsn",
        "colab_type": "code",
        "outputId": "0fa48ab9-421d-4166-bc59-605919190436",
        "colab": {
          "base_uri": "https://localhost:8080/",
          "height": 34
        }
      },
      "source": [
        "rmse = np.sqrt( np.mean( predictions - y_test )**2)\n",
        "rmse\n"
      ],
      "execution_count": 0,
      "outputs": [
        {
          "output_type": "execute_result",
          "data": {
            "text/plain": [
              "820.9959239130435"
            ]
          },
          "metadata": {
            "tags": []
          },
          "execution_count": 235
        }
      ]
    },
    {
      "cell_type": "code",
      "metadata": {
        "id": "PLYRsNOGsgZr",
        "colab_type": "code",
        "outputId": "c6f25b84-ae51-4ced-eaea-435594d32c1b",
        "colab": {
          "base_uri": "https://localhost:8080/",
          "height": 118
        }
      },
      "source": [
        "train = data[:training_data_len]\n",
        "valid = data[training_data_len:]\n",
        "valid['Predicted Cases'] = predictions\n",
        "\n"
      ],
      "execution_count": 0,
      "outputs": [
        {
          "output_type": "stream",
          "text": [
            "/usr/local/lib/python3.6/dist-packages/ipykernel_launcher.py:3: SettingWithCopyWarning: \n",
            "A value is trying to be set on a copy of a slice from a DataFrame.\n",
            "Try using .loc[row_indexer,col_indexer] = value instead\n",
            "\n",
            "See the caveats in the documentation: https://pandas.pydata.org/pandas-docs/stable/user_guide/indexing.html#returning-a-view-versus-a-copy\n",
            "  This is separate from the ipykernel package so we can avoid doing imports until\n"
          ],
          "name": "stderr"
        }
      ]
    },
    {
      "cell_type": "code",
      "metadata": {
        "id": "Qo985PovtHoN",
        "colab_type": "code",
        "outputId": "3d308c4d-e574-4f55-cf65-26d248ef4816",
        "colab": {
          "base_uri": "https://localhost:8080/",
          "height": 570
        }
      },
      "source": [
        "plt.figure(figsize=(22,10))\n",
        "plt.title('Model')\n",
        "plt.xlabel('Date', fontsize=12)\n",
        "plt.xticks(rotation=45)\n",
        "plt.ylabel('Confirmed Cases', fontsize=12)\n",
        "plt.plot(train['China Confirmed Cases'])\n",
        "plt.plot(valid[['China Confirmed Cases', 'Predicted Cases']])\n",
        "plt.legend(['Train', 'Val', 'Predictions'], loc='lower right')\n",
        "plt.savefig('/content/drive/My Drive/figzero.png', dpi=300)\n",
        "#plt.show()"
      ],
      "execution_count": 0,
      "outputs": [
        {
          "output_type": "display_data",
          "data": {
            "image/png": "[encoded data removed]",
            "text/plain": [
              "<Figure size 1584x720 with 1 Axes>"
            ]
          },
          "metadata": {
            "tags": [],
            "needs_background": "light"
          }
        }
      ]
    },
    {
      "cell_type": "code",
      "metadata": {
        "id": "BLCuU07muNXg",
        "colab_type": "code",
        "outputId": "f55eb34d-21f6-4c72-a6d5-71e0e06a161a",
        "colab": {
          "base_uri": "https://localhost:8080/",
          "height": 758
        }
      },
      "source": [
        "valid"
      ],
      "execution_count": 0,
      "outputs": [
        {
          "output_type": "execute_result",
          "data": {
            "text/html": [
              "<div>\n",
              "<style scoped>\n",
              "    .dataframe tbody tr th:only-of-type {\n",
              "        vertical-align: middle;\n",
              "    }\n",
              "\n",
              "    .dataframe tbody tr th {\n",
              "        vertical-align: top;\n",
              "    }\n",
              "\n",
              "    .dataframe thead th {\n",
              "        text-align: right;\n",
              "    }\n",
              "</style>\n",
              "<table border=\"1\" class=\"dataframe\">\n",
              "  <thead>\n",
              "    <tr style=\"text-align: right;\">\n",
              "      <th></th>\n",
              "      <th>China Confirmed Cases</th>\n",
              "      <th>Predicted Cases</th>\n",
              "    </tr>\n",
              "    <tr>\n",
              "      <th>Dates</th>\n",
              "      <th></th>\n",
              "      <th></th>\n",
              "    </tr>\n",
              "  </thead>\n",
              "  <tbody>\n",
              "    <tr>\n",
              "      <th>03/18/2020</th>\n",
              "      <td>81102</td>\n",
              "      <td>81047.093750</td>\n",
              "    </tr>\n",
              "    <tr>\n",
              "      <th>03/19/2020</th>\n",
              "      <td>81156</td>\n",
              "      <td>81054.015625</td>\n",
              "    </tr>\n",
              "    <tr>\n",
              "      <th>03/20/2020</th>\n",
              "      <td>81250</td>\n",
              "      <td>81061.820312</td>\n",
              "    </tr>\n",
              "    <tr>\n",
              "      <th>03/21/2020</th>\n",
              "      <td>81350</td>\n",
              "      <td>81071.992188</td>\n",
              "    </tr>\n",
              "    <tr>\n",
              "      <th>03/22/2020</th>\n",
              "      <td>81435</td>\n",
              "      <td>81084.476562</td>\n",
              "    </tr>\n",
              "    <tr>\n",
              "      <th>03/23/2020</th>\n",
              "      <td>81498</td>\n",
              "      <td>81098.679688</td>\n",
              "    </tr>\n",
              "    <tr>\n",
              "      <th>03/24/2020</th>\n",
              "      <td>81591</td>\n",
              "      <td>81113.406250</td>\n",
              "    </tr>\n",
              "    <tr>\n",
              "      <th>03/25/2020</th>\n",
              "      <td>81661</td>\n",
              "      <td>81129.257812</td>\n",
              "    </tr>\n",
              "    <tr>\n",
              "      <th>03/26/2020</th>\n",
              "      <td>81782</td>\n",
              "      <td>81145.453125</td>\n",
              "    </tr>\n",
              "    <tr>\n",
              "      <th>03/27/2020</th>\n",
              "      <td>81897</td>\n",
              "      <td>81164.273438</td>\n",
              "    </tr>\n",
              "    <tr>\n",
              "      <th>03/28/2020</th>\n",
              "      <td>81999</td>\n",
              "      <td>81184.687500</td>\n",
              "    </tr>\n",
              "    <tr>\n",
              "      <th>03/29/2020</th>\n",
              "      <td>82122</td>\n",
              "      <td>81206.187500</td>\n",
              "    </tr>\n",
              "    <tr>\n",
              "      <th>03/30/2020</th>\n",
              "      <td>82198</td>\n",
              "      <td>81229.226562</td>\n",
              "    </tr>\n",
              "    <tr>\n",
              "      <th>03/31/2020</th>\n",
              "      <td>82279</td>\n",
              "      <td>81251.343750</td>\n",
              "    </tr>\n",
              "    <tr>\n",
              "      <th>04/01/2020</th>\n",
              "      <td>82361</td>\n",
              "      <td>81272.468750</td>\n",
              "    </tr>\n",
              "    <tr>\n",
              "      <th>04/02/2020</th>\n",
              "      <td>82432</td>\n",
              "      <td>81292.968750</td>\n",
              "    </tr>\n",
              "    <tr>\n",
              "      <th>04/03/2020</th>\n",
              "      <td>82511</td>\n",
              "      <td>81312.976562</td>\n",
              "    </tr>\n",
              "    <tr>\n",
              "      <th>04/04/2020</th>\n",
              "      <td>82543</td>\n",
              "      <td>81332.468750</td>\n",
              "    </tr>\n",
              "    <tr>\n",
              "      <th>04/05/2020</th>\n",
              "      <td>82602</td>\n",
              "      <td>81350.289062</td>\n",
              "    </tr>\n",
              "    <tr>\n",
              "      <th>04/06/2020</th>\n",
              "      <td>82665</td>\n",
              "      <td>81366.710938</td>\n",
              "    </tr>\n",
              "    <tr>\n",
              "      <th>04/07/2020</th>\n",
              "      <td>82718</td>\n",
              "      <td>81382.304688</td>\n",
              "    </tr>\n",
              "    <tr>\n",
              "      <th>04/08/2020</th>\n",
              "      <td>82809</td>\n",
              "      <td>81397.015625</td>\n",
              "    </tr>\n",
              "    <tr>\n",
              "      <th>04/09/2020</th>\n",
              "      <td>82883</td>\n",
              "      <td>81411.976562</td>\n",
              "    </tr>\n",
              "  </tbody>\n",
              "</table>\n",
              "</div>"
            ],
            "text/plain": [
              "            China Confirmed Cases  Predicted Cases\n",
              "Dates                                             \n",
              "03/18/2020                  81102     81047.093750\n",
              "03/19/2020                  81156     81054.015625\n",
              "03/20/2020                  81250     81061.820312\n",
              "03/21/2020                  81350     81071.992188\n",
              "03/22/2020                  81435     81084.476562\n",
              "03/23/2020                  81498     81098.679688\n",
              "03/24/2020                  81591     81113.406250\n",
              "03/25/2020                  81661     81129.257812\n",
              "03/26/2020                  81782     81145.453125\n",
              "03/27/2020                  81897     81164.273438\n",
              "03/28/2020                  81999     81184.687500\n",
              "03/29/2020                  82122     81206.187500\n",
              "03/30/2020                  82198     81229.226562\n",
              "03/31/2020                  82279     81251.343750\n",
              "04/01/2020                  82361     81272.468750\n",
              "04/02/2020                  82432     81292.968750\n",
              "04/03/2020                  82511     81312.976562\n",
              "04/04/2020                  82543     81332.468750\n",
              "04/05/2020                  82602     81350.289062\n",
              "04/06/2020                  82665     81366.710938\n",
              "04/07/2020                  82718     81382.304688\n",
              "04/08/2020                  82809     81397.015625\n",
              "04/09/2020                  82883     81411.976562"
            ]
          },
          "metadata": {
            "tags": []
          },
          "execution_count": 238
        }
      ]
    },
    {
      "cell_type": "code",
      "metadata": {
        "id": "-dKnJxcECYW-",
        "colab_type": "code",
        "outputId": "1129dcd8-d4d5-45a4-d422-5a5d3e246ee2",
        "colab": {
          "base_uri": "https://localhost:8080/",
          "height": 34
        }
      },
      "source": [
        "len(valid)"
      ],
      "execution_count": 0,
      "outputs": [
        {
          "output_type": "execute_result",
          "data": {
            "text/plain": [
              "23"
            ]
          },
          "metadata": {
            "tags": []
          },
          "execution_count": 239
        }
      ]
    },
    {
      "cell_type": "code",
      "metadata": {
        "colab_type": "code",
        "outputId": "8af31f24-849c-4b4a-e995-bc4837e8566d",
        "id": "LNNyOWc7F_ep",
        "colab": {
          "base_uri": "https://localhost:8080/",
          "height": 553
        }
      },
      "source": [
        "plt.figure(figsize=(16,8))\n",
        "plt.title('Model')\n",
        "plt.xlabel('Date', fontsize=12)\n",
        "plt.xticks(rotation=45)\n",
        "plt.ylabel('Confirmed Cases', fontsize=12)\n",
        "plt.plot(valid)\n",
        "plt.legend(['Train', 'Predictions'], loc='lower right')\n",
        "plt.savefig('/content/drive/My Drive/figone.png', dpi=300)\n",
        "#plt.show()"
      ],
      "execution_count": 0,
      "outputs": [
        {
          "output_type": "display_data",
          "data": {
            "image/png": "[encoded data removed]",
            "text/plain": [
              "<Figure size 1152x576 with 1 Axes>"
            ]
          },
          "metadata": {
            "tags": [],
            "needs_background": "light"
          }
        }
      ]
    },
    {
      "cell_type": "code",
      "metadata": {
        "id": "DlAhnN5vFtXq",
        "colab_type": "code",
        "outputId": "c0480fc2-f8e5-48ab-8588-48b78e3820d3",
        "colab": {
          "base_uri": "https://localhost:8080/",
          "height": 34
        }
      },
      "source": [
        "from sklearn.metrics import r2_score\n",
        "score = r2_score(valid['China Confirmed Cases'], valid['Predicted Cases'])\n",
        "print(score)"
      ],
      "execution_count": 0,
      "outputs": [
        {
          "output_type": "stream",
          "text": [
            "-1.7906129926819845\n"
          ],
          "name": "stdout"
        }
      ]
    },
    {
      "cell_type": "markdown",
      "metadata": {
        "id": "Np5QtxiXhKBj",
        "colab_type": "text"
      },
      "source": [
        "LSTM FOR CHINA DEATHS"
      ]
    },
    {
      "cell_type": "code",
      "metadata": {
        "id": "a8d2fAjwfbQM",
        "colab_type": "code",
        "outputId": "d6ad3aa3-3627-426b-b02b-509e17c8793d",
        "colab": {
          "base_uri": "https://localhost:8080/",
          "height": 283
        }
      },
      "source": [
        "df2 = df['Confirmed Deaths'].plot()\n",
        "#plt.figure(figsize=(16,8))"
      ],
      "execution_count": 0,
      "outputs": [
        {
          "output_type": "display_data",
          "data": {
            "image/png": "[encoded data removed]",
            "text/plain": [
              "<Figure size 432x288 with 1 Axes>"
            ]
          },
          "metadata": {
            "tags": [],
            "needs_background": "light"
          }
        }
      ]
    },
    {
      "cell_type": "code",
      "metadata": {
        "id": "K3VBKnC7hV0W",
        "colab_type": "code",
        "colab": {}
      },
      "source": [
        "data2 = df.filter(['Confirmed Deaths'])"
      ],
      "execution_count": 0,
      "outputs": []
    },
    {
      "cell_type": "code",
      "metadata": {
        "id": "qPhJZx-Oib32",
        "colab_type": "code",
        "colab": {}
      },
      "source": [
        "dataset2 = data2.values"
      ],
      "execution_count": 0,
      "outputs": []
    },
    {
      "cell_type": "code",
      "metadata": {
        "id": "j8KeADxcidfP",
        "colab_type": "code",
        "outputId": "3eaa7faf-ba24-4e47-85de-93716e3b80cd",
        "colab": {
          "base_uri": "https://localhost:8080/",
          "height": 34
        }
      },
      "source": [
        "training_data_len2 = math.ceil(len(dataset2) * 0.7)\n",
        "training_data_len2"
      ],
      "execution_count": 0,
      "outputs": [
        {
          "output_type": "execute_result",
          "data": {
            "text/plain": [
              "56"
            ]
          },
          "metadata": {
            "tags": []
          },
          "execution_count": 245
        }
      ]
    },
    {
      "cell_type": "code",
      "metadata": {
        "id": "25VlIZiOijtM",
        "colab_type": "code",
        "colab": {}
      },
      "source": [
        "scaler2 = MinMaxScaler(feature_range=(0,1))\n",
        "scaled_data2 = scaler.fit_transform(dataset2)"
      ],
      "execution_count": 0,
      "outputs": []
    },
    {
      "cell_type": "code",
      "metadata": {
        "id": "EtAscLFxipZ8",
        "colab_type": "code",
        "outputId": "c42e7fc4-47f8-4903-ab95-74dbcfc2fb2e",
        "colab": {
          "base_uri": "https://localhost:8080/",
          "height": 1000
        }
      },
      "source": [
        "scaled_data2"
      ],
      "execution_count": 0,
      "outputs": [
        {
          "output_type": "execute_result",
          "data": {
            "text/plain": [
              "array([[0.00000000e+00],\n",
              "       [3.01023480e-04],\n",
              "       [2.70921132e-03],\n",
              "       [7.52558700e-03],\n",
              "       [1.17399157e-02],\n",
              "       [1.95665262e-02],\n",
              "       [3.43166767e-02],\n",
              "       [3.49187237e-02],\n",
              "       [4.63576159e-02],\n",
              "       [5.90006020e-02],\n",
              "       [7.28476821e-02],\n",
              "       [1.03552077e-01],\n",
              "       [1.22817580e-01],\n",
              "       [1.42685129e-01],\n",
              "       [1.64358820e-01],\n",
              "       [1.85430464e-01],\n",
              "       [2.11017459e-01],\n",
              "       [2.37206502e-01],\n",
              "       [2.67308850e-01],\n",
              "       [2.99518362e-01],\n",
              "       [3.29620710e-01],\n",
              "       [3.31125828e-01],\n",
              "       [4.06983745e-01],\n",
              "       [4.52739314e-01],\n",
              "       [4.95484648e-01],\n",
              "       [5.26490066e-01],\n",
              "       [5.55990367e-01],\n",
              "       [5.97832631e-01],\n",
              "       [6.31848284e-01],\n",
              "       [6.68573149e-01],\n",
              "       [6.68573149e-01],\n",
              "       [7.30282962e-01],\n",
              "       [7.30885009e-01],\n",
              "       [7.76038531e-01],\n",
              "       [7.97110175e-01],\n",
              "       [8.12763396e-01],\n",
              "       [8.21493076e-01],\n",
              "       [8.34738110e-01],\n",
              "       [8.48886213e-01],\n",
              "       [8.59422035e-01],\n",
              "       [8.72065021e-01],\n",
              "       [8.81998796e-01],\n",
              "       [8.92835641e-01],\n",
              "       [9.02468393e-01],\n",
              "       [9.11198073e-01],\n",
              "       [9.19626731e-01],\n",
              "       [9.28055388e-01],\n",
              "       [9.34978928e-01],\n",
              "       [9.39795304e-01],\n",
              "       [9.46417821e-01],\n",
              "       [9.49729079e-01],\n",
              "       [9.52137267e-01],\n",
              "       [9.56050572e-01],\n",
              "       [9.59060807e-01],\n",
              "       [9.63275135e-01],\n",
              "       [9.67188441e-01],\n",
              "       [9.70499699e-01],\n",
              "       [9.72907887e-01],\n",
              "       [9.74111981e-01],\n",
              "       [9.75918122e-01],\n",
              "       [9.80433474e-01],\n",
              "       [9.80433474e-01],\n",
              "       [9.82540638e-01],\n",
              "       [9.83744732e-01],\n",
              "       [9.85550873e-01],\n",
              "       [9.87055990e-01],\n",
              "       [9.87959061e-01],\n",
              "       [9.89464178e-01],\n",
              "       [9.90668272e-01],\n",
              "       [9.90969296e-01],\n",
              "       [9.93076460e-01],\n",
              "       [9.94882601e-01],\n",
              "       [9.96086695e-01],\n",
              "       [9.97290789e-01],\n",
              "       [9.98193859e-01],\n",
              "       [9.98795906e-01],\n",
              "       [9.98795906e-01],\n",
              "       [9.99397953e-01],\n",
              "       [1.00000000e+00]])"
            ]
          },
          "metadata": {
            "tags": []
          },
          "execution_count": 247
        }
      ]
    },
    {
      "cell_type": "code",
      "metadata": {
        "id": "vI7R3akPiuv5",
        "colab_type": "code",
        "outputId": "9f13d331-a554-4601-f24c-b00366663bac",
        "colab": {
          "base_uri": "https://localhost:8080/",
          "height": 84
        }
      },
      "source": [
        "train_data2 = scaled_data2[0:training_data_len2, :]\n",
        "x_train2 = []\n",
        "y_train2 = []\n",
        "\n",
        "for i in range(10, len(train_data2)):\n",
        "  x_train2.append(train_data2[i-10:i, 0])\n",
        "  y_train2.append(train_data2[i, 0])\n",
        "  if i<= 10:\n",
        "    print(x_train2)\n",
        "    print(y_train2)\n",
        "    print()"
      ],
      "execution_count": 0,
      "outputs": [
        {
          "output_type": "stream",
          "text": [
            "[array([0.        , 0.00030102, 0.00270921, 0.00752559, 0.01173992,\n",
            "       0.01956653, 0.03431668, 0.03491872, 0.04635762, 0.0590006 ])]\n",
            "[0.0728476821192053]\n",
            "\n"
          ],
          "name": "stdout"
        }
      ]
    },
    {
      "cell_type": "code",
      "metadata": {
        "id": "ywdAMCgIi0sA",
        "colab_type": "code",
        "colab": {}
      },
      "source": [
        "x_train2, y_train2 = np.array(x_train2), np.array(y_train2)"
      ],
      "execution_count": 0,
      "outputs": []
    },
    {
      "cell_type": "code",
      "metadata": {
        "id": "9vXTIODJi62A",
        "colab_type": "code",
        "outputId": "25a54b22-7ac5-4a19-d605-081bf953555b",
        "colab": {
          "base_uri": "https://localhost:8080/",
          "height": 34
        }
      },
      "source": [
        "x_train2 = np.reshape(x_train2, (x_train2.shape[0], x_train2.shape[1], 1))\n",
        "x_train2.shape"
      ],
      "execution_count": 0,
      "outputs": [
        {
          "output_type": "execute_result",
          "data": {
            "text/plain": [
              "(46, 10, 1)"
            ]
          },
          "metadata": {
            "tags": []
          },
          "execution_count": 250
        }
      ]
    },
    {
      "cell_type": "code",
      "metadata": {
        "id": "ADuwUtFHi_QY",
        "colab_type": "code",
        "colab": {}
      },
      "source": [
        "model2 = Sequential()\n",
        "model2.add(LSTM(50, return_sequences=True, input_shape=(x_train2.shape[1], 1)))\n",
        "model2.add(LSTM(50, return_sequences=False))\n",
        "model2.add(Dense(25))\n",
        "model2.add(Dense(1))"
      ],
      "execution_count": 0,
      "outputs": []
    },
    {
      "cell_type": "code",
      "metadata": {
        "id": "H50CL4dBjHQp",
        "colab_type": "code",
        "colab": {}
      },
      "source": [
        "#compile the model\n",
        "model2.compile(optimizer='adam', loss='mean_squared_error')\n"
      ],
      "execution_count": 0,
      "outputs": []
    },
    {
      "cell_type": "code",
      "metadata": {
        "id": "1V32MJ4XjMeT",
        "colab_type": "code",
        "outputId": "42aa506b-8947-41ec-b95d-f027b0c5f09f",
        "colab": {
          "base_uri": "https://localhost:8080/",
          "height": 1000
        }
      },
      "source": [
        "model2.fit(x_train2, y_train2, batch_size=1, epochs=50)"
      ],
      "execution_count": 0,
      "outputs": [
        {
          "output_type": "stream",
          "text": [
            "Epoch 1/50\n",
            "46/46 [==============================] - 1s 22ms/step - loss: 0.0689\n",
            "Epoch 2/50\n",
            "46/46 [==============================] - 0s 9ms/step - loss: 0.0042\n",
            "Epoch 3/50\n",
            "46/46 [==============================] - 0s 8ms/step - loss: 0.0031\n",
            "Epoch 4/50\n",
            "46/46 [==============================] - 0s 9ms/step - loss: 0.0027\n",
            "Epoch 5/50\n",
            "46/46 [==============================] - 0s 8ms/step - loss: 0.0026\n",
            "Epoch 6/50\n",
            "46/46 [==============================] - 0s 8ms/step - loss: 0.0025\n",
            "Epoch 7/50\n",
            "46/46 [==============================] - 0s 8ms/step - loss: 0.0019\n",
            "Epoch 8/50\n",
            "46/46 [==============================] - 0s 8ms/step - loss: 0.0019\n",
            "Epoch 9/50\n",
            "46/46 [==============================] - 0s 8ms/step - loss: 0.0017\n",
            "Epoch 10/50\n",
            "46/46 [==============================] - 0s 8ms/step - loss: 0.0012\n",
            "Epoch 11/50\n",
            "46/46 [==============================] - 0s 8ms/step - loss: 6.2148e-04\n",
            "Epoch 12/50\n",
            "46/46 [==============================] - 0s 8ms/step - loss: 4.6238e-04\n",
            "Epoch 13/50\n",
            "46/46 [==============================] - 0s 8ms/step - loss: 2.2238e-04\n",
            "Epoch 14/50\n",
            "46/46 [==============================] - 0s 8ms/step - loss: 2.5644e-04\n",
            "Epoch 15/50\n",
            "46/46 [==============================] - 0s 9ms/step - loss: 4.1236e-04\n",
            "Epoch 16/50\n",
            "46/46 [==============================] - 0s 10ms/step - loss: 3.6540e-04\n",
            "Epoch 17/50\n",
            "46/46 [==============================] - 0s 8ms/step - loss: 2.0303e-04\n",
            "Epoch 18/50\n",
            "46/46 [==============================] - 0s 8ms/step - loss: 4.3397e-04\n",
            "Epoch 19/50\n",
            "46/46 [==============================] - 0s 9ms/step - loss: 2.5311e-04\n",
            "Epoch 20/50\n",
            "46/46 [==============================] - 0s 8ms/step - loss: 2.2352e-04\n",
            "Epoch 21/50\n",
            "46/46 [==============================] - 0s 8ms/step - loss: 2.0241e-04\n",
            "Epoch 22/50\n",
            "46/46 [==============================] - 0s 9ms/step - loss: 3.7137e-04\n",
            "Epoch 23/50\n",
            "46/46 [==============================] - 0s 8ms/step - loss: 2.0349e-04\n",
            "Epoch 24/50\n",
            "46/46 [==============================] - 0s 8ms/step - loss: 2.2114e-04\n",
            "Epoch 25/50\n",
            "46/46 [==============================] - 0s 8ms/step - loss: 2.3390e-04\n",
            "Epoch 26/50\n",
            "46/46 [==============================] - 0s 8ms/step - loss: 3.0659e-04\n",
            "Epoch 27/50\n",
            "46/46 [==============================] - 0s 9ms/step - loss: 2.9773e-04\n",
            "Epoch 28/50\n",
            "46/46 [==============================] - 0s 8ms/step - loss: 2.4621e-04\n",
            "Epoch 29/50\n",
            "46/46 [==============================] - 0s 9ms/step - loss: 2.0309e-04\n",
            "Epoch 30/50\n",
            "46/46 [==============================] - 0s 8ms/step - loss: 2.5079e-04\n",
            "Epoch 31/50\n",
            "46/46 [==============================] - 0s 8ms/step - loss: 2.2822e-04\n",
            "Epoch 32/50\n",
            "46/46 [==============================] - 0s 8ms/step - loss: 2.5381e-04\n",
            "Epoch 33/50\n",
            "46/46 [==============================] - 0s 9ms/step - loss: 3.1952e-04\n",
            "Epoch 34/50\n",
            "46/46 [==============================] - 0s 8ms/step - loss: 3.1993e-04\n",
            "Epoch 35/50\n",
            "46/46 [==============================] - 0s 9ms/step - loss: 6.0742e-04\n",
            "Epoch 36/50\n",
            "46/46 [==============================] - 0s 8ms/step - loss: 3.7727e-04\n",
            "Epoch 37/50\n",
            "46/46 [==============================] - 0s 8ms/step - loss: 9.4622e-04\n",
            "Epoch 38/50\n",
            "46/46 [==============================] - 0s 8ms/step - loss: 4.1400e-04\n",
            "Epoch 39/50\n",
            "46/46 [==============================] - 0s 8ms/step - loss: 5.2261e-04\n",
            "Epoch 40/50\n",
            "46/46 [==============================] - 0s 8ms/step - loss: 3.7497e-04\n",
            "Epoch 41/50\n",
            "46/46 [==============================] - 0s 8ms/step - loss: 2.9588e-04\n",
            "Epoch 42/50\n",
            "46/46 [==============================] - 0s 8ms/step - loss: 5.1578e-04\n",
            "Epoch 43/50\n",
            "46/46 [==============================] - 0s 8ms/step - loss: 6.9820e-04\n",
            "Epoch 44/50\n",
            "46/46 [==============================] - 0s 8ms/step - loss: 8.6095e-04\n",
            "Epoch 45/50\n",
            "46/46 [==============================] - 0s 8ms/step - loss: 3.9829e-04\n",
            "Epoch 46/50\n",
            "46/46 [==============================] - 0s 8ms/step - loss: 2.0301e-04\n",
            "Epoch 47/50\n",
            "46/46 [==============================] - 0s 8ms/step - loss: 2.1220e-04\n",
            "Epoch 48/50\n",
            "46/46 [==============================] - 0s 9ms/step - loss: 2.4787e-04\n",
            "Epoch 49/50\n",
            "46/46 [==============================] - 0s 8ms/step - loss: 3.8810e-04\n",
            "Epoch 50/50\n",
            "46/46 [==============================] - 0s 8ms/step - loss: 3.3113e-04\n"
          ],
          "name": "stdout"
        },
        {
          "output_type": "execute_result",
          "data": {
            "text/plain": [
              "<keras.callbacks.callbacks.History at 0x7f700c968f28>"
            ]
          },
          "metadata": {
            "tags": []
          },
          "execution_count": 253
        }
      ]
    },
    {
      "cell_type": "code",
      "metadata": {
        "id": "YTcxQNj9jixB",
        "colab_type": "code",
        "colab": {}
      },
      "source": [
        "test_data2 = scaled_data2[training_data_len2-10: , :]\n",
        "x_test2 = []\n",
        "y_test2 = dataset2[training_data_len2:, :]\n",
        "for i in range(10, len(test_data2)):\n",
        "  x_test2.append(test_data2[i-10:i, 0])\n",
        "  "
      ],
      "execution_count": 0,
      "outputs": []
    },
    {
      "cell_type": "code",
      "metadata": {
        "id": "fHlp2hGGjykZ",
        "colab_type": "code",
        "outputId": "625b3fcb-5a71-4193-e089-0e7cdaee06fd",
        "colab": {
          "base_uri": "https://localhost:8080/",
          "height": 34
        }
      },
      "source": [
        "len(test_data2)"
      ],
      "execution_count": 0,
      "outputs": [
        {
          "output_type": "execute_result",
          "data": {
            "text/plain": [
              "33"
            ]
          },
          "metadata": {
            "tags": []
          },
          "execution_count": 255
        }
      ]
    },
    {
      "cell_type": "code",
      "metadata": {
        "id": "wcK2a08jj4hj",
        "colab_type": "code",
        "colab": {}
      },
      "source": [
        "x_test2 = np.array(x_test2)"
      ],
      "execution_count": 0,
      "outputs": []
    },
    {
      "cell_type": "code",
      "metadata": {
        "id": "PDQeRF86j8xY",
        "colab_type": "code",
        "colab": {}
      },
      "source": [
        "x_test2 = np.reshape(x_test2, (x_test2.shape[0], x_test2.shape[1], 1 ))"
      ],
      "execution_count": 0,
      "outputs": []
    },
    {
      "cell_type": "code",
      "metadata": {
        "id": "28zBibWLkCD-",
        "colab_type": "code",
        "colab": {}
      },
      "source": [
        "predictions2 = model.predict(x_test2)\n",
        "predictions2 = scaler.inverse_transform(predictions2)"
      ],
      "execution_count": 0,
      "outputs": []
    },
    {
      "cell_type": "code",
      "metadata": {
        "id": "6Lbvq9pCkIme",
        "colab_type": "code",
        "outputId": "98aa36ab-b7b0-4581-e5f0-f9110ec2090c",
        "colab": {
          "base_uri": "https://localhost:8080/",
          "height": 34
        }
      },
      "source": [
        "rmse = np.sqrt( np.mean( predictions2 - y_test )**2)\n",
        "rmse"
      ],
      "execution_count": 0,
      "outputs": [
        {
          "output_type": "execute_result",
          "data": {
            "text/plain": [
              "78769.25523310123"
            ]
          },
          "metadata": {
            "tags": []
          },
          "execution_count": 259
        }
      ]
    },
    {
      "cell_type": "code",
      "metadata": {
        "id": "zEiYFO0ckPgK",
        "colab_type": "code",
        "outputId": "11be880c-1a9c-4c1a-c010-7f626489b954",
        "colab": {
          "base_uri": "https://localhost:8080/",
          "height": 118
        }
      },
      "source": [
        "train2 = data2[:training_data_len2]\n",
        "valid2 = data2[training_data_len2:]\n",
        "valid2['Predicted Deaths'] = predictions2"
      ],
      "execution_count": 0,
      "outputs": [
        {
          "output_type": "stream",
          "text": [
            "/usr/local/lib/python3.6/dist-packages/ipykernel_launcher.py:3: SettingWithCopyWarning: \n",
            "A value is trying to be set on a copy of a slice from a DataFrame.\n",
            "Try using .loc[row_indexer,col_indexer] = value instead\n",
            "\n",
            "See the caveats in the documentation: https://pandas.pydata.org/pandas-docs/stable/user_guide/indexing.html#returning-a-view-versus-a-copy\n",
            "  This is separate from the ipykernel package so we can avoid doing imports until\n"
          ],
          "name": "stderr"
        }
      ]
    },
    {
      "cell_type": "code",
      "metadata": {
        "id": "MMDnw1s7l-KL",
        "colab_type": "code",
        "outputId": "a1bc6f35-fbb3-49f3-a3e3-0bee01e701bc",
        "colab": {
          "base_uri": "https://localhost:8080/",
          "height": 758
        }
      },
      "source": [
        "valid2\n"
      ],
      "execution_count": 0,
      "outputs": [
        {
          "output_type": "execute_result",
          "data": {
            "text/html": [
              "<div>\n",
              "<style scoped>\n",
              "    .dataframe tbody tr th:only-of-type {\n",
              "        vertical-align: middle;\n",
              "    }\n",
              "\n",
              "    .dataframe tbody tr th {\n",
              "        vertical-align: top;\n",
              "    }\n",
              "\n",
              "    .dataframe thead th {\n",
              "        text-align: right;\n",
              "    }\n",
              "</style>\n",
              "<table border=\"1\" class=\"dataframe\">\n",
              "  <thead>\n",
              "    <tr style=\"text-align: right;\">\n",
              "      <th></th>\n",
              "      <th>Confirmed Deaths</th>\n",
              "      <th>Predicted Deaths</th>\n",
              "    </tr>\n",
              "    <tr>\n",
              "      <th>Dates</th>\n",
              "      <th></th>\n",
              "      <th></th>\n",
              "    </tr>\n",
              "  </thead>\n",
              "  <tbody>\n",
              "    <tr>\n",
              "      <th>03/18/2020</th>\n",
              "      <td>3241</td>\n",
              "      <td>3246.508301</td>\n",
              "    </tr>\n",
              "    <tr>\n",
              "      <th>03/19/2020</th>\n",
              "      <td>3249</td>\n",
              "      <td>3249.823975</td>\n",
              "    </tr>\n",
              "    <tr>\n",
              "      <th>03/20/2020</th>\n",
              "      <td>3253</td>\n",
              "      <td>3252.768799</td>\n",
              "    </tr>\n",
              "    <tr>\n",
              "      <th>03/21/2020</th>\n",
              "      <td>3259</td>\n",
              "      <td>3255.317627</td>\n",
              "    </tr>\n",
              "    <tr>\n",
              "      <th>03/22/2020</th>\n",
              "      <td>3274</td>\n",
              "      <td>3257.468750</td>\n",
              "    </tr>\n",
              "    <tr>\n",
              "      <th>03/23/2020</th>\n",
              "      <td>3274</td>\n",
              "      <td>3259.792236</td>\n",
              "    </tr>\n",
              "    <tr>\n",
              "      <th>03/24/2020</th>\n",
              "      <td>3281</td>\n",
              "      <td>3261.808838</td>\n",
              "    </tr>\n",
              "    <tr>\n",
              "      <th>03/25/2020</th>\n",
              "      <td>3285</td>\n",
              "      <td>3263.683594</td>\n",
              "    </tr>\n",
              "    <tr>\n",
              "      <th>03/26/2020</th>\n",
              "      <td>3291</td>\n",
              "      <td>3265.386963</td>\n",
              "    </tr>\n",
              "    <tr>\n",
              "      <th>03/27/2020</th>\n",
              "      <td>3296</td>\n",
              "      <td>3266.948730</td>\n",
              "    </tr>\n",
              "    <tr>\n",
              "      <th>03/28/2020</th>\n",
              "      <td>3299</td>\n",
              "      <td>3268.364014</td>\n",
              "    </tr>\n",
              "    <tr>\n",
              "      <th>03/29/2020</th>\n",
              "      <td>3304</td>\n",
              "      <td>3269.596436</td>\n",
              "    </tr>\n",
              "    <tr>\n",
              "      <th>03/30/2020</th>\n",
              "      <td>3308</td>\n",
              "      <td>3270.772705</td>\n",
              "    </tr>\n",
              "    <tr>\n",
              "      <th>03/31/2020</th>\n",
              "      <td>3309</td>\n",
              "      <td>3271.931396</td>\n",
              "    </tr>\n",
              "    <tr>\n",
              "      <th>04/01/2020</th>\n",
              "      <td>3316</td>\n",
              "      <td>3272.936279</td>\n",
              "    </tr>\n",
              "    <tr>\n",
              "      <th>04/02/2020</th>\n",
              "      <td>3322</td>\n",
              "      <td>3273.876221</td>\n",
              "    </tr>\n",
              "    <tr>\n",
              "      <th>04/03/2020</th>\n",
              "      <td>3326</td>\n",
              "      <td>3274.956543</td>\n",
              "    </tr>\n",
              "    <tr>\n",
              "      <th>04/04/2020</th>\n",
              "      <td>3330</td>\n",
              "      <td>3275.989746</td>\n",
              "    </tr>\n",
              "    <tr>\n",
              "      <th>04/05/2020</th>\n",
              "      <td>3333</td>\n",
              "      <td>3277.006104</td>\n",
              "    </tr>\n",
              "    <tr>\n",
              "      <th>04/06/2020</th>\n",
              "      <td>3335</td>\n",
              "      <td>3277.936279</td>\n",
              "    </tr>\n",
              "    <tr>\n",
              "      <th>04/07/2020</th>\n",
              "      <td>3335</td>\n",
              "      <td>3278.759521</td>\n",
              "    </tr>\n",
              "    <tr>\n",
              "      <th>04/08/2020</th>\n",
              "      <td>3337</td>\n",
              "      <td>3279.444580</td>\n",
              "    </tr>\n",
              "    <tr>\n",
              "      <th>04/09/2020</th>\n",
              "      <td>3339</td>\n",
              "      <td>3280.052002</td>\n",
              "    </tr>\n",
              "  </tbody>\n",
              "</table>\n",
              "</div>"
            ],
            "text/plain": [
              "            Confirmed Deaths  Predicted Deaths\n",
              "Dates                                         \n",
              "03/18/2020              3241       3246.508301\n",
              "03/19/2020              3249       3249.823975\n",
              "03/20/2020              3253       3252.768799\n",
              "03/21/2020              3259       3255.317627\n",
              "03/22/2020              3274       3257.468750\n",
              "03/23/2020              3274       3259.792236\n",
              "03/24/2020              3281       3261.808838\n",
              "03/25/2020              3285       3263.683594\n",
              "03/26/2020              3291       3265.386963\n",
              "03/27/2020              3296       3266.948730\n",
              "03/28/2020              3299       3268.364014\n",
              "03/29/2020              3304       3269.596436\n",
              "03/30/2020              3308       3270.772705\n",
              "03/31/2020              3309       3271.931396\n",
              "04/01/2020              3316       3272.936279\n",
              "04/02/2020              3322       3273.876221\n",
              "04/03/2020              3326       3274.956543\n",
              "04/04/2020              3330       3275.989746\n",
              "04/05/2020              3333       3277.006104\n",
              "04/06/2020              3335       3277.936279\n",
              "04/07/2020              3335       3278.759521\n",
              "04/08/2020              3337       3279.444580\n",
              "04/09/2020              3339       3280.052002"
            ]
          },
          "metadata": {
            "tags": []
          },
          "execution_count": 261
        }
      ]
    },
    {
      "cell_type": "code",
      "metadata": {
        "id": "POhK4o7PkYpf",
        "colab_type": "code",
        "outputId": "f0d1ce6d-6073-42ed-de2c-e875830d1539",
        "colab": {
          "base_uri": "https://localhost:8080/",
          "height": 574
        }
      },
      "source": [
        "plt.figure(figsize=(22,10))\n",
        "plt.title('Model')\n",
        "plt.xlabel('Date', fontsize=12)\n",
        "plt.xticks(rotation=45)\n",
        "plt.ylabel('Confirmed deaths', fontsize=12)\n",
        "plt.plot(train2['Confirmed Deaths'])\n",
        "plt.plot(valid2[['Confirmed Deaths', 'Predicted Deaths']])\n",
        "plt.legend(['Train', 'Val', 'Predictions'], loc='lower right')\n",
        "#plt.savefig('/content/drive/My Drive/figzero.png', dpi=300)\n",
        "plt.show()"
      ],
      "execution_count": 0,
      "outputs": [
        {
          "output_type": "display_data",
          "data": {
            "image/png": "[encoded data removed]",
            "text/plain": [
              "<Figure size 1584x720 with 1 Axes>"
            ]
          },
          "metadata": {
            "tags": [],
            "needs_background": "light"
          }
        }
      ]
    },
    {
      "cell_type": "code",
      "metadata": {
        "id": "MGpjbTvxkjCO",
        "colab_type": "code",
        "outputId": "bf49019b-771e-46a7-fb8c-038621c7b2b2",
        "colab": {
          "base_uri": "https://localhost:8080/",
          "height": 553
        }
      },
      "source": [
        "plt.figure(figsize=(16,8))\n",
        "plt.title('Model')\n",
        "plt.xlabel('Date', fontsize=12)\n",
        "plt.xticks(rotation=45)\n",
        "plt.ylabel('Confirmed Deaths', fontsize=12)\n",
        "plt.plot(valid2)\n",
        "plt.legend(['Train', 'Predictions'], loc='lower right')\n",
        "#plt.savefig('/content/drive/My Drive/figone.png', dpi=300)\n",
        "plt.show()"
      ],
      "execution_count": 0,
      "outputs": [
        {
          "output_type": "display_data",
          "data": {
            "image/png": "[encoded data removed]",
            "text/plain": [
              "<Figure size 1152x576 with 1 Axes>"
            ]
          },
          "metadata": {
            "tags": [],
            "needs_background": "light"
          }
        }
      ]
    },
    {
      "cell_type": "code",
      "metadata": {
        "id": "uIkTyNgMu40Q",
        "colab_type": "code",
        "outputId": "310b0cd6-91c3-4532-c314-a2d59d012326",
        "colab": {
          "base_uri": "https://localhost:8080/",
          "height": 279
        }
      },
      "source": [
        "df2 = df['Confirmed Recovered'].plot()\n"
      ],
      "execution_count": 0,
      "outputs": [
        {
          "output_type": "display_data",
          "data": {
            "image/png": "[encoded data removed]",
            "text/plain": [
              "<Figure size 432x288 with 1 Axes>"
            ]
          },
          "metadata": {
            "tags": [],
            "needs_background": "light"
          }
        }
      ]
    },
    {
      "cell_type": "code",
      "metadata": {
        "id": "33KEAANYvHlS",
        "colab_type": "code",
        "colab": {}
      },
      "source": [
        "data3 = df.filter(['Confirmed Recovered'])"
      ],
      "execution_count": 0,
      "outputs": []
    },
    {
      "cell_type": "code",
      "metadata": {
        "id": "WfIzbwAkvKKy",
        "colab_type": "code",
        "colab": {}
      },
      "source": [
        "dataset3 = data3.values"
      ],
      "execution_count": 0,
      "outputs": []
    },
    {
      "cell_type": "code",
      "metadata": {
        "id": "1misUtX_vO2Y",
        "colab_type": "code",
        "outputId": "fed259b3-b0cf-4e45-8cbf-4d67de2d6e5a",
        "colab": {
          "base_uri": "https://localhost:8080/",
          "height": 34
        }
      },
      "source": [
        "training_data_len3 = math.ceil(len(dataset3) * 0.7)\n",
        "training_data_len3"
      ],
      "execution_count": 0,
      "outputs": [
        {
          "output_type": "execute_result",
          "data": {
            "text/plain": [
              "56"
            ]
          },
          "metadata": {
            "tags": []
          },
          "execution_count": 267
        }
      ]
    },
    {
      "cell_type": "code",
      "metadata": {
        "id": "Roqt7rzhvS7T",
        "colab_type": "code",
        "colab": {}
      },
      "source": [
        "scaler3 = MinMaxScaler(feature_range=(0,1))\n",
        "scaled_data3 = scaler.fit_transform(dataset3)"
      ],
      "execution_count": 0,
      "outputs": []
    },
    {
      "cell_type": "code",
      "metadata": {
        "id": "8WHRvGS7vZUs",
        "colab_type": "code",
        "outputId": "399cd7ec-6c9c-4376-c5e6-df4cf4a48e77",
        "colab": {
          "base_uri": "https://localhost:8080/",
          "height": 1000
        }
      },
      "source": [
        "scaled_data3"
      ],
      "execution_count": 0,
      "outputs": [
        {
          "output_type": "execute_result",
          "data": {
            "text/plain": [
              "array([[0.00000000e+00],\n",
              "       [2.57562684e-05],\n",
              "       [1.03025074e-04],\n",
              "       [1.41659476e-04],\n",
              "       [2.70440819e-04],\n",
              "       [3.86344026e-04],\n",
              "       [9.40103798e-04],\n",
              "       [1.18478835e-03],\n",
              "       [1.37796036e-03],\n",
              "       [2.39533296e-03],\n",
              "       [3.18089915e-03],\n",
              "       [5.60198838e-03],\n",
              "       [7.54658665e-03],\n",
              "       [1.04956794e-02],\n",
              "       [1.39985319e-02],\n",
              "       [1.86604165e-02],\n",
              "       [2.53828025e-02],\n",
              "       [3.30710487e-02],\n",
              "       [4.10941263e-02],\n",
              "       [5.00959421e-02],\n",
              "       [5.93424425e-02],\n",
              "       [6.50860903e-02],\n",
              "       [7.97027727e-02],\n",
              "       [1.02368289e-01],\n",
              "       [1.19380304e-01],\n",
              "       [1.38143746e-01],\n",
              "       [1.60126721e-01],\n",
              "       [1.82586187e-01],\n",
              "       [2.05200191e-01],\n",
              "       [2.31626122e-01],\n",
              "       [2.40512035e-01],\n",
              "       [2.91960181e-01],\n",
              "       [2.98244710e-01],\n",
              "       [3.21785940e-01],\n",
              "       [3.56054655e-01],\n",
              "       [3.87065202e-01],\n",
              "       [4.23716372e-01],\n",
              "       [4.67489150e-01],\n",
              "       [5.06007650e-01],\n",
              "       [5.42607307e-01],\n",
              "       [5.77275244e-01],\n",
              "       [6.10706881e-01],\n",
              "       [6.43559001e-01],\n",
              "       [6.73062807e-01],\n",
              "       [6.94337484e-01],\n",
              "       [7.14878108e-01],\n",
              "       [7.38689779e-01],\n",
              "       [7.56925217e-01],\n",
              "       [7.74658407e-01],\n",
              "       [7.93499118e-01],\n",
              "       [8.09686933e-01],\n",
              "       [8.26364116e-01],\n",
              "       [8.45217705e-01],\n",
              "       [8.62693333e-01],\n",
              "       [8.74077604e-01],\n",
              "       [8.85629290e-01],\n",
              "       [8.97953664e-01],\n",
              "       [9.07998609e-01],\n",
              "       [9.17412525e-01],\n",
              "       [9.25023503e-01],\n",
              "       [9.31526960e-01],\n",
              "       [9.37347877e-01],\n",
              "       [9.43349088e-01],\n",
              "       [9.49698008e-01],\n",
              "       [9.54952287e-01],\n",
              "       [9.61893601e-01],\n",
              "       [9.66787292e-01],\n",
              "       [9.72994553e-01],\n",
              "       [9.77385996e-01],\n",
              "       [9.81030508e-01],\n",
              "       [9.83593257e-01],\n",
              "       [9.85653758e-01],\n",
              "       [9.88164995e-01],\n",
              "       [9.90560328e-01],\n",
              "       [9.93921521e-01],\n",
              "       [9.95247968e-01],\n",
              "       [9.96535782e-01],\n",
              "       [9.98557649e-01],\n",
              "       [1.00000000e+00]])"
            ]
          },
          "metadata": {
            "tags": []
          },
          "execution_count": 269
        }
      ]
    },
    {
      "cell_type": "code",
      "metadata": {
        "id": "F_SWz68JvtkZ",
        "colab_type": "code",
        "outputId": "d0a2e8f7-7bca-4722-d187-6f98ed94e154",
        "colab": {
          "base_uri": "https://localhost:8080/",
          "height": 101
        }
      },
      "source": [
        "train_data3 = scaled_data3[0:training_data_len2, :]\n",
        "x_train3 = []\n",
        "y_train3 = []\n",
        "\n",
        "for i in range(10, len(train_data3)):\n",
        "  x_train3.append(train_data3[i-10:i, 0])\n",
        "  y_train3.append(train_data3[i, 0])\n",
        "  if i<= 10:\n",
        "    print(x_train3)\n",
        "    print(y_train3)\n",
        "    print()"
      ],
      "execution_count": 0,
      "outputs": [
        {
          "output_type": "stream",
          "text": [
            "[array([0.00000000e+00, 2.57562684e-05, 1.03025074e-04, 1.41659476e-04,\n",
            "       2.70440819e-04, 3.86344026e-04, 9.40103798e-04, 1.18478835e-03,\n",
            "       1.37796036e-03, 2.39533296e-03])]\n",
            "[0.0031808991513309548]\n",
            "\n"
          ],
          "name": "stdout"
        }
      ]
    },
    {
      "cell_type": "code",
      "metadata": {
        "id": "FcSANo8_v3AQ",
        "colab_type": "code",
        "colab": {}
      },
      "source": [
        "x_train3, y_train3 = np.array(x_train3), np.array(y_train3)"
      ],
      "execution_count": 0,
      "outputs": []
    },
    {
      "cell_type": "code",
      "metadata": {
        "id": "MwG9vmdwv8WZ",
        "colab_type": "code",
        "outputId": "f8946eb2-4087-472e-c744-cb47b3665f29",
        "colab": {
          "base_uri": "https://localhost:8080/",
          "height": 34
        }
      },
      "source": [
        "x_train3 = np.reshape(x_train3, (x_train3.shape[0], x_train3.shape[1], 1))\n",
        "x_train3.shape"
      ],
      "execution_count": 0,
      "outputs": [
        {
          "output_type": "execute_result",
          "data": {
            "text/plain": [
              "(46, 10, 1)"
            ]
          },
          "metadata": {
            "tags": []
          },
          "execution_count": 272
        }
      ]
    },
    {
      "cell_type": "code",
      "metadata": {
        "id": "zw0AJyiTwJZ3",
        "colab_type": "code",
        "colab": {}
      },
      "source": [
        "model3 = Sequential()\n",
        "model3.add(LSTM(50, return_sequences=True, input_shape=(x_train2.shape[1], 1)))\n",
        "model3.add(LSTM(50, return_sequences=False))\n",
        "model3.add(Dense(25))\n",
        "model3.add(Dense(1))"
      ],
      "execution_count": 0,
      "outputs": []
    },
    {
      "cell_type": "code",
      "metadata": {
        "id": "EfTCyaTtwQQL",
        "colab_type": "code",
        "colab": {}
      },
      "source": [
        "model3.compile(optimizer='adam', loss='mean_squared_error')\n"
      ],
      "execution_count": 0,
      "outputs": []
    },
    {
      "cell_type": "code",
      "metadata": {
        "id": "t_7YiOvswS8h",
        "colab_type": "code",
        "outputId": "19cc967d-5c50-4888-e05e-894357ed9003",
        "colab": {
          "base_uri": "https://localhost:8080/",
          "height": 1000
        }
      },
      "source": [
        "model3.fit(x_train3, y_train3, batch_size=1, epochs=50)"
      ],
      "execution_count": 0,
      "outputs": [
        {
          "output_type": "stream",
          "text": [
            "Epoch 1/50\n",
            "46/46 [==============================] - 1s 22ms/step - loss: 0.0403\n",
            "Epoch 2/50\n",
            "46/46 [==============================] - 1s 11ms/step - loss: 0.0090\n",
            "Epoch 3/50\n",
            "46/46 [==============================] - 0s 10ms/step - loss: 0.0066\n",
            "Epoch 4/50\n",
            "46/46 [==============================] - 1s 11ms/step - loss: 0.0027\n",
            "Epoch 5/50\n",
            "46/46 [==============================] - 1s 11ms/step - loss: 0.0021\n",
            "Epoch 6/50\n",
            "46/46 [==============================] - 1s 11ms/step - loss: 0.0018\n",
            "Epoch 7/50\n",
            "46/46 [==============================] - 0s 9ms/step - loss: 0.0017\n",
            "Epoch 8/50\n",
            "46/46 [==============================] - 0s 9ms/step - loss: 8.7372e-04\n",
            "Epoch 9/50\n",
            "46/46 [==============================] - 0s 9ms/step - loss: 7.8372e-04\n",
            "Epoch 10/50\n",
            "46/46 [==============================] - 0s 9ms/step - loss: 3.3322e-04\n",
            "Epoch 11/50\n",
            "46/46 [==============================] - 0s 9ms/step - loss: 3.2044e-04\n",
            "Epoch 12/50\n",
            "46/46 [==============================] - 0s 9ms/step - loss: 2.3182e-04\n",
            "Epoch 13/50\n",
            "46/46 [==============================] - 0s 9ms/step - loss: 1.9755e-04\n",
            "Epoch 14/50\n",
            "46/46 [==============================] - 0s 9ms/step - loss: 2.7124e-04\n",
            "Epoch 15/50\n",
            "46/46 [==============================] - 0s 9ms/step - loss: 3.1770e-04\n",
            "Epoch 16/50\n",
            "46/46 [==============================] - 0s 9ms/step - loss: 1.9024e-04\n",
            "Epoch 17/50\n",
            "46/46 [==============================] - 0s 9ms/step - loss: 2.0381e-04\n",
            "Epoch 18/50\n",
            "46/46 [==============================] - 0s 9ms/step - loss: 3.4357e-04\n",
            "Epoch 19/50\n",
            "46/46 [==============================] - 0s 9ms/step - loss: 2.9944e-04\n",
            "Epoch 20/50\n",
            "46/46 [==============================] - 0s 9ms/step - loss: 3.3155e-04\n",
            "Epoch 21/50\n",
            "46/46 [==============================] - 0s 9ms/step - loss: 3.2316e-04\n",
            "Epoch 22/50\n",
            "46/46 [==============================] - 0s 9ms/step - loss: 4.0845e-04\n",
            "Epoch 23/50\n",
            "46/46 [==============================] - 0s 9ms/step - loss: 3.2706e-04\n",
            "Epoch 24/50\n",
            "46/46 [==============================] - 0s 9ms/step - loss: 3.0709e-04\n",
            "Epoch 25/50\n",
            "46/46 [==============================] - 0s 9ms/step - loss: 7.8046e-04\n",
            "Epoch 26/50\n",
            "46/46 [==============================] - 0s 9ms/step - loss: 3.9035e-04\n",
            "Epoch 27/50\n",
            "46/46 [==============================] - 0s 9ms/step - loss: 2.9594e-04\n",
            "Epoch 28/50\n",
            "46/46 [==============================] - 0s 9ms/step - loss: 2.8807e-04\n",
            "Epoch 29/50\n",
            "46/46 [==============================] - 0s 9ms/step - loss: 2.0647e-04\n",
            "Epoch 30/50\n",
            "46/46 [==============================] - 0s 10ms/step - loss: 1.7166e-04\n",
            "Epoch 31/50\n",
            "46/46 [==============================] - 0s 9ms/step - loss: 2.7527e-04\n",
            "Epoch 32/50\n",
            "46/46 [==============================] - 0s 8ms/step - loss: 3.0187e-04\n",
            "Epoch 33/50\n",
            "46/46 [==============================] - 0s 10ms/step - loss: 2.6594e-04\n",
            "Epoch 34/50\n",
            "46/46 [==============================] - 0s 10ms/step - loss: 2.0905e-04\n",
            "Epoch 35/50\n",
            "46/46 [==============================] - 0s 11ms/step - loss: 1.8906e-04\n",
            "Epoch 36/50\n",
            "46/46 [==============================] - 0s 8ms/step - loss: 3.3781e-04\n",
            "Epoch 37/50\n",
            "46/46 [==============================] - 0s 8ms/step - loss: 3.2447e-04\n",
            "Epoch 38/50\n",
            "46/46 [==============================] - 0s 8ms/step - loss: 3.6343e-04\n",
            "Epoch 39/50\n",
            "46/46 [==============================] - 0s 9ms/step - loss: 6.2494e-04\n",
            "Epoch 40/50\n",
            "46/46 [==============================] - 0s 8ms/step - loss: 0.0010\n",
            "Epoch 41/50\n",
            "46/46 [==============================] - 0s 8ms/step - loss: 2.1898e-04\n",
            "Epoch 42/50\n",
            "46/46 [==============================] - 0s 9ms/step - loss: 2.4564e-04\n",
            "Epoch 43/50\n",
            "46/46 [==============================] - 0s 9ms/step - loss: 3.2430e-04\n",
            "Epoch 44/50\n",
            "46/46 [==============================] - 0s 9ms/step - loss: 3.5360e-04\n",
            "Epoch 45/50\n",
            "46/46 [==============================] - 0s 8ms/step - loss: 6.2870e-04\n",
            "Epoch 46/50\n",
            "46/46 [==============================] - 0s 8ms/step - loss: 3.2785e-04\n",
            "Epoch 47/50\n",
            "46/46 [==============================] - 0s 8ms/step - loss: 2.9830e-04\n",
            "Epoch 48/50\n",
            "46/46 [==============================] - 0s 8ms/step - loss: 2.6760e-04\n",
            "Epoch 49/50\n",
            "46/46 [==============================] - 0s 8ms/step - loss: 1.8173e-04\n",
            "Epoch 50/50\n",
            "46/46 [==============================] - 0s 9ms/step - loss: 2.8175e-04\n"
          ],
          "name": "stdout"
        },
        {
          "output_type": "execute_result",
          "data": {
            "text/plain": [
              "<keras.callbacks.callbacks.History at 0x7f700c253c18>"
            ]
          },
          "metadata": {
            "tags": []
          },
          "execution_count": 275
        }
      ]
    },
    {
      "cell_type": "code",
      "metadata": {
        "id": "vPX497rhwaBP",
        "colab_type": "code",
        "colab": {}
      },
      "source": [
        "test_data3 = scaled_data3[training_data_len3-10: , :]\n",
        "x_test3 = []\n",
        "y_test3 = dataset3[training_data_len3:, :]\n",
        "for i in range(10, len(test_data3)):\n",
        "  x_test3.append(test_data2[i-10:i, 0])\n",
        "  "
      ],
      "execution_count": 0,
      "outputs": []
    },
    {
      "cell_type": "code",
      "metadata": {
        "id": "oGMhAOF3wjQJ",
        "colab_type": "code",
        "outputId": "ec0b23e8-f4fc-4025-b73b-2986dacb0eb0",
        "colab": {
          "base_uri": "https://localhost:8080/",
          "height": 34
        }
      },
      "source": [
        "len(test_data3)"
      ],
      "execution_count": 0,
      "outputs": [
        {
          "output_type": "execute_result",
          "data": {
            "text/plain": [
              "33"
            ]
          },
          "metadata": {
            "tags": []
          },
          "execution_count": 277
        }
      ]
    },
    {
      "cell_type": "code",
      "metadata": {
        "id": "RDnL7cn6wgvK",
        "colab_type": "code",
        "colab": {}
      },
      "source": [
        "x_test3 = np.array(x_test3)"
      ],
      "execution_count": 0,
      "outputs": []
    },
    {
      "cell_type": "code",
      "metadata": {
        "id": "gB1EzMc4wk53",
        "colab_type": "code",
        "colab": {}
      },
      "source": [
        "x_test3 = np.reshape(x_test3, (x_test3.shape[0], x_test3.shape[1], 1 ))"
      ],
      "execution_count": 0,
      "outputs": []
    },
    {
      "cell_type": "code",
      "metadata": {
        "id": "dsA-BhYEwmsL",
        "colab_type": "code",
        "colab": {}
      },
      "source": [
        "predictions3 = model.predict(x_test3)\n",
        "predictions3 = scaler.inverse_transform(predictions3)"
      ],
      "execution_count": 0,
      "outputs": []
    },
    {
      "cell_type": "code",
      "metadata": {
        "id": "-TC_NS_Vwpik",
        "colab_type": "code",
        "outputId": "5eb1e746-c26f-4329-e836-ed9fc09787df",
        "colab": {
          "base_uri": "https://localhost:8080/",
          "height": 34
        }
      },
      "source": [
        "rmse = np.sqrt( np.mean( predictions3 - y_test )**2)\n",
        "rmse"
      ],
      "execution_count": 0,
      "outputs": [
        {
          "output_type": "execute_result",
          "data": {
            "text/plain": [
              "6030.384510869565"
            ]
          },
          "metadata": {
            "tags": []
          },
          "execution_count": 281
        }
      ]
    },
    {
      "cell_type": "code",
      "metadata": {
        "id": "S8fGZGhJwrO8",
        "colab_type": "code",
        "outputId": "0428e7b3-1be3-4667-906a-a2e72b5d4002",
        "colab": {
          "base_uri": "https://localhost:8080/",
          "height": 118
        }
      },
      "source": [
        "train3 = data3[:training_data_len3]\n",
        "valid3 = data3[training_data_len3:]\n",
        "valid3['Predicted Recovered Cases'] = predictions3"
      ],
      "execution_count": 0,
      "outputs": [
        {
          "output_type": "stream",
          "text": [
            "/usr/local/lib/python3.6/dist-packages/ipykernel_launcher.py:3: SettingWithCopyWarning: \n",
            "A value is trying to be set on a copy of a slice from a DataFrame.\n",
            "Try using .loc[row_indexer,col_indexer] = value instead\n",
            "\n",
            "See the caveats in the documentation: https://pandas.pydata.org/pandas-docs/stable/user_guide/indexing.html#returning-a-view-versus-a-copy\n",
            "  This is separate from the ipykernel package so we can avoid doing imports until\n"
          ],
          "name": "stderr"
        }
      ]
    },
    {
      "cell_type": "code",
      "metadata": {
        "id": "XikMz-HIwyXq",
        "colab_type": "code",
        "outputId": "32324504-da17-463a-a3ae-7cbbad97afb9",
        "colab": {
          "base_uri": "https://localhost:8080/",
          "height": 758
        }
      },
      "source": [
        "valid3\n"
      ],
      "execution_count": 0,
      "outputs": [
        {
          "output_type": "execute_result",
          "data": {
            "text/html": [
              "<div>\n",
              "<style scoped>\n",
              "    .dataframe tbody tr th:only-of-type {\n",
              "        vertical-align: middle;\n",
              "    }\n",
              "\n",
              "    .dataframe tbody tr th {\n",
              "        vertical-align: top;\n",
              "    }\n",
              "\n",
              "    .dataframe thead th {\n",
              "        text-align: right;\n",
              "    }\n",
              "</style>\n",
              "<table border=\"1\" class=\"dataframe\">\n",
              "  <thead>\n",
              "    <tr style=\"text-align: right;\">\n",
              "      <th></th>\n",
              "      <th>Confirmed Recovered</th>\n",
              "      <th>Predicted Recovered Cases</th>\n",
              "    </tr>\n",
              "    <tr>\n",
              "      <th>Dates</th>\n",
              "      <th></th>\n",
              "      <th></th>\n",
              "    </tr>\n",
              "  </thead>\n",
              "  <tbody>\n",
              "    <tr>\n",
              "      <th>03/18/2020</th>\n",
              "      <td>69755</td>\n",
              "      <td>75517.023438</td>\n",
              "    </tr>\n",
              "    <tr>\n",
              "      <th>03/19/2020</th>\n",
              "      <td>70535</td>\n",
              "      <td>75594.531250</td>\n",
              "    </tr>\n",
              "    <tr>\n",
              "      <th>03/20/2020</th>\n",
              "      <td>71266</td>\n",
              "      <td>75663.367188</td>\n",
              "    </tr>\n",
              "    <tr>\n",
              "      <th>03/21/2020</th>\n",
              "      <td>71857</td>\n",
              "      <td>75722.937500</td>\n",
              "    </tr>\n",
              "    <tr>\n",
              "      <th>03/22/2020</th>\n",
              "      <td>72362</td>\n",
              "      <td>75773.226562</td>\n",
              "    </tr>\n",
              "    <tr>\n",
              "      <th>03/23/2020</th>\n",
              "      <td>72814</td>\n",
              "      <td>75827.539062</td>\n",
              "    </tr>\n",
              "    <tr>\n",
              "      <th>03/24/2020</th>\n",
              "      <td>73280</td>\n",
              "      <td>75874.671875</td>\n",
              "    </tr>\n",
              "    <tr>\n",
              "      <th>03/25/2020</th>\n",
              "      <td>73773</td>\n",
              "      <td>75918.500000</td>\n",
              "    </tr>\n",
              "    <tr>\n",
              "      <th>03/26/2020</th>\n",
              "      <td>74181</td>\n",
              "      <td>75958.312500</td>\n",
              "    </tr>\n",
              "    <tr>\n",
              "      <th>03/27/2020</th>\n",
              "      <td>74720</td>\n",
              "      <td>75994.812500</td>\n",
              "    </tr>\n",
              "    <tr>\n",
              "      <th>03/28/2020</th>\n",
              "      <td>75100</td>\n",
              "      <td>76027.898438</td>\n",
              "    </tr>\n",
              "    <tr>\n",
              "      <th>03/29/2020</th>\n",
              "      <td>75582</td>\n",
              "      <td>76056.710938</td>\n",
              "    </tr>\n",
              "    <tr>\n",
              "      <th>03/30/2020</th>\n",
              "      <td>75923</td>\n",
              "      <td>76084.203125</td>\n",
              "    </tr>\n",
              "    <tr>\n",
              "      <th>03/31/2020</th>\n",
              "      <td>76206</td>\n",
              "      <td>76111.289062</td>\n",
              "    </tr>\n",
              "    <tr>\n",
              "      <th>04/01/2020</th>\n",
              "      <td>76405</td>\n",
              "      <td>76134.773438</td>\n",
              "    </tr>\n",
              "    <tr>\n",
              "      <th>04/02/2020</th>\n",
              "      <td>76565</td>\n",
              "      <td>76156.750000</td>\n",
              "    </tr>\n",
              "    <tr>\n",
              "      <th>04/03/2020</th>\n",
              "      <td>76760</td>\n",
              "      <td>76182.000000</td>\n",
              "    </tr>\n",
              "    <tr>\n",
              "      <th>04/04/2020</th>\n",
              "      <td>76946</td>\n",
              "      <td>76206.148438</td>\n",
              "    </tr>\n",
              "    <tr>\n",
              "      <th>04/05/2020</th>\n",
              "      <td>77207</td>\n",
              "      <td>76229.906250</td>\n",
              "    </tr>\n",
              "    <tr>\n",
              "      <th>04/06/2020</th>\n",
              "      <td>77310</td>\n",
              "      <td>76251.648438</td>\n",
              "    </tr>\n",
              "    <tr>\n",
              "      <th>04/07/2020</th>\n",
              "      <td>77410</td>\n",
              "      <td>76270.890625</td>\n",
              "    </tr>\n",
              "    <tr>\n",
              "      <th>04/08/2020</th>\n",
              "      <td>77567</td>\n",
              "      <td>76286.906250</td>\n",
              "    </tr>\n",
              "    <tr>\n",
              "      <th>04/09/2020</th>\n",
              "      <td>77679</td>\n",
              "      <td>76301.109375</td>\n",
              "    </tr>\n",
              "  </tbody>\n",
              "</table>\n",
              "</div>"
            ],
            "text/plain": [
              "            Confirmed Recovered  Predicted Recovered Cases\n",
              "Dates                                                     \n",
              "03/18/2020                69755               75517.023438\n",
              "03/19/2020                70535               75594.531250\n",
              "03/20/2020                71266               75663.367188\n",
              "03/21/2020                71857               75722.937500\n",
              "03/22/2020                72362               75773.226562\n",
              "03/23/2020                72814               75827.539062\n",
              "03/24/2020                73280               75874.671875\n",
              "03/25/2020                73773               75918.500000\n",
              "03/26/2020                74181               75958.312500\n",
              "03/27/2020                74720               75994.812500\n",
              "03/28/2020                75100               76027.898438\n",
              "03/29/2020                75582               76056.710938\n",
              "03/30/2020                75923               76084.203125\n",
              "03/31/2020                76206               76111.289062\n",
              "04/01/2020                76405               76134.773438\n",
              "04/02/2020                76565               76156.750000\n",
              "04/03/2020                76760               76182.000000\n",
              "04/04/2020                76946               76206.148438\n",
              "04/05/2020                77207               76229.906250\n",
              "04/06/2020                77310               76251.648438\n",
              "04/07/2020                77410               76270.890625\n",
              "04/08/2020                77567               76286.906250\n",
              "04/09/2020                77679               76301.109375"
            ]
          },
          "metadata": {
            "tags": []
          },
          "execution_count": 283
        }
      ]
    },
    {
      "cell_type": "code",
      "metadata": {
        "id": "h79Ah8rqxYF6",
        "colab_type": "code",
        "outputId": "a1ae8fab-e889-4620-d189-554cf7e78aa1",
        "colab": {
          "base_uri": "https://localhost:8080/",
          "height": 758
        }
      },
      "source": [
        "valid_final = valid.join(valid2.join(valid3))\n",
        "valid_final"
      ],
      "execution_count": 0,
      "outputs": [
        {
          "output_type": "execute_result",
          "data": {
            "text/html": [
              "<div>\n",
              "<style scoped>\n",
              "    .dataframe tbody tr th:only-of-type {\n",
              "        vertical-align: middle;\n",
              "    }\n",
              "\n",
              "    .dataframe tbody tr th {\n",
              "        vertical-align: top;\n",
              "    }\n",
              "\n",
              "    .dataframe thead th {\n",
              "        text-align: right;\n",
              "    }\n",
              "</style>\n",
              "<table border=\"1\" class=\"dataframe\">\n",
              "  <thead>\n",
              "    <tr style=\"text-align: right;\">\n",
              "      <th></th>\n",
              "      <th>China Confirmed Cases</th>\n",
              "      <th>Predicted Cases</th>\n",
              "      <th>Confirmed Deaths</th>\n",
              "      <th>Predicted Deaths</th>\n",
              "      <th>Confirmed Recovered</th>\n",
              "      <th>Predicted Recovered Cases</th>\n",
              "    </tr>\n",
              "    <tr>\n",
              "      <th>Dates</th>\n",
              "      <th></th>\n",
              "      <th></th>\n",
              "      <th></th>\n",
              "      <th></th>\n",
              "      <th></th>\n",
              "      <th></th>\n",
              "    </tr>\n",
              "  </thead>\n",
              "  <tbody>\n",
              "    <tr>\n",
              "      <th>03/18/2020</th>\n",
              "      <td>81102</td>\n",
              "      <td>81047.093750</td>\n",
              "      <td>3241</td>\n",
              "      <td>3246.508301</td>\n",
              "      <td>69755</td>\n",
              "      <td>75517.023438</td>\n",
              "    </tr>\n",
              "    <tr>\n",
              "      <th>03/19/2020</th>\n",
              "      <td>81156</td>\n",
              "      <td>81054.015625</td>\n",
              "      <td>3249</td>\n",
              "      <td>3249.823975</td>\n",
              "      <td>70535</td>\n",
              "      <td>75594.531250</td>\n",
              "    </tr>\n",
              "    <tr>\n",
              "      <th>03/20/2020</th>\n",
              "      <td>81250</td>\n",
              "      <td>81061.820312</td>\n",
              "      <td>3253</td>\n",
              "      <td>3252.768799</td>\n",
              "      <td>71266</td>\n",
              "      <td>75663.367188</td>\n",
              "    </tr>\n",
              "    <tr>\n",
              "      <th>03/21/2020</th>\n",
              "      <td>81350</td>\n",
              "      <td>81071.992188</td>\n",
              "      <td>3259</td>\n",
              "      <td>3255.317627</td>\n",
              "      <td>71857</td>\n",
              "      <td>75722.937500</td>\n",
              "    </tr>\n",
              "    <tr>\n",
              "      <th>03/22/2020</th>\n",
              "      <td>81435</td>\n",
              "      <td>81084.476562</td>\n",
              "      <td>3274</td>\n",
              "      <td>3257.468750</td>\n",
              "      <td>72362</td>\n",
              "      <td>75773.226562</td>\n",
              "    </tr>\n",
              "    <tr>\n",
              "      <th>03/23/2020</th>\n",
              "      <td>81498</td>\n",
              "      <td>81098.679688</td>\n",
              "      <td>3274</td>\n",
              "      <td>3259.792236</td>\n",
              "      <td>72814</td>\n",
              "      <td>75827.539062</td>\n",
              "    </tr>\n",
              "    <tr>\n",
              "      <th>03/24/2020</th>\n",
              "      <td>81591</td>\n",
              "      <td>81113.406250</td>\n",
              "      <td>3281</td>\n",
              "      <td>3261.808838</td>\n",
              "      <td>73280</td>\n",
              "      <td>75874.671875</td>\n",
              "    </tr>\n",
              "    <tr>\n",
              "      <th>03/25/2020</th>\n",
              "      <td>81661</td>\n",
              "      <td>81129.257812</td>\n",
              "      <td>3285</td>\n",
              "      <td>3263.683594</td>\n",
              "      <td>73773</td>\n",
              "      <td>75918.500000</td>\n",
              "    </tr>\n",
              "    <tr>\n",
              "      <th>03/26/2020</th>\n",
              "      <td>81782</td>\n",
              "      <td>81145.453125</td>\n",
              "      <td>3291</td>\n",
              "      <td>3265.386963</td>\n",
              "      <td>74181</td>\n",
              "      <td>75958.312500</td>\n",
              "    </tr>\n",
              "    <tr>\n",
              "      <th>03/27/2020</th>\n",
              "      <td>81897</td>\n",
              "      <td>81164.273438</td>\n",
              "      <td>3296</td>\n",
              "      <td>3266.948730</td>\n",
              "      <td>74720</td>\n",
              "      <td>75994.812500</td>\n",
              "    </tr>\n",
              "    <tr>\n",
              "      <th>03/28/2020</th>\n",
              "      <td>81999</td>\n",
              "      <td>81184.687500</td>\n",
              "      <td>3299</td>\n",
              "      <td>3268.364014</td>\n",
              "      <td>75100</td>\n",
              "      <td>76027.898438</td>\n",
              "    </tr>\n",
              "    <tr>\n",
              "      <th>03/29/2020</th>\n",
              "      <td>82122</td>\n",
              "      <td>81206.187500</td>\n",
              "      <td>3304</td>\n",
              "      <td>3269.596436</td>\n",
              "      <td>75582</td>\n",
              "      <td>76056.710938</td>\n",
              "    </tr>\n",
              "    <tr>\n",
              "      <th>03/30/2020</th>\n",
              "      <td>82198</td>\n",
              "      <td>81229.226562</td>\n",
              "      <td>3308</td>\n",
              "      <td>3270.772705</td>\n",
              "      <td>75923</td>\n",
              "      <td>76084.203125</td>\n",
              "    </tr>\n",
              "    <tr>\n",
              "      <th>03/31/2020</th>\n",
              "      <td>82279</td>\n",
              "      <td>81251.343750</td>\n",
              "      <td>3309</td>\n",
              "      <td>3271.931396</td>\n",
              "      <td>76206</td>\n",
              "      <td>76111.289062</td>\n",
              "    </tr>\n",
              "    <tr>\n",
              "      <th>04/01/2020</th>\n",
              "      <td>82361</td>\n",
              "      <td>81272.468750</td>\n",
              "      <td>3316</td>\n",
              "      <td>3272.936279</td>\n",
              "      <td>76405</td>\n",
              "      <td>76134.773438</td>\n",
              "    </tr>\n",
              "    <tr>\n",
              "      <th>04/02/2020</th>\n",
              "      <td>82432</td>\n",
              "      <td>81292.968750</td>\n",
              "      <td>3322</td>\n",
              "      <td>3273.876221</td>\n",
              "      <td>76565</td>\n",
              "      <td>76156.750000</td>\n",
              "    </tr>\n",
              "    <tr>\n",
              "      <th>04/03/2020</th>\n",
              "      <td>82511</td>\n",
              "      <td>81312.976562</td>\n",
              "      <td>3326</td>\n",
              "      <td>3274.956543</td>\n",
              "      <td>76760</td>\n",
              "      <td>76182.000000</td>\n",
              "    </tr>\n",
              "    <tr>\n",
              "      <th>04/04/2020</th>\n",
              "      <td>82543</td>\n",
              "      <td>81332.468750</td>\n",
              "      <td>3330</td>\n",
              "      <td>3275.989746</td>\n",
              "      <td>76946</td>\n",
              "      <td>76206.148438</td>\n",
              "    </tr>\n",
              "    <tr>\n",
              "      <th>04/05/2020</th>\n",
              "      <td>82602</td>\n",
              "      <td>81350.289062</td>\n",
              "      <td>3333</td>\n",
              "      <td>3277.006104</td>\n",
              "      <td>77207</td>\n",
              "      <td>76229.906250</td>\n",
              "    </tr>\n",
              "    <tr>\n",
              "      <th>04/06/2020</th>\n",
              "      <td>82665</td>\n",
              "      <td>81366.710938</td>\n",
              "      <td>3335</td>\n",
              "      <td>3277.936279</td>\n",
              "      <td>77310</td>\n",
              "      <td>76251.648438</td>\n",
              "    </tr>\n",
              "    <tr>\n",
              "      <th>04/07/2020</th>\n",
              "      <td>82718</td>\n",
              "      <td>81382.304688</td>\n",
              "      <td>3335</td>\n",
              "      <td>3278.759521</td>\n",
              "      <td>77410</td>\n",
              "      <td>76270.890625</td>\n",
              "    </tr>\n",
              "    <tr>\n",
              "      <th>04/08/2020</th>\n",
              "      <td>82809</td>\n",
              "      <td>81397.015625</td>\n",
              "      <td>3337</td>\n",
              "      <td>3279.444580</td>\n",
              "      <td>77567</td>\n",
              "      <td>76286.906250</td>\n",
              "    </tr>\n",
              "    <tr>\n",
              "      <th>04/09/2020</th>\n",
              "      <td>82883</td>\n",
              "      <td>81411.976562</td>\n",
              "      <td>3339</td>\n",
              "      <td>3280.052002</td>\n",
              "      <td>77679</td>\n",
              "      <td>76301.109375</td>\n",
              "    </tr>\n",
              "  </tbody>\n",
              "</table>\n",
              "</div>"
            ],
            "text/plain": [
              "            China Confirmed Cases  ...  Predicted Recovered Cases\n",
              "Dates                              ...                           \n",
              "03/18/2020                  81102  ...               75517.023438\n",
              "03/19/2020                  81156  ...               75594.531250\n",
              "03/20/2020                  81250  ...               75663.367188\n",
              "03/21/2020                  81350  ...               75722.937500\n",
              "03/22/2020                  81435  ...               75773.226562\n",
              "03/23/2020                  81498  ...               75827.539062\n",
              "03/24/2020                  81591  ...               75874.671875\n",
              "03/25/2020                  81661  ...               75918.500000\n",
              "03/26/2020                  81782  ...               75958.312500\n",
              "03/27/2020                  81897  ...               75994.812500\n",
              "03/28/2020                  81999  ...               76027.898438\n",
              "03/29/2020                  82122  ...               76056.710938\n",
              "03/30/2020                  82198  ...               76084.203125\n",
              "03/31/2020                  82279  ...               76111.289062\n",
              "04/01/2020                  82361  ...               76134.773438\n",
              "04/02/2020                  82432  ...               76156.750000\n",
              "04/03/2020                  82511  ...               76182.000000\n",
              "04/04/2020                  82543  ...               76206.148438\n",
              "04/05/2020                  82602  ...               76229.906250\n",
              "04/06/2020                  82665  ...               76251.648438\n",
              "04/07/2020                  82718  ...               76270.890625\n",
              "04/08/2020                  82809  ...               76286.906250\n",
              "04/09/2020                  82883  ...               76301.109375\n",
              "\n",
              "[23 rows x 6 columns]"
            ]
          },
          "metadata": {
            "tags": []
          },
          "execution_count": 284
        }
      ]
    },
    {
      "cell_type": "code",
      "metadata": {
        "id": "IYryGtHwygQw",
        "colab_type": "code",
        "outputId": "faf759eb-7928-4f4d-b331-a96245826e5c",
        "colab": {
          "base_uri": "https://localhost:8080/",
          "height": 296
        }
      },
      "source": [
        "valid_final.plot()"
      ],
      "execution_count": 0,
      "outputs": [
        {
          "output_type": "execute_result",
          "data": {
            "text/plain": [
              "<matplotlib.axes._subplots.AxesSubplot at 0x7f700c50ef28>"
            ]
          },
          "metadata": {
            "tags": []
          },
          "execution_count": 285
        },
        {
          "output_type": "display_data",
          "data": {
            "image/png": "[encoded data removed]",
            "text/plain": [
              "<Figure size 432x288 with 1 Axes>"
            ]
          },
          "metadata": {
            "tags": [],
            "needs_background": "light"
          }
        }
      ]
    },
    {
      "cell_type": "code",
      "metadata": {
        "id": "g0yuu6mH-Ax4",
        "colab_type": "code",
        "colab": {}
      },
      "source": [
        "from sklearn.metrics import *"
      ],
      "execution_count": 0,
      "outputs": []
    },
    {
      "cell_type": "code",
      "metadata": {
        "id": "8gh57seZzS38",
        "colab_type": "code",
        "outputId": "a6f97b9a-96a9-48eb-abdc-4b4266e6428b",
        "colab": {
          "base_uri": "https://localhost:8080/",
          "height": 34
        }
      },
      "source": [
        "score = r2_score(valid_final['China Confirmed Cases'], valid_final['Predicted Cases'])\n",
        "score"
      ],
      "execution_count": 0,
      "outputs": [
        {
          "output_type": "execute_result",
          "data": {
            "text/plain": [
              "-1.7906129926819845"
            ]
          },
          "metadata": {
            "tags": []
          },
          "execution_count": 287
        }
      ]
    },
    {
      "cell_type": "code",
      "metadata": {
        "id": "gZwoa2qLzmo5",
        "colab_type": "code",
        "outputId": "ba03b330-879b-4156-e912-7e75fd1d31a1",
        "colab": {
          "base_uri": "https://localhost:8080/",
          "height": 34
        }
      },
      "source": [
        "score1 = r2_score(valid_final['Confirmed Deaths'], valid_final['Predicted Deaths'])\n",
        "score1"
      ],
      "execution_count": 0,
      "outputs": [
        {
          "output_type": "execute_result",
          "data": {
            "text/plain": [
              "-0.6142635592478123"
            ]
          },
          "metadata": {
            "tags": []
          },
          "execution_count": 288
        }
      ]
    },
    {
      "cell_type": "code",
      "metadata": {
        "id": "kN7yOIymzv1s",
        "colab_type": "code",
        "outputId": "5d661bc1-891d-47b8-92e8-3138eae0a36e",
        "colab": {
          "base_uri": "https://localhost:8080/",
          "height": 34
        }
      },
      "source": [
        "score3 = r2_score(valid_final['Confirmed Recovered'], valid_final['Predicted Recovered Cases'])\n",
        "score3"
      ],
      "execution_count": 0,
      "outputs": [
        {
          "output_type": "execute_result",
          "data": {
            "text/plain": [
              "-0.058900409128719744"
            ]
          },
          "metadata": {
            "tags": []
          },
          "execution_count": 289
        }
      ]
    },
    {
      "cell_type": "code",
      "metadata": {
        "id": "-rlKA3Pjz4Ch",
        "colab_type": "code",
        "outputId": "90e979f9-73c5-4bc2-c82c-16a0236b4c2d",
        "colab": {
          "base_uri": "https://localhost:8080/",
          "height": 34
        }
      },
      "source": [
        "Average = (score + score1 + score3) / 3\n",
        "Average"
      ],
      "execution_count": 0,
      "outputs": [
        {
          "output_type": "execute_result",
          "data": {
            "text/plain": [
              "-0.8212589870195055"
            ]
          },
          "metadata": {
            "tags": []
          },
          "execution_count": 290
        }
      ]
    }
  ]
}