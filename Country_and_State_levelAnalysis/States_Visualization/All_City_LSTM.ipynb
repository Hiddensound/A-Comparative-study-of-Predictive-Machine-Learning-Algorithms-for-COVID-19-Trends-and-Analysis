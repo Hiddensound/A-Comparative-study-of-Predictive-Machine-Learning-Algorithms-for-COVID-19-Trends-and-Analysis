{
  "nbformat": 4,
  "nbformat_minor": 0,
  "metadata": {
    "colab": {
      "name": "All_City_LSTM.ipynb",
      "provenance": []
    },
    "kernelspec": {
      "name": "python3",
      "display_name": "Python 3"
    }
  },
  "cells": [
    {
      "cell_type": "markdown",
      "metadata": {
        "id": "Mo1-df4IURsS",
        "colab_type": "text"
      },
      "source": [
        "**LSTM for China and India Data Combined**\n"
      ]
    },
    {
      "cell_type": "code",
      "metadata": {
        "id": "82fXctuP65F9",
        "colab_type": "code",
        "colab": {}
      },
      "source": [
        "import math\n",
        "import pandas_datareader as web\n",
        "import numpy as np\n",
        "import pandas as pd\n",
        "from sklearn.preprocessing import MinMaxScaler\n",
        "from keras.models import Sequential\n",
        "from keras.layers import Dense,LSTM\n",
        "import matplotlib.pyplot as plt\n",
        "from sklearn.metrics import r2_score\n"
      ],
      "execution_count": 0,
      "outputs": []
    },
    {
      "cell_type": "code",
      "metadata": {
        "id": "VkDgJ5kf7r99",
        "colab_type": "code",
        "colab": {}
      },
      "source": [
        "dflstm = pd.read_csv('/content/drive/My Drive/COVID-19/COVID-19_Data/Ontario_Confirmed_Cases (1).csv', index_col='Dates')"
      ],
      "execution_count": 0,
      "outputs": []
    },
    {
      "cell_type": "code",
      "metadata": {
        "id": "PPRnsq2yiLY7",
        "colab_type": "code",
        "outputId": "e05299c8-95fe-4c52-acc0-3304592cd4e5",
        "colab": {
          "base_uri": "https://localhost:8080/",
          "height": 187
        }
      },
      "source": [
        "dflstm.info()"
      ],
      "execution_count": 0,
      "outputs": [
        {
          "output_type": "stream",
          "text": [
            "<class 'pandas.core.frame.DataFrame'>\n",
            "Index: 92 entries, 01/22/2020 to 04/22/2020\n",
            "Data columns (total 3 columns):\n",
            " #   Column               Non-Null Count  Dtype\n",
            "---  ------               --------------  -----\n",
            " 0   Confirmed Cases      92 non-null     int64\n",
            " 1   Confirmed deaths     92 non-null     int64\n",
            " 2   Confirmed Recovered  92 non-null     int64\n",
            "dtypes: int64(3)\n",
            "memory usage: 2.9+ KB\n"
          ],
          "name": "stdout"
        }
      ]
    },
    {
      "cell_type": "code",
      "metadata": {
        "id": "aS3GrtnHWyuc",
        "colab_type": "code",
        "colab": {}
      },
      "source": [
        "dflstm = dflstm.rename(columns={'Confirmed Cases': 'Ontario Confirmed Cases', \\\n",
        "                                'Confirmed deaths': 'Ontario Deaths', \\\n",
        "                                  'Confirmed Recovered': 'Ontario Recovered'})"
      ],
      "execution_count": 0,
      "outputs": []
    },
    {
      "cell_type": "code",
      "metadata": {
        "id": "vdPM2Sw68JPp",
        "colab_type": "code",
        "outputId": "75ade987-1df4-4684-d6d5-4b0d438834e6",
        "colab": {
          "base_uri": "https://localhost:8080/",
          "height": 272
        }
      },
      "source": [
        "print(dflstm)"
      ],
      "execution_count": 0,
      "outputs": [
        {
          "output_type": "stream",
          "text": [
            "            Ontario Confirmed Cases  Ontario Deaths  Ontario Recovered\n",
            "Dates                                                                 \n",
            "01/22/2020                        0               0                  0\n",
            "01/23/2020                        0               0                  0\n",
            "01/24/2020                        0               0                  0\n",
            "01/25/2020                        0               0                  0\n",
            "01/26/2020                        1               0                  0\n",
            "...                             ...             ...                ...\n",
            "04/18/2020                    11013             564              10964\n",
            "04/19/2020                    11561             591              11847\n",
            "04/20/2020                    12063             624              12543\n",
            "04/21/2020                    12715             694              13188\n",
            "04/22/2020                    13718             762              14454\n",
            "\n",
            "[92 rows x 3 columns]\n"
          ],
          "name": "stdout"
        }
      ]
    },
    {
      "cell_type": "code",
      "metadata": {
        "id": "WzUuAhLm8S84",
        "colab_type": "code",
        "outputId": "af496ab1-30e2-40e2-da98-636663b4e20d",
        "colab": {
          "base_uri": "https://localhost:8080/",
          "height": 296
        }
      },
      "source": [
        "dflstm['Ontario Confirmed Cases'].plot()\n",
        "#plt.figure(figsize=(16,8))"
      ],
      "execution_count": 0,
      "outputs": [
        {
          "output_type": "execute_result",
          "data": {
            "text/plain": [
              "<matplotlib.axes._subplots.AxesSubplot at 0x7f3fa6385978>"
            ]
          },
          "metadata": {
            "tags": []
          },
          "execution_count": 7
        },
        {
          "output_type": "display_data",
          "data": {
            "image/png": "[encoded data removed]",
            "text/plain": [
              "<Figure size 432x288 with 1 Axes>"
            ]
          },
          "metadata": {
            "tags": [],
            "needs_background": "light"
          }
        }
      ]
    },
    {
      "cell_type": "code",
      "metadata": {
        "id": "B5Y-uDN-8sUR",
        "colab_type": "code",
        "colab": {}
      },
      "source": [
        "data = dflstm.filter(['Ontario Confirmed Cases'])"
      ],
      "execution_count": 0,
      "outputs": []
    },
    {
      "cell_type": "code",
      "metadata": {
        "id": "41X9NIEN9jZb",
        "colab_type": "code",
        "colab": {}
      },
      "source": [
        "dataset = data.values"
      ],
      "execution_count": 0,
      "outputs": []
    },
    {
      "cell_type": "code",
      "metadata": {
        "id": "7pOXyw-f9nNM",
        "colab_type": "code",
        "outputId": "e3087666-4362-4bac-9bc4-7aa97e760772",
        "colab": {
          "base_uri": "https://localhost:8080/",
          "height": 34
        }
      },
      "source": [
        "training_data_len = math.ceil(len(dataset) * 0.7)\n",
        "training_data_len"
      ],
      "execution_count": 0,
      "outputs": [
        {
          "output_type": "execute_result",
          "data": {
            "text/plain": [
              "65"
            ]
          },
          "metadata": {
            "tags": []
          },
          "execution_count": 10
        }
      ]
    },
    {
      "cell_type": "code",
      "metadata": {
        "id": "-CBMUNzf96CY",
        "colab_type": "code",
        "colab": {}
      },
      "source": [
        "scaler = MinMaxScaler(feature_range=(0,1))\n",
        "scaled_data = scaler.fit_transform(dataset)"
      ],
      "execution_count": 0,
      "outputs": []
    },
    {
      "cell_type": "code",
      "metadata": {
        "id": "wJQEDTaK-RA5",
        "colab_type": "code",
        "outputId": "ce514556-cbda-4469-beae-59e2eec23e7a",
        "colab": {
          "base_uri": "https://localhost:8080/",
          "height": 1000
        }
      },
      "source": [
        "scaled_data"
      ],
      "execution_count": 0,
      "outputs": [
        {
          "output_type": "execute_result",
          "data": {
            "text/plain": [
              "array([[0.00000000e+00],\n",
              "       [0.00000000e+00],\n",
              "       [0.00000000e+00],\n",
              "       [0.00000000e+00],\n",
              "       [7.28969237e-05],\n",
              "       [7.28969237e-05],\n",
              "       [7.28969237e-05],\n",
              "       [7.28969237e-05],\n",
              "       [7.28969237e-05],\n",
              "       [2.18690771e-04],\n",
              "       [2.18690771e-04],\n",
              "       [2.18690771e-04],\n",
              "       [2.18690771e-04],\n",
              "       [2.18690771e-04],\n",
              "       [2.18690771e-04],\n",
              "       [2.18690771e-04],\n",
              "       [2.18690771e-04],\n",
              "       [2.18690771e-04],\n",
              "       [2.18690771e-04],\n",
              "       [2.18690771e-04],\n",
              "       [2.18690771e-04],\n",
              "       [2.18690771e-04],\n",
              "       [2.18690771e-04],\n",
              "       [2.18690771e-04],\n",
              "       [2.18690771e-04],\n",
              "       [2.18690771e-04],\n",
              "       [2.18690771e-04],\n",
              "       [2.18690771e-04],\n",
              "       [2.18690771e-04],\n",
              "       [2.18690771e-04],\n",
              "       [2.18690771e-04],\n",
              "       [2.18690771e-04],\n",
              "       [2.18690771e-04],\n",
              "       [2.91587695e-04],\n",
              "       [2.91587695e-04],\n",
              "       [2.91587695e-04],\n",
              "       [4.37381542e-04],\n",
              "       [4.37381542e-04],\n",
              "       [8.01866161e-04],\n",
              "       [1.09345386e-03],\n",
              "       [1.31214463e-03],\n",
              "       [1.45793847e-03],\n",
              "       [1.45793847e-03],\n",
              "       [1.60373232e-03],\n",
              "       [1.82242309e-03],\n",
              "       [2.04111386e-03],\n",
              "       [2.11401079e-03],\n",
              "       [2.47849541e-03],\n",
              "       [2.62428925e-03],\n",
              "       [2.98877387e-03],\n",
              "       [3.06167080e-03],\n",
              "       [5.39437236e-03],\n",
              "       [5.75885698e-03],\n",
              "       [7.58128007e-03],\n",
              "       [1.29027555e-02],\n",
              "       [1.34859309e-02],\n",
              "       [1.61102201e-02],\n",
              "       [1.87345094e-02],\n",
              "       [2.24522525e-02],\n",
              "       [2.74821403e-02],\n",
              "       [3.09811926e-02],\n",
              "       [3.66671526e-02],\n",
              "       [4.28633912e-02],\n",
              "       [5.01530835e-02],\n",
              "       [6.25455606e-02],\n",
              "       [7.24595422e-02],\n",
              "       [8.33940808e-02],\n",
              "       [9.87753317e-02],\n",
              "       [1.24362152e-01],\n",
              "       [1.43315352e-01],\n",
              "       [1.74369442e-01],\n",
              "       [2.03601108e-01],\n",
              "       [2.37279487e-01],\n",
              "       [2.64615833e-01],\n",
              "       [3.17393206e-01],\n",
              "       [3.16882928e-01],\n",
              "       [3.44510862e-01],\n",
              "       [3.84604170e-01],\n",
              "       [4.19813384e-01],\n",
              "       [4.54658113e-01],\n",
              "       [4.84618749e-01],\n",
              "       [5.13850416e-01],\n",
              "       [5.44540020e-01],\n",
              "       [5.79749235e-01],\n",
              "       [6.15760315e-01],\n",
              "       [7.17305730e-01],\n",
              "       [7.62210235e-01],\n",
              "       [8.02813821e-01],\n",
              "       [8.42761335e-01],\n",
              "       [8.79355591e-01],\n",
              "       [9.26884385e-01],\n",
              "       [1.00000000e+00]])"
            ]
          },
          "metadata": {
            "tags": []
          },
          "execution_count": 12
        }
      ]
    },
    {
      "cell_type": "code",
      "metadata": {
        "id": "YL19PrqG-WP5",
        "colab_type": "code",
        "outputId": "99aaf91a-6dd8-4490-b6f7-29e6cd190a71",
        "colab": {
          "base_uri": "https://localhost:8080/",
          "height": 102
        }
      },
      "source": [
        "train_data = scaled_data[0:training_data_len, :]\n",
        "x_train = []\n",
        "y_train = []\n",
        "\n",
        "for i in range(10, len(train_data)):\n",
        "  x_train.append(train_data[i-10:i, 0])\n",
        "  y_train.append(train_data[i, 0])\n",
        "  if i<= 10:\n",
        "    print(x_train)\n",
        "    print(y_train)\n",
        "    print()"
      ],
      "execution_count": 0,
      "outputs": [
        {
          "output_type": "stream",
          "text": [
            "[array([0.00000000e+00, 0.00000000e+00, 0.00000000e+00, 0.00000000e+00,\n",
            "       7.28969237e-05, 7.28969237e-05, 7.28969237e-05, 7.28969237e-05,\n",
            "       7.28969237e-05, 2.18690771e-04])]\n",
            "[0.00021869077124945325]\n",
            "\n"
          ],
          "name": "stdout"
        }
      ]
    },
    {
      "cell_type": "code",
      "metadata": {
        "id": "fLRFNnYqAHrQ",
        "colab_type": "code",
        "colab": {}
      },
      "source": [
        "x_train, y_train = np.array(x_train), np.array(y_train)"
      ],
      "execution_count": 0,
      "outputs": []
    },
    {
      "cell_type": "code",
      "metadata": {
        "id": "w2rnFmToA-Ux",
        "colab_type": "code",
        "outputId": "6a11df8e-423c-4e43-e406-403595f41022",
        "colab": {
          "base_uri": "https://localhost:8080/",
          "height": 34
        }
      },
      "source": [
        "x_train = np.reshape(x_train, (x_train.shape[0], x_train.shape[1], 1))\n",
        "x_train.shape"
      ],
      "execution_count": 0,
      "outputs": [
        {
          "output_type": "execute_result",
          "data": {
            "text/plain": [
              "(55, 10, 1)"
            ]
          },
          "metadata": {
            "tags": []
          },
          "execution_count": 15
        }
      ]
    },
    {
      "cell_type": "code",
      "metadata": {
        "id": "b7adSETOMaIa",
        "colab_type": "code",
        "colab": {}
      },
      "source": [
        "model = Sequential()\n",
        "model.add(LSTM(50, return_sequences=True, input_shape=(x_train.shape[1], 1)))\n",
        "model.add(LSTM(50, return_sequences=False))\n",
        "model.add(Dense(25))\n",
        "model.add(Dense(1))"
      ],
      "execution_count": 0,
      "outputs": []
    },
    {
      "cell_type": "code",
      "metadata": {
        "id": "KdbEeOGKprOT",
        "colab_type": "code",
        "colab": {}
      },
      "source": [
        "#compile the model\n",
        "model.compile(optimizer='adam', loss='mean_squared_error')\n"
      ],
      "execution_count": 0,
      "outputs": []
    },
    {
      "cell_type": "code",
      "metadata": {
        "id": "SIUWBDqxqAPI",
        "colab_type": "code",
        "outputId": "e6357979-d8bf-4901-d5c6-13fa3e5428dc",
        "colab": {
          "base_uri": "https://localhost:8080/",
          "height": 1000
        }
      },
      "source": [
        "model.fit(x_train,y_train,batch_size=1, epochs=50)"
      ],
      "execution_count": 0,
      "outputs": [
        {
          "output_type": "stream",
          "text": [
            "Epoch 1/50\n",
            "55/55 [==============================] - 1s 22ms/step - loss: 2.1644e-04\n",
            "Epoch 2/50\n",
            "55/55 [==============================] - 0s 9ms/step - loss: 2.5148e-04\n",
            "Epoch 3/50\n",
            "55/55 [==============================] - 0s 7ms/step - loss: 1.4017e-04\n",
            "Epoch 4/50\n",
            "55/55 [==============================] - 0s 8ms/step - loss: 7.2861e-05\n",
            "Epoch 5/50\n",
            "55/55 [==============================] - 0s 7ms/step - loss: 4.1316e-05\n",
            "Epoch 6/50\n",
            "55/55 [==============================] - 0s 7ms/step - loss: 8.2912e-06\n",
            "Epoch 7/50\n",
            "55/55 [==============================] - 0s 7ms/step - loss: 7.5380e-06\n",
            "Epoch 8/50\n",
            "55/55 [==============================] - 0s 7ms/step - loss: 2.9812e-06\n",
            "Epoch 9/50\n",
            "55/55 [==============================] - 0s 7ms/step - loss: 1.2128e-05\n",
            "Epoch 10/50\n",
            "55/55 [==============================] - 0s 8ms/step - loss: 9.8933e-06\n",
            "Epoch 11/50\n",
            "55/55 [==============================] - 0s 8ms/step - loss: 3.3103e-06\n",
            "Epoch 12/50\n",
            "55/55 [==============================] - 0s 8ms/step - loss: 9.5746e-06\n",
            "Epoch 13/50\n",
            "55/55 [==============================] - 0s 8ms/step - loss: 1.1331e-05\n",
            "Epoch 14/50\n",
            "55/55 [==============================] - 0s 8ms/step - loss: 3.0779e-06\n",
            "Epoch 15/50\n",
            "55/55 [==============================] - 0s 9ms/step - loss: 3.3385e-06\n",
            "Epoch 16/50\n",
            "55/55 [==============================] - 0s 8ms/step - loss: 2.6690e-05\n",
            "Epoch 17/50\n",
            "55/55 [==============================] - 0s 9ms/step - loss: 2.5771e-05\n",
            "Epoch 18/50\n",
            "55/55 [==============================] - 0s 8ms/step - loss: 9.2557e-06\n",
            "Epoch 19/50\n",
            "55/55 [==============================] - 0s 8ms/step - loss: 1.0977e-05\n",
            "Epoch 20/50\n",
            "55/55 [==============================] - 0s 8ms/step - loss: 9.5514e-06\n",
            "Epoch 21/50\n",
            "55/55 [==============================] - 0s 7ms/step - loss: 3.6488e-06\n",
            "Epoch 22/50\n",
            "55/55 [==============================] - 0s 7ms/step - loss: 4.0638e-06\n",
            "Epoch 23/50\n",
            "55/55 [==============================] - 0s 7ms/step - loss: 4.7874e-06\n",
            "Epoch 24/50\n",
            "55/55 [==============================] - 0s 7ms/step - loss: 3.8060e-06\n",
            "Epoch 25/50\n",
            "55/55 [==============================] - 0s 7ms/step - loss: 6.7098e-06\n",
            "Epoch 26/50\n",
            "55/55 [==============================] - 0s 7ms/step - loss: 7.3595e-06\n",
            "Epoch 27/50\n",
            "55/55 [==============================] - 0s 7ms/step - loss: 5.6925e-06\n",
            "Epoch 28/50\n",
            "55/55 [==============================] - 0s 7ms/step - loss: 4.7219e-06\n",
            "Epoch 29/50\n",
            "55/55 [==============================] - 0s 7ms/step - loss: 3.4066e-06\n",
            "Epoch 30/50\n",
            "55/55 [==============================] - 0s 9ms/step - loss: 5.9954e-06\n",
            "Epoch 31/50\n",
            "55/55 [==============================] - 0s 8ms/step - loss: 5.8110e-06\n",
            "Epoch 32/50\n",
            "55/55 [==============================] - 0s 7ms/step - loss: 2.9099e-06\n",
            "Epoch 33/50\n",
            "55/55 [==============================] - 0s 7ms/step - loss: 2.9337e-06\n",
            "Epoch 34/50\n",
            "55/55 [==============================] - 0s 7ms/step - loss: 7.0001e-06\n",
            "Epoch 35/50\n",
            "55/55 [==============================] - 0s 8ms/step - loss: 4.3571e-06\n",
            "Epoch 36/50\n",
            "55/55 [==============================] - 0s 7ms/step - loss: 5.3885e-06\n",
            "Epoch 37/50\n",
            "55/55 [==============================] - 0s 7ms/step - loss: 4.4251e-06\n",
            "Epoch 38/50\n",
            "55/55 [==============================] - 0s 7ms/step - loss: 4.2246e-06\n",
            "Epoch 39/50\n",
            "55/55 [==============================] - 0s 8ms/step - loss: 1.9550e-05\n",
            "Epoch 40/50\n",
            "55/55 [==============================] - 0s 9ms/step - loss: 2.4356e-06\n",
            "Epoch 41/50\n",
            "55/55 [==============================] - 0s 9ms/step - loss: 2.7541e-06\n",
            "Epoch 42/50\n",
            "55/55 [==============================] - 0s 8ms/step - loss: 2.1923e-06\n",
            "Epoch 43/50\n",
            "55/55 [==============================] - 0s 8ms/step - loss: 4.3263e-06\n",
            "Epoch 44/50\n",
            "55/55 [==============================] - 0s 9ms/step - loss: 4.9518e-06\n",
            "Epoch 45/50\n",
            "55/55 [==============================] - 0s 9ms/step - loss: 3.8661e-06\n",
            "Epoch 46/50\n",
            "55/55 [==============================] - 0s 9ms/step - loss: 1.7133e-06\n",
            "Epoch 47/50\n",
            "55/55 [==============================] - 0s 8ms/step - loss: 6.0127e-06\n",
            "Epoch 48/50\n",
            "55/55 [==============================] - 0s 7ms/step - loss: 1.5239e-05\n",
            "Epoch 49/50\n",
            "55/55 [==============================] - 0s 7ms/step - loss: 1.2273e-05\n",
            "Epoch 50/50\n",
            "55/55 [==============================] - 0s 7ms/step - loss: 7.4375e-06\n"
          ],
          "name": "stdout"
        },
        {
          "output_type": "execute_result",
          "data": {
            "text/plain": [
              "<keras.callbacks.callbacks.History at 0x7f3fa62e5b70>"
            ]
          },
          "metadata": {
            "tags": []
          },
          "execution_count": 18
        }
      ]
    },
    {
      "cell_type": "code",
      "metadata": {
        "id": "enX1Vm9EqNBq",
        "colab_type": "code",
        "colab": {}
      },
      "source": [
        "test_data = scaled_data[training_data_len-10: , :]\n",
        "x_test = []\n",
        "y_test = dataset[training_data_len:, :]\n",
        "for i in range(10, len(test_data)):\n",
        "  x_test.append(test_data[i-10:i, 0])\n",
        "  "
      ],
      "execution_count": 0,
      "outputs": []
    },
    {
      "cell_type": "code",
      "metadata": {
        "id": "1C4ylH1HAT8v",
        "colab_type": "code",
        "outputId": "b55f7513-e253-4837-9372-71a19165dea0",
        "colab": {
          "base_uri": "https://localhost:8080/",
          "height": 34
        }
      },
      "source": [
        "len(test_data)"
      ],
      "execution_count": 0,
      "outputs": [
        {
          "output_type": "execute_result",
          "data": {
            "text/plain": [
              "37"
            ]
          },
          "metadata": {
            "tags": []
          },
          "execution_count": 20
        }
      ]
    },
    {
      "cell_type": "code",
      "metadata": {
        "id": "9riQylarrFq4",
        "colab_type": "code",
        "colab": {}
      },
      "source": [
        "x_test = np.array(x_test)\n"
      ],
      "execution_count": 0,
      "outputs": []
    },
    {
      "cell_type": "code",
      "metadata": {
        "id": "gvFsLl8erUxJ",
        "colab_type": "code",
        "colab": {}
      },
      "source": [
        "x_test = np.reshape(x_test, (x_test.shape[0], x_test.shape[1], 1 ))"
      ],
      "execution_count": 0,
      "outputs": []
    },
    {
      "cell_type": "code",
      "metadata": {
        "id": "dJm2-FeerkCJ",
        "colab_type": "code",
        "outputId": "1ff51f28-171a-4d53-8f79-d6bbd904fcda",
        "colab": {
          "base_uri": "https://localhost:8080/",
          "height": 1000
        }
      },
      "source": [
        "x_test"
      ],
      "execution_count": 0,
      "outputs": [
        {
          "output_type": "execute_result",
          "data": {
            "text/plain": [
              "array([[[0.01348593],\n",
              "        [0.01611022],\n",
              "        [0.01873451],\n",
              "        [0.02245225],\n",
              "        [0.02748214],\n",
              "        [0.03098119],\n",
              "        [0.03666715],\n",
              "        [0.04286339],\n",
              "        [0.05015308],\n",
              "        [0.06254556]],\n",
              "\n",
              "       [[0.01611022],\n",
              "        [0.01873451],\n",
              "        [0.02245225],\n",
              "        [0.02748214],\n",
              "        [0.03098119],\n",
              "        [0.03666715],\n",
              "        [0.04286339],\n",
              "        [0.05015308],\n",
              "        [0.06254556],\n",
              "        [0.07245954]],\n",
              "\n",
              "       [[0.01873451],\n",
              "        [0.02245225],\n",
              "        [0.02748214],\n",
              "        [0.03098119],\n",
              "        [0.03666715],\n",
              "        [0.04286339],\n",
              "        [0.05015308],\n",
              "        [0.06254556],\n",
              "        [0.07245954],\n",
              "        [0.08339408]],\n",
              "\n",
              "       [[0.02245225],\n",
              "        [0.02748214],\n",
              "        [0.03098119],\n",
              "        [0.03666715],\n",
              "        [0.04286339],\n",
              "        [0.05015308],\n",
              "        [0.06254556],\n",
              "        [0.07245954],\n",
              "        [0.08339408],\n",
              "        [0.09877533]],\n",
              "\n",
              "       [[0.02748214],\n",
              "        [0.03098119],\n",
              "        [0.03666715],\n",
              "        [0.04286339],\n",
              "        [0.05015308],\n",
              "        [0.06254556],\n",
              "        [0.07245954],\n",
              "        [0.08339408],\n",
              "        [0.09877533],\n",
              "        [0.12436215]],\n",
              "\n",
              "       [[0.03098119],\n",
              "        [0.03666715],\n",
              "        [0.04286339],\n",
              "        [0.05015308],\n",
              "        [0.06254556],\n",
              "        [0.07245954],\n",
              "        [0.08339408],\n",
              "        [0.09877533],\n",
              "        [0.12436215],\n",
              "        [0.14331535]],\n",
              "\n",
              "       [[0.03666715],\n",
              "        [0.04286339],\n",
              "        [0.05015308],\n",
              "        [0.06254556],\n",
              "        [0.07245954],\n",
              "        [0.08339408],\n",
              "        [0.09877533],\n",
              "        [0.12436215],\n",
              "        [0.14331535],\n",
              "        [0.17436944]],\n",
              "\n",
              "       [[0.04286339],\n",
              "        [0.05015308],\n",
              "        [0.06254556],\n",
              "        [0.07245954],\n",
              "        [0.08339408],\n",
              "        [0.09877533],\n",
              "        [0.12436215],\n",
              "        [0.14331535],\n",
              "        [0.17436944],\n",
              "        [0.20360111]],\n",
              "\n",
              "       [[0.05015308],\n",
              "        [0.06254556],\n",
              "        [0.07245954],\n",
              "        [0.08339408],\n",
              "        [0.09877533],\n",
              "        [0.12436215],\n",
              "        [0.14331535],\n",
              "        [0.17436944],\n",
              "        [0.20360111],\n",
              "        [0.23727949]],\n",
              "\n",
              "       [[0.06254556],\n",
              "        [0.07245954],\n",
              "        [0.08339408],\n",
              "        [0.09877533],\n",
              "        [0.12436215],\n",
              "        [0.14331535],\n",
              "        [0.17436944],\n",
              "        [0.20360111],\n",
              "        [0.23727949],\n",
              "        [0.26461583]],\n",
              "\n",
              "       [[0.07245954],\n",
              "        [0.08339408],\n",
              "        [0.09877533],\n",
              "        [0.12436215],\n",
              "        [0.14331535],\n",
              "        [0.17436944],\n",
              "        [0.20360111],\n",
              "        [0.23727949],\n",
              "        [0.26461583],\n",
              "        [0.31739321]],\n",
              "\n",
              "       [[0.08339408],\n",
              "        [0.09877533],\n",
              "        [0.12436215],\n",
              "        [0.14331535],\n",
              "        [0.17436944],\n",
              "        [0.20360111],\n",
              "        [0.23727949],\n",
              "        [0.26461583],\n",
              "        [0.31739321],\n",
              "        [0.31688293]],\n",
              "\n",
              "       [[0.09877533],\n",
              "        [0.12436215],\n",
              "        [0.14331535],\n",
              "        [0.17436944],\n",
              "        [0.20360111],\n",
              "        [0.23727949],\n",
              "        [0.26461583],\n",
              "        [0.31739321],\n",
              "        [0.31688293],\n",
              "        [0.34451086]],\n",
              "\n",
              "       [[0.12436215],\n",
              "        [0.14331535],\n",
              "        [0.17436944],\n",
              "        [0.20360111],\n",
              "        [0.23727949],\n",
              "        [0.26461583],\n",
              "        [0.31739321],\n",
              "        [0.31688293],\n",
              "        [0.34451086],\n",
              "        [0.38460417]],\n",
              "\n",
              "       [[0.14331535],\n",
              "        [0.17436944],\n",
              "        [0.20360111],\n",
              "        [0.23727949],\n",
              "        [0.26461583],\n",
              "        [0.31739321],\n",
              "        [0.31688293],\n",
              "        [0.34451086],\n",
              "        [0.38460417],\n",
              "        [0.41981338]],\n",
              "\n",
              "       [[0.17436944],\n",
              "        [0.20360111],\n",
              "        [0.23727949],\n",
              "        [0.26461583],\n",
              "        [0.31739321],\n",
              "        [0.31688293],\n",
              "        [0.34451086],\n",
              "        [0.38460417],\n",
              "        [0.41981338],\n",
              "        [0.45465811]],\n",
              "\n",
              "       [[0.20360111],\n",
              "        [0.23727949],\n",
              "        [0.26461583],\n",
              "        [0.31739321],\n",
              "        [0.31688293],\n",
              "        [0.34451086],\n",
              "        [0.38460417],\n",
              "        [0.41981338],\n",
              "        [0.45465811],\n",
              "        [0.48461875]],\n",
              "\n",
              "       [[0.23727949],\n",
              "        [0.26461583],\n",
              "        [0.31739321],\n",
              "        [0.31688293],\n",
              "        [0.34451086],\n",
              "        [0.38460417],\n",
              "        [0.41981338],\n",
              "        [0.45465811],\n",
              "        [0.48461875],\n",
              "        [0.51385042]],\n",
              "\n",
              "       [[0.26461583],\n",
              "        [0.31739321],\n",
              "        [0.31688293],\n",
              "        [0.34451086],\n",
              "        [0.38460417],\n",
              "        [0.41981338],\n",
              "        [0.45465811],\n",
              "        [0.48461875],\n",
              "        [0.51385042],\n",
              "        [0.54454002]],\n",
              "\n",
              "       [[0.31739321],\n",
              "        [0.31688293],\n",
              "        [0.34451086],\n",
              "        [0.38460417],\n",
              "        [0.41981338],\n",
              "        [0.45465811],\n",
              "        [0.48461875],\n",
              "        [0.51385042],\n",
              "        [0.54454002],\n",
              "        [0.57974923]],\n",
              "\n",
              "       [[0.31688293],\n",
              "        [0.34451086],\n",
              "        [0.38460417],\n",
              "        [0.41981338],\n",
              "        [0.45465811],\n",
              "        [0.48461875],\n",
              "        [0.51385042],\n",
              "        [0.54454002],\n",
              "        [0.57974923],\n",
              "        [0.61576031]],\n",
              "\n",
              "       [[0.34451086],\n",
              "        [0.38460417],\n",
              "        [0.41981338],\n",
              "        [0.45465811],\n",
              "        [0.48461875],\n",
              "        [0.51385042],\n",
              "        [0.54454002],\n",
              "        [0.57974923],\n",
              "        [0.61576031],\n",
              "        [0.71730573]],\n",
              "\n",
              "       [[0.38460417],\n",
              "        [0.41981338],\n",
              "        [0.45465811],\n",
              "        [0.48461875],\n",
              "        [0.51385042],\n",
              "        [0.54454002],\n",
              "        [0.57974923],\n",
              "        [0.61576031],\n",
              "        [0.71730573],\n",
              "        [0.76221023]],\n",
              "\n",
              "       [[0.41981338],\n",
              "        [0.45465811],\n",
              "        [0.48461875],\n",
              "        [0.51385042],\n",
              "        [0.54454002],\n",
              "        [0.57974923],\n",
              "        [0.61576031],\n",
              "        [0.71730573],\n",
              "        [0.76221023],\n",
              "        [0.80281382]],\n",
              "\n",
              "       [[0.45465811],\n",
              "        [0.48461875],\n",
              "        [0.51385042],\n",
              "        [0.54454002],\n",
              "        [0.57974923],\n",
              "        [0.61576031],\n",
              "        [0.71730573],\n",
              "        [0.76221023],\n",
              "        [0.80281382],\n",
              "        [0.84276134]],\n",
              "\n",
              "       [[0.48461875],\n",
              "        [0.51385042],\n",
              "        [0.54454002],\n",
              "        [0.57974923],\n",
              "        [0.61576031],\n",
              "        [0.71730573],\n",
              "        [0.76221023],\n",
              "        [0.80281382],\n",
              "        [0.84276134],\n",
              "        [0.87935559]],\n",
              "\n",
              "       [[0.51385042],\n",
              "        [0.54454002],\n",
              "        [0.57974923],\n",
              "        [0.61576031],\n",
              "        [0.71730573],\n",
              "        [0.76221023],\n",
              "        [0.80281382],\n",
              "        [0.84276134],\n",
              "        [0.87935559],\n",
              "        [0.92688439]]])"
            ]
          },
          "metadata": {
            "tags": []
          },
          "execution_count": 23
        }
      ]
    },
    {
      "cell_type": "code",
      "metadata": {
        "id": "uUTmSYy-Ahx1",
        "colab_type": "code",
        "outputId": "2f91e6ba-1ee9-4631-93da-8d0d4fc0284a",
        "colab": {
          "base_uri": "https://localhost:8080/",
          "height": 34
        }
      },
      "source": [
        "len(x_test)"
      ],
      "execution_count": 0,
      "outputs": [
        {
          "output_type": "execute_result",
          "data": {
            "text/plain": [
              "27"
            ]
          },
          "metadata": {
            "tags": []
          },
          "execution_count": 24
        }
      ]
    },
    {
      "cell_type": "code",
      "metadata": {
        "id": "QRpcISLfBBha",
        "colab_type": "code",
        "outputId": "3f791844-a956-49af-ceb7-5a82f027a8e9",
        "colab": {
          "base_uri": "https://localhost:8080/",
          "height": 34
        }
      },
      "source": [
        "len(x_train)"
      ],
      "execution_count": 0,
      "outputs": [
        {
          "output_type": "execute_result",
          "data": {
            "text/plain": [
              "55"
            ]
          },
          "metadata": {
            "tags": []
          },
          "execution_count": 25
        }
      ]
    },
    {
      "cell_type": "code",
      "metadata": {
        "id": "5T3FumoDrl_J",
        "colab_type": "code",
        "colab": {}
      },
      "source": [
        "predictions = model.predict(x_test)\n",
        "predictions = scaler.inverse_transform(predictions)"
      ],
      "execution_count": 0,
      "outputs": []
    },
    {
      "cell_type": "code",
      "metadata": {
        "id": "xeSdeCGzuS9b",
        "colab_type": "code",
        "outputId": "f26ca695-cb7b-46d3-b4e5-4b1e1f046944",
        "colab": {
          "base_uri": "https://localhost:8080/",
          "height": 476
        }
      },
      "source": [
        "predictions"
      ],
      "execution_count": 0,
      "outputs": [
        {
          "output_type": "execute_result",
          "data": {
            "text/plain": [
              "array([[  929.7679],\n",
              "       [ 1107.199 ],\n",
              "       [ 1301.1104],\n",
              "       [ 1529.4733],\n",
              "       [ 1846.8972],\n",
              "       [ 2207.721 ],\n",
              "       [ 2654.1453],\n",
              "       [ 3165.1587],\n",
              "       [ 3740.9282],\n",
              "       [ 4325.065 ],\n",
              "       [ 5047.0137],\n",
              "       [ 5592.4224],\n",
              "       [ 6074.552 ],\n",
              "       [ 6623.29  ],\n",
              "       [ 7235.5415],\n",
              "       [ 7889.2637],\n",
              "       [ 8539.209 ],\n",
              "       [ 9165.745 ],\n",
              "       [ 9778.087 ],\n",
              "       [10408.235 ],\n",
              "       [11070.06  ],\n",
              "       [12126.236 ],\n",
              "       [13263.143 ],\n",
              "       [14328.248 ],\n",
              "       [15283.881 ],\n",
              "       [16127.646 ],\n",
              "       [16944.94  ]], dtype=float32)"
            ]
          },
          "metadata": {
            "tags": []
          },
          "execution_count": 27
        }
      ]
    },
    {
      "cell_type": "code",
      "metadata": {
        "id": "SKwx-v8gBvJm",
        "colab_type": "code",
        "outputId": "a38af497-4eb6-4b52-f804-dfc91250bc0e",
        "colab": {
          "base_uri": "https://localhost:8080/",
          "height": 34
        }
      },
      "source": [
        "len(predictions)"
      ],
      "execution_count": 0,
      "outputs": [
        {
          "output_type": "execute_result",
          "data": {
            "text/plain": [
              "27"
            ]
          },
          "metadata": {
            "tags": []
          },
          "execution_count": 28
        }
      ]
    },
    {
      "cell_type": "code",
      "metadata": {
        "id": "eqFoe549sXsn",
        "colab_type": "code",
        "outputId": "8d924e75-c17f-462d-b776-0f210de47141",
        "colab": {
          "base_uri": "https://localhost:8080/",
          "height": 34
        }
      },
      "source": [
        "rmse = np.sqrt( np.mean( predictions - y_test )**2)\n",
        "rmse\n"
      ],
      "execution_count": 0,
      "outputs": [
        {
          "output_type": "execute_result",
          "data": {
            "text/plain": [
              "1090.2954983181423"
            ]
          },
          "metadata": {
            "tags": []
          },
          "execution_count": 29
        }
      ]
    },
    {
      "cell_type": "code",
      "metadata": {
        "id": "PLYRsNOGsgZr",
        "colab_type": "code",
        "outputId": "71b210c0-2ea1-48a3-850c-c8996f069dcb",
        "colab": {
          "base_uri": "https://localhost:8080/",
          "height": 139
        }
      },
      "source": [
        "train = data[:training_data_len]\n",
        "validontario1 = data[training_data_len:]\n",
        "validontario1['Ontario Predicted Cases'] = predictions\n",
        "\n"
      ],
      "execution_count": 0,
      "outputs": [
        {
          "output_type": "stream",
          "text": [
            "/usr/local/lib/python3.6/dist-packages/ipykernel_launcher.py:3: SettingWithCopyWarning: \n",
            "A value is trying to be set on a copy of a slice from a DataFrame.\n",
            "Try using .loc[row_indexer,col_indexer] = value instead\n",
            "\n",
            "See the caveats in the documentation: https://pandas.pydata.org/pandas-docs/stable/user_guide/indexing.html#returning-a-view-versus-a-copy\n",
            "  This is separate from the ipykernel package so we can avoid doing imports until\n"
          ],
          "name": "stderr"
        }
      ]
    },
    {
      "cell_type": "code",
      "metadata": {
        "id": "Qo985PovtHoN",
        "colab_type": "code",
        "outputId": "3ae068a7-8263-4a57-83b4-9e01e3f68f82",
        "colab": {
          "base_uri": "https://localhost:8080/",
          "height": 523
        }
      },
      "source": [
        "plt.figure(figsize=(22,10))\n",
        "plt.title('Model')\n",
        "plt.xlabel('Date', fontsize=12)\n",
        "plt.xticks(rotation=45)\n",
        "plt.ylabel('Ontario Confirmed Cases', fontsize=12)\n",
        "plt.plot(train['Ontario Confirmed Cases'])\n",
        "plt.plot(validontario1[['Ontario Confirmed Cases', 'Ontario Predicted Cases']])\n",
        "plt.legend(['Train', 'Val', 'Predictions'], loc='lower right')\n",
        "plt.savefig('/content/drive/My Drive/figzero.png', dpi=300)\n",
        "#plt.show()"
      ],
      "execution_count": 0,
      "outputs": [
        {
          "output_type": "display_data",
          "data": {
            "image/png": "[encoded data removed]",
            "text/plain": [
              "<Figure size 1584x720 with 1 Axes>"
            ]
          },
          "metadata": {
            "tags": [],
            "needs_background": "light"
          }
        }
      ]
    },
    {
      "cell_type": "code",
      "metadata": {
        "id": "BLCuU07muNXg",
        "colab_type": "code",
        "outputId": "85fa1584-6739-4266-9d05-5b10d6beb6a4",
        "colab": {
          "base_uri": "https://localhost:8080/",
          "height": 917
        }
      },
      "source": [
        "validontario1"
      ],
      "execution_count": 0,
      "outputs": [
        {
          "output_type": "execute_result",
          "data": {
            "text/html": [
              "<div>\n",
              "<style scoped>\n",
              "    .dataframe tbody tr th:only-of-type {\n",
              "        vertical-align: middle;\n",
              "    }\n",
              "\n",
              "    .dataframe tbody tr th {\n",
              "        vertical-align: top;\n",
              "    }\n",
              "\n",
              "    .dataframe thead th {\n",
              "        text-align: right;\n",
              "    }\n",
              "</style>\n",
              "<table border=\"1\" class=\"dataframe\">\n",
              "  <thead>\n",
              "    <tr style=\"text-align: right;\">\n",
              "      <th></th>\n",
              "      <th>Ontario Confirmed Cases</th>\n",
              "      <th>Ontario Predicted Cases</th>\n",
              "    </tr>\n",
              "    <tr>\n",
              "      <th>Dates</th>\n",
              "      <th></th>\n",
              "      <th></th>\n",
              "    </tr>\n",
              "  </thead>\n",
              "  <tbody>\n",
              "    <tr>\n",
              "      <th>03/27/2020</th>\n",
              "      <td>994</td>\n",
              "      <td>929.767883</td>\n",
              "    </tr>\n",
              "    <tr>\n",
              "      <th>03/28/2020</th>\n",
              "      <td>1144</td>\n",
              "      <td>1107.198975</td>\n",
              "    </tr>\n",
              "    <tr>\n",
              "      <th>03/29/2020</th>\n",
              "      <td>1355</td>\n",
              "      <td>1301.110352</td>\n",
              "    </tr>\n",
              "    <tr>\n",
              "      <th>03/30/2020</th>\n",
              "      <td>1706</td>\n",
              "      <td>1529.473267</td>\n",
              "    </tr>\n",
              "    <tr>\n",
              "      <th>03/31/2020</th>\n",
              "      <td>1966</td>\n",
              "      <td>1846.897217</td>\n",
              "    </tr>\n",
              "    <tr>\n",
              "      <th>04/01/2020</th>\n",
              "      <td>2392</td>\n",
              "      <td>2207.720947</td>\n",
              "    </tr>\n",
              "    <tr>\n",
              "      <th>04/02/2020</th>\n",
              "      <td>2793</td>\n",
              "      <td>2654.145264</td>\n",
              "    </tr>\n",
              "    <tr>\n",
              "      <th>04/03/2020</th>\n",
              "      <td>3255</td>\n",
              "      <td>3165.158691</td>\n",
              "    </tr>\n",
              "    <tr>\n",
              "      <th>04/04/2020</th>\n",
              "      <td>3630</td>\n",
              "      <td>3740.928223</td>\n",
              "    </tr>\n",
              "    <tr>\n",
              "      <th>04/05/2020</th>\n",
              "      <td>4354</td>\n",
              "      <td>4325.064941</td>\n",
              "    </tr>\n",
              "    <tr>\n",
              "      <th>04/06/2020</th>\n",
              "      <td>4347</td>\n",
              "      <td>5047.013672</td>\n",
              "    </tr>\n",
              "    <tr>\n",
              "      <th>04/07/2020</th>\n",
              "      <td>4726</td>\n",
              "      <td>5592.422363</td>\n",
              "    </tr>\n",
              "    <tr>\n",
              "      <th>04/08/2020</th>\n",
              "      <td>5276</td>\n",
              "      <td>6074.551758</td>\n",
              "    </tr>\n",
              "    <tr>\n",
              "      <th>04/09/2020</th>\n",
              "      <td>5759</td>\n",
              "      <td>6623.290039</td>\n",
              "    </tr>\n",
              "    <tr>\n",
              "      <th>04/10/2020</th>\n",
              "      <td>6237</td>\n",
              "      <td>7235.541504</td>\n",
              "    </tr>\n",
              "    <tr>\n",
              "      <th>04/11/2020</th>\n",
              "      <td>6648</td>\n",
              "      <td>7889.263672</td>\n",
              "    </tr>\n",
              "    <tr>\n",
              "      <th>04/12/2020</th>\n",
              "      <td>7049</td>\n",
              "      <td>8539.208984</td>\n",
              "    </tr>\n",
              "    <tr>\n",
              "      <th>04/13/2020</th>\n",
              "      <td>7470</td>\n",
              "      <td>9165.745117</td>\n",
              "    </tr>\n",
              "    <tr>\n",
              "      <th>04/14/2020</th>\n",
              "      <td>7953</td>\n",
              "      <td>9778.086914</td>\n",
              "    </tr>\n",
              "    <tr>\n",
              "      <th>04/15/2020</th>\n",
              "      <td>8447</td>\n",
              "      <td>10408.235352</td>\n",
              "    </tr>\n",
              "    <tr>\n",
              "      <th>04/16/2020</th>\n",
              "      <td>9840</td>\n",
              "      <td>11070.059570</td>\n",
              "    </tr>\n",
              "    <tr>\n",
              "      <th>04/17/2020</th>\n",
              "      <td>10456</td>\n",
              "      <td>12126.236328</td>\n",
              "    </tr>\n",
              "    <tr>\n",
              "      <th>04/18/2020</th>\n",
              "      <td>11013</td>\n",
              "      <td>13263.142578</td>\n",
              "    </tr>\n",
              "    <tr>\n",
              "      <th>04/19/2020</th>\n",
              "      <td>11561</td>\n",
              "      <td>14328.248047</td>\n",
              "    </tr>\n",
              "    <tr>\n",
              "      <th>04/20/2020</th>\n",
              "      <td>12063</td>\n",
              "      <td>15283.880859</td>\n",
              "    </tr>\n",
              "    <tr>\n",
              "      <th>04/21/2020</th>\n",
              "      <td>12715</td>\n",
              "      <td>16127.646484</td>\n",
              "    </tr>\n",
              "    <tr>\n",
              "      <th>04/22/2020</th>\n",
              "      <td>13718</td>\n",
              "      <td>16944.939453</td>\n",
              "    </tr>\n",
              "  </tbody>\n",
              "</table>\n",
              "</div>"
            ],
            "text/plain": [
              "            Ontario Confirmed Cases  Ontario Predicted Cases\n",
              "Dates                                                       \n",
              "03/27/2020                      994               929.767883\n",
              "03/28/2020                     1144              1107.198975\n",
              "03/29/2020                     1355              1301.110352\n",
              "03/30/2020                     1706              1529.473267\n",
              "03/31/2020                     1966              1846.897217\n",
              "04/01/2020                     2392              2207.720947\n",
              "04/02/2020                     2793              2654.145264\n",
              "04/03/2020                     3255              3165.158691\n",
              "04/04/2020                     3630              3740.928223\n",
              "04/05/2020                     4354              4325.064941\n",
              "04/06/2020                     4347              5047.013672\n",
              "04/07/2020                     4726              5592.422363\n",
              "04/08/2020                     5276              6074.551758\n",
              "04/09/2020                     5759              6623.290039\n",
              "04/10/2020                     6237              7235.541504\n",
              "04/11/2020                     6648              7889.263672\n",
              "04/12/2020                     7049              8539.208984\n",
              "04/13/2020                     7470              9165.745117\n",
              "04/14/2020                     7953              9778.086914\n",
              "04/15/2020                     8447             10408.235352\n",
              "04/16/2020                     9840             11070.059570\n",
              "04/17/2020                    10456             12126.236328\n",
              "04/18/2020                    11013             13263.142578\n",
              "04/19/2020                    11561             14328.248047\n",
              "04/20/2020                    12063             15283.880859\n",
              "04/21/2020                    12715             16127.646484\n",
              "04/22/2020                    13718             16944.939453"
            ]
          },
          "metadata": {
            "tags": []
          },
          "execution_count": 36
        }
      ]
    },
    {
      "cell_type": "code",
      "metadata": {
        "colab_type": "code",
        "id": "LNNyOWc7F_ep",
        "outputId": "2b8b8b2c-12c2-47e6-84af-578043085060",
        "colab": {
          "base_uri": "https://localhost:8080/",
          "height": 553
        }
      },
      "source": [
        "plt.figure(figsize=(16,8))\n",
        "plt.title('Model')\n",
        "plt.xlabel('Date', fontsize=12)\n",
        "plt.xticks(rotation=45)\n",
        "plt.ylabel('Ontario Confirmed Cases', fontsize=12)\n",
        "plt.plot(validontario1)\n",
        "plt.legend(['Train', 'Predictions'], loc='lower right')\n",
        "plt.savefig('/content/drive/My Drive/figone.png', dpi=300)\n",
        "#plt.show()"
      ],
      "execution_count": 0,
      "outputs": [
        {
          "output_type": "display_data",
          "data": {
            "image/png": "[encoded data removed]",
            "text/plain": [
              "<Figure size 1152x576 with 1 Axes>"
            ]
          },
          "metadata": {
            "tags": [],
            "needs_background": "light"
          }
        }
      ]
    },
    {
      "cell_type": "code",
      "metadata": {
        "id": "DlAhnN5vFtXq",
        "colab_type": "code",
        "outputId": "45898acb-8199-4dfc-c89c-15ae44b0a0dc",
        "colab": {
          "base_uri": "https://localhost:8080/",
          "height": 34
        }
      },
      "source": [
        "from sklearn.metrics import r2_score\n",
        "score = r2_score(validontario1['Ontario Confirmed Cases'], validontario1['Ontario Predicted Cases'])\n",
        "print(score)"
      ],
      "execution_count": 0,
      "outputs": [
        {
          "output_type": "stream",
          "text": [
            "0.8294163457032453\n"
          ],
          "name": "stdout"
        }
      ]
    },
    {
      "cell_type": "markdown",
      "metadata": {
        "id": "Np5QtxiXhKBj",
        "colab_type": "text"
      },
      "source": [
        "LSTM FOR CHINA DEATHS"
      ]
    },
    {
      "cell_type": "code",
      "metadata": {
        "id": "a8d2fAjwfbQM",
        "colab_type": "code",
        "outputId": "21eeea2b-199c-4c12-da1b-1d03373d75c8",
        "colab": {
          "base_uri": "https://localhost:8080/",
          "height": 283
        }
      },
      "source": [
        "df2 = dflstm['Ontario Deaths'].plot()\n",
        "#plt.figure(figsize=(16,8))"
      ],
      "execution_count": 0,
      "outputs": [
        {
          "output_type": "display_data",
          "data": {
            "image/png": "[encoded data removed]",
            "text/plain": [
              "<Figure size 432x288 with 1 Axes>"
            ]
          },
          "metadata": {
            "tags": [],
            "needs_background": "light"
          }
        }
      ]
    },
    {
      "cell_type": "code",
      "metadata": {
        "id": "K3VBKnC7hV0W",
        "colab_type": "code",
        "colab": {}
      },
      "source": [
        "data2 = dflstm.filter(['Ontario Deaths'])"
      ],
      "execution_count": 0,
      "outputs": []
    },
    {
      "cell_type": "code",
      "metadata": {
        "id": "qPhJZx-Oib32",
        "colab_type": "code",
        "colab": {}
      },
      "source": [
        "dataset2 = data2.values"
      ],
      "execution_count": 0,
      "outputs": []
    },
    {
      "cell_type": "code",
      "metadata": {
        "id": "j8KeADxcidfP",
        "colab_type": "code",
        "outputId": "beff8b09-b72a-487f-e3b7-6d432bb32231",
        "colab": {
          "base_uri": "https://localhost:8080/",
          "height": 34
        }
      },
      "source": [
        "training_data_len2 = math.ceil(len(dataset2) * 0.7)\n",
        "training_data_len2"
      ],
      "execution_count": 0,
      "outputs": [
        {
          "output_type": "execute_result",
          "data": {
            "text/plain": [
              "65"
            ]
          },
          "metadata": {
            "tags": []
          },
          "execution_count": 59
        }
      ]
    },
    {
      "cell_type": "code",
      "metadata": {
        "id": "25VlIZiOijtM",
        "colab_type": "code",
        "colab": {}
      },
      "source": [
        "scaler2 = MinMaxScaler(feature_range=(0,1))\n",
        "scaled_data2 = scaler2.fit_transform(dataset2)"
      ],
      "execution_count": 0,
      "outputs": []
    },
    {
      "cell_type": "code",
      "metadata": {
        "id": "EtAscLFxipZ8",
        "colab_type": "code",
        "outputId": "e1ec176b-df00-44aa-f2f9-cad2241bb8e4",
        "colab": {
          "base_uri": "https://localhost:8080/",
          "height": 1000
        }
      },
      "source": [
        "scaled_data2"
      ],
      "execution_count": 0,
      "outputs": [
        {
          "output_type": "execute_result",
          "data": {
            "text/plain": [
              "array([[0.        ],\n",
              "       [0.        ],\n",
              "       [0.        ],\n",
              "       [0.        ],\n",
              "       [0.        ],\n",
              "       [0.        ],\n",
              "       [0.        ],\n",
              "       [0.        ],\n",
              "       [0.        ],\n",
              "       [0.        ],\n",
              "       [0.        ],\n",
              "       [0.        ],\n",
              "       [0.        ],\n",
              "       [0.        ],\n",
              "       [0.        ],\n",
              "       [0.        ],\n",
              "       [0.        ],\n",
              "       [0.        ],\n",
              "       [0.        ],\n",
              "       [0.        ],\n",
              "       [0.        ],\n",
              "       [0.        ],\n",
              "       [0.        ],\n",
              "       [0.        ],\n",
              "       [0.        ],\n",
              "       [0.        ],\n",
              "       [0.        ],\n",
              "       [0.        ],\n",
              "       [0.        ],\n",
              "       [0.        ],\n",
              "       [0.        ],\n",
              "       [0.        ],\n",
              "       [0.        ],\n",
              "       [0.        ],\n",
              "       [0.        ],\n",
              "       [0.        ],\n",
              "       [0.        ],\n",
              "       [0.        ],\n",
              "       [0.        ],\n",
              "       [0.        ],\n",
              "       [0.        ],\n",
              "       [0.        ],\n",
              "       [0.        ],\n",
              "       [0.        ],\n",
              "       [0.        ],\n",
              "       [0.        ],\n",
              "       [0.        ],\n",
              "       [0.        ],\n",
              "       [0.        ],\n",
              "       [0.        ],\n",
              "       [0.        ],\n",
              "       [0.        ],\n",
              "       [0.        ],\n",
              "       [0.        ],\n",
              "       [0.        ],\n",
              "       [0.00131234],\n",
              "       [0.00131234],\n",
              "       [0.00131234],\n",
              "       [0.00262467],\n",
              "       [0.00393701],\n",
              "       [0.00656168],\n",
              "       [0.00787402],\n",
              "       [0.00918635],\n",
              "       [0.01049869],\n",
              "       [0.01706037],\n",
              "       [0.02362205],\n",
              "       [0.02362205],\n",
              "       [0.02755906],\n",
              "       [0.04068241],\n",
              "       [0.04330709],\n",
              "       [0.04855643],\n",
              "       [0.06955381],\n",
              "       [0.08792651],\n",
              "       [0.12335958],\n",
              "       [0.15616798],\n",
              "       [0.19685039],\n",
              "       [0.2007874 ],\n",
              "       [0.2007874 ],\n",
              "       [0.26246719],\n",
              "       [0.29133858],\n",
              "       [0.332021  ],\n",
              "       [0.35958005],\n",
              "       [0.38188976],\n",
              "       [0.43832021],\n",
              "       [0.50524934],\n",
              "       [0.64304462],\n",
              "       [0.68766404],\n",
              "       [0.74015748],\n",
              "       [0.77559055],\n",
              "       [0.81889764],\n",
              "       [0.91076115],\n",
              "       [1.        ]])"
            ]
          },
          "metadata": {
            "tags": []
          },
          "execution_count": 61
        }
      ]
    },
    {
      "cell_type": "code",
      "metadata": {
        "id": "vI7R3akPiuv5",
        "colab_type": "code",
        "outputId": "4e175d23-e155-40e5-d03a-cf3de8a28625",
        "colab": {
          "base_uri": "https://localhost:8080/",
          "height": 68
        }
      },
      "source": [
        "train_data2 = scaled_data2[0:training_data_len2, :]\n",
        "x_train2 = []\n",
        "y_train2 = []\n",
        "\n",
        "for i in range(10, len(train_data2)):\n",
        "  x_train2.append(train_data2[i-10:i, 0])\n",
        "  y_train2.append(train_data2[i, 0])\n",
        "  if i<= 10:\n",
        "    print(x_train2)\n",
        "    print(y_train2)\n",
        "    print()"
      ],
      "execution_count": 0,
      "outputs": [
        {
          "output_type": "stream",
          "text": [
            "[array([0., 0., 0., 0., 0., 0., 0., 0., 0., 0.])]\n",
            "[0.0]\n",
            "\n"
          ],
          "name": "stdout"
        }
      ]
    },
    {
      "cell_type": "code",
      "metadata": {
        "id": "ywdAMCgIi0sA",
        "colab_type": "code",
        "colab": {}
      },
      "source": [
        "x_train2, y_train2 = np.array(x_train2), np.array(y_train2)"
      ],
      "execution_count": 0,
      "outputs": []
    },
    {
      "cell_type": "code",
      "metadata": {
        "id": "9vXTIODJi62A",
        "colab_type": "code",
        "outputId": "0bc5eeb4-118a-4146-f606-6078551f7286",
        "colab": {
          "base_uri": "https://localhost:8080/",
          "height": 34
        }
      },
      "source": [
        "x_train2 = np.reshape(x_train2, (x_train2.shape[0], x_train2.shape[1], 1))\n",
        "x_train2.shape"
      ],
      "execution_count": 0,
      "outputs": [
        {
          "output_type": "execute_result",
          "data": {
            "text/plain": [
              "(55, 10, 1)"
            ]
          },
          "metadata": {
            "tags": []
          },
          "execution_count": 64
        }
      ]
    },
    {
      "cell_type": "code",
      "metadata": {
        "id": "ADuwUtFHi_QY",
        "colab_type": "code",
        "colab": {}
      },
      "source": [
        "model2 = Sequential()\n",
        "model2.add(LSTM(50, return_sequences=True, input_shape=(x_train2.shape[1], 1)))\n",
        "model2.add(LSTM(50, return_sequences=False))\n",
        "model2.add(Dense(25))\n",
        "model2.add(Dense(1))"
      ],
      "execution_count": 0,
      "outputs": []
    },
    {
      "cell_type": "code",
      "metadata": {
        "id": "H50CL4dBjHQp",
        "colab_type": "code",
        "colab": {}
      },
      "source": [
        "#compile the model\n",
        "model2.compile(optimizer='adam', loss='mean_squared_error')\n"
      ],
      "execution_count": 0,
      "outputs": []
    },
    {
      "cell_type": "code",
      "metadata": {
        "id": "1V32MJ4XjMeT",
        "colab_type": "code",
        "outputId": "690e48da-11e1-4e8c-98d3-62ad4197c905",
        "colab": {
          "base_uri": "https://localhost:8080/",
          "height": 1000
        }
      },
      "source": [
        "model2.fit(x_train2, y_train2, batch_size=1, epochs=50)"
      ],
      "execution_count": 0,
      "outputs": [
        {
          "output_type": "stream",
          "text": [
            "55/55 [==============================] - 1s 19ms/step - loss: 3.4427e-05\n",
            "Epoch 2/50\n",
            "55/55 [==============================] - 1s 9ms/step - loss: 1.9196e-05\n",
            "Epoch 3/50\n",
            "55/55 [==============================] - 1s 9ms/step - loss: 1.2159e-05\n",
            "Epoch 4/50\n",
            "55/55 [==============================] - 0s 8ms/step - loss: 2.1599e-05\n",
            "Epoch 5/50\n",
            "55/55 [==============================] - 1s 9ms/step - loss: 1.8209e-05\n",
            "Epoch 6/50\n",
            "55/55 [==============================] - 1s 10ms/step - loss: 1.9024e-05\n",
            "Epoch 7/50\n",
            "55/55 [==============================] - 0s 8ms/step - loss: 1.8637e-05\n",
            "Epoch 8/50\n",
            "55/55 [==============================] - 1s 10ms/step - loss: 1.7025e-05\n",
            "Epoch 9/50\n",
            "55/55 [==============================] - 0s 8ms/step - loss: 1.6796e-05\n",
            "Epoch 10/50\n",
            "55/55 [==============================] - 0s 8ms/step - loss: 1.2804e-05\n",
            "Epoch 11/50\n",
            "55/55 [==============================] - 1s 9ms/step - loss: 1.2940e-05\n",
            "Epoch 12/50\n",
            "55/55 [==============================] - 0s 9ms/step - loss: 1.6997e-05\n",
            "Epoch 13/50\n",
            "55/55 [==============================] - 0s 8ms/step - loss: 1.3030e-05\n",
            "Epoch 14/50\n",
            "55/55 [==============================] - 0s 8ms/step - loss: 1.3293e-05\n",
            "Epoch 15/50\n",
            "55/55 [==============================] - 0s 9ms/step - loss: 1.1710e-05\n",
            "Epoch 16/50\n",
            "55/55 [==============================] - 0s 8ms/step - loss: 1.2866e-05\n",
            "Epoch 17/50\n",
            "55/55 [==============================] - 0s 8ms/step - loss: 1.3105e-05\n",
            "Epoch 18/50\n",
            "55/55 [==============================] - 0s 9ms/step - loss: 1.6825e-05\n",
            "Epoch 19/50\n",
            "55/55 [==============================] - 0s 8ms/step - loss: 1.6222e-05\n",
            "Epoch 20/50\n",
            "55/55 [==============================] - 0s 8ms/step - loss: 1.2838e-05\n",
            "Epoch 21/50\n",
            "55/55 [==============================] - 0s 8ms/step - loss: 1.2143e-05\n",
            "Epoch 22/50\n",
            "55/55 [==============================] - 0s 8ms/step - loss: 1.1225e-05\n",
            "Epoch 23/50\n",
            "55/55 [==============================] - 0s 8ms/step - loss: 1.2739e-05\n",
            "Epoch 24/50\n",
            "55/55 [==============================] - 0s 8ms/step - loss: 1.2594e-05\n",
            "Epoch 25/50\n",
            "55/55 [==============================] - 0s 8ms/step - loss: 1.6507e-05\n",
            "Epoch 26/50\n",
            "55/55 [==============================] - 0s 8ms/step - loss: 1.3926e-05\n",
            "Epoch 27/50\n",
            "55/55 [==============================] - 1s 9ms/step - loss: 1.0908e-05\n",
            "Epoch 28/50\n",
            "55/55 [==============================] - 1s 9ms/step - loss: 1.1222e-05\n",
            "Epoch 29/50\n",
            "55/55 [==============================] - 0s 9ms/step - loss: 1.1950e-05\n",
            "Epoch 30/50\n",
            "55/55 [==============================] - 0s 8ms/step - loss: 1.3022e-05\n",
            "Epoch 31/50\n",
            "55/55 [==============================] - 0s 8ms/step - loss: 1.0827e-05\n",
            "Epoch 32/50\n",
            "55/55 [==============================] - 0s 8ms/step - loss: 1.2694e-05\n",
            "Epoch 33/50\n",
            "55/55 [==============================] - 0s 8ms/step - loss: 1.2534e-05\n",
            "Epoch 34/50\n",
            "55/55 [==============================] - 0s 8ms/step - loss: 1.0607e-05\n",
            "Epoch 35/50\n",
            "55/55 [==============================] - 0s 8ms/step - loss: 1.2486e-05\n",
            "Epoch 36/50\n",
            "55/55 [==============================] - 0s 8ms/step - loss: 9.3163e-06\n",
            "Epoch 37/50\n",
            "55/55 [==============================] - 0s 9ms/step - loss: 1.0405e-05\n",
            "Epoch 38/50\n",
            "55/55 [==============================] - 0s 9ms/step - loss: 1.0642e-05\n",
            "Epoch 39/50\n",
            "55/55 [==============================] - 0s 9ms/step - loss: 8.9363e-06\n",
            "Epoch 40/50\n",
            "55/55 [==============================] - 0s 9ms/step - loss: 8.9250e-06\n",
            "Epoch 41/50\n",
            "55/55 [==============================] - 0s 8ms/step - loss: 1.2265e-05\n",
            "Epoch 42/50\n",
            "55/55 [==============================] - 1s 9ms/step - loss: 8.6850e-06\n",
            "Epoch 43/50\n",
            "55/55 [==============================] - 0s 9ms/step - loss: 4.7451e-06\n",
            "Epoch 44/50\n",
            "55/55 [==============================] - 0s 8ms/step - loss: 3.8708e-06\n",
            "Epoch 45/50\n",
            "55/55 [==============================] - 0s 8ms/step - loss: 3.0642e-06\n",
            "Epoch 46/50\n",
            "55/55 [==============================] - 0s 8ms/step - loss: 1.2995e-06\n",
            "Epoch 47/50\n",
            "55/55 [==============================] - 1s 11ms/step - loss: 1.3086e-06\n",
            "Epoch 48/50\n",
            "55/55 [==============================] - 0s 8ms/step - loss: 1.1193e-06\n",
            "Epoch 49/50\n",
            "55/55 [==============================] - 0s 8ms/step - loss: 6.2487e-07\n",
            "Epoch 50/50\n",
            "55/55 [==============================] - 0s 8ms/step - loss: 7.8528e-07\n"
          ],
          "name": "stdout"
        },
        {
          "output_type": "execute_result",
          "data": {
            "text/plain": [
              "<keras.callbacks.callbacks.History at 0x7f3f9bb72048>"
            ]
          },
          "metadata": {
            "tags": []
          },
          "execution_count": 67
        }
      ]
    },
    {
      "cell_type": "code",
      "metadata": {
        "id": "YTcxQNj9jixB",
        "colab_type": "code",
        "colab": {}
      },
      "source": [
        "test_data2 = scaled_data2[training_data_len2-10: , :]\n",
        "x_test2 = []\n",
        "y_test2 = dataset2[training_data_len2:, :]\n",
        "for i in range(10, len(test_data2)):\n",
        "  x_test2.append(test_data2[i-10:i, 0])\n",
        "  "
      ],
      "execution_count": 0,
      "outputs": []
    },
    {
      "cell_type": "code",
      "metadata": {
        "id": "fHlp2hGGjykZ",
        "colab_type": "code",
        "outputId": "5b1aa861-bc96-4cb0-c00f-e9f6e157b9d4",
        "colab": {
          "base_uri": "https://localhost:8080/",
          "height": 34
        }
      },
      "source": [
        "len(test_data2)"
      ],
      "execution_count": 0,
      "outputs": [
        {
          "output_type": "execute_result",
          "data": {
            "text/plain": [
              "37"
            ]
          },
          "metadata": {
            "tags": []
          },
          "execution_count": 69
        }
      ]
    },
    {
      "cell_type": "code",
      "metadata": {
        "id": "wcK2a08jj4hj",
        "colab_type": "code",
        "colab": {}
      },
      "source": [
        "x_test2 = np.array(x_test2)"
      ],
      "execution_count": 0,
      "outputs": []
    },
    {
      "cell_type": "code",
      "metadata": {
        "id": "PDQeRF86j8xY",
        "colab_type": "code",
        "colab": {}
      },
      "source": [
        "x_test2 = np.reshape(x_test2, (x_test2.shape[0], x_test2.shape[1], 1 ))"
      ],
      "execution_count": 0,
      "outputs": []
    },
    {
      "cell_type": "code",
      "metadata": {
        "id": "28zBibWLkCD-",
        "colab_type": "code",
        "colab": {}
      },
      "source": [
        "predictions2 = model.predict(x_test2)\n",
        "predictions2 = scaler2.inverse_transform(predictions2)"
      ],
      "execution_count": 0,
      "outputs": []
    },
    {
      "cell_type": "code",
      "metadata": {
        "id": "6Lbvq9pCkIme",
        "colab_type": "code",
        "outputId": "4bdf7d43-2123-4ad1-b0a3-ece14f2a47f9",
        "colab": {
          "base_uri": "https://localhost:8080/",
          "height": 34
        }
      },
      "source": [
        "rmse = np.sqrt( np.mean( predictions2 - y_test )**2)\n",
        "rmse"
      ],
      "execution_count": 0,
      "outputs": [
        {
          "output_type": "execute_result",
          "data": {
            "text/plain": [
              "5963.649526172214"
            ]
          },
          "metadata": {
            "tags": []
          },
          "execution_count": 74
        }
      ]
    },
    {
      "cell_type": "code",
      "metadata": {
        "id": "zEiYFO0ckPgK",
        "colab_type": "code",
        "outputId": "3841d198-7ccf-444e-8a09-ae5b94a402dd",
        "colab": {
          "base_uri": "https://localhost:8080/",
          "height": 139
        }
      },
      "source": [
        "train2 = data2[:training_data_len2]\n",
        "validontario2 = data2[training_data_len2:]\n",
        "validontario2['Ontario Predicted Deaths'] = predictions2"
      ],
      "execution_count": 0,
      "outputs": [
        {
          "output_type": "stream",
          "text": [
            "/usr/local/lib/python3.6/dist-packages/ipykernel_launcher.py:3: SettingWithCopyWarning: \n",
            "A value is trying to be set on a copy of a slice from a DataFrame.\n",
            "Try using .loc[row_indexer,col_indexer] = value instead\n",
            "\n",
            "See the caveats in the documentation: https://pandas.pydata.org/pandas-docs/stable/user_guide/indexing.html#returning-a-view-versus-a-copy\n",
            "  This is separate from the ipykernel package so we can avoid doing imports until\n"
          ],
          "name": "stderr"
        }
      ]
    },
    {
      "cell_type": "code",
      "metadata": {
        "id": "MMDnw1s7l-KL",
        "colab_type": "code",
        "outputId": "af85b74b-bd72-4274-d036-a5eaac511db5",
        "colab": {
          "base_uri": "https://localhost:8080/",
          "height": 917
        }
      },
      "source": [
        "validontario2\n"
      ],
      "execution_count": 0,
      "outputs": [
        {
          "output_type": "execute_result",
          "data": {
            "text/html": [
              "<div>\n",
              "<style scoped>\n",
              "    .dataframe tbody tr th:only-of-type {\n",
              "        vertical-align: middle;\n",
              "    }\n",
              "\n",
              "    .dataframe tbody tr th {\n",
              "        vertical-align: top;\n",
              "    }\n",
              "\n",
              "    .dataframe thead th {\n",
              "        text-align: right;\n",
              "    }\n",
              "</style>\n",
              "<table border=\"1\" class=\"dataframe\">\n",
              "  <thead>\n",
              "    <tr style=\"text-align: right;\">\n",
              "      <th></th>\n",
              "      <th>Ontario Deaths</th>\n",
              "      <th>Ontario Predicted Deaths</th>\n",
              "    </tr>\n",
              "    <tr>\n",
              "      <th>Dates</th>\n",
              "      <th></th>\n",
              "      <th></th>\n",
              "    </tr>\n",
              "  </thead>\n",
              "  <tbody>\n",
              "    <tr>\n",
              "      <th>03/27/2020</th>\n",
              "      <td>18</td>\n",
              "      <td>12.305456</td>\n",
              "    </tr>\n",
              "    <tr>\n",
              "      <th>03/28/2020</th>\n",
              "      <td>18</td>\n",
              "      <td>17.003265</td>\n",
              "    </tr>\n",
              "    <tr>\n",
              "      <th>03/29/2020</th>\n",
              "      <td>21</td>\n",
              "      <td>20.828114</td>\n",
              "    </tr>\n",
              "    <tr>\n",
              "      <th>03/30/2020</th>\n",
              "      <td>31</td>\n",
              "      <td>24.431778</td>\n",
              "    </tr>\n",
              "    <tr>\n",
              "      <th>03/31/2020</th>\n",
              "      <td>33</td>\n",
              "      <td>30.957291</td>\n",
              "    </tr>\n",
              "    <tr>\n",
              "      <th>04/01/2020</th>\n",
              "      <td>37</td>\n",
              "      <td>37.290581</td>\n",
              "    </tr>\n",
              "    <tr>\n",
              "      <th>04/02/2020</th>\n",
              "      <td>53</td>\n",
              "      <td>43.297703</td>\n",
              "    </tr>\n",
              "    <tr>\n",
              "      <th>04/03/2020</th>\n",
              "      <td>67</td>\n",
              "      <td>53.950474</td>\n",
              "    </tr>\n",
              "    <tr>\n",
              "      <th>04/04/2020</th>\n",
              "      <td>94</td>\n",
              "      <td>68.731575</td>\n",
              "    </tr>\n",
              "    <tr>\n",
              "      <th>04/05/2020</th>\n",
              "      <td>119</td>\n",
              "      <td>91.739983</td>\n",
              "    </tr>\n",
              "    <tr>\n",
              "      <th>04/06/2020</th>\n",
              "      <td>150</td>\n",
              "      <td>121.210144</td>\n",
              "    </tr>\n",
              "    <tr>\n",
              "      <th>04/07/2020</th>\n",
              "      <td>153</td>\n",
              "      <td>157.225189</td>\n",
              "    </tr>\n",
              "    <tr>\n",
              "      <th>04/08/2020</th>\n",
              "      <td>153</td>\n",
              "      <td>185.890045</td>\n",
              "    </tr>\n",
              "    <tr>\n",
              "      <th>04/09/2020</th>\n",
              "      <td>200</td>\n",
              "      <td>203.320938</td>\n",
              "    </tr>\n",
              "    <tr>\n",
              "      <th>04/10/2020</th>\n",
              "      <td>222</td>\n",
              "      <td>231.571854</td>\n",
              "    </tr>\n",
              "    <tr>\n",
              "      <th>04/11/2020</th>\n",
              "      <td>253</td>\n",
              "      <td>263.998230</td>\n",
              "    </tr>\n",
              "    <tr>\n",
              "      <th>04/12/2020</th>\n",
              "      <td>274</td>\n",
              "      <td>301.301117</td>\n",
              "    </tr>\n",
              "    <tr>\n",
              "      <th>04/13/2020</th>\n",
              "      <td>291</td>\n",
              "      <td>338.140747</td>\n",
              "    </tr>\n",
              "    <tr>\n",
              "      <th>04/14/2020</th>\n",
              "      <td>334</td>\n",
              "      <td>371.020721</td>\n",
              "    </tr>\n",
              "    <tr>\n",
              "      <th>04/15/2020</th>\n",
              "      <td>385</td>\n",
              "      <td>411.323425</td>\n",
              "    </tr>\n",
              "    <tr>\n",
              "      <th>04/16/2020</th>\n",
              "      <td>490</td>\n",
              "      <td>463.994476</td>\n",
              "    </tr>\n",
              "    <tr>\n",
              "      <th>04/17/2020</th>\n",
              "      <td>524</td>\n",
              "      <td>550.198547</td>\n",
              "    </tr>\n",
              "    <tr>\n",
              "      <th>04/18/2020</th>\n",
              "      <td>564</td>\n",
              "      <td>636.268250</td>\n",
              "    </tr>\n",
              "    <tr>\n",
              "      <th>04/19/2020</th>\n",
              "      <td>591</td>\n",
              "      <td>713.657288</td>\n",
              "    </tr>\n",
              "    <tr>\n",
              "      <th>04/20/2020</th>\n",
              "      <td>624</td>\n",
              "      <td>776.937744</td>\n",
              "    </tr>\n",
              "    <tr>\n",
              "      <th>04/21/2020</th>\n",
              "      <td>694</td>\n",
              "      <td>830.050903</td>\n",
              "    </tr>\n",
              "    <tr>\n",
              "      <th>04/22/2020</th>\n",
              "      <td>762</td>\n",
              "      <td>891.816956</td>\n",
              "    </tr>\n",
              "  </tbody>\n",
              "</table>\n",
              "</div>"
            ],
            "text/plain": [
              "            Ontario Deaths  Ontario Predicted Deaths\n",
              "Dates                                               \n",
              "03/27/2020              18                 12.305456\n",
              "03/28/2020              18                 17.003265\n",
              "03/29/2020              21                 20.828114\n",
              "03/30/2020              31                 24.431778\n",
              "03/31/2020              33                 30.957291\n",
              "04/01/2020              37                 37.290581\n",
              "04/02/2020              53                 43.297703\n",
              "04/03/2020              67                 53.950474\n",
              "04/04/2020              94                 68.731575\n",
              "04/05/2020             119                 91.739983\n",
              "04/06/2020             150                121.210144\n",
              "04/07/2020             153                157.225189\n",
              "04/08/2020             153                185.890045\n",
              "04/09/2020             200                203.320938\n",
              "04/10/2020             222                231.571854\n",
              "04/11/2020             253                263.998230\n",
              "04/12/2020             274                301.301117\n",
              "04/13/2020             291                338.140747\n",
              "04/14/2020             334                371.020721\n",
              "04/15/2020             385                411.323425\n",
              "04/16/2020             490                463.994476\n",
              "04/17/2020             524                550.198547\n",
              "04/18/2020             564                636.268250\n",
              "04/19/2020             591                713.657288\n",
              "04/20/2020             624                776.937744\n",
              "04/21/2020             694                830.050903\n",
              "04/22/2020             762                891.816956"
            ]
          },
          "metadata": {
            "tags": []
          },
          "execution_count": 76
        }
      ]
    },
    {
      "cell_type": "code",
      "metadata": {
        "id": "POhK4o7PkYpf",
        "colab_type": "code",
        "outputId": "47246046-878b-48e3-9ff5-047c41192df0",
        "colab": {
          "base_uri": "https://localhost:8080/",
          "height": 528
        }
      },
      "source": [
        "plt.figure(figsize=(22,10))\n",
        "plt.title('Model')\n",
        "plt.xlabel('Date', fontsize=12)\n",
        "plt.xticks(rotation=45)\n",
        "plt.ylabel('Ontario Deaths', fontsize=12)\n",
        "plt.plot(train2['Ontario Deaths'])\n",
        "plt.plot(validontario2[['Ontario Deaths', 'Ontario Predicted Deaths']])\n",
        "plt.legend(['Train', 'Val', 'Predictions'], loc='lower right')\n",
        "#plt.savefig('/content/drive/My Drive/figzero.png', dpi=300)\n",
        "plt.show()"
      ],
      "execution_count": 0,
      "outputs": [
        {
          "output_type": "display_data",
          "data": {
            "image/png": "[encoded data removed]",
            "text/plain": [
              "<Figure size 1584x720 with 1 Axes>"
            ]
          },
          "metadata": {
            "tags": [],
            "needs_background": "light"
          }
        }
      ]
    },
    {
      "cell_type": "code",
      "metadata": {
        "id": "MGpjbTvxkjCO",
        "colab_type": "code",
        "outputId": "52271e4f-d7c0-4a82-9cfa-6940de889719",
        "colab": {
          "base_uri": "https://localhost:8080/",
          "height": 553
        }
      },
      "source": [
        "plt.figure(figsize=(16,8))\n",
        "plt.title('Model')\n",
        "plt.xlabel('Date', fontsize=12)\n",
        "plt.xticks(rotation=45)\n",
        "plt.ylabel('Ontario Deaths', fontsize=12)\n",
        "plt.plot(validontario2)\n",
        "plt.legend(['Train', 'Predictions'], loc='lower right')\n",
        "#plt.savefig('/content/drive/My Drive/figone.png', dpi=300)\n",
        "plt.show()"
      ],
      "execution_count": 0,
      "outputs": [
        {
          "output_type": "display_data",
          "data": {
            "image/png": "[encoded data removed]",
            "text/plain": [
              "<Figure size 1152x576 with 1 Axes>"
            ]
          },
          "metadata": {
            "tags": [],
            "needs_background": "light"
          }
        }
      ]
    },
    {
      "cell_type": "code",
      "metadata": {
        "id": "uIkTyNgMu40Q",
        "colab_type": "code",
        "outputId": "56e463ef-796b-41fd-cc49-0ff2202a14af",
        "colab": {
          "base_uri": "https://localhost:8080/",
          "height": 279
        }
      },
      "source": [
        "df3 = dflstm['Ontario Recovered'].plot()\n"
      ],
      "execution_count": 0,
      "outputs": [
        {
          "output_type": "display_data",
          "data": {
            "image/png": "[encoded data removed]",
            "text/plain": [
              "<Figure size 432x288 with 1 Axes>"
            ]
          },
          "metadata": {
            "tags": [],
            "needs_background": "light"
          }
        }
      ]
    },
    {
      "cell_type": "code",
      "metadata": {
        "id": "33KEAANYvHlS",
        "colab_type": "code",
        "colab": {}
      },
      "source": [
        "data3 = dflstm.filter(['Ontario Recovered'])"
      ],
      "execution_count": 0,
      "outputs": []
    },
    {
      "cell_type": "code",
      "metadata": {
        "id": "WfIzbwAkvKKy",
        "colab_type": "code",
        "colab": {}
      },
      "source": [
        "dataset3 = data3.values"
      ],
      "execution_count": 0,
      "outputs": []
    },
    {
      "cell_type": "code",
      "metadata": {
        "id": "1misUtX_vO2Y",
        "colab_type": "code",
        "outputId": "c59590a6-3916-4f31-b13d-56c36507a444",
        "colab": {
          "base_uri": "https://localhost:8080/",
          "height": 34
        }
      },
      "source": [
        "training_data_len3 = math.ceil(len(dataset3) * 0.7)\n",
        "training_data_len3"
      ],
      "execution_count": 0,
      "outputs": [
        {
          "output_type": "execute_result",
          "data": {
            "text/plain": [
              "65"
            ]
          },
          "metadata": {
            "tags": []
          },
          "execution_count": 87
        }
      ]
    },
    {
      "cell_type": "code",
      "metadata": {
        "id": "Roqt7rzhvS7T",
        "colab_type": "code",
        "colab": {}
      },
      "source": [
        "scaler3 = MinMaxScaler(feature_range=(0,1))\n",
        "scaled_data3 = scaler3.fit_transform(dataset3)"
      ],
      "execution_count": 0,
      "outputs": []
    },
    {
      "cell_type": "code",
      "metadata": {
        "id": "8WHRvGS7vZUs",
        "colab_type": "code",
        "outputId": "815f2af5-c8c8-428f-9fcb-90845d89144c",
        "colab": {
          "base_uri": "https://localhost:8080/",
          "height": 1000
        }
      },
      "source": [
        "scaled_data3"
      ],
      "execution_count": 0,
      "outputs": [
        {
          "output_type": "execute_result",
          "data": {
            "text/plain": [
              "array([[0.00000000e+00],\n",
              "       [0.00000000e+00],\n",
              "       [0.00000000e+00],\n",
              "       [0.00000000e+00],\n",
              "       [0.00000000e+00],\n",
              "       [0.00000000e+00],\n",
              "       [0.00000000e+00],\n",
              "       [0.00000000e+00],\n",
              "       [0.00000000e+00],\n",
              "       [0.00000000e+00],\n",
              "       [0.00000000e+00],\n",
              "       [0.00000000e+00],\n",
              "       [0.00000000e+00],\n",
              "       [0.00000000e+00],\n",
              "       [0.00000000e+00],\n",
              "       [0.00000000e+00],\n",
              "       [0.00000000e+00],\n",
              "       [0.00000000e+00],\n",
              "       [0.00000000e+00],\n",
              "       [0.00000000e+00],\n",
              "       [0.00000000e+00],\n",
              "       [6.91850007e-05],\n",
              "       [6.91850007e-05],\n",
              "       [6.91850007e-05],\n",
              "       [6.91850007e-05],\n",
              "       [6.91850007e-05],\n",
              "       [6.91850007e-05],\n",
              "       [6.91850007e-05],\n",
              "       [6.91850007e-05],\n",
              "       [6.91850007e-05],\n",
              "       [2.07555002e-04],\n",
              "       [2.07555002e-04],\n",
              "       [2.07555002e-04],\n",
              "       [2.07555002e-04],\n",
              "       [2.07555002e-04],\n",
              "       [2.07555002e-04],\n",
              "       [4.15110004e-04],\n",
              "       [4.15110004e-04],\n",
              "       [4.15110004e-04],\n",
              "       [4.15110004e-04],\n",
              "       [4.15110004e-04],\n",
              "       [4.15110004e-04],\n",
              "       [4.15110004e-04],\n",
              "       [4.15110004e-04],\n",
              "       [4.15110004e-04],\n",
              "       [5.53480006e-04],\n",
              "       [5.53480006e-04],\n",
              "       [5.53480006e-04],\n",
              "       [5.53480006e-04],\n",
              "       [5.53480006e-04],\n",
              "       [5.53480006e-04],\n",
              "       [5.53480006e-04],\n",
              "       [5.53480006e-04],\n",
              "       [5.53480006e-04],\n",
              "       [6.22665006e-04],\n",
              "       [6.22665006e-04],\n",
              "       [6.22665006e-04],\n",
              "       [6.22665006e-04],\n",
              "       [6.22665006e-04],\n",
              "       [6.91850007e-04],\n",
              "       [6.91850007e-04],\n",
              "       [6.91850007e-04],\n",
              "       [7.61035008e-03],\n",
              "       [1.26608551e-02],\n",
              "       [1.27300401e-02],\n",
              "       [1.77113602e-02],\n",
              "       [3.22402103e-02],\n",
              "       [3.22402103e-02],\n",
              "       [3.22402103e-02],\n",
              "       [1.10142521e-01],\n",
              "       [9.16009409e-02],\n",
              "       [1.20035976e-01],\n",
              "       [1.50477377e-01],\n",
              "       [1.78289747e-01],\n",
              "       [2.08385222e-01],\n",
              "       [2.25266362e-01],\n",
              "       [2.62280338e-01],\n",
              "       [2.87394493e-01],\n",
              "       [3.57132974e-01],\n",
              "       [4.05078179e-01],\n",
              "       [4.55859970e-01],\n",
              "       [4.92804760e-01],\n",
              "       [5.36737235e-01],\n",
              "       [5.68008856e-01],\n",
              "       [6.20312716e-01],\n",
              "       [6.70956137e-01],\n",
              "       [7.29555832e-01],\n",
              "       [7.58544348e-01],\n",
              "       [8.19634703e-01],\n",
              "       [8.67787464e-01],\n",
              "       [9.12411789e-01],\n",
              "       [1.00000000e+00]])"
            ]
          },
          "metadata": {
            "tags": []
          },
          "execution_count": 89
        }
      ]
    },
    {
      "cell_type": "code",
      "metadata": {
        "id": "F_SWz68JvtkZ",
        "colab_type": "code",
        "outputId": "70902d34-3363-4d51-e95e-1be6d9d0eba5",
        "colab": {
          "base_uri": "https://localhost:8080/",
          "height": 68
        }
      },
      "source": [
        "train_data3 = scaled_data3[0:training_data_len2, :]\n",
        "x_train3 = []\n",
        "y_train3 = []\n",
        "\n",
        "for i in range(10, len(train_data3)):\n",
        "  x_train3.append(train_data3[i-10:i, 0])\n",
        "  y_train3.append(train_data3[i, 0])\n",
        "  if i<= 10:\n",
        "    print(x_train3)\n",
        "    print(y_train3)\n",
        "    print()"
      ],
      "execution_count": 0,
      "outputs": [
        {
          "output_type": "stream",
          "text": [
            "[array([0., 0., 0., 0., 0., 0., 0., 0., 0., 0.])]\n",
            "[0.0]\n",
            "\n"
          ],
          "name": "stdout"
        }
      ]
    },
    {
      "cell_type": "code",
      "metadata": {
        "id": "FcSANo8_v3AQ",
        "colab_type": "code",
        "colab": {}
      },
      "source": [
        "x_train3, y_train3 = np.array(x_train3), np.array(y_train3)"
      ],
      "execution_count": 0,
      "outputs": []
    },
    {
      "cell_type": "code",
      "metadata": {
        "id": "MwG9vmdwv8WZ",
        "colab_type": "code",
        "outputId": "c11369e2-f6e7-437c-cc15-8a1da26f4b11",
        "colab": {
          "base_uri": "https://localhost:8080/",
          "height": 34
        }
      },
      "source": [
        "x_train3 = np.reshape(x_train3, (x_train3.shape[0], x_train3.shape[1], 1))\n",
        "x_train3.shape"
      ],
      "execution_count": 0,
      "outputs": [
        {
          "output_type": "execute_result",
          "data": {
            "text/plain": [
              "(55, 10, 1)"
            ]
          },
          "metadata": {
            "tags": []
          },
          "execution_count": 92
        }
      ]
    },
    {
      "cell_type": "code",
      "metadata": {
        "id": "zw0AJyiTwJZ3",
        "colab_type": "code",
        "colab": {}
      },
      "source": [
        "model3 = Sequential()\n",
        "model3.add(LSTM(50, return_sequences=True, input_shape=(x_train2.shape[1], 1)))\n",
        "model3.add(LSTM(50, return_sequences=False))\n",
        "model3.add(Dense(25))\n",
        "model3.add(Dense(1))"
      ],
      "execution_count": 0,
      "outputs": []
    },
    {
      "cell_type": "code",
      "metadata": {
        "id": "EfTCyaTtwQQL",
        "colab_type": "code",
        "colab": {}
      },
      "source": [
        "model3.compile(optimizer='adam', loss='mean_squared_error')\n"
      ],
      "execution_count": 0,
      "outputs": []
    },
    {
      "cell_type": "code",
      "metadata": {
        "id": "t_7YiOvswS8h",
        "colab_type": "code",
        "outputId": "9e362697-ae47-49e4-f498-9f62ea1a9d16",
        "colab": {
          "base_uri": "https://localhost:8080/",
          "height": 1000
        }
      },
      "source": [
        "model3.fit(x_train3, y_train3, batch_size=1, epochs=50)"
      ],
      "execution_count": 0,
      "outputs": [
        {
          "output_type": "stream",
          "text": [
            "Epoch 1/50\n",
            "55/55 [==============================] - 1s 18ms/step - loss: 3.3181e-05\n",
            "Epoch 2/50\n",
            "55/55 [==============================] - 0s 8ms/step - loss: 1.3292e-05\n",
            "Epoch 3/50\n",
            "55/55 [==============================] - 0s 8ms/step - loss: 1.2245e-05\n",
            "Epoch 4/50\n",
            "55/55 [==============================] - 0s 8ms/step - loss: 1.2836e-05\n",
            "Epoch 5/50\n",
            "55/55 [==============================] - 0s 8ms/step - loss: 1.1891e-05\n",
            "Epoch 6/50\n",
            "55/55 [==============================] - 0s 8ms/step - loss: 1.5367e-05\n",
            "Epoch 7/50\n",
            "55/55 [==============================] - 0s 8ms/step - loss: 1.3684e-05\n",
            "Epoch 8/50\n",
            "55/55 [==============================] - 0s 9ms/step - loss: 1.0143e-05\n",
            "Epoch 9/50\n",
            "55/55 [==============================] - 0s 8ms/step - loss: 8.1668e-06\n",
            "Epoch 10/50\n",
            "55/55 [==============================] - 0s 9ms/step - loss: 1.0368e-05\n",
            "Epoch 11/50\n",
            "55/55 [==============================] - 0s 8ms/step - loss: 7.9957e-06\n",
            "Epoch 12/50\n",
            "55/55 [==============================] - 0s 8ms/step - loss: 8.7778e-06\n",
            "Epoch 13/50\n",
            "55/55 [==============================] - 0s 8ms/step - loss: 1.0510e-05\n",
            "Epoch 14/50\n",
            "55/55 [==============================] - 0s 8ms/step - loss: 1.0089e-05\n",
            "Epoch 15/50\n",
            "55/55 [==============================] - 0s 8ms/step - loss: 1.2874e-05\n",
            "Epoch 16/50\n",
            "55/55 [==============================] - 0s 7ms/step - loss: 9.4005e-06\n",
            "Epoch 17/50\n",
            "55/55 [==============================] - 0s 7ms/step - loss: 9.2179e-06\n",
            "Epoch 18/50\n",
            "55/55 [==============================] - 0s 7ms/step - loss: 8.3203e-06\n",
            "Epoch 19/50\n",
            "55/55 [==============================] - 0s 7ms/step - loss: 1.1061e-05\n",
            "Epoch 20/50\n",
            "55/55 [==============================] - 0s 7ms/step - loss: 7.5853e-06\n",
            "Epoch 21/50\n",
            "55/55 [==============================] - 0s 8ms/step - loss: 8.7169e-06\n",
            "Epoch 22/50\n",
            "55/55 [==============================] - 0s 8ms/step - loss: 7.9736e-06\n",
            "Epoch 23/50\n",
            "55/55 [==============================] - 0s 7ms/step - loss: 7.6894e-06\n",
            "Epoch 24/50\n",
            "55/55 [==============================] - 0s 7ms/step - loss: 7.3040e-06\n",
            "Epoch 25/50\n",
            "55/55 [==============================] - 0s 7ms/step - loss: 9.1316e-06\n",
            "Epoch 26/50\n",
            "55/55 [==============================] - 0s 7ms/step - loss: 1.0510e-05\n",
            "Epoch 27/50\n",
            "55/55 [==============================] - 0s 7ms/step - loss: 8.4616e-06\n",
            "Epoch 28/50\n",
            "55/55 [==============================] - 0s 7ms/step - loss: 9.7306e-06\n",
            "Epoch 29/50\n",
            "55/55 [==============================] - 0s 9ms/step - loss: 8.4368e-06\n",
            "Epoch 30/50\n",
            "55/55 [==============================] - 0s 7ms/step - loss: 7.8813e-06\n",
            "Epoch 31/50\n",
            "55/55 [==============================] - 0s 8ms/step - loss: 9.5342e-06\n",
            "Epoch 32/50\n",
            "55/55 [==============================] - 0s 8ms/step - loss: 7.9833e-06\n",
            "Epoch 33/50\n",
            "55/55 [==============================] - 0s 7ms/step - loss: 8.8752e-06\n",
            "Epoch 34/50\n",
            "55/55 [==============================] - 0s 7ms/step - loss: 6.8607e-06\n",
            "Epoch 35/50\n",
            "55/55 [==============================] - 0s 7ms/step - loss: 8.5476e-06\n",
            "Epoch 36/50\n",
            "55/55 [==============================] - 0s 9ms/step - loss: 8.0137e-06\n",
            "Epoch 37/50\n",
            "55/55 [==============================] - 0s 8ms/step - loss: 8.1001e-06\n",
            "Epoch 38/50\n",
            "55/55 [==============================] - 0s 7ms/step - loss: 7.7872e-06\n",
            "Epoch 39/50\n",
            "55/55 [==============================] - 0s 8ms/step - loss: 7.5093e-06\n",
            "Epoch 40/50\n",
            "55/55 [==============================] - 0s 7ms/step - loss: 7.0232e-06\n",
            "Epoch 41/50\n",
            "55/55 [==============================] - 0s 7ms/step - loss: 7.2810e-06\n",
            "Epoch 42/50\n",
            "55/55 [==============================] - 0s 7ms/step - loss: 7.7492e-06\n",
            "Epoch 43/50\n",
            "55/55 [==============================] - 0s 7ms/step - loss: 7.4047e-06\n",
            "Epoch 44/50\n",
            "55/55 [==============================] - 0s 7ms/step - loss: 8.5322e-06\n",
            "Epoch 45/50\n",
            "55/55 [==============================] - 0s 7ms/step - loss: 7.9687e-06\n",
            "Epoch 46/50\n",
            "55/55 [==============================] - 0s 7ms/step - loss: 7.6921e-06\n",
            "Epoch 47/50\n",
            "55/55 [==============================] - 0s 8ms/step - loss: 8.3425e-06\n",
            "Epoch 48/50\n",
            "55/55 [==============================] - 0s 7ms/step - loss: 8.1956e-06\n",
            "Epoch 49/50\n",
            "55/55 [==============================] - 0s 8ms/step - loss: 8.0169e-06\n",
            "Epoch 50/50\n",
            "55/55 [==============================] - 0s 7ms/step - loss: 8.1685e-06\n"
          ],
          "name": "stdout"
        },
        {
          "output_type": "execute_result",
          "data": {
            "text/plain": [
              "<keras.callbacks.callbacks.History at 0x7f3f9c11ca20>"
            ]
          },
          "metadata": {
            "tags": []
          },
          "execution_count": 95
        }
      ]
    },
    {
      "cell_type": "code",
      "metadata": {
        "id": "vPX497rhwaBP",
        "colab_type": "code",
        "colab": {}
      },
      "source": [
        "test_data3 = scaled_data3[training_data_len3-10: , :]\n",
        "x_test3 = []\n",
        "y_test3 = dataset3[training_data_len3:, :]\n",
        "for i in range(10, len(test_data3)):\n",
        "  x_test3.append(test_data2[i-10:i, 0])\n",
        "  "
      ],
      "execution_count": 0,
      "outputs": []
    },
    {
      "cell_type": "code",
      "metadata": {
        "id": "oGMhAOF3wjQJ",
        "colab_type": "code",
        "outputId": "870c6ea3-a6dd-41bf-9a09-7e6766a7282c",
        "colab": {
          "base_uri": "https://localhost:8080/",
          "height": 34
        }
      },
      "source": [
        "len(test_data3)"
      ],
      "execution_count": 0,
      "outputs": [
        {
          "output_type": "execute_result",
          "data": {
            "text/plain": [
              "37"
            ]
          },
          "metadata": {
            "tags": []
          },
          "execution_count": 97
        }
      ]
    },
    {
      "cell_type": "code",
      "metadata": {
        "id": "RDnL7cn6wgvK",
        "colab_type": "code",
        "colab": {}
      },
      "source": [
        "x_test3 = np.array(x_test3)"
      ],
      "execution_count": 0,
      "outputs": []
    },
    {
      "cell_type": "code",
      "metadata": {
        "id": "gB1EzMc4wk53",
        "colab_type": "code",
        "colab": {}
      },
      "source": [
        "x_test3 = np.reshape(x_test3, (x_test3.shape[0], x_test3.shape[1], 1 ))"
      ],
      "execution_count": 0,
      "outputs": []
    },
    {
      "cell_type": "code",
      "metadata": {
        "id": "dsA-BhYEwmsL",
        "colab_type": "code",
        "colab": {}
      },
      "source": [
        "predictions3 = model.predict(x_test3)\n",
        "predictions3 = scaler3.inverse_transform(predictions3)"
      ],
      "execution_count": 0,
      "outputs": []
    },
    {
      "cell_type": "code",
      "metadata": {
        "id": "-TC_NS_Vwpik",
        "colab_type": "code",
        "outputId": "71516b79-2870-40a5-b477-a9c31460d33b",
        "colab": {
          "base_uri": "https://localhost:8080/",
          "height": 34
        }
      },
      "source": [
        "rmse = np.sqrt( np.mean( predictions3 - y_test )**2)\n",
        "rmse"
      ],
      "execution_count": 0,
      "outputs": [
        {
          "output_type": "execute_result",
          "data": {
            "text/plain": [
              "740.4964746545862"
            ]
          },
          "metadata": {
            "tags": []
          },
          "execution_count": 102
        }
      ]
    },
    {
      "cell_type": "code",
      "metadata": {
        "id": "S8fGZGhJwrO8",
        "colab_type": "code",
        "outputId": "7cfb88be-445b-4ce7-bdb2-e911f827d6de",
        "colab": {
          "base_uri": "https://localhost:8080/",
          "height": 139
        }
      },
      "source": [
        "train3 = data3[:training_data_len3]\n",
        "validontario3 = data3[training_data_len3:]\n",
        "validontario3['Ontario Predicted Recovered'] = predictions3"
      ],
      "execution_count": 0,
      "outputs": [
        {
          "output_type": "stream",
          "text": [
            "/usr/local/lib/python3.6/dist-packages/ipykernel_launcher.py:3: SettingWithCopyWarning: \n",
            "A value is trying to be set on a copy of a slice from a DataFrame.\n",
            "Try using .loc[row_indexer,col_indexer] = value instead\n",
            "\n",
            "See the caveats in the documentation: https://pandas.pydata.org/pandas-docs/stable/user_guide/indexing.html#returning-a-view-versus-a-copy\n",
            "  This is separate from the ipykernel package so we can avoid doing imports until\n"
          ],
          "name": "stderr"
        }
      ]
    },
    {
      "cell_type": "code",
      "metadata": {
        "id": "XikMz-HIwyXq",
        "colab_type": "code",
        "outputId": "4038a59f-e539-4481-a912-21c4b076146b",
        "colab": {
          "base_uri": "https://localhost:8080/",
          "height": 917
        }
      },
      "source": [
        "validontario3\n"
      ],
      "execution_count": 0,
      "outputs": [
        {
          "output_type": "execute_result",
          "data": {
            "text/html": [
              "<div>\n",
              "<style scoped>\n",
              "    .dataframe tbody tr th:only-of-type {\n",
              "        vertical-align: middle;\n",
              "    }\n",
              "\n",
              "    .dataframe tbody tr th {\n",
              "        vertical-align: top;\n",
              "    }\n",
              "\n",
              "    .dataframe thead th {\n",
              "        text-align: right;\n",
              "    }\n",
              "</style>\n",
              "<table border=\"1\" class=\"dataframe\">\n",
              "  <thead>\n",
              "    <tr style=\"text-align: right;\">\n",
              "      <th></th>\n",
              "      <th>Ontario Recovered</th>\n",
              "      <th>Ontario Predicted Recovered</th>\n",
              "    </tr>\n",
              "    <tr>\n",
              "      <th>Dates</th>\n",
              "      <th></th>\n",
              "      <th></th>\n",
              "    </tr>\n",
              "  </thead>\n",
              "  <tbody>\n",
              "    <tr>\n",
              "      <th>03/27/2020</th>\n",
              "      <td>256</td>\n",
              "      <td>233.416107</td>\n",
              "    </tr>\n",
              "    <tr>\n",
              "      <th>03/28/2020</th>\n",
              "      <td>466</td>\n",
              "      <td>322.526520</td>\n",
              "    </tr>\n",
              "    <tr>\n",
              "      <th>03/29/2020</th>\n",
              "      <td>466</td>\n",
              "      <td>395.078125</td>\n",
              "    </tr>\n",
              "    <tr>\n",
              "      <th>03/30/2020</th>\n",
              "      <td>466</td>\n",
              "      <td>463.434296</td>\n",
              "    </tr>\n",
              "    <tr>\n",
              "      <th>03/31/2020</th>\n",
              "      <td>1592</td>\n",
              "      <td>587.213501</td>\n",
              "    </tr>\n",
              "    <tr>\n",
              "      <th>04/01/2020</th>\n",
              "      <td>1324</td>\n",
              "      <td>707.346497</td>\n",
              "    </tr>\n",
              "    <tr>\n",
              "      <th>04/02/2020</th>\n",
              "      <td>1735</td>\n",
              "      <td>821.292664</td>\n",
              "    </tr>\n",
              "    <tr>\n",
              "      <th>04/03/2020</th>\n",
              "      <td>2175</td>\n",
              "      <td>1023.359741</td>\n",
              "    </tr>\n",
              "    <tr>\n",
              "      <th>04/04/2020</th>\n",
              "      <td>2577</td>\n",
              "      <td>1303.735229</td>\n",
              "    </tr>\n",
              "    <tr>\n",
              "      <th>04/05/2020</th>\n",
              "      <td>3012</td>\n",
              "      <td>1740.170288</td>\n",
              "    </tr>\n",
              "    <tr>\n",
              "      <th>04/06/2020</th>\n",
              "      <td>3256</td>\n",
              "      <td>2299.175049</td>\n",
              "    </tr>\n",
              "    <tr>\n",
              "      <th>04/07/2020</th>\n",
              "      <td>3791</td>\n",
              "      <td>2982.326660</td>\n",
              "    </tr>\n",
              "    <tr>\n",
              "      <th>04/08/2020</th>\n",
              "      <td>4154</td>\n",
              "      <td>3526.055908</td>\n",
              "    </tr>\n",
              "    <tr>\n",
              "      <th>04/09/2020</th>\n",
              "      <td>5162</td>\n",
              "      <td>3856.694092</td>\n",
              "    </tr>\n",
              "    <tr>\n",
              "      <th>04/10/2020</th>\n",
              "      <td>5855</td>\n",
              "      <td>4392.571289</td>\n",
              "    </tr>\n",
              "    <tr>\n",
              "      <th>04/11/2020</th>\n",
              "      <td>6589</td>\n",
              "      <td>5007.651855</td>\n",
              "    </tr>\n",
              "    <tr>\n",
              "      <th>04/12/2020</th>\n",
              "      <td>7123</td>\n",
              "      <td>5715.231445</td>\n",
              "    </tr>\n",
              "    <tr>\n",
              "      <th>04/13/2020</th>\n",
              "      <td>7758</td>\n",
              "      <td>6414.023926</td>\n",
              "    </tr>\n",
              "    <tr>\n",
              "      <th>04/14/2020</th>\n",
              "      <td>8210</td>\n",
              "      <td>7037.707520</td>\n",
              "    </tr>\n",
              "    <tr>\n",
              "      <th>04/15/2020</th>\n",
              "      <td>8966</td>\n",
              "      <td>7802.189941</td>\n",
              "    </tr>\n",
              "    <tr>\n",
              "      <th>04/16/2020</th>\n",
              "      <td>9698</td>\n",
              "      <td>8801.281250</td>\n",
              "    </tr>\n",
              "    <tr>\n",
              "      <th>04/17/2020</th>\n",
              "      <td>10545</td>\n",
              "      <td>10436.442383</td>\n",
              "    </tr>\n",
              "    <tr>\n",
              "      <th>04/18/2020</th>\n",
              "      <td>10964</td>\n",
              "      <td>12069.056641</td>\n",
              "    </tr>\n",
              "    <tr>\n",
              "      <th>04/19/2020</th>\n",
              "      <td>11847</td>\n",
              "      <td>13537.010742</td>\n",
              "    </tr>\n",
              "    <tr>\n",
              "      <th>04/20/2020</th>\n",
              "      <td>12543</td>\n",
              "      <td>14737.346680</td>\n",
              "    </tr>\n",
              "    <tr>\n",
              "      <th>04/21/2020</th>\n",
              "      <td>13188</td>\n",
              "      <td>15744.823242</td>\n",
              "    </tr>\n",
              "    <tr>\n",
              "      <th>04/22/2020</th>\n",
              "      <td>14454</td>\n",
              "      <td>16916.433594</td>\n",
              "    </tr>\n",
              "  </tbody>\n",
              "</table>\n",
              "</div>"
            ],
            "text/plain": [
              "            Ontario Recovered  Ontario Predicted Recovered\n",
              "Dates                                                     \n",
              "03/27/2020                256                   233.416107\n",
              "03/28/2020                466                   322.526520\n",
              "03/29/2020                466                   395.078125\n",
              "03/30/2020                466                   463.434296\n",
              "03/31/2020               1592                   587.213501\n",
              "04/01/2020               1324                   707.346497\n",
              "04/02/2020               1735                   821.292664\n",
              "04/03/2020               2175                  1023.359741\n",
              "04/04/2020               2577                  1303.735229\n",
              "04/05/2020               3012                  1740.170288\n",
              "04/06/2020               3256                  2299.175049\n",
              "04/07/2020               3791                  2982.326660\n",
              "04/08/2020               4154                  3526.055908\n",
              "04/09/2020               5162                  3856.694092\n",
              "04/10/2020               5855                  4392.571289\n",
              "04/11/2020               6589                  5007.651855\n",
              "04/12/2020               7123                  5715.231445\n",
              "04/13/2020               7758                  6414.023926\n",
              "04/14/2020               8210                  7037.707520\n",
              "04/15/2020               8966                  7802.189941\n",
              "04/16/2020               9698                  8801.281250\n",
              "04/17/2020              10545                 10436.442383\n",
              "04/18/2020              10964                 12069.056641\n",
              "04/19/2020              11847                 13537.010742\n",
              "04/20/2020              12543                 14737.346680\n",
              "04/21/2020              13188                 15744.823242\n",
              "04/22/2020              14454                 16916.433594"
            ]
          },
          "metadata": {
            "tags": []
          },
          "execution_count": 104
        }
      ]
    },
    {
      "cell_type": "code",
      "metadata": {
        "id": "pN95bhB2az64",
        "colab_type": "code",
        "outputId": "34bb77a6-f287-49e8-9d77-556e989c7e2b",
        "colab": {
          "base_uri": "https://localhost:8080/",
          "height": 297
        }
      },
      "source": [
        "validontario3.plot()"
      ],
      "execution_count": 0,
      "outputs": [
        {
          "output_type": "execute_result",
          "data": {
            "text/plain": [
              "<matplotlib.axes._subplots.AxesSubplot at 0x7f3f9b3a4358>"
            ]
          },
          "metadata": {
            "tags": []
          },
          "execution_count": 105
        },
        {
          "output_type": "display_data",
          "data": {
            "image/png": "[encoded data removed]",
            "text/plain": [
              "<Figure size 432x288 with 1 Axes>"
            ]
          },
          "metadata": {
            "tags": [],
            "needs_background": "light"
          }
        }
      ]
    },
    {
      "cell_type": "code",
      "metadata": {
        "id": "h79Ah8rqxYF6",
        "colab_type": "code",
        "outputId": "143ab3ef-1042-4254-8354-fd7e0ffc7bb4",
        "colab": {
          "base_uri": "https://localhost:8080/",
          "height": 934
        }
      },
      "source": [
        "valid_final_lstm = validontario1.join(validontario2.join(validontario3))\n",
        "valid_final_lstm"
      ],
      "execution_count": 0,
      "outputs": [
        {
          "output_type": "execute_result",
          "data": {
            "text/html": [
              "<div>\n",
              "<style scoped>\n",
              "    .dataframe tbody tr th:only-of-type {\n",
              "        vertical-align: middle;\n",
              "    }\n",
              "\n",
              "    .dataframe tbody tr th {\n",
              "        vertical-align: top;\n",
              "    }\n",
              "\n",
              "    .dataframe thead th {\n",
              "        text-align: right;\n",
              "    }\n",
              "</style>\n",
              "<table border=\"1\" class=\"dataframe\">\n",
              "  <thead>\n",
              "    <tr style=\"text-align: right;\">\n",
              "      <th></th>\n",
              "      <th>Ontario Confirmed Cases</th>\n",
              "      <th>Ontario Predicted Cases</th>\n",
              "      <th>Ontario Deaths</th>\n",
              "      <th>Ontario Predicted Deaths</th>\n",
              "      <th>Ontario Recovered</th>\n",
              "      <th>Ontario Predicted Recovered</th>\n",
              "    </tr>\n",
              "    <tr>\n",
              "      <th>Dates</th>\n",
              "      <th></th>\n",
              "      <th></th>\n",
              "      <th></th>\n",
              "      <th></th>\n",
              "      <th></th>\n",
              "      <th></th>\n",
              "    </tr>\n",
              "  </thead>\n",
              "  <tbody>\n",
              "    <tr>\n",
              "      <th>03/27/2020</th>\n",
              "      <td>994</td>\n",
              "      <td>929.767883</td>\n",
              "      <td>18</td>\n",
              "      <td>12.305456</td>\n",
              "      <td>256</td>\n",
              "      <td>233.416107</td>\n",
              "    </tr>\n",
              "    <tr>\n",
              "      <th>03/28/2020</th>\n",
              "      <td>1144</td>\n",
              "      <td>1107.198975</td>\n",
              "      <td>18</td>\n",
              "      <td>17.003265</td>\n",
              "      <td>466</td>\n",
              "      <td>322.526520</td>\n",
              "    </tr>\n",
              "    <tr>\n",
              "      <th>03/29/2020</th>\n",
              "      <td>1355</td>\n",
              "      <td>1301.110352</td>\n",
              "      <td>21</td>\n",
              "      <td>20.828114</td>\n",
              "      <td>466</td>\n",
              "      <td>395.078125</td>\n",
              "    </tr>\n",
              "    <tr>\n",
              "      <th>03/30/2020</th>\n",
              "      <td>1706</td>\n",
              "      <td>1529.473267</td>\n",
              "      <td>31</td>\n",
              "      <td>24.431778</td>\n",
              "      <td>466</td>\n",
              "      <td>463.434296</td>\n",
              "    </tr>\n",
              "    <tr>\n",
              "      <th>03/31/2020</th>\n",
              "      <td>1966</td>\n",
              "      <td>1846.897217</td>\n",
              "      <td>33</td>\n",
              "      <td>30.957291</td>\n",
              "      <td>1592</td>\n",
              "      <td>587.213501</td>\n",
              "    </tr>\n",
              "    <tr>\n",
              "      <th>04/01/2020</th>\n",
              "      <td>2392</td>\n",
              "      <td>2207.720947</td>\n",
              "      <td>37</td>\n",
              "      <td>37.290581</td>\n",
              "      <td>1324</td>\n",
              "      <td>707.346497</td>\n",
              "    </tr>\n",
              "    <tr>\n",
              "      <th>04/02/2020</th>\n",
              "      <td>2793</td>\n",
              "      <td>2654.145264</td>\n",
              "      <td>53</td>\n",
              "      <td>43.297703</td>\n",
              "      <td>1735</td>\n",
              "      <td>821.292664</td>\n",
              "    </tr>\n",
              "    <tr>\n",
              "      <th>04/03/2020</th>\n",
              "      <td>3255</td>\n",
              "      <td>3165.158691</td>\n",
              "      <td>67</td>\n",
              "      <td>53.950474</td>\n",
              "      <td>2175</td>\n",
              "      <td>1023.359741</td>\n",
              "    </tr>\n",
              "    <tr>\n",
              "      <th>04/04/2020</th>\n",
              "      <td>3630</td>\n",
              "      <td>3740.928223</td>\n",
              "      <td>94</td>\n",
              "      <td>68.731575</td>\n",
              "      <td>2577</td>\n",
              "      <td>1303.735229</td>\n",
              "    </tr>\n",
              "    <tr>\n",
              "      <th>04/05/2020</th>\n",
              "      <td>4354</td>\n",
              "      <td>4325.064941</td>\n",
              "      <td>119</td>\n",
              "      <td>91.739983</td>\n",
              "      <td>3012</td>\n",
              "      <td>1740.170288</td>\n",
              "    </tr>\n",
              "    <tr>\n",
              "      <th>04/06/2020</th>\n",
              "      <td>4347</td>\n",
              "      <td>5047.013672</td>\n",
              "      <td>150</td>\n",
              "      <td>121.210144</td>\n",
              "      <td>3256</td>\n",
              "      <td>2299.175049</td>\n",
              "    </tr>\n",
              "    <tr>\n",
              "      <th>04/07/2020</th>\n",
              "      <td>4726</td>\n",
              "      <td>5592.422363</td>\n",
              "      <td>153</td>\n",
              "      <td>157.225189</td>\n",
              "      <td>3791</td>\n",
              "      <td>2982.326660</td>\n",
              "    </tr>\n",
              "    <tr>\n",
              "      <th>04/08/2020</th>\n",
              "      <td>5276</td>\n",
              "      <td>6074.551758</td>\n",
              "      <td>153</td>\n",
              "      <td>185.890045</td>\n",
              "      <td>4154</td>\n",
              "      <td>3526.055908</td>\n",
              "    </tr>\n",
              "    <tr>\n",
              "      <th>04/09/2020</th>\n",
              "      <td>5759</td>\n",
              "      <td>6623.290039</td>\n",
              "      <td>200</td>\n",
              "      <td>203.320938</td>\n",
              "      <td>5162</td>\n",
              "      <td>3856.694092</td>\n",
              "    </tr>\n",
              "    <tr>\n",
              "      <th>04/10/2020</th>\n",
              "      <td>6237</td>\n",
              "      <td>7235.541504</td>\n",
              "      <td>222</td>\n",
              "      <td>231.571854</td>\n",
              "      <td>5855</td>\n",
              "      <td>4392.571289</td>\n",
              "    </tr>\n",
              "    <tr>\n",
              "      <th>04/11/2020</th>\n",
              "      <td>6648</td>\n",
              "      <td>7889.263672</td>\n",
              "      <td>253</td>\n",
              "      <td>263.998230</td>\n",
              "      <td>6589</td>\n",
              "      <td>5007.651855</td>\n",
              "    </tr>\n",
              "    <tr>\n",
              "      <th>04/12/2020</th>\n",
              "      <td>7049</td>\n",
              "      <td>8539.208984</td>\n",
              "      <td>274</td>\n",
              "      <td>301.301117</td>\n",
              "      <td>7123</td>\n",
              "      <td>5715.231445</td>\n",
              "    </tr>\n",
              "    <tr>\n",
              "      <th>04/13/2020</th>\n",
              "      <td>7470</td>\n",
              "      <td>9165.745117</td>\n",
              "      <td>291</td>\n",
              "      <td>338.140747</td>\n",
              "      <td>7758</td>\n",
              "      <td>6414.023926</td>\n",
              "    </tr>\n",
              "    <tr>\n",
              "      <th>04/14/2020</th>\n",
              "      <td>7953</td>\n",
              "      <td>9778.086914</td>\n",
              "      <td>334</td>\n",
              "      <td>371.020721</td>\n",
              "      <td>8210</td>\n",
              "      <td>7037.707520</td>\n",
              "    </tr>\n",
              "    <tr>\n",
              "      <th>04/15/2020</th>\n",
              "      <td>8447</td>\n",
              "      <td>10408.235352</td>\n",
              "      <td>385</td>\n",
              "      <td>411.323425</td>\n",
              "      <td>8966</td>\n",
              "      <td>7802.189941</td>\n",
              "    </tr>\n",
              "    <tr>\n",
              "      <th>04/16/2020</th>\n",
              "      <td>9840</td>\n",
              "      <td>11070.059570</td>\n",
              "      <td>490</td>\n",
              "      <td>463.994476</td>\n",
              "      <td>9698</td>\n",
              "      <td>8801.281250</td>\n",
              "    </tr>\n",
              "    <tr>\n",
              "      <th>04/17/2020</th>\n",
              "      <td>10456</td>\n",
              "      <td>12126.236328</td>\n",
              "      <td>524</td>\n",
              "      <td>550.198547</td>\n",
              "      <td>10545</td>\n",
              "      <td>10436.442383</td>\n",
              "    </tr>\n",
              "    <tr>\n",
              "      <th>04/18/2020</th>\n",
              "      <td>11013</td>\n",
              "      <td>13263.142578</td>\n",
              "      <td>564</td>\n",
              "      <td>636.268250</td>\n",
              "      <td>10964</td>\n",
              "      <td>12069.056641</td>\n",
              "    </tr>\n",
              "    <tr>\n",
              "      <th>04/19/2020</th>\n",
              "      <td>11561</td>\n",
              "      <td>14328.248047</td>\n",
              "      <td>591</td>\n",
              "      <td>713.657288</td>\n",
              "      <td>11847</td>\n",
              "      <td>13537.010742</td>\n",
              "    </tr>\n",
              "    <tr>\n",
              "      <th>04/20/2020</th>\n",
              "      <td>12063</td>\n",
              "      <td>15283.880859</td>\n",
              "      <td>624</td>\n",
              "      <td>776.937744</td>\n",
              "      <td>12543</td>\n",
              "      <td>14737.346680</td>\n",
              "    </tr>\n",
              "    <tr>\n",
              "      <th>04/21/2020</th>\n",
              "      <td>12715</td>\n",
              "      <td>16127.646484</td>\n",
              "      <td>694</td>\n",
              "      <td>830.050903</td>\n",
              "      <td>13188</td>\n",
              "      <td>15744.823242</td>\n",
              "    </tr>\n",
              "    <tr>\n",
              "      <th>04/22/2020</th>\n",
              "      <td>13718</td>\n",
              "      <td>16944.939453</td>\n",
              "      <td>762</td>\n",
              "      <td>891.816956</td>\n",
              "      <td>14454</td>\n",
              "      <td>16916.433594</td>\n",
              "    </tr>\n",
              "  </tbody>\n",
              "</table>\n",
              "</div>"
            ],
            "text/plain": [
              "            Ontario Confirmed Cases  ...  Ontario Predicted Recovered\n",
              "Dates                                ...                             \n",
              "03/27/2020                      994  ...                   233.416107\n",
              "03/28/2020                     1144  ...                   322.526520\n",
              "03/29/2020                     1355  ...                   395.078125\n",
              "03/30/2020                     1706  ...                   463.434296\n",
              "03/31/2020                     1966  ...                   587.213501\n",
              "04/01/2020                     2392  ...                   707.346497\n",
              "04/02/2020                     2793  ...                   821.292664\n",
              "04/03/2020                     3255  ...                  1023.359741\n",
              "04/04/2020                     3630  ...                  1303.735229\n",
              "04/05/2020                     4354  ...                  1740.170288\n",
              "04/06/2020                     4347  ...                  2299.175049\n",
              "04/07/2020                     4726  ...                  2982.326660\n",
              "04/08/2020                     5276  ...                  3526.055908\n",
              "04/09/2020                     5759  ...                  3856.694092\n",
              "04/10/2020                     6237  ...                  4392.571289\n",
              "04/11/2020                     6648  ...                  5007.651855\n",
              "04/12/2020                     7049  ...                  5715.231445\n",
              "04/13/2020                     7470  ...                  6414.023926\n",
              "04/14/2020                     7953  ...                  7037.707520\n",
              "04/15/2020                     8447  ...                  7802.189941\n",
              "04/16/2020                     9840  ...                  8801.281250\n",
              "04/17/2020                    10456  ...                 10436.442383\n",
              "04/18/2020                    11013  ...                 12069.056641\n",
              "04/19/2020                    11561  ...                 13537.010742\n",
              "04/20/2020                    12063  ...                 14737.346680\n",
              "04/21/2020                    12715  ...                 15744.823242\n",
              "04/22/2020                    13718  ...                 16916.433594\n",
              "\n",
              "[27 rows x 6 columns]"
            ]
          },
          "metadata": {
            "tags": []
          },
          "execution_count": 106
        }
      ]
    },
    {
      "cell_type": "code",
      "metadata": {
        "id": "IYryGtHwygQw",
        "colab_type": "code",
        "outputId": "13ac0254-dbd7-4ff0-dd55-ceca39931b19",
        "colab": {
          "base_uri": "https://localhost:8080/",
          "height": 297
        }
      },
      "source": [
        "valid_final_lstm.plot()"
      ],
      "execution_count": 0,
      "outputs": [
        {
          "output_type": "execute_result",
          "data": {
            "text/plain": [
              "<matplotlib.axes._subplots.AxesSubplot at 0x7f3f9b2c0080>"
            ]
          },
          "metadata": {
            "tags": []
          },
          "execution_count": 107
        },
        {
          "output_type": "display_data",
          "data": {
            "image/png": "[encoded data removed]",
            "text/plain": [
              "<Figure size 432x288 with 1 Axes>"
            ]
          },
          "metadata": {
            "tags": [],
            "needs_background": "light"
          }
        }
      ]
    },
    {
      "cell_type": "code",
      "metadata": {
        "id": "g0yuu6mH-Ax4",
        "colab_type": "code",
        "colab": {}
      },
      "source": [
        "from sklearn.metrics import *"
      ],
      "execution_count": 0,
      "outputs": []
    },
    {
      "cell_type": "code",
      "metadata": {
        "id": "8gh57seZzS38",
        "colab_type": "code",
        "colab": {}
      },
      "source": [
        "score = r2_score(valid_final_lstm['Ontario Confirmed Cases'], valid_final_lstm['Ontario Predicted Cases'])\n",
        "score"
      ],
      "execution_count": 0,
      "outputs": []
    },
    {
      "cell_type": "code",
      "metadata": {
        "id": "gZwoa2qLzmo5",
        "colab_type": "code",
        "outputId": "4da88bed-a467-47f5-bbb4-adb13fc12f85",
        "colab": {
          "base_uri": "https://localhost:8080/",
          "height": 34
        }
      },
      "source": [
        "score1 = r2_score(valid_final_lstm['Ontario Deaths'], valid_final_lstm['Ontario Predicted Deaths'])\n",
        "score1"
      ],
      "execution_count": 0,
      "outputs": [
        {
          "output_type": "execute_result",
          "data": {
            "text/plain": [
              "0.9368773536256461"
            ]
          },
          "metadata": {
            "tags": []
          },
          "execution_count": 110
        }
      ]
    },
    {
      "cell_type": "code",
      "metadata": {
        "id": "kN7yOIymzv1s",
        "colab_type": "code",
        "outputId": "24cb3065-d61f-42cb-f009-bbeaf5be2b0e",
        "colab": {
          "base_uri": "https://localhost:8080/",
          "height": 34
        }
      },
      "source": [
        "score3 = r2_score(valid_final_lstm['Ontario Recovered'], valid_final_lstm['Ontario Predicted Recovered'])\n",
        "score3"
      ],
      "execution_count": 0,
      "outputs": [
        {
          "output_type": "execute_result",
          "data": {
            "text/plain": [
              "0.9143491422851617"
            ]
          },
          "metadata": {
            "tags": []
          },
          "execution_count": 111
        }
      ]
    },
    {
      "cell_type": "code",
      "metadata": {
        "id": "-rlKA3Pjz4Ch",
        "colab_type": "code",
        "outputId": "2e90d1f1-4526-4501-a74d-083dbb430967",
        "colab": {
          "base_uri": "https://localhost:8080/",
          "height": 34
        }
      },
      "source": [
        "Average = (score + score1 + score3) / 3\n",
        "Average"
      ],
      "execution_count": 0,
      "outputs": [
        {
          "output_type": "execute_result",
          "data": {
            "text/plain": [
              "0.893547613871351"
            ]
          },
          "metadata": {
            "tags": []
          },
          "execution_count": 112
        }
      ]
    },
    {
      "cell_type": "code",
      "metadata": {
        "id": "Mqt8g3pqcquP",
        "colab_type": "code",
        "outputId": "db73205a-f400-4dea-a31f-b060a9a7e70a",
        "colab": {
          "base_uri": "https://localhost:8080/",
          "height": 607
        }
      },
      "source": [
        "import matplotlib.pyplot as plt\n",
        "fig,a =  plt.subplots(2,2,figsize=(15,10))\n",
        "#plt.xticks([1,2,3], [1,2,3], [1,2,3], [1,2,3]) #['jan', 'March', 'April'], ['jan', 'March', 'April'], ['jan', 'March', 'April'])\n",
        "plt.setp(a, xticks=[0, 12, 26], xticklabels=['27th March', '10th April', '22nd April'])\n",
        "\n",
        "a[0][0].plot(valid_final_lstm['Ontario Confirmed Cases']) \n",
        "a[0][0].plot(valid_final_lstm['Ontario Predicted Cases'])\n",
        "a[0][0].legend(['Ontario Confirmed Cases','Ontario Predicted Cases'], loc=\"upper left\")\n",
        "a[0][0].set_title('LSTM: Ontario Confirmed Cases Vs Ontario Predicted Cases')\n",
        "a[0][1].plot(valid_final_lstm['Ontario Deaths'])\n",
        "a[0][1].plot(valid_final_lstm['Ontario Predicted Deaths'])\n",
        "a[0][1].legend(['Ontario Death Cases','Ontario Predicted Death'], loc=\"upper left\")\n",
        "a[0][1].set_title('LSTM: Ontario Deaths Vs Ontario Predicted Deaths')\n",
        "a[1][0].plot(valid_final_lstm['Ontario Recovered'])\n",
        "a[1][0].plot(valid_final_lstm['Ontario Predicted Recovered'])\n",
        "a[1][0].legend(['Ontario Recovered Cases','Ontario Predicted Recovered'], loc=\"center left\")\n",
        "a[1][0].set_title('LSTM: Ontario Recovered Vs Ontario Predicted Recovered')\n",
        "a[1][1].plot(valid_final_lstm['Ontario Confirmed Cases'])\n",
        "a[1][1].plot(valid_final_lstm['Ontario Deaths'])\n",
        "a[1][1].legend(['Ontario Confirmed Cases','Ontario Deaths'], loc=\"center left\")\n",
        "a[1][1].set_title('LSTM: Ontario Confirmed Cases vs Ontario Deaths')\n",
        "\n",
        "plt.savefig('/content/drive/My Drive/COVID-19/COVID-19_Data/ontariogrid_LSTM.png', dpi=1200)\n"
      ],
      "execution_count": 0,
      "outputs": [
        {
          "output_type": "display_data",
          "data": {
            "image/png": "[encoded data removed]",
            "text/plain": [
              "<Figure size 1080x720 with 4 Axes>"
            ]
          },
          "metadata": {
            "tags": [],
            "needs_background": "light"
          }
        }
      ]
    },
    {
      "cell_type": "markdown",
      "metadata": {
        "colab_type": "text",
        "id": "RRvuLzpqc4j9"
      },
      "source": [
        "**LSTM for China and India Data Combined**\n"
      ]
    },
    {
      "cell_type": "code",
      "metadata": {
        "colab_type": "code",
        "id": "J-ejsYkXc4j-",
        "colab": {}
      },
      "source": [
        "import math\n",
        "import pandas_datareader as web\n",
        "import numpy as np\n",
        "import pandas as pd\n",
        "from sklearn.preprocessing import MinMaxScaler\n",
        "from keras.models import Sequential\n",
        "from keras.layers import Dense,LSTM\n",
        "import matplotlib.pyplot as plt\n",
        "from sklearn.metrics import r2_score\n"
      ],
      "execution_count": 0,
      "outputs": []
    },
    {
      "cell_type": "code",
      "metadata": {
        "colab_type": "code",
        "id": "RPFweg4Ac4kA",
        "colab": {}
      },
      "source": [
        "dflstm = pd.read_csv('/content/drive/My Drive/COVID-19/COVID-19_Data/new_combinedhebei (1).csv', index_col='Dates')"
      ],
      "execution_count": 0,
      "outputs": []
    },
    {
      "cell_type": "code",
      "metadata": {
        "colab_type": "code",
        "id": "JoYrtJGDc4kC",
        "colab": {}
      },
      "source": [
        "dflstm = dflstm.rename(columns={'Confirmed Cases': 'Hebei Confirmed Cases', \\\n",
        "                                'Deaths': 'Hebei Deaths', \\\n",
        "                                  'Recovered': 'Hebei Recovered'})"
      ],
      "execution_count": 0,
      "outputs": []
    },
    {
      "cell_type": "code",
      "metadata": {
        "colab_type": "code",
        "outputId": "51e72676-5d17-4eff-fec1-4c7c22eb281c",
        "id": "Wbds8bPwc4kD",
        "colab": {
          "base_uri": "https://localhost:8080/",
          "height": 272
        }
      },
      "source": [
        "print(dflstm)"
      ],
      "execution_count": 0,
      "outputs": [
        {
          "output_type": "stream",
          "text": [
            "            Hebei Confirmed Cases  Hebei Deaths  Hebei Recovered\n",
            "Dates                                                           \n",
            "01/22/2020                      1             0                0\n",
            "01/23/2020                      1             1                0\n",
            "01/24/2020                      2             1                0\n",
            "01/25/2020                      8             1                0\n",
            "01/26/2020                     13             1                0\n",
            "...                           ...           ...              ...\n",
            "04/18/2020                    328             6              316\n",
            "04/19/2020                    328             6              316\n",
            "04/20/2020                    328             6              317\n",
            "04/21/2020                    328             6              317\n",
            "04/22/2020                    328             6              317\n",
            "\n",
            "[92 rows x 3 columns]\n"
          ],
          "name": "stdout"
        }
      ]
    },
    {
      "cell_type": "code",
      "metadata": {
        "colab_type": "code",
        "outputId": "fafe441f-2c92-4c8e-8946-1ea626fbcac1",
        "id": "eyOxNvG8c4kF",
        "colab": {
          "base_uri": "https://localhost:8080/",
          "height": 296
        }
      },
      "source": [
        "dflstm['Hebei Confirmed Cases'].plot()\n",
        "#plt.figure(figsize=(16,8))"
      ],
      "execution_count": 0,
      "outputs": [
        {
          "output_type": "execute_result",
          "data": {
            "text/plain": [
              "<matplotlib.axes._subplots.AxesSubplot at 0x7f3f9b0bd6d8>"
            ]
          },
          "metadata": {
            "tags": []
          },
          "execution_count": 120
        },
        {
          "output_type": "display_data",
          "data": {
            "image/png": "[encoded data removed]",
            "text/plain": [
              "<Figure size 432x288 with 1 Axes>"
            ]
          },
          "metadata": {
            "tags": [],
            "needs_background": "light"
          }
        }
      ]
    },
    {
      "cell_type": "code",
      "metadata": {
        "colab_type": "code",
        "id": "z1ExRiTUc4kI",
        "colab": {}
      },
      "source": [
        "data = dflstm.filter(['Hebei Confirmed Cases'])"
      ],
      "execution_count": 0,
      "outputs": []
    },
    {
      "cell_type": "code",
      "metadata": {
        "colab_type": "code",
        "id": "MVq-qnPFc4kL",
        "colab": {}
      },
      "source": [
        "dataset = data.values"
      ],
      "execution_count": 0,
      "outputs": []
    },
    {
      "cell_type": "code",
      "metadata": {
        "colab_type": "code",
        "outputId": "71cd00fd-4f05-4d05-e458-abe088bf02fc",
        "id": "9ay9z10_c4kM",
        "colab": {
          "base_uri": "https://localhost:8080/",
          "height": 34
        }
      },
      "source": [
        "training_data_len = math.ceil(len(dataset) * 0.7)\n",
        "training_data_len"
      ],
      "execution_count": 0,
      "outputs": [
        {
          "output_type": "execute_result",
          "data": {
            "text/plain": [
              "65"
            ]
          },
          "metadata": {
            "tags": []
          },
          "execution_count": 123
        }
      ]
    },
    {
      "cell_type": "code",
      "metadata": {
        "colab_type": "code",
        "id": "Au128jCgc4kP",
        "colab": {}
      },
      "source": [
        "scaler = MinMaxScaler(feature_range=(0,1))\n",
        "scaled_data = scaler.fit_transform(dataset)"
      ],
      "execution_count": 0,
      "outputs": []
    },
    {
      "cell_type": "code",
      "metadata": {
        "colab_type": "code",
        "outputId": "3ba9e260-e23b-4662-e865-3f09652295c3",
        "id": "73_LXvPQc4kQ",
        "colab": {
          "base_uri": "https://localhost:8080/",
          "height": 1000
        }
      },
      "source": [
        "scaled_data"
      ],
      "execution_count": 0,
      "outputs": [
        {
          "output_type": "execute_result",
          "data": {
            "text/plain": [
              "array([[0.        ],\n",
              "       [0.        ],\n",
              "       [0.0030581 ],\n",
              "       [0.02140673],\n",
              "       [0.03669725],\n",
              "       [0.05198777],\n",
              "       [0.09785933],\n",
              "       [0.14373089],\n",
              "       [0.19571865],\n",
              "       [0.24770642],\n",
              "       [0.29051988],\n",
              "       [0.31498471],\n",
              "       [0.34250765],\n",
              "       [0.382263  ],\n",
              "       [0.40978593],\n",
              "       [0.47706422],\n",
              "       [0.52293578],\n",
              "       [0.59327217],\n",
              "       [0.62691131],\n",
              "       [0.66360856],\n",
              "       [0.72782875],\n",
              "       [0.76452599],\n",
              "       [0.80733945],\n",
              "       [0.86238532],\n",
              "       [0.88685015],\n",
              "       [0.91437309],\n",
              "       [0.91743119],\n",
              "       [0.93272171],\n",
              "       [0.93272171],\n",
              "       [0.93577982],\n",
              "       [0.93883792],\n",
              "       [0.94189602],\n",
              "       [0.94801223],\n",
              "       [0.94801223],\n",
              "       [0.94801223],\n",
              "       [0.95107034],\n",
              "       [0.96636086],\n",
              "       [0.96941896],\n",
              "       [0.96941896],\n",
              "       [0.96941896],\n",
              "       [0.96941896],\n",
              "       [0.96941896],\n",
              "       [0.96941896],\n",
              "       [0.96941896],\n",
              "       [0.96941896],\n",
              "       [0.96941896],\n",
              "       [0.96941896],\n",
              "       [0.96941896],\n",
              "       [0.96941896],\n",
              "       [0.96941896],\n",
              "       [0.96941896],\n",
              "       [0.96941896],\n",
              "       [0.96941896],\n",
              "       [0.96941896],\n",
              "       [0.96941896],\n",
              "       [0.96941896],\n",
              "       [0.96941896],\n",
              "       [0.96941896],\n",
              "       [0.96941896],\n",
              "       [0.96941896],\n",
              "       [0.97247706],\n",
              "       [0.97247706],\n",
              "       [0.97247706],\n",
              "       [0.97247706],\n",
              "       [0.97247706],\n",
              "       [0.97247706],\n",
              "       [0.97247706],\n",
              "       [0.97247706],\n",
              "       [0.97859327],\n",
              "       [0.97859327],\n",
              "       [0.98470948],\n",
              "       [0.99082569],\n",
              "       [0.99388379],\n",
              "       [0.99388379],\n",
              "       [0.9969419 ],\n",
              "       [0.9969419 ],\n",
              "       [0.9969419 ],\n",
              "       [0.9969419 ],\n",
              "       [0.9969419 ],\n",
              "       [0.9969419 ],\n",
              "       [0.9969419 ],\n",
              "       [0.9969419 ],\n",
              "       [0.9969419 ],\n",
              "       [0.9969419 ],\n",
              "       [0.9969419 ],\n",
              "       [1.        ],\n",
              "       [1.        ],\n",
              "       [1.        ],\n",
              "       [1.        ],\n",
              "       [1.        ],\n",
              "       [1.        ],\n",
              "       [1.        ]])"
            ]
          },
          "metadata": {
            "tags": []
          },
          "execution_count": 125
        }
      ]
    },
    {
      "cell_type": "code",
      "metadata": {
        "colab_type": "code",
        "outputId": "0d1c7e16-91a7-4279-e87e-f4c4cf367371",
        "id": "fAmAXjaGc4kS",
        "colab": {
          "base_uri": "https://localhost:8080/",
          "height": 85
        }
      },
      "source": [
        "train_data = scaled_data[0:training_data_len, :]\n",
        "x_train = []\n",
        "y_train = []\n",
        "\n",
        "for i in range(10, len(train_data)):\n",
        "  x_train.append(train_data[i-10:i, 0])\n",
        "  y_train.append(train_data[i, 0])\n",
        "  if i<= 10:\n",
        "    print(x_train)\n",
        "    print(y_train)\n",
        "    print()"
      ],
      "execution_count": 0,
      "outputs": [
        {
          "output_type": "stream",
          "text": [
            "[array([0.        , 0.        , 0.0030581 , 0.02140673, 0.03669725,\n",
            "       0.05198777, 0.09785933, 0.14373089, 0.19571865, 0.24770642])]\n",
            "[0.290519877675841]\n",
            "\n"
          ],
          "name": "stdout"
        }
      ]
    },
    {
      "cell_type": "code",
      "metadata": {
        "colab_type": "code",
        "id": "fIswUfKkc4kT",
        "colab": {}
      },
      "source": [
        "x_train, y_train = np.array(x_train), np.array(y_train)"
      ],
      "execution_count": 0,
      "outputs": []
    },
    {
      "cell_type": "code",
      "metadata": {
        "colab_type": "code",
        "outputId": "eb986207-da0d-4255-ccca-5cea7b7f6fe6",
        "id": "InOMa7k2c4kV",
        "colab": {
          "base_uri": "https://localhost:8080/",
          "height": 34
        }
      },
      "source": [
        "x_train = np.reshape(x_train, (x_train.shape[0], x_train.shape[1], 1))\n",
        "x_train.shape"
      ],
      "execution_count": 0,
      "outputs": [
        {
          "output_type": "execute_result",
          "data": {
            "text/plain": [
              "(55, 10, 1)"
            ]
          },
          "metadata": {
            "tags": []
          },
          "execution_count": 128
        }
      ]
    },
    {
      "cell_type": "code",
      "metadata": {
        "colab_type": "code",
        "id": "OjXxNCirc4kY",
        "colab": {}
      },
      "source": [
        "model = Sequential()\n",
        "model.add(LSTM(50, return_sequences=True, input_shape=(x_train.shape[1], 1)))\n",
        "model.add(LSTM(50, return_sequences=False))\n",
        "model.add(Dense(25))\n",
        "model.add(Dense(1))"
      ],
      "execution_count": 0,
      "outputs": []
    },
    {
      "cell_type": "code",
      "metadata": {
        "colab_type": "code",
        "id": "FKZTqVOMc4kZ",
        "colab": {}
      },
      "source": [
        "#compile the model\n",
        "model.compile(optimizer='adam', loss='mean_squared_error')\n"
      ],
      "execution_count": 0,
      "outputs": []
    },
    {
      "cell_type": "code",
      "metadata": {
        "colab_type": "code",
        "outputId": "2f21f7c6-5464-42b8-d71d-09d0eae7f5dc",
        "id": "vRMNOHgZc4kb",
        "colab": {
          "base_uri": "https://localhost:8080/",
          "height": 1000
        }
      },
      "source": [
        "model.fit(x_train,y_train,batch_size=1, epochs=50)"
      ],
      "execution_count": 0,
      "outputs": [
        {
          "output_type": "stream",
          "text": [
            "Epoch 1/50\n",
            "55/55 [==============================] - 1s 18ms/step - loss: 0.1080\n",
            "Epoch 2/50\n",
            "55/55 [==============================] - 0s 9ms/step - loss: 0.0028\n",
            "Epoch 3/50\n",
            "55/55 [==============================] - 0s 9ms/step - loss: 0.0023\n",
            "Epoch 4/50\n",
            "55/55 [==============================] - 1s 9ms/step - loss: 0.0022\n",
            "Epoch 5/50\n",
            "55/55 [==============================] - 0s 8ms/step - loss: 0.0024\n",
            "Epoch 6/50\n",
            "55/55 [==============================] - 0s 8ms/step - loss: 0.0022\n",
            "Epoch 7/50\n",
            "55/55 [==============================] - 0s 8ms/step - loss: 0.0026\n",
            "Epoch 8/50\n",
            "55/55 [==============================] - 0s 9ms/step - loss: 0.0021\n",
            "Epoch 9/50\n",
            "55/55 [==============================] - 0s 9ms/step - loss: 0.0023\n",
            "Epoch 10/50\n",
            "55/55 [==============================] - 0s 8ms/step - loss: 0.0017\n",
            "Epoch 11/50\n",
            "55/55 [==============================] - 0s 8ms/step - loss: 0.0019\n",
            "Epoch 12/50\n",
            "55/55 [==============================] - 0s 8ms/step - loss: 0.0020\n",
            "Epoch 13/50\n",
            "55/55 [==============================] - 0s 8ms/step - loss: 0.0016\n",
            "Epoch 14/50\n",
            "55/55 [==============================] - 0s 7ms/step - loss: 0.0018\n",
            "Epoch 15/50\n",
            "55/55 [==============================] - 0s 7ms/step - loss: 0.0014\n",
            "Epoch 16/50\n",
            "55/55 [==============================] - 0s 8ms/step - loss: 0.0017\n",
            "Epoch 17/50\n",
            "55/55 [==============================] - 1s 9ms/step - loss: 0.0015\n",
            "Epoch 18/50\n",
            "55/55 [==============================] - 0s 9ms/step - loss: 0.0011\n",
            "Epoch 19/50\n",
            "55/55 [==============================] - 0s 8ms/step - loss: 0.0013\n",
            "Epoch 20/50\n",
            "55/55 [==============================] - 0s 9ms/step - loss: 9.0939e-04\n",
            "Epoch 21/50\n",
            "55/55 [==============================] - 0s 8ms/step - loss: 6.2915e-04\n",
            "Epoch 22/50\n",
            "55/55 [==============================] - 0s 8ms/step - loss: 5.4092e-04\n",
            "Epoch 23/50\n",
            "55/55 [==============================] - 0s 8ms/step - loss: 6.4617e-04\n",
            "Epoch 24/50\n",
            "55/55 [==============================] - 0s 8ms/step - loss: 8.2187e-04\n",
            "Epoch 25/50\n",
            "55/55 [==============================] - 0s 8ms/step - loss: 6.2426e-04\n",
            "Epoch 26/50\n",
            "55/55 [==============================] - 0s 8ms/step - loss: 3.7986e-04\n",
            "Epoch 27/50\n",
            "55/55 [==============================] - 0s 7ms/step - loss: 3.5854e-04\n",
            "Epoch 28/50\n",
            "55/55 [==============================] - 0s 8ms/step - loss: 3.7864e-04\n",
            "Epoch 29/50\n",
            "55/55 [==============================] - 0s 8ms/step - loss: 3.1905e-04\n",
            "Epoch 30/50\n",
            "55/55 [==============================] - 0s 7ms/step - loss: 3.2028e-04\n",
            "Epoch 31/50\n",
            "55/55 [==============================] - 0s 7ms/step - loss: 3.8629e-04\n",
            "Epoch 32/50\n",
            "55/55 [==============================] - 0s 8ms/step - loss: 3.7052e-04\n",
            "Epoch 33/50\n",
            "55/55 [==============================] - 0s 8ms/step - loss: 8.5938e-04\n",
            "Epoch 34/50\n",
            "55/55 [==============================] - 0s 8ms/step - loss: 2.8091e-04\n",
            "Epoch 35/50\n",
            "55/55 [==============================] - 0s 8ms/step - loss: 5.2619e-04\n",
            "Epoch 36/50\n",
            "55/55 [==============================] - 0s 8ms/step - loss: 8.3874e-04\n",
            "Epoch 37/50\n",
            "55/55 [==============================] - 0s 8ms/step - loss: 2.7075e-04\n",
            "Epoch 38/50\n",
            "55/55 [==============================] - 0s 8ms/step - loss: 4.7996e-04\n",
            "Epoch 39/50\n",
            "55/55 [==============================] - 0s 8ms/step - loss: 4.5004e-04\n",
            "Epoch 40/50\n",
            "55/55 [==============================] - 0s 8ms/step - loss: 4.6501e-04\n",
            "Epoch 41/50\n",
            "55/55 [==============================] - 1s 10ms/step - loss: 6.3301e-04\n",
            "Epoch 42/50\n",
            "55/55 [==============================] - 0s 8ms/step - loss: 6.0119e-04\n",
            "Epoch 43/50\n",
            "55/55 [==============================] - 1s 10ms/step - loss: 3.9686e-04\n",
            "Epoch 44/50\n",
            "55/55 [==============================] - 0s 8ms/step - loss: 5.4153e-04\n",
            "Epoch 45/50\n",
            "55/55 [==============================] - 1s 9ms/step - loss: 4.6782e-04\n",
            "Epoch 46/50\n",
            "55/55 [==============================] - 0s 7ms/step - loss: 5.6350e-04\n",
            "Epoch 47/50\n",
            "55/55 [==============================] - 0s 7ms/step - loss: 3.9794e-04\n",
            "Epoch 48/50\n",
            "55/55 [==============================] - 0s 8ms/step - loss: 9.3003e-04\n",
            "Epoch 49/50\n",
            "55/55 [==============================] - 0s 7ms/step - loss: 5.2438e-04\n",
            "Epoch 50/50\n",
            "55/55 [==============================] - 0s 7ms/step - loss: 2.7783e-04\n"
          ],
          "name": "stdout"
        },
        {
          "output_type": "execute_result",
          "data": {
            "text/plain": [
              "<keras.callbacks.callbacks.History at 0x7f3f9b0bd048>"
            ]
          },
          "metadata": {
            "tags": []
          },
          "execution_count": 131
        }
      ]
    },
    {
      "cell_type": "code",
      "metadata": {
        "colab_type": "code",
        "id": "n8RIDfiRc4kc",
        "colab": {}
      },
      "source": [
        "test_data = scaled_data[training_data_len-10: , :]\n",
        "x_test = []\n",
        "y_test = dataset[training_data_len:, :]\n",
        "for i in range(10, len(test_data)):\n",
        "  x_test.append(test_data[i-10:i, 0])\n",
        "  "
      ],
      "execution_count": 0,
      "outputs": []
    },
    {
      "cell_type": "code",
      "metadata": {
        "colab_type": "code",
        "outputId": "505724a8-a08e-45af-f865-97a8065488a9",
        "id": "sLesJmdzc4kd",
        "colab": {
          "base_uri": "https://localhost:8080/",
          "height": 34
        }
      },
      "source": [
        "len(test_data)"
      ],
      "execution_count": 0,
      "outputs": [
        {
          "output_type": "execute_result",
          "data": {
            "text/plain": [
              "37"
            ]
          },
          "metadata": {
            "tags": []
          },
          "execution_count": 133
        }
      ]
    },
    {
      "cell_type": "code",
      "metadata": {
        "colab_type": "code",
        "id": "XxSSgQq5c4kf",
        "colab": {}
      },
      "source": [
        "x_test = np.array(x_test)\n"
      ],
      "execution_count": 0,
      "outputs": []
    },
    {
      "cell_type": "code",
      "metadata": {
        "colab_type": "code",
        "id": "h0sMj4aWc4kh",
        "colab": {}
      },
      "source": [
        "x_test = np.reshape(x_test, (x_test.shape[0], x_test.shape[1], 1 ))"
      ],
      "execution_count": 0,
      "outputs": []
    },
    {
      "cell_type": "code",
      "metadata": {
        "colab_type": "code",
        "outputId": "692e20d1-f985-48c9-ee4f-d764b576eef9",
        "id": "T6YwetFBc4kj",
        "colab": {
          "base_uri": "https://localhost:8080/",
          "height": 1000
        }
      },
      "source": [
        "x_test"
      ],
      "execution_count": 0,
      "outputs": [
        {
          "output_type": "execute_result",
          "data": {
            "text/plain": [
              "array([[[0.96941896],\n",
              "        [0.96941896],\n",
              "        [0.96941896],\n",
              "        [0.96941896],\n",
              "        [0.96941896],\n",
              "        [0.97247706],\n",
              "        [0.97247706],\n",
              "        [0.97247706],\n",
              "        [0.97247706],\n",
              "        [0.97247706]],\n",
              "\n",
              "       [[0.96941896],\n",
              "        [0.96941896],\n",
              "        [0.96941896],\n",
              "        [0.96941896],\n",
              "        [0.97247706],\n",
              "        [0.97247706],\n",
              "        [0.97247706],\n",
              "        [0.97247706],\n",
              "        [0.97247706],\n",
              "        [0.97247706]],\n",
              "\n",
              "       [[0.96941896],\n",
              "        [0.96941896],\n",
              "        [0.96941896],\n",
              "        [0.97247706],\n",
              "        [0.97247706],\n",
              "        [0.97247706],\n",
              "        [0.97247706],\n",
              "        [0.97247706],\n",
              "        [0.97247706],\n",
              "        [0.97247706]],\n",
              "\n",
              "       [[0.96941896],\n",
              "        [0.96941896],\n",
              "        [0.97247706],\n",
              "        [0.97247706],\n",
              "        [0.97247706],\n",
              "        [0.97247706],\n",
              "        [0.97247706],\n",
              "        [0.97247706],\n",
              "        [0.97247706],\n",
              "        [0.97247706]],\n",
              "\n",
              "       [[0.96941896],\n",
              "        [0.97247706],\n",
              "        [0.97247706],\n",
              "        [0.97247706],\n",
              "        [0.97247706],\n",
              "        [0.97247706],\n",
              "        [0.97247706],\n",
              "        [0.97247706],\n",
              "        [0.97247706],\n",
              "        [0.97859327]],\n",
              "\n",
              "       [[0.97247706],\n",
              "        [0.97247706],\n",
              "        [0.97247706],\n",
              "        [0.97247706],\n",
              "        [0.97247706],\n",
              "        [0.97247706],\n",
              "        [0.97247706],\n",
              "        [0.97247706],\n",
              "        [0.97859327],\n",
              "        [0.97859327]],\n",
              "\n",
              "       [[0.97247706],\n",
              "        [0.97247706],\n",
              "        [0.97247706],\n",
              "        [0.97247706],\n",
              "        [0.97247706],\n",
              "        [0.97247706],\n",
              "        [0.97247706],\n",
              "        [0.97859327],\n",
              "        [0.97859327],\n",
              "        [0.98470948]],\n",
              "\n",
              "       [[0.97247706],\n",
              "        [0.97247706],\n",
              "        [0.97247706],\n",
              "        [0.97247706],\n",
              "        [0.97247706],\n",
              "        [0.97247706],\n",
              "        [0.97859327],\n",
              "        [0.97859327],\n",
              "        [0.98470948],\n",
              "        [0.99082569]],\n",
              "\n",
              "       [[0.97247706],\n",
              "        [0.97247706],\n",
              "        [0.97247706],\n",
              "        [0.97247706],\n",
              "        [0.97247706],\n",
              "        [0.97859327],\n",
              "        [0.97859327],\n",
              "        [0.98470948],\n",
              "        [0.99082569],\n",
              "        [0.99388379]],\n",
              "\n",
              "       [[0.97247706],\n",
              "        [0.97247706],\n",
              "        [0.97247706],\n",
              "        [0.97247706],\n",
              "        [0.97859327],\n",
              "        [0.97859327],\n",
              "        [0.98470948],\n",
              "        [0.99082569],\n",
              "        [0.99388379],\n",
              "        [0.99388379]],\n",
              "\n",
              "       [[0.97247706],\n",
              "        [0.97247706],\n",
              "        [0.97247706],\n",
              "        [0.97859327],\n",
              "        [0.97859327],\n",
              "        [0.98470948],\n",
              "        [0.99082569],\n",
              "        [0.99388379],\n",
              "        [0.99388379],\n",
              "        [0.9969419 ]],\n",
              "\n",
              "       [[0.97247706],\n",
              "        [0.97247706],\n",
              "        [0.97859327],\n",
              "        [0.97859327],\n",
              "        [0.98470948],\n",
              "        [0.99082569],\n",
              "        [0.99388379],\n",
              "        [0.99388379],\n",
              "        [0.9969419 ],\n",
              "        [0.9969419 ]],\n",
              "\n",
              "       [[0.97247706],\n",
              "        [0.97859327],\n",
              "        [0.97859327],\n",
              "        [0.98470948],\n",
              "        [0.99082569],\n",
              "        [0.99388379],\n",
              "        [0.99388379],\n",
              "        [0.9969419 ],\n",
              "        [0.9969419 ],\n",
              "        [0.9969419 ]],\n",
              "\n",
              "       [[0.97859327],\n",
              "        [0.97859327],\n",
              "        [0.98470948],\n",
              "        [0.99082569],\n",
              "        [0.99388379],\n",
              "        [0.99388379],\n",
              "        [0.9969419 ],\n",
              "        [0.9969419 ],\n",
              "        [0.9969419 ],\n",
              "        [0.9969419 ]],\n",
              "\n",
              "       [[0.97859327],\n",
              "        [0.98470948],\n",
              "        [0.99082569],\n",
              "        [0.99388379],\n",
              "        [0.99388379],\n",
              "        [0.9969419 ],\n",
              "        [0.9969419 ],\n",
              "        [0.9969419 ],\n",
              "        [0.9969419 ],\n",
              "        [0.9969419 ]],\n",
              "\n",
              "       [[0.98470948],\n",
              "        [0.99082569],\n",
              "        [0.99388379],\n",
              "        [0.99388379],\n",
              "        [0.9969419 ],\n",
              "        [0.9969419 ],\n",
              "        [0.9969419 ],\n",
              "        [0.9969419 ],\n",
              "        [0.9969419 ],\n",
              "        [0.9969419 ]],\n",
              "\n",
              "       [[0.99082569],\n",
              "        [0.99388379],\n",
              "        [0.99388379],\n",
              "        [0.9969419 ],\n",
              "        [0.9969419 ],\n",
              "        [0.9969419 ],\n",
              "        [0.9969419 ],\n",
              "        [0.9969419 ],\n",
              "        [0.9969419 ],\n",
              "        [0.9969419 ]],\n",
              "\n",
              "       [[0.99388379],\n",
              "        [0.99388379],\n",
              "        [0.9969419 ],\n",
              "        [0.9969419 ],\n",
              "        [0.9969419 ],\n",
              "        [0.9969419 ],\n",
              "        [0.9969419 ],\n",
              "        [0.9969419 ],\n",
              "        [0.9969419 ],\n",
              "        [0.9969419 ]],\n",
              "\n",
              "       [[0.99388379],\n",
              "        [0.9969419 ],\n",
              "        [0.9969419 ],\n",
              "        [0.9969419 ],\n",
              "        [0.9969419 ],\n",
              "        [0.9969419 ],\n",
              "        [0.9969419 ],\n",
              "        [0.9969419 ],\n",
              "        [0.9969419 ],\n",
              "        [0.9969419 ]],\n",
              "\n",
              "       [[0.9969419 ],\n",
              "        [0.9969419 ],\n",
              "        [0.9969419 ],\n",
              "        [0.9969419 ],\n",
              "        [0.9969419 ],\n",
              "        [0.9969419 ],\n",
              "        [0.9969419 ],\n",
              "        [0.9969419 ],\n",
              "        [0.9969419 ],\n",
              "        [0.9969419 ]],\n",
              "\n",
              "       [[0.9969419 ],\n",
              "        [0.9969419 ],\n",
              "        [0.9969419 ],\n",
              "        [0.9969419 ],\n",
              "        [0.9969419 ],\n",
              "        [0.9969419 ],\n",
              "        [0.9969419 ],\n",
              "        [0.9969419 ],\n",
              "        [0.9969419 ],\n",
              "        [0.9969419 ]],\n",
              "\n",
              "       [[0.9969419 ],\n",
              "        [0.9969419 ],\n",
              "        [0.9969419 ],\n",
              "        [0.9969419 ],\n",
              "        [0.9969419 ],\n",
              "        [0.9969419 ],\n",
              "        [0.9969419 ],\n",
              "        [0.9969419 ],\n",
              "        [0.9969419 ],\n",
              "        [1.        ]],\n",
              "\n",
              "       [[0.9969419 ],\n",
              "        [0.9969419 ],\n",
              "        [0.9969419 ],\n",
              "        [0.9969419 ],\n",
              "        [0.9969419 ],\n",
              "        [0.9969419 ],\n",
              "        [0.9969419 ],\n",
              "        [0.9969419 ],\n",
              "        [1.        ],\n",
              "        [1.        ]],\n",
              "\n",
              "       [[0.9969419 ],\n",
              "        [0.9969419 ],\n",
              "        [0.9969419 ],\n",
              "        [0.9969419 ],\n",
              "        [0.9969419 ],\n",
              "        [0.9969419 ],\n",
              "        [0.9969419 ],\n",
              "        [1.        ],\n",
              "        [1.        ],\n",
              "        [1.        ]],\n",
              "\n",
              "       [[0.9969419 ],\n",
              "        [0.9969419 ],\n",
              "        [0.9969419 ],\n",
              "        [0.9969419 ],\n",
              "        [0.9969419 ],\n",
              "        [0.9969419 ],\n",
              "        [1.        ],\n",
              "        [1.        ],\n",
              "        [1.        ],\n",
              "        [1.        ]],\n",
              "\n",
              "       [[0.9969419 ],\n",
              "        [0.9969419 ],\n",
              "        [0.9969419 ],\n",
              "        [0.9969419 ],\n",
              "        [0.9969419 ],\n",
              "        [1.        ],\n",
              "        [1.        ],\n",
              "        [1.        ],\n",
              "        [1.        ],\n",
              "        [1.        ]],\n",
              "\n",
              "       [[0.9969419 ],\n",
              "        [0.9969419 ],\n",
              "        [0.9969419 ],\n",
              "        [0.9969419 ],\n",
              "        [1.        ],\n",
              "        [1.        ],\n",
              "        [1.        ],\n",
              "        [1.        ],\n",
              "        [1.        ],\n",
              "        [1.        ]]])"
            ]
          },
          "metadata": {
            "tags": []
          },
          "execution_count": 136
        }
      ]
    },
    {
      "cell_type": "code",
      "metadata": {
        "colab_type": "code",
        "outputId": "ced8294c-356f-4614-b5ed-b6217007078a",
        "id": "wzcTh0Jsc4kk",
        "colab": {
          "base_uri": "https://localhost:8080/",
          "height": 34
        }
      },
      "source": [
        "len(x_test)"
      ],
      "execution_count": 0,
      "outputs": [
        {
          "output_type": "execute_result",
          "data": {
            "text/plain": [
              "27"
            ]
          },
          "metadata": {
            "tags": []
          },
          "execution_count": 137
        }
      ]
    },
    {
      "cell_type": "code",
      "metadata": {
        "colab_type": "code",
        "outputId": "2ee3b5a5-e00f-4a20-ad26-651193c5e2d2",
        "id": "y2zPKc5gc4kl",
        "colab": {
          "base_uri": "https://localhost:8080/",
          "height": 34
        }
      },
      "source": [
        "len(x_train)"
      ],
      "execution_count": 0,
      "outputs": [
        {
          "output_type": "execute_result",
          "data": {
            "text/plain": [
              "55"
            ]
          },
          "metadata": {
            "tags": []
          },
          "execution_count": 138
        }
      ]
    },
    {
      "cell_type": "code",
      "metadata": {
        "colab_type": "code",
        "id": "XRcEGw83c4kn",
        "colab": {}
      },
      "source": [
        "predictions = model.predict(x_test)\n",
        "predictions = scaler.inverse_transform(predictions)"
      ],
      "execution_count": 0,
      "outputs": []
    },
    {
      "cell_type": "code",
      "metadata": {
        "colab_type": "code",
        "outputId": "5a843fff-4f2c-426a-b553-f21f6c657737",
        "id": "ic3y0VOsc4ko",
        "colab": {
          "base_uri": "https://localhost:8080/",
          "height": 476
        }
      },
      "source": [
        "predictions"
      ],
      "execution_count": 0,
      "outputs": [
        {
          "output_type": "execute_result",
          "data": {
            "text/plain": [
              "array([[322.17642],\n",
              "       [322.20206],\n",
              "       [322.21964],\n",
              "       [322.23178],\n",
              "       [322.34586],\n",
              "       [322.4807 ],\n",
              "       [322.7039 ],\n",
              "       [323.03174],\n",
              "       [323.40005],\n",
              "       [323.7261 ],\n",
              "       [324.03622],\n",
              "       [324.28842],\n",
              "       [324.4791 ],\n",
              "       [324.61786],\n",
              "       [324.70538],\n",
              "       [324.7682 ],\n",
              "       [324.80438],\n",
              "       [324.82114],\n",
              "       [324.8286 ],\n",
              "       [324.83502],\n",
              "       [324.83502],\n",
              "       [324.8868 ],\n",
              "       [324.94904],\n",
              "       [325.00644],\n",
              "       [325.05264],\n",
              "       [325.08658],\n",
              "       [325.10995]], dtype=float32)"
            ]
          },
          "metadata": {
            "tags": []
          },
          "execution_count": 140
        }
      ]
    },
    {
      "cell_type": "code",
      "metadata": {
        "colab_type": "code",
        "outputId": "3963d34c-8a51-4d7c-bb1d-973aedc2695e",
        "id": "xsole52Vc4kq",
        "colab": {
          "base_uri": "https://localhost:8080/",
          "height": 34
        }
      },
      "source": [
        "len(predictions)"
      ],
      "execution_count": 0,
      "outputs": [
        {
          "output_type": "execute_result",
          "data": {
            "text/plain": [
              "27"
            ]
          },
          "metadata": {
            "tags": []
          },
          "execution_count": 141
        }
      ]
    },
    {
      "cell_type": "code",
      "metadata": {
        "colab_type": "code",
        "outputId": "5bc19d11-fb1f-4285-8e02-114baf2f4823",
        "id": "MH7kEvx5c4kr",
        "colab": {
          "base_uri": "https://localhost:8080/",
          "height": 34
        }
      },
      "source": [
        "rmse = np.sqrt( np.mean( predictions - y_test )**2)\n",
        "rmse\n"
      ],
      "execution_count": 0,
      "outputs": [
        {
          "output_type": "execute_result",
          "data": {
            "text/plain": [
              "1.6433681911892362"
            ]
          },
          "metadata": {
            "tags": []
          },
          "execution_count": 142
        }
      ]
    },
    {
      "cell_type": "code",
      "metadata": {
        "colab_type": "code",
        "outputId": "74b61466-20f0-4353-abf7-62138beb26af",
        "id": "lEYRn_fbc4ks",
        "colab": {
          "base_uri": "https://localhost:8080/",
          "height": 139
        }
      },
      "source": [
        "train = data[:training_data_len]\n",
        "validHebei1 = data[training_data_len:]\n",
        "validHebei1['Hebei Predicted Cases'] = predictions\n",
        "\n"
      ],
      "execution_count": 0,
      "outputs": [
        {
          "output_type": "stream",
          "text": [
            "/usr/local/lib/python3.6/dist-packages/ipykernel_launcher.py:3: SettingWithCopyWarning: \n",
            "A value is trying to be set on a copy of a slice from a DataFrame.\n",
            "Try using .loc[row_indexer,col_indexer] = value instead\n",
            "\n",
            "See the caveats in the documentation: https://pandas.pydata.org/pandas-docs/stable/user_guide/indexing.html#returning-a-view-versus-a-copy\n",
            "  This is separate from the ipykernel package so we can avoid doing imports until\n"
          ],
          "name": "stderr"
        }
      ]
    },
    {
      "cell_type": "code",
      "metadata": {
        "colab_type": "code",
        "outputId": "4e3ea489-ca39-4530-ede1-ddd014584fd5",
        "id": "uW_2sD4Ic4ku",
        "colab": {
          "base_uri": "https://localhost:8080/",
          "height": 527
        }
      },
      "source": [
        "plt.figure(figsize=(22,10))\n",
        "plt.title('Model')\n",
        "plt.xlabel('Date', fontsize=12)\n",
        "plt.xticks(rotation=45)\n",
        "plt.ylabel('Hebei Confirmed Cases', fontsize=12)\n",
        "plt.plot(train['Hebei Confirmed Cases'])\n",
        "plt.plot(validHebei1[['Hebei Confirmed Cases', 'Hebei Predicted Cases']])\n",
        "plt.legend(['Train', 'Val', 'Predictions'], loc='lower right')\n",
        "plt.savefig('/content/drive/My Drive/figzero.png', dpi=300)\n",
        "#plt.show()"
      ],
      "execution_count": 0,
      "outputs": [
        {
          "output_type": "display_data",
          "data": {
            "image/png": "[encoded data removed]",
            "text/plain": [
              "<Figure size 1584x720 with 1 Axes>"
            ]
          },
          "metadata": {
            "tags": [],
            "needs_background": "light"
          }
        }
      ]
    },
    {
      "cell_type": "code",
      "metadata": {
        "colab_type": "code",
        "outputId": "9c28f3d7-b3bc-4c89-9fa4-086f88e8c574",
        "id": "hjoiCIajc4kv",
        "colab": {
          "base_uri": "https://localhost:8080/",
          "height": 917
        }
      },
      "source": [
        "validHebei1"
      ],
      "execution_count": 0,
      "outputs": [
        {
          "output_type": "execute_result",
          "data": {
            "text/html": [
              "<div>\n",
              "<style scoped>\n",
              "    .dataframe tbody tr th:only-of-type {\n",
              "        vertical-align: middle;\n",
              "    }\n",
              "\n",
              "    .dataframe tbody tr th {\n",
              "        vertical-align: top;\n",
              "    }\n",
              "\n",
              "    .dataframe thead th {\n",
              "        text-align: right;\n",
              "    }\n",
              "</style>\n",
              "<table border=\"1\" class=\"dataframe\">\n",
              "  <thead>\n",
              "    <tr style=\"text-align: right;\">\n",
              "      <th></th>\n",
              "      <th>Hebei Confirmed Cases</th>\n",
              "      <th>Hebei Predicted Cases</th>\n",
              "    </tr>\n",
              "    <tr>\n",
              "      <th>Dates</th>\n",
              "      <th></th>\n",
              "      <th></th>\n",
              "    </tr>\n",
              "  </thead>\n",
              "  <tbody>\n",
              "    <tr>\n",
              "      <th>03/27/2020</th>\n",
              "      <td>319</td>\n",
              "      <td>322.176422</td>\n",
              "    </tr>\n",
              "    <tr>\n",
              "      <th>03/28/2020</th>\n",
              "      <td>319</td>\n",
              "      <td>322.202057</td>\n",
              "    </tr>\n",
              "    <tr>\n",
              "      <th>03/29/2020</th>\n",
              "      <td>319</td>\n",
              "      <td>322.219635</td>\n",
              "    </tr>\n",
              "    <tr>\n",
              "      <th>03/30/2020</th>\n",
              "      <td>321</td>\n",
              "      <td>322.231781</td>\n",
              "    </tr>\n",
              "    <tr>\n",
              "      <th>03/31/2020</th>\n",
              "      <td>321</td>\n",
              "      <td>322.345856</td>\n",
              "    </tr>\n",
              "    <tr>\n",
              "      <th>04/01/2020</th>\n",
              "      <td>323</td>\n",
              "      <td>322.480713</td>\n",
              "    </tr>\n",
              "    <tr>\n",
              "      <th>04/02/2020</th>\n",
              "      <td>325</td>\n",
              "      <td>322.703888</td>\n",
              "    </tr>\n",
              "    <tr>\n",
              "      <th>04/03/2020</th>\n",
              "      <td>326</td>\n",
              "      <td>323.031738</td>\n",
              "    </tr>\n",
              "    <tr>\n",
              "      <th>04/04/2020</th>\n",
              "      <td>326</td>\n",
              "      <td>323.400055</td>\n",
              "    </tr>\n",
              "    <tr>\n",
              "      <th>04/05/2020</th>\n",
              "      <td>327</td>\n",
              "      <td>323.726105</td>\n",
              "    </tr>\n",
              "    <tr>\n",
              "      <th>04/06/2020</th>\n",
              "      <td>327</td>\n",
              "      <td>324.036224</td>\n",
              "    </tr>\n",
              "    <tr>\n",
              "      <th>04/07/2020</th>\n",
              "      <td>327</td>\n",
              "      <td>324.288422</td>\n",
              "    </tr>\n",
              "    <tr>\n",
              "      <th>04/08/2020</th>\n",
              "      <td>327</td>\n",
              "      <td>324.479095</td>\n",
              "    </tr>\n",
              "    <tr>\n",
              "      <th>04/09/2020</th>\n",
              "      <td>327</td>\n",
              "      <td>324.617859</td>\n",
              "    </tr>\n",
              "    <tr>\n",
              "      <th>04/10/2020</th>\n",
              "      <td>327</td>\n",
              "      <td>324.705383</td>\n",
              "    </tr>\n",
              "    <tr>\n",
              "      <th>04/11/2020</th>\n",
              "      <td>327</td>\n",
              "      <td>324.768188</td>\n",
              "    </tr>\n",
              "    <tr>\n",
              "      <th>04/12/2020</th>\n",
              "      <td>327</td>\n",
              "      <td>324.804382</td>\n",
              "    </tr>\n",
              "    <tr>\n",
              "      <th>04/13/2020</th>\n",
              "      <td>327</td>\n",
              "      <td>324.821136</td>\n",
              "    </tr>\n",
              "    <tr>\n",
              "      <th>04/14/2020</th>\n",
              "      <td>327</td>\n",
              "      <td>324.828613</td>\n",
              "    </tr>\n",
              "    <tr>\n",
              "      <th>04/15/2020</th>\n",
              "      <td>327</td>\n",
              "      <td>324.835022</td>\n",
              "    </tr>\n",
              "    <tr>\n",
              "      <th>04/16/2020</th>\n",
              "      <td>328</td>\n",
              "      <td>324.835022</td>\n",
              "    </tr>\n",
              "    <tr>\n",
              "      <th>04/17/2020</th>\n",
              "      <td>328</td>\n",
              "      <td>324.886810</td>\n",
              "    </tr>\n",
              "    <tr>\n",
              "      <th>04/18/2020</th>\n",
              "      <td>328</td>\n",
              "      <td>324.949036</td>\n",
              "    </tr>\n",
              "    <tr>\n",
              "      <th>04/19/2020</th>\n",
              "      <td>328</td>\n",
              "      <td>325.006439</td>\n",
              "    </tr>\n",
              "    <tr>\n",
              "      <th>04/20/2020</th>\n",
              "      <td>328</td>\n",
              "      <td>325.052643</td>\n",
              "    </tr>\n",
              "    <tr>\n",
              "      <th>04/21/2020</th>\n",
              "      <td>328</td>\n",
              "      <td>325.086578</td>\n",
              "    </tr>\n",
              "    <tr>\n",
              "      <th>04/22/2020</th>\n",
              "      <td>328</td>\n",
              "      <td>325.109955</td>\n",
              "    </tr>\n",
              "  </tbody>\n",
              "</table>\n",
              "</div>"
            ],
            "text/plain": [
              "            Hebei Confirmed Cases  Hebei Predicted Cases\n",
              "Dates                                                   \n",
              "03/27/2020                    319             322.176422\n",
              "03/28/2020                    319             322.202057\n",
              "03/29/2020                    319             322.219635\n",
              "03/30/2020                    321             322.231781\n",
              "03/31/2020                    321             322.345856\n",
              "04/01/2020                    323             322.480713\n",
              "04/02/2020                    325             322.703888\n",
              "04/03/2020                    326             323.031738\n",
              "04/04/2020                    326             323.400055\n",
              "04/05/2020                    327             323.726105\n",
              "04/06/2020                    327             324.036224\n",
              "04/07/2020                    327             324.288422\n",
              "04/08/2020                    327             324.479095\n",
              "04/09/2020                    327             324.617859\n",
              "04/10/2020                    327             324.705383\n",
              "04/11/2020                    327             324.768188\n",
              "04/12/2020                    327             324.804382\n",
              "04/13/2020                    327             324.821136\n",
              "04/14/2020                    327             324.828613\n",
              "04/15/2020                    327             324.835022\n",
              "04/16/2020                    328             324.835022\n",
              "04/17/2020                    328             324.886810\n",
              "04/18/2020                    328             324.949036\n",
              "04/19/2020                    328             325.006439\n",
              "04/20/2020                    328             325.052643\n",
              "04/21/2020                    328             325.086578\n",
              "04/22/2020                    328             325.109955"
            ]
          },
          "metadata": {
            "tags": []
          },
          "execution_count": 148
        }
      ]
    },
    {
      "cell_type": "code",
      "metadata": {
        "colab_type": "code",
        "outputId": "b7ecc384-8f39-4b95-f63e-8aff7ffec526",
        "id": "y-mazvEuc4kw",
        "colab": {
          "base_uri": "https://localhost:8080/",
          "height": 553
        }
      },
      "source": [
        "plt.figure(figsize=(16,8))\n",
        "plt.title('Model')\n",
        "plt.xlabel('Date', fontsize=12)\n",
        "plt.xticks(rotation=45)\n",
        "plt.ylabel('Hebei Confirmed Cases', fontsize=12)\n",
        "plt.plot(validHebei1)\n",
        "plt.legend(['Train', 'Predictions'], loc='lower right')\n",
        "plt.savefig('/content/drive/My Drive/figone.png', dpi=300)\n",
        "#plt.show()"
      ],
      "execution_count": 0,
      "outputs": [
        {
          "output_type": "display_data",
          "data": {
            "image/png": "[encoded data removed]",
            "text/plain": [
              "<Figure size 1152x576 with 1 Axes>"
            ]
          },
          "metadata": {
            "tags": [],
            "needs_background": "light"
          }
        }
      ]
    },
    {
      "cell_type": "code",
      "metadata": {
        "colab_type": "code",
        "outputId": "5ad7f8c8-25f9-46c2-b055-dbdae22a8ac5",
        "id": "o3g1zU40c4kx",
        "colab": {
          "base_uri": "https://localhost:8080/",
          "height": 34
        }
      },
      "source": [
        "from sklearn.metrics import r2_score\n",
        "score = r2_score(validHebei1['Hebei Confirmed Cases'], validHebei1['Hebei Predicted Cases'])\n",
        "print(score)"
      ],
      "execution_count": 0,
      "outputs": [
        {
          "output_type": "stream",
          "text": [
            "0.22922161845911726\n"
          ],
          "name": "stdout"
        }
      ]
    },
    {
      "cell_type": "markdown",
      "metadata": {
        "colab_type": "text",
        "id": "iZJ7qW8Bc4kz"
      },
      "source": [
        "LSTM FOR CHINA DEATHS"
      ]
    },
    {
      "cell_type": "code",
      "metadata": {
        "colab_type": "code",
        "outputId": "07b7a3aa-d992-42e4-b1be-632415e293ae",
        "id": "VduWLm58c4kz",
        "colab": {
          "base_uri": "https://localhost:8080/",
          "height": 279
        }
      },
      "source": [
        "df2 = dflstm['Hebei Deaths'].plot()\n",
        "#plt.figure(figsize=(16,8))"
      ],
      "execution_count": 0,
      "outputs": [
        {
          "output_type": "display_data",
          "data": {
            "image/png": "[encoded data removed]",
            "text/plain": [
              "<Figure size 432x288 with 1 Axes>"
            ]
          },
          "metadata": {
            "tags": [],
            "needs_background": "light"
          }
        }
      ]
    },
    {
      "cell_type": "code",
      "metadata": {
        "colab_type": "code",
        "id": "vaBYeKulc4k0",
        "colab": {}
      },
      "source": [
        "data2 = dflstm.filter(['Hebei Deaths'])"
      ],
      "execution_count": 0,
      "outputs": []
    },
    {
      "cell_type": "code",
      "metadata": {
        "colab_type": "code",
        "id": "bNdVw3V5c4k1",
        "colab": {}
      },
      "source": [
        "dataset2 = data2.values"
      ],
      "execution_count": 0,
      "outputs": []
    },
    {
      "cell_type": "code",
      "metadata": {
        "colab_type": "code",
        "outputId": "6e6bdd5a-e097-4830-9e4e-5984c643b58f",
        "id": "ow9GQyJ9c4k3",
        "colab": {
          "base_uri": "https://localhost:8080/",
          "height": 34
        }
      },
      "source": [
        "training_data_len2 = math.ceil(len(dataset2) * 0.7)\n",
        "training_data_len2"
      ],
      "execution_count": 0,
      "outputs": [
        {
          "output_type": "execute_result",
          "data": {
            "text/plain": [
              "65"
            ]
          },
          "metadata": {
            "tags": []
          },
          "execution_count": 154
        }
      ]
    },
    {
      "cell_type": "code",
      "metadata": {
        "colab_type": "code",
        "id": "t7mwyZjPc4k4",
        "colab": {}
      },
      "source": [
        "scaler2 = MinMaxScaler(feature_range=(0,1))\n",
        "scaled_data2 = scaler2.fit_transform(dataset2)"
      ],
      "execution_count": 0,
      "outputs": []
    },
    {
      "cell_type": "code",
      "metadata": {
        "colab_type": "code",
        "outputId": "602c1893-2021-42d4-8011-34eb420e2d95",
        "id": "Y6VcUi5oc4k6",
        "colab": {
          "base_uri": "https://localhost:8080/",
          "height": 1000
        }
      },
      "source": [
        "scaled_data2"
      ],
      "execution_count": 0,
      "outputs": [
        {
          "output_type": "execute_result",
          "data": {
            "text/plain": [
              "array([[0.        ],\n",
              "       [0.16666667],\n",
              "       [0.16666667],\n",
              "       [0.16666667],\n",
              "       [0.16666667],\n",
              "       [0.16666667],\n",
              "       [0.16666667],\n",
              "       [0.16666667],\n",
              "       [0.16666667],\n",
              "       [0.16666667],\n",
              "       [0.16666667],\n",
              "       [0.16666667],\n",
              "       [0.16666667],\n",
              "       [0.16666667],\n",
              "       [0.16666667],\n",
              "       [0.16666667],\n",
              "       [0.16666667],\n",
              "       [0.16666667],\n",
              "       [0.33333333],\n",
              "       [0.33333333],\n",
              "       [0.33333333],\n",
              "       [0.33333333],\n",
              "       [0.5       ],\n",
              "       [0.5       ],\n",
              "       [0.5       ],\n",
              "       [0.5       ],\n",
              "       [0.5       ],\n",
              "       [0.66666667],\n",
              "       [0.66666667],\n",
              "       [0.83333333],\n",
              "       [0.83333333],\n",
              "       [1.        ],\n",
              "       [1.        ],\n",
              "       [1.        ],\n",
              "       [1.        ],\n",
              "       [1.        ],\n",
              "       [1.        ],\n",
              "       [1.        ],\n",
              "       [1.        ],\n",
              "       [1.        ],\n",
              "       [1.        ],\n",
              "       [1.        ],\n",
              "       [1.        ],\n",
              "       [1.        ],\n",
              "       [1.        ],\n",
              "       [1.        ],\n",
              "       [1.        ],\n",
              "       [1.        ],\n",
              "       [1.        ],\n",
              "       [1.        ],\n",
              "       [1.        ],\n",
              "       [1.        ],\n",
              "       [1.        ],\n",
              "       [1.        ],\n",
              "       [1.        ],\n",
              "       [1.        ],\n",
              "       [1.        ],\n",
              "       [1.        ],\n",
              "       [1.        ],\n",
              "       [1.        ],\n",
              "       [1.        ],\n",
              "       [1.        ],\n",
              "       [1.        ],\n",
              "       [1.        ],\n",
              "       [1.        ],\n",
              "       [1.        ],\n",
              "       [1.        ],\n",
              "       [1.        ],\n",
              "       [1.        ],\n",
              "       [1.        ],\n",
              "       [1.        ],\n",
              "       [1.        ],\n",
              "       [1.        ],\n",
              "       [1.        ],\n",
              "       [1.        ],\n",
              "       [1.        ],\n",
              "       [1.        ],\n",
              "       [1.        ],\n",
              "       [1.        ],\n",
              "       [1.        ],\n",
              "       [1.        ],\n",
              "       [1.        ],\n",
              "       [1.        ],\n",
              "       [1.        ],\n",
              "       [1.        ],\n",
              "       [1.        ],\n",
              "       [1.        ],\n",
              "       [1.        ],\n",
              "       [1.        ],\n",
              "       [1.        ],\n",
              "       [1.        ],\n",
              "       [1.        ]])"
            ]
          },
          "metadata": {
            "tags": []
          },
          "execution_count": 156
        }
      ]
    },
    {
      "cell_type": "code",
      "metadata": {
        "colab_type": "code",
        "outputId": "a5de763f-0d02-4a8f-abb4-5166d8e5f1f1",
        "id": "SfZLh5Bvc4k9",
        "colab": {
          "base_uri": "https://localhost:8080/",
          "height": 85
        }
      },
      "source": [
        "train_data2 = scaled_data2[0:training_data_len2, :]\n",
        "x_train2 = []\n",
        "y_train2 = []\n",
        "\n",
        "for i in range(10, len(train_data2)):\n",
        "  x_train2.append(train_data2[i-10:i, 0])\n",
        "  y_train2.append(train_data2[i, 0])\n",
        "  if i<= 10:\n",
        "    print(x_train2)\n",
        "    print(y_train2)\n",
        "    print()"
      ],
      "execution_count": 0,
      "outputs": [
        {
          "output_type": "stream",
          "text": [
            "[array([0.        , 0.16666667, 0.16666667, 0.16666667, 0.16666667,\n",
            "       0.16666667, 0.16666667, 0.16666667, 0.16666667, 0.16666667])]\n",
            "[0.16666666666666666]\n",
            "\n"
          ],
          "name": "stdout"
        }
      ]
    },
    {
      "cell_type": "code",
      "metadata": {
        "colab_type": "code",
        "id": "-4XvuCNwc4k_",
        "colab": {}
      },
      "source": [
        "x_train2, y_train2 = np.array(x_train2), np.array(y_train2)"
      ],
      "execution_count": 0,
      "outputs": []
    },
    {
      "cell_type": "code",
      "metadata": {
        "colab_type": "code",
        "outputId": "83abdd68-6dc6-4a59-8a24-e839f9505291",
        "id": "XqaBl3Vjc4lF",
        "colab": {
          "base_uri": "https://localhost:8080/",
          "height": 34
        }
      },
      "source": [
        "x_train2 = np.reshape(x_train2, (x_train2.shape[0], x_train2.shape[1], 1))\n",
        "x_train2.shape"
      ],
      "execution_count": 0,
      "outputs": [
        {
          "output_type": "execute_result",
          "data": {
            "text/plain": [
              "(55, 10, 1)"
            ]
          },
          "metadata": {
            "tags": []
          },
          "execution_count": 159
        }
      ]
    },
    {
      "cell_type": "code",
      "metadata": {
        "colab_type": "code",
        "id": "lmL-9yx1c4lH",
        "colab": {}
      },
      "source": [
        "model2 = Sequential()\n",
        "model2.add(LSTM(50, return_sequences=True, input_shape=(x_train2.shape[1], 1)))\n",
        "model2.add(LSTM(50, return_sequences=False))\n",
        "model2.add(Dense(25))\n",
        "model2.add(Dense(1))"
      ],
      "execution_count": 0,
      "outputs": []
    },
    {
      "cell_type": "code",
      "metadata": {
        "colab_type": "code",
        "id": "_EY5rHEzc4lI",
        "colab": {}
      },
      "source": [
        "#compile the model\n",
        "model2.compile(optimizer='adam', loss='mean_squared_error')\n"
      ],
      "execution_count": 0,
      "outputs": []
    },
    {
      "cell_type": "code",
      "metadata": {
        "colab_type": "code",
        "outputId": "21040133-b464-46bd-9308-a016075404b9",
        "id": "zZu9KWdac4lK",
        "colab": {
          "base_uri": "https://localhost:8080/",
          "height": 1000
        }
      },
      "source": [
        "model2.fit(x_train2, y_train2, batch_size=1, epochs=50)"
      ],
      "execution_count": 0,
      "outputs": [
        {
          "output_type": "stream",
          "text": [
            "Epoch 1/50\n",
            "55/55 [==============================] - 1s 18ms/step - loss: 0.0717\n",
            "Epoch 2/50\n",
            "55/55 [==============================] - 0s 8ms/step - loss: 0.0150\n",
            "Epoch 3/50\n",
            "55/55 [==============================] - 0s 8ms/step - loss: 0.0152\n",
            "Epoch 4/50\n",
            "55/55 [==============================] - 0s 7ms/step - loss: 0.0150\n",
            "Epoch 5/50\n",
            "55/55 [==============================] - 0s 9ms/step - loss: 0.0113\n",
            "Epoch 6/50\n",
            "55/55 [==============================] - 0s 9ms/step - loss: 0.0112\n",
            "Epoch 7/50\n",
            "55/55 [==============================] - 0s 9ms/step - loss: 0.0135\n",
            "Epoch 8/50\n",
            "55/55 [==============================] - 0s 8ms/step - loss: 0.0098\n",
            "Epoch 9/50\n",
            "55/55 [==============================] - 0s 9ms/step - loss: 0.0100\n",
            "Epoch 10/50\n",
            "55/55 [==============================] - 0s 9ms/step - loss: 0.0086\n",
            "Epoch 11/50\n",
            "55/55 [==============================] - 0s 9ms/step - loss: 0.0074\n",
            "Epoch 12/50\n",
            "55/55 [==============================] - 0s 8ms/step - loss: 0.0058\n",
            "Epoch 13/50\n",
            "55/55 [==============================] - 0s 9ms/step - loss: 0.0053\n",
            "Epoch 14/50\n",
            "55/55 [==============================] - 1s 10ms/step - loss: 0.0064\n",
            "Epoch 15/50\n",
            "55/55 [==============================] - 0s 8ms/step - loss: 0.0045\n",
            "Epoch 16/50\n",
            "55/55 [==============================] - 1s 9ms/step - loss: 0.0035\n",
            "Epoch 17/50\n",
            "55/55 [==============================] - 1s 10ms/step - loss: 0.0029\n",
            "Epoch 18/50\n",
            "55/55 [==============================] - 1s 10ms/step - loss: 0.0037\n",
            "Epoch 19/50\n",
            "55/55 [==============================] - 1s 10ms/step - loss: 0.0029\n",
            "Epoch 20/50\n",
            "55/55 [==============================] - 0s 9ms/step - loss: 0.0035\n",
            "Epoch 21/50\n",
            "55/55 [==============================] - 0s 8ms/step - loss: 0.0051\n",
            "Epoch 22/50\n",
            "55/55 [==============================] - 0s 8ms/step - loss: 0.0028\n",
            "Epoch 23/50\n",
            "55/55 [==============================] - 0s 8ms/step - loss: 0.0031\n",
            "Epoch 24/50\n",
            "55/55 [==============================] - 0s 8ms/step - loss: 0.0034\n",
            "Epoch 25/50\n",
            "55/55 [==============================] - 0s 8ms/step - loss: 0.0035\n",
            "Epoch 26/50\n",
            "55/55 [==============================] - 0s 8ms/step - loss: 0.0025\n",
            "Epoch 27/50\n",
            "55/55 [==============================] - 0s 8ms/step - loss: 0.0027\n",
            "Epoch 28/50\n",
            "55/55 [==============================] - 0s 7ms/step - loss: 0.0034\n",
            "Epoch 29/50\n",
            "55/55 [==============================] - 0s 8ms/step - loss: 0.0030\n",
            "Epoch 30/50\n",
            "55/55 [==============================] - 0s 8ms/step - loss: 0.0052\n",
            "Epoch 31/50\n",
            "55/55 [==============================] - 0s 8ms/step - loss: 0.0035\n",
            "Epoch 32/50\n",
            "55/55 [==============================] - 0s 8ms/step - loss: 0.0036\n",
            "Epoch 33/50\n",
            "55/55 [==============================] - 0s 8ms/step - loss: 0.0028\n",
            "Epoch 34/50\n",
            "55/55 [==============================] - 0s 8ms/step - loss: 0.0027\n",
            "Epoch 35/50\n",
            "55/55 [==============================] - 0s 8ms/step - loss: 0.0031\n",
            "Epoch 36/50\n",
            "55/55 [==============================] - 1s 9ms/step - loss: 0.0029\n",
            "Epoch 37/50\n",
            "55/55 [==============================] - 0s 9ms/step - loss: 0.0033\n",
            "Epoch 38/50\n",
            "55/55 [==============================] - 0s 8ms/step - loss: 0.0026\n",
            "Epoch 39/50\n",
            "55/55 [==============================] - 0s 8ms/step - loss: 0.0022\n",
            "Epoch 40/50\n",
            "55/55 [==============================] - 0s 8ms/step - loss: 0.0030\n",
            "Epoch 41/50\n",
            "55/55 [==============================] - 0s 7ms/step - loss: 0.0030\n",
            "Epoch 42/50\n",
            "55/55 [==============================] - 0s 9ms/step - loss: 0.0038\n",
            "Epoch 43/50\n",
            "55/55 [==============================] - 0s 9ms/step - loss: 0.0025\n",
            "Epoch 44/50\n",
            "55/55 [==============================] - 0s 8ms/step - loss: 0.0021\n",
            "Epoch 45/50\n",
            "55/55 [==============================] - 0s 8ms/step - loss: 0.0026\n",
            "Epoch 46/50\n",
            "55/55 [==============================] - 1s 9ms/step - loss: 0.0027\n",
            "Epoch 47/50\n",
            "55/55 [==============================] - 0s 8ms/step - loss: 0.0021\n",
            "Epoch 48/50\n",
            "55/55 [==============================] - 0s 8ms/step - loss: 0.0025\n",
            "Epoch 49/50\n",
            "55/55 [==============================] - 0s 8ms/step - loss: 0.0030\n",
            "Epoch 50/50\n",
            "55/55 [==============================] - 0s 8ms/step - loss: 0.0037\n"
          ],
          "name": "stdout"
        },
        {
          "output_type": "execute_result",
          "data": {
            "text/plain": [
              "<keras.callbacks.callbacks.History at 0x7f3f997e8c18>"
            ]
          },
          "metadata": {
            "tags": []
          },
          "execution_count": 162
        }
      ]
    },
    {
      "cell_type": "code",
      "metadata": {
        "colab_type": "code",
        "id": "4oRrgrf-c4lM",
        "colab": {}
      },
      "source": [
        "test_data2 = scaled_data2[training_data_len2-10: , :]\n",
        "x_test2 = []\n",
        "y_test2 = dataset2[training_data_len2:, :]\n",
        "for i in range(10, len(test_data2)):\n",
        "  x_test2.append(test_data2[i-10:i, 0])\n",
        "  "
      ],
      "execution_count": 0,
      "outputs": []
    },
    {
      "cell_type": "code",
      "metadata": {
        "colab_type": "code",
        "outputId": "c15b9ad1-6545-4446-a753-fa45e4ee146b",
        "id": "94NJzoh4c4lN",
        "colab": {
          "base_uri": "https://localhost:8080/",
          "height": 34
        }
      },
      "source": [
        "len(test_data2)"
      ],
      "execution_count": 0,
      "outputs": [
        {
          "output_type": "execute_result",
          "data": {
            "text/plain": [
              "37"
            ]
          },
          "metadata": {
            "tags": []
          },
          "execution_count": 164
        }
      ]
    },
    {
      "cell_type": "code",
      "metadata": {
        "colab_type": "code",
        "id": "dO3DAtNic4lO",
        "colab": {}
      },
      "source": [
        "x_test2 = np.array(x_test2)"
      ],
      "execution_count": 0,
      "outputs": []
    },
    {
      "cell_type": "code",
      "metadata": {
        "colab_type": "code",
        "id": "4fBdODKmc4lP",
        "colab": {}
      },
      "source": [
        "x_test2 = np.reshape(x_test2, (x_test2.shape[0], x_test2.shape[1], 1 ))"
      ],
      "execution_count": 0,
      "outputs": []
    },
    {
      "cell_type": "code",
      "metadata": {
        "colab_type": "code",
        "id": "HbCX-85Xc4lQ",
        "colab": {}
      },
      "source": [
        "predictions2 = model.predict(x_test2)\n",
        "predictions2 = scaler2.inverse_transform(predictions2)"
      ],
      "execution_count": 0,
      "outputs": []
    },
    {
      "cell_type": "code",
      "metadata": {
        "colab_type": "code",
        "outputId": "0827745f-22df-4cea-9041-6bb9de922edf",
        "id": "Sm-oSBcac4lS",
        "colab": {
          "base_uri": "https://localhost:8080/",
          "height": 34
        }
      },
      "source": [
        "rmse = np.sqrt( np.mean( predictions2 - y_test )**2)\n",
        "rmse"
      ],
      "execution_count": 0,
      "outputs": [
        {
          "output_type": "execute_result",
          "data": {
            "text/plain": [
              "319.68194301040086"
            ]
          },
          "metadata": {
            "tags": []
          },
          "execution_count": 168
        }
      ]
    },
    {
      "cell_type": "code",
      "metadata": {
        "colab_type": "code",
        "outputId": "95ff3379-a838-48bb-ba59-a0765d1f946b",
        "id": "bo_Ngmbfc4lT",
        "colab": {
          "base_uri": "https://localhost:8080/",
          "height": 139
        }
      },
      "source": [
        "train2 = data2[:training_data_len2]\n",
        "validHebei2 = data2[training_data_len2:]\n",
        "validHebei2['Hebei Predicted Deaths'] = predictions2"
      ],
      "execution_count": 0,
      "outputs": [
        {
          "output_type": "stream",
          "text": [
            "/usr/local/lib/python3.6/dist-packages/ipykernel_launcher.py:3: SettingWithCopyWarning: \n",
            "A value is trying to be set on a copy of a slice from a DataFrame.\n",
            "Try using .loc[row_indexer,col_indexer] = value instead\n",
            "\n",
            "See the caveats in the documentation: https://pandas.pydata.org/pandas-docs/stable/user_guide/indexing.html#returning-a-view-versus-a-copy\n",
            "  This is separate from the ipykernel package so we can avoid doing imports until\n"
          ],
          "name": "stderr"
        }
      ]
    },
    {
      "cell_type": "code",
      "metadata": {
        "colab_type": "code",
        "outputId": "eeb4df96-db54-4d33-de07-0e4e59137ac4",
        "id": "Gv4zHXsyc4lV",
        "colab": {
          "base_uri": "https://localhost:8080/",
          "height": 917
        }
      },
      "source": [
        "validHebei2\n"
      ],
      "execution_count": 0,
      "outputs": [
        {
          "output_type": "execute_result",
          "data": {
            "text/html": [
              "<div>\n",
              "<style scoped>\n",
              "    .dataframe tbody tr th:only-of-type {\n",
              "        vertical-align: middle;\n",
              "    }\n",
              "\n",
              "    .dataframe tbody tr th {\n",
              "        vertical-align: top;\n",
              "    }\n",
              "\n",
              "    .dataframe thead th {\n",
              "        text-align: right;\n",
              "    }\n",
              "</style>\n",
              "<table border=\"1\" class=\"dataframe\">\n",
              "  <thead>\n",
              "    <tr style=\"text-align: right;\">\n",
              "      <th></th>\n",
              "      <th>Hebei Deaths</th>\n",
              "      <th>Hebei Predicted Deaths</th>\n",
              "    </tr>\n",
              "    <tr>\n",
              "      <th>Dates</th>\n",
              "      <th></th>\n",
              "      <th></th>\n",
              "    </tr>\n",
              "  </thead>\n",
              "  <tbody>\n",
              "    <tr>\n",
              "      <th>03/27/2020</th>\n",
              "      <td>6</td>\n",
              "      <td>5.947687</td>\n",
              "    </tr>\n",
              "    <tr>\n",
              "      <th>03/28/2020</th>\n",
              "      <td>6</td>\n",
              "      <td>5.947687</td>\n",
              "    </tr>\n",
              "    <tr>\n",
              "      <th>03/29/2020</th>\n",
              "      <td>6</td>\n",
              "      <td>5.947687</td>\n",
              "    </tr>\n",
              "    <tr>\n",
              "      <th>03/30/2020</th>\n",
              "      <td>6</td>\n",
              "      <td>5.947687</td>\n",
              "    </tr>\n",
              "    <tr>\n",
              "      <th>03/31/2020</th>\n",
              "      <td>6</td>\n",
              "      <td>5.947687</td>\n",
              "    </tr>\n",
              "    <tr>\n",
              "      <th>04/01/2020</th>\n",
              "      <td>6</td>\n",
              "      <td>5.947687</td>\n",
              "    </tr>\n",
              "    <tr>\n",
              "      <th>04/02/2020</th>\n",
              "      <td>6</td>\n",
              "      <td>5.947687</td>\n",
              "    </tr>\n",
              "    <tr>\n",
              "      <th>04/03/2020</th>\n",
              "      <td>6</td>\n",
              "      <td>5.947687</td>\n",
              "    </tr>\n",
              "    <tr>\n",
              "      <th>04/04/2020</th>\n",
              "      <td>6</td>\n",
              "      <td>5.947687</td>\n",
              "    </tr>\n",
              "    <tr>\n",
              "      <th>04/05/2020</th>\n",
              "      <td>6</td>\n",
              "      <td>5.947687</td>\n",
              "    </tr>\n",
              "    <tr>\n",
              "      <th>04/06/2020</th>\n",
              "      <td>6</td>\n",
              "      <td>5.947687</td>\n",
              "    </tr>\n",
              "    <tr>\n",
              "      <th>04/07/2020</th>\n",
              "      <td>6</td>\n",
              "      <td>5.947687</td>\n",
              "    </tr>\n",
              "    <tr>\n",
              "      <th>04/08/2020</th>\n",
              "      <td>6</td>\n",
              "      <td>5.947687</td>\n",
              "    </tr>\n",
              "    <tr>\n",
              "      <th>04/09/2020</th>\n",
              "      <td>6</td>\n",
              "      <td>5.947687</td>\n",
              "    </tr>\n",
              "    <tr>\n",
              "      <th>04/10/2020</th>\n",
              "      <td>6</td>\n",
              "      <td>5.947687</td>\n",
              "    </tr>\n",
              "    <tr>\n",
              "      <th>04/11/2020</th>\n",
              "      <td>6</td>\n",
              "      <td>5.947687</td>\n",
              "    </tr>\n",
              "    <tr>\n",
              "      <th>04/12/2020</th>\n",
              "      <td>6</td>\n",
              "      <td>5.947687</td>\n",
              "    </tr>\n",
              "    <tr>\n",
              "      <th>04/13/2020</th>\n",
              "      <td>6</td>\n",
              "      <td>5.947687</td>\n",
              "    </tr>\n",
              "    <tr>\n",
              "      <th>04/14/2020</th>\n",
              "      <td>6</td>\n",
              "      <td>5.947687</td>\n",
              "    </tr>\n",
              "    <tr>\n",
              "      <th>04/15/2020</th>\n",
              "      <td>6</td>\n",
              "      <td>5.947687</td>\n",
              "    </tr>\n",
              "    <tr>\n",
              "      <th>04/16/2020</th>\n",
              "      <td>6</td>\n",
              "      <td>5.947687</td>\n",
              "    </tr>\n",
              "    <tr>\n",
              "      <th>04/17/2020</th>\n",
              "      <td>6</td>\n",
              "      <td>5.947687</td>\n",
              "    </tr>\n",
              "    <tr>\n",
              "      <th>04/18/2020</th>\n",
              "      <td>6</td>\n",
              "      <td>5.947687</td>\n",
              "    </tr>\n",
              "    <tr>\n",
              "      <th>04/19/2020</th>\n",
              "      <td>6</td>\n",
              "      <td>5.947687</td>\n",
              "    </tr>\n",
              "    <tr>\n",
              "      <th>04/20/2020</th>\n",
              "      <td>6</td>\n",
              "      <td>5.947686</td>\n",
              "    </tr>\n",
              "    <tr>\n",
              "      <th>04/21/2020</th>\n",
              "      <td>6</td>\n",
              "      <td>5.947686</td>\n",
              "    </tr>\n",
              "    <tr>\n",
              "      <th>04/22/2020</th>\n",
              "      <td>6</td>\n",
              "      <td>5.947686</td>\n",
              "    </tr>\n",
              "  </tbody>\n",
              "</table>\n",
              "</div>"
            ],
            "text/plain": [
              "            Hebei Deaths  Hebei Predicted Deaths\n",
              "Dates                                           \n",
              "03/27/2020             6                5.947687\n",
              "03/28/2020             6                5.947687\n",
              "03/29/2020             6                5.947687\n",
              "03/30/2020             6                5.947687\n",
              "03/31/2020             6                5.947687\n",
              "04/01/2020             6                5.947687\n",
              "04/02/2020             6                5.947687\n",
              "04/03/2020             6                5.947687\n",
              "04/04/2020             6                5.947687\n",
              "04/05/2020             6                5.947687\n",
              "04/06/2020             6                5.947687\n",
              "04/07/2020             6                5.947687\n",
              "04/08/2020             6                5.947687\n",
              "04/09/2020             6                5.947687\n",
              "04/10/2020             6                5.947687\n",
              "04/11/2020             6                5.947687\n",
              "04/12/2020             6                5.947687\n",
              "04/13/2020             6                5.947687\n",
              "04/14/2020             6                5.947687\n",
              "04/15/2020             6                5.947687\n",
              "04/16/2020             6                5.947687\n",
              "04/17/2020             6                5.947687\n",
              "04/18/2020             6                5.947687\n",
              "04/19/2020             6                5.947687\n",
              "04/20/2020             6                5.947686\n",
              "04/21/2020             6                5.947686\n",
              "04/22/2020             6                5.947686"
            ]
          },
          "metadata": {
            "tags": []
          },
          "execution_count": 170
        }
      ]
    },
    {
      "cell_type": "code",
      "metadata": {
        "colab_type": "code",
        "outputId": "e09dce42-c329-44f5-aa47-6edf4548d5f3",
        "id": "6IMYF2jyc4lY",
        "colab": {
          "base_uri": "https://localhost:8080/",
          "height": 533
        }
      },
      "source": [
        "plt.figure(figsize=(22,10))\n",
        "plt.title('Model')\n",
        "plt.xlabel('Date', fontsize=12)\n",
        "plt.xticks(rotation=45)\n",
        "plt.ylabel('Hebei Deaths', fontsize=12)\n",
        "plt.plot(train2['Hebei Deaths'])\n",
        "plt.plot(validHebei2[['Hebei Deaths', 'Hebei Predicted Deaths']])\n",
        "plt.legend(['Train', 'Val', 'Predictions'], loc='lower right')\n",
        "#plt.savefig('/content/drive/My Drive/figzero.png', dpi=300)\n",
        "plt.show()"
      ],
      "execution_count": 0,
      "outputs": [
        {
          "output_type": "display_data",
          "data": {
            "image/png": "[encoded data removed]",
            "text/plain": [
              "<Figure size 1584x720 with 1 Axes>"
            ]
          },
          "metadata": {
            "tags": [],
            "needs_background": "light"
          }
        }
      ]
    },
    {
      "cell_type": "code",
      "metadata": {
        "colab_type": "code",
        "outputId": "b0e404b9-e982-442e-a17d-b264b17a01f6",
        "id": "g5BpPN0Uc4lZ",
        "colab": {
          "base_uri": "https://localhost:8080/",
          "height": 553
        }
      },
      "source": [
        "plt.figure(figsize=(16,8))\n",
        "plt.title('Model')\n",
        "plt.xlabel('Date', fontsize=12)\n",
        "plt.xticks(rotation=45)\n",
        "plt.ylabel('Hebei Deaths', fontsize=12)\n",
        "plt.plot(validontario2)\n",
        "plt.legend(['Train', 'Predictions'], loc='lower right')\n",
        "#plt.savefig('/content/drive/My Drive/figone.png', dpi=300)\n",
        "plt.show()"
      ],
      "execution_count": 0,
      "outputs": [
        {
          "output_type": "display_data",
          "data": {
            "image/png": "[encoded data removed]",
            "text/plain": [
              "<Figure size 1152x576 with 1 Axes>"
            ]
          },
          "metadata": {
            "tags": [],
            "needs_background": "light"
          }
        }
      ]
    },
    {
      "cell_type": "code",
      "metadata": {
        "colab_type": "code",
        "outputId": "ec3f365e-453f-4bb1-af34-dd164fa0b671",
        "id": "QPC5in00c4la",
        "colab": {
          "base_uri": "https://localhost:8080/",
          "height": 279
        }
      },
      "source": [
        "df3 = dflstm['Hebei Recovered'].plot()\n"
      ],
      "execution_count": 0,
      "outputs": [
        {
          "output_type": "display_data",
          "data": {
            "image/png": "[encoded data removed]",
            "text/plain": [
              "<Figure size 432x288 with 1 Axes>"
            ]
          },
          "metadata": {
            "tags": [],
            "needs_background": "light"
          }
        }
      ]
    },
    {
      "cell_type": "code",
      "metadata": {
        "colab_type": "code",
        "id": "wPkYG-0pc4lf",
        "colab": {}
      },
      "source": [
        "data3 = dflstm.filter(['Hebei Recovered'])"
      ],
      "execution_count": 0,
      "outputs": []
    },
    {
      "cell_type": "code",
      "metadata": {
        "colab_type": "code",
        "id": "sXGaPFAvc4lg",
        "colab": {}
      },
      "source": [
        "dataset3 = data3.values"
      ],
      "execution_count": 0,
      "outputs": []
    },
    {
      "cell_type": "code",
      "metadata": {
        "colab_type": "code",
        "outputId": "3ac7cce9-01c6-4b62-dcff-30cb167f6750",
        "id": "YKyh4D99c4lh",
        "colab": {
          "base_uri": "https://localhost:8080/",
          "height": 34
        }
      },
      "source": [
        "training_data_len3 = math.ceil(len(dataset3) * 0.7)\n",
        "training_data_len3"
      ],
      "execution_count": 0,
      "outputs": [
        {
          "output_type": "execute_result",
          "data": {
            "text/plain": [
              "65"
            ]
          },
          "metadata": {
            "tags": []
          },
          "execution_count": 177
        }
      ]
    },
    {
      "cell_type": "code",
      "metadata": {
        "colab_type": "code",
        "id": "Lb9ZNiCjc4lj",
        "colab": {}
      },
      "source": [
        "scaler3 = MinMaxScaler(feature_range=(0,1))\n",
        "scaled_data3 = scaler3.fit_transform(dataset3)"
      ],
      "execution_count": 0,
      "outputs": []
    },
    {
      "cell_type": "code",
      "metadata": {
        "colab_type": "code",
        "outputId": "123f7e25-1d6c-4305-f198-bd3854fad39b",
        "id": "SEeZTE5Tc4lk",
        "colab": {
          "base_uri": "https://localhost:8080/",
          "height": 1000
        }
      },
      "source": [
        "scaled_data3"
      ],
      "execution_count": 0,
      "outputs": [
        {
          "output_type": "execute_result",
          "data": {
            "text/plain": [
              "array([[0.        ],\n",
              "       [0.        ],\n",
              "       [0.        ],\n",
              "       [0.        ],\n",
              "       [0.        ],\n",
              "       [0.        ],\n",
              "       [0.        ],\n",
              "       [0.        ],\n",
              "       [0.        ],\n",
              "       [0.        ],\n",
              "       [0.        ],\n",
              "       [0.00946372],\n",
              "       [0.00946372],\n",
              "       [0.0126183 ],\n",
              "       [0.01892744],\n",
              "       [0.04100946],\n",
              "       [0.06940063],\n",
              "       [0.09463722],\n",
              "       [0.10725552],\n",
              "       [0.12933754],\n",
              "       [0.15141956],\n",
              "       [0.170347  ],\n",
              "       [0.21451104],\n",
              "       [0.27444795],\n",
              "       [0.31861199],\n",
              "       [0.33123028],\n",
              "       [0.38485804],\n",
              "       [0.42902208],\n",
              "       [0.47949527],\n",
              "       [0.53312303],\n",
              "       [0.58044164],\n",
              "       [0.64037855],\n",
              "       [0.69085174],\n",
              "       [0.73817035],\n",
              "       [0.78233438],\n",
              "       [0.82334385],\n",
              "       [0.86435331],\n",
              "       [0.87381703],\n",
              "       [0.88958991],\n",
              "       [0.92744479],\n",
              "       [0.93375394],\n",
              "       [0.94637224],\n",
              "       [0.94952681],\n",
              "       [0.95899054],\n",
              "       [0.96214511],\n",
              "       [0.96845426],\n",
              "       [0.96845426],\n",
              "       [0.96845426],\n",
              "       [0.96845426],\n",
              "       [0.96845426],\n",
              "       [0.97160883],\n",
              "       [0.97791798],\n",
              "       [0.97791798],\n",
              "       [0.97791798],\n",
              "       [0.97791798],\n",
              "       [0.97791798],\n",
              "       [0.97791798],\n",
              "       [0.97791798],\n",
              "       [0.97791798],\n",
              "       [0.97791798],\n",
              "       [0.97791798],\n",
              "       [0.97791798],\n",
              "       [0.97791798],\n",
              "       [0.97791798],\n",
              "       [0.97791798],\n",
              "       [0.97791798],\n",
              "       [0.97791798],\n",
              "       [0.97791798],\n",
              "       [0.97791798],\n",
              "       [0.97791798],\n",
              "       [0.97791798],\n",
              "       [0.97791798],\n",
              "       [0.97791798],\n",
              "       [0.97791798],\n",
              "       [0.97791798],\n",
              "       [0.97791798],\n",
              "       [0.98422713],\n",
              "       [0.98422713],\n",
              "       [0.9873817 ],\n",
              "       [0.9873817 ],\n",
              "       [0.9873817 ],\n",
              "       [0.9873817 ],\n",
              "       [0.9873817 ],\n",
              "       [0.99053628],\n",
              "       [0.99053628],\n",
              "       [0.99369085],\n",
              "       [0.99684543],\n",
              "       [0.99684543],\n",
              "       [0.99684543],\n",
              "       [1.        ],\n",
              "       [1.        ],\n",
              "       [1.        ]])"
            ]
          },
          "metadata": {
            "tags": []
          },
          "execution_count": 179
        }
      ]
    },
    {
      "cell_type": "code",
      "metadata": {
        "colab_type": "code",
        "outputId": "1c1700b1-d2a1-4ed5-8b5d-5779a455e657",
        "id": "fuWv7STRc4lm",
        "colab": {
          "base_uri": "https://localhost:8080/",
          "height": 68
        }
      },
      "source": [
        "train_data3 = scaled_data3[0:training_data_len2, :]\n",
        "x_train3 = []\n",
        "y_train3 = []\n",
        "\n",
        "for i in range(10, len(train_data3)):\n",
        "  x_train3.append(train_data3[i-10:i, 0])\n",
        "  y_train3.append(train_data3[i, 0])\n",
        "  if i<= 10:\n",
        "    print(x_train3)\n",
        "    print(y_train3)\n",
        "    print()"
      ],
      "execution_count": 0,
      "outputs": [
        {
          "output_type": "stream",
          "text": [
            "[array([0., 0., 0., 0., 0., 0., 0., 0., 0., 0.])]\n",
            "[0.0]\n",
            "\n"
          ],
          "name": "stdout"
        }
      ]
    },
    {
      "cell_type": "code",
      "metadata": {
        "colab_type": "code",
        "id": "rtqfgCgFc4ln",
        "colab": {}
      },
      "source": [
        "x_train3, y_train3 = np.array(x_train3), np.array(y_train3)"
      ],
      "execution_count": 0,
      "outputs": []
    },
    {
      "cell_type": "code",
      "metadata": {
        "colab_type": "code",
        "outputId": "1dbab9d5-1c2e-4bd7-86aa-32ba85ed5939",
        "id": "eNZJ0KUQc4lo",
        "colab": {
          "base_uri": "https://localhost:8080/",
          "height": 34
        }
      },
      "source": [
        "x_train3 = np.reshape(x_train3, (x_train3.shape[0], x_train3.shape[1], 1))\n",
        "x_train3.shape"
      ],
      "execution_count": 0,
      "outputs": [
        {
          "output_type": "execute_result",
          "data": {
            "text/plain": [
              "(55, 10, 1)"
            ]
          },
          "metadata": {
            "tags": []
          },
          "execution_count": 182
        }
      ]
    },
    {
      "cell_type": "code",
      "metadata": {
        "colab_type": "code",
        "id": "Kj1fqAf3c4lp",
        "colab": {}
      },
      "source": [
        "model3 = Sequential()\n",
        "model3.add(LSTM(50, return_sequences=True, input_shape=(x_train2.shape[1], 1)))\n",
        "model3.add(LSTM(50, return_sequences=False))\n",
        "model3.add(Dense(25))\n",
        "model3.add(Dense(1))"
      ],
      "execution_count": 0,
      "outputs": []
    },
    {
      "cell_type": "code",
      "metadata": {
        "colab_type": "code",
        "id": "oGLNTTdIc4lq",
        "colab": {}
      },
      "source": [
        "model3.compile(optimizer='adam', loss='mean_squared_error')\n"
      ],
      "execution_count": 0,
      "outputs": []
    },
    {
      "cell_type": "code",
      "metadata": {
        "colab_type": "code",
        "outputId": "a0d419c5-b1c3-447d-e6d4-a336574b28d7",
        "id": "R_NIIf3Uc4lq",
        "colab": {
          "base_uri": "https://localhost:8080/",
          "height": 1000
        }
      },
      "source": [
        "model3.fit(x_train3, y_train3, batch_size=1, epochs=50)"
      ],
      "execution_count": 0,
      "outputs": [
        {
          "output_type": "stream",
          "text": [
            "Epoch 1/50\n",
            "55/55 [==============================] - 1s 17ms/step - loss: 0.1096\n",
            "Epoch 2/50\n",
            "55/55 [==============================] - 1s 9ms/step - loss: 0.0096\n",
            "Epoch 3/50\n",
            "55/55 [==============================] - 0s 8ms/step - loss: 0.0102\n",
            "Epoch 4/50\n",
            "55/55 [==============================] - 0s 8ms/step - loss: 0.0094\n",
            "Epoch 5/50\n",
            "55/55 [==============================] - 0s 7ms/step - loss: 0.0082\n",
            "Epoch 6/50\n",
            "55/55 [==============================] - 0s 8ms/step - loss: 0.0068\n",
            "Epoch 7/50\n",
            "55/55 [==============================] - 0s 7ms/step - loss: 0.0034\n",
            "Epoch 8/50\n",
            "55/55 [==============================] - 0s 8ms/step - loss: 0.0024\n",
            "Epoch 9/50\n",
            "55/55 [==============================] - 0s 8ms/step - loss: 5.9667e-04\n",
            "Epoch 10/50\n",
            "55/55 [==============================] - 0s 8ms/step - loss: 3.9915e-04\n",
            "Epoch 11/50\n",
            "55/55 [==============================] - 0s 8ms/step - loss: 3.6204e-04\n",
            "Epoch 12/50\n",
            "55/55 [==============================] - 0s 8ms/step - loss: 4.0313e-04\n",
            "Epoch 13/50\n",
            "55/55 [==============================] - 0s 8ms/step - loss: 3.7645e-04\n",
            "Epoch 14/50\n",
            "55/55 [==============================] - 0s 8ms/step - loss: 2.9404e-04\n",
            "Epoch 15/50\n",
            "55/55 [==============================] - 0s 7ms/step - loss: 4.2377e-04\n",
            "Epoch 16/50\n",
            "55/55 [==============================] - 0s 7ms/step - loss: 2.8625e-04\n",
            "Epoch 17/50\n",
            "55/55 [==============================] - 0s 8ms/step - loss: 3.9221e-04\n",
            "Epoch 18/50\n",
            "55/55 [==============================] - 0s 7ms/step - loss: 3.1423e-04\n",
            "Epoch 19/50\n",
            "55/55 [==============================] - 0s 7ms/step - loss: 5.8317e-04\n",
            "Epoch 20/50\n",
            "55/55 [==============================] - 0s 7ms/step - loss: 7.3523e-04\n",
            "Epoch 21/50\n",
            "55/55 [==============================] - 0s 7ms/step - loss: 4.3599e-04\n",
            "Epoch 22/50\n",
            "55/55 [==============================] - 0s 7ms/step - loss: 4.1078e-04\n",
            "Epoch 23/50\n",
            "55/55 [==============================] - 0s 7ms/step - loss: 5.5338e-04\n",
            "Epoch 24/50\n",
            "55/55 [==============================] - 0s 7ms/step - loss: 5.8968e-04\n",
            "Epoch 25/50\n",
            "55/55 [==============================] - 0s 7ms/step - loss: 3.7658e-04\n",
            "Epoch 26/50\n",
            "55/55 [==============================] - 0s 7ms/step - loss: 5.0219e-04\n",
            "Epoch 27/50\n",
            "55/55 [==============================] - 0s 7ms/step - loss: 3.9957e-04\n",
            "Epoch 28/50\n",
            "55/55 [==============================] - 0s 7ms/step - loss: 4.6662e-04\n",
            "Epoch 29/50\n",
            "55/55 [==============================] - 0s 7ms/step - loss: 4.3088e-04\n",
            "Epoch 30/50\n",
            "55/55 [==============================] - 0s 8ms/step - loss: 5.5371e-04\n",
            "Epoch 31/50\n",
            "55/55 [==============================] - 0s 9ms/step - loss: 3.6879e-04\n",
            "Epoch 32/50\n",
            "55/55 [==============================] - 0s 8ms/step - loss: 5.1915e-04\n",
            "Epoch 33/50\n",
            "55/55 [==============================] - 0s 7ms/step - loss: 5.0718e-04\n",
            "Epoch 34/50\n",
            "55/55 [==============================] - 0s 7ms/step - loss: 5.6863e-04\n",
            "Epoch 35/50\n",
            "55/55 [==============================] - 0s 7ms/step - loss: 3.2003e-04\n",
            "Epoch 36/50\n",
            "55/55 [==============================] - 0s 7ms/step - loss: 3.5658e-04\n",
            "Epoch 37/50\n",
            "55/55 [==============================] - 0s 7ms/step - loss: 3.7570e-04\n",
            "Epoch 38/50\n",
            "55/55 [==============================] - 0s 7ms/step - loss: 5.6802e-04\n",
            "Epoch 39/50\n",
            "55/55 [==============================] - 0s 7ms/step - loss: 3.0324e-04\n",
            "Epoch 40/50\n",
            "55/55 [==============================] - 0s 7ms/step - loss: 3.5531e-04\n",
            "Epoch 41/50\n",
            "55/55 [==============================] - 0s 9ms/step - loss: 4.0332e-04\n",
            "Epoch 42/50\n",
            "55/55 [==============================] - 0s 8ms/step - loss: 2.5707e-04\n",
            "Epoch 43/50\n",
            "55/55 [==============================] - 0s 9ms/step - loss: 3.8626e-04\n",
            "Epoch 44/50\n",
            "55/55 [==============================] - 0s 8ms/step - loss: 4.2586e-04\n",
            "Epoch 45/50\n",
            "55/55 [==============================] - 0s 7ms/step - loss: 2.7073e-04\n",
            "Epoch 46/50\n",
            "55/55 [==============================] - 0s 8ms/step - loss: 5.6067e-04\n",
            "Epoch 47/50\n",
            "55/55 [==============================] - 0s 7ms/step - loss: 5.2223e-04\n",
            "Epoch 48/50\n",
            "55/55 [==============================] - 0s 8ms/step - loss: 5.9375e-04\n",
            "Epoch 49/50\n",
            "55/55 [==============================] - 0s 8ms/step - loss: 9.2659e-04\n",
            "Epoch 50/50\n",
            "55/55 [==============================] - 0s 7ms/step - loss: 8.9494e-04\n"
          ],
          "name": "stdout"
        },
        {
          "output_type": "execute_result",
          "data": {
            "text/plain": [
              "<keras.callbacks.callbacks.History at 0x7f3f9989a898>"
            ]
          },
          "metadata": {
            "tags": []
          },
          "execution_count": 185
        }
      ]
    },
    {
      "cell_type": "code",
      "metadata": {
        "colab_type": "code",
        "id": "JmATORIEc4ls",
        "colab": {}
      },
      "source": [
        "test_data3 = scaled_data3[training_data_len3-10: , :]\n",
        "x_test3 = []\n",
        "y_test3 = dataset3[training_data_len3:, :]\n",
        "for i in range(10, len(test_data3)):\n",
        "  x_test3.append(test_data2[i-10:i, 0])\n",
        "  "
      ],
      "execution_count": 0,
      "outputs": []
    },
    {
      "cell_type": "code",
      "metadata": {
        "colab_type": "code",
        "outputId": "07552ccc-dea4-4758-e731-dfac82beb1d6",
        "id": "-5GTJ8gyc4lt",
        "colab": {
          "base_uri": "https://localhost:8080/",
          "height": 34
        }
      },
      "source": [
        "len(test_data3)"
      ],
      "execution_count": 0,
      "outputs": [
        {
          "output_type": "execute_result",
          "data": {
            "text/plain": [
              "37"
            ]
          },
          "metadata": {
            "tags": []
          },
          "execution_count": 187
        }
      ]
    },
    {
      "cell_type": "code",
      "metadata": {
        "colab_type": "code",
        "id": "B01lqs6Gc4lu",
        "colab": {}
      },
      "source": [
        "x_test3 = np.array(x_test3)"
      ],
      "execution_count": 0,
      "outputs": []
    },
    {
      "cell_type": "code",
      "metadata": {
        "colab_type": "code",
        "id": "EeBshMeMc4lv",
        "colab": {}
      },
      "source": [
        "x_test3 = np.reshape(x_test3, (x_test3.shape[0], x_test3.shape[1], 1 ))"
      ],
      "execution_count": 0,
      "outputs": []
    },
    {
      "cell_type": "code",
      "metadata": {
        "colab_type": "code",
        "id": "QNrJTRmJc4lw",
        "colab": {}
      },
      "source": [
        "predictions3 = model.predict(x_test3)\n",
        "predictions3 = scaler3.inverse_transform(predictions3)"
      ],
      "execution_count": 0,
      "outputs": []
    },
    {
      "cell_type": "code",
      "metadata": {
        "colab_type": "code",
        "outputId": "ce36721c-7009-4450-acff-23fd264a5d22",
        "id": "oK-bSWh_c4lx",
        "colab": {
          "base_uri": "https://localhost:8080/",
          "height": 34
        }
      },
      "source": [
        "rmse = np.sqrt( np.mean( predictions3 - y_test )**2)\n",
        "rmse"
      ],
      "execution_count": 0,
      "outputs": [
        {
          "output_type": "execute_result",
          "data": {
            "text/plain": [
              "11.393518518518519"
            ]
          },
          "metadata": {
            "tags": []
          },
          "execution_count": 191
        }
      ]
    },
    {
      "cell_type": "code",
      "metadata": {
        "colab_type": "code",
        "outputId": "98f9f9fe-a37d-4123-92b3-1898d9dee6cc",
        "id": "pDHee_Iac4ly",
        "colab": {
          "base_uri": "https://localhost:8080/",
          "height": 139
        }
      },
      "source": [
        "train3 = data3[:training_data_len3]\n",
        "validHebei3 = data3[training_data_len3:]\n",
        "validHebei3['Hebei Predicted Recovered'] = predictions3"
      ],
      "execution_count": 0,
      "outputs": [
        {
          "output_type": "stream",
          "text": [
            "/usr/local/lib/python3.6/dist-packages/ipykernel_launcher.py:3: SettingWithCopyWarning: \n",
            "A value is trying to be set on a copy of a slice from a DataFrame.\n",
            "Try using .loc[row_indexer,col_indexer] = value instead\n",
            "\n",
            "See the caveats in the documentation: https://pandas.pydata.org/pandas-docs/stable/user_guide/indexing.html#returning-a-view-versus-a-copy\n",
            "  This is separate from the ipykernel package so we can avoid doing imports until\n"
          ],
          "name": "stderr"
        }
      ]
    },
    {
      "cell_type": "code",
      "metadata": {
        "colab_type": "code",
        "outputId": "37c306d6-7030-4c35-cc19-0dc12d03ffac",
        "id": "tdnLcRShc4lz",
        "colab": {
          "base_uri": "https://localhost:8080/",
          "height": 917
        }
      },
      "source": [
        "validHebei3\n"
      ],
      "execution_count": 0,
      "outputs": [
        {
          "output_type": "execute_result",
          "data": {
            "text/html": [
              "<div>\n",
              "<style scoped>\n",
              "    .dataframe tbody tr th:only-of-type {\n",
              "        vertical-align: middle;\n",
              "    }\n",
              "\n",
              "    .dataframe tbody tr th {\n",
              "        vertical-align: top;\n",
              "    }\n",
              "\n",
              "    .dataframe thead th {\n",
              "        text-align: right;\n",
              "    }\n",
              "</style>\n",
              "<table border=\"1\" class=\"dataframe\">\n",
              "  <thead>\n",
              "    <tr style=\"text-align: right;\">\n",
              "      <th></th>\n",
              "      <th>Hebei Recovered</th>\n",
              "      <th>Hebei Predicted Recovered</th>\n",
              "    </tr>\n",
              "    <tr>\n",
              "      <th>Dates</th>\n",
              "      <th></th>\n",
              "      <th></th>\n",
              "    </tr>\n",
              "  </thead>\n",
              "  <tbody>\n",
              "    <tr>\n",
              "      <th>03/27/2020</th>\n",
              "      <td>310</td>\n",
              "      <td>314.236115</td>\n",
              "    </tr>\n",
              "    <tr>\n",
              "      <th>03/28/2020</th>\n",
              "      <td>310</td>\n",
              "      <td>314.236115</td>\n",
              "    </tr>\n",
              "    <tr>\n",
              "      <th>03/29/2020</th>\n",
              "      <td>310</td>\n",
              "      <td>314.236115</td>\n",
              "    </tr>\n",
              "    <tr>\n",
              "      <th>03/30/2020</th>\n",
              "      <td>310</td>\n",
              "      <td>314.236115</td>\n",
              "    </tr>\n",
              "    <tr>\n",
              "      <th>03/31/2020</th>\n",
              "      <td>310</td>\n",
              "      <td>314.236115</td>\n",
              "    </tr>\n",
              "    <tr>\n",
              "      <th>04/01/2020</th>\n",
              "      <td>310</td>\n",
              "      <td>314.236115</td>\n",
              "    </tr>\n",
              "    <tr>\n",
              "      <th>04/02/2020</th>\n",
              "      <td>310</td>\n",
              "      <td>314.236115</td>\n",
              "    </tr>\n",
              "    <tr>\n",
              "      <th>04/03/2020</th>\n",
              "      <td>310</td>\n",
              "      <td>314.236115</td>\n",
              "    </tr>\n",
              "    <tr>\n",
              "      <th>04/04/2020</th>\n",
              "      <td>310</td>\n",
              "      <td>314.236115</td>\n",
              "    </tr>\n",
              "    <tr>\n",
              "      <th>04/05/2020</th>\n",
              "      <td>310</td>\n",
              "      <td>314.236115</td>\n",
              "    </tr>\n",
              "    <tr>\n",
              "      <th>04/06/2020</th>\n",
              "      <td>310</td>\n",
              "      <td>314.236115</td>\n",
              "    </tr>\n",
              "    <tr>\n",
              "      <th>04/07/2020</th>\n",
              "      <td>312</td>\n",
              "      <td>314.236115</td>\n",
              "    </tr>\n",
              "    <tr>\n",
              "      <th>04/08/2020</th>\n",
              "      <td>312</td>\n",
              "      <td>314.236115</td>\n",
              "    </tr>\n",
              "    <tr>\n",
              "      <th>04/09/2020</th>\n",
              "      <td>313</td>\n",
              "      <td>314.236115</td>\n",
              "    </tr>\n",
              "    <tr>\n",
              "      <th>04/10/2020</th>\n",
              "      <td>313</td>\n",
              "      <td>314.236115</td>\n",
              "    </tr>\n",
              "    <tr>\n",
              "      <th>04/11/2020</th>\n",
              "      <td>313</td>\n",
              "      <td>314.236115</td>\n",
              "    </tr>\n",
              "    <tr>\n",
              "      <th>04/12/2020</th>\n",
              "      <td>313</td>\n",
              "      <td>314.236115</td>\n",
              "    </tr>\n",
              "    <tr>\n",
              "      <th>04/13/2020</th>\n",
              "      <td>313</td>\n",
              "      <td>314.236115</td>\n",
              "    </tr>\n",
              "    <tr>\n",
              "      <th>04/14/2020</th>\n",
              "      <td>314</td>\n",
              "      <td>314.236115</td>\n",
              "    </tr>\n",
              "    <tr>\n",
              "      <th>04/15/2020</th>\n",
              "      <td>314</td>\n",
              "      <td>314.236115</td>\n",
              "    </tr>\n",
              "    <tr>\n",
              "      <th>04/16/2020</th>\n",
              "      <td>315</td>\n",
              "      <td>314.236115</td>\n",
              "    </tr>\n",
              "    <tr>\n",
              "      <th>04/17/2020</th>\n",
              "      <td>316</td>\n",
              "      <td>314.236115</td>\n",
              "    </tr>\n",
              "    <tr>\n",
              "      <th>04/18/2020</th>\n",
              "      <td>316</td>\n",
              "      <td>314.236115</td>\n",
              "    </tr>\n",
              "    <tr>\n",
              "      <th>04/19/2020</th>\n",
              "      <td>316</td>\n",
              "      <td>314.236115</td>\n",
              "    </tr>\n",
              "    <tr>\n",
              "      <th>04/20/2020</th>\n",
              "      <td>317</td>\n",
              "      <td>314.236084</td>\n",
              "    </tr>\n",
              "    <tr>\n",
              "      <th>04/21/2020</th>\n",
              "      <td>317</td>\n",
              "      <td>314.236084</td>\n",
              "    </tr>\n",
              "    <tr>\n",
              "      <th>04/22/2020</th>\n",
              "      <td>317</td>\n",
              "      <td>314.236084</td>\n",
              "    </tr>\n",
              "  </tbody>\n",
              "</table>\n",
              "</div>"
            ],
            "text/plain": [
              "            Hebei Recovered  Hebei Predicted Recovered\n",
              "Dates                                                 \n",
              "03/27/2020              310                 314.236115\n",
              "03/28/2020              310                 314.236115\n",
              "03/29/2020              310                 314.236115\n",
              "03/30/2020              310                 314.236115\n",
              "03/31/2020              310                 314.236115\n",
              "04/01/2020              310                 314.236115\n",
              "04/02/2020              310                 314.236115\n",
              "04/03/2020              310                 314.236115\n",
              "04/04/2020              310                 314.236115\n",
              "04/05/2020              310                 314.236115\n",
              "04/06/2020              310                 314.236115\n",
              "04/07/2020              312                 314.236115\n",
              "04/08/2020              312                 314.236115\n",
              "04/09/2020              313                 314.236115\n",
              "04/10/2020              313                 314.236115\n",
              "04/11/2020              313                 314.236115\n",
              "04/12/2020              313                 314.236115\n",
              "04/13/2020              313                 314.236115\n",
              "04/14/2020              314                 314.236115\n",
              "04/15/2020              314                 314.236115\n",
              "04/16/2020              315                 314.236115\n",
              "04/17/2020              316                 314.236115\n",
              "04/18/2020              316                 314.236115\n",
              "04/19/2020              316                 314.236115\n",
              "04/20/2020              317                 314.236084\n",
              "04/21/2020              317                 314.236084\n",
              "04/22/2020              317                 314.236084"
            ]
          },
          "metadata": {
            "tags": []
          },
          "execution_count": 193
        }
      ]
    },
    {
      "cell_type": "code",
      "metadata": {
        "colab_type": "code",
        "outputId": "2c4030b8-32d2-4e75-856c-08114da0190d",
        "id": "4yvepsRgc4l1",
        "colab": {
          "base_uri": "https://localhost:8080/",
          "height": 296
        }
      },
      "source": [
        "validHebei3.plot()"
      ],
      "execution_count": 0,
      "outputs": [
        {
          "output_type": "execute_result",
          "data": {
            "text/plain": [
              "<matplotlib.axes._subplots.AxesSubplot at 0x7f3f99915978>"
            ]
          },
          "metadata": {
            "tags": []
          },
          "execution_count": 194
        },
        {
          "output_type": "display_data",
          "data": {
            "image/png": "[encoded data removed]",
            "text/plain": [
              "<Figure size 432x288 with 1 Axes>"
            ]
          },
          "metadata": {
            "tags": [],
            "needs_background": "light"
          }
        }
      ]
    },
    {
      "cell_type": "code",
      "metadata": {
        "colab_type": "code",
        "outputId": "9f53d243-d7a2-4f86-851e-3727dd724030",
        "id": "Apl9YfTJc4l2",
        "colab": {
          "base_uri": "https://localhost:8080/",
          "height": 934
        }
      },
      "source": [
        "valid_final_lstm = validHebei1.join(validHebei2.join(validHebei3))\n",
        "valid_final_lstm"
      ],
      "execution_count": 0,
      "outputs": [
        {
          "output_type": "execute_result",
          "data": {
            "text/html": [
              "<div>\n",
              "<style scoped>\n",
              "    .dataframe tbody tr th:only-of-type {\n",
              "        vertical-align: middle;\n",
              "    }\n",
              "\n",
              "    .dataframe tbody tr th {\n",
              "        vertical-align: top;\n",
              "    }\n",
              "\n",
              "    .dataframe thead th {\n",
              "        text-align: right;\n",
              "    }\n",
              "</style>\n",
              "<table border=\"1\" class=\"dataframe\">\n",
              "  <thead>\n",
              "    <tr style=\"text-align: right;\">\n",
              "      <th></th>\n",
              "      <th>Hebei Confirmed Cases</th>\n",
              "      <th>Hebei Predicted Cases</th>\n",
              "      <th>Hebei Deaths</th>\n",
              "      <th>Hebei Predicted Deaths</th>\n",
              "      <th>Hebei Recovered</th>\n",
              "      <th>Hebei Predicted Recovered</th>\n",
              "    </tr>\n",
              "    <tr>\n",
              "      <th>Dates</th>\n",
              "      <th></th>\n",
              "      <th></th>\n",
              "      <th></th>\n",
              "      <th></th>\n",
              "      <th></th>\n",
              "      <th></th>\n",
              "    </tr>\n",
              "  </thead>\n",
              "  <tbody>\n",
              "    <tr>\n",
              "      <th>03/27/2020</th>\n",
              "      <td>319</td>\n",
              "      <td>322.176422</td>\n",
              "      <td>6</td>\n",
              "      <td>5.947687</td>\n",
              "      <td>310</td>\n",
              "      <td>314.236115</td>\n",
              "    </tr>\n",
              "    <tr>\n",
              "      <th>03/28/2020</th>\n",
              "      <td>319</td>\n",
              "      <td>322.202057</td>\n",
              "      <td>6</td>\n",
              "      <td>5.947687</td>\n",
              "      <td>310</td>\n",
              "      <td>314.236115</td>\n",
              "    </tr>\n",
              "    <tr>\n",
              "      <th>03/29/2020</th>\n",
              "      <td>319</td>\n",
              "      <td>322.219635</td>\n",
              "      <td>6</td>\n",
              "      <td>5.947687</td>\n",
              "      <td>310</td>\n",
              "      <td>314.236115</td>\n",
              "    </tr>\n",
              "    <tr>\n",
              "      <th>03/30/2020</th>\n",
              "      <td>321</td>\n",
              "      <td>322.231781</td>\n",
              "      <td>6</td>\n",
              "      <td>5.947687</td>\n",
              "      <td>310</td>\n",
              "      <td>314.236115</td>\n",
              "    </tr>\n",
              "    <tr>\n",
              "      <th>03/31/2020</th>\n",
              "      <td>321</td>\n",
              "      <td>322.345856</td>\n",
              "      <td>6</td>\n",
              "      <td>5.947687</td>\n",
              "      <td>310</td>\n",
              "      <td>314.236115</td>\n",
              "    </tr>\n",
              "    <tr>\n",
              "      <th>04/01/2020</th>\n",
              "      <td>323</td>\n",
              "      <td>322.480713</td>\n",
              "      <td>6</td>\n",
              "      <td>5.947687</td>\n",
              "      <td>310</td>\n",
              "      <td>314.236115</td>\n",
              "    </tr>\n",
              "    <tr>\n",
              "      <th>04/02/2020</th>\n",
              "      <td>325</td>\n",
              "      <td>322.703888</td>\n",
              "      <td>6</td>\n",
              "      <td>5.947687</td>\n",
              "      <td>310</td>\n",
              "      <td>314.236115</td>\n",
              "    </tr>\n",
              "    <tr>\n",
              "      <th>04/03/2020</th>\n",
              "      <td>326</td>\n",
              "      <td>323.031738</td>\n",
              "      <td>6</td>\n",
              "      <td>5.947687</td>\n",
              "      <td>310</td>\n",
              "      <td>314.236115</td>\n",
              "    </tr>\n",
              "    <tr>\n",
              "      <th>04/04/2020</th>\n",
              "      <td>326</td>\n",
              "      <td>323.400055</td>\n",
              "      <td>6</td>\n",
              "      <td>5.947687</td>\n",
              "      <td>310</td>\n",
              "      <td>314.236115</td>\n",
              "    </tr>\n",
              "    <tr>\n",
              "      <th>04/05/2020</th>\n",
              "      <td>327</td>\n",
              "      <td>323.726105</td>\n",
              "      <td>6</td>\n",
              "      <td>5.947687</td>\n",
              "      <td>310</td>\n",
              "      <td>314.236115</td>\n",
              "    </tr>\n",
              "    <tr>\n",
              "      <th>04/06/2020</th>\n",
              "      <td>327</td>\n",
              "      <td>324.036224</td>\n",
              "      <td>6</td>\n",
              "      <td>5.947687</td>\n",
              "      <td>310</td>\n",
              "      <td>314.236115</td>\n",
              "    </tr>\n",
              "    <tr>\n",
              "      <th>04/07/2020</th>\n",
              "      <td>327</td>\n",
              "      <td>324.288422</td>\n",
              "      <td>6</td>\n",
              "      <td>5.947687</td>\n",
              "      <td>312</td>\n",
              "      <td>314.236115</td>\n",
              "    </tr>\n",
              "    <tr>\n",
              "      <th>04/08/2020</th>\n",
              "      <td>327</td>\n",
              "      <td>324.479095</td>\n",
              "      <td>6</td>\n",
              "      <td>5.947687</td>\n",
              "      <td>312</td>\n",
              "      <td>314.236115</td>\n",
              "    </tr>\n",
              "    <tr>\n",
              "      <th>04/09/2020</th>\n",
              "      <td>327</td>\n",
              "      <td>324.617859</td>\n",
              "      <td>6</td>\n",
              "      <td>5.947687</td>\n",
              "      <td>313</td>\n",
              "      <td>314.236115</td>\n",
              "    </tr>\n",
              "    <tr>\n",
              "      <th>04/10/2020</th>\n",
              "      <td>327</td>\n",
              "      <td>324.705383</td>\n",
              "      <td>6</td>\n",
              "      <td>5.947687</td>\n",
              "      <td>313</td>\n",
              "      <td>314.236115</td>\n",
              "    </tr>\n",
              "    <tr>\n",
              "      <th>04/11/2020</th>\n",
              "      <td>327</td>\n",
              "      <td>324.768188</td>\n",
              "      <td>6</td>\n",
              "      <td>5.947687</td>\n",
              "      <td>313</td>\n",
              "      <td>314.236115</td>\n",
              "    </tr>\n",
              "    <tr>\n",
              "      <th>04/12/2020</th>\n",
              "      <td>327</td>\n",
              "      <td>324.804382</td>\n",
              "      <td>6</td>\n",
              "      <td>5.947687</td>\n",
              "      <td>313</td>\n",
              "      <td>314.236115</td>\n",
              "    </tr>\n",
              "    <tr>\n",
              "      <th>04/13/2020</th>\n",
              "      <td>327</td>\n",
              "      <td>324.821136</td>\n",
              "      <td>6</td>\n",
              "      <td>5.947687</td>\n",
              "      <td>313</td>\n",
              "      <td>314.236115</td>\n",
              "    </tr>\n",
              "    <tr>\n",
              "      <th>04/14/2020</th>\n",
              "      <td>327</td>\n",
              "      <td>324.828613</td>\n",
              "      <td>6</td>\n",
              "      <td>5.947687</td>\n",
              "      <td>314</td>\n",
              "      <td>314.236115</td>\n",
              "    </tr>\n",
              "    <tr>\n",
              "      <th>04/15/2020</th>\n",
              "      <td>327</td>\n",
              "      <td>324.835022</td>\n",
              "      <td>6</td>\n",
              "      <td>5.947687</td>\n",
              "      <td>314</td>\n",
              "      <td>314.236115</td>\n",
              "    </tr>\n",
              "    <tr>\n",
              "      <th>04/16/2020</th>\n",
              "      <td>328</td>\n",
              "      <td>324.835022</td>\n",
              "      <td>6</td>\n",
              "      <td>5.947687</td>\n",
              "      <td>315</td>\n",
              "      <td>314.236115</td>\n",
              "    </tr>\n",
              "    <tr>\n",
              "      <th>04/17/2020</th>\n",
              "      <td>328</td>\n",
              "      <td>324.886810</td>\n",
              "      <td>6</td>\n",
              "      <td>5.947687</td>\n",
              "      <td>316</td>\n",
              "      <td>314.236115</td>\n",
              "    </tr>\n",
              "    <tr>\n",
              "      <th>04/18/2020</th>\n",
              "      <td>328</td>\n",
              "      <td>324.949036</td>\n",
              "      <td>6</td>\n",
              "      <td>5.947687</td>\n",
              "      <td>316</td>\n",
              "      <td>314.236115</td>\n",
              "    </tr>\n",
              "    <tr>\n",
              "      <th>04/19/2020</th>\n",
              "      <td>328</td>\n",
              "      <td>325.006439</td>\n",
              "      <td>6</td>\n",
              "      <td>5.947687</td>\n",
              "      <td>316</td>\n",
              "      <td>314.236115</td>\n",
              "    </tr>\n",
              "    <tr>\n",
              "      <th>04/20/2020</th>\n",
              "      <td>328</td>\n",
              "      <td>325.052643</td>\n",
              "      <td>6</td>\n",
              "      <td>5.947686</td>\n",
              "      <td>317</td>\n",
              "      <td>314.236084</td>\n",
              "    </tr>\n",
              "    <tr>\n",
              "      <th>04/21/2020</th>\n",
              "      <td>328</td>\n",
              "      <td>325.086578</td>\n",
              "      <td>6</td>\n",
              "      <td>5.947686</td>\n",
              "      <td>317</td>\n",
              "      <td>314.236084</td>\n",
              "    </tr>\n",
              "    <tr>\n",
              "      <th>04/22/2020</th>\n",
              "      <td>328</td>\n",
              "      <td>325.109955</td>\n",
              "      <td>6</td>\n",
              "      <td>5.947686</td>\n",
              "      <td>317</td>\n",
              "      <td>314.236084</td>\n",
              "    </tr>\n",
              "  </tbody>\n",
              "</table>\n",
              "</div>"
            ],
            "text/plain": [
              "            Hebei Confirmed Cases  ...  Hebei Predicted Recovered\n",
              "Dates                              ...                           \n",
              "03/27/2020                    319  ...                 314.236115\n",
              "03/28/2020                    319  ...                 314.236115\n",
              "03/29/2020                    319  ...                 314.236115\n",
              "03/30/2020                    321  ...                 314.236115\n",
              "03/31/2020                    321  ...                 314.236115\n",
              "04/01/2020                    323  ...                 314.236115\n",
              "04/02/2020                    325  ...                 314.236115\n",
              "04/03/2020                    326  ...                 314.236115\n",
              "04/04/2020                    326  ...                 314.236115\n",
              "04/05/2020                    327  ...                 314.236115\n",
              "04/06/2020                    327  ...                 314.236115\n",
              "04/07/2020                    327  ...                 314.236115\n",
              "04/08/2020                    327  ...                 314.236115\n",
              "04/09/2020                    327  ...                 314.236115\n",
              "04/10/2020                    327  ...                 314.236115\n",
              "04/11/2020                    327  ...                 314.236115\n",
              "04/12/2020                    327  ...                 314.236115\n",
              "04/13/2020                    327  ...                 314.236115\n",
              "04/14/2020                    327  ...                 314.236115\n",
              "04/15/2020                    327  ...                 314.236115\n",
              "04/16/2020                    328  ...                 314.236115\n",
              "04/17/2020                    328  ...                 314.236115\n",
              "04/18/2020                    328  ...                 314.236115\n",
              "04/19/2020                    328  ...                 314.236115\n",
              "04/20/2020                    328  ...                 314.236084\n",
              "04/21/2020                    328  ...                 314.236084\n",
              "04/22/2020                    328  ...                 314.236084\n",
              "\n",
              "[27 rows x 6 columns]"
            ]
          },
          "metadata": {
            "tags": []
          },
          "execution_count": 195
        }
      ]
    },
    {
      "cell_type": "code",
      "metadata": {
        "colab_type": "code",
        "outputId": "8b9e02d6-197c-4940-a096-00091cb89a4a",
        "id": "v-UsPgg9c4l4",
        "colab": {
          "base_uri": "https://localhost:8080/",
          "height": 296
        }
      },
      "source": [
        "valid_final_lstm.plot()"
      ],
      "execution_count": 0,
      "outputs": [
        {
          "output_type": "execute_result",
          "data": {
            "text/plain": [
              "<matplotlib.axes._subplots.AxesSubplot at 0x7f3f990b1278>"
            ]
          },
          "metadata": {
            "tags": []
          },
          "execution_count": 196
        },
        {
          "output_type": "display_data",
          "data": {
            "image/png": "[encoded data removed]",
            "text/plain": [
              "<Figure size 432x288 with 1 Axes>"
            ]
          },
          "metadata": {
            "tags": [],
            "needs_background": "light"
          }
        }
      ]
    },
    {
      "cell_type": "code",
      "metadata": {
        "colab_type": "code",
        "id": "BTRnALp-c4l5",
        "colab": {}
      },
      "source": [
        "from sklearn.metrics import *"
      ],
      "execution_count": 0,
      "outputs": []
    },
    {
      "cell_type": "code",
      "metadata": {
        "colab_type": "code",
        "id": "VMmgCN5Yc4l7",
        "outputId": "4215b598-28dc-4f35-c1c8-0f86c753e3cb",
        "colab": {
          "base_uri": "https://localhost:8080/",
          "height": 34
        }
      },
      "source": [
        "score = r2_score(valid_final_lstm['Hebei Confirmed Cases'], valid_final_lstm['Hebei Predicted Cases'])\n",
        "score"
      ],
      "execution_count": 0,
      "outputs": [
        {
          "output_type": "execute_result",
          "data": {
            "text/plain": [
              "0.22922161845911726"
            ]
          },
          "metadata": {
            "tags": []
          },
          "execution_count": 198
        }
      ]
    },
    {
      "cell_type": "code",
      "metadata": {
        "colab_type": "code",
        "outputId": "769f6608-e479-4425-d67c-5c3a73575269",
        "id": "asAIE8bUc4l8",
        "colab": {
          "base_uri": "https://localhost:8080/",
          "height": 34
        }
      },
      "source": [
        "score1 = r2_score(valid_final_lstm['Hebei Deaths'], valid_final_lstm['Hebei Predicted Deaths'])\n",
        "score1"
      ],
      "execution_count": 0,
      "outputs": [
        {
          "output_type": "execute_result",
          "data": {
            "text/plain": [
              "0.0"
            ]
          },
          "metadata": {
            "tags": []
          },
          "execution_count": 201
        }
      ]
    },
    {
      "cell_type": "code",
      "metadata": {
        "colab_type": "code",
        "outputId": "4cda54bb-d5a8-4440-fa8c-f8dab5f34c93",
        "id": "fiqPmCmpc4l_",
        "colab": {
          "base_uri": "https://localhost:8080/",
          "height": 34
        }
      },
      "source": [
        "score3 = r2_score(valid_final_lstm['Hebei Recovered'], valid_final_lstm['Hebei Predicted Recovered'])\n",
        "score3"
      ],
      "execution_count": 0,
      "outputs": [
        {
          "output_type": "execute_result",
          "data": {
            "text/plain": [
              "-0.39082098701960266"
            ]
          },
          "metadata": {
            "tags": []
          },
          "execution_count": 200
        }
      ]
    },
    {
      "cell_type": "code",
      "metadata": {
        "colab_type": "code",
        "outputId": "4aca0091-9a2c-4580-9982-66b3bd95e11c",
        "id": "TXAGjPGPc4l_",
        "colab": {
          "base_uri": "https://localhost:8080/",
          "height": 34
        }
      },
      "source": [
        "Average = (score + score1 + score3) / 3\n",
        "Average"
      ],
      "execution_count": 0,
      "outputs": [
        {
          "output_type": "execute_result",
          "data": {
            "text/plain": [
              "-0.05386645618682847"
            ]
          },
          "metadata": {
            "tags": []
          },
          "execution_count": 203
        }
      ]
    },
    {
      "cell_type": "code",
      "metadata": {
        "colab_type": "code",
        "outputId": "847e621e-2b4e-442d-933e-60bfa57df165",
        "id": "Bn-tfzyfc4mA",
        "colab": {
          "base_uri": "https://localhost:8080/",
          "height": 607
        }
      },
      "source": [
        "import matplotlib.pyplot as plt\n",
        "fig,a =  plt.subplots(2,2,figsize=(15,10))\n",
        "#plt.xticks([1,2,3], [1,2,3], [1,2,3], [1,2,3]) #['jan', 'March', 'April'], ['jan', 'March', 'April'], ['jan', 'March', 'April'])\n",
        "plt.setp(a, xticks=[0, 12, 26], xticklabels=['27th March', '10th April', '22nd April'])\n",
        "\n",
        "a[0][0].plot(valid_final_lstm['Hebei Confirmed Cases']) \n",
        "a[0][0].plot(valid_final_lstm['Hebei Predicted Cases'])\n",
        "a[0][0].legend(['Hebei Confirmed Cases','Hebei Predicted Cases'], loc=\"upper left\")\n",
        "a[0][0].set_title('LSTM: Hebei Confirmed Cases Vs Hebei Predicted Cases')\n",
        "a[0][1].plot(valid_final_lstm['Hebei Deaths'])\n",
        "a[0][1].plot(valid_final_lstm['Hebei Predicted Deaths'])\n",
        "a[0][1].legend(['Hebei Death Cases','Hebei Predicted Death'], loc=\"upper left\")\n",
        "a[0][1].set_title('LSTM: Hebei Deaths Vs Hebei Predicted Deaths')\n",
        "a[1][0].plot(valid_final_lstm['Hebei Recovered'])\n",
        "a[1][0].plot(valid_final_lstm['Hebei Predicted Recovered'])\n",
        "a[1][0].legend(['Hebei Recovered Cases','Hebei Predicted Recovered'], loc=\"center left\")\n",
        "a[1][0].set_title('LSTM: Hebei Recovered Vs Hebei Predicted Recovered')\n",
        "a[1][1].plot(valid_final_lstm['Hebei Confirmed Cases'])\n",
        "a[1][1].plot(valid_final_lstm['Hebei Deaths'])\n",
        "a[1][1].legend(['Hebei Confirmed Cases','Hebei Deaths'], loc=\"center left\")\n",
        "a[1][1].set_title('LSTM: Hebei Confirmed Cases vs Hebei Deaths')\n",
        "\n",
        "plt.savefig('/content/drive/My Drive/COVID-19/COVID-19_Data/Hebeigrid_LSTM.png', dpi=1200)\n"
      ],
      "execution_count": 0,
      "outputs": [
        {
          "output_type": "display_data",
          "data": {
            "image/png": "[encoded data removed]",
            "text/plain": [
              "<Figure size 1080x720 with 4 Axes>"
            ]
          },
          "metadata": {
            "tags": [],
            "needs_background": "light"
          }
        }
      ]
    },
    {
      "cell_type": "code",
      "metadata": {
        "colab_type": "code",
        "id": "yL4phchhc4mB",
        "colab": {}
      },
      "source": [
        ""
      ],
      "execution_count": 0,
      "outputs": []
    }
  ]
}