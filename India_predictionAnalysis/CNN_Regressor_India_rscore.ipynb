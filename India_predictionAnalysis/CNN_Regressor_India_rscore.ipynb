{
  "nbformat": 4,
  "nbformat_minor": 0,
  "metadata": {
    "colab": {
      "name": "CNN_Regressor_India_rscore.ipynb",
      "provenance": [],
      "collapsed_sections": []
    },
    "kernelspec": {
      "name": "python3",
      "display_name": "Python 3"
    }
  },
  "cells": [
    {
      "cell_type": "code",
      "metadata": {
        "id": "Diq0iFZvivVw",
        "colab_type": "code",
        "outputId": "de97f368-1afc-4b23-dc03-2c75d2b40454",
        "colab": {
          "base_uri": "https://localhost:8080/",
          "height": 121
        }
      },
      "source": [
        "from google.colab import drive\n",
        "drive.mount('/content/drive')"
      ],
      "execution_count": 1,
      "outputs": [
        {
          "output_type": "stream",
          "text": [
            "Go to this URL in a browser: https://accounts.google.com/o/oauth2/auth?client_id=947318989803-6bn6qk8qdgf4n4g3pfee6491hc0brc4i.apps.googleusercontent.com&redirect_uri=urn%3aietf%3awg%3aoauth%3a2.0%3aoob&response_type=code&scope=email%20https%3a%2f%2fwww.googleapis.com%2fauth%2fdocs.test%20https%3a%2f%2fwww.googleapis.com%2fauth%2fdrive%20https%3a%2f%2fwww.googleapis.com%2fauth%2fdrive.photos.readonly%20https%3a%2f%2fwww.googleapis.com%2fauth%2fpeopleapi.readonly\n",
            "\n",
            "Enter your authorization code:\n",
            "··········\n",
            "Mounted at /content/drive\n"
          ],
          "name": "stdout"
        }
      ]
    },
    {
      "cell_type": "code",
      "metadata": {
        "id": "zZVwp_jkebDH",
        "colab_type": "code",
        "colab": {}
      },
      "source": [
        "import pandas as pd\n",
        "raw_seq = pd.read_csv(\"/content/drive/My Drive/wadi/Total_cases_India.csv\")"
      ],
      "execution_count": 0,
      "outputs": []
    },
    {
      "cell_type": "code",
      "metadata": {
        "id": "WobRCkyNy3X4",
        "colab_type": "code",
        "colab": {}
      },
      "source": [
        "raw_seq = raw_seq.rename(columns={'Confirmed Deaths': 'India Deaths', \\\n",
        "                                  'Confirmed Rcovered': 'India Recovered'})"
      ],
      "execution_count": 0,
      "outputs": []
    },
    {
      "cell_type": "code",
      "metadata": {
        "id": "8lTnsHMyhUu_",
        "colab_type": "code",
        "outputId": "193a74d3-cbf4-4a6a-d11d-cbb0615e45bf",
        "colab": {
          "base_uri": "https://localhost:8080/",
          "height": 195
        }
      },
      "source": [
        "raw = raw_seq.iloc[4:]\n",
        "\n",
        "raw.head()"
      ],
      "execution_count": 4,
      "outputs": [
        {
          "output_type": "execute_result",
          "data": {
            "text/html": [
              "<div>\n",
              "<style scoped>\n",
              "    .dataframe tbody tr th:only-of-type {\n",
              "        vertical-align: middle;\n",
              "    }\n",
              "\n",
              "    .dataframe tbody tr th {\n",
              "        vertical-align: top;\n",
              "    }\n",
              "\n",
              "    .dataframe thead th {\n",
              "        text-align: right;\n",
              "    }\n",
              "</style>\n",
              "<table border=\"1\" class=\"dataframe\">\n",
              "  <thead>\n",
              "    <tr style=\"text-align: right;\">\n",
              "      <th></th>\n",
              "      <th>Dates</th>\n",
              "      <th>India Confirmed Cases</th>\n",
              "      <th>India Deaths</th>\n",
              "      <th>India Recovered</th>\n",
              "    </tr>\n",
              "  </thead>\n",
              "  <tbody>\n",
              "    <tr>\n",
              "      <th>4</th>\n",
              "      <td>01/26/2020</td>\n",
              "      <td>0</td>\n",
              "      <td>0</td>\n",
              "      <td>0</td>\n",
              "    </tr>\n",
              "    <tr>\n",
              "      <th>5</th>\n",
              "      <td>01/27/2020</td>\n",
              "      <td>0</td>\n",
              "      <td>0</td>\n",
              "      <td>0</td>\n",
              "    </tr>\n",
              "    <tr>\n",
              "      <th>6</th>\n",
              "      <td>01/28/2020</td>\n",
              "      <td>0</td>\n",
              "      <td>0</td>\n",
              "      <td>0</td>\n",
              "    </tr>\n",
              "    <tr>\n",
              "      <th>7</th>\n",
              "      <td>01/29/2020</td>\n",
              "      <td>0</td>\n",
              "      <td>0</td>\n",
              "      <td>0</td>\n",
              "    </tr>\n",
              "    <tr>\n",
              "      <th>8</th>\n",
              "      <td>01/30/2020</td>\n",
              "      <td>1</td>\n",
              "      <td>0</td>\n",
              "      <td>0</td>\n",
              "    </tr>\n",
              "  </tbody>\n",
              "</table>\n",
              "</div>"
            ],
            "text/plain": [
              "        Dates  India Confirmed Cases  India Deaths  India Recovered\n",
              "4  01/26/2020                      0             0                0\n",
              "5  01/27/2020                      0             0                0\n",
              "6  01/28/2020                      0             0                0\n",
              "7  01/29/2020                      0             0                0\n",
              "8  01/30/2020                      1             0                0"
            ]
          },
          "metadata": {
            "tags": []
          },
          "execution_count": 4
        }
      ]
    },
    {
      "cell_type": "code",
      "metadata": {
        "id": "vqCt-8xneii7",
        "colab_type": "code",
        "colab": {}
      },
      "source": [
        "india_confirmed_cases = raw_seq['India Confirmed Cases']\n",
        "india_deaths = raw_seq['India Deaths']\n",
        "india_recovered = raw_seq['India Recovered']"
      ],
      "execution_count": 0,
      "outputs": []
    },
    {
      "cell_type": "code",
      "metadata": {
        "id": "jUpNgS-ekJPV",
        "colab_type": "code",
        "outputId": "759ea5d0-52e2-42c7-c879-f63866fbc171",
        "colab": {
          "base_uri": "https://localhost:8080/",
          "height": 282
        }
      },
      "source": [
        "raw_seq['India Confirmed Cases'].plot()"
      ],
      "execution_count": 6,
      "outputs": [
        {
          "output_type": "execute_result",
          "data": {
            "text/plain": [
              "<matplotlib.axes._subplots.AxesSubplot at 0x7f023f32cfd0>"
            ]
          },
          "metadata": {
            "tags": []
          },
          "execution_count": 6
        },
        {
          "output_type": "display_data",
          "data": {
            "image/png": "[encoded data removed]",
            "text/plain": [
              "<Figure size 432x288 with 1 Axes>"
            ]
          },
          "metadata": {
            "tags": [],
            "needs_background": "light"
          }
        }
      ]
    },
    {
      "cell_type": "code",
      "metadata": {
        "id": "wHB9Pp4Mb7qZ",
        "colab_type": "code",
        "outputId": "c04ea701-c09d-4d4d-8d39-3edf9ecd1666",
        "colab": {
          "base_uri": "https://localhost:8080/",
          "height": 1000
        }
      },
      "source": [
        "# univariate cnn example\n",
        "import numpy as np\n",
        "from numpy import array\n",
        "from keras.models import Sequential\n",
        "from keras.layers import Dense\n",
        "from keras.layers import Flatten\n",
        "from keras.layers.convolutional import Conv1D\n",
        "from keras.layers.convolutional import MaxPooling1D\n",
        "\n",
        "# split a univariate sequence into samples\n",
        "def split_sequence(sequence, n_steps):\n",
        "\tX, y = list(), list()\n",
        "\tfor i in range(len(sequence)):\n",
        "\t\t# find the end of this pattern\n",
        "\t\tend_ix = i + n_steps\n",
        "\t\t# check if we are beyond the sequence\n",
        "\t\tif end_ix > len(sequence)-1:\n",
        "\t\t\tbreak\n",
        "\t\t# gather input and output parts of the pattern\n",
        "\t\tseq_x, seq_y = sequence[i:end_ix], sequence[end_ix]\n",
        "\t\tX.append(seq_x)\n",
        "\t\ty.append(seq_y)\n",
        "\treturn array(X), array(y)\n",
        "\n",
        "# define input sequence\n",
        "#raw_seq = pd.read_csv(\"/content/drive/My Drive/Total_cases_Canada.csv\")\n",
        "# choose a number of time steps\n",
        "n_steps = 3\n",
        "# split into samples\n",
        "X, y = split_sequence(india_confirmed_cases, n_steps)\n",
        "# reshape from [samples, timesteps] into [samples, timesteps, features]\n",
        "n_features = 1\n",
        "X = X.reshape((X.shape[0], X.shape[1], n_features))\n",
        "# define model\n",
        "model = Sequential()\n",
        "model.add(Conv1D(filters=64, kernel_size=2, activation='relu', input_shape=(n_steps, n_features)))\n",
        "model.add(MaxPooling1D(pool_size=2))\n",
        "model.add(Flatten())\n",
        "model.add(Dense(50, activation='relu'))\n",
        "model.add(Dense(1))\n",
        "model.compile(optimizer='adam', loss='mse')\n",
        "# fit model\n",
        "model.fit(X, y, epochs=1000, verbose=0)\n",
        "# demonstrate prediction\n",
        "x= len(india_confirmed_cases)\n",
        "pred_val = []\n",
        "for i in range(x):\n",
        "  i=india_confirmed_cases[i]\n",
        "  x_input1=[i,i+1,i+2]\n",
        "  x_input=np.asarray(x_input1)\n",
        "  x_input = x_input.reshape((1, n_steps, n_features))\n",
        "  yhat = model.predict(x_input, verbose=1)\n",
        "  pred_val.append(yhat)\n",
        "  print(yhat)\n",
        "#x_input = array([1263, 1264, 1265])\n",
        "#x_input = x_input.reshape((1, n_steps, n_features))\n",
        "#yhat = model.predict(x_input, verbose=0)\n",
        "#print(yhat)"
      ],
      "execution_count": 7,
      "outputs": [
        {
          "output_type": "stream",
          "text": [
            "Using TensorFlow backend.\n"
          ],
          "name": "stderr"
        },
        {
          "output_type": "stream",
          "text": [
            "1/1 [==============================] - 0s 13ms/step\n",
            "[[1.8940935]]\n",
            "1/1 [==============================] - 0s 671us/step\n",
            "[[1.8940935]]\n",
            "1/1 [==============================] - 0s 612us/step\n",
            "[[1.8940935]]\n",
            "1/1 [==============================] - 0s 2ms/step\n",
            "[[1.8940935]]\n",
            "1/1 [==============================] - 0s 4ms/step\n",
            "[[1.8940935]]\n",
            "1/1 [==============================] - 0s 726us/step\n",
            "[[1.8940935]]\n",
            "1/1 [==============================] - 0s 607us/step\n",
            "[[1.8940935]]\n",
            "1/1 [==============================] - 0s 1ms/step\n",
            "[[1.8940935]]\n",
            "1/1 [==============================] - 0s 845us/step\n",
            "[[4.923611]]\n",
            "1/1 [==============================] - 0s 868us/step\n",
            "[[4.923611]]\n",
            "1/1 [==============================] - 0s 850us/step\n",
            "[[4.923611]]\n",
            "1/1 [==============================] - 0s 818us/step\n",
            "[[7.1237288]]\n",
            "1/1 [==============================] - 0s 641us/step\n",
            "[[8.893687]]\n",
            "1/1 [==============================] - 0s 1ms/step\n",
            "[[8.893687]]\n",
            "1/1 [==============================] - 0s 892us/step\n",
            "[[8.893687]]\n",
            "1/1 [==============================] - 0s 2ms/step\n",
            "[[8.893687]]\n",
            "1/1 [==============================] - 0s 742us/step\n",
            "[[8.893687]]\n",
            "1/1 [==============================] - 0s 572us/step\n",
            "[[8.893687]]\n",
            "1/1 [==============================] - 0s 1ms/step\n",
            "[[8.893687]]\n",
            "1/1 [==============================] - 0s 526us/step\n",
            "[[8.893687]]\n",
            "1/1 [==============================] - 0s 700us/step\n",
            "[[8.893687]]\n",
            "1/1 [==============================] - 0s 734us/step\n",
            "[[8.893687]]\n",
            "1/1 [==============================] - 0s 2ms/step\n",
            "[[8.893687]]\n",
            "1/1 [==============================] - 0s 2ms/step\n",
            "[[8.893687]]\n",
            "1/1 [==============================] - 0s 614us/step\n",
            "[[8.893687]]\n",
            "1/1 [==============================] - 0s 733us/step\n",
            "[[8.893687]]\n",
            "1/1 [==============================] - 0s 946us/step\n",
            "[[8.893687]]\n",
            "1/1 [==============================] - 0s 2ms/step\n",
            "[[8.893687]]\n",
            "1/1 [==============================] - 0s 809us/step\n",
            "[[8.893687]]\n",
            "1/1 [==============================] - 0s 815us/step\n",
            "[[8.893687]]\n",
            "1/1 [==============================] - 0s 2ms/step\n",
            "[[8.893687]]\n",
            "1/1 [==============================] - 0s 1ms/step\n",
            "[[8.893687]]\n",
            "1/1 [==============================] - 0s 1ms/step\n",
            "[[8.893687]]\n",
            "1/1 [==============================] - 0s 1000us/step\n",
            "[[8.893687]]\n",
            "1/1 [==============================] - 0s 592us/step\n",
            "[[8.893687]]\n",
            "1/1 [==============================] - 0s 684us/step\n",
            "[[8.893687]]\n",
            "1/1 [==============================] - 0s 820us/step\n",
            "[[8.893687]]\n",
            "1/1 [==============================] - 0s 801us/step\n",
            "[[8.893687]]\n",
            "1/1 [==============================] - 0s 806us/step\n",
            "[[8.893687]]\n",
            "1/1 [==============================] - 0s 735us/step\n",
            "[[8.893687]]\n",
            "1/1 [==============================] - 0s 587us/step\n",
            "[[12.571062]]\n",
            "1/1 [==============================] - 0s 679us/step\n",
            "[[12.571062]]\n",
            "1/1 [==============================] - 0s 825us/step\n",
            "[[40.064777]]\n",
            "1/1 [==============================] - 0s 816us/step\n",
            "[[42.329643]]\n",
            "1/1 [==============================] - 0s 781us/step\n",
            "[[43.46208]]\n",
            "1/1 [==============================] - 0s 718us/step\n",
            "[[46.859364]]\n",
            "1/1 [==============================] - 0s 569us/step\n",
            "[[52.521523]]\n",
            "1/1 [==============================] - 0s 606us/step\n",
            "[[57.05124]]\n",
            "1/1 [==============================] - 0s 653us/step\n",
            "[[71.772835]]\n",
            "1/1 [==============================] - 0s 618us/step\n",
            "[[78.56742]]\n",
            "1/1 [==============================] - 0s 593us/step\n",
            "[[91.02416]]\n",
            "1/1 [==============================] - 0s 585us/step\n",
            "[[101.21603]]\n",
            "1/1 [==============================] - 0s 984us/step\n",
            "[[123.477]]\n",
            "1/1 [==============================] - 0s 613us/step\n",
            "[[135.06375]]\n",
            "1/1 [==============================] - 0s 599us/step\n",
            "[[141.3838]]\n",
            "1/1 [==============================] - 0s 609us/step\n",
            "[[165.61069]]\n",
            "1/1 [==============================] - 0s 671us/step\n",
            "[[180.6128]]\n",
            "1/1 [==============================] - 0s 539us/step\n",
            "[[221.67262]]\n",
            "1/1 [==============================] - 0s 565us/step\n",
            "[[275.8305]]\n",
            "1/1 [==============================] - 0s 928us/step\n",
            "[[369.43924]]\n",
            "1/1 [==============================] - 0s 600us/step\n",
            "[[441.27838]]\n",
            "1/1 [==============================] - 0s 622us/step\n",
            "[[553.3911]]\n",
            "1/1 [==============================] - 0s 594us/step\n",
            "[[593.6647]]\n",
            "1/1 [==============================] - 0s 857us/step\n",
            "[[725.36993]]\n",
            "1/1 [==============================] - 0s 577us/step\n",
            "[[801.56305]]\n",
            "1/1 [==============================] - 0s 578us/step\n",
            "[[975.71875]]\n",
            "1/1 [==============================] - 0s 595us/step\n",
            "[[1084.5658]]\n",
            "1/1 [==============================] - 0s 573us/step\n",
            "[[1124.8395]]\n",
            "1/1 [==============================] - 0s 601us/step\n",
            "[[1371.9227]]\n",
            "1/1 [==============================] - 0s 729us/step\n",
            "[[1530.8398]]\n",
            "1/1 [==============================] - 0s 1ms/step\n",
            "[[2185.0122]]\n",
            "1/1 [==============================] - 0s 639us/step\n",
            "[[2778.23]]\n",
            "1/1 [==============================] - 0s 618us/step\n",
            "[[2804.3533]]\n",
            "1/1 [==============================] - 0s 2ms/step\n",
            "[[3364.9167]]\n",
            "1/1 [==============================] - 0s 1ms/step\n",
            "[[3915.6846]]\n",
            "1/1 [==============================] - 0s 645us/step\n",
            "[[5210.967]]\n",
            "1/1 [==============================] - 0s 5ms/step\n",
            "[[5791.122]]\n",
            "1/1 [==============================] - 0s 590us/step\n",
            "[[6449.649]]\n",
            "1/1 [==============================] - 0s 619us/step\n",
            "[[7330.2236]]\n",
            "1/1 [==============================] - 0s 568us/step\n",
            "[[8280.461]]\n",
            "1/1 [==============================] - 0s 1ms/step\n",
            "[[9203.487]]\n",
            "1/1 [==============================] - 0s 2ms/step\n",
            "[[10029.637]]\n",
            "1/1 [==============================] - 0s 2ms/step\n",
            "[[11388.053]]\n",
            "1/1 [==============================] - 0s 2ms/step\n",
            "[[12513.532]]\n",
            "1/1 [==============================] - 0s 2ms/step\n",
            "[[13422.408]]\n",
            "1/1 [==============================] - 0s 3ms/step\n",
            "[[14628.435]]\n",
            "1/1 [==============================] - 0s 4ms/step\n",
            "[[15632.007]]\n",
            "1/1 [==============================] - 0s 2ms/step\n",
            "[[17123.213]]\n",
            "1/1 [==============================] - 0s 4ms/step\n",
            "[[19183.697]]\n",
            "1/1 [==============================] - 0s 3ms/step\n",
            "[[20189.443]]\n",
            "1/1 [==============================] - 0s 1ms/step\n",
            "[[21866.78]]\n",
            "1/1 [==============================] - 0s 3ms/step\n",
            "[[23270.912]]\n"
          ],
          "name": "stdout"
        }
      ]
    },
    {
      "cell_type": "code",
      "metadata": {
        "id": "vagYhyT3cJai",
        "colab_type": "code",
        "colab": {}
      },
      "source": [
        "pred_val\n",
        "predict= np.concatenate((pred_val))\n",
        "Predict_cases=pd.DataFrame(predict)\n",
        "Predict_cases['Predicted Cases']=Predict_cases\n",
        "Predict_cases.pop(0)\n",
        "Predict_cases\n",
        "#predicted_cases= Predict_cases.join(india_confirmed_cases)\n",
        "raw_seq = raw_seq.join(Predict_cases)\n",
        "raw_seq\n",
        "t1 = raw_seq\n"
      ],
      "execution_count": 0,
      "outputs": []
    },
    {
      "cell_type": "code",
      "metadata": {
        "id": "IPaL3Plhdjco",
        "colab_type": "code",
        "outputId": "6a69d506-04f5-4922-917b-e8e197c9c242",
        "colab": {
          "base_uri": "https://localhost:8080/",
          "height": 252
        }
      },
      "source": [
        "print(t1)"
      ],
      "execution_count": 9,
      "outputs": [
        {
          "output_type": "stream",
          "text": [
            "         Dates  India Confirmed Cases  ...  India Recovered  Predicted Cases\n",
            "0   01/22/2020                      0  ...                0         1.894094\n",
            "1   01/23/2020                      0  ...                0         1.894094\n",
            "2   01/24/2020                      0  ...                0         1.894094\n",
            "3   01/25/2020                      0  ...                0         1.894094\n",
            "4   01/26/2020                      0  ...                0         1.894094\n",
            "..         ...                    ...  ...              ...              ...\n",
            "87  04/18/2020                  15722  ...             2463     17123.212891\n",
            "88  04/19/2020                  17615  ...             2854     19183.697266\n",
            "89  04/20/2020                  18539  ...             3273     20189.443359\n",
            "90  04/21/2020                  20080  ...             3975     21866.779297\n",
            "91  04/22/2020                  21370  ...             4370     23270.912109\n",
            "\n",
            "[92 rows x 5 columns]\n"
          ],
          "name": "stdout"
        }
      ]
    },
    {
      "cell_type": "code",
      "metadata": {
        "id": "sMTS3B2GdpWC",
        "colab_type": "code",
        "outputId": "ceac6e82-8a3d-4c6d-a9b7-ef2cae69a87f",
        "colab": {
          "base_uri": "https://localhost:8080/",
          "height": 282
        }
      },
      "source": [
        "t1.plot()"
      ],
      "execution_count": 10,
      "outputs": [
        {
          "output_type": "execute_result",
          "data": {
            "text/plain": [
              "<matplotlib.axes._subplots.AxesSubplot at 0x7f023f27e240>"
            ]
          },
          "metadata": {
            "tags": []
          },
          "execution_count": 10
        },
        {
          "output_type": "display_data",
          "data": {
            "image/png": "[encoded data removed]",
            "text/plain": [
              "<Figure size 432x288 with 1 Axes>"
            ]
          },
          "metadata": {
            "tags": [],
            "needs_background": "light"
          }
        }
      ]
    },
    {
      "cell_type": "code",
      "metadata": {
        "id": "py5-7Of-1HFC",
        "colab_type": "code",
        "outputId": "bb9b4cee-1c02-471e-9624-87eacfa9cbe7",
        "colab": {
          "base_uri": "https://localhost:8080/",
          "height": 1000
        }
      },
      "source": [
        "# India Deaths\n",
        "import numpy as np\n",
        "from numpy import array\n",
        "from keras.models import Sequential\n",
        "from keras.layers import Dense\n",
        "from keras.layers import Flatten\n",
        "from keras.layers.convolutional import Conv1D\n",
        "from keras.layers.convolutional import MaxPooling1D\n",
        "\n",
        "# split a univariate sequence into samples\n",
        "def split_sequence(sequence, n_steps):\n",
        "\tX, y = list(), list()\n",
        "\tfor i in range(len(sequence)):\n",
        "\t\t# find the end of this pattern\n",
        "\t\tend_ix = i + n_steps\n",
        "\t\t# check if we are beyond the sequence\n",
        "\t\tif end_ix > len(sequence)-1:\n",
        "\t\t\tbreak\n",
        "\t\t# gather input and output parts of the pattern\n",
        "\t\tseq_x, seq_y = sequence[i:end_ix], sequence[end_ix]\n",
        "\t\tX.append(seq_x)\n",
        "\t\ty.append(seq_y)\n",
        "\treturn array(X), array(y)\n",
        "\n",
        "# define input sequence\n",
        "#raw_seq = pd.read_csv(\"/content/drive/My Drive/Total_cases_Canada.csv\")\n",
        "# choose a number of time steps\n",
        "n_steps = 3\n",
        "# split into samples\n",
        "X, y = split_sequence(india_deaths, n_steps)\n",
        "# reshape from [samples, timesteps] into [samples, timesteps, features]\n",
        "n_features = 1\n",
        "X = X.reshape((X.shape[0], X.shape[1], n_features))\n",
        "# define model\n",
        "model = Sequential()\n",
        "model.add(Conv1D(filters=64, kernel_size=2, activation='relu', input_shape=(n_steps, n_features)))\n",
        "model.add(MaxPooling1D(pool_size=2))\n",
        "model.add(Flatten())\n",
        "model.add(Dense(50, activation='relu'))\n",
        "model.add(Dense(1))\n",
        "model.compile(optimizer='adam', loss='mse')\n",
        "# fit model\n",
        "model.fit(X, y, epochs=1000, verbose=0)\n",
        "# demonstrate prediction\n",
        "x= len(india_deaths)\n",
        "pred_val = []\n",
        "for i in range(x):\n",
        "  i=india_deaths[i]\n",
        "  x_input1=[i,i+1,i+2]\n",
        "  x_input=np.asarray(x_input1)\n",
        "  x_input = x_input.reshape((1, n_steps, n_features))\n",
        "  yhat = model.predict(x_input, verbose=1)\n",
        "  pred_val.append(yhat)\n",
        "  print(yhat)\n",
        "#x_input = array([1263, 1264, 1265])\n",
        "#x_input = x_input.reshape((1, n_steps, n_features))\n",
        "#yhat = model.predict(x_input, verbose=0)\n",
        "#print(yhat)"
      ],
      "execution_count": 11,
      "outputs": [
        {
          "output_type": "stream",
          "text": [
            "1/1 [==============================] - 0s 10ms/step\n",
            "[[1.3547008]]\n",
            "1/1 [==============================] - 0s 862us/step\n",
            "[[1.3547008]]\n",
            "1/1 [==============================] - 0s 2ms/step\n",
            "[[1.3547008]]\n",
            "1/1 [==============================] - 0s 5ms/step\n",
            "[[1.3547008]]\n",
            "1/1 [==============================] - 0s 1ms/step\n",
            "[[1.3547008]]\n",
            "1/1 [==============================] - 0s 1ms/step\n",
            "[[1.3547008]]\n",
            "1/1 [==============================] - 0s 1ms/step\n",
            "[[1.3547008]]\n",
            "1/1 [==============================] - 0s 730us/step\n",
            "[[1.3547008]]\n",
            "1/1 [==============================] - 0s 1ms/step\n",
            "[[1.3547008]]\n",
            "1/1 [==============================] - 0s 748us/step\n",
            "[[1.3547008]]\n",
            "1/1 [==============================] - 0s 2ms/step\n",
            "[[1.3547008]]\n",
            "1/1 [==============================] - 0s 2ms/step\n",
            "[[1.3547008]]\n",
            "1/1 [==============================] - 0s 965us/step\n",
            "[[1.3547008]]\n",
            "1/1 [==============================] - 0s 885us/step\n",
            "[[1.3547008]]\n",
            "1/1 [==============================] - 0s 1ms/step\n",
            "[[1.3547008]]\n",
            "1/1 [==============================] - 0s 898us/step\n",
            "[[1.3547008]]\n",
            "1/1 [==============================] - 0s 1ms/step\n",
            "[[1.3547008]]\n",
            "1/1 [==============================] - 0s 912us/step\n",
            "[[1.3547008]]\n",
            "1/1 [==============================] - 0s 1ms/step\n",
            "[[1.3547008]]\n",
            "1/1 [==============================] - 0s 965us/step\n",
            "[[1.3547008]]\n",
            "1/1 [==============================] - 0s 580us/step\n",
            "[[1.3547008]]\n",
            "1/1 [==============================] - 0s 751us/step\n",
            "[[1.3547008]]\n",
            "1/1 [==============================] - 0s 937us/step\n",
            "[[1.3547008]]\n",
            "1/1 [==============================] - 0s 672us/step\n",
            "[[1.3547008]]\n",
            "1/1 [==============================] - 0s 1ms/step\n",
            "[[1.3547008]]\n",
            "1/1 [==============================] - 0s 968us/step\n",
            "[[1.3547008]]\n",
            "1/1 [==============================] - 0s 612us/step\n",
            "[[1.3547008]]\n",
            "1/1 [==============================] - 0s 1ms/step\n",
            "[[1.3547008]]\n",
            "1/1 [==============================] - 0s 771us/step\n",
            "[[1.3547008]]\n",
            "1/1 [==============================] - 0s 1ms/step\n",
            "[[1.3547008]]\n",
            "1/1 [==============================] - 0s 823us/step\n",
            "[[1.3547008]]\n",
            "1/1 [==============================] - 0s 763us/step\n",
            "[[1.3547008]]\n",
            "1/1 [==============================] - 0s 2ms/step\n",
            "[[1.3547008]]\n",
            "1/1 [==============================] - 0s 806us/step\n",
            "[[1.3547008]]\n",
            "1/1 [==============================] - 0s 13ms/step\n",
            "[[1.3547008]]\n",
            "1/1 [==============================] - 0s 1ms/step\n",
            "[[1.3547008]]\n",
            "1/1 [==============================] - 0s 611us/step\n",
            "[[1.3547008]]\n",
            "1/1 [==============================] - 0s 641us/step\n",
            "[[1.3547008]]\n",
            "1/1 [==============================] - 0s 608us/step\n",
            "[[1.3547008]]\n",
            "1/1 [==============================] - 0s 890us/step\n",
            "[[1.3547008]]\n",
            "1/1 [==============================] - 0s 773us/step\n",
            "[[1.3547008]]\n",
            "1/1 [==============================] - 0s 709us/step\n",
            "[[1.3547008]]\n",
            "1/1 [==============================] - 0s 4ms/step\n",
            "[[1.3547008]]\n",
            "1/1 [==============================] - 0s 1ms/step\n",
            "[[1.3547008]]\n",
            "1/1 [==============================] - 0s 943us/step\n",
            "[[1.3547008]]\n",
            "1/1 [==============================] - 0s 2ms/step\n",
            "[[1.3547008]]\n",
            "1/1 [==============================] - 0s 772us/step\n",
            "[[1.3547008]]\n",
            "1/1 [==============================] - 0s 1ms/step\n",
            "[[1.3547008]]\n",
            "1/1 [==============================] - 0s 1ms/step\n",
            "[[1.3547008]]\n",
            "1/1 [==============================] - 0s 1ms/step\n",
            "[[2.045271]]\n",
            "1/1 [==============================] - 0s 783us/step\n",
            "[[2.045271]]\n",
            "1/1 [==============================] - 0s 774us/step\n",
            "[[3.1949582]]\n",
            "1/1 [==============================] - 0s 793us/step\n",
            "[[3.1949582]]\n",
            "1/1 [==============================] - 0s 901us/step\n",
            "[[3.1949582]]\n",
            "1/1 [==============================] - 0s 1ms/step\n",
            "[[3.1949582]]\n",
            "1/1 [==============================] - 0s 1ms/step\n",
            "[[4.618322]]\n",
            "1/1 [==============================] - 0s 1ms/step\n",
            "[[4.618322]]\n",
            "1/1 [==============================] - 0s 3ms/step\n",
            "[[6.491863]]\n",
            "1/1 [==============================] - 0s 727us/step\n",
            "[[8.434643]]\n",
            "1/1 [==============================] - 0s 723us/step\n",
            "[[6.491863]]\n",
            "1/1 [==============================] - 0s 735us/step\n",
            "[[12.399603]]\n",
            "1/1 [==============================] - 0s 787us/step\n",
            "[[18.327808]]\n",
            "1/1 [==============================] - 0s 660us/step\n",
            "[[18.327808]]\n",
            "1/1 [==============================] - 0s 643us/step\n",
            "[[22.249016]]\n",
            "1/1 [==============================] - 0s 2ms/step\n",
            "[[32.340027]]\n",
            "1/1 [==============================] - 0s 709us/step\n",
            "[[32.340027]]\n",
            "1/1 [==============================] - 0s 628us/step\n",
            "[[37.046917]]\n",
            "1/1 [==============================] - 0s 716us/step\n",
            "[[39.99148]]\n",
            "1/1 [==============================] - 0s 908us/step\n",
            "[[44.89908]]\n",
            "1/1 [==============================] - 0s 1ms/step\n",
            "[[47.853325]]\n",
            "1/1 [==============================] - 0s 761us/step\n",
            "[[70.52287]]\n",
            "1/1 [==============================] - 0s 820us/step\n",
            "[[84.32173]]\n",
            "1/1 [==============================] - 0s 777us/step\n",
            "[[84.32173]]\n",
            "1/1 [==============================] - 0s 2ms/step\n",
            "[[99.39599]]\n",
            "1/1 [==============================] - 0s 760us/step\n",
            "[[113.64842]]\n",
            "1/1 [==============================] - 0s 1ms/step\n",
            "[[154.2131]]\n",
            "1/1 [==============================] - 0s 1ms/step\n",
            "[[169.56189]]\n",
            "1/1 [==============================] - 0s 2ms/step\n",
            "[[200.25949]]\n",
            "1/1 [==============================] - 0s 605us/step\n",
            "[[252.88394]]\n",
            "1/1 [==============================] - 0s 1ms/step\n",
            "[[274.81076]]\n",
            "1/1 [==============================] - 0s 1ms/step\n",
            "[[320.85712]]\n",
            "1/1 [==============================] - 0s 2ms/step\n",
            "[[367.99985]]\n",
            "1/1 [==============================] - 0s 2ms/step\n",
            "[[397.6011]]\n",
            "1/1 [==============================] - 0s 1ms/step\n",
            "[[435.97308]]\n",
            "1/1 [==============================] - 0s 599us/step\n",
            "[[449.12924]]\n",
            "1/1 [==============================] - 0s 782us/step\n",
            "[[496.2719]]\n",
            "1/1 [==============================] - 0s 891us/step\n",
            "[[537.9329]]\n",
            "1/1 [==============================] - 0s 5ms/step\n",
            "[[576.3048]]\n",
            "1/1 [==============================] - 0s 2ms/step\n",
            "[[617.96594]]\n",
            "1/1 [==============================] - 0s 4ms/step\n",
            "[[654.14526]]\n",
            "1/1 [==============================] - 0s 2ms/step\n",
            "[[712.2514]]\n",
            "1/1 [==============================] - 0s 850us/step\n",
            "[[751.7198]]\n"
          ],
          "name": "stdout"
        }
      ]
    },
    {
      "cell_type": "code",
      "metadata": {
        "id": "ewKOC0cwcaV0",
        "colab_type": "code",
        "colab": {}
      },
      "source": [
        "pred_val\n",
        "predict= np.concatenate((pred_val))\n",
        "Predict_cases=pd.DataFrame(predict)\n",
        "Predict_cases['Predicted Deaths']=Predict_cases\n",
        "Predict_cases.pop(0)\n",
        "Predict_cases\n",
        "#predicted_cases= Predict_cases.join(india_confirmed_cases)\n",
        "raw_seq = raw_seq.join(Predict_cases)\n",
        "raw_seq\n",
        "t2 = raw_seq"
      ],
      "execution_count": 0,
      "outputs": []
    },
    {
      "cell_type": "code",
      "metadata": {
        "id": "yv13r-INeC5N",
        "colab_type": "code",
        "outputId": "f92d9f82-9448-4215-b904-8c45d5d082b8",
        "colab": {
          "base_uri": "https://localhost:8080/",
          "height": 252
        }
      },
      "source": [
        "print(t2)"
      ],
      "execution_count": 13,
      "outputs": [
        {
          "output_type": "stream",
          "text": [
            "         Dates  India Confirmed Cases  ...  Predicted Cases  Predicted Deaths\n",
            "0   01/22/2020                      0  ...         1.894094          1.354701\n",
            "1   01/23/2020                      0  ...         1.894094          1.354701\n",
            "2   01/24/2020                      0  ...         1.894094          1.354701\n",
            "3   01/25/2020                      0  ...         1.894094          1.354701\n",
            "4   01/26/2020                      0  ...         1.894094          1.354701\n",
            "..         ...                    ...  ...              ...               ...\n",
            "87  04/18/2020                  15722  ...     17123.212891        576.304810\n",
            "88  04/19/2020                  17615  ...     19183.697266        617.965942\n",
            "89  04/20/2020                  18539  ...     20189.443359        654.145264\n",
            "90  04/21/2020                  20080  ...     21866.779297        712.251404\n",
            "91  04/22/2020                  21370  ...     23270.912109        751.719788\n",
            "\n",
            "[92 rows x 6 columns]\n"
          ],
          "name": "stdout"
        }
      ]
    },
    {
      "cell_type": "code",
      "metadata": {
        "id": "0Vaone0bePOG",
        "colab_type": "code",
        "outputId": "825b24d5-c98a-4d55-bc40-3219efcfc13b",
        "colab": {
          "base_uri": "https://localhost:8080/",
          "height": 343
        }
      },
      "source": [
        "t2.tail(10)"
      ],
      "execution_count": 14,
      "outputs": [
        {
          "output_type": "execute_result",
          "data": {
            "text/html": [
              "<div>\n",
              "<style scoped>\n",
              "    .dataframe tbody tr th:only-of-type {\n",
              "        vertical-align: middle;\n",
              "    }\n",
              "\n",
              "    .dataframe tbody tr th {\n",
              "        vertical-align: top;\n",
              "    }\n",
              "\n",
              "    .dataframe thead th {\n",
              "        text-align: right;\n",
              "    }\n",
              "</style>\n",
              "<table border=\"1\" class=\"dataframe\">\n",
              "  <thead>\n",
              "    <tr style=\"text-align: right;\">\n",
              "      <th></th>\n",
              "      <th>Dates</th>\n",
              "      <th>India Confirmed Cases</th>\n",
              "      <th>India Deaths</th>\n",
              "      <th>India Recovered</th>\n",
              "      <th>Predicted Cases</th>\n",
              "      <th>Predicted Deaths</th>\n",
              "    </tr>\n",
              "  </thead>\n",
              "  <tbody>\n",
              "    <tr>\n",
              "      <th>82</th>\n",
              "      <td>04/13/2020</td>\n",
              "      <td>10453</td>\n",
              "      <td>358</td>\n",
              "      <td>1181</td>\n",
              "      <td>11388.052734</td>\n",
              "      <td>397.601105</td>\n",
              "    </tr>\n",
              "    <tr>\n",
              "      <th>83</th>\n",
              "      <td>04/14/2020</td>\n",
              "      <td>11487</td>\n",
              "      <td>393</td>\n",
              "      <td>1359</td>\n",
              "      <td>12513.532227</td>\n",
              "      <td>435.973083</td>\n",
              "    </tr>\n",
              "    <tr>\n",
              "      <th>84</th>\n",
              "      <td>04/15/2020</td>\n",
              "      <td>12322</td>\n",
              "      <td>405</td>\n",
              "      <td>1432</td>\n",
              "      <td>13422.408203</td>\n",
              "      <td>449.129242</td>\n",
              "    </tr>\n",
              "    <tr>\n",
              "      <th>85</th>\n",
              "      <td>04/16/2020</td>\n",
              "      <td>13430</td>\n",
              "      <td>448</td>\n",
              "      <td>1768</td>\n",
              "      <td>14628.434570</td>\n",
              "      <td>496.271912</td>\n",
              "    </tr>\n",
              "    <tr>\n",
              "      <th>86</th>\n",
              "      <td>04/17/2020</td>\n",
              "      <td>14352</td>\n",
              "      <td>486</td>\n",
              "      <td>2041</td>\n",
              "      <td>15632.006836</td>\n",
              "      <td>537.932922</td>\n",
              "    </tr>\n",
              "    <tr>\n",
              "      <th>87</th>\n",
              "      <td>04/18/2020</td>\n",
              "      <td>15722</td>\n",
              "      <td>521</td>\n",
              "      <td>2463</td>\n",
              "      <td>17123.212891</td>\n",
              "      <td>576.304810</td>\n",
              "    </tr>\n",
              "    <tr>\n",
              "      <th>88</th>\n",
              "      <td>04/19/2020</td>\n",
              "      <td>17615</td>\n",
              "      <td>559</td>\n",
              "      <td>2854</td>\n",
              "      <td>19183.697266</td>\n",
              "      <td>617.965942</td>\n",
              "    </tr>\n",
              "    <tr>\n",
              "      <th>89</th>\n",
              "      <td>04/20/2020</td>\n",
              "      <td>18539</td>\n",
              "      <td>592</td>\n",
              "      <td>3273</td>\n",
              "      <td>20189.443359</td>\n",
              "      <td>654.145264</td>\n",
              "    </tr>\n",
              "    <tr>\n",
              "      <th>90</th>\n",
              "      <td>04/21/2020</td>\n",
              "      <td>20080</td>\n",
              "      <td>645</td>\n",
              "      <td>3975</td>\n",
              "      <td>21866.779297</td>\n",
              "      <td>712.251404</td>\n",
              "    </tr>\n",
              "    <tr>\n",
              "      <th>91</th>\n",
              "      <td>04/22/2020</td>\n",
              "      <td>21370</td>\n",
              "      <td>681</td>\n",
              "      <td>4370</td>\n",
              "      <td>23270.912109</td>\n",
              "      <td>751.719788</td>\n",
              "    </tr>\n",
              "  </tbody>\n",
              "</table>\n",
              "</div>"
            ],
            "text/plain": [
              "         Dates  India Confirmed Cases  ...  Predicted Cases  Predicted Deaths\n",
              "82  04/13/2020                  10453  ...     11388.052734        397.601105\n",
              "83  04/14/2020                  11487  ...     12513.532227        435.973083\n",
              "84  04/15/2020                  12322  ...     13422.408203        449.129242\n",
              "85  04/16/2020                  13430  ...     14628.434570        496.271912\n",
              "86  04/17/2020                  14352  ...     15632.006836        537.932922\n",
              "87  04/18/2020                  15722  ...     17123.212891        576.304810\n",
              "88  04/19/2020                  17615  ...     19183.697266        617.965942\n",
              "89  04/20/2020                  18539  ...     20189.443359        654.145264\n",
              "90  04/21/2020                  20080  ...     21866.779297        712.251404\n",
              "91  04/22/2020                  21370  ...     23270.912109        751.719788\n",
              "\n",
              "[10 rows x 6 columns]"
            ]
          },
          "metadata": {
            "tags": []
          },
          "execution_count": 14
        }
      ]
    },
    {
      "cell_type": "code",
      "metadata": {
        "id": "nZaVWJIneoeH",
        "colab_type": "code",
        "outputId": "db3632f6-802e-4bce-9884-bc55dc3d86db",
        "colab": {
          "base_uri": "https://localhost:8080/",
          "height": 282
        }
      },
      "source": [
        "t2.plot()"
      ],
      "execution_count": 15,
      "outputs": [
        {
          "output_type": "execute_result",
          "data": {
            "text/plain": [
              "<matplotlib.axes._subplots.AxesSubplot at 0x7f01f6151278>"
            ]
          },
          "metadata": {
            "tags": []
          },
          "execution_count": 15
        },
        {
          "output_type": "display_data",
          "data": {
            "image/png": "[encoded data removed]",
            "text/plain": [
              "<Figure size 432x288 with 1 Axes>"
            ]
          },
          "metadata": {
            "tags": [],
            "needs_background": "light"
          }
        }
      ]
    },
    {
      "cell_type": "code",
      "metadata": {
        "id": "tpobDpR62bxb",
        "colab_type": "code",
        "outputId": "30c03828-0571-489c-faa2-aa0e3e2e4000",
        "colab": {
          "base_uri": "https://localhost:8080/",
          "height": 1000
        }
      },
      "source": [
        "# India Recovered\n",
        "import numpy as np\n",
        "from numpy import array\n",
        "from keras.models import Sequential\n",
        "from keras.layers import Dense\n",
        "from keras.layers import Flatten\n",
        "from keras.layers.convolutional import Conv1D\n",
        "from keras.layers.convolutional import MaxPooling1D\n",
        "\n",
        "# split a univariate sequence into samples\n",
        "def split_sequence(sequence, n_steps):\n",
        "\tX, y = list(), list()\n",
        "\tfor i in range(len(sequence)):\n",
        "\t\t# find the end of this pattern\n",
        "\t\tend_ix = i + n_steps\n",
        "\t\t# check if we are beyond the sequence\n",
        "\t\tif end_ix > len(sequence)-1:\n",
        "\t\t\tbreak\n",
        "\t\t# gather input and output parts of the pattern\n",
        "\t\tseq_x, seq_y = sequence[i:end_ix], sequence[end_ix]\n",
        "\t\tX.append(seq_x)\n",
        "\t\ty.append(seq_y)\n",
        "\treturn array(X), array(y)\n",
        "\n",
        "# define input sequence\n",
        "#raw_seq = pd.read_csv(\"/content/drive/My Drive/Total_cases_Canada.csv\")\n",
        "# choose a number of time steps\n",
        "n_steps = 3\n",
        "# split into samples\n",
        "X, y = split_sequence(india_recovered, n_steps)\n",
        "# reshape from [samples, timesteps] into [samples, timesteps, features]\n",
        "n_features = 1\n",
        "X = X.reshape((X.shape[0], X.shape[1], n_features))\n",
        "# define model\n",
        "model = Sequential()\n",
        "model.add(Conv1D(filters=64, kernel_size=2, activation='relu', input_shape=(n_steps, n_features)))\n",
        "model.add(MaxPooling1D(pool_size=2))\n",
        "model.add(Flatten())\n",
        "model.add(Dense(50, activation='relu'))\n",
        "model.add(Dense(1))\n",
        "model.compile(optimizer='adam', loss='mse')\n",
        "# fit model\n",
        "model.fit(X, y, epochs=1000, verbose=0)\n",
        "# demonstrate prediction\n",
        "x= len(india_recovered)\n",
        "pred_val = []\n",
        "for i in range(x):\n",
        "  i=india_recovered[i]\n",
        "  x_input1=[i,i+1,i+2]\n",
        "  x_input=np.asarray(x_input1)\n",
        "  x_input = x_input.reshape((1, n_steps, n_features))\n",
        "  yhat = model.predict(x_input, verbose=1)\n",
        "  pred_val.append(yhat)\n",
        "  print(yhat)\n",
        "#x_input = array([1263, 1264, 1265])\n",
        "#x_input = x_input.reshape((1, n_steps, n_features))\n",
        "#yhat = model.predict(x_input, verbose=0)\n",
        "#print(yhat)"
      ],
      "execution_count": 16,
      "outputs": [
        {
          "output_type": "stream",
          "text": [
            "1/1 [==============================] - 0s 10ms/step\n",
            "[[1.5656675]]\n",
            "1/1 [==============================] - 0s 835us/step\n",
            "[[1.5656675]]\n",
            "1/1 [==============================] - 0s 3ms/step\n",
            "[[1.5656675]]\n",
            "1/1 [==============================] - 0s 2ms/step\n",
            "[[1.5656675]]\n",
            "1/1 [==============================] - 0s 2ms/step\n",
            "[[1.5656675]]\n",
            "1/1 [==============================] - 0s 2ms/step\n",
            "[[1.5656675]]\n",
            "1/1 [==============================] - 0s 2ms/step\n",
            "[[1.5656675]]\n",
            "1/1 [==============================] - 0s 2ms/step\n",
            "[[1.5656675]]\n",
            "1/1 [==============================] - 0s 2ms/step\n",
            "[[1.5656675]]\n",
            "1/1 [==============================] - 0s 591us/step\n",
            "[[1.5656675]]\n",
            "1/1 [==============================] - 0s 748us/step\n",
            "[[1.5656675]]\n",
            "1/1 [==============================] - 0s 1ms/step\n",
            "[[1.5656675]]\n",
            "1/1 [==============================] - 0s 762us/step\n",
            "[[1.5656675]]\n",
            "1/1 [==============================] - 0s 712us/step\n",
            "[[1.5656675]]\n",
            "1/1 [==============================] - 0s 843us/step\n",
            "[[1.5656675]]\n",
            "1/1 [==============================] - 0s 545us/step\n",
            "[[1.5656675]]\n",
            "1/1 [==============================] - 0s 801us/step\n",
            "[[1.5656675]]\n",
            "1/1 [==============================] - 0s 579us/step\n",
            "[[1.5656675]]\n",
            "1/1 [==============================] - 0s 867us/step\n",
            "[[1.5656675]]\n",
            "1/1 [==============================] - 0s 823us/step\n",
            "[[1.5656675]]\n",
            "1/1 [==============================] - 0s 626us/step\n",
            "[[1.5656675]]\n",
            "1/1 [==============================] - 0s 647us/step\n",
            "[[1.5656675]]\n",
            "1/1 [==============================] - 0s 679us/step\n",
            "[[1.5656675]]\n",
            "1/1 [==============================] - 0s 484us/step\n",
            "[[1.5656675]]\n",
            "1/1 [==============================] - 0s 493us/step\n",
            "[[1.5656675]]\n",
            "1/1 [==============================] - 0s 723us/step\n",
            "[[4.9003525]]\n",
            "1/1 [==============================] - 0s 480us/step\n",
            "[[4.9003525]]\n",
            "1/1 [==============================] - 0s 527us/step\n",
            "[[4.9003525]]\n",
            "1/1 [==============================] - 0s 1ms/step\n",
            "[[4.9003525]]\n",
            "1/1 [==============================] - 0s 993us/step\n",
            "[[4.9003525]]\n",
            "1/1 [==============================] - 0s 946us/step\n",
            "[[4.9003525]]\n",
            "1/1 [==============================] - 0s 652us/step\n",
            "[[4.9003525]]\n",
            "1/1 [==============================] - 0s 726us/step\n",
            "[[4.9003525]]\n",
            "1/1 [==============================] - 0s 605us/step\n",
            "[[4.9003525]]\n",
            "1/1 [==============================] - 0s 722us/step\n",
            "[[4.9003525]]\n",
            "1/1 [==============================] - 0s 766us/step\n",
            "[[4.9003525]]\n",
            "1/1 [==============================] - 0s 605us/step\n",
            "[[4.9003525]]\n",
            "1/1 [==============================] - 0s 713us/step\n",
            "[[4.9003525]]\n",
            "1/1 [==============================] - 0s 1ms/step\n",
            "[[4.9003525]]\n",
            "1/1 [==============================] - 0s 858us/step\n",
            "[[4.9003525]]\n",
            "1/1 [==============================] - 0s 649us/step\n",
            "[[4.9003525]]\n",
            "1/1 [==============================] - 0s 596us/step\n",
            "[[4.9003525]]\n",
            "1/1 [==============================] - 0s 604us/step\n",
            "[[4.9003525]]\n",
            "1/1 [==============================] - 0s 798us/step\n",
            "[[4.9003525]]\n",
            "1/1 [==============================] - 0s 717us/step\n",
            "[[4.9003525]]\n",
            "1/1 [==============================] - 0s 777us/step\n",
            "[[4.9003525]]\n",
            "1/1 [==============================] - 0s 647us/step\n",
            "[[4.9003525]]\n",
            "1/1 [==============================] - 0s 662us/step\n",
            "[[4.9003525]]\n",
            "1/1 [==============================] - 0s 769us/step\n",
            "[[6.8044486]]\n",
            "1/1 [==============================] - 0s 733us/step\n",
            "[[6.8044486]]\n",
            "1/1 [==============================] - 0s 852us/step\n",
            "[[6.8044486]]\n",
            "1/1 [==============================] - 0s 607us/step\n",
            "[[6.8044486]]\n",
            "1/1 [==============================] - 0s 595us/step\n",
            "[[6.8044486]]\n",
            "1/1 [==============================] - 0s 567us/step\n",
            "[[20.875051]]\n",
            "1/1 [==============================] - 0s 762us/step\n",
            "[[20.875051]]\n",
            "1/1 [==============================] - 0s 692us/step\n",
            "[[22.146904]]\n",
            "1/1 [==============================] - 0s 568us/step\n",
            "[[22.146904]]\n",
            "1/1 [==============================] - 0s 578us/step\n",
            "[[23.41876]]\n",
            "1/1 [==============================] - 0s 598us/step\n",
            "[[29.773497]]\n",
            "1/1 [==============================] - 0s 631us/step\n",
            "[[33.580044]]\n",
            "1/1 [==============================] - 0s 815us/step\n",
            "[[38.65544]]\n",
            "1/1 [==============================] - 0s 661us/step\n",
            "[[38.65544]]\n",
            "1/1 [==============================] - 0s 5ms/step\n",
            "[[55.15047]]\n",
            "1/1 [==============================] - 0s 588us/step\n",
            "[[58.95702]]\n",
            "1/1 [==============================] - 0s 627us/step\n",
            "[[61.494713]]\n",
            "1/1 [==============================] - 0s 1ms/step\n",
            "[[97.022484]]\n",
            "1/1 [==============================] - 0s 580us/step\n",
            "[[110.97983]]\n",
            "1/1 [==============================] - 0s 586us/step\n",
            "[[124.93716]]\n",
            "1/1 [==============================] - 0s 678us/step\n",
            "[[133.81909]]\n",
            "1/1 [==============================] - 0s 632us/step\n",
            "[[160.45862]]\n",
            "1/1 [==============================] - 0s 755us/step\n",
            "[[192.165]]\n",
            "1/1 [==============================] - 0s 622us/step\n",
            "[[246.69997]]\n",
            "1/1 [==============================] - 0s 631us/step\n",
            "[[247.9682]]\n",
            "1/1 [==============================] - 0s 806us/step\n",
            "[[294.89365]]\n",
            "1/1 [==============================] - 0s 628us/step\n",
            "[[294.89365]]\n",
            "1/1 [==============================] - 0s 613us/step\n",
            "[[480.05884]]\n",
            "1/1 [==============================] - 0s 635us/step\n",
            "[[538.3986]]\n",
            "1/1 [==============================] - 0s 657us/step\n",
            "[[646.20026]]\n",
            "1/1 [==============================] - 0s 611us/step\n",
            "[[790.7813]]\n",
            "1/1 [==============================] - 0s 743us/step\n",
            "[[986.09265]]\n",
            "1/1 [==============================] - 0s 674us/step\n",
            "[[1233.4023]]\n",
            "1/1 [==============================] - 0s 728us/step\n",
            "[[1374.1788]]\n",
            "1/1 [==============================] - 0s 633us/step\n",
            "[[1502.2723]]\n",
            "1/1 [==============================] - 0s 640us/step\n",
            "[[1728.0219]]\n",
            "1/1 [==============================] - 0s 630us/step\n",
            "[[1820.6042]]\n",
            "1/1 [==============================] - 0s 751us/step\n",
            "[[2246.7378]]\n",
            "1/1 [==============================] - 0s 662us/step\n",
            "[[2592.972]]\n",
            "1/1 [==============================] - 0s 578us/step\n",
            "[[3128.175]]\n",
            "1/1 [==============================] - 0s 572us/step\n",
            "[[3624.0627]]\n",
            "1/1 [==============================] - 0s 752us/step\n",
            "[[4155.462]]\n",
            "1/1 [==============================] - 0s 756us/step\n",
            "[[5045.7773]]\n",
            "1/1 [==============================] - 0s 584us/step\n",
            "[[5546.7373]]\n"
          ],
          "name": "stdout"
        }
      ]
    },
    {
      "cell_type": "code",
      "metadata": {
        "id": "85qj4h_1vJ6V",
        "colab_type": "code",
        "colab": {}
      },
      "source": [
        "pred_val\n",
        "predict= np.concatenate((pred_val))\n",
        "Predict_cases=pd.DataFrame(predict)\n",
        "Predict_cases['Predicted Recovered']=Predict_cases\n",
        "Predict_cases.pop(0)\n",
        "Predict_cases\n",
        "#predicted_cases= Predict_cases.join(india_confirmed_cases)\n",
        "raw_seq = raw_seq.join(Predict_cases)\n",
        "raw_seq\n",
        "t3 = raw_seq"
      ],
      "execution_count": 0,
      "outputs": []
    },
    {
      "cell_type": "code",
      "metadata": {
        "id": "n3H_-alfirYc",
        "colab_type": "code",
        "outputId": "ffac62d9-1e49-45cc-e832-f6ec9bdccf34",
        "colab": {
          "base_uri": "https://localhost:8080/",
          "height": 252
        }
      },
      "source": [
        "print(t3)"
      ],
      "execution_count": 18,
      "outputs": [
        {
          "output_type": "stream",
          "text": [
            "         Dates  India Confirmed Cases  ...  Predicted Deaths  Predicted Recovered\n",
            "0   01/22/2020                      0  ...          1.354701             1.565668\n",
            "1   01/23/2020                      0  ...          1.354701             1.565668\n",
            "2   01/24/2020                      0  ...          1.354701             1.565668\n",
            "3   01/25/2020                      0  ...          1.354701             1.565668\n",
            "4   01/26/2020                      0  ...          1.354701             1.565668\n",
            "..         ...                    ...  ...               ...                  ...\n",
            "87  04/18/2020                  15722  ...        576.304810          3128.175049\n",
            "88  04/19/2020                  17615  ...        617.965942          3624.062744\n",
            "89  04/20/2020                  18539  ...        654.145264          4155.461914\n",
            "90  04/21/2020                  20080  ...        712.251404          5045.777344\n",
            "91  04/22/2020                  21370  ...        751.719788          5546.737305\n",
            "\n",
            "[92 rows x 7 columns]\n"
          ],
          "name": "stdout"
        }
      ]
    },
    {
      "cell_type": "code",
      "metadata": {
        "id": "6Dlpt_O7iwiJ",
        "colab_type": "code",
        "outputId": "bf24ca84-b469-4092-882a-d801daa1a32c",
        "colab": {
          "base_uri": "https://localhost:8080/",
          "height": 343
        }
      },
      "source": [
        "t3.tail(10)"
      ],
      "execution_count": 19,
      "outputs": [
        {
          "output_type": "execute_result",
          "data": {
            "text/html": [
              "<div>\n",
              "<style scoped>\n",
              "    .dataframe tbody tr th:only-of-type {\n",
              "        vertical-align: middle;\n",
              "    }\n",
              "\n",
              "    .dataframe tbody tr th {\n",
              "        vertical-align: top;\n",
              "    }\n",
              "\n",
              "    .dataframe thead th {\n",
              "        text-align: right;\n",
              "    }\n",
              "</style>\n",
              "<table border=\"1\" class=\"dataframe\">\n",
              "  <thead>\n",
              "    <tr style=\"text-align: right;\">\n",
              "      <th></th>\n",
              "      <th>Dates</th>\n",
              "      <th>India Confirmed Cases</th>\n",
              "      <th>India Deaths</th>\n",
              "      <th>India Recovered</th>\n",
              "      <th>Predicted Cases</th>\n",
              "      <th>Predicted Deaths</th>\n",
              "      <th>Predicted Recovered</th>\n",
              "    </tr>\n",
              "  </thead>\n",
              "  <tbody>\n",
              "    <tr>\n",
              "      <th>82</th>\n",
              "      <td>04/13/2020</td>\n",
              "      <td>10453</td>\n",
              "      <td>358</td>\n",
              "      <td>1181</td>\n",
              "      <td>11388.052734</td>\n",
              "      <td>397.601105</td>\n",
              "      <td>1502.272339</td>\n",
              "    </tr>\n",
              "    <tr>\n",
              "      <th>83</th>\n",
              "      <td>04/14/2020</td>\n",
              "      <td>11487</td>\n",
              "      <td>393</td>\n",
              "      <td>1359</td>\n",
              "      <td>12513.532227</td>\n",
              "      <td>435.973083</td>\n",
              "      <td>1728.021851</td>\n",
              "    </tr>\n",
              "    <tr>\n",
              "      <th>84</th>\n",
              "      <td>04/15/2020</td>\n",
              "      <td>12322</td>\n",
              "      <td>405</td>\n",
              "      <td>1432</td>\n",
              "      <td>13422.408203</td>\n",
              "      <td>449.129242</td>\n",
              "      <td>1820.604248</td>\n",
              "    </tr>\n",
              "    <tr>\n",
              "      <th>85</th>\n",
              "      <td>04/16/2020</td>\n",
              "      <td>13430</td>\n",
              "      <td>448</td>\n",
              "      <td>1768</td>\n",
              "      <td>14628.434570</td>\n",
              "      <td>496.271912</td>\n",
              "      <td>2246.737793</td>\n",
              "    </tr>\n",
              "    <tr>\n",
              "      <th>86</th>\n",
              "      <td>04/17/2020</td>\n",
              "      <td>14352</td>\n",
              "      <td>486</td>\n",
              "      <td>2041</td>\n",
              "      <td>15632.006836</td>\n",
              "      <td>537.932922</td>\n",
              "      <td>2592.971924</td>\n",
              "    </tr>\n",
              "    <tr>\n",
              "      <th>87</th>\n",
              "      <td>04/18/2020</td>\n",
              "      <td>15722</td>\n",
              "      <td>521</td>\n",
              "      <td>2463</td>\n",
              "      <td>17123.212891</td>\n",
              "      <td>576.304810</td>\n",
              "      <td>3128.175049</td>\n",
              "    </tr>\n",
              "    <tr>\n",
              "      <th>88</th>\n",
              "      <td>04/19/2020</td>\n",
              "      <td>17615</td>\n",
              "      <td>559</td>\n",
              "      <td>2854</td>\n",
              "      <td>19183.697266</td>\n",
              "      <td>617.965942</td>\n",
              "      <td>3624.062744</td>\n",
              "    </tr>\n",
              "    <tr>\n",
              "      <th>89</th>\n",
              "      <td>04/20/2020</td>\n",
              "      <td>18539</td>\n",
              "      <td>592</td>\n",
              "      <td>3273</td>\n",
              "      <td>20189.443359</td>\n",
              "      <td>654.145264</td>\n",
              "      <td>4155.461914</td>\n",
              "    </tr>\n",
              "    <tr>\n",
              "      <th>90</th>\n",
              "      <td>04/21/2020</td>\n",
              "      <td>20080</td>\n",
              "      <td>645</td>\n",
              "      <td>3975</td>\n",
              "      <td>21866.779297</td>\n",
              "      <td>712.251404</td>\n",
              "      <td>5045.777344</td>\n",
              "    </tr>\n",
              "    <tr>\n",
              "      <th>91</th>\n",
              "      <td>04/22/2020</td>\n",
              "      <td>21370</td>\n",
              "      <td>681</td>\n",
              "      <td>4370</td>\n",
              "      <td>23270.912109</td>\n",
              "      <td>751.719788</td>\n",
              "      <td>5546.737305</td>\n",
              "    </tr>\n",
              "  </tbody>\n",
              "</table>\n",
              "</div>"
            ],
            "text/plain": [
              "         Dates  India Confirmed Cases  ...  Predicted Deaths  Predicted Recovered\n",
              "82  04/13/2020                  10453  ...        397.601105          1502.272339\n",
              "83  04/14/2020                  11487  ...        435.973083          1728.021851\n",
              "84  04/15/2020                  12322  ...        449.129242          1820.604248\n",
              "85  04/16/2020                  13430  ...        496.271912          2246.737793\n",
              "86  04/17/2020                  14352  ...        537.932922          2592.971924\n",
              "87  04/18/2020                  15722  ...        576.304810          3128.175049\n",
              "88  04/19/2020                  17615  ...        617.965942          3624.062744\n",
              "89  04/20/2020                  18539  ...        654.145264          4155.461914\n",
              "90  04/21/2020                  20080  ...        712.251404          5045.777344\n",
              "91  04/22/2020                  21370  ...        751.719788          5546.737305\n",
              "\n",
              "[10 rows x 7 columns]"
            ]
          },
          "metadata": {
            "tags": []
          },
          "execution_count": 19
        }
      ]
    },
    {
      "cell_type": "code",
      "metadata": {
        "id": "SZY4BCvxjAZL",
        "colab_type": "code",
        "outputId": "fc1ba0f2-1584-44b9-bc36-be50053e1384",
        "colab": {
          "base_uri": "https://localhost:8080/",
          "height": 282
        }
      },
      "source": [
        "t3.plot()"
      ],
      "execution_count": 20,
      "outputs": [
        {
          "output_type": "execute_result",
          "data": {
            "text/plain": [
              "<matplotlib.axes._subplots.AxesSubplot at 0x7f01f5ee6630>"
            ]
          },
          "metadata": {
            "tags": []
          },
          "execution_count": 20
        },
        {
          "output_type": "display_data",
          "data": {
            "image/png": "[encoded data removed]",
            "text/plain": [
              "<Figure size 432x288 with 1 Axes>"
            ]
          },
          "metadata": {
            "tags": [],
            "needs_background": "light"
          }
        }
      ]
    },
    {
      "cell_type": "code",
      "metadata": {
        "id": "a6nk475f2zu2",
        "colab_type": "code",
        "colab": {}
      },
      "source": [
        "t3.to_csv (r'/content/drive/My Drive/india_og_preds.csv', index = False, header=True)"
      ],
      "execution_count": 0,
      "outputs": []
    },
    {
      "cell_type": "code",
      "metadata": {
        "id": "IjWFsjp42cNH",
        "colab_type": "code",
        "outputId": "c7ffd349-48fa-412d-f647-2b792ab1ae42",
        "colab": {
          "base_uri": "https://localhost:8080/",
          "height": 34
        }
      },
      "source": [
        "'''errors= abs(Total_cases['Prediction'] - raw['India Confirmed Cases'])\n",
        "mape= np.mean(100*(errors/confirmed_cases))\n",
        "Accuracy=100-mape\n",
        "Accuracy'''"
      ],
      "execution_count": 22,
      "outputs": [
        {
          "output_type": "execute_result",
          "data": {
            "text/plain": [
              "\"errors= abs(Total_cases['Prediction'] - raw['India Confirmed Cases'])\\nmape= np.mean(100*(errors/confirmed_cases))\\nAccuracy=100-mape\\nAccuracy\""
            ]
          },
          "metadata": {
            "tags": []
          },
          "execution_count": 22
        }
      ]
    },
    {
      "cell_type": "code",
      "metadata": {
        "id": "Q7pPdkGaNnqd",
        "colab_type": "code",
        "outputId": "b8664625-9d3f-48b0-dc5c-db17c75675fc",
        "colab": {
          "base_uri": "https://localhost:8080/",
          "height": 1000
        }
      },
      "source": [
        "pd.set_option('display.max_rows', t3.shape[0]+1)\n",
        "print(t3)"
      ],
      "execution_count": 23,
      "outputs": [
        {
          "output_type": "stream",
          "text": [
            "         Dates  India Confirmed Cases  ...  Predicted Deaths  Predicted Recovered\n",
            "0   01/22/2020                      0  ...          1.354701             1.565668\n",
            "1   01/23/2020                      0  ...          1.354701             1.565668\n",
            "2   01/24/2020                      0  ...          1.354701             1.565668\n",
            "3   01/25/2020                      0  ...          1.354701             1.565668\n",
            "4   01/26/2020                      0  ...          1.354701             1.565668\n",
            "5   01/27/2020                      0  ...          1.354701             1.565668\n",
            "6   01/28/2020                      0  ...          1.354701             1.565668\n",
            "7   01/29/2020                      0  ...          1.354701             1.565668\n",
            "8   01/30/2020                      1  ...          1.354701             1.565668\n",
            "9   01/31/2020                      1  ...          1.354701             1.565668\n",
            "10  02/01/2020                      1  ...          1.354701             1.565668\n",
            "11  02/02/2020                      2  ...          1.354701             1.565668\n",
            "12  02/03/2020                      3  ...          1.354701             1.565668\n",
            "13  02/04/2020                      3  ...          1.354701             1.565668\n",
            "14  02/05/2020                      3  ...          1.354701             1.565668\n",
            "15  02/06/2020                      3  ...          1.354701             1.565668\n",
            "16  02/07/2020                      3  ...          1.354701             1.565668\n",
            "17  02/08/2020                      3  ...          1.354701             1.565668\n",
            "18  02/09/2020                      3  ...          1.354701             1.565668\n",
            "19  02/10/2020                      3  ...          1.354701             1.565668\n",
            "20  02/11/2020                      3  ...          1.354701             1.565668\n",
            "21  02/12/2020                      3  ...          1.354701             1.565668\n",
            "22  02/13/2020                      3  ...          1.354701             1.565668\n",
            "23  02/14/2020                      3  ...          1.354701             1.565668\n",
            "24  02/15/2020                      3  ...          1.354701             1.565668\n",
            "25  02/16/2020                      3  ...          1.354701             4.900352\n",
            "26  02/17/2020                      3  ...          1.354701             4.900352\n",
            "27  02/18/2020                      3  ...          1.354701             4.900352\n",
            "28  02/19/2020                      3  ...          1.354701             4.900352\n",
            "29  02/20/2020                      3  ...          1.354701             4.900352\n",
            "30  02/21/2020                      3  ...          1.354701             4.900352\n",
            "31  02/22/2020                      3  ...          1.354701             4.900352\n",
            "32  02/23/2020                      3  ...          1.354701             4.900352\n",
            "33  02/24/2020                      3  ...          1.354701             4.900352\n",
            "34  02/25/2020                      3  ...          1.354701             4.900352\n",
            "35  02/26/2020                      3  ...          1.354701             4.900352\n",
            "36  02/27/2020                      3  ...          1.354701             4.900352\n",
            "37  02/28/2020                      3  ...          1.354701             4.900352\n",
            "38  02/29/2020                      3  ...          1.354701             4.900352\n",
            "39  03/01/2020                      3  ...          1.354701             4.900352\n",
            "40  03/02/2020                      5  ...          1.354701             4.900352\n",
            "41  03/03/2020                      5  ...          1.354701             4.900352\n",
            "42  03/04/2020                     28  ...          1.354701             4.900352\n",
            "43  03/05/2020                     30  ...          1.354701             4.900352\n",
            "44  03/06/2020                     31  ...          1.354701             4.900352\n",
            "45  03/07/2020                     34  ...          1.354701             4.900352\n",
            "46  03/08/2020                     39  ...          1.354701             4.900352\n",
            "47  03/09/2020                     43  ...          1.354701             4.900352\n",
            "48  03/10/2020                     56  ...          1.354701             6.804449\n",
            "49  03/11/2020                     62  ...          2.045271             6.804449\n",
            "50  03/12/2020                     73  ...          2.045271             6.804449\n",
            "51  03/13/2020                     82  ...          3.194958             6.804449\n",
            "52  03/14/2020                    102  ...          3.194958             6.804449\n",
            "53  03/15/2020                    113  ...          3.194958            20.875051\n",
            "54  03/16/2020                    119  ...          3.194958            20.875051\n",
            "55  03/17/2020                    142  ...          4.618322            22.146904\n",
            "56  03/18/2020                    156  ...          4.618322            22.146904\n",
            "57  03/19/2020                    194  ...          6.491863            23.418760\n",
            "58  03/20/2020                    244  ...          8.434643            29.773497\n",
            "59  03/21/2020                    330  ...          6.491863            33.580044\n",
            "60  03/22/2020                    396  ...         12.399603            38.655441\n",
            "61  03/23/2020                    499  ...         18.327808            38.655441\n",
            "62  03/24/2020                    536  ...         18.327808            55.150471\n",
            "63  03/25/2020                    657  ...         22.249016            58.957020\n",
            "64  03/26/2020                    727  ...         32.340027            61.494713\n",
            "65  03/27/2020                    887  ...         32.340027            97.022484\n",
            "66  03/28/2020                    987  ...         37.046917           110.979828\n",
            "67  03/29/2020                   1024  ...         39.991482           124.937157\n",
            "68  03/30/2020                   1251  ...         44.899078           133.819092\n",
            "69  03/31/2020                   1397  ...         47.853325           160.458618\n",
            "70  04/01/2020                   1998  ...         70.522873           192.164993\n",
            "71  04/02/2020                   2543  ...         84.321732           246.699966\n",
            "72  04/03/2020                   2567  ...         84.321732           247.968201\n",
            "73  04/04/2020                   3082  ...         99.395988           294.893646\n",
            "74  04/05/2020                   3588  ...        113.648422           294.893646\n",
            "75  04/06/2020                   4778  ...        154.213104           480.058838\n",
            "76  04/07/2020                   5311  ...        169.561890           538.398621\n",
            "77  04/08/2020                   5916  ...        200.259491           646.200256\n",
            "78  04/09/2020                   6725  ...        252.883942           790.781311\n",
            "79  04/10/2020                   7598  ...        274.810760           986.092651\n",
            "80  04/11/2020                   8446  ...        320.857117          1233.402344\n",
            "81  04/12/2020                   9205  ...        367.999847          1374.178833\n",
            "82  04/13/2020                  10453  ...        397.601105          1502.272339\n",
            "83  04/14/2020                  11487  ...        435.973083          1728.021851\n",
            "84  04/15/2020                  12322  ...        449.129242          1820.604248\n",
            "85  04/16/2020                  13430  ...        496.271912          2246.737793\n",
            "86  04/17/2020                  14352  ...        537.932922          2592.971924\n",
            "87  04/18/2020                  15722  ...        576.304810          3128.175049\n",
            "88  04/19/2020                  17615  ...        617.965942          3624.062744\n",
            "89  04/20/2020                  18539  ...        654.145264          4155.461914\n",
            "90  04/21/2020                  20080  ...        712.251404          5045.777344\n",
            "91  04/22/2020                  21370  ...        751.719788          5546.737305\n",
            "\n",
            "[92 rows x 7 columns]\n"
          ],
          "name": "stdout"
        }
      ]
    },
    {
      "cell_type": "code",
      "metadata": {
        "id": "vMQTTV3HxYeL",
        "colab_type": "code",
        "outputId": "f77dbda8-21fe-451e-f276-9cfde2bedf1b",
        "colab": {
          "base_uri": "https://localhost:8080/",
          "height": 483
        }
      },
      "source": [
        "import matplotlib.pyplot as plt\n",
        "plt.figure(figsize=(16,8))\n",
        "plt.ylabel(\"Number of Cases\")\n",
        "plt.plot(t3['India Confirmed Cases'])\n",
        "plt.plot(t3['Predicted Cases'])\n",
        "plt.plot(t3['India Deaths'])\n",
        "plt.plot(t3['Predicted Deaths'])\n",
        "plt.plot(t3['India Recovered'])\n",
        "plt.plot(t3['Predicted Recovered'])\n",
        "plt.legend(['India Confirmed Cases', 'Predicted Cases', 'India Deaths', 'Predicted Deaths', 'India Recovered', 'Predicted Recovered'], loc='upper left')\n",
        "plt.show()"
      ],
      "execution_count": 24,
      "outputs": [
        {
          "output_type": "display_data",
          "data": {
            "image/png": "[encoded data removed]",
            "text/plain": [
              "<Figure size 1152x576 with 1 Axes>"
            ]
          },
          "metadata": {
            "tags": [],
            "needs_background": "light"
          }
        }
      ]
    },
    {
      "cell_type": "code",
      "metadata": {
        "id": "GsASW11x3vT0",
        "colab_type": "code",
        "outputId": "fcf9dbae-a7a7-4861-db4a-34378302fb70",
        "colab": {
          "base_uri": "https://localhost:8080/",
          "height": 483
        }
      },
      "source": [
        "import matplotlib.pyplot as plt\n",
        "plt.figure(figsize=(16,8))\n",
        "plt.ylabel(\"Number of Cases\")\n",
        "plt.plot(t3['India Confirmed Cases'])\n",
        "#plt.plot(raw_seq['Predicted Cases'])\n",
        "plt.plot(t3['India Deaths'])#plt.plot(raw_seq['Predicted Deaths'])\n",
        "plt.plot(t3['India Recovered'])\n",
        "#plt.plot(raw_seq['Predicted Recovered'])\n",
        "plt.legend(['India Confirmed Cases', 'India Deaths', 'India Recovered'], loc='upper left')\n",
        "plt.show()"
      ],
      "execution_count": 25,
      "outputs": [
        {
          "output_type": "display_data",
          "data": {
            "image/png": "[encoded data removed]",
            "text/plain": [
              "<Figure size 1152x576 with 1 Axes>"
            ]
          },
          "metadata": {
            "tags": [],
            "needs_background": "light"
          }
        }
      ]
    },
    {
      "cell_type": "code",
      "metadata": {
        "id": "BO9txJ9G5rz9",
        "colab_type": "code",
        "outputId": "881d5ee9-9582-4f10-edd5-1f8d773329ed",
        "colab": {
          "base_uri": "https://localhost:8080/",
          "height": 483
        }
      },
      "source": [
        "import matplotlib.pyplot as plt\n",
        "plt.figure(figsize=(16,8))\n",
        "plt.ylabel(\"Number of Cases\")\n",
        "#plt.plot(raw_seq['India Confirmed Cases'])\n",
        "plt.plot(t3['Predicted Cases'])\n",
        "#plt.plot(raw_seq['India Deaths'])\n",
        "plt.plot(t3['Predicted Deaths'])\n",
        "#plt.plot(raw_seq['India Recovered'])\n",
        "plt.plot(t3['Predicted Recovered'])\n",
        "plt.legend(['Predicted Cases', 'Predicted Deaths', 'Predicted Recovered'], loc='upper left')\n",
        "plt.show()"
      ],
      "execution_count": 26,
      "outputs": [
        {
          "output_type": "display_data",
          "data": {
            "image/png": "[encoded data removed]",
            "text/plain": [
              "<Figure size 1152x576 with 1 Axes>"
            ]
          },
          "metadata": {
            "tags": [],
            "needs_background": "light"
          }
        }
      ]
    },
    {
      "cell_type": "code",
      "metadata": {
        "id": "T0hQrXRTrLFb",
        "colab_type": "code",
        "colab": {}
      },
      "source": [
        "newplot = t3.iloc[53:63]"
      ],
      "execution_count": 0,
      "outputs": []
    },
    {
      "cell_type": "code",
      "metadata": {
        "id": "fYyVG_7J56ni",
        "colab_type": "code",
        "outputId": "2b78797d-24ad-4259-ba04-8a2e66df93d2",
        "colab": {
          "base_uri": "https://localhost:8080/",
          "height": 483
        }
      },
      "source": [
        "import matplotlib.pyplot as plt\n",
        "plt.figure(figsize=(16,8))\n",
        "plt.ylabel(\"Number of Cases\")\n",
        "newplot = t3['India Confirmed Cases'].iloc[53:63]\n",
        "plt.plot(newplot)\n",
        "#plt.legend(['India Confirmed Cases', 'Predicted Cases', 'India Deaths', 'Predicted Deaths', 'India Recovered', 'Predicted Recovered'], loc='upper left')\n",
        "plt.show()"
      ],
      "execution_count": 28,
      "outputs": [
        {
          "output_type": "display_data",
          "data": {
            "image/png": "[encoded data removed]",
            "text/plain": [
              "<Figure size 1152x576 with 1 Axes>"
            ]
          },
          "metadata": {
            "tags": [],
            "needs_background": "light"
          }
        }
      ]
    },
    {
      "cell_type": "code",
      "metadata": {
        "id": "WsO1VTsn7RXV",
        "colab_type": "code",
        "outputId": "a094e1de-ff01-4fac-f19e-c56d0f29a060",
        "colab": {
          "base_uri": "https://localhost:8080/",
          "height": 202
        }
      },
      "source": [
        "newplot"
      ],
      "execution_count": 29,
      "outputs": [
        {
          "output_type": "execute_result",
          "data": {
            "text/plain": [
              "53    113\n",
              "54    119\n",
              "55    142\n",
              "56    156\n",
              "57    194\n",
              "58    244\n",
              "59    330\n",
              "60    396\n",
              "61    499\n",
              "62    536\n",
              "Name: India Confirmed Cases, dtype: int64"
            ]
          },
          "metadata": {
            "tags": []
          },
          "execution_count": 29
        }
      ]
    },
    {
      "cell_type": "code",
      "metadata": {
        "id": "i0UDoNCp7SEA",
        "colab_type": "code",
        "outputId": "15fafc53-d022-4fe9-9197-b78f03191eaa",
        "colab": {
          "base_uri": "https://localhost:8080/",
          "height": 343
        }
      },
      "source": [
        "dates = t3['Dates'].iloc[53:63]\n",
        "dates\n",
        "newplot2 = pd.DataFrame(newplot.to_frame().join(dates))\n",
        "newplot2\n",
        "#newplot2.info()"
      ],
      "execution_count": 30,
      "outputs": [
        {
          "output_type": "execute_result",
          "data": {
            "text/html": [
              "<div>\n",
              "<style scoped>\n",
              "    .dataframe tbody tr th:only-of-type {\n",
              "        vertical-align: middle;\n",
              "    }\n",
              "\n",
              "    .dataframe tbody tr th {\n",
              "        vertical-align: top;\n",
              "    }\n",
              "\n",
              "    .dataframe thead th {\n",
              "        text-align: right;\n",
              "    }\n",
              "</style>\n",
              "<table border=\"1\" class=\"dataframe\">\n",
              "  <thead>\n",
              "    <tr style=\"text-align: right;\">\n",
              "      <th></th>\n",
              "      <th>India Confirmed Cases</th>\n",
              "      <th>Dates</th>\n",
              "    </tr>\n",
              "  </thead>\n",
              "  <tbody>\n",
              "    <tr>\n",
              "      <th>53</th>\n",
              "      <td>113</td>\n",
              "      <td>03/15/2020</td>\n",
              "    </tr>\n",
              "    <tr>\n",
              "      <th>54</th>\n",
              "      <td>119</td>\n",
              "      <td>03/16/2020</td>\n",
              "    </tr>\n",
              "    <tr>\n",
              "      <th>55</th>\n",
              "      <td>142</td>\n",
              "      <td>03/17/2020</td>\n",
              "    </tr>\n",
              "    <tr>\n",
              "      <th>56</th>\n",
              "      <td>156</td>\n",
              "      <td>03/18/2020</td>\n",
              "    </tr>\n",
              "    <tr>\n",
              "      <th>57</th>\n",
              "      <td>194</td>\n",
              "      <td>03/19/2020</td>\n",
              "    </tr>\n",
              "    <tr>\n",
              "      <th>58</th>\n",
              "      <td>244</td>\n",
              "      <td>03/20/2020</td>\n",
              "    </tr>\n",
              "    <tr>\n",
              "      <th>59</th>\n",
              "      <td>330</td>\n",
              "      <td>03/21/2020</td>\n",
              "    </tr>\n",
              "    <tr>\n",
              "      <th>60</th>\n",
              "      <td>396</td>\n",
              "      <td>03/22/2020</td>\n",
              "    </tr>\n",
              "    <tr>\n",
              "      <th>61</th>\n",
              "      <td>499</td>\n",
              "      <td>03/23/2020</td>\n",
              "    </tr>\n",
              "    <tr>\n",
              "      <th>62</th>\n",
              "      <td>536</td>\n",
              "      <td>03/24/2020</td>\n",
              "    </tr>\n",
              "  </tbody>\n",
              "</table>\n",
              "</div>"
            ],
            "text/plain": [
              "    India Confirmed Cases       Dates\n",
              "53                    113  03/15/2020\n",
              "54                    119  03/16/2020\n",
              "55                    142  03/17/2020\n",
              "56                    156  03/18/2020\n",
              "57                    194  03/19/2020\n",
              "58                    244  03/20/2020\n",
              "59                    330  03/21/2020\n",
              "60                    396  03/22/2020\n",
              "61                    499  03/23/2020\n",
              "62                    536  03/24/2020"
            ]
          },
          "metadata": {
            "tags": []
          },
          "execution_count": 30
        }
      ]
    },
    {
      "cell_type": "code",
      "metadata": {
        "id": "z_O5LyyWlKlJ",
        "colab_type": "code",
        "colab": {}
      },
      "source": [
        "newplot2.set_index('Dates', inplace=True)"
      ],
      "execution_count": 0,
      "outputs": []
    },
    {
      "cell_type": "code",
      "metadata": {
        "id": "wrNT9wF57ktJ",
        "colab_type": "code",
        "outputId": "0c46e48d-c308-4e80-ae9b-91da4a1aca1e",
        "colab": {
          "base_uri": "https://localhost:8080/",
          "height": 296
        }
      },
      "source": [
        "newplot2.plot()"
      ],
      "execution_count": 32,
      "outputs": [
        {
          "output_type": "execute_result",
          "data": {
            "text/plain": [
              "<matplotlib.axes._subplots.AxesSubplot at 0x7f01f5b0ca58>"
            ]
          },
          "metadata": {
            "tags": []
          },
          "execution_count": 32
        },
        {
          "output_type": "display_data",
          "data": {
            "image/png": "[encoded data removed]",
            "text/plain": [
              "<Figure size 432x288 with 1 Axes>"
            ]
          },
          "metadata": {
            "tags": [],
            "needs_background": "light"
          }
        }
      ]
    },
    {
      "cell_type": "code",
      "metadata": {
        "id": "ixNuImwlpZE1",
        "colab_type": "code",
        "outputId": "1196defd-9cea-45d8-bd51-1ae47f8971da",
        "colab": {
          "base_uri": "https://localhost:8080/",
          "height": 34
        }
      },
      "source": [
        "newplot2['India Confirmed Cases'][3]"
      ],
      "execution_count": 33,
      "outputs": [
        {
          "output_type": "execute_result",
          "data": {
            "text/plain": [
              "156"
            ]
          },
          "metadata": {
            "tags": []
          },
          "execution_count": 33
        }
      ]
    },
    {
      "cell_type": "code",
      "metadata": {
        "id": "kqyy8oYO8Gib",
        "colab_type": "code",
        "outputId": "7f554869-cf5d-4dfb-e993-7a4a159d6ba8",
        "colab": {
          "base_uri": "https://localhost:8080/",
          "height": 34
        }
      },
      "source": [
        "percent_rise = (newplot2['India Confirmed Cases'][9] - newplot2['India Confirmed Cases'][0]) / newplot2['India Confirmed Cases'][9] \n",
        "percent_rise\n",
        "total_rise = percent_rise * 100\n",
        "total_rise"
      ],
      "execution_count": 34,
      "outputs": [
        {
          "output_type": "execute_result",
          "data": {
            "text/plain": [
              "78.9179104477612"
            ]
          },
          "metadata": {
            "tags": []
          },
          "execution_count": 34
        }
      ]
    },
    {
      "cell_type": "code",
      "metadata": {
        "id": "xdzcWz64rFGh",
        "colab_type": "code",
        "colab": {}
      },
      "source": [
        "postplot = t3.iloc[63:73]"
      ],
      "execution_count": 0,
      "outputs": []
    },
    {
      "cell_type": "code",
      "metadata": {
        "id": "dkrifhh5pu8K",
        "colab_type": "code",
        "outputId": "8adab469-7c9b-4a5c-9fce-a952cf311ff0",
        "colab": {
          "base_uri": "https://localhost:8080/",
          "height": 483
        }
      },
      "source": [
        "import matplotlib.pyplot as plt\n",
        "plt.figure(figsize=(16,8))\n",
        "plt.ylabel(\"Number of Cases\")\n",
        "postplot = t3['India Confirmed Cases'].iloc[63:73]\n",
        "plt.plot(postplot)\n",
        "#plt.legend(['India Confirmed Cases', 'Predicted Cases', 'India Deaths', 'Predicted Deaths', 'India Recovered', 'Predicted Recovered'], loc='upper left')\n",
        "plt.show()"
      ],
      "execution_count": 36,
      "outputs": [
        {
          "output_type": "display_data",
          "data": {
            "image/png": "[encoded data removed]",
            "text/plain": [
              "<Figure size 1152x576 with 1 Axes>"
            ]
          },
          "metadata": {
            "tags": [],
            "needs_background": "light"
          }
        }
      ]
    },
    {
      "cell_type": "code",
      "metadata": {
        "id": "sy098UIKrZkX",
        "colab_type": "code",
        "outputId": "95dd1c36-8924-453a-d85f-008cd6c5ffa1",
        "colab": {
          "base_uri": "https://localhost:8080/",
          "height": 373
        }
      },
      "source": [
        "dates2 = t3['Dates'].iloc[63:73]\n",
        "dates2\n",
        "postplot2 = pd.DataFrame(postplot.to_frame().join(dates2))\n",
        "postplot2.set_index('Dates', inplace=True)\n",
        "postplot2\n",
        "#newplot2.info()"
      ],
      "execution_count": 37,
      "outputs": [
        {
          "output_type": "execute_result",
          "data": {
            "text/html": [
              "<div>\n",
              "<style scoped>\n",
              "    .dataframe tbody tr th:only-of-type {\n",
              "        vertical-align: middle;\n",
              "    }\n",
              "\n",
              "    .dataframe tbody tr th {\n",
              "        vertical-align: top;\n",
              "    }\n",
              "\n",
              "    .dataframe thead th {\n",
              "        text-align: right;\n",
              "    }\n",
              "</style>\n",
              "<table border=\"1\" class=\"dataframe\">\n",
              "  <thead>\n",
              "    <tr style=\"text-align: right;\">\n",
              "      <th></th>\n",
              "      <th>India Confirmed Cases</th>\n",
              "    </tr>\n",
              "    <tr>\n",
              "      <th>Dates</th>\n",
              "      <th></th>\n",
              "    </tr>\n",
              "  </thead>\n",
              "  <tbody>\n",
              "    <tr>\n",
              "      <th>03/25/2020</th>\n",
              "      <td>657</td>\n",
              "    </tr>\n",
              "    <tr>\n",
              "      <th>03/26/2020</th>\n",
              "      <td>727</td>\n",
              "    </tr>\n",
              "    <tr>\n",
              "      <th>03/27/2020</th>\n",
              "      <td>887</td>\n",
              "    </tr>\n",
              "    <tr>\n",
              "      <th>03/28/2020</th>\n",
              "      <td>987</td>\n",
              "    </tr>\n",
              "    <tr>\n",
              "      <th>03/29/2020</th>\n",
              "      <td>1024</td>\n",
              "    </tr>\n",
              "    <tr>\n",
              "      <th>03/30/2020</th>\n",
              "      <td>1251</td>\n",
              "    </tr>\n",
              "    <tr>\n",
              "      <th>03/31/2020</th>\n",
              "      <td>1397</td>\n",
              "    </tr>\n",
              "    <tr>\n",
              "      <th>04/01/2020</th>\n",
              "      <td>1998</td>\n",
              "    </tr>\n",
              "    <tr>\n",
              "      <th>04/02/2020</th>\n",
              "      <td>2543</td>\n",
              "    </tr>\n",
              "    <tr>\n",
              "      <th>04/03/2020</th>\n",
              "      <td>2567</td>\n",
              "    </tr>\n",
              "  </tbody>\n",
              "</table>\n",
              "</div>"
            ],
            "text/plain": [
              "            India Confirmed Cases\n",
              "Dates                            \n",
              "03/25/2020                    657\n",
              "03/26/2020                    727\n",
              "03/27/2020                    887\n",
              "03/28/2020                    987\n",
              "03/29/2020                   1024\n",
              "03/30/2020                   1251\n",
              "03/31/2020                   1397\n",
              "04/01/2020                   1998\n",
              "04/02/2020                   2543\n",
              "04/03/2020                   2567"
            ]
          },
          "metadata": {
            "tags": []
          },
          "execution_count": 37
        }
      ]
    },
    {
      "cell_type": "code",
      "metadata": {
        "id": "8Cs7Q-fTrtY4",
        "colab_type": "code",
        "outputId": "5264afe4-1352-4d9e-f7d0-8184e31ac70e",
        "colab": {
          "base_uri": "https://localhost:8080/",
          "height": 296
        }
      },
      "source": [
        "postplot2.plot()"
      ],
      "execution_count": 38,
      "outputs": [
        {
          "output_type": "execute_result",
          "data": {
            "text/plain": [
              "<matplotlib.axes._subplots.AxesSubplot at 0x7f01f5b0ccf8>"
            ]
          },
          "metadata": {
            "tags": []
          },
          "execution_count": 38
        },
        {
          "output_type": "display_data",
          "data": {
            "image/png": "[encoded data removed]",
            "text/plain": [
              "<Figure size 432x288 with 1 Axes>"
            ]
          },
          "metadata": {
            "tags": [],
            "needs_background": "light"
          }
        }
      ]
    },
    {
      "cell_type": "code",
      "metadata": {
        "id": "xgAHptjIrvIq",
        "colab_type": "code",
        "outputId": "e508b2a6-43c9-44be-cdb0-91bb2abb3340",
        "colab": {
          "base_uri": "https://localhost:8080/",
          "height": 34
        }
      },
      "source": [
        "percent_rise2 = (postplot2['India Confirmed Cases'][9] - postplot2['India Confirmed Cases'][0]) / postplot2['India Confirmed Cases'][9] \n",
        "percent_rise2\n",
        "total_rise2 = percent_rise2 * 100\n",
        "total_rise2\n"
      ],
      "execution_count": 39,
      "outputs": [
        {
          "output_type": "execute_result",
          "data": {
            "text/plain": [
              "74.40592130892092"
            ]
          },
          "metadata": {
            "tags": []
          },
          "execution_count": 39
        }
      ]
    },
    {
      "cell_type": "code",
      "metadata": {
        "id": "xdNx-YussptC",
        "colab_type": "code",
        "outputId": "3572cb6d-8696-42bd-8b99-03e970fa14ad",
        "colab": {
          "base_uri": "https://localhost:8080/",
          "height": 67
        }
      },
      "source": [
        "confirmed_cases_beforelockdown = total_rise\n",
        "confirmed_cases_afterlockdown = total_rise2\n",
        "prevented_cases = (newplot2['India Confirmed Cases'][9] - newplot2['India Confirmed Cases'][0])\n",
        "\n",
        "if confirmed_cases_beforelockdown < confirmed_cases_afterlockdown:\n",
        "   print(\"%s percent rise is greater than   %s percent rise\" % (confirmed_cases_afterlockdown, confirmed_cases_beforelockdown))\n",
        "else:\n",
        "   print(\"%s percent rise is smaller than  %s percent rise\" % (confirmed_cases_afterlockdown, confirmed_cases_beforelockdown))\n",
        "  \n",
        "print(\"The preferred Lockdown date to avoid more casualities would be 15th March\")\n",
        "print(\"Number of cases that could have been prevented: %s\" % (prevented_cases))"
      ],
      "execution_count": 40,
      "outputs": [
        {
          "output_type": "stream",
          "text": [
            "74.40592130892092 percent rise is smaller than  78.9179104477612 percent rise\n",
            "The preferred Lockdown date to avoid more casualities would be 15th March\n",
            "Number of cases that could have been prevented: 423\n"
          ],
          "name": "stdout"
        }
      ]
    },
    {
      "cell_type": "code",
      "metadata": {
        "id": "DRCZj8GezYIK",
        "colab_type": "code",
        "outputId": "85209f2c-f1b6-48e0-d7ff-c3729cb40540",
        "colab": {
          "base_uri": "https://localhost:8080/",
          "height": 483
        }
      },
      "source": [
        "import matplotlib.pyplot as plt\n",
        "plt.figure(figsize=(16,8))\n",
        "plt.ylabel(\"Number of Cases\")\n",
        "predictplot = t3['Predicted Cases']\n",
        "predictplot = predictplot.iloc[53:63]\n",
        "plt.plot(predictplot)\n",
        "#plt.legend(['India Confirmed Cases', 'Predicted Cases', 'India Deaths', 'Predicted Deaths', 'India Recovered', 'Predicted Recovered'], loc='upper left')\n",
        "plt.show()"
      ],
      "execution_count": 41,
      "outputs": [
        {
          "output_type": "display_data",
          "data": {
            "image/png": "[encoded data removed]",
            "text/plain": [
              "<Figure size 1152x576 with 1 Axes>"
            ]
          },
          "metadata": {
            "tags": [],
            "needs_background": "light"
          }
        }
      ]
    },
    {
      "cell_type": "code",
      "metadata": {
        "id": "BqwOMlD80aG0",
        "colab_type": "code",
        "outputId": "3fd0c736-c31b-4d37-8095-a982351d6cb9",
        "colab": {
          "base_uri": "https://localhost:8080/",
          "height": 202
        }
      },
      "source": [
        "postdates = t3['Dates'].iloc[53:63]\n",
        "postdates\n",
        "#newplot2.info()"
      ],
      "execution_count": 42,
      "outputs": [
        {
          "output_type": "execute_result",
          "data": {
            "text/plain": [
              "53    03/15/2020\n",
              "54    03/16/2020\n",
              "55    03/17/2020\n",
              "56    03/18/2020\n",
              "57    03/19/2020\n",
              "58    03/20/2020\n",
              "59    03/21/2020\n",
              "60    03/22/2020\n",
              "61    03/23/2020\n",
              "62    03/24/2020\n",
              "Name: Dates, dtype: object"
            ]
          },
          "metadata": {
            "tags": []
          },
          "execution_count": 42
        }
      ]
    },
    {
      "cell_type": "code",
      "metadata": {
        "id": "CiFsq6NZ1-J-",
        "colab_type": "code",
        "outputId": "fe2d8341-8a6b-4528-c7cd-de45bb1d6101",
        "colab": {
          "base_uri": "https://localhost:8080/",
          "height": 373
        }
      },
      "source": [
        "predplot2 = pd.DataFrame(predictplot.to_frame().join(postdates))\n",
        "predplot2.set_index('Dates', inplace=True)\n",
        "predplot2"
      ],
      "execution_count": 43,
      "outputs": [
        {
          "output_type": "execute_result",
          "data": {
            "text/html": [
              "<div>\n",
              "<style scoped>\n",
              "    .dataframe tbody tr th:only-of-type {\n",
              "        vertical-align: middle;\n",
              "    }\n",
              "\n",
              "    .dataframe tbody tr th {\n",
              "        vertical-align: top;\n",
              "    }\n",
              "\n",
              "    .dataframe thead th {\n",
              "        text-align: right;\n",
              "    }\n",
              "</style>\n",
              "<table border=\"1\" class=\"dataframe\">\n",
              "  <thead>\n",
              "    <tr style=\"text-align: right;\">\n",
              "      <th></th>\n",
              "      <th>Predicted Cases</th>\n",
              "    </tr>\n",
              "    <tr>\n",
              "      <th>Dates</th>\n",
              "      <th></th>\n",
              "    </tr>\n",
              "  </thead>\n",
              "  <tbody>\n",
              "    <tr>\n",
              "      <th>03/15/2020</th>\n",
              "      <td>135.063751</td>\n",
              "    </tr>\n",
              "    <tr>\n",
              "      <th>03/16/2020</th>\n",
              "      <td>141.383804</td>\n",
              "    </tr>\n",
              "    <tr>\n",
              "      <th>03/17/2020</th>\n",
              "      <td>165.610687</td>\n",
              "    </tr>\n",
              "    <tr>\n",
              "      <th>03/18/2020</th>\n",
              "      <td>180.612793</td>\n",
              "    </tr>\n",
              "    <tr>\n",
              "      <th>03/19/2020</th>\n",
              "      <td>221.672623</td>\n",
              "    </tr>\n",
              "    <tr>\n",
              "      <th>03/20/2020</th>\n",
              "      <td>275.830505</td>\n",
              "    </tr>\n",
              "    <tr>\n",
              "      <th>03/21/2020</th>\n",
              "      <td>369.439240</td>\n",
              "    </tr>\n",
              "    <tr>\n",
              "      <th>03/22/2020</th>\n",
              "      <td>441.278381</td>\n",
              "    </tr>\n",
              "    <tr>\n",
              "      <th>03/23/2020</th>\n",
              "      <td>553.391113</td>\n",
              "    </tr>\n",
              "    <tr>\n",
              "      <th>03/24/2020</th>\n",
              "      <td>593.664673</td>\n",
              "    </tr>\n",
              "  </tbody>\n",
              "</table>\n",
              "</div>"
            ],
            "text/plain": [
              "            Predicted Cases\n",
              "Dates                      \n",
              "03/15/2020       135.063751\n",
              "03/16/2020       141.383804\n",
              "03/17/2020       165.610687\n",
              "03/18/2020       180.612793\n",
              "03/19/2020       221.672623\n",
              "03/20/2020       275.830505\n",
              "03/21/2020       369.439240\n",
              "03/22/2020       441.278381\n",
              "03/23/2020       553.391113\n",
              "03/24/2020       593.664673"
            ]
          },
          "metadata": {
            "tags": []
          },
          "execution_count": 43
        }
      ]
    },
    {
      "cell_type": "code",
      "metadata": {
        "id": "E8t1rZDMQL6a",
        "colab_type": "code",
        "outputId": "2d966503-46f6-4697-c983-86bc2b1b753b",
        "colab": {
          "base_uri": "https://localhost:8080/",
          "height": 296
        }
      },
      "source": [
        "predplot2.plot()"
      ],
      "execution_count": 44,
      "outputs": [
        {
          "output_type": "execute_result",
          "data": {
            "text/plain": [
              "<matplotlib.axes._subplots.AxesSubplot at 0x7f01f5936dd8>"
            ]
          },
          "metadata": {
            "tags": []
          },
          "execution_count": 44
        },
        {
          "output_type": "display_data",
          "data": {
            "image/png": "[encoded data removed]",
            "text/plain": [
              "<Figure size 432x288 with 1 Axes>"
            ]
          },
          "metadata": {
            "tags": [],
            "needs_background": "light"
          }
        }
      ]
    },
    {
      "cell_type": "code",
      "metadata": {
        "id": "6XR5hfCUQNZl",
        "colab_type": "code",
        "outputId": "62999249-caf4-4cbe-f1a8-5d8834c03b4b",
        "colab": {
          "base_uri": "https://localhost:8080/",
          "height": 34
        }
      },
      "source": [
        "prediction_percent = (predplot2['Predicted Cases'][9] - predplot2['Predicted Cases'][0]) / predplot2['Predicted Cases'][9] \n",
        "prediction_percent\n",
        "prediction_rise = prediction_percent * 100\n",
        "prediction_rise"
      ],
      "execution_count": 45,
      "outputs": [
        {
          "output_type": "execute_result",
          "data": {
            "text/plain": [
              "77.24915146827698"
            ]
          },
          "metadata": {
            "tags": []
          },
          "execution_count": 45
        }
      ]
    },
    {
      "cell_type": "code",
      "metadata": {
        "id": "MSblFZiMRIzw",
        "colab_type": "code",
        "outputId": "4193d5f0-d644-4100-87d4-f9a0c39c593f",
        "colab": {
          "base_uri": "https://localhost:8080/",
          "height": 483
        }
      },
      "source": [
        "import matplotlib.pyplot as plt\n",
        "plt.figure(figsize=(16,8))\n",
        "plt.ylabel(\"Number of Cases\")\n",
        "predictplot_afterlock = t3['Predicted Cases']\n",
        "predictplot_afterlock = predictplot_afterlock.iloc[63:73]\n",
        "plt.plot(predictplot_afterlock)\n",
        "#plt.legend(['India Confirmed Cases', 'Predicted Cases', 'India Deaths', 'Predicted Deaths', 'India Recovered', 'Predicted Recovered'], loc='upper left')\n",
        "plt.show()"
      ],
      "execution_count": 46,
      "outputs": [
        {
          "output_type": "display_data",
          "data": {
            "image/png": "[encoded data removed]",
            "text/plain": [
              "<Figure size 1152x576 with 1 Axes>"
            ]
          },
          "metadata": {
            "tags": [],
            "needs_background": "light"
          }
        }
      ]
    },
    {
      "cell_type": "code",
      "metadata": {
        "id": "CNbaHWyrRzba",
        "colab_type": "code",
        "outputId": "f196fc32-bf93-401e-94f1-cd001c3d3e44",
        "colab": {
          "base_uri": "https://localhost:8080/",
          "height": 202
        }
      },
      "source": [
        "postdates_afterlock = t3['Dates'].iloc[63:73]\n",
        "postdates_afterlock\n",
        "#newplot2.info()"
      ],
      "execution_count": 47,
      "outputs": [
        {
          "output_type": "execute_result",
          "data": {
            "text/plain": [
              "63    03/25/2020\n",
              "64    03/26/2020\n",
              "65    03/27/2020\n",
              "66    03/28/2020\n",
              "67    03/29/2020\n",
              "68    03/30/2020\n",
              "69    03/31/2020\n",
              "70    04/01/2020\n",
              "71    04/02/2020\n",
              "72    04/03/2020\n",
              "Name: Dates, dtype: object"
            ]
          },
          "metadata": {
            "tags": []
          },
          "execution_count": 47
        }
      ]
    },
    {
      "cell_type": "code",
      "metadata": {
        "id": "IGdDPG35SBZX",
        "colab_type": "code",
        "outputId": "c5f7ebda-20b5-4892-df2a-bb4efa4ed6da",
        "colab": {
          "base_uri": "https://localhost:8080/",
          "height": 373
        }
      },
      "source": [
        "predplot3 = pd.DataFrame(predictplot_afterlock.to_frame().join(postdates_afterlock))\n",
        "predplot3.set_index('Dates', inplace=True)\n",
        "predplot3"
      ],
      "execution_count": 48,
      "outputs": [
        {
          "output_type": "execute_result",
          "data": {
            "text/html": [
              "<div>\n",
              "<style scoped>\n",
              "    .dataframe tbody tr th:only-of-type {\n",
              "        vertical-align: middle;\n",
              "    }\n",
              "\n",
              "    .dataframe tbody tr th {\n",
              "        vertical-align: top;\n",
              "    }\n",
              "\n",
              "    .dataframe thead th {\n",
              "        text-align: right;\n",
              "    }\n",
              "</style>\n",
              "<table border=\"1\" class=\"dataframe\">\n",
              "  <thead>\n",
              "    <tr style=\"text-align: right;\">\n",
              "      <th></th>\n",
              "      <th>Predicted Cases</th>\n",
              "    </tr>\n",
              "    <tr>\n",
              "      <th>Dates</th>\n",
              "      <th></th>\n",
              "    </tr>\n",
              "  </thead>\n",
              "  <tbody>\n",
              "    <tr>\n",
              "      <th>03/25/2020</th>\n",
              "      <td>725.369934</td>\n",
              "    </tr>\n",
              "    <tr>\n",
              "      <th>03/26/2020</th>\n",
              "      <td>801.563049</td>\n",
              "    </tr>\n",
              "    <tr>\n",
              "      <th>03/27/2020</th>\n",
              "      <td>975.718750</td>\n",
              "    </tr>\n",
              "    <tr>\n",
              "      <th>03/28/2020</th>\n",
              "      <td>1084.565796</td>\n",
              "    </tr>\n",
              "    <tr>\n",
              "      <th>03/29/2020</th>\n",
              "      <td>1124.839478</td>\n",
              "    </tr>\n",
              "    <tr>\n",
              "      <th>03/30/2020</th>\n",
              "      <td>1371.922729</td>\n",
              "    </tr>\n",
              "    <tr>\n",
              "      <th>03/31/2020</th>\n",
              "      <td>1530.839844</td>\n",
              "    </tr>\n",
              "    <tr>\n",
              "      <th>04/01/2020</th>\n",
              "      <td>2185.012207</td>\n",
              "    </tr>\n",
              "    <tr>\n",
              "      <th>04/02/2020</th>\n",
              "      <td>2778.229980</td>\n",
              "    </tr>\n",
              "    <tr>\n",
              "      <th>04/03/2020</th>\n",
              "      <td>2804.353271</td>\n",
              "    </tr>\n",
              "  </tbody>\n",
              "</table>\n",
              "</div>"
            ],
            "text/plain": [
              "            Predicted Cases\n",
              "Dates                      \n",
              "03/25/2020       725.369934\n",
              "03/26/2020       801.563049\n",
              "03/27/2020       975.718750\n",
              "03/28/2020      1084.565796\n",
              "03/29/2020      1124.839478\n",
              "03/30/2020      1371.922729\n",
              "03/31/2020      1530.839844\n",
              "04/01/2020      2185.012207\n",
              "04/02/2020      2778.229980\n",
              "04/03/2020      2804.353271"
            ]
          },
          "metadata": {
            "tags": []
          },
          "execution_count": 48
        }
      ]
    },
    {
      "cell_type": "code",
      "metadata": {
        "id": "NJOs7BkCSN8V",
        "colab_type": "code",
        "outputId": "aea69c56-7a5f-4e2e-82c1-ec34bb9c21dc",
        "colab": {
          "base_uri": "https://localhost:8080/",
          "height": 296
        }
      },
      "source": [
        "predplot3.plot()"
      ],
      "execution_count": 49,
      "outputs": [
        {
          "output_type": "execute_result",
          "data": {
            "text/plain": [
              "<matplotlib.axes._subplots.AxesSubplot at 0x7f01f58c6e48>"
            ]
          },
          "metadata": {
            "tags": []
          },
          "execution_count": 49
        },
        {
          "output_type": "display_data",
          "data": {
            "image/png": "[encoded data removed]",
            "text/plain": [
              "<Figure size 432x288 with 1 Axes>"
            ]
          },
          "metadata": {
            "tags": [],
            "needs_background": "light"
          }
        }
      ]
    },
    {
      "cell_type": "code",
      "metadata": {
        "id": "wEcrI_uOTKFq",
        "colab_type": "code",
        "outputId": "0ecf71b0-562d-4eba-93fe-21d243cfca85",
        "colab": {
          "base_uri": "https://localhost:8080/",
          "height": 202
        }
      },
      "source": [
        "predictplot_afterlock"
      ],
      "execution_count": 50,
      "outputs": [
        {
          "output_type": "execute_result",
          "data": {
            "text/plain": [
              "63     725.369934\n",
              "64     801.563049\n",
              "65     975.718750\n",
              "66    1084.565796\n",
              "67    1124.839478\n",
              "68    1371.922729\n",
              "69    1530.839844\n",
              "70    2185.012207\n",
              "71    2778.229980\n",
              "72    2804.353271\n",
              "Name: Predicted Cases, dtype: float32"
            ]
          },
          "metadata": {
            "tags": []
          },
          "execution_count": 50
        }
      ]
    },
    {
      "cell_type": "code",
      "metadata": {
        "id": "pg5ApPPJSVk2",
        "colab_type": "code",
        "outputId": "b0bab5c6-c83a-4139-db7c-0fbcd5d66ec9",
        "colab": {
          "base_uri": "https://localhost:8080/",
          "height": 34
        }
      },
      "source": [
        "prediction_percent_afterlock = (predplot3['Predicted Cases'][9] - predplot3['Predicted Cases'][0]) / predplot3['Predicted Cases'][9] \n",
        "prediction_percent_afterlock\n",
        "prediction_rise_afterlock = prediction_percent_afterlock * 100\n",
        "prediction_rise_afterlock"
      ],
      "execution_count": 51,
      "outputs": [
        {
          "output_type": "execute_result",
          "data": {
            "text/plain": [
              "74.13414716720581"
            ]
          },
          "metadata": {
            "tags": []
          },
          "execution_count": 51
        }
      ]
    },
    {
      "cell_type": "code",
      "metadata": {
        "id": "VppVFCcySyyh",
        "colab_type": "code",
        "outputId": "0f04cd78-6e3e-44e1-bced-bc11b232343f",
        "colab": {
          "base_uri": "https://localhost:8080/",
          "height": 50
        }
      },
      "source": [
        "print(\"The percentage rise from 15th march to 25th march: %s \" % (prediction_rise))\n",
        "print(\"The percentage rise from 25th march to 3rd april: %s \" % (prediction_rise_afterlock))"
      ],
      "execution_count": 52,
      "outputs": [
        {
          "output_type": "stream",
          "text": [
            "The percentage rise from 15th march to 25th march: 77.24915146827698 \n",
            "The percentage rise from 25th march to 3rd april: 74.13414716720581 \n"
          ],
          "name": "stdout"
        }
      ]
    },
    {
      "cell_type": "code",
      "metadata": {
        "id": "wiAo3E49Uljd",
        "colab_type": "code",
        "outputId": "3597235a-7513-4b90-ae0e-fe179f4dd358",
        "colab": {
          "base_uri": "https://localhost:8080/",
          "height": 448
        }
      },
      "source": [
        "import matplotlib.pyplot as plt\n",
        "fig = plt.figure()\n",
        "ax = fig.add_axes([0,0,1,1])\n",
        "cases = ['ConfirmCases_Before Lockdown', 'Confirmcases_afterlockdown', 'Predictedcases_before lockdown', 'Predicted Cases afterlockdown']\n",
        "percent = [total_rise, total_rise2, prediction_rise, prediction_rise_afterlock]\n",
        "ax.bar(cases,percent)\n",
        "plt.xticks(rotation=45)\n",
        "plt.show()"
      ],
      "execution_count": 53,
      "outputs": [
        {
          "output_type": "display_data",
          "data": {
            "image/png": "[encoded data removed]",
            "text/plain": [
              "<Figure size 432x288 with 1 Axes>"
            ]
          },
          "metadata": {
            "tags": [],
            "needs_background": "light"
          }
        }
      ]
    },
    {
      "cell_type": "code",
      "metadata": {
        "id": "0Zoe2GbHbi57",
        "colab_type": "code",
        "colab": {}
      },
      "source": [
        "xc = newplot2['India Confirmed Cases'][0]\n",
        "xl=newplot2['India Confirmed Cases'][9]"
      ],
      "execution_count": 0,
      "outputs": []
    },
    {
      "cell_type": "code",
      "metadata": {
        "id": "sDo-Rbybbyub",
        "colab_type": "code",
        "outputId": "f2650b90-692e-4ee7-e7f9-e78f5e8a181e",
        "colab": {
          "base_uri": "https://localhost:8080/",
          "height": 34
        }
      },
      "source": [
        "cv= total_rise2\n",
        "cv"
      ],
      "execution_count": 55,
      "outputs": [
        {
          "output_type": "execute_result",
          "data": {
            "text/plain": [
              "74.40592130892092"
            ]
          },
          "metadata": {
            "tags": []
          },
          "execution_count": 55
        }
      ]
    },
    {
      "cell_type": "code",
      "metadata": {
        "id": "M0fbB6biafbX",
        "colab_type": "code",
        "outputId": "c6ac5254-4dfd-4dd6-cc92-c368dfb85ccb",
        "colab": {
          "base_uri": "https://localhost:8080/",
          "height": 67
        }
      },
      "source": [
        "temp = (100 * xc) / (100 - cv)\n",
        "Case_prevented= xl - temp\n",
        "print(\"For Real Model:\")\n",
        "print('Total confirmed cases which could have been prevented if the lockdown started at 15th March:', Case_prevented)\n",
        "print('The number of cases it would have been till 25th march if lockdown started on 15th march:', temp)"
      ],
      "execution_count": 56,
      "outputs": [
        {
          "output_type": "stream",
          "text": [
            "For Real Model:\n",
            "Total confirmed cases which could have been prevented if the lockdown started at 15th March: 94.49162861491624\n",
            "The number of cases it would have been till 25th march if lockdown started on 15th march: 441.50837138508376\n"
          ],
          "name": "stdout"
        }
      ]
    },
    {
      "cell_type": "markdown",
      "metadata": {
        "id": "IkUxR0x4kuqq",
        "colab_type": "text"
      },
      "source": [
        "Concluded Numbers for Prediction Scores"
      ]
    },
    {
      "cell_type": "code",
      "metadata": {
        "id": "PIRdJduSbErD",
        "colab_type": "code",
        "colab": {}
      },
      "source": [
        "p1 = predplot2['Predicted Cases'][0]\n",
        "p2 = predplot2['Predicted Cases'][9]"
      ],
      "execution_count": 0,
      "outputs": []
    },
    {
      "cell_type": "code",
      "metadata": {
        "id": "dBFCyh4qmA2w",
        "colab_type": "code",
        "outputId": "de8df312-af9e-4a82-add5-ed7057ba0016",
        "colab": {
          "base_uri": "https://localhost:8080/",
          "height": 34
        }
      },
      "source": [
        "cv2 = prediction_rise\n",
        "cv2"
      ],
      "execution_count": 58,
      "outputs": [
        {
          "output_type": "execute_result",
          "data": {
            "text/plain": [
              "77.24915146827698"
            ]
          },
          "metadata": {
            "tags": []
          },
          "execution_count": 58
        }
      ]
    },
    {
      "cell_type": "code",
      "metadata": {
        "id": "PQkkwS9tmNEO",
        "colab_type": "code",
        "outputId": "27a2074e-40e6-48dd-9100-533bcbc985b4",
        "colab": {
          "base_uri": "https://localhost:8080/",
          "height": 67
        }
      },
      "source": [
        "a = 100 * p1\n",
        "b = 100 - cv2\n",
        "temp2 = a / b\n",
        "cases_prevented_prediction = 594 - temp2\n",
        "print(\"For Prediciton model supporting our real-time theory:\")\n",
        "print(\"Total predicted cases which could have been prevented in the future if lockdown started at 15th March\", cases_prevented_prediction)\n",
        "print('The number of cases there would be on 25th march if lockdown started on 15th march:', temp2)"
      ],
      "execution_count": 59,
      "outputs": [
        {
          "output_type": "stream",
          "text": [
            "For Prediciton model supporting our real-time theory:\n",
            "Total predicted cases which could have been prevented in the future if lockdown started at 15th March 0.3353240105539044\n",
            "The number of cases there would be on 25th march if lockdown started on 15th march: 593.6646759894461\n"
          ],
          "name": "stdout"
        }
      ]
    },
    {
      "cell_type": "code",
      "metadata": {
        "id": "LEj5YcaUq6AL",
        "colab_type": "code",
        "colab": {
          "base_uri": "https://localhost:8080/",
          "height": 34
        },
        "outputId": "b6bbcf9e-bd67-447f-b18e-29f63d0da5cd"
      },
      "source": [
        "from sklearn.metrics import r2_score\n",
        "score = r2_score(t3['India Confirmed Cases'], t3['Predicted Cases'])\n",
        "score"
      ],
      "execution_count": 61,
      "outputs": [
        {
          "output_type": "execute_result",
          "data": {
            "text/plain": [
              "0.9901390257768201"
            ]
          },
          "metadata": {
            "tags": []
          },
          "execution_count": 61
        }
      ]
    },
    {
      "cell_type": "code",
      "metadata": {
        "id": "3NM-Jvc_Nx-9",
        "colab_type": "code",
        "colab": {
          "base_uri": "https://localhost:8080/",
          "height": 34
        },
        "outputId": "745876f5-e58b-409d-a095-155c56c6033f"
      },
      "source": [
        "from sklearn.metrics import r2_score\n",
        "score1 = r2_score(t3['India Deaths'], t3['Predicted Deaths'])\n",
        "score1"
      ],
      "execution_count": 62,
      "outputs": [
        {
          "output_type": "execute_result",
          "data": {
            "text/plain": [
              "0.9851250552310015"
            ]
          },
          "metadata": {
            "tags": []
          },
          "execution_count": 62
        }
      ]
    },
    {
      "cell_type": "code",
      "metadata": {
        "id": "bxo7EY9mOHsl",
        "colab_type": "code",
        "colab": {
          "base_uri": "https://localhost:8080/",
          "height": 34
        },
        "outputId": "4ec51df4-06c7-4cd8-92ca-46585eaf0217"
      },
      "source": [
        "from sklearn.metrics import r2_score\n",
        "score3 = r2_score(t3['India Recovered'], t3['Predicted Recovered'])\n",
        "score3"
      ],
      "execution_count": 63,
      "outputs": [
        {
          "output_type": "execute_result",
          "data": {
            "text/plain": [
              "0.9152102014988904"
            ]
          },
          "metadata": {
            "tags": []
          },
          "execution_count": 63
        }
      ]
    },
    {
      "cell_type": "code",
      "metadata": {
        "id": "BZXk1HlSOPIC",
        "colab_type": "code",
        "colab": {
          "base_uri": "https://localhost:8080/",
          "height": 34
        },
        "outputId": "c143cdc7-b536-49ca-da32-9c2ff2eda543"
      },
      "source": [
        "Average = (score + score1 + score3) / 3\n",
        "Average\n"
      ],
      "execution_count": 66,
      "outputs": [
        {
          "output_type": "execute_result",
          "data": {
            "text/plain": [
              "0.9634914275022374"
            ]
          },
          "metadata": {
            "tags": []
          },
          "execution_count": 66
        }
      ]
    },
    {
      "cell_type": "code",
      "metadata": {
        "id": "9PxUMlu8OY2h",
        "colab_type": "code",
        "colab": {}
      },
      "source": [
        ""
      ],
      "execution_count": 0,
      "outputs": []
    }
  ]
}