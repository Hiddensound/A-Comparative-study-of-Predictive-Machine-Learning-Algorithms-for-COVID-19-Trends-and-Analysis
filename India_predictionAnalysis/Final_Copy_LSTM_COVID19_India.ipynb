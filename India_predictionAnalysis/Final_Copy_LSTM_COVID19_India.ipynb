{
  "nbformat": 4,
  "nbformat_minor": 0,
  "metadata": {
    "colab": {
      "name": "Final_Copy_LSTM_COVID19_India.ipynb",
      "provenance": [],
      "collapsed_sections": []
    },
    "kernelspec": {
      "name": "python3",
      "display_name": "Python 3"
    }
  },
  "cells": [
    {
      "cell_type": "code",
      "metadata": {
        "id": "O_LD9wHM_Q3q",
        "colab_type": "code",
        "outputId": "3649c31c-5023-48e7-fa41-ce6c122c3607",
        "colab": {
          "base_uri": "https://localhost:8080/",
          "height": 34
        }
      },
      "source": [
        "from google.colab import drive\n",
        "drive.mount('/content/drive', force_remount=True)"
      ],
      "execution_count": 0,
      "outputs": [
        {
          "output_type": "stream",
          "text": [
            "Mounted at /content/drive\n"
          ],
          "name": "stdout"
        }
      ]
    },
    {
      "cell_type": "code",
      "metadata": {
        "id": "82fXctuP65F9",
        "colab_type": "code",
        "colab": {}
      },
      "source": [
        "import math\n",
        "import pandas_datareader as web\n",
        "import numpy as np\n",
        "import pandas as pd\n",
        "from sklearn.preprocessing import MinMaxScaler\n",
        "from keras.models import Sequential\n",
        "from keras.layers import Dense,LSTM\n",
        "import matplotlib.pyplot as plt\n",
        "from sklearn.metrics import r2_score\n"
      ],
      "execution_count": 0,
      "outputs": []
    },
    {
      "cell_type": "code",
      "metadata": {
        "id": "VkDgJ5kf7r99",
        "colab_type": "code",
        "colab": {}
      },
      "source": [
        "df = pd.read_csv('/content/drive/My Drive/COVID-19/Total_cases_India (1).csv', index_col='Dates')"
      ],
      "execution_count": 0,
      "outputs": []
    },
    {
      "cell_type": "code",
      "metadata": {
        "id": "vdPM2Sw68JPp",
        "colab_type": "code",
        "outputId": "33ec9ccc-9198-40c3-a8cb-fca01d918b9a",
        "colab": {
          "base_uri": "https://localhost:8080/",
          "height": 269
        }
      },
      "source": [
        "print(df)"
      ],
      "execution_count": 0,
      "outputs": [
        {
          "output_type": "stream",
          "text": [
            "            India Confirmed Cases  Confirmed Deaths  Confirmed Rcovered\n",
            "Dates                                                                  \n",
            "01/22/2020                      0                 0                   0\n",
            "01/23/2020                      0                 0                   0\n",
            "01/24/2020                      0                 0                   0\n",
            "01/25/2020                      0                 0                   0\n",
            "01/26/2020                      0                 0                   0\n",
            "...                           ...               ...                 ...\n",
            "04/18/2020                  15722               521                2463\n",
            "04/19/2020                  17615               559                2854\n",
            "04/20/2020                  18539               592                3273\n",
            "04/21/2020                  20080               645                3975\n",
            "04/22/2020                  21370               681                4370\n",
            "\n",
            "[92 rows x 3 columns]\n"
          ],
          "name": "stdout"
        }
      ]
    },
    {
      "cell_type": "code",
      "metadata": {
        "id": "WzUuAhLm8S84",
        "colab_type": "code",
        "outputId": "5d53dd60-7f6a-41d7-d989-3493b26813a8",
        "colab": {
          "base_uri": "https://localhost:8080/",
          "height": 296
        }
      },
      "source": [
        "df['India Confirmed Cases'].plot()\n",
        "#plt.figure(figsize=(16,8))"
      ],
      "execution_count": 0,
      "outputs": [
        {
          "output_type": "execute_result",
          "data": {
            "text/plain": [
              "<matplotlib.axes._subplots.AxesSubplot at 0x7efbb19c6f98>"
            ]
          },
          "metadata": {
            "tags": []
          },
          "execution_count": 82
        },
        {
          "output_type": "display_data",
          "data": {
            "image/png": "[encoded data removed]",
            "text/plain": [
              "<Figure size 432x288 with 1 Axes>"
            ]
          },
          "metadata": {
            "tags": [],
            "needs_background": "light"
          }
        }
      ]
    },
    {
      "cell_type": "code",
      "metadata": {
        "id": "B5Y-uDN-8sUR",
        "colab_type": "code",
        "colab": {}
      },
      "source": [
        "data = df.filter(['India Confirmed Cases'])"
      ],
      "execution_count": 0,
      "outputs": []
    },
    {
      "cell_type": "code",
      "metadata": {
        "id": "41X9NIEN9jZb",
        "colab_type": "code",
        "colab": {}
      },
      "source": [
        "dataset = data.values"
      ],
      "execution_count": 0,
      "outputs": []
    },
    {
      "cell_type": "code",
      "metadata": {
        "id": "7pOXyw-f9nNM",
        "colab_type": "code",
        "outputId": "42d47644-c282-46fb-e481-4d246fefb135",
        "colab": {
          "base_uri": "https://localhost:8080/",
          "height": 34
        }
      },
      "source": [
        "training_data_len = math.ceil(len(dataset) * 0.8)\n",
        "training_data_len"
      ],
      "execution_count": 0,
      "outputs": [
        {
          "output_type": "execute_result",
          "data": {
            "text/plain": [
              "74"
            ]
          },
          "metadata": {
            "tags": []
          },
          "execution_count": 85
        }
      ]
    },
    {
      "cell_type": "code",
      "metadata": {
        "id": "-CBMUNzf96CY",
        "colab_type": "code",
        "colab": {}
      },
      "source": [
        "scaler = MinMaxScaler(feature_range=(0,1))\n",
        "scaled_data = scaler.fit_transform(dataset)"
      ],
      "execution_count": 0,
      "outputs": []
    },
    {
      "cell_type": "code",
      "metadata": {
        "id": "wJQEDTaK-RA5",
        "colab_type": "code",
        "outputId": "25f4900c-5a40-4293-877b-3fd067bf37ee",
        "colab": {
          "base_uri": "https://localhost:8080/",
          "height": 1000
        }
      },
      "source": [
        "scaled_data"
      ],
      "execution_count": 0,
      "outputs": [
        {
          "output_type": "execute_result",
          "data": {
            "text/plain": [
              "array([[0.00000000e+00],\n",
              "       [0.00000000e+00],\n",
              "       [0.00000000e+00],\n",
              "       [0.00000000e+00],\n",
              "       [0.00000000e+00],\n",
              "       [0.00000000e+00],\n",
              "       [0.00000000e+00],\n",
              "       [0.00000000e+00],\n",
              "       [4.67945718e-05],\n",
              "       [4.67945718e-05],\n",
              "       [4.67945718e-05],\n",
              "       [9.35891437e-05],\n",
              "       [1.40383715e-04],\n",
              "       [1.40383715e-04],\n",
              "       [1.40383715e-04],\n",
              "       [1.40383715e-04],\n",
              "       [1.40383715e-04],\n",
              "       [1.40383715e-04],\n",
              "       [1.40383715e-04],\n",
              "       [1.40383715e-04],\n",
              "       [1.40383715e-04],\n",
              "       [1.40383715e-04],\n",
              "       [1.40383715e-04],\n",
              "       [1.40383715e-04],\n",
              "       [1.40383715e-04],\n",
              "       [1.40383715e-04],\n",
              "       [1.40383715e-04],\n",
              "       [1.40383715e-04],\n",
              "       [1.40383715e-04],\n",
              "       [1.40383715e-04],\n",
              "       [1.40383715e-04],\n",
              "       [1.40383715e-04],\n",
              "       [1.40383715e-04],\n",
              "       [1.40383715e-04],\n",
              "       [1.40383715e-04],\n",
              "       [1.40383715e-04],\n",
              "       [1.40383715e-04],\n",
              "       [1.40383715e-04],\n",
              "       [1.40383715e-04],\n",
              "       [1.40383715e-04],\n",
              "       [2.33972859e-04],\n",
              "       [2.33972859e-04],\n",
              "       [1.31024801e-03],\n",
              "       [1.40383715e-03],\n",
              "       [1.45063173e-03],\n",
              "       [1.59101544e-03],\n",
              "       [1.82498830e-03],\n",
              "       [2.01216659e-03],\n",
              "       [2.62049602e-03],\n",
              "       [2.90126345e-03],\n",
              "       [3.41600374e-03],\n",
              "       [3.83715489e-03],\n",
              "       [4.77304633e-03],\n",
              "       [5.28778662e-03],\n",
              "       [5.56855405e-03],\n",
              "       [6.64482920e-03],\n",
              "       [7.29995321e-03],\n",
              "       [9.07814693e-03],\n",
              "       [1.14178755e-02],\n",
              "       [1.54422087e-02],\n",
              "       [1.85306504e-02],\n",
              "       [2.33504913e-02],\n",
              "       [2.50818905e-02],\n",
              "       [3.07440337e-02],\n",
              "       [3.40196537e-02],\n",
              "       [4.15067852e-02],\n",
              "       [4.61862424e-02],\n",
              "       [4.79176416e-02],\n",
              "       [5.85400094e-02],\n",
              "       [6.53720168e-02],\n",
              "       [9.34955545e-02],\n",
              "       [1.18998596e-01],\n",
              "       [1.20121666e-01],\n",
              "       [1.44220870e-01],\n",
              "       [1.67898924e-01],\n",
              "       [2.23584464e-01],\n",
              "       [2.48525971e-01],\n",
              "       [2.76836687e-01],\n",
              "       [3.14693496e-01],\n",
              "       [3.55545157e-01],\n",
              "       [3.95226954e-01],\n",
              "       [4.30744034e-01],\n",
              "       [4.89143659e-01],\n",
              "       [5.37529247e-01],\n",
              "       [5.76602714e-01],\n",
              "       [6.28451100e-01],\n",
              "       [6.71595695e-01],\n",
              "       [7.35704258e-01],\n",
              "       [8.24286383e-01],\n",
              "       [8.67524567e-01],\n",
              "       [9.39635002e-01],\n",
              "       [1.00000000e+00]])"
            ]
          },
          "metadata": {
            "tags": []
          },
          "execution_count": 87
        }
      ]
    },
    {
      "cell_type": "code",
      "metadata": {
        "id": "YL19PrqG-WP5",
        "colab_type": "code",
        "outputId": "583d13cc-68f1-45b0-de3b-27238b6e914a",
        "colab": {
          "base_uri": "https://localhost:8080/",
          "height": 101
        }
      },
      "source": [
        "train_data = scaled_data[0:training_data_len, :]\n",
        "x_train = []\n",
        "y_train = []\n",
        "\n",
        "for i in range(10, len(train_data)):\n",
        "  x_train.append(train_data[i-10:i, 0])\n",
        "  y_train.append(train_data[i, 0])\n",
        "  if i<= 10:\n",
        "    print(x_train)\n",
        "    print(y_train)\n",
        "    print()"
      ],
      "execution_count": 0,
      "outputs": [
        {
          "output_type": "stream",
          "text": [
            "[array([0.00000000e+00, 0.00000000e+00, 0.00000000e+00, 0.00000000e+00,\n",
            "       0.00000000e+00, 0.00000000e+00, 0.00000000e+00, 0.00000000e+00,\n",
            "       4.67945718e-05, 4.67945718e-05])]\n",
            "[4.679457182966776e-05]\n",
            "\n"
          ],
          "name": "stdout"
        }
      ]
    },
    {
      "cell_type": "code",
      "metadata": {
        "id": "fLRFNnYqAHrQ",
        "colab_type": "code",
        "colab": {}
      },
      "source": [
        "x_train, y_train = np.array(x_train), np.array(y_train)"
      ],
      "execution_count": 0,
      "outputs": []
    },
    {
      "cell_type": "code",
      "metadata": {
        "id": "w2rnFmToA-Ux",
        "colab_type": "code",
        "outputId": "30a47362-6e5f-4694-8efa-b57078e0c22a",
        "colab": {
          "base_uri": "https://localhost:8080/",
          "height": 34
        }
      },
      "source": [
        "x_train = np.reshape(x_train, (x_train.shape[0], x_train.shape[1], 1))\n",
        "x_train.shape"
      ],
      "execution_count": 0,
      "outputs": [
        {
          "output_type": "execute_result",
          "data": {
            "text/plain": [
              "(64, 10, 1)"
            ]
          },
          "metadata": {
            "tags": []
          },
          "execution_count": 90
        }
      ]
    },
    {
      "cell_type": "code",
      "metadata": {
        "id": "b7adSETOMaIa",
        "colab_type": "code",
        "colab": {}
      },
      "source": [
        "model = Sequential()\n",
        "model.add(LSTM(50, return_sequences=True, input_shape=(x_train.shape[1], 1)))\n",
        "model.add(LSTM(50, return_sequences=False))\n",
        "model.add(Dense(25))\n",
        "model.add(Dense(1))"
      ],
      "execution_count": 0,
      "outputs": []
    },
    {
      "cell_type": "code",
      "metadata": {
        "id": "KdbEeOGKprOT",
        "colab_type": "code",
        "colab": {}
      },
      "source": [
        "#compile the model\n",
        "model.compile(optimizer='adam', loss='mean_squared_error')\n"
      ],
      "execution_count": 0,
      "outputs": []
    },
    {
      "cell_type": "code",
      "metadata": {
        "id": "SIUWBDqxqAPI",
        "colab_type": "code",
        "outputId": "04181f89-d2d3-4e4f-d212-956aaafa9dc0",
        "colab": {
          "base_uri": "https://localhost:8080/",
          "height": 1000
        }
      },
      "source": [
        "model.fit(x_train,y_train,batch_size=1, epochs=50)"
      ],
      "execution_count": 0,
      "outputs": [
        {
          "output_type": "stream",
          "text": [
            "Epoch 1/50\n",
            "64/64 [==============================] - 1s 14ms/step - loss: 0.0011\n",
            "Epoch 2/50\n",
            "64/64 [==============================] - 0s 7ms/step - loss: 5.6383e-04\n",
            "Epoch 3/50\n",
            "64/64 [==============================] - 0s 6ms/step - loss: 5.0151e-05\n",
            "Epoch 4/50\n",
            "64/64 [==============================] - 0s 6ms/step - loss: 3.2776e-05\n",
            "Epoch 5/50\n",
            "64/64 [==============================] - 0s 6ms/step - loss: 1.0870e-04\n",
            "Epoch 6/50\n",
            "64/64 [==============================] - 0s 6ms/step - loss: 4.8670e-05\n",
            "Epoch 7/50\n",
            "64/64 [==============================] - 0s 6ms/step - loss: 6.1877e-05\n",
            "Epoch 8/50\n",
            "64/64 [==============================] - 0s 6ms/step - loss: 3.8634e-05\n",
            "Epoch 9/50\n",
            "64/64 [==============================] - 0s 6ms/step - loss: 3.5438e-05\n",
            "Epoch 10/50\n",
            "64/64 [==============================] - 0s 6ms/step - loss: 3.9058e-05\n",
            "Epoch 11/50\n",
            "64/64 [==============================] - 0s 6ms/step - loss: 6.5320e-05\n",
            "Epoch 12/50\n",
            "64/64 [==============================] - 0s 6ms/step - loss: 4.3555e-05\n",
            "Epoch 13/50\n",
            "64/64 [==============================] - 0s 7ms/step - loss: 6.3268e-05\n",
            "Epoch 14/50\n",
            "64/64 [==============================] - 0s 6ms/step - loss: 2.4834e-05\n",
            "Epoch 15/50\n",
            "64/64 [==============================] - 0s 6ms/step - loss: 3.1860e-05\n",
            "Epoch 16/50\n",
            "64/64 [==============================] - 0s 6ms/step - loss: 8.4524e-05\n",
            "Epoch 17/50\n",
            "64/64 [==============================] - 0s 6ms/step - loss: 3.2514e-05\n",
            "Epoch 18/50\n",
            "64/64 [==============================] - 0s 6ms/step - loss: 5.8207e-05\n",
            "Epoch 19/50\n",
            "64/64 [==============================] - 0s 6ms/step - loss: 5.3977e-05\n",
            "Epoch 20/50\n",
            "64/64 [==============================] - 0s 6ms/step - loss: 5.7989e-05\n",
            "Epoch 21/50\n",
            "64/64 [==============================] - 0s 6ms/step - loss: 4.1154e-05\n",
            "Epoch 22/50\n",
            "64/64 [==============================] - 0s 6ms/step - loss: 4.3740e-05\n",
            "Epoch 23/50\n",
            "64/64 [==============================] - 0s 6ms/step - loss: 5.6864e-05\n",
            "Epoch 24/50\n",
            "64/64 [==============================] - 0s 6ms/step - loss: 6.4680e-05\n",
            "Epoch 25/50\n",
            "64/64 [==============================] - 0s 6ms/step - loss: 1.5076e-04\n",
            "Epoch 26/50\n",
            "64/64 [==============================] - 0s 6ms/step - loss: 1.2058e-04\n",
            "Epoch 27/50\n",
            "64/64 [==============================] - 0s 6ms/step - loss: 6.5077e-05\n",
            "Epoch 28/50\n",
            "64/64 [==============================] - 0s 6ms/step - loss: 4.3299e-05\n",
            "Epoch 29/50\n",
            "64/64 [==============================] - 0s 6ms/step - loss: 5.7983e-05\n",
            "Epoch 30/50\n",
            "64/64 [==============================] - 0s 6ms/step - loss: 3.6577e-05\n",
            "Epoch 31/50\n",
            "64/64 [==============================] - 0s 6ms/step - loss: 3.1438e-05\n",
            "Epoch 32/50\n",
            "64/64 [==============================] - 0s 6ms/step - loss: 2.2612e-05\n",
            "Epoch 33/50\n",
            "64/64 [==============================] - 0s 6ms/step - loss: 2.1729e-05\n",
            "Epoch 34/50\n",
            "64/64 [==============================] - 0s 6ms/step - loss: 2.6914e-05\n",
            "Epoch 35/50\n",
            "64/64 [==============================] - 0s 6ms/step - loss: 8.1396e-05\n",
            "Epoch 36/50\n",
            "64/64 [==============================] - 0s 6ms/step - loss: 6.1452e-05\n",
            "Epoch 37/50\n",
            "64/64 [==============================] - 0s 6ms/step - loss: 3.6281e-05\n",
            "Epoch 38/50\n",
            "64/64 [==============================] - 0s 6ms/step - loss: 2.2862e-05\n",
            "Epoch 39/50\n",
            "64/64 [==============================] - 0s 6ms/step - loss: 6.1040e-05\n",
            "Epoch 40/50\n",
            "64/64 [==============================] - 0s 7ms/step - loss: 6.5199e-05\n",
            "Epoch 41/50\n",
            "64/64 [==============================] - 0s 6ms/step - loss: 4.3465e-05\n",
            "Epoch 42/50\n",
            "64/64 [==============================] - 0s 6ms/step - loss: 4.2292e-05\n",
            "Epoch 43/50\n",
            "64/64 [==============================] - 0s 6ms/step - loss: 3.5079e-05\n",
            "Epoch 44/50\n",
            "64/64 [==============================] - 0s 6ms/step - loss: 6.9411e-05\n",
            "Epoch 45/50\n",
            "64/64 [==============================] - 0s 6ms/step - loss: 3.5175e-05\n",
            "Epoch 46/50\n",
            "64/64 [==============================] - 0s 6ms/step - loss: 3.8835e-05\n",
            "Epoch 47/50\n",
            "64/64 [==============================] - 0s 6ms/step - loss: 9.6029e-05\n",
            "Epoch 48/50\n",
            "64/64 [==============================] - 0s 6ms/step - loss: 3.3200e-05\n",
            "Epoch 49/50\n",
            "64/64 [==============================] - 0s 6ms/step - loss: 3.1208e-05\n",
            "Epoch 50/50\n",
            "64/64 [==============================] - 0s 6ms/step - loss: 2.0086e-05\n"
          ],
          "name": "stdout"
        },
        {
          "output_type": "execute_result",
          "data": {
            "text/plain": [
              "<keras.callbacks.callbacks.History at 0x7efbb18a9e80>"
            ]
          },
          "metadata": {
            "tags": []
          },
          "execution_count": 93
        }
      ]
    },
    {
      "cell_type": "code",
      "metadata": {
        "id": "enX1Vm9EqNBq",
        "colab_type": "code",
        "colab": {}
      },
      "source": [
        "test_data = scaled_data[training_data_len-10: , :]\n",
        "x_test = []\n",
        "y_test = dataset[training_data_len:, :]\n",
        "for i in range(10, len(test_data)):\n",
        "  x_test.append(test_data[i-10:i, 0])\n",
        "  "
      ],
      "execution_count": 0,
      "outputs": []
    },
    {
      "cell_type": "code",
      "metadata": {
        "id": "1C4ylH1HAT8v",
        "colab_type": "code",
        "outputId": "0dfd582c-67bd-4fd5-c994-f5cd729a4d27",
        "colab": {
          "base_uri": "https://localhost:8080/",
          "height": 34
        }
      },
      "source": [
        "len(test_data)"
      ],
      "execution_count": 0,
      "outputs": [
        {
          "output_type": "execute_result",
          "data": {
            "text/plain": [
              "28"
            ]
          },
          "metadata": {
            "tags": []
          },
          "execution_count": 95
        }
      ]
    },
    {
      "cell_type": "code",
      "metadata": {
        "id": "9riQylarrFq4",
        "colab_type": "code",
        "colab": {}
      },
      "source": [
        "x_test = np.array(x_test)\n"
      ],
      "execution_count": 0,
      "outputs": []
    },
    {
      "cell_type": "code",
      "metadata": {
        "id": "gvFsLl8erUxJ",
        "colab_type": "code",
        "colab": {}
      },
      "source": [
        "x_test = np.reshape(x_test, (x_test.shape[0], x_test.shape[1], 1 ))"
      ],
      "execution_count": 0,
      "outputs": []
    },
    {
      "cell_type": "code",
      "metadata": {
        "id": "dJm2-FeerkCJ",
        "colab_type": "code",
        "outputId": "e3cc92bb-ab9d-424e-de58-16cd3d5d3057",
        "colab": {
          "base_uri": "https://localhost:8080/",
          "height": 1000
        }
      },
      "source": [
        "x_test"
      ],
      "execution_count": 0,
      "outputs": [
        {
          "output_type": "execute_result",
          "data": {
            "text/plain": [
              "array([[[0.03401965],\n",
              "        [0.04150679],\n",
              "        [0.04618624],\n",
              "        [0.04791764],\n",
              "        [0.05854001],\n",
              "        [0.06537202],\n",
              "        [0.09349555],\n",
              "        [0.1189986 ],\n",
              "        [0.12012167],\n",
              "        [0.14422087]],\n",
              "\n",
              "       [[0.04150679],\n",
              "        [0.04618624],\n",
              "        [0.04791764],\n",
              "        [0.05854001],\n",
              "        [0.06537202],\n",
              "        [0.09349555],\n",
              "        [0.1189986 ],\n",
              "        [0.12012167],\n",
              "        [0.14422087],\n",
              "        [0.16789892]],\n",
              "\n",
              "       [[0.04618624],\n",
              "        [0.04791764],\n",
              "        [0.05854001],\n",
              "        [0.06537202],\n",
              "        [0.09349555],\n",
              "        [0.1189986 ],\n",
              "        [0.12012167],\n",
              "        [0.14422087],\n",
              "        [0.16789892],\n",
              "        [0.22358446]],\n",
              "\n",
              "       [[0.04791764],\n",
              "        [0.05854001],\n",
              "        [0.06537202],\n",
              "        [0.09349555],\n",
              "        [0.1189986 ],\n",
              "        [0.12012167],\n",
              "        [0.14422087],\n",
              "        [0.16789892],\n",
              "        [0.22358446],\n",
              "        [0.24852597]],\n",
              "\n",
              "       [[0.05854001],\n",
              "        [0.06537202],\n",
              "        [0.09349555],\n",
              "        [0.1189986 ],\n",
              "        [0.12012167],\n",
              "        [0.14422087],\n",
              "        [0.16789892],\n",
              "        [0.22358446],\n",
              "        [0.24852597],\n",
              "        [0.27683669]],\n",
              "\n",
              "       [[0.06537202],\n",
              "        [0.09349555],\n",
              "        [0.1189986 ],\n",
              "        [0.12012167],\n",
              "        [0.14422087],\n",
              "        [0.16789892],\n",
              "        [0.22358446],\n",
              "        [0.24852597],\n",
              "        [0.27683669],\n",
              "        [0.3146935 ]],\n",
              "\n",
              "       [[0.09349555],\n",
              "        [0.1189986 ],\n",
              "        [0.12012167],\n",
              "        [0.14422087],\n",
              "        [0.16789892],\n",
              "        [0.22358446],\n",
              "        [0.24852597],\n",
              "        [0.27683669],\n",
              "        [0.3146935 ],\n",
              "        [0.35554516]],\n",
              "\n",
              "       [[0.1189986 ],\n",
              "        [0.12012167],\n",
              "        [0.14422087],\n",
              "        [0.16789892],\n",
              "        [0.22358446],\n",
              "        [0.24852597],\n",
              "        [0.27683669],\n",
              "        [0.3146935 ],\n",
              "        [0.35554516],\n",
              "        [0.39522695]],\n",
              "\n",
              "       [[0.12012167],\n",
              "        [0.14422087],\n",
              "        [0.16789892],\n",
              "        [0.22358446],\n",
              "        [0.24852597],\n",
              "        [0.27683669],\n",
              "        [0.3146935 ],\n",
              "        [0.35554516],\n",
              "        [0.39522695],\n",
              "        [0.43074403]],\n",
              "\n",
              "       [[0.14422087],\n",
              "        [0.16789892],\n",
              "        [0.22358446],\n",
              "        [0.24852597],\n",
              "        [0.27683669],\n",
              "        [0.3146935 ],\n",
              "        [0.35554516],\n",
              "        [0.39522695],\n",
              "        [0.43074403],\n",
              "        [0.48914366]],\n",
              "\n",
              "       [[0.16789892],\n",
              "        [0.22358446],\n",
              "        [0.24852597],\n",
              "        [0.27683669],\n",
              "        [0.3146935 ],\n",
              "        [0.35554516],\n",
              "        [0.39522695],\n",
              "        [0.43074403],\n",
              "        [0.48914366],\n",
              "        [0.53752925]],\n",
              "\n",
              "       [[0.22358446],\n",
              "        [0.24852597],\n",
              "        [0.27683669],\n",
              "        [0.3146935 ],\n",
              "        [0.35554516],\n",
              "        [0.39522695],\n",
              "        [0.43074403],\n",
              "        [0.48914366],\n",
              "        [0.53752925],\n",
              "        [0.57660271]],\n",
              "\n",
              "       [[0.24852597],\n",
              "        [0.27683669],\n",
              "        [0.3146935 ],\n",
              "        [0.35554516],\n",
              "        [0.39522695],\n",
              "        [0.43074403],\n",
              "        [0.48914366],\n",
              "        [0.53752925],\n",
              "        [0.57660271],\n",
              "        [0.6284511 ]],\n",
              "\n",
              "       [[0.27683669],\n",
              "        [0.3146935 ],\n",
              "        [0.35554516],\n",
              "        [0.39522695],\n",
              "        [0.43074403],\n",
              "        [0.48914366],\n",
              "        [0.53752925],\n",
              "        [0.57660271],\n",
              "        [0.6284511 ],\n",
              "        [0.67159569]],\n",
              "\n",
              "       [[0.3146935 ],\n",
              "        [0.35554516],\n",
              "        [0.39522695],\n",
              "        [0.43074403],\n",
              "        [0.48914366],\n",
              "        [0.53752925],\n",
              "        [0.57660271],\n",
              "        [0.6284511 ],\n",
              "        [0.67159569],\n",
              "        [0.73570426]],\n",
              "\n",
              "       [[0.35554516],\n",
              "        [0.39522695],\n",
              "        [0.43074403],\n",
              "        [0.48914366],\n",
              "        [0.53752925],\n",
              "        [0.57660271],\n",
              "        [0.6284511 ],\n",
              "        [0.67159569],\n",
              "        [0.73570426],\n",
              "        [0.82428638]],\n",
              "\n",
              "       [[0.39522695],\n",
              "        [0.43074403],\n",
              "        [0.48914366],\n",
              "        [0.53752925],\n",
              "        [0.57660271],\n",
              "        [0.6284511 ],\n",
              "        [0.67159569],\n",
              "        [0.73570426],\n",
              "        [0.82428638],\n",
              "        [0.86752457]],\n",
              "\n",
              "       [[0.43074403],\n",
              "        [0.48914366],\n",
              "        [0.53752925],\n",
              "        [0.57660271],\n",
              "        [0.6284511 ],\n",
              "        [0.67159569],\n",
              "        [0.73570426],\n",
              "        [0.82428638],\n",
              "        [0.86752457],\n",
              "        [0.939635  ]]])"
            ]
          },
          "metadata": {
            "tags": []
          },
          "execution_count": 98
        }
      ]
    },
    {
      "cell_type": "code",
      "metadata": {
        "id": "uUTmSYy-Ahx1",
        "colab_type": "code",
        "outputId": "004ef00d-8e3d-4e1f-c8b7-131e64f55716",
        "colab": {
          "base_uri": "https://localhost:8080/",
          "height": 34
        }
      },
      "source": [
        "len(x_test)"
      ],
      "execution_count": 0,
      "outputs": [
        {
          "output_type": "execute_result",
          "data": {
            "text/plain": [
              "18"
            ]
          },
          "metadata": {
            "tags": []
          },
          "execution_count": 99
        }
      ]
    },
    {
      "cell_type": "code",
      "metadata": {
        "id": "QRpcISLfBBha",
        "colab_type": "code",
        "outputId": "a434738c-e94b-4ca4-fcbb-9fbc920b246e",
        "colab": {
          "base_uri": "https://localhost:8080/",
          "height": 34
        }
      },
      "source": [
        "len(x_train)"
      ],
      "execution_count": 0,
      "outputs": [
        {
          "output_type": "execute_result",
          "data": {
            "text/plain": [
              "64"
            ]
          },
          "metadata": {
            "tags": []
          },
          "execution_count": 100
        }
      ]
    },
    {
      "cell_type": "code",
      "metadata": {
        "id": "5T3FumoDrl_J",
        "colab_type": "code",
        "colab": {}
      },
      "source": [
        "predictions = model.predict(x_test)\n",
        "predictions = scaler.inverse_transform(predictions)"
      ],
      "execution_count": 0,
      "outputs": []
    },
    {
      "cell_type": "code",
      "metadata": {
        "id": "xeSdeCGzuS9b",
        "colab_type": "code",
        "outputId": "93cea246-107b-4061-b158-72482aed76be",
        "colab": {
          "base_uri": "https://localhost:8080/",
          "height": 319
        }
      },
      "source": [
        "predictions"
      ],
      "execution_count": 0,
      "outputs": [
        {
          "output_type": "execute_result",
          "data": {
            "text/plain": [
              "array([[ 4184.5522],\n",
              "       [ 4966.241 ],\n",
              "       [ 6103.5166],\n",
              "       [ 7404.8936],\n",
              "       [ 8835.145 ],\n",
              "       [10443.012 ],\n",
              "       [12273.201 ],\n",
              "       [14279.231 ],\n",
              "       [16420.672 ],\n",
              "       [18927.254 ],\n",
              "       [21690.305 ],\n",
              "       [24589.65  ],\n",
              "       [27603.588 ],\n",
              "       [30729.514 ],\n",
              "       [34081.38  ],\n",
              "       [37814.113 ],\n",
              "       [41526.133 ],\n",
              "       [45289.277 ]], dtype=float32)"
            ]
          },
          "metadata": {
            "tags": []
          },
          "execution_count": 102
        }
      ]
    },
    {
      "cell_type": "code",
      "metadata": {
        "id": "SKwx-v8gBvJm",
        "colab_type": "code",
        "outputId": "866ea78b-8517-4506-fbe5-20dc4ea16220",
        "colab": {
          "base_uri": "https://localhost:8080/",
          "height": 34
        }
      },
      "source": [
        "len(predictions)"
      ],
      "execution_count": 0,
      "outputs": [
        {
          "output_type": "execute_result",
          "data": {
            "text/plain": [
              "18"
            ]
          },
          "metadata": {
            "tags": []
          },
          "execution_count": 103
        }
      ]
    },
    {
      "cell_type": "code",
      "metadata": {
        "id": "eqFoe549sXsn",
        "colab_type": "code",
        "outputId": "15c97cf0-7147-4ec9-def1-9d74f160e8fa",
        "colab": {
          "base_uri": "https://localhost:8080/",
          "height": 34
        }
      },
      "source": [
        "rmse = np.sqrt( np.mean( predictions - y_test )**2)\n",
        "rmse\n"
      ],
      "execution_count": 0,
      "outputs": [
        {
          "output_type": "execute_result",
          "data": {
            "text/plain": [
              "8901.37095811632"
            ]
          },
          "metadata": {
            "tags": []
          },
          "execution_count": 104
        }
      ]
    },
    {
      "cell_type": "code",
      "metadata": {
        "id": "PLYRsNOGsgZr",
        "colab_type": "code",
        "outputId": "4ce4ad6c-e361-4f7f-f48a-abb541ec3fc4",
        "colab": {
          "base_uri": "https://localhost:8080/",
          "height": 118
        }
      },
      "source": [
        "train = data[:training_data_len]\n",
        "valid = data[training_data_len:]\n",
        "valid['Predicted Cases'] = predictions\n",
        "\n"
      ],
      "execution_count": 0,
      "outputs": [
        {
          "output_type": "stream",
          "text": [
            "/usr/local/lib/python3.6/dist-packages/ipykernel_launcher.py:3: SettingWithCopyWarning: \n",
            "A value is trying to be set on a copy of a slice from a DataFrame.\n",
            "Try using .loc[row_indexer,col_indexer] = value instead\n",
            "\n",
            "See the caveats in the documentation: https://pandas.pydata.org/pandas-docs/stable/user_guide/indexing.html#returning-a-view-versus-a-copy\n",
            "  This is separate from the ipykernel package so we can avoid doing imports until\n"
          ],
          "name": "stderr"
        }
      ]
    },
    {
      "cell_type": "code",
      "metadata": {
        "id": "Qo985PovtHoN",
        "colab_type": "code",
        "outputId": "1d14b0fc-891a-4703-9ed8-6d6221eeb6f8",
        "colab": {
          "base_uri": "https://localhost:8080/",
          "height": 570
        }
      },
      "source": [
        "plt.figure(figsize=(22,10))\n",
        "plt.title('Model')\n",
        "plt.xlabel('Date', fontsize=12)\n",
        "plt.xticks(rotation=45)\n",
        "plt.ylabel('Confirmed Cases', fontsize=12)\n",
        "plt.plot(train['India Confirmed Cases'])\n",
        "plt.plot(valid[['India Confirmed Cases', 'Predicted Cases']])\n",
        "plt.legend(['Train', 'Val', 'Predictions'], loc='lower right')\n",
        "plt.savefig('/content/drive/My Drive/figzero.png', dpi=300)\n",
        "#plt.show()"
      ],
      "execution_count": 0,
      "outputs": [
        {
          "output_type": "display_data",
          "data": {
            "image/png": "[encoded data removed]",
            "text/plain": [
              "<Figure size 1584x720 with 1 Axes>"
            ]
          },
          "metadata": {
            "tags": [],
            "needs_background": "light"
          }
        }
      ]
    },
    {
      "cell_type": "code",
      "metadata": {
        "id": "BLCuU07muNXg",
        "colab_type": "code",
        "outputId": "88a15d1e-dad8-46b7-953f-03465de68632",
        "colab": {
          "base_uri": "https://localhost:8080/",
          "height": 610
        }
      },
      "source": [
        "valid"
      ],
      "execution_count": 0,
      "outputs": [
        {
          "output_type": "execute_result",
          "data": {
            "text/html": [
              "<div>\n",
              "<style scoped>\n",
              "    .dataframe tbody tr th:only-of-type {\n",
              "        vertical-align: middle;\n",
              "    }\n",
              "\n",
              "    .dataframe tbody tr th {\n",
              "        vertical-align: top;\n",
              "    }\n",
              "\n",
              "    .dataframe thead th {\n",
              "        text-align: right;\n",
              "    }\n",
              "</style>\n",
              "<table border=\"1\" class=\"dataframe\">\n",
              "  <thead>\n",
              "    <tr style=\"text-align: right;\">\n",
              "      <th></th>\n",
              "      <th>India Confirmed Cases</th>\n",
              "      <th>Predicted Cases</th>\n",
              "    </tr>\n",
              "    <tr>\n",
              "      <th>Dates</th>\n",
              "      <th></th>\n",
              "      <th></th>\n",
              "    </tr>\n",
              "  </thead>\n",
              "  <tbody>\n",
              "    <tr>\n",
              "      <th>04/05/2020</th>\n",
              "      <td>3588</td>\n",
              "      <td>4184.552246</td>\n",
              "    </tr>\n",
              "    <tr>\n",
              "      <th>04/06/2020</th>\n",
              "      <td>4778</td>\n",
              "      <td>4966.241211</td>\n",
              "    </tr>\n",
              "    <tr>\n",
              "      <th>04/07/2020</th>\n",
              "      <td>5311</td>\n",
              "      <td>6103.516602</td>\n",
              "    </tr>\n",
              "    <tr>\n",
              "      <th>04/08/2020</th>\n",
              "      <td>5916</td>\n",
              "      <td>7404.893555</td>\n",
              "    </tr>\n",
              "    <tr>\n",
              "      <th>04/09/2020</th>\n",
              "      <td>6725</td>\n",
              "      <td>8835.144531</td>\n",
              "    </tr>\n",
              "    <tr>\n",
              "      <th>04/10/2020</th>\n",
              "      <td>7598</td>\n",
              "      <td>10443.011719</td>\n",
              "    </tr>\n",
              "    <tr>\n",
              "      <th>04/11/2020</th>\n",
              "      <td>8446</td>\n",
              "      <td>12273.201172</td>\n",
              "    </tr>\n",
              "    <tr>\n",
              "      <th>04/12/2020</th>\n",
              "      <td>9205</td>\n",
              "      <td>14279.231445</td>\n",
              "    </tr>\n",
              "    <tr>\n",
              "      <th>04/13/2020</th>\n",
              "      <td>10453</td>\n",
              "      <td>16420.671875</td>\n",
              "    </tr>\n",
              "    <tr>\n",
              "      <th>04/14/2020</th>\n",
              "      <td>11487</td>\n",
              "      <td>18927.253906</td>\n",
              "    </tr>\n",
              "    <tr>\n",
              "      <th>04/15/2020</th>\n",
              "      <td>12322</td>\n",
              "      <td>21690.304688</td>\n",
              "    </tr>\n",
              "    <tr>\n",
              "      <th>04/16/2020</th>\n",
              "      <td>13430</td>\n",
              "      <td>24589.650391</td>\n",
              "    </tr>\n",
              "    <tr>\n",
              "      <th>04/17/2020</th>\n",
              "      <td>14352</td>\n",
              "      <td>27603.587891</td>\n",
              "    </tr>\n",
              "    <tr>\n",
              "      <th>04/18/2020</th>\n",
              "      <td>15722</td>\n",
              "      <td>30729.513672</td>\n",
              "    </tr>\n",
              "    <tr>\n",
              "      <th>04/19/2020</th>\n",
              "      <td>17615</td>\n",
              "      <td>34081.378906</td>\n",
              "    </tr>\n",
              "    <tr>\n",
              "      <th>04/20/2020</th>\n",
              "      <td>18539</td>\n",
              "      <td>37814.113281</td>\n",
              "    </tr>\n",
              "    <tr>\n",
              "      <th>04/21/2020</th>\n",
              "      <td>20080</td>\n",
              "      <td>41526.132812</td>\n",
              "    </tr>\n",
              "    <tr>\n",
              "      <th>04/22/2020</th>\n",
              "      <td>21370</td>\n",
              "      <td>45289.277344</td>\n",
              "    </tr>\n",
              "  </tbody>\n",
              "</table>\n",
              "</div>"
            ],
            "text/plain": [
              "            India Confirmed Cases  Predicted Cases\n",
              "Dates                                             \n",
              "04/05/2020                   3588      4184.552246\n",
              "04/06/2020                   4778      4966.241211\n",
              "04/07/2020                   5311      6103.516602\n",
              "04/08/2020                   5916      7404.893555\n",
              "04/09/2020                   6725      8835.144531\n",
              "04/10/2020                   7598     10443.011719\n",
              "04/11/2020                   8446     12273.201172\n",
              "04/12/2020                   9205     14279.231445\n",
              "04/13/2020                  10453     16420.671875\n",
              "04/14/2020                  11487     18927.253906\n",
              "04/15/2020                  12322     21690.304688\n",
              "04/16/2020                  13430     24589.650391\n",
              "04/17/2020                  14352     27603.587891\n",
              "04/18/2020                  15722     30729.513672\n",
              "04/19/2020                  17615     34081.378906\n",
              "04/20/2020                  18539     37814.113281\n",
              "04/21/2020                  20080     41526.132812\n",
              "04/22/2020                  21370     45289.277344"
            ]
          },
          "metadata": {
            "tags": []
          },
          "execution_count": 107
        }
      ]
    },
    {
      "cell_type": "code",
      "metadata": {
        "id": "-dKnJxcECYW-",
        "colab_type": "code",
        "outputId": "734b5c2f-7442-48c7-8ab2-b8d52b614a06",
        "colab": {
          "base_uri": "https://localhost:8080/",
          "height": 34
        }
      },
      "source": [
        "len(valid)"
      ],
      "execution_count": 0,
      "outputs": [
        {
          "output_type": "execute_result",
          "data": {
            "text/plain": [
              "18"
            ]
          },
          "metadata": {
            "tags": []
          },
          "execution_count": 108
        }
      ]
    },
    {
      "cell_type": "code",
      "metadata": {
        "colab_type": "code",
        "outputId": "4d59c437-552d-4a68-e359-a63103c4ca3b",
        "id": "LNNyOWc7F_ep",
        "colab": {
          "base_uri": "https://localhost:8080/",
          "height": 553
        }
      },
      "source": [
        "plt.figure(figsize=(16,8))\n",
        "plt.title('Model')\n",
        "plt.xlabel('Date', fontsize=12)\n",
        "plt.xticks(rotation=45)\n",
        "plt.ylabel('Confirmed Cases', fontsize=12)\n",
        "plt.plot(valid)\n",
        "plt.legend(['Train', 'Predictions'], loc='lower right')\n",
        "plt.savefig('/content/drive/My Drive/figone.png', dpi=300)\n",
        "#plt.show()"
      ],
      "execution_count": 0,
      "outputs": [
        {
          "output_type": "display_data",
          "data": {
            "image/png": "[encoded data removed]",
            "text/plain": [
              "<Figure size 1152x576 with 1 Axes>"
            ]
          },
          "metadata": {
            "tags": [],
            "needs_background": "light"
          }
        }
      ]
    },
    {
      "cell_type": "code",
      "metadata": {
        "id": "DlAhnN5vFtXq",
        "colab_type": "code",
        "outputId": "8ff7688c-589c-4a0e-ce48-12df0ff23261",
        "colab": {
          "base_uri": "https://localhost:8080/",
          "height": 34
        }
      },
      "source": [
        "from sklearn.metrics import r2_score\n",
        "score = r2_score(valid['India Confirmed Cases'], valid['Predicted Cases'])\n",
        "print(score)"
      ],
      "execution_count": 0,
      "outputs": [
        {
          "output_type": "stream",
          "text": [
            "-3.6888663143092577\n"
          ],
          "name": "stdout"
        }
      ]
    },
    {
      "cell_type": "markdown",
      "metadata": {
        "id": "Np5QtxiXhKBj",
        "colab_type": "text"
      },
      "source": [
        "LSTM FOR ONTARIO DEATHS"
      ]
    },
    {
      "cell_type": "code",
      "metadata": {
        "id": "a8d2fAjwfbQM",
        "colab_type": "code",
        "outputId": "66eca0cc-8a81-4bab-9f9c-f6b82c144fb0",
        "colab": {
          "base_uri": "https://localhost:8080/",
          "height": 279
        }
      },
      "source": [
        "df2 = df['Confirmed Deaths'].plot()\n",
        "#plt.figure(figsize=(16,8))"
      ],
      "execution_count": 0,
      "outputs": [
        {
          "output_type": "display_data",
          "data": {
            "image/png": "[encoded data removed]",
            "text/plain": [
              "<Figure size 432x288 with 1 Axes>"
            ]
          },
          "metadata": {
            "tags": [],
            "needs_background": "light"
          }
        }
      ]
    },
    {
      "cell_type": "code",
      "metadata": {
        "id": "K3VBKnC7hV0W",
        "colab_type": "code",
        "colab": {}
      },
      "source": [
        "data2 = df.filter(['Confirmed Deaths'])"
      ],
      "execution_count": 0,
      "outputs": []
    },
    {
      "cell_type": "code",
      "metadata": {
        "id": "qPhJZx-Oib32",
        "colab_type": "code",
        "colab": {}
      },
      "source": [
        "dataset2 = data2.values"
      ],
      "execution_count": 0,
      "outputs": []
    },
    {
      "cell_type": "code",
      "metadata": {
        "id": "j8KeADxcidfP",
        "colab_type": "code",
        "outputId": "6725bbbd-96f5-4e04-85d7-7ae028e097aa",
        "colab": {
          "base_uri": "https://localhost:8080/",
          "height": 34
        }
      },
      "source": [
        "training_data_len2 = math.ceil(len(dataset2) * 0.8)\n",
        "training_data_len2"
      ],
      "execution_count": 0,
      "outputs": [
        {
          "output_type": "execute_result",
          "data": {
            "text/plain": [
              "74"
            ]
          },
          "metadata": {
            "tags": []
          },
          "execution_count": 114
        }
      ]
    },
    {
      "cell_type": "code",
      "metadata": {
        "id": "25VlIZiOijtM",
        "colab_type": "code",
        "colab": {}
      },
      "source": [
        "scaler2 = MinMaxScaler(feature_range=(0,1))\n",
        "scaled_data2 = scaler.fit_transform(dataset2)"
      ],
      "execution_count": 0,
      "outputs": []
    },
    {
      "cell_type": "code",
      "metadata": {
        "id": "EtAscLFxipZ8",
        "colab_type": "code",
        "outputId": "62c7221f-a9d9-4ac4-e7fb-f51d591c6aca",
        "colab": {
          "base_uri": "https://localhost:8080/",
          "height": 1000
        }
      },
      "source": [
        "scaled_data2"
      ],
      "execution_count": 0,
      "outputs": [
        {
          "output_type": "execute_result",
          "data": {
            "text/plain": [
              "array([[0.        ],\n",
              "       [0.        ],\n",
              "       [0.        ],\n",
              "       [0.        ],\n",
              "       [0.        ],\n",
              "       [0.        ],\n",
              "       [0.        ],\n",
              "       [0.        ],\n",
              "       [0.        ],\n",
              "       [0.        ],\n",
              "       [0.        ],\n",
              "       [0.        ],\n",
              "       [0.        ],\n",
              "       [0.        ],\n",
              "       [0.        ],\n",
              "       [0.        ],\n",
              "       [0.        ],\n",
              "       [0.        ],\n",
              "       [0.        ],\n",
              "       [0.        ],\n",
              "       [0.        ],\n",
              "       [0.        ],\n",
              "       [0.        ],\n",
              "       [0.        ],\n",
              "       [0.        ],\n",
              "       [0.        ],\n",
              "       [0.        ],\n",
              "       [0.        ],\n",
              "       [0.        ],\n",
              "       [0.        ],\n",
              "       [0.        ],\n",
              "       [0.        ],\n",
              "       [0.        ],\n",
              "       [0.        ],\n",
              "       [0.        ],\n",
              "       [0.        ],\n",
              "       [0.        ],\n",
              "       [0.        ],\n",
              "       [0.        ],\n",
              "       [0.        ],\n",
              "       [0.        ],\n",
              "       [0.        ],\n",
              "       [0.        ],\n",
              "       [0.        ],\n",
              "       [0.        ],\n",
              "       [0.        ],\n",
              "       [0.        ],\n",
              "       [0.        ],\n",
              "       [0.        ],\n",
              "       [0.00146843],\n",
              "       [0.00146843],\n",
              "       [0.00293686],\n",
              "       [0.00293686],\n",
              "       [0.00293686],\n",
              "       [0.00293686],\n",
              "       [0.00440529],\n",
              "       [0.00440529],\n",
              "       [0.00587372],\n",
              "       [0.00734214],\n",
              "       [0.00587372],\n",
              "       [0.010279  ],\n",
              "       [0.01468429],\n",
              "       [0.01468429],\n",
              "       [0.01762115],\n",
              "       [0.02936858],\n",
              "       [0.02936858],\n",
              "       [0.03524229],\n",
              "       [0.03964758],\n",
              "       [0.04698972],\n",
              "       [0.05139501],\n",
              "       [0.08516887],\n",
              "       [0.10572687],\n",
              "       [0.10572687],\n",
              "       [0.12628488],\n",
              "       [0.14537445],\n",
              "       [0.19970631],\n",
              "       [0.22026432],\n",
              "       [0.26138032],\n",
              "       [0.3318649 ],\n",
              "       [0.36123348],\n",
              "       [0.42290749],\n",
              "       [0.48604993],\n",
              "       [0.5256975 ],\n",
              "       [0.57709251],\n",
              "       [0.59471366],\n",
              "       [0.65785609],\n",
              "       [0.71365639],\n",
              "       [0.7650514 ],\n",
              "       [0.82085169],\n",
              "       [0.86930984],\n",
              "       [0.94713656],\n",
              "       [1.        ]])"
            ]
          },
          "metadata": {
            "tags": []
          },
          "execution_count": 116
        }
      ]
    },
    {
      "cell_type": "code",
      "metadata": {
        "id": "vI7R3akPiuv5",
        "colab_type": "code",
        "outputId": "6a8b099f-5271-49e4-ffb4-7368bb44aaf6",
        "colab": {
          "base_uri": "https://localhost:8080/",
          "height": 67
        }
      },
      "source": [
        "train_data2 = scaled_data2[0:training_data_len2, :]\n",
        "x_train2 = []\n",
        "y_train2 = []\n",
        "\n",
        "for i in range(10, len(train_data2)):\n",
        "  x_train2.append(train_data2[i-10:i, 0])\n",
        "  y_train2.append(train_data2[i, 0])\n",
        "  if i<= 10:\n",
        "    print(x_train2)\n",
        "    print(y_train2)\n",
        "    print()"
      ],
      "execution_count": 0,
      "outputs": [
        {
          "output_type": "stream",
          "text": [
            "[array([0., 0., 0., 0., 0., 0., 0., 0., 0., 0.])]\n",
            "[0.0]\n",
            "\n"
          ],
          "name": "stdout"
        }
      ]
    },
    {
      "cell_type": "code",
      "metadata": {
        "id": "ywdAMCgIi0sA",
        "colab_type": "code",
        "colab": {}
      },
      "source": [
        "x_train2, y_train2 = np.array(x_train2), np.array(y_train2)"
      ],
      "execution_count": 0,
      "outputs": []
    },
    {
      "cell_type": "code",
      "metadata": {
        "id": "9vXTIODJi62A",
        "colab_type": "code",
        "outputId": "31004d17-2873-46d7-c48c-f76bec84a4a9",
        "colab": {
          "base_uri": "https://localhost:8080/",
          "height": 34
        }
      },
      "source": [
        "x_train2 = np.reshape(x_train2, (x_train2.shape[0], x_train2.shape[1], 1))\n",
        "x_train2.shape"
      ],
      "execution_count": 0,
      "outputs": [
        {
          "output_type": "execute_result",
          "data": {
            "text/plain": [
              "(64, 10, 1)"
            ]
          },
          "metadata": {
            "tags": []
          },
          "execution_count": 119
        }
      ]
    },
    {
      "cell_type": "code",
      "metadata": {
        "id": "ADuwUtFHi_QY",
        "colab_type": "code",
        "colab": {}
      },
      "source": [
        "model2 = Sequential()\n",
        "model2.add(LSTM(50, return_sequences=True, input_shape=(x_train2.shape[1], 1)))\n",
        "model2.add(LSTM(50, return_sequences=False))\n",
        "model2.add(Dense(25))\n",
        "model2.add(Dense(1))"
      ],
      "execution_count": 0,
      "outputs": []
    },
    {
      "cell_type": "code",
      "metadata": {
        "id": "H50CL4dBjHQp",
        "colab_type": "code",
        "colab": {}
      },
      "source": [
        "#compile the model\n",
        "model2.compile(optimizer='adam', loss='mean_squared_error')\n"
      ],
      "execution_count": 0,
      "outputs": []
    },
    {
      "cell_type": "code",
      "metadata": {
        "id": "1V32MJ4XjMeT",
        "colab_type": "code",
        "outputId": "30688b79-ef05-4f8e-f75e-fbbed9aed129",
        "colab": {
          "base_uri": "https://localhost:8080/",
          "height": 1000
        }
      },
      "source": [
        "model2.fit(x_train2, y_train2, batch_size=1, epochs=50)"
      ],
      "execution_count": 0,
      "outputs": [
        {
          "output_type": "stream",
          "text": [
            "Epoch 1/50\n",
            "64/64 [==============================] - 1s 14ms/step - loss: 6.4205e-04\n",
            "Epoch 2/50\n",
            "64/64 [==============================] - 0s 7ms/step - loss: 1.9381e-04\n",
            "Epoch 3/50\n",
            "64/64 [==============================] - 0s 6ms/step - loss: 1.2235e-04\n",
            "Epoch 4/50\n",
            "64/64 [==============================] - 0s 6ms/step - loss: 2.9132e-05\n",
            "Epoch 5/50\n",
            "64/64 [==============================] - 0s 7ms/step - loss: 7.4976e-05\n",
            "Epoch 6/50\n",
            "64/64 [==============================] - 0s 6ms/step - loss: 8.8007e-05\n",
            "Epoch 7/50\n",
            "64/64 [==============================] - 0s 7ms/step - loss: 5.7875e-05\n",
            "Epoch 8/50\n",
            "64/64 [==============================] - 0s 6ms/step - loss: 5.6431e-05\n",
            "Epoch 9/50\n",
            "64/64 [==============================] - 0s 6ms/step - loss: 2.4437e-05\n",
            "Epoch 10/50\n",
            "64/64 [==============================] - 0s 6ms/step - loss: 5.2524e-05\n",
            "Epoch 11/50\n",
            "64/64 [==============================] - 0s 6ms/step - loss: 6.3550e-05\n",
            "Epoch 12/50\n",
            "64/64 [==============================] - 0s 7ms/step - loss: 1.6680e-04\n",
            "Epoch 13/50\n",
            "64/64 [==============================] - 0s 7ms/step - loss: 2.8663e-05\n",
            "Epoch 14/50\n",
            "64/64 [==============================] - 0s 6ms/step - loss: 6.0923e-05\n",
            "Epoch 15/50\n",
            "64/64 [==============================] - 0s 6ms/step - loss: 8.9438e-05\n",
            "Epoch 16/50\n",
            "64/64 [==============================] - 0s 6ms/step - loss: 3.3958e-05\n",
            "Epoch 17/50\n",
            "64/64 [==============================] - 0s 6ms/step - loss: 6.3882e-05\n",
            "Epoch 18/50\n",
            "64/64 [==============================] - 0s 6ms/step - loss: 3.2023e-05\n",
            "Epoch 19/50\n",
            "64/64 [==============================] - 0s 6ms/step - loss: 2.8003e-05\n",
            "Epoch 20/50\n",
            "64/64 [==============================] - 0s 6ms/step - loss: 5.4666e-05\n",
            "Epoch 21/50\n",
            "64/64 [==============================] - 0s 6ms/step - loss: 1.4269e-04\n",
            "Epoch 22/50\n",
            "64/64 [==============================] - 0s 6ms/step - loss: 8.1596e-05\n",
            "Epoch 23/50\n",
            "64/64 [==============================] - 0s 6ms/step - loss: 1.0183e-04\n",
            "Epoch 24/50\n",
            "64/64 [==============================] - 0s 6ms/step - loss: 3.3538e-05\n",
            "Epoch 25/50\n",
            "64/64 [==============================] - 0s 7ms/step - loss: 2.6026e-05\n",
            "Epoch 26/50\n",
            "64/64 [==============================] - 0s 6ms/step - loss: 6.5090e-05\n",
            "Epoch 27/50\n",
            "64/64 [==============================] - 0s 6ms/step - loss: 3.9102e-05\n",
            "Epoch 28/50\n",
            "64/64 [==============================] - 0s 6ms/step - loss: 6.2644e-05\n",
            "Epoch 29/50\n",
            "64/64 [==============================] - 0s 6ms/step - loss: 6.1463e-05\n",
            "Epoch 30/50\n",
            "64/64 [==============================] - 0s 6ms/step - loss: 5.3921e-05\n",
            "Epoch 31/50\n",
            "64/64 [==============================] - 0s 6ms/step - loss: 1.2081e-04\n",
            "Epoch 32/50\n",
            "64/64 [==============================] - 0s 6ms/step - loss: 6.9000e-05\n",
            "Epoch 33/50\n",
            "64/64 [==============================] - 0s 6ms/step - loss: 4.7314e-05\n",
            "Epoch 34/50\n",
            "64/64 [==============================] - 0s 6ms/step - loss: 3.9873e-05\n",
            "Epoch 35/50\n",
            "64/64 [==============================] - 0s 6ms/step - loss: 3.9888e-05\n",
            "Epoch 36/50\n",
            "64/64 [==============================] - 0s 6ms/step - loss: 3.2973e-05\n",
            "Epoch 37/50\n",
            "64/64 [==============================] - 0s 6ms/step - loss: 4.1412e-05\n",
            "Epoch 38/50\n",
            "64/64 [==============================] - 0s 6ms/step - loss: 4.5927e-05\n",
            "Epoch 39/50\n",
            "64/64 [==============================] - 0s 6ms/step - loss: 2.8785e-05\n",
            "Epoch 40/50\n",
            "64/64 [==============================] - 0s 6ms/step - loss: 4.8452e-05\n",
            "Epoch 41/50\n",
            "64/64 [==============================] - 0s 6ms/step - loss: 3.6060e-05\n",
            "Epoch 42/50\n",
            "64/64 [==============================] - 0s 6ms/step - loss: 3.7308e-05\n",
            "Epoch 43/50\n",
            "64/64 [==============================] - 0s 6ms/step - loss: 2.3537e-05\n",
            "Epoch 44/50\n",
            "64/64 [==============================] - 0s 6ms/step - loss: 4.9051e-05\n",
            "Epoch 45/50\n",
            "64/64 [==============================] - 0s 6ms/step - loss: 7.2357e-05\n",
            "Epoch 46/50\n",
            "64/64 [==============================] - 0s 6ms/step - loss: 2.2440e-05\n",
            "Epoch 47/50\n",
            "64/64 [==============================] - 0s 6ms/step - loss: 6.0195e-05\n",
            "Epoch 48/50\n",
            "64/64 [==============================] - 0s 6ms/step - loss: 4.6997e-05\n",
            "Epoch 49/50\n",
            "64/64 [==============================] - 0s 6ms/step - loss: 4.2217e-05\n",
            "Epoch 50/50\n",
            "64/64 [==============================] - 0s 6ms/step - loss: 2.6698e-05\n"
          ],
          "name": "stdout"
        },
        {
          "output_type": "execute_result",
          "data": {
            "text/plain": [
              "<keras.callbacks.callbacks.History at 0x7efbb0993908>"
            ]
          },
          "metadata": {
            "tags": []
          },
          "execution_count": 122
        }
      ]
    },
    {
      "cell_type": "code",
      "metadata": {
        "id": "YTcxQNj9jixB",
        "colab_type": "code",
        "colab": {}
      },
      "source": [
        "test_data2 = scaled_data2[training_data_len2-10: , :]\n",
        "x_test2 = []\n",
        "y_test2 = dataset2[training_data_len2:, :]\n",
        "for i in range(10, len(test_data2)):\n",
        "  x_test2.append(test_data2[i-10:i, 0])\n",
        "  "
      ],
      "execution_count": 0,
      "outputs": []
    },
    {
      "cell_type": "code",
      "metadata": {
        "id": "fHlp2hGGjykZ",
        "colab_type": "code",
        "outputId": "a76f829f-f489-4162-89ac-ae06824016a7",
        "colab": {
          "base_uri": "https://localhost:8080/",
          "height": 34
        }
      },
      "source": [
        "len(test_data2)"
      ],
      "execution_count": 0,
      "outputs": [
        {
          "output_type": "execute_result",
          "data": {
            "text/plain": [
              "28"
            ]
          },
          "metadata": {
            "tags": []
          },
          "execution_count": 124
        }
      ]
    },
    {
      "cell_type": "code",
      "metadata": {
        "id": "wcK2a08jj4hj",
        "colab_type": "code",
        "colab": {}
      },
      "source": [
        "x_test2 = np.array(x_test2)"
      ],
      "execution_count": 0,
      "outputs": []
    },
    {
      "cell_type": "code",
      "metadata": {
        "id": "PDQeRF86j8xY",
        "colab_type": "code",
        "colab": {}
      },
      "source": [
        "x_test2 = np.reshape(x_test2, (x_test2.shape[0], x_test2.shape[1], 1 ))"
      ],
      "execution_count": 0,
      "outputs": []
    },
    {
      "cell_type": "code",
      "metadata": {
        "id": "28zBibWLkCD-",
        "colab_type": "code",
        "colab": {}
      },
      "source": [
        "predictions2 = model.predict(x_test2)\n",
        "predictions2 = scaler.inverse_transform(predictions2)"
      ],
      "execution_count": 0,
      "outputs": []
    },
    {
      "cell_type": "code",
      "metadata": {
        "id": "6Lbvq9pCkIme",
        "colab_type": "code",
        "outputId": "e09b9998-355a-4481-b9c6-f922e9de9b88",
        "colab": {
          "base_uri": "https://localhost:8080/",
          "height": 34
        }
      },
      "source": [
        "rmse = np.sqrt( np.mean( predictions2 - y_test )**2)\n",
        "rmse"
      ],
      "execution_count": 0,
      "outputs": [
        {
          "output_type": "execute_result",
          "data": {
            "text/plain": [
              "10829.574135674371"
            ]
          },
          "metadata": {
            "tags": []
          },
          "execution_count": 128
        }
      ]
    },
    {
      "cell_type": "code",
      "metadata": {
        "id": "zEiYFO0ckPgK",
        "colab_type": "code",
        "outputId": "14110314-42e4-44cf-ef8b-fe9e5c6bac8b",
        "colab": {
          "base_uri": "https://localhost:8080/",
          "height": 118
        }
      },
      "source": [
        "train2 = data2[:training_data_len2]\n",
        "valid2 = data2[training_data_len2:]\n",
        "valid2['Predicted Deaths'] = predictions2"
      ],
      "execution_count": 0,
      "outputs": [
        {
          "output_type": "stream",
          "text": [
            "/usr/local/lib/python3.6/dist-packages/ipykernel_launcher.py:3: SettingWithCopyWarning: \n",
            "A value is trying to be set on a copy of a slice from a DataFrame.\n",
            "Try using .loc[row_indexer,col_indexer] = value instead\n",
            "\n",
            "See the caveats in the documentation: https://pandas.pydata.org/pandas-docs/stable/user_guide/indexing.html#returning-a-view-versus-a-copy\n",
            "  This is separate from the ipykernel package so we can avoid doing imports until\n"
          ],
          "name": "stderr"
        }
      ]
    },
    {
      "cell_type": "code",
      "metadata": {
        "id": "MMDnw1s7l-KL",
        "colab_type": "code",
        "outputId": "d858df95-e1e8-41cc-d764-58a43010d1d9",
        "colab": {
          "base_uri": "https://localhost:8080/",
          "height": 610
        }
      },
      "source": [
        "valid2\n"
      ],
      "execution_count": 0,
      "outputs": [
        {
          "output_type": "execute_result",
          "data": {
            "text/html": [
              "<div>\n",
              "<style scoped>\n",
              "    .dataframe tbody tr th:only-of-type {\n",
              "        vertical-align: middle;\n",
              "    }\n",
              "\n",
              "    .dataframe tbody tr th {\n",
              "        vertical-align: top;\n",
              "    }\n",
              "\n",
              "    .dataframe thead th {\n",
              "        text-align: right;\n",
              "    }\n",
              "</style>\n",
              "<table border=\"1\" class=\"dataframe\">\n",
              "  <thead>\n",
              "    <tr style=\"text-align: right;\">\n",
              "      <th></th>\n",
              "      <th>Confirmed Deaths</th>\n",
              "      <th>Predicted Deaths</th>\n",
              "    </tr>\n",
              "    <tr>\n",
              "      <th>Dates</th>\n",
              "      <th></th>\n",
              "      <th></th>\n",
              "    </tr>\n",
              "  </thead>\n",
              "  <tbody>\n",
              "    <tr>\n",
              "      <th>04/05/2020</th>\n",
              "      <td>99</td>\n",
              "      <td>114.159409</td>\n",
              "    </tr>\n",
              "    <tr>\n",
              "      <th>04/06/2020</th>\n",
              "      <td>136</td>\n",
              "      <td>135.508484</td>\n",
              "    </tr>\n",
              "    <tr>\n",
              "      <th>04/07/2020</th>\n",
              "      <td>150</td>\n",
              "      <td>168.031830</td>\n",
              "    </tr>\n",
              "    <tr>\n",
              "      <th>04/08/2020</th>\n",
              "      <td>178</td>\n",
              "      <td>204.731567</td>\n",
              "    </tr>\n",
              "    <tr>\n",
              "      <th>04/09/2020</th>\n",
              "      <td>226</td>\n",
              "      <td>248.611221</td>\n",
              "    </tr>\n",
              "    <tr>\n",
              "      <th>04/10/2020</th>\n",
              "      <td>246</td>\n",
              "      <td>307.592468</td>\n",
              "    </tr>\n",
              "    <tr>\n",
              "      <th>04/11/2020</th>\n",
              "      <td>288</td>\n",
              "      <td>372.694366</td>\n",
              "    </tr>\n",
              "    <tr>\n",
              "      <th>04/12/2020</th>\n",
              "      <td>331</td>\n",
              "      <td>448.021027</td>\n",
              "    </tr>\n",
              "    <tr>\n",
              "      <th>04/13/2020</th>\n",
              "      <td>358</td>\n",
              "      <td>536.101501</td>\n",
              "    </tr>\n",
              "    <tr>\n",
              "      <th>04/14/2020</th>\n",
              "      <td>393</td>\n",
              "      <td>631.600769</td>\n",
              "    </tr>\n",
              "    <tr>\n",
              "      <th>04/15/2020</th>\n",
              "      <td>405</td>\n",
              "      <td>733.900146</td>\n",
              "    </tr>\n",
              "    <tr>\n",
              "      <th>04/16/2020</th>\n",
              "      <td>448</td>\n",
              "      <td>833.212769</td>\n",
              "    </tr>\n",
              "    <tr>\n",
              "      <th>04/17/2020</th>\n",
              "      <td>486</td>\n",
              "      <td>936.399292</td>\n",
              "    </tr>\n",
              "    <tr>\n",
              "      <th>04/18/2020</th>\n",
              "      <td>521</td>\n",
              "      <td>1045.980835</td>\n",
              "    </tr>\n",
              "    <tr>\n",
              "      <th>04/19/2020</th>\n",
              "      <td>559</td>\n",
              "      <td>1157.427979</td>\n",
              "    </tr>\n",
              "    <tr>\n",
              "      <th>04/20/2020</th>\n",
              "      <td>592</td>\n",
              "      <td>1267.408691</td>\n",
              "    </tr>\n",
              "    <tr>\n",
              "      <th>04/21/2020</th>\n",
              "      <td>645</td>\n",
              "      <td>1376.499878</td>\n",
              "    </tr>\n",
              "    <tr>\n",
              "      <th>04/22/2020</th>\n",
              "      <td>681</td>\n",
              "      <td>1486.783325</td>\n",
              "    </tr>\n",
              "  </tbody>\n",
              "</table>\n",
              "</div>"
            ],
            "text/plain": [
              "            Confirmed Deaths  Predicted Deaths\n",
              "Dates                                         \n",
              "04/05/2020                99        114.159409\n",
              "04/06/2020               136        135.508484\n",
              "04/07/2020               150        168.031830\n",
              "04/08/2020               178        204.731567\n",
              "04/09/2020               226        248.611221\n",
              "04/10/2020               246        307.592468\n",
              "04/11/2020               288        372.694366\n",
              "04/12/2020               331        448.021027\n",
              "04/13/2020               358        536.101501\n",
              "04/14/2020               393        631.600769\n",
              "04/15/2020               405        733.900146\n",
              "04/16/2020               448        833.212769\n",
              "04/17/2020               486        936.399292\n",
              "04/18/2020               521       1045.980835\n",
              "04/19/2020               559       1157.427979\n",
              "04/20/2020               592       1267.408691\n",
              "04/21/2020               645       1376.499878\n",
              "04/22/2020               681       1486.783325"
            ]
          },
          "metadata": {
            "tags": []
          },
          "execution_count": 130
        }
      ]
    },
    {
      "cell_type": "code",
      "metadata": {
        "id": "POhK4o7PkYpf",
        "colab_type": "code",
        "outputId": "171bbcdc-345e-4965-8617-be03a3f28b6a",
        "colab": {
          "base_uri": "https://localhost:8080/",
          "height": 574
        }
      },
      "source": [
        "plt.figure(figsize=(22,10))\n",
        "plt.title('Model')\n",
        "plt.xlabel('Date', fontsize=12)\n",
        "plt.xticks(rotation=45)\n",
        "plt.ylabel('Confirmed deaths', fontsize=12)\n",
        "plt.plot(train2['Confirmed Deaths'])\n",
        "plt.plot(valid2[['Confirmed Deaths', 'Predicted Deaths']])\n",
        "plt.legend(['Train', 'Val', 'Predictions'], loc='lower right')\n",
        "#plt.savefig('/content/drive/My Drive/figzero.png', dpi=300)\n",
        "plt.show()"
      ],
      "execution_count": 0,
      "outputs": [
        {
          "output_type": "display_data",
          "data": {
            "image/png": "[encoded data removed]",
            "text/plain": [
              "<Figure size 1584x720 with 1 Axes>"
            ]
          },
          "metadata": {
            "tags": [],
            "needs_background": "light"
          }
        }
      ]
    },
    {
      "cell_type": "code",
      "metadata": {
        "id": "MGpjbTvxkjCO",
        "colab_type": "code",
        "outputId": "702474e1-6456-481c-dcdd-543affbb6749",
        "colab": {
          "base_uri": "https://localhost:8080/",
          "height": 553
        }
      },
      "source": [
        "plt.figure(figsize=(16,8))\n",
        "plt.title('Model')\n",
        "plt.xlabel('Date', fontsize=12)\n",
        "plt.xticks(rotation=45)\n",
        "plt.ylabel('Confirmed Deaths', fontsize=12)\n",
        "plt.plot(valid2)\n",
        "plt.legend(['Train', 'Predictions'], loc='lower right')\n",
        "#plt.savefig('/content/drive/My Drive/figone.png', dpi=300)\n",
        "plt.show()"
      ],
      "execution_count": 0,
      "outputs": [
        {
          "output_type": "display_data",
          "data": {
            "image/png": "[encoded data removed]",
            "text/plain": [
              "<Figure size 1152x576 with 1 Axes>"
            ]
          },
          "metadata": {
            "tags": [],
            "needs_background": "light"
          }
        }
      ]
    },
    {
      "cell_type": "code",
      "metadata": {
        "id": "uIkTyNgMu40Q",
        "colab_type": "code",
        "outputId": "c13dc90c-7925-4d98-f172-9df74ee7a650",
        "colab": {
          "base_uri": "https://localhost:8080/",
          "height": 279
        }
      },
      "source": [
        "df2 = df['Confirmed Rcovered'].plot()\n"
      ],
      "execution_count": 0,
      "outputs": [
        {
          "output_type": "display_data",
          "data": {
            "image/png": "[encoded data removed]",
            "text/plain": [
              "<Figure size 432x288 with 1 Axes>"
            ]
          },
          "metadata": {
            "tags": [],
            "needs_background": "light"
          }
        }
      ]
    },
    {
      "cell_type": "code",
      "metadata": {
        "id": "33KEAANYvHlS",
        "colab_type": "code",
        "colab": {}
      },
      "source": [
        "data3 = df.filter(['Confirmed Rcovered'])"
      ],
      "execution_count": 0,
      "outputs": []
    },
    {
      "cell_type": "code",
      "metadata": {
        "id": "WfIzbwAkvKKy",
        "colab_type": "code",
        "colab": {}
      },
      "source": [
        "dataset3 = data3.values"
      ],
      "execution_count": 0,
      "outputs": []
    },
    {
      "cell_type": "code",
      "metadata": {
        "id": "1misUtX_vO2Y",
        "colab_type": "code",
        "outputId": "74c25c95-50c6-44c4-b57f-54f7f6e664c8",
        "colab": {
          "base_uri": "https://localhost:8080/",
          "height": 34
        }
      },
      "source": [
        "training_data_len3 = math.ceil(len(dataset3) * 0.8)\n",
        "training_data_len3"
      ],
      "execution_count": 0,
      "outputs": [
        {
          "output_type": "execute_result",
          "data": {
            "text/plain": [
              "74"
            ]
          },
          "metadata": {
            "tags": []
          },
          "execution_count": 136
        }
      ]
    },
    {
      "cell_type": "code",
      "metadata": {
        "id": "Roqt7rzhvS7T",
        "colab_type": "code",
        "colab": {}
      },
      "source": [
        "scaler3 = MinMaxScaler(feature_range=(0,1))\n",
        "scaled_data3 = scaler.fit_transform(dataset3)"
      ],
      "execution_count": 0,
      "outputs": []
    },
    {
      "cell_type": "code",
      "metadata": {
        "id": "8WHRvGS7vZUs",
        "colab_type": "code",
        "outputId": "616650f1-1808-4e0c-d6fb-364ccabdaed0",
        "colab": {
          "base_uri": "https://localhost:8080/",
          "height": 1000
        }
      },
      "source": [
        "scaled_data3"
      ],
      "execution_count": 0,
      "outputs": [
        {
          "output_type": "execute_result",
          "data": {
            "text/plain": [
              "array([[0.00000000e+00],\n",
              "       [0.00000000e+00],\n",
              "       [0.00000000e+00],\n",
              "       [0.00000000e+00],\n",
              "       [0.00000000e+00],\n",
              "       [0.00000000e+00],\n",
              "       [0.00000000e+00],\n",
              "       [0.00000000e+00],\n",
              "       [0.00000000e+00],\n",
              "       [0.00000000e+00],\n",
              "       [0.00000000e+00],\n",
              "       [0.00000000e+00],\n",
              "       [0.00000000e+00],\n",
              "       [0.00000000e+00],\n",
              "       [0.00000000e+00],\n",
              "       [0.00000000e+00],\n",
              "       [0.00000000e+00],\n",
              "       [0.00000000e+00],\n",
              "       [0.00000000e+00],\n",
              "       [0.00000000e+00],\n",
              "       [0.00000000e+00],\n",
              "       [0.00000000e+00],\n",
              "       [0.00000000e+00],\n",
              "       [0.00000000e+00],\n",
              "       [0.00000000e+00],\n",
              "       [6.86498856e-04],\n",
              "       [6.86498856e-04],\n",
              "       [6.86498856e-04],\n",
              "       [6.86498856e-04],\n",
              "       [6.86498856e-04],\n",
              "       [6.86498856e-04],\n",
              "       [6.86498856e-04],\n",
              "       [6.86498856e-04],\n",
              "       [6.86498856e-04],\n",
              "       [6.86498856e-04],\n",
              "       [6.86498856e-04],\n",
              "       [6.86498856e-04],\n",
              "       [6.86498856e-04],\n",
              "       [6.86498856e-04],\n",
              "       [6.86498856e-04],\n",
              "       [6.86498856e-04],\n",
              "       [6.86498856e-04],\n",
              "       [6.86498856e-04],\n",
              "       [6.86498856e-04],\n",
              "       [6.86498856e-04],\n",
              "       [6.86498856e-04],\n",
              "       [6.86498856e-04],\n",
              "       [6.86498856e-04],\n",
              "       [9.15331808e-04],\n",
              "       [9.15331808e-04],\n",
              "       [9.15331808e-04],\n",
              "       [9.15331808e-04],\n",
              "       [9.15331808e-04],\n",
              "       [2.97482838e-03],\n",
              "       [2.97482838e-03],\n",
              "       [3.20366133e-03],\n",
              "       [3.20366133e-03],\n",
              "       [3.43249428e-03],\n",
              "       [4.57665904e-03],\n",
              "       [5.26315789e-03],\n",
              "       [6.17848970e-03],\n",
              "       [6.17848970e-03],\n",
              "       [9.15331808e-03],\n",
              "       [9.83981693e-03],\n",
              "       [1.02974828e-02],\n",
              "       [1.67048055e-02],\n",
              "       [1.92219680e-02],\n",
              "       [2.17391304e-02],\n",
              "       [2.33409611e-02],\n",
              "       [2.81464531e-02],\n",
              "       [3.38672769e-02],\n",
              "       [4.37070938e-02],\n",
              "       [4.39359268e-02],\n",
              "       [5.24027460e-02],\n",
              "       [5.24027460e-02],\n",
              "       [8.58123570e-02],\n",
              "       [9.63386728e-02],\n",
              "       [1.15789474e-01],\n",
              "       [1.41876430e-01],\n",
              "       [1.77116705e-01],\n",
              "       [2.21739130e-01],\n",
              "       [2.47139588e-01],\n",
              "       [2.70251716e-01],\n",
              "       [3.10983982e-01],\n",
              "       [3.27688787e-01],\n",
              "       [4.04576659e-01],\n",
              "       [4.67048055e-01],\n",
              "       [5.63615561e-01],\n",
              "       [6.53089245e-01],\n",
              "       [7.48970252e-01],\n",
              "       [9.09610984e-01],\n",
              "       [1.00000000e+00]])"
            ]
          },
          "metadata": {
            "tags": []
          },
          "execution_count": 138
        }
      ]
    },
    {
      "cell_type": "code",
      "metadata": {
        "id": "F_SWz68JvtkZ",
        "colab_type": "code",
        "outputId": "adb64ebd-1a64-45e4-861d-2c0b1d7526d6",
        "colab": {
          "base_uri": "https://localhost:8080/",
          "height": 67
        }
      },
      "source": [
        "train_data3 = scaled_data3[0:training_data_len2, :]\n",
        "x_train3 = []\n",
        "y_train3 = []\n",
        "\n",
        "for i in range(10, len(train_data3)):\n",
        "  x_train3.append(train_data3[i-10:i, 0])\n",
        "  y_train3.append(train_data3[i, 0])\n",
        "  if i<= 10:\n",
        "    print(x_train3)\n",
        "    print(y_train3)\n",
        "    print()"
      ],
      "execution_count": 0,
      "outputs": [
        {
          "output_type": "stream",
          "text": [
            "[array([0., 0., 0., 0., 0., 0., 0., 0., 0., 0.])]\n",
            "[0.0]\n",
            "\n"
          ],
          "name": "stdout"
        }
      ]
    },
    {
      "cell_type": "code",
      "metadata": {
        "id": "FcSANo8_v3AQ",
        "colab_type": "code",
        "colab": {}
      },
      "source": [
        "x_train3, y_train3 = np.array(x_train3), np.array(y_train3)"
      ],
      "execution_count": 0,
      "outputs": []
    },
    {
      "cell_type": "code",
      "metadata": {
        "id": "MwG9vmdwv8WZ",
        "colab_type": "code",
        "outputId": "4989bfee-7068-4f18-bf52-1a086d70db01",
        "colab": {
          "base_uri": "https://localhost:8080/",
          "height": 34
        }
      },
      "source": [
        "x_train3 = np.reshape(x_train3, (x_train3.shape[0], x_train3.shape[1], 1))\n",
        "x_train3.shape"
      ],
      "execution_count": 0,
      "outputs": [
        {
          "output_type": "execute_result",
          "data": {
            "text/plain": [
              "(64, 10, 1)"
            ]
          },
          "metadata": {
            "tags": []
          },
          "execution_count": 141
        }
      ]
    },
    {
      "cell_type": "code",
      "metadata": {
        "id": "zw0AJyiTwJZ3",
        "colab_type": "code",
        "colab": {}
      },
      "source": [
        "model3 = Sequential()\n",
        "model3.add(LSTM(50, return_sequences=True, input_shape=(x_train2.shape[1], 1)))\n",
        "model3.add(LSTM(50, return_sequences=False))\n",
        "model3.add(Dense(25))\n",
        "model3.add(Dense(1))"
      ],
      "execution_count": 0,
      "outputs": []
    },
    {
      "cell_type": "code",
      "metadata": {
        "id": "EfTCyaTtwQQL",
        "colab_type": "code",
        "colab": {}
      },
      "source": [
        "model3.compile(optimizer='adam', loss='mean_squared_error')\n"
      ],
      "execution_count": 0,
      "outputs": []
    },
    {
      "cell_type": "code",
      "metadata": {
        "id": "t_7YiOvswS8h",
        "colab_type": "code",
        "outputId": "448265fe-29d3-44c5-b72e-f85aefc6dae0",
        "colab": {
          "base_uri": "https://localhost:8080/",
          "height": 1000
        }
      },
      "source": [
        "model3.fit(x_train3, y_train3, batch_size=1, epochs=50)"
      ],
      "execution_count": 0,
      "outputs": [
        {
          "output_type": "stream",
          "text": [
            "Epoch 1/50\n",
            "64/64 [==============================] - 1s 14ms/step - loss: 1.5965e-04\n",
            "Epoch 2/50\n",
            "64/64 [==============================] - 0s 7ms/step - loss: 9.6233e-05\n",
            "Epoch 3/50\n",
            "64/64 [==============================] - 0s 6ms/step - loss: 1.1355e-04\n",
            "Epoch 4/50\n",
            "64/64 [==============================] - 0s 6ms/step - loss: 7.0392e-05\n",
            "Epoch 5/50\n",
            "64/64 [==============================] - 0s 6ms/step - loss: 8.7027e-05\n",
            "Epoch 6/50\n",
            "64/64 [==============================] - 0s 6ms/step - loss: 1.8225e-05\n",
            "Epoch 7/50\n",
            "64/64 [==============================] - 0s 6ms/step - loss: 8.8379e-06\n",
            "Epoch 8/50\n",
            "64/64 [==============================] - 0s 6ms/step - loss: 7.5734e-06\n",
            "Epoch 9/50\n",
            "64/64 [==============================] - 0s 6ms/step - loss: 1.3906e-05\n",
            "Epoch 10/50\n",
            "64/64 [==============================] - 0s 6ms/step - loss: 6.6425e-06\n",
            "Epoch 11/50\n",
            "64/64 [==============================] - 0s 6ms/step - loss: 8.2617e-06\n",
            "Epoch 12/50\n",
            "64/64 [==============================] - 0s 6ms/step - loss: 3.3698e-06\n",
            "Epoch 13/50\n",
            "64/64 [==============================] - 0s 6ms/step - loss: 2.6075e-06\n",
            "Epoch 14/50\n",
            "64/64 [==============================] - 0s 6ms/step - loss: 1.3831e-05\n",
            "Epoch 15/50\n",
            "64/64 [==============================] - 0s 6ms/step - loss: 2.9518e-05\n",
            "Epoch 16/50\n",
            "64/64 [==============================] - 0s 6ms/step - loss: 7.2708e-06\n",
            "Epoch 17/50\n",
            "64/64 [==============================] - 0s 6ms/step - loss: 4.2926e-06\n",
            "Epoch 18/50\n",
            "64/64 [==============================] - 0s 6ms/step - loss: 9.4320e-06\n",
            "Epoch 19/50\n",
            "64/64 [==============================] - 0s 6ms/step - loss: 7.5107e-06\n",
            "Epoch 20/50\n",
            "64/64 [==============================] - 0s 6ms/step - loss: 1.0914e-05\n",
            "Epoch 21/50\n",
            "64/64 [==============================] - 0s 6ms/step - loss: 9.0093e-06\n",
            "Epoch 22/50\n",
            "64/64 [==============================] - 0s 6ms/step - loss: 1.0698e-05\n",
            "Epoch 23/50\n",
            "64/64 [==============================] - 0s 6ms/step - loss: 4.6061e-06\n",
            "Epoch 24/50\n",
            "64/64 [==============================] - 0s 6ms/step - loss: 5.2391e-06\n",
            "Epoch 25/50\n",
            "64/64 [==============================] - 0s 6ms/step - loss: 5.0719e-06\n",
            "Epoch 26/50\n",
            "64/64 [==============================] - 0s 6ms/step - loss: 2.2368e-06\n",
            "Epoch 27/50\n",
            "64/64 [==============================] - 0s 6ms/step - loss: 5.7519e-06\n",
            "Epoch 28/50\n",
            "64/64 [==============================] - 0s 6ms/step - loss: 2.7378e-06\n",
            "Epoch 29/50\n",
            "64/64 [==============================] - 0s 6ms/step - loss: 3.6919e-06\n",
            "Epoch 30/50\n",
            "64/64 [==============================] - 0s 6ms/step - loss: 5.9257e-06\n",
            "Epoch 31/50\n",
            "64/64 [==============================] - 0s 6ms/step - loss: 7.5398e-06\n",
            "Epoch 32/50\n",
            "64/64 [==============================] - 0s 6ms/step - loss: 3.9281e-06\n",
            "Epoch 33/50\n",
            "64/64 [==============================] - 0s 6ms/step - loss: 4.3182e-06\n",
            "Epoch 34/50\n",
            "64/64 [==============================] - 0s 6ms/step - loss: 6.9076e-06\n",
            "Epoch 35/50\n",
            "64/64 [==============================] - 0s 6ms/step - loss: 1.2950e-05\n",
            "Epoch 36/50\n",
            "64/64 [==============================] - 0s 6ms/step - loss: 1.4350e-05\n",
            "Epoch 37/50\n",
            "64/64 [==============================] - 0s 6ms/step - loss: 1.9922e-05\n",
            "Epoch 38/50\n",
            "64/64 [==============================] - 0s 6ms/step - loss: 3.4694e-06\n",
            "Epoch 39/50\n",
            "64/64 [==============================] - 0s 6ms/step - loss: 3.8916e-06\n",
            "Epoch 40/50\n",
            "64/64 [==============================] - 0s 6ms/step - loss: 5.8078e-06\n",
            "Epoch 41/50\n",
            "64/64 [==============================] - 0s 6ms/step - loss: 6.7702e-06\n",
            "Epoch 42/50\n",
            "64/64 [==============================] - 0s 6ms/step - loss: 5.7397e-06\n",
            "Epoch 43/50\n",
            "64/64 [==============================] - 0s 6ms/step - loss: 9.3213e-06\n",
            "Epoch 44/50\n",
            "64/64 [==============================] - 0s 6ms/step - loss: 4.6714e-06\n",
            "Epoch 45/50\n",
            "64/64 [==============================] - 0s 6ms/step - loss: 1.1151e-05\n",
            "Epoch 46/50\n",
            "64/64 [==============================] - 0s 6ms/step - loss: 4.5422e-06\n",
            "Epoch 47/50\n",
            "64/64 [==============================] - 0s 6ms/step - loss: 3.6399e-06\n",
            "Epoch 48/50\n",
            "64/64 [==============================] - 0s 6ms/step - loss: 5.4614e-06\n",
            "Epoch 49/50\n",
            "64/64 [==============================] - 0s 6ms/step - loss: 4.2614e-06\n",
            "Epoch 50/50\n",
            "64/64 [==============================] - 0s 6ms/step - loss: 8.8083e-06\n"
          ],
          "name": "stdout"
        },
        {
          "output_type": "execute_result",
          "data": {
            "text/plain": [
              "<keras.callbacks.callbacks.History at 0x7efbb0af6748>"
            ]
          },
          "metadata": {
            "tags": []
          },
          "execution_count": 144
        }
      ]
    },
    {
      "cell_type": "code",
      "metadata": {
        "id": "vPX497rhwaBP",
        "colab_type": "code",
        "colab": {}
      },
      "source": [
        "test_data3 = scaled_data3[training_data_len3-10: , :]\n",
        "x_test3 = []\n",
        "y_test3 = dataset3[training_data_len3:, :]\n",
        "for i in range(10, len(test_data3)):\n",
        "  x_test3.append(test_data2[i-10:i, 0])\n",
        "  "
      ],
      "execution_count": 0,
      "outputs": []
    },
    {
      "cell_type": "code",
      "metadata": {
        "id": "oGMhAOF3wjQJ",
        "colab_type": "code",
        "outputId": "b3f73c6b-c3cc-4560-cff1-ac8974f928da",
        "colab": {
          "base_uri": "https://localhost:8080/",
          "height": 34
        }
      },
      "source": [
        "len(test_data3)"
      ],
      "execution_count": 0,
      "outputs": [
        {
          "output_type": "execute_result",
          "data": {
            "text/plain": [
              "28"
            ]
          },
          "metadata": {
            "tags": []
          },
          "execution_count": 146
        }
      ]
    },
    {
      "cell_type": "code",
      "metadata": {
        "id": "RDnL7cn6wgvK",
        "colab_type": "code",
        "colab": {}
      },
      "source": [
        "x_test3 = np.array(x_test3)"
      ],
      "execution_count": 0,
      "outputs": []
    },
    {
      "cell_type": "code",
      "metadata": {
        "id": "gB1EzMc4wk53",
        "colab_type": "code",
        "colab": {}
      },
      "source": [
        "x_test3 = np.reshape(x_test3, (x_test3.shape[0], x_test3.shape[1], 1 ))"
      ],
      "execution_count": 0,
      "outputs": []
    },
    {
      "cell_type": "code",
      "metadata": {
        "id": "dsA-BhYEwmsL",
        "colab_type": "code",
        "colab": {}
      },
      "source": [
        "predictions3 = model.predict(x_test3)\n",
        "predictions3 = scaler.inverse_transform(predictions3)"
      ],
      "execution_count": 0,
      "outputs": []
    },
    {
      "cell_type": "code",
      "metadata": {
        "id": "-TC_NS_Vwpik",
        "colab_type": "code",
        "outputId": "aabdc68a-a65a-408c-d15d-df418e6a672e",
        "colab": {
          "base_uri": "https://localhost:8080/",
          "height": 34
        }
      },
      "source": [
        "rmse = np.sqrt( np.mean( predictions3 - y_test )**2)\n",
        "rmse"
      ],
      "execution_count": 0,
      "outputs": [
        {
          "output_type": "execute_result",
          "data": {
            "text/plain": [
              "7216.8142496744795"
            ]
          },
          "metadata": {
            "tags": []
          },
          "execution_count": 150
        }
      ]
    },
    {
      "cell_type": "code",
      "metadata": {
        "id": "S8fGZGhJwrO8",
        "colab_type": "code",
        "outputId": "a683467c-b591-44e8-f7c7-aa863a827ec0",
        "colab": {
          "base_uri": "https://localhost:8080/",
          "height": 118
        }
      },
      "source": [
        "train3 = data3[:training_data_len3]\n",
        "valid3 = data3[training_data_len3:]\n",
        "valid3['Predicted Recovered Cases'] = predictions3"
      ],
      "execution_count": 0,
      "outputs": [
        {
          "output_type": "stream",
          "text": [
            "/usr/local/lib/python3.6/dist-packages/ipykernel_launcher.py:3: SettingWithCopyWarning: \n",
            "A value is trying to be set on a copy of a slice from a DataFrame.\n",
            "Try using .loc[row_indexer,col_indexer] = value instead\n",
            "\n",
            "See the caveats in the documentation: https://pandas.pydata.org/pandas-docs/stable/user_guide/indexing.html#returning-a-view-versus-a-copy\n",
            "  This is separate from the ipykernel package so we can avoid doing imports until\n"
          ],
          "name": "stderr"
        }
      ]
    },
    {
      "cell_type": "code",
      "metadata": {
        "id": "XikMz-HIwyXq",
        "colab_type": "code",
        "outputId": "82ac0ded-62ae-42af-a03f-01fe35f1d9d2",
        "colab": {
          "base_uri": "https://localhost:8080/",
          "height": 610
        }
      },
      "source": [
        "valid3\n"
      ],
      "execution_count": 0,
      "outputs": [
        {
          "output_type": "execute_result",
          "data": {
            "text/html": [
              "<div>\n",
              "<style scoped>\n",
              "    .dataframe tbody tr th:only-of-type {\n",
              "        vertical-align: middle;\n",
              "    }\n",
              "\n",
              "    .dataframe tbody tr th {\n",
              "        vertical-align: top;\n",
              "    }\n",
              "\n",
              "    .dataframe thead th {\n",
              "        text-align: right;\n",
              "    }\n",
              "</style>\n",
              "<table border=\"1\" class=\"dataframe\">\n",
              "  <thead>\n",
              "    <tr style=\"text-align: right;\">\n",
              "      <th></th>\n",
              "      <th>Confirmed Rcovered</th>\n",
              "      <th>Predicted Recovered Cases</th>\n",
              "    </tr>\n",
              "    <tr>\n",
              "      <th>Dates</th>\n",
              "      <th></th>\n",
              "      <th></th>\n",
              "    </tr>\n",
              "  </thead>\n",
              "  <tbody>\n",
              "    <tr>\n",
              "      <th>04/05/2020</th>\n",
              "      <td>229</td>\n",
              "      <td>732.564819</td>\n",
              "    </tr>\n",
              "    <tr>\n",
              "      <th>04/06/2020</th>\n",
              "      <td>375</td>\n",
              "      <td>869.562500</td>\n",
              "    </tr>\n",
              "    <tr>\n",
              "      <th>04/07/2020</th>\n",
              "      <td>421</td>\n",
              "      <td>1078.265991</td>\n",
              "    </tr>\n",
              "    <tr>\n",
              "      <th>04/08/2020</th>\n",
              "      <td>506</td>\n",
              "      <td>1313.769409</td>\n",
              "    </tr>\n",
              "    <tr>\n",
              "      <th>04/09/2020</th>\n",
              "      <td>620</td>\n",
              "      <td>1595.346558</td>\n",
              "    </tr>\n",
              "    <tr>\n",
              "      <th>04/10/2020</th>\n",
              "      <td>774</td>\n",
              "      <td>1973.831299</td>\n",
              "    </tr>\n",
              "    <tr>\n",
              "      <th>04/11/2020</th>\n",
              "      <td>969</td>\n",
              "      <td>2391.592285</td>\n",
              "    </tr>\n",
              "    <tr>\n",
              "      <th>04/12/2020</th>\n",
              "      <td>1080</td>\n",
              "      <td>2874.966064</td>\n",
              "    </tr>\n",
              "    <tr>\n",
              "      <th>04/13/2020</th>\n",
              "      <td>1181</td>\n",
              "      <td>3440.181641</td>\n",
              "    </tr>\n",
              "    <tr>\n",
              "      <th>04/14/2020</th>\n",
              "      <td>1359</td>\n",
              "      <td>4053.003662</td>\n",
              "    </tr>\n",
              "    <tr>\n",
              "      <th>04/15/2020</th>\n",
              "      <td>1432</td>\n",
              "      <td>4709.461914</td>\n",
              "    </tr>\n",
              "    <tr>\n",
              "      <th>04/16/2020</th>\n",
              "      <td>1768</td>\n",
              "      <td>5346.754395</td>\n",
              "    </tr>\n",
              "    <tr>\n",
              "      <th>04/17/2020</th>\n",
              "      <td>2041</td>\n",
              "      <td>6008.905762</td>\n",
              "    </tr>\n",
              "    <tr>\n",
              "      <th>04/18/2020</th>\n",
              "      <td>2463</td>\n",
              "      <td>6712.093750</td>\n",
              "    </tr>\n",
              "    <tr>\n",
              "      <th>04/19/2020</th>\n",
              "      <td>2854</td>\n",
              "      <td>7427.254395</td>\n",
              "    </tr>\n",
              "    <tr>\n",
              "      <th>04/20/2020</th>\n",
              "      <td>3273</td>\n",
              "      <td>8133.004883</td>\n",
              "    </tr>\n",
              "    <tr>\n",
              "      <th>04/21/2020</th>\n",
              "      <td>3975</td>\n",
              "      <td>8833.045898</td>\n",
              "    </tr>\n",
              "    <tr>\n",
              "      <th>04/22/2020</th>\n",
              "      <td>4370</td>\n",
              "      <td>9540.738281</td>\n",
              "    </tr>\n",
              "  </tbody>\n",
              "</table>\n",
              "</div>"
            ],
            "text/plain": [
              "            Confirmed Rcovered  Predicted Recovered Cases\n",
              "Dates                                                    \n",
              "04/05/2020                 229                 732.564819\n",
              "04/06/2020                 375                 869.562500\n",
              "04/07/2020                 421                1078.265991\n",
              "04/08/2020                 506                1313.769409\n",
              "04/09/2020                 620                1595.346558\n",
              "04/10/2020                 774                1973.831299\n",
              "04/11/2020                 969                2391.592285\n",
              "04/12/2020                1080                2874.966064\n",
              "04/13/2020                1181                3440.181641\n",
              "04/14/2020                1359                4053.003662\n",
              "04/15/2020                1432                4709.461914\n",
              "04/16/2020                1768                5346.754395\n",
              "04/17/2020                2041                6008.905762\n",
              "04/18/2020                2463                6712.093750\n",
              "04/19/2020                2854                7427.254395\n",
              "04/20/2020                3273                8133.004883\n",
              "04/21/2020                3975                8833.045898\n",
              "04/22/2020                4370                9540.738281"
            ]
          },
          "metadata": {
            "tags": []
          },
          "execution_count": 152
        }
      ]
    },
    {
      "cell_type": "code",
      "metadata": {
        "id": "h79Ah8rqxYF6",
        "colab_type": "code",
        "outputId": "26f3cf10-5b94-412c-a51d-a4960ad44765",
        "colab": {
          "base_uri": "https://localhost:8080/",
          "height": 610
        }
      },
      "source": [
        "valid_final = valid.join(valid2.join(valid3))\n",
        "valid_final"
      ],
      "execution_count": 0,
      "outputs": [
        {
          "output_type": "execute_result",
          "data": {
            "text/html": [
              "<div>\n",
              "<style scoped>\n",
              "    .dataframe tbody tr th:only-of-type {\n",
              "        vertical-align: middle;\n",
              "    }\n",
              "\n",
              "    .dataframe tbody tr th {\n",
              "        vertical-align: top;\n",
              "    }\n",
              "\n",
              "    .dataframe thead th {\n",
              "        text-align: right;\n",
              "    }\n",
              "</style>\n",
              "<table border=\"1\" class=\"dataframe\">\n",
              "  <thead>\n",
              "    <tr style=\"text-align: right;\">\n",
              "      <th></th>\n",
              "      <th>India Confirmed Cases</th>\n",
              "      <th>Predicted Cases</th>\n",
              "      <th>Confirmed Deaths</th>\n",
              "      <th>Predicted Deaths</th>\n",
              "      <th>Confirmed Rcovered</th>\n",
              "      <th>Predicted Recovered Cases</th>\n",
              "    </tr>\n",
              "    <tr>\n",
              "      <th>Dates</th>\n",
              "      <th></th>\n",
              "      <th></th>\n",
              "      <th></th>\n",
              "      <th></th>\n",
              "      <th></th>\n",
              "      <th></th>\n",
              "    </tr>\n",
              "  </thead>\n",
              "  <tbody>\n",
              "    <tr>\n",
              "      <th>04/05/2020</th>\n",
              "      <td>3588</td>\n",
              "      <td>4184.552246</td>\n",
              "      <td>99</td>\n",
              "      <td>114.159409</td>\n",
              "      <td>229</td>\n",
              "      <td>732.564819</td>\n",
              "    </tr>\n",
              "    <tr>\n",
              "      <th>04/06/2020</th>\n",
              "      <td>4778</td>\n",
              "      <td>4966.241211</td>\n",
              "      <td>136</td>\n",
              "      <td>135.508484</td>\n",
              "      <td>375</td>\n",
              "      <td>869.562500</td>\n",
              "    </tr>\n",
              "    <tr>\n",
              "      <th>04/07/2020</th>\n",
              "      <td>5311</td>\n",
              "      <td>6103.516602</td>\n",
              "      <td>150</td>\n",
              "      <td>168.031830</td>\n",
              "      <td>421</td>\n",
              "      <td>1078.265991</td>\n",
              "    </tr>\n",
              "    <tr>\n",
              "      <th>04/08/2020</th>\n",
              "      <td>5916</td>\n",
              "      <td>7404.893555</td>\n",
              "      <td>178</td>\n",
              "      <td>204.731567</td>\n",
              "      <td>506</td>\n",
              "      <td>1313.769409</td>\n",
              "    </tr>\n",
              "    <tr>\n",
              "      <th>04/09/2020</th>\n",
              "      <td>6725</td>\n",
              "      <td>8835.144531</td>\n",
              "      <td>226</td>\n",
              "      <td>248.611221</td>\n",
              "      <td>620</td>\n",
              "      <td>1595.346558</td>\n",
              "    </tr>\n",
              "    <tr>\n",
              "      <th>04/10/2020</th>\n",
              "      <td>7598</td>\n",
              "      <td>10443.011719</td>\n",
              "      <td>246</td>\n",
              "      <td>307.592468</td>\n",
              "      <td>774</td>\n",
              "      <td>1973.831299</td>\n",
              "    </tr>\n",
              "    <tr>\n",
              "      <th>04/11/2020</th>\n",
              "      <td>8446</td>\n",
              "      <td>12273.201172</td>\n",
              "      <td>288</td>\n",
              "      <td>372.694366</td>\n",
              "      <td>969</td>\n",
              "      <td>2391.592285</td>\n",
              "    </tr>\n",
              "    <tr>\n",
              "      <th>04/12/2020</th>\n",
              "      <td>9205</td>\n",
              "      <td>14279.231445</td>\n",
              "      <td>331</td>\n",
              "      <td>448.021027</td>\n",
              "      <td>1080</td>\n",
              "      <td>2874.966064</td>\n",
              "    </tr>\n",
              "    <tr>\n",
              "      <th>04/13/2020</th>\n",
              "      <td>10453</td>\n",
              "      <td>16420.671875</td>\n",
              "      <td>358</td>\n",
              "      <td>536.101501</td>\n",
              "      <td>1181</td>\n",
              "      <td>3440.181641</td>\n",
              "    </tr>\n",
              "    <tr>\n",
              "      <th>04/14/2020</th>\n",
              "      <td>11487</td>\n",
              "      <td>18927.253906</td>\n",
              "      <td>393</td>\n",
              "      <td>631.600769</td>\n",
              "      <td>1359</td>\n",
              "      <td>4053.003662</td>\n",
              "    </tr>\n",
              "    <tr>\n",
              "      <th>04/15/2020</th>\n",
              "      <td>12322</td>\n",
              "      <td>21690.304688</td>\n",
              "      <td>405</td>\n",
              "      <td>733.900146</td>\n",
              "      <td>1432</td>\n",
              "      <td>4709.461914</td>\n",
              "    </tr>\n",
              "    <tr>\n",
              "      <th>04/16/2020</th>\n",
              "      <td>13430</td>\n",
              "      <td>24589.650391</td>\n",
              "      <td>448</td>\n",
              "      <td>833.212769</td>\n",
              "      <td>1768</td>\n",
              "      <td>5346.754395</td>\n",
              "    </tr>\n",
              "    <tr>\n",
              "      <th>04/17/2020</th>\n",
              "      <td>14352</td>\n",
              "      <td>27603.587891</td>\n",
              "      <td>486</td>\n",
              "      <td>936.399292</td>\n",
              "      <td>2041</td>\n",
              "      <td>6008.905762</td>\n",
              "    </tr>\n",
              "    <tr>\n",
              "      <th>04/18/2020</th>\n",
              "      <td>15722</td>\n",
              "      <td>30729.513672</td>\n",
              "      <td>521</td>\n",
              "      <td>1045.980835</td>\n",
              "      <td>2463</td>\n",
              "      <td>6712.093750</td>\n",
              "    </tr>\n",
              "    <tr>\n",
              "      <th>04/19/2020</th>\n",
              "      <td>17615</td>\n",
              "      <td>34081.378906</td>\n",
              "      <td>559</td>\n",
              "      <td>1157.427979</td>\n",
              "      <td>2854</td>\n",
              "      <td>7427.254395</td>\n",
              "    </tr>\n",
              "    <tr>\n",
              "      <th>04/20/2020</th>\n",
              "      <td>18539</td>\n",
              "      <td>37814.113281</td>\n",
              "      <td>592</td>\n",
              "      <td>1267.408691</td>\n",
              "      <td>3273</td>\n",
              "      <td>8133.004883</td>\n",
              "    </tr>\n",
              "    <tr>\n",
              "      <th>04/21/2020</th>\n",
              "      <td>20080</td>\n",
              "      <td>41526.132812</td>\n",
              "      <td>645</td>\n",
              "      <td>1376.499878</td>\n",
              "      <td>3975</td>\n",
              "      <td>8833.045898</td>\n",
              "    </tr>\n",
              "    <tr>\n",
              "      <th>04/22/2020</th>\n",
              "      <td>21370</td>\n",
              "      <td>45289.277344</td>\n",
              "      <td>681</td>\n",
              "      <td>1486.783325</td>\n",
              "      <td>4370</td>\n",
              "      <td>9540.738281</td>\n",
              "    </tr>\n",
              "  </tbody>\n",
              "</table>\n",
              "</div>"
            ],
            "text/plain": [
              "            India Confirmed Cases  ...  Predicted Recovered Cases\n",
              "Dates                              ...                           \n",
              "04/05/2020                   3588  ...                 732.564819\n",
              "04/06/2020                   4778  ...                 869.562500\n",
              "04/07/2020                   5311  ...                1078.265991\n",
              "04/08/2020                   5916  ...                1313.769409\n",
              "04/09/2020                   6725  ...                1595.346558\n",
              "04/10/2020                   7598  ...                1973.831299\n",
              "04/11/2020                   8446  ...                2391.592285\n",
              "04/12/2020                   9205  ...                2874.966064\n",
              "04/13/2020                  10453  ...                3440.181641\n",
              "04/14/2020                  11487  ...                4053.003662\n",
              "04/15/2020                  12322  ...                4709.461914\n",
              "04/16/2020                  13430  ...                5346.754395\n",
              "04/17/2020                  14352  ...                6008.905762\n",
              "04/18/2020                  15722  ...                6712.093750\n",
              "04/19/2020                  17615  ...                7427.254395\n",
              "04/20/2020                  18539  ...                8133.004883\n",
              "04/21/2020                  20080  ...                8833.045898\n",
              "04/22/2020                  21370  ...                9540.738281\n",
              "\n",
              "[18 rows x 6 columns]"
            ]
          },
          "metadata": {
            "tags": []
          },
          "execution_count": 153
        }
      ]
    },
    {
      "cell_type": "code",
      "metadata": {
        "id": "IYryGtHwygQw",
        "colab_type": "code",
        "outputId": "c395869a-7bde-4070-fada-bc0f548de08d",
        "colab": {
          "base_uri": "https://localhost:8080/",
          "height": 296
        }
      },
      "source": [
        "valid_final.plot()"
      ],
      "execution_count": 0,
      "outputs": [
        {
          "output_type": "execute_result",
          "data": {
            "text/plain": [
              "<matplotlib.axes._subplots.AxesSubplot at 0x7efbb0af6908>"
            ]
          },
          "metadata": {
            "tags": []
          },
          "execution_count": 154
        },
        {
          "output_type": "display_data",
          "data": {
            "image/png": "[encoded data removed]",
            "text/plain": [
              "<Figure size 432x288 with 1 Axes>"
            ]
          },
          "metadata": {
            "tags": [],
            "needs_background": "light"
          }
        }
      ]
    },
    {
      "cell_type": "code",
      "metadata": {
        "id": "8gh57seZzS38",
        "colab_type": "code",
        "outputId": "5e209dbc-6a6e-4328-fcff-d37173aa58e2",
        "colab": {
          "base_uri": "https://localhost:8080/",
          "height": 34
        }
      },
      "source": [
        "score = r2_score(valid_final['India Confirmed Cases'], valid_final['Predicted Cases'])\n",
        "score"
      ],
      "execution_count": 0,
      "outputs": [
        {
          "output_type": "execute_result",
          "data": {
            "text/plain": [
              "-3.6888663143092577"
            ]
          },
          "metadata": {
            "tags": []
          },
          "execution_count": 161
        }
      ]
    },
    {
      "cell_type": "code",
      "metadata": {
        "id": "gZwoa2qLzmo5",
        "colab_type": "code",
        "outputId": "c14d6e06-b012-4490-9b31-944caa4a3d4a",
        "colab": {
          "base_uri": "https://localhost:8080/",
          "height": 34
        }
      },
      "source": [
        "score1 = r2_score(valid_final['Confirmed Deaths'], valid_final['Predicted Deaths'])\n",
        "score1"
      ],
      "execution_count": 0,
      "outputs": [
        {
          "output_type": "execute_result",
          "data": {
            "text/plain": [
              "-4.095915995883101"
            ]
          },
          "metadata": {
            "tags": []
          },
          "execution_count": 162
        }
      ]
    },
    {
      "cell_type": "code",
      "metadata": {
        "id": "kN7yOIymzv1s",
        "colab_type": "code",
        "outputId": "343f2500-baf8-479c-a28a-4a1a1619759e",
        "colab": {
          "base_uri": "https://localhost:8080/",
          "height": 34
        }
      },
      "source": [
        "score3 = r2_score(valid_final['Confirmed Rcovered'], valid_final['Predicted Recovered Cases'])\n",
        "score3"
      ],
      "execution_count": 0,
      "outputs": [
        {
          "output_type": "execute_result",
          "data": {
            "text/plain": [
              "-5.401803608215881"
            ]
          },
          "metadata": {
            "tags": []
          },
          "execution_count": 163
        }
      ]
    },
    {
      "cell_type": "code",
      "metadata": {
        "id": "-rlKA3Pjz4Ch",
        "colab_type": "code",
        "outputId": "7c5f7a4a-4d5e-4dc0-8200-5004bc80c20c",
        "colab": {
          "base_uri": "https://localhost:8080/",
          "height": 34
        }
      },
      "source": [
        "Average = (score + score1 + score3) / 3\n",
        "Average"
      ],
      "execution_count": 0,
      "outputs": [
        {
          "output_type": "execute_result",
          "data": {
            "text/plain": [
              "-4.395528639469414"
            ]
          },
          "metadata": {
            "tags": []
          },
          "execution_count": 164
        }
      ]
    }
  ]
}