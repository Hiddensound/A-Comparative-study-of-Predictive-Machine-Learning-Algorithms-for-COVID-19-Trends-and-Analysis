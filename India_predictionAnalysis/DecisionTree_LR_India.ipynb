{
  "nbformat": 4,
  "nbformat_minor": 0,
  "metadata": {
    "colab": {
      "name": "DecisionTree_LR_India.ipynb",
      "provenance": [],
      "collapsed_sections": []
    },
    "kernelspec": {
      "name": "python3",
      "display_name": "Python 3"
    }
  },
  "cells": [
    {
      "cell_type": "code",
      "metadata": {
        "id": "UEA638fDLeL-",
        "colab_type": "code",
        "colab": {}
      },
      "source": [
        "import numpy as np\n",
        "import pandas as pd\n",
        "from sklearn.tree import DecisionTreeRegressor\n",
        "from sklearn.linear_model import LinearRegression\n",
        "from sklearn.model_selection import train_test_split\n",
        "import matplotlib.pyplot as plt\n",
        "plt.style.use('bmh')\n"
      ],
      "execution_count": 0,
      "outputs": []
    },
    {
      "cell_type": "code",
      "metadata": {
        "id": "u2nFM8H_N1Zc",
        "colab_type": "code",
        "outputId": "7b7aabd2-d031-4741-cc32-6477cf60008d",
        "colab": {
          "base_uri": "https://localhost:8080/",
          "height": 669
        }
      },
      "source": [
        "df = pd.read_csv('/content/drive/My Drive/COVID-19/COVID-19_Data/Total_cases_India.csv', index_col = 'Dates')\n",
        "df = df.rename(columns={\"Confirmed Rcovered\": \"Confirmed Recovered\"})\n",
        "df.tail(19)"
      ],
      "execution_count": 0,
      "outputs": [
        {
          "output_type": "execute_result",
          "data": {
            "text/html": [
              "<div>\n",
              "<style scoped>\n",
              "    .dataframe tbody tr th:only-of-type {\n",
              "        vertical-align: middle;\n",
              "    }\n",
              "\n",
              "    .dataframe tbody tr th {\n",
              "        vertical-align: top;\n",
              "    }\n",
              "\n",
              "    .dataframe thead th {\n",
              "        text-align: right;\n",
              "    }\n",
              "</style>\n",
              "<table border=\"1\" class=\"dataframe\">\n",
              "  <thead>\n",
              "    <tr style=\"text-align: right;\">\n",
              "      <th></th>\n",
              "      <th>India Confirmed Cases</th>\n",
              "      <th>Confirmed Deaths</th>\n",
              "      <th>Confirmed Recovered</th>\n",
              "    </tr>\n",
              "    <tr>\n",
              "      <th>Dates</th>\n",
              "      <th></th>\n",
              "      <th></th>\n",
              "      <th></th>\n",
              "    </tr>\n",
              "  </thead>\n",
              "  <tbody>\n",
              "    <tr>\n",
              "      <th>04/04/2020</th>\n",
              "      <td>3082</td>\n",
              "      <td>86</td>\n",
              "      <td>229</td>\n",
              "    </tr>\n",
              "    <tr>\n",
              "      <th>04/05/2020</th>\n",
              "      <td>3588</td>\n",
              "      <td>99</td>\n",
              "      <td>229</td>\n",
              "    </tr>\n",
              "    <tr>\n",
              "      <th>04/06/2020</th>\n",
              "      <td>4778</td>\n",
              "      <td>136</td>\n",
              "      <td>375</td>\n",
              "    </tr>\n",
              "    <tr>\n",
              "      <th>04/07/2020</th>\n",
              "      <td>5311</td>\n",
              "      <td>150</td>\n",
              "      <td>421</td>\n",
              "    </tr>\n",
              "    <tr>\n",
              "      <th>04/08/2020</th>\n",
              "      <td>5916</td>\n",
              "      <td>178</td>\n",
              "      <td>506</td>\n",
              "    </tr>\n",
              "    <tr>\n",
              "      <th>04/09/2020</th>\n",
              "      <td>6725</td>\n",
              "      <td>226</td>\n",
              "      <td>620</td>\n",
              "    </tr>\n",
              "    <tr>\n",
              "      <th>04/10/2020</th>\n",
              "      <td>7598</td>\n",
              "      <td>246</td>\n",
              "      <td>774</td>\n",
              "    </tr>\n",
              "    <tr>\n",
              "      <th>04/11/2020</th>\n",
              "      <td>8446</td>\n",
              "      <td>288</td>\n",
              "      <td>969</td>\n",
              "    </tr>\n",
              "    <tr>\n",
              "      <th>04/12/2020</th>\n",
              "      <td>9205</td>\n",
              "      <td>331</td>\n",
              "      <td>1080</td>\n",
              "    </tr>\n",
              "    <tr>\n",
              "      <th>04/13/2020</th>\n",
              "      <td>10453</td>\n",
              "      <td>358</td>\n",
              "      <td>1181</td>\n",
              "    </tr>\n",
              "    <tr>\n",
              "      <th>04/14/2020</th>\n",
              "      <td>11487</td>\n",
              "      <td>393</td>\n",
              "      <td>1359</td>\n",
              "    </tr>\n",
              "    <tr>\n",
              "      <th>04/15/2020</th>\n",
              "      <td>12322</td>\n",
              "      <td>405</td>\n",
              "      <td>1432</td>\n",
              "    </tr>\n",
              "    <tr>\n",
              "      <th>04/16/2020</th>\n",
              "      <td>13430</td>\n",
              "      <td>448</td>\n",
              "      <td>1768</td>\n",
              "    </tr>\n",
              "    <tr>\n",
              "      <th>04/17/2020</th>\n",
              "      <td>14352</td>\n",
              "      <td>486</td>\n",
              "      <td>2041</td>\n",
              "    </tr>\n",
              "    <tr>\n",
              "      <th>04/18/2020</th>\n",
              "      <td>15722</td>\n",
              "      <td>521</td>\n",
              "      <td>2463</td>\n",
              "    </tr>\n",
              "    <tr>\n",
              "      <th>04/19/2020</th>\n",
              "      <td>17615</td>\n",
              "      <td>559</td>\n",
              "      <td>2854</td>\n",
              "    </tr>\n",
              "    <tr>\n",
              "      <th>04/20/2020</th>\n",
              "      <td>18539</td>\n",
              "      <td>592</td>\n",
              "      <td>3273</td>\n",
              "    </tr>\n",
              "    <tr>\n",
              "      <th>04/21/2020</th>\n",
              "      <td>20080</td>\n",
              "      <td>645</td>\n",
              "      <td>3975</td>\n",
              "    </tr>\n",
              "    <tr>\n",
              "      <th>04/22/2020</th>\n",
              "      <td>21370</td>\n",
              "      <td>681</td>\n",
              "      <td>4370</td>\n",
              "    </tr>\n",
              "  </tbody>\n",
              "</table>\n",
              "</div>"
            ],
            "text/plain": [
              "            India Confirmed Cases  Confirmed Deaths  Confirmed Recovered\n",
              "Dates                                                                   \n",
              "04/04/2020                   3082                86                  229\n",
              "04/05/2020                   3588                99                  229\n",
              "04/06/2020                   4778               136                  375\n",
              "04/07/2020                   5311               150                  421\n",
              "04/08/2020                   5916               178                  506\n",
              "04/09/2020                   6725               226                  620\n",
              "04/10/2020                   7598               246                  774\n",
              "04/11/2020                   8446               288                  969\n",
              "04/12/2020                   9205               331                 1080\n",
              "04/13/2020                  10453               358                 1181\n",
              "04/14/2020                  11487               393                 1359\n",
              "04/15/2020                  12322               405                 1432\n",
              "04/16/2020                  13430               448                 1768\n",
              "04/17/2020                  14352               486                 2041\n",
              "04/18/2020                  15722               521                 2463\n",
              "04/19/2020                  17615               559                 2854\n",
              "04/20/2020                  18539               592                 3273\n",
              "04/21/2020                  20080               645                 3975\n",
              "04/22/2020                  21370               681                 4370"
            ]
          },
          "metadata": {
            "tags": []
          },
          "execution_count": 102
        }
      ]
    },
    {
      "cell_type": "code",
      "metadata": {
        "id": "ck56jx2eOIyX",
        "colab_type": "code",
        "outputId": "d5bfeda7-4edf-4808-a1b6-2e6971e0a80f",
        "colab": {
          "base_uri": "https://localhost:8080/",
          "height": 513
        }
      },
      "source": [
        "plt.figure(figsize=(16,8))\n",
        "plt.title('Confirmed Cases in India')\n",
        "plt.xlabel('Dates')\n",
        "plt.ylabel('Confirmed Cases')\n",
        "plt.plot(df['India Confirmed Cases'])\n",
        "plt.show()"
      ],
      "execution_count": 0,
      "outputs": [
        {
          "output_type": "display_data",
          "data": {
            "image/png": "[encoded data removed]",
            "text/plain": [
              "<Figure size 1152x576 with 1 Axes>"
            ]
          },
          "metadata": {
            "tags": [],
            "needs_background": "light"
          }
        }
      ]
    },
    {
      "cell_type": "code",
      "metadata": {
        "id": "poXjJWvLOluh",
        "colab_type": "code",
        "outputId": "579fc253-d795-4370-9d49-5e3e1ef53e60",
        "colab": {
          "base_uri": "https://localhost:8080/",
          "height": 204
        }
      },
      "source": [
        "df = df[['India Confirmed Cases']]\n",
        "df.head(4)"
      ],
      "execution_count": 0,
      "outputs": [
        {
          "output_type": "execute_result",
          "data": {
            "text/html": [
              "<div>\n",
              "<style scoped>\n",
              "    .dataframe tbody tr th:only-of-type {\n",
              "        vertical-align: middle;\n",
              "    }\n",
              "\n",
              "    .dataframe tbody tr th {\n",
              "        vertical-align: top;\n",
              "    }\n",
              "\n",
              "    .dataframe thead th {\n",
              "        text-align: right;\n",
              "    }\n",
              "</style>\n",
              "<table border=\"1\" class=\"dataframe\">\n",
              "  <thead>\n",
              "    <tr style=\"text-align: right;\">\n",
              "      <th></th>\n",
              "      <th>India Confirmed Cases</th>\n",
              "    </tr>\n",
              "    <tr>\n",
              "      <th>Dates</th>\n",
              "      <th></th>\n",
              "    </tr>\n",
              "  </thead>\n",
              "  <tbody>\n",
              "    <tr>\n",
              "      <th>01/22/2020</th>\n",
              "      <td>0</td>\n",
              "    </tr>\n",
              "    <tr>\n",
              "      <th>01/23/2020</th>\n",
              "      <td>0</td>\n",
              "    </tr>\n",
              "    <tr>\n",
              "      <th>01/24/2020</th>\n",
              "      <td>0</td>\n",
              "    </tr>\n",
              "    <tr>\n",
              "      <th>01/25/2020</th>\n",
              "      <td>0</td>\n",
              "    </tr>\n",
              "  </tbody>\n",
              "</table>\n",
              "</div>"
            ],
            "text/plain": [
              "            India Confirmed Cases\n",
              "Dates                            \n",
              "01/22/2020                      0\n",
              "01/23/2020                      0\n",
              "01/24/2020                      0\n",
              "01/25/2020                      0"
            ]
          },
          "metadata": {
            "tags": []
          },
          "execution_count": 104
        }
      ]
    },
    {
      "cell_type": "code",
      "metadata": {
        "id": "Dw7vnK4MO6-Z",
        "colab_type": "code",
        "outputId": "8ece4c98-7bf1-4c54-e803-91fd52392720",
        "colab": {
          "base_uri": "https://localhost:8080/",
          "height": 204
        }
      },
      "source": [
        "future_days = 25\n",
        "df['Predicted Cases'] = df[['India Confirmed Cases']].shift(-future_days)\n",
        "df.head(4)"
      ],
      "execution_count": 0,
      "outputs": [
        {
          "output_type": "execute_result",
          "data": {
            "text/html": [
              "<div>\n",
              "<style scoped>\n",
              "    .dataframe tbody tr th:only-of-type {\n",
              "        vertical-align: middle;\n",
              "    }\n",
              "\n",
              "    .dataframe tbody tr th {\n",
              "        vertical-align: top;\n",
              "    }\n",
              "\n",
              "    .dataframe thead th {\n",
              "        text-align: right;\n",
              "    }\n",
              "</style>\n",
              "<table border=\"1\" class=\"dataframe\">\n",
              "  <thead>\n",
              "    <tr style=\"text-align: right;\">\n",
              "      <th></th>\n",
              "      <th>India Confirmed Cases</th>\n",
              "      <th>Predicted Cases</th>\n",
              "    </tr>\n",
              "    <tr>\n",
              "      <th>Dates</th>\n",
              "      <th></th>\n",
              "      <th></th>\n",
              "    </tr>\n",
              "  </thead>\n",
              "  <tbody>\n",
              "    <tr>\n",
              "      <th>01/22/2020</th>\n",
              "      <td>0</td>\n",
              "      <td>3.0</td>\n",
              "    </tr>\n",
              "    <tr>\n",
              "      <th>01/23/2020</th>\n",
              "      <td>0</td>\n",
              "      <td>3.0</td>\n",
              "    </tr>\n",
              "    <tr>\n",
              "      <th>01/24/2020</th>\n",
              "      <td>0</td>\n",
              "      <td>3.0</td>\n",
              "    </tr>\n",
              "    <tr>\n",
              "      <th>01/25/2020</th>\n",
              "      <td>0</td>\n",
              "      <td>3.0</td>\n",
              "    </tr>\n",
              "  </tbody>\n",
              "</table>\n",
              "</div>"
            ],
            "text/plain": [
              "            India Confirmed Cases  Predicted Cases\n",
              "Dates                                             \n",
              "01/22/2020                      0              3.0\n",
              "01/23/2020                      0              3.0\n",
              "01/24/2020                      0              3.0\n",
              "01/25/2020                      0              3.0"
            ]
          },
          "metadata": {
            "tags": []
          },
          "execution_count": 105
        }
      ]
    },
    {
      "cell_type": "code",
      "metadata": {
        "id": "Lq_4p2TdPaQh",
        "colab_type": "code",
        "outputId": "5f5a7310-e249-417c-bd52-6636b971829e",
        "colab": {
          "base_uri": "https://localhost:8080/",
          "height": 700
        }
      },
      "source": [
        "df.tail(20)"
      ],
      "execution_count": 0,
      "outputs": [
        {
          "output_type": "execute_result",
          "data": {
            "text/html": [
              "<div>\n",
              "<style scoped>\n",
              "    .dataframe tbody tr th:only-of-type {\n",
              "        vertical-align: middle;\n",
              "    }\n",
              "\n",
              "    .dataframe tbody tr th {\n",
              "        vertical-align: top;\n",
              "    }\n",
              "\n",
              "    .dataframe thead th {\n",
              "        text-align: right;\n",
              "    }\n",
              "</style>\n",
              "<table border=\"1\" class=\"dataframe\">\n",
              "  <thead>\n",
              "    <tr style=\"text-align: right;\">\n",
              "      <th></th>\n",
              "      <th>India Confirmed Cases</th>\n",
              "      <th>Predicted Cases</th>\n",
              "    </tr>\n",
              "    <tr>\n",
              "      <th>Dates</th>\n",
              "      <th></th>\n",
              "      <th></th>\n",
              "    </tr>\n",
              "  </thead>\n",
              "  <tbody>\n",
              "    <tr>\n",
              "      <th>04/03/2020</th>\n",
              "      <td>2567</td>\n",
              "      <td>NaN</td>\n",
              "    </tr>\n",
              "    <tr>\n",
              "      <th>04/04/2020</th>\n",
              "      <td>3082</td>\n",
              "      <td>NaN</td>\n",
              "    </tr>\n",
              "    <tr>\n",
              "      <th>04/05/2020</th>\n",
              "      <td>3588</td>\n",
              "      <td>NaN</td>\n",
              "    </tr>\n",
              "    <tr>\n",
              "      <th>04/06/2020</th>\n",
              "      <td>4778</td>\n",
              "      <td>NaN</td>\n",
              "    </tr>\n",
              "    <tr>\n",
              "      <th>04/07/2020</th>\n",
              "      <td>5311</td>\n",
              "      <td>NaN</td>\n",
              "    </tr>\n",
              "    <tr>\n",
              "      <th>04/08/2020</th>\n",
              "      <td>5916</td>\n",
              "      <td>NaN</td>\n",
              "    </tr>\n",
              "    <tr>\n",
              "      <th>04/09/2020</th>\n",
              "      <td>6725</td>\n",
              "      <td>NaN</td>\n",
              "    </tr>\n",
              "    <tr>\n",
              "      <th>04/10/2020</th>\n",
              "      <td>7598</td>\n",
              "      <td>NaN</td>\n",
              "    </tr>\n",
              "    <tr>\n",
              "      <th>04/11/2020</th>\n",
              "      <td>8446</td>\n",
              "      <td>NaN</td>\n",
              "    </tr>\n",
              "    <tr>\n",
              "      <th>04/12/2020</th>\n",
              "      <td>9205</td>\n",
              "      <td>NaN</td>\n",
              "    </tr>\n",
              "    <tr>\n",
              "      <th>04/13/2020</th>\n",
              "      <td>10453</td>\n",
              "      <td>NaN</td>\n",
              "    </tr>\n",
              "    <tr>\n",
              "      <th>04/14/2020</th>\n",
              "      <td>11487</td>\n",
              "      <td>NaN</td>\n",
              "    </tr>\n",
              "    <tr>\n",
              "      <th>04/15/2020</th>\n",
              "      <td>12322</td>\n",
              "      <td>NaN</td>\n",
              "    </tr>\n",
              "    <tr>\n",
              "      <th>04/16/2020</th>\n",
              "      <td>13430</td>\n",
              "      <td>NaN</td>\n",
              "    </tr>\n",
              "    <tr>\n",
              "      <th>04/17/2020</th>\n",
              "      <td>14352</td>\n",
              "      <td>NaN</td>\n",
              "    </tr>\n",
              "    <tr>\n",
              "      <th>04/18/2020</th>\n",
              "      <td>15722</td>\n",
              "      <td>NaN</td>\n",
              "    </tr>\n",
              "    <tr>\n",
              "      <th>04/19/2020</th>\n",
              "      <td>17615</td>\n",
              "      <td>NaN</td>\n",
              "    </tr>\n",
              "    <tr>\n",
              "      <th>04/20/2020</th>\n",
              "      <td>18539</td>\n",
              "      <td>NaN</td>\n",
              "    </tr>\n",
              "    <tr>\n",
              "      <th>04/21/2020</th>\n",
              "      <td>20080</td>\n",
              "      <td>NaN</td>\n",
              "    </tr>\n",
              "    <tr>\n",
              "      <th>04/22/2020</th>\n",
              "      <td>21370</td>\n",
              "      <td>NaN</td>\n",
              "    </tr>\n",
              "  </tbody>\n",
              "</table>\n",
              "</div>"
            ],
            "text/plain": [
              "            India Confirmed Cases  Predicted Cases\n",
              "Dates                                             \n",
              "04/03/2020                   2567              NaN\n",
              "04/04/2020                   3082              NaN\n",
              "04/05/2020                   3588              NaN\n",
              "04/06/2020                   4778              NaN\n",
              "04/07/2020                   5311              NaN\n",
              "04/08/2020                   5916              NaN\n",
              "04/09/2020                   6725              NaN\n",
              "04/10/2020                   7598              NaN\n",
              "04/11/2020                   8446              NaN\n",
              "04/12/2020                   9205              NaN\n",
              "04/13/2020                  10453              NaN\n",
              "04/14/2020                  11487              NaN\n",
              "04/15/2020                  12322              NaN\n",
              "04/16/2020                  13430              NaN\n",
              "04/17/2020                  14352              NaN\n",
              "04/18/2020                  15722              NaN\n",
              "04/19/2020                  17615              NaN\n",
              "04/20/2020                  18539              NaN\n",
              "04/21/2020                  20080              NaN\n",
              "04/22/2020                  21370              NaN"
            ]
          },
          "metadata": {
            "tags": []
          },
          "execution_count": 106
        }
      ]
    },
    {
      "cell_type": "code",
      "metadata": {
        "id": "dBJojLg2Pmqm",
        "colab_type": "code",
        "outputId": "18ff4c45-96c1-42f6-8e9d-be015aa44711",
        "colab": {
          "base_uri": "https://localhost:8080/",
          "height": 1000
        }
      },
      "source": [
        "X = np.array(df.drop(['Predicted Cases'], 1))[:-future_days]\n",
        "print(X)"
      ],
      "execution_count": 0,
      "outputs": [
        {
          "output_type": "stream",
          "text": [
            "[[  0]\n",
            " [  0]\n",
            " [  0]\n",
            " [  0]\n",
            " [  0]\n",
            " [  0]\n",
            " [  0]\n",
            " [  0]\n",
            " [  1]\n",
            " [  1]\n",
            " [  1]\n",
            " [  2]\n",
            " [  3]\n",
            " [  3]\n",
            " [  3]\n",
            " [  3]\n",
            " [  3]\n",
            " [  3]\n",
            " [  3]\n",
            " [  3]\n",
            " [  3]\n",
            " [  3]\n",
            " [  3]\n",
            " [  3]\n",
            " [  3]\n",
            " [  3]\n",
            " [  3]\n",
            " [  3]\n",
            " [  3]\n",
            " [  3]\n",
            " [  3]\n",
            " [  3]\n",
            " [  3]\n",
            " [  3]\n",
            " [  3]\n",
            " [  3]\n",
            " [  3]\n",
            " [  3]\n",
            " [  3]\n",
            " [  3]\n",
            " [  5]\n",
            " [  5]\n",
            " [ 28]\n",
            " [ 30]\n",
            " [ 31]\n",
            " [ 34]\n",
            " [ 39]\n",
            " [ 43]\n",
            " [ 56]\n",
            " [ 62]\n",
            " [ 73]\n",
            " [ 82]\n",
            " [102]\n",
            " [113]\n",
            " [119]\n",
            " [142]\n",
            " [156]\n",
            " [194]\n",
            " [244]\n",
            " [330]\n",
            " [396]\n",
            " [499]\n",
            " [536]\n",
            " [657]\n",
            " [727]\n",
            " [887]\n",
            " [987]]\n"
          ],
          "name": "stdout"
        }
      ]
    },
    {
      "cell_type": "code",
      "metadata": {
        "id": "-ztJYcsaQ6qt",
        "colab_type": "code",
        "outputId": "8cc0d878-0e6d-46f8-8d7c-3d95dd4fffb8",
        "colab": {
          "base_uri": "https://localhost:8080/",
          "height": 221
        }
      },
      "source": [
        "y = np.array(df['Predicted Cases'])[:-future_days]\n",
        "print(y)"
      ],
      "execution_count": 0,
      "outputs": [
        {
          "output_type": "stream",
          "text": [
            "[3.0000e+00 3.0000e+00 3.0000e+00 3.0000e+00 3.0000e+00 3.0000e+00\n",
            " 3.0000e+00 3.0000e+00 3.0000e+00 3.0000e+00 3.0000e+00 3.0000e+00\n",
            " 3.0000e+00 3.0000e+00 3.0000e+00 5.0000e+00 5.0000e+00 2.8000e+01\n",
            " 3.0000e+01 3.1000e+01 3.4000e+01 3.9000e+01 4.3000e+01 5.6000e+01\n",
            " 6.2000e+01 7.3000e+01 8.2000e+01 1.0200e+02 1.1300e+02 1.1900e+02\n",
            " 1.4200e+02 1.5600e+02 1.9400e+02 2.4400e+02 3.3000e+02 3.9600e+02\n",
            " 4.9900e+02 5.3600e+02 6.5700e+02 7.2700e+02 8.8700e+02 9.8700e+02\n",
            " 1.0240e+03 1.2510e+03 1.3970e+03 1.9980e+03 2.5430e+03 2.5670e+03\n",
            " 3.0820e+03 3.5880e+03 4.7780e+03 5.3110e+03 5.9160e+03 6.7250e+03\n",
            " 7.5980e+03 8.4460e+03 9.2050e+03 1.0453e+04 1.1487e+04 1.2322e+04\n",
            " 1.3430e+04 1.4352e+04 1.5722e+04 1.7615e+04 1.8539e+04 2.0080e+04\n",
            " 2.1370e+04]\n"
          ],
          "name": "stdout"
        }
      ]
    },
    {
      "cell_type": "code",
      "metadata": {
        "id": "fGN9tyk-Th_3",
        "colab_type": "code",
        "colab": {}
      },
      "source": [
        "x_train, x_test, y_train, y_test = train_test_split(X, y, test_size = 0.25)\n"
      ],
      "execution_count": 0,
      "outputs": []
    },
    {
      "cell_type": "code",
      "metadata": {
        "id": "ysK5qsIHUT8g",
        "colab_type": "code",
        "colab": {}
      },
      "source": [
        "tree = DecisionTreeRegressor().fit(x_train, y_train)\n",
        "lr = LinearRegression().fit(x_train, y_train)"
      ],
      "execution_count": 0,
      "outputs": []
    },
    {
      "cell_type": "code",
      "metadata": {
        "id": "RrvRuufqUnOe",
        "colab_type": "code",
        "outputId": "56bfb1d3-94fe-4747-9153-c537a25ba2e5",
        "colab": {
          "base_uri": "https://localhost:8080/",
          "height": 442
        }
      },
      "source": [
        "x_future = df.drop(['Predicted Cases'], 1)[:-future_days]\n",
        "x_future = x_future.tail(future_days)\n",
        "x_future = np.array(x_future)\n",
        "x_future"
      ],
      "execution_count": 0,
      "outputs": [
        {
          "output_type": "execute_result",
          "data": {
            "text/plain": [
              "array([[ 28],\n",
              "       [ 30],\n",
              "       [ 31],\n",
              "       [ 34],\n",
              "       [ 39],\n",
              "       [ 43],\n",
              "       [ 56],\n",
              "       [ 62],\n",
              "       [ 73],\n",
              "       [ 82],\n",
              "       [102],\n",
              "       [113],\n",
              "       [119],\n",
              "       [142],\n",
              "       [156],\n",
              "       [194],\n",
              "       [244],\n",
              "       [330],\n",
              "       [396],\n",
              "       [499],\n",
              "       [536],\n",
              "       [657],\n",
              "       [727],\n",
              "       [887],\n",
              "       [987]])"
            ]
          },
          "metadata": {
            "tags": []
          },
          "execution_count": 111
        }
      ]
    },
    {
      "cell_type": "code",
      "metadata": {
        "id": "aHRneIw7VbYN",
        "colab_type": "code",
        "outputId": "cd557a51-e3b6-41e8-e527-8c71eb4c0068",
        "colab": {
          "base_uri": "https://localhost:8080/",
          "height": 204
        }
      },
      "source": [
        "tree_predictions = tree.predict(x_future)\n",
        "print(tree_predictions)\n",
        "print()\n",
        "lr_predictions = lr.predict(x_future)\n",
        "print(lr_predictions)"
      ],
      "execution_count": 0,
      "outputs": [
        {
          "output_type": "stream",
          "text": [
            "[ 1251.  1251.  1397.  1397.  2543.  2567.  3082.  3082.  4778.  4778.\n",
            "  6725.  6725.  7598.  8446.  9205. 10453. 10453. 12322. 12322. 14352.\n",
            " 15722. 17615. 18539. 20080. 20080.]\n",
            "\n",
            "[ 1499.51390768  1552.05455057  1578.32487201  1657.13583633\n",
            "  1788.48744354  1893.56872931  2235.08290806  2392.70483671\n",
            "  2681.67837257  2918.11126555  3443.51769439  3732.49123025\n",
            "  3890.1131589   4494.33055207  4862.11505226  5860.38726705\n",
            "  7173.90333915  9433.15098317 11166.99219834 13872.83530686\n",
            " 14844.83720022 18023.5460947  19862.46859564 24065.72002636\n",
            " 26692.75217056]\n"
          ],
          "name": "stdout"
        }
      ]
    },
    {
      "cell_type": "code",
      "metadata": {
        "id": "6osrr3d3VqPe",
        "colab_type": "code",
        "outputId": "daa3b4f9-81bd-4b7d-df1b-a3ec954b6919",
        "colab": {
          "base_uri": "https://localhost:8080/",
          "height": 635
        }
      },
      "source": [
        "predictions = tree_predictions\n",
        "\n",
        "valid = df[X.shape[0]:]\n",
        "valid['Predicted Cases'] = predictions\n",
        "\n",
        "plt.figure(figsize=(16,8))\n",
        "plt.title('Model')\n",
        "plt.xlabel('Dates')\n",
        "plt.ylabel('Predicted Cases')\n",
        "plt.plot(df['India Confirmed Cases'])\n",
        "plt.plot(valid['India Confirmed Cases'])\n",
        "plt.plot(valid['Predicted Cases'])\n",
        "plt.legend(['Orig', 'Val', 'Pred'])\n",
        "plt.show()\n"
      ],
      "execution_count": 0,
      "outputs": [
        {
          "output_type": "stream",
          "text": [
            "/usr/local/lib/python3.6/dist-packages/ipykernel_launcher.py:4: SettingWithCopyWarning: \n",
            "A value is trying to be set on a copy of a slice from a DataFrame.\n",
            "Try using .loc[row_indexer,col_indexer] = value instead\n",
            "\n",
            "See the caveats in the documentation: https://pandas.pydata.org/pandas-docs/stable/user_guide/indexing.html#returning-a-view-versus-a-copy\n",
            "  after removing the cwd from sys.path.\n"
          ],
          "name": "stderr"
        },
        {
          "output_type": "display_data",
          "data": {
            "image/png": "[encoded data removed]",
            "text/plain": [
              "<Figure size 1152x576 with 1 Axes>"
            ]
          },
          "metadata": {
            "tags": [],
            "needs_background": "light"
          }
        }
      ]
    },
    {
      "cell_type": "code",
      "metadata": {
        "id": "LIeCTaIFQ1JC",
        "colab_type": "code",
        "outputId": "063840a6-b1d6-4bf9-8890-e57cf5c4370e",
        "colab": {
          "base_uri": "https://localhost:8080/",
          "height": 855
        }
      },
      "source": [
        "valid"
      ],
      "execution_count": 0,
      "outputs": [
        {
          "output_type": "execute_result",
          "data": {
            "text/html": [
              "<div>\n",
              "<style scoped>\n",
              "    .dataframe tbody tr th:only-of-type {\n",
              "        vertical-align: middle;\n",
              "    }\n",
              "\n",
              "    .dataframe tbody tr th {\n",
              "        vertical-align: top;\n",
              "    }\n",
              "\n",
              "    .dataframe thead th {\n",
              "        text-align: right;\n",
              "    }\n",
              "</style>\n",
              "<table border=\"1\" class=\"dataframe\">\n",
              "  <thead>\n",
              "    <tr style=\"text-align: right;\">\n",
              "      <th></th>\n",
              "      <th>India Confirmed Cases</th>\n",
              "      <th>Predicted Cases</th>\n",
              "    </tr>\n",
              "    <tr>\n",
              "      <th>Dates</th>\n",
              "      <th></th>\n",
              "      <th></th>\n",
              "    </tr>\n",
              "  </thead>\n",
              "  <tbody>\n",
              "    <tr>\n",
              "      <th>03/29/2020</th>\n",
              "      <td>1024</td>\n",
              "      <td>1251.0</td>\n",
              "    </tr>\n",
              "    <tr>\n",
              "      <th>03/30/2020</th>\n",
              "      <td>1251</td>\n",
              "      <td>1251.0</td>\n",
              "    </tr>\n",
              "    <tr>\n",
              "      <th>03/31/2020</th>\n",
              "      <td>1397</td>\n",
              "      <td>1397.0</td>\n",
              "    </tr>\n",
              "    <tr>\n",
              "      <th>04/01/2020</th>\n",
              "      <td>1998</td>\n",
              "      <td>1397.0</td>\n",
              "    </tr>\n",
              "    <tr>\n",
              "      <th>04/02/2020</th>\n",
              "      <td>2543</td>\n",
              "      <td>2543.0</td>\n",
              "    </tr>\n",
              "    <tr>\n",
              "      <th>04/03/2020</th>\n",
              "      <td>2567</td>\n",
              "      <td>2567.0</td>\n",
              "    </tr>\n",
              "    <tr>\n",
              "      <th>04/04/2020</th>\n",
              "      <td>3082</td>\n",
              "      <td>3082.0</td>\n",
              "    </tr>\n",
              "    <tr>\n",
              "      <th>04/05/2020</th>\n",
              "      <td>3588</td>\n",
              "      <td>3082.0</td>\n",
              "    </tr>\n",
              "    <tr>\n",
              "      <th>04/06/2020</th>\n",
              "      <td>4778</td>\n",
              "      <td>4778.0</td>\n",
              "    </tr>\n",
              "    <tr>\n",
              "      <th>04/07/2020</th>\n",
              "      <td>5311</td>\n",
              "      <td>4778.0</td>\n",
              "    </tr>\n",
              "    <tr>\n",
              "      <th>04/08/2020</th>\n",
              "      <td>5916</td>\n",
              "      <td>6725.0</td>\n",
              "    </tr>\n",
              "    <tr>\n",
              "      <th>04/09/2020</th>\n",
              "      <td>6725</td>\n",
              "      <td>6725.0</td>\n",
              "    </tr>\n",
              "    <tr>\n",
              "      <th>04/10/2020</th>\n",
              "      <td>7598</td>\n",
              "      <td>7598.0</td>\n",
              "    </tr>\n",
              "    <tr>\n",
              "      <th>04/11/2020</th>\n",
              "      <td>8446</td>\n",
              "      <td>8446.0</td>\n",
              "    </tr>\n",
              "    <tr>\n",
              "      <th>04/12/2020</th>\n",
              "      <td>9205</td>\n",
              "      <td>9205.0</td>\n",
              "    </tr>\n",
              "    <tr>\n",
              "      <th>04/13/2020</th>\n",
              "      <td>10453</td>\n",
              "      <td>10453.0</td>\n",
              "    </tr>\n",
              "    <tr>\n",
              "      <th>04/14/2020</th>\n",
              "      <td>11487</td>\n",
              "      <td>10453.0</td>\n",
              "    </tr>\n",
              "    <tr>\n",
              "      <th>04/15/2020</th>\n",
              "      <td>12322</td>\n",
              "      <td>12322.0</td>\n",
              "    </tr>\n",
              "    <tr>\n",
              "      <th>04/16/2020</th>\n",
              "      <td>13430</td>\n",
              "      <td>12322.0</td>\n",
              "    </tr>\n",
              "    <tr>\n",
              "      <th>04/17/2020</th>\n",
              "      <td>14352</td>\n",
              "      <td>14352.0</td>\n",
              "    </tr>\n",
              "    <tr>\n",
              "      <th>04/18/2020</th>\n",
              "      <td>15722</td>\n",
              "      <td>15722.0</td>\n",
              "    </tr>\n",
              "    <tr>\n",
              "      <th>04/19/2020</th>\n",
              "      <td>17615</td>\n",
              "      <td>17615.0</td>\n",
              "    </tr>\n",
              "    <tr>\n",
              "      <th>04/20/2020</th>\n",
              "      <td>18539</td>\n",
              "      <td>18539.0</td>\n",
              "    </tr>\n",
              "    <tr>\n",
              "      <th>04/21/2020</th>\n",
              "      <td>20080</td>\n",
              "      <td>20080.0</td>\n",
              "    </tr>\n",
              "    <tr>\n",
              "      <th>04/22/2020</th>\n",
              "      <td>21370</td>\n",
              "      <td>20080.0</td>\n",
              "    </tr>\n",
              "  </tbody>\n",
              "</table>\n",
              "</div>"
            ],
            "text/plain": [
              "            India Confirmed Cases  Predicted Cases\n",
              "Dates                                             \n",
              "03/29/2020                   1024           1251.0\n",
              "03/30/2020                   1251           1251.0\n",
              "03/31/2020                   1397           1397.0\n",
              "04/01/2020                   1998           1397.0\n",
              "04/02/2020                   2543           2543.0\n",
              "04/03/2020                   2567           2567.0\n",
              "04/04/2020                   3082           3082.0\n",
              "04/05/2020                   3588           3082.0\n",
              "04/06/2020                   4778           4778.0\n",
              "04/07/2020                   5311           4778.0\n",
              "04/08/2020                   5916           6725.0\n",
              "04/09/2020                   6725           6725.0\n",
              "04/10/2020                   7598           7598.0\n",
              "04/11/2020                   8446           8446.0\n",
              "04/12/2020                   9205           9205.0\n",
              "04/13/2020                  10453          10453.0\n",
              "04/14/2020                  11487          10453.0\n",
              "04/15/2020                  12322          12322.0\n",
              "04/16/2020                  13430          12322.0\n",
              "04/17/2020                  14352          14352.0\n",
              "04/18/2020                  15722          15722.0\n",
              "04/19/2020                  17615          17615.0\n",
              "04/20/2020                  18539          18539.0\n",
              "04/21/2020                  20080          20080.0\n",
              "04/22/2020                  21370          20080.0"
            ]
          },
          "metadata": {
            "tags": []
          },
          "execution_count": 114
        }
      ]
    },
    {
      "cell_type": "code",
      "metadata": {
        "id": "mcscwDMaQ9sy",
        "colab_type": "code",
        "outputId": "bc06eb4a-1227-43a2-f670-6d741ce1a0e4",
        "colab": {
          "base_uri": "https://localhost:8080/",
          "height": 34
        }
      },
      "source": [
        "from sklearn.metrics import r2_score\n",
        "score = r2_score(valid['India Confirmed Cases'], valid['Predicted Cases'])\n",
        "print(score)"
      ],
      "execution_count": 0,
      "outputs": [
        {
          "output_type": "stream",
          "text": [
            "0.9943145990826611\n"
          ],
          "name": "stdout"
        }
      ]
    },
    {
      "cell_type": "code",
      "metadata": {
        "id": "gUsHrbQSS-Ad",
        "colab_type": "code",
        "outputId": "bb131c52-129f-4556-b42b-2801845fbc2d",
        "colab": {
          "base_uri": "https://localhost:8080/",
          "height": 296
        }
      },
      "source": [
        "valid.plot()"
      ],
      "execution_count": 0,
      "outputs": [
        {
          "output_type": "execute_result",
          "data": {
            "text/plain": [
              "<matplotlib.axes._subplots.AxesSubplot at 0x7fc1966c6d68>"
            ]
          },
          "metadata": {
            "tags": []
          },
          "execution_count": 116
        },
        {
          "output_type": "display_data",
          "data": {
            "image/png": "[encoded data removed]",
            "text/plain": [
              "<Figure size 432x288 with 1 Axes>"
            ]
          },
          "metadata": {
            "tags": [],
            "needs_background": "light"
          }
        }
      ]
    },
    {
      "cell_type": "markdown",
      "metadata": {
        "id": "N_v3pHJWqoW9",
        "colab_type": "text"
      },
      "source": [
        ""
      ]
    },
    {
      "cell_type": "code",
      "metadata": {
        "id": "u1KkTYbaoogQ",
        "colab_type": "code",
        "outputId": "99e59c68-013a-4f68-a96d-12572865d3d7",
        "colab": {
          "base_uri": "https://localhost:8080/",
          "height": 390
        }
      },
      "source": [
        "df2= pd.read_csv('/content/drive/My Drive/COVID-19/COVID-19_Data/Total_cases_India.csv', index_col = 'Dates')\n",
        "df2 = df2.rename(columns={\"Confirmed Rcovered\": \"Confirmed Recovered\"})\n",
        "df2.head(10)"
      ],
      "execution_count": 0,
      "outputs": [
        {
          "output_type": "execute_result",
          "data": {
            "text/html": [
              "<div>\n",
              "<style scoped>\n",
              "    .dataframe tbody tr th:only-of-type {\n",
              "        vertical-align: middle;\n",
              "    }\n",
              "\n",
              "    .dataframe tbody tr th {\n",
              "        vertical-align: top;\n",
              "    }\n",
              "\n",
              "    .dataframe thead th {\n",
              "        text-align: right;\n",
              "    }\n",
              "</style>\n",
              "<table border=\"1\" class=\"dataframe\">\n",
              "  <thead>\n",
              "    <tr style=\"text-align: right;\">\n",
              "      <th></th>\n",
              "      <th>India Confirmed Cases</th>\n",
              "      <th>Confirmed Deaths</th>\n",
              "      <th>Confirmed Recovered</th>\n",
              "    </tr>\n",
              "    <tr>\n",
              "      <th>Dates</th>\n",
              "      <th></th>\n",
              "      <th></th>\n",
              "      <th></th>\n",
              "    </tr>\n",
              "  </thead>\n",
              "  <tbody>\n",
              "    <tr>\n",
              "      <th>01/22/2020</th>\n",
              "      <td>0</td>\n",
              "      <td>0</td>\n",
              "      <td>0</td>\n",
              "    </tr>\n",
              "    <tr>\n",
              "      <th>01/23/2020</th>\n",
              "      <td>0</td>\n",
              "      <td>0</td>\n",
              "      <td>0</td>\n",
              "    </tr>\n",
              "    <tr>\n",
              "      <th>01/24/2020</th>\n",
              "      <td>0</td>\n",
              "      <td>0</td>\n",
              "      <td>0</td>\n",
              "    </tr>\n",
              "    <tr>\n",
              "      <th>01/25/2020</th>\n",
              "      <td>0</td>\n",
              "      <td>0</td>\n",
              "      <td>0</td>\n",
              "    </tr>\n",
              "    <tr>\n",
              "      <th>01/26/2020</th>\n",
              "      <td>0</td>\n",
              "      <td>0</td>\n",
              "      <td>0</td>\n",
              "    </tr>\n",
              "    <tr>\n",
              "      <th>01/27/2020</th>\n",
              "      <td>0</td>\n",
              "      <td>0</td>\n",
              "      <td>0</td>\n",
              "    </tr>\n",
              "    <tr>\n",
              "      <th>01/28/2020</th>\n",
              "      <td>0</td>\n",
              "      <td>0</td>\n",
              "      <td>0</td>\n",
              "    </tr>\n",
              "    <tr>\n",
              "      <th>01/29/2020</th>\n",
              "      <td>0</td>\n",
              "      <td>0</td>\n",
              "      <td>0</td>\n",
              "    </tr>\n",
              "    <tr>\n",
              "      <th>01/30/2020</th>\n",
              "      <td>1</td>\n",
              "      <td>0</td>\n",
              "      <td>0</td>\n",
              "    </tr>\n",
              "    <tr>\n",
              "      <th>01/31/2020</th>\n",
              "      <td>1</td>\n",
              "      <td>0</td>\n",
              "      <td>0</td>\n",
              "    </tr>\n",
              "  </tbody>\n",
              "</table>\n",
              "</div>"
            ],
            "text/plain": [
              "            India Confirmed Cases  Confirmed Deaths  Confirmed Recovered\n",
              "Dates                                                                   \n",
              "01/22/2020                      0                 0                    0\n",
              "01/23/2020                      0                 0                    0\n",
              "01/24/2020                      0                 0                    0\n",
              "01/25/2020                      0                 0                    0\n",
              "01/26/2020                      0                 0                    0\n",
              "01/27/2020                      0                 0                    0\n",
              "01/28/2020                      0                 0                    0\n",
              "01/29/2020                      0                 0                    0\n",
              "01/30/2020                      1                 0                    0\n",
              "01/31/2020                      1                 0                    0"
            ]
          },
          "metadata": {
            "tags": []
          },
          "execution_count": 117
        }
      ]
    },
    {
      "cell_type": "code",
      "metadata": {
        "id": "wXjiNHbFo2Wf",
        "colab_type": "code",
        "colab": {}
      },
      "source": [
        "df2 = df2[['Confirmed Deaths']]"
      ],
      "execution_count": 0,
      "outputs": []
    },
    {
      "cell_type": "code",
      "metadata": {
        "id": "B6lKm6KYo5DR",
        "colab_type": "code",
        "outputId": "3dedc258-8ead-42b4-f861-cb008600f42c",
        "colab": {
          "base_uri": "https://localhost:8080/",
          "height": 235
        }
      },
      "source": [
        "df2.head()"
      ],
      "execution_count": 0,
      "outputs": [
        {
          "output_type": "execute_result",
          "data": {
            "text/html": [
              "<div>\n",
              "<style scoped>\n",
              "    .dataframe tbody tr th:only-of-type {\n",
              "        vertical-align: middle;\n",
              "    }\n",
              "\n",
              "    .dataframe tbody tr th {\n",
              "        vertical-align: top;\n",
              "    }\n",
              "\n",
              "    .dataframe thead th {\n",
              "        text-align: right;\n",
              "    }\n",
              "</style>\n",
              "<table border=\"1\" class=\"dataframe\">\n",
              "  <thead>\n",
              "    <tr style=\"text-align: right;\">\n",
              "      <th></th>\n",
              "      <th>Confirmed Deaths</th>\n",
              "    </tr>\n",
              "    <tr>\n",
              "      <th>Dates</th>\n",
              "      <th></th>\n",
              "    </tr>\n",
              "  </thead>\n",
              "  <tbody>\n",
              "    <tr>\n",
              "      <th>01/22/2020</th>\n",
              "      <td>0</td>\n",
              "    </tr>\n",
              "    <tr>\n",
              "      <th>01/23/2020</th>\n",
              "      <td>0</td>\n",
              "    </tr>\n",
              "    <tr>\n",
              "      <th>01/24/2020</th>\n",
              "      <td>0</td>\n",
              "    </tr>\n",
              "    <tr>\n",
              "      <th>01/25/2020</th>\n",
              "      <td>0</td>\n",
              "    </tr>\n",
              "    <tr>\n",
              "      <th>01/26/2020</th>\n",
              "      <td>0</td>\n",
              "    </tr>\n",
              "  </tbody>\n",
              "</table>\n",
              "</div>"
            ],
            "text/plain": [
              "            Confirmed Deaths\n",
              "Dates                       \n",
              "01/22/2020                 0\n",
              "01/23/2020                 0\n",
              "01/24/2020                 0\n",
              "01/25/2020                 0\n",
              "01/26/2020                 0"
            ]
          },
          "metadata": {
            "tags": []
          },
          "execution_count": 119
        }
      ]
    },
    {
      "cell_type": "code",
      "metadata": {
        "id": "b4pVTMhfo7gp",
        "colab_type": "code",
        "outputId": "7d0b47d4-c67b-4c4a-ef2c-89e1a9938948",
        "colab": {
          "base_uri": "https://localhost:8080/",
          "height": 204
        }
      },
      "source": [
        "future_days_deaths = 25\n",
        "df2['Predicted Deaths'] = df2[['Confirmed Deaths']].shift(-future_days_deaths)\n",
        "df2.tail(4)"
      ],
      "execution_count": 0,
      "outputs": [
        {
          "output_type": "execute_result",
          "data": {
            "text/html": [
              "<div>\n",
              "<style scoped>\n",
              "    .dataframe tbody tr th:only-of-type {\n",
              "        vertical-align: middle;\n",
              "    }\n",
              "\n",
              "    .dataframe tbody tr th {\n",
              "        vertical-align: top;\n",
              "    }\n",
              "\n",
              "    .dataframe thead th {\n",
              "        text-align: right;\n",
              "    }\n",
              "</style>\n",
              "<table border=\"1\" class=\"dataframe\">\n",
              "  <thead>\n",
              "    <tr style=\"text-align: right;\">\n",
              "      <th></th>\n",
              "      <th>Confirmed Deaths</th>\n",
              "      <th>Predicted Deaths</th>\n",
              "    </tr>\n",
              "    <tr>\n",
              "      <th>Dates</th>\n",
              "      <th></th>\n",
              "      <th></th>\n",
              "    </tr>\n",
              "  </thead>\n",
              "  <tbody>\n",
              "    <tr>\n",
              "      <th>04/19/2020</th>\n",
              "      <td>559</td>\n",
              "      <td>NaN</td>\n",
              "    </tr>\n",
              "    <tr>\n",
              "      <th>04/20/2020</th>\n",
              "      <td>592</td>\n",
              "      <td>NaN</td>\n",
              "    </tr>\n",
              "    <tr>\n",
              "      <th>04/21/2020</th>\n",
              "      <td>645</td>\n",
              "      <td>NaN</td>\n",
              "    </tr>\n",
              "    <tr>\n",
              "      <th>04/22/2020</th>\n",
              "      <td>681</td>\n",
              "      <td>NaN</td>\n",
              "    </tr>\n",
              "  </tbody>\n",
              "</table>\n",
              "</div>"
            ],
            "text/plain": [
              "            Confirmed Deaths  Predicted Deaths\n",
              "Dates                                         \n",
              "04/19/2020               559               NaN\n",
              "04/20/2020               592               NaN\n",
              "04/21/2020               645               NaN\n",
              "04/22/2020               681               NaN"
            ]
          },
          "metadata": {
            "tags": []
          },
          "execution_count": 120
        }
      ]
    },
    {
      "cell_type": "code",
      "metadata": {
        "id": "9TymVp_SpHWg",
        "colab_type": "code",
        "outputId": "7b60d414-4b03-4b16-88e0-cee5514d7f84",
        "colab": {
          "base_uri": "https://localhost:8080/",
          "height": 296
        }
      },
      "source": [
        "df2['Confirmed Deaths'].plot()"
      ],
      "execution_count": 0,
      "outputs": [
        {
          "output_type": "execute_result",
          "data": {
            "text/plain": [
              "<matplotlib.axes._subplots.AxesSubplot at 0x7fc196c56748>"
            ]
          },
          "metadata": {
            "tags": []
          },
          "execution_count": 121
        },
        {
          "output_type": "display_data",
          "data": {
            "image/png": "[encoded data removed]",
            "text/plain": [
              "<Figure size 432x288 with 1 Axes>"
            ]
          },
          "metadata": {
            "tags": [],
            "needs_background": "light"
          }
        }
      ]
    },
    {
      "cell_type": "code",
      "metadata": {
        "id": "0vLGqqbppLMO",
        "colab_type": "code",
        "outputId": "87515b91-4d22-43a2-f3e0-7bb2058c5829",
        "colab": {
          "base_uri": "https://localhost:8080/",
          "height": 1000
        }
      },
      "source": [
        "X1 = np.array(df2.drop(['Predicted Deaths'], 1))[:-future_days_deaths]\n",
        "print(X1)"
      ],
      "execution_count": 0,
      "outputs": [
        {
          "output_type": "stream",
          "text": [
            "[[ 0]\n",
            " [ 0]\n",
            " [ 0]\n",
            " [ 0]\n",
            " [ 0]\n",
            " [ 0]\n",
            " [ 0]\n",
            " [ 0]\n",
            " [ 0]\n",
            " [ 0]\n",
            " [ 0]\n",
            " [ 0]\n",
            " [ 0]\n",
            " [ 0]\n",
            " [ 0]\n",
            " [ 0]\n",
            " [ 0]\n",
            " [ 0]\n",
            " [ 0]\n",
            " [ 0]\n",
            " [ 0]\n",
            " [ 0]\n",
            " [ 0]\n",
            " [ 0]\n",
            " [ 0]\n",
            " [ 0]\n",
            " [ 0]\n",
            " [ 0]\n",
            " [ 0]\n",
            " [ 0]\n",
            " [ 0]\n",
            " [ 0]\n",
            " [ 0]\n",
            " [ 0]\n",
            " [ 0]\n",
            " [ 0]\n",
            " [ 0]\n",
            " [ 0]\n",
            " [ 0]\n",
            " [ 0]\n",
            " [ 0]\n",
            " [ 0]\n",
            " [ 0]\n",
            " [ 0]\n",
            " [ 0]\n",
            " [ 0]\n",
            " [ 0]\n",
            " [ 0]\n",
            " [ 0]\n",
            " [ 1]\n",
            " [ 1]\n",
            " [ 2]\n",
            " [ 2]\n",
            " [ 2]\n",
            " [ 2]\n",
            " [ 3]\n",
            " [ 3]\n",
            " [ 4]\n",
            " [ 5]\n",
            " [ 4]\n",
            " [ 7]\n",
            " [10]\n",
            " [10]\n",
            " [12]\n",
            " [20]\n",
            " [20]\n",
            " [24]]\n"
          ],
          "name": "stdout"
        }
      ]
    },
    {
      "cell_type": "code",
      "metadata": {
        "id": "pzFe6lEcpV8j",
        "colab_type": "code",
        "outputId": "6c8e25f5-44b6-4703-abeb-fd15d83ba9e4",
        "colab": {
          "base_uri": "https://localhost:8080/",
          "height": 102
        }
      },
      "source": [
        "y1 = np.array(df2['Predicted Deaths'])[:-future_days_deaths]\n",
        "print(y1)"
      ],
      "execution_count": 0,
      "outputs": [
        {
          "output_type": "stream",
          "text": [
            "[  0.   0.   0.   0.   0.   0.   0.   0.   0.   0.   0.   0.   0.   0.\n",
            "   0.   0.   0.   0.   0.   0.   0.   0.   0.   0.   1.   1.   2.   2.\n",
            "   2.   2.   3.   3.   4.   5.   4.   7.  10.  10.  12.  20.  20.  24.\n",
            "  27.  32.  35.  58.  72.  72.  86.  99. 136. 150. 178. 226. 246. 288.\n",
            " 331. 358. 393. 405. 448. 486. 521. 559. 592. 645. 681.]\n"
          ],
          "name": "stdout"
        }
      ]
    },
    {
      "cell_type": "code",
      "metadata": {
        "id": "vsp7Cjnjpflz",
        "colab_type": "code",
        "colab": {}
      },
      "source": [
        "x_train2, x_test2, y_train2, y_test2 = train_test_split(X1, y1, test_size = 0.25)\n"
      ],
      "execution_count": 0,
      "outputs": []
    },
    {
      "cell_type": "code",
      "metadata": {
        "id": "J5hJE6U4pppI",
        "colab_type": "code",
        "colab": {}
      },
      "source": [
        "tree2 = DecisionTreeRegressor().fit(x_train2, y_train2)\n",
        "lr2 = LinearRegression().fit(x_train2, y_train2)"
      ],
      "execution_count": 0,
      "outputs": []
    },
    {
      "cell_type": "code",
      "metadata": {
        "id": "BqvwX4MepyP0",
        "colab_type": "code",
        "outputId": "b970143d-b7bf-4a40-f288-403a8a86fe47",
        "colab": {
          "base_uri": "https://localhost:8080/",
          "height": 442
        }
      },
      "source": [
        "x_future2 = df2.drop(['Predicted Deaths'], 1)[:-future_days_deaths]\n",
        "x_future2 = x_future2.tail(future_days_deaths)\n",
        "x_future2 = np.array(x_future2)\n",
        "x_future2"
      ],
      "execution_count": 0,
      "outputs": [
        {
          "output_type": "execute_result",
          "data": {
            "text/plain": [
              "array([[ 0],\n",
              "       [ 0],\n",
              "       [ 0],\n",
              "       [ 0],\n",
              "       [ 0],\n",
              "       [ 0],\n",
              "       [ 0],\n",
              "       [ 1],\n",
              "       [ 1],\n",
              "       [ 2],\n",
              "       [ 2],\n",
              "       [ 2],\n",
              "       [ 2],\n",
              "       [ 3],\n",
              "       [ 3],\n",
              "       [ 4],\n",
              "       [ 5],\n",
              "       [ 4],\n",
              "       [ 7],\n",
              "       [10],\n",
              "       [10],\n",
              "       [12],\n",
              "       [20],\n",
              "       [20],\n",
              "       [24]])"
            ]
          },
          "metadata": {
            "tags": []
          },
          "execution_count": 126
        }
      ]
    },
    {
      "cell_type": "code",
      "metadata": {
        "id": "TrrKGYD6p9A1",
        "colab_type": "code",
        "outputId": "923ad523-cecc-4ca9-82e2-78f006dc22ca",
        "colab": {
          "base_uri": "https://localhost:8080/",
          "height": 204
        }
      },
      "source": [
        "tree_predictions2 = tree2.predict(x_future2)\n",
        "print(tree_predictions2)\n",
        "print()\n",
        "lr_predictions2 = lr2.predict(x_future2)\n",
        "print(lr_predictions2)"
      ],
      "execution_count": 0,
      "outputs": [
        {
          "output_type": "stream",
          "text": [
            "[ 11.18918919  11.18918919  11.18918919  11.18918919  11.18918919\n",
            "  11.18918919  11.18918919 117.5        117.5        191.33333333\n",
            " 191.33333333 191.33333333 191.33333333 331.         331.\n",
            " 358.         393.         358.         448.         486.\n",
            " 486.         559.         645.         645.         681.        ]\n",
            "\n",
            "[ 38.03794762  38.03794762  38.03794762  38.03794762  38.03794762\n",
            "  38.03794762  38.03794762  72.68421234  72.68421234 107.33047706\n",
            " 107.33047706 107.33047706 107.33047706 141.97674178 141.97674178\n",
            " 176.6230065  211.26927122 176.6230065  280.56180066 384.50059482\n",
            " 384.50059482 453.79312426 730.96324201 730.96324201 869.54830089]\n"
          ],
          "name": "stdout"
        }
      ]
    },
    {
      "cell_type": "code",
      "metadata": {
        "id": "p-6opNICqHbk",
        "colab_type": "code",
        "outputId": "5dbe0055-11ba-4826-debc-e387f76b3077",
        "colab": {
          "base_uri": "https://localhost:8080/",
          "height": 635
        }
      },
      "source": [
        "predictions2 = tree_predictions2\n",
        "\n",
        "valid2 = df2[X1.shape[0]:]\n",
        "valid2['Predicted Deaths'] = predictions2\n",
        "\n",
        "plt.figure(figsize=(16,8))\n",
        "plt.title('Model')\n",
        "plt.xlabel('Dates')\n",
        "plt.ylabel('Predicted Cases')\n",
        "plt.plot(df2['Confirmed Deaths'])\n",
        "plt.plot(valid2['Confirmed Deaths'])\n",
        "plt.plot(valid2['Predicted Deaths'])\n",
        "plt.legend(['Orig', 'Val', 'Pred'])\n",
        "plt.show()\n"
      ],
      "execution_count": 0,
      "outputs": [
        {
          "output_type": "stream",
          "text": [
            "/usr/local/lib/python3.6/dist-packages/ipykernel_launcher.py:4: SettingWithCopyWarning: \n",
            "A value is trying to be set on a copy of a slice from a DataFrame.\n",
            "Try using .loc[row_indexer,col_indexer] = value instead\n",
            "\n",
            "See the caveats in the documentation: https://pandas.pydata.org/pandas-docs/stable/user_guide/indexing.html#returning-a-view-versus-a-copy\n",
            "  after removing the cwd from sys.path.\n"
          ],
          "name": "stderr"
        },
        {
          "output_type": "display_data",
          "data": {
            "image/png": "[encoded data removed]",
            "text/plain": [
              "<Figure size 1152x576 with 1 Axes>"
            ]
          },
          "metadata": {
            "tags": [],
            "needs_background": "light"
          }
        }
      ]
    },
    {
      "cell_type": "code",
      "metadata": {
        "id": "4FZ6JT4fqfLH",
        "colab_type": "code",
        "outputId": "447aab47-486b-456f-f203-bd980c231182",
        "colab": {
          "base_uri": "https://localhost:8080/",
          "height": 34
        }
      },
      "source": [
        "from sklearn.metrics import r2_score\n",
        "score2 = r2_score(valid2['Confirmed Deaths'], valid2['Predicted Deaths'])\n",
        "print(score2)"
      ],
      "execution_count": 0,
      "outputs": [
        {
          "output_type": "stream",
          "text": [
            "0.9709861270459113\n"
          ],
          "name": "stdout"
        }
      ]
    },
    {
      "cell_type": "code",
      "metadata": {
        "id": "IubNRhywqv_j",
        "colab_type": "code",
        "outputId": "646f8b17-484f-4526-f80b-f9e9995e822e",
        "colab": {
          "base_uri": "https://localhost:8080/",
          "height": 296
        }
      },
      "source": [
        "valid2.plot()"
      ],
      "execution_count": 0,
      "outputs": [
        {
          "output_type": "execute_result",
          "data": {
            "text/plain": [
              "<matplotlib.axes._subplots.AxesSubplot at 0x7fc196ba0710>"
            ]
          },
          "metadata": {
            "tags": []
          },
          "execution_count": 130
        },
        {
          "output_type": "display_data",
          "data": {
            "image/png": "[encoded data removed]",
            "text/plain": [
              "<Figure size 432x288 with 1 Axes>"
            ]
          },
          "metadata": {
            "tags": [],
            "needs_background": "light"
          }
        }
      ]
    },
    {
      "cell_type": "code",
      "metadata": {
        "id": "tD6IvAA8q69C",
        "colab_type": "code",
        "outputId": "f09cf649-4ea7-4e45-b4ba-45bdb3b4d31a",
        "colab": {
          "base_uri": "https://localhost:8080/",
          "height": 235
        }
      },
      "source": [
        "df3 = pd.read_csv(\"/content/drive/My Drive/COVID-19/COVID-19_Data/Total_cases_India.csv\", index_col = 'Dates')\n",
        "df3 = df3.rename(columns={\"Confirmed Rcovered\": \"Confirmed Recovered\"})\n",
        "df3.head(5)"
      ],
      "execution_count": 0,
      "outputs": [
        {
          "output_type": "execute_result",
          "data": {
            "text/html": [
              "<div>\n",
              "<style scoped>\n",
              "    .dataframe tbody tr th:only-of-type {\n",
              "        vertical-align: middle;\n",
              "    }\n",
              "\n",
              "    .dataframe tbody tr th {\n",
              "        vertical-align: top;\n",
              "    }\n",
              "\n",
              "    .dataframe thead th {\n",
              "        text-align: right;\n",
              "    }\n",
              "</style>\n",
              "<table border=\"1\" class=\"dataframe\">\n",
              "  <thead>\n",
              "    <tr style=\"text-align: right;\">\n",
              "      <th></th>\n",
              "      <th>India Confirmed Cases</th>\n",
              "      <th>Confirmed Deaths</th>\n",
              "      <th>Confirmed Recovered</th>\n",
              "    </tr>\n",
              "    <tr>\n",
              "      <th>Dates</th>\n",
              "      <th></th>\n",
              "      <th></th>\n",
              "      <th></th>\n",
              "    </tr>\n",
              "  </thead>\n",
              "  <tbody>\n",
              "    <tr>\n",
              "      <th>01/22/2020</th>\n",
              "      <td>0</td>\n",
              "      <td>0</td>\n",
              "      <td>0</td>\n",
              "    </tr>\n",
              "    <tr>\n",
              "      <th>01/23/2020</th>\n",
              "      <td>0</td>\n",
              "      <td>0</td>\n",
              "      <td>0</td>\n",
              "    </tr>\n",
              "    <tr>\n",
              "      <th>01/24/2020</th>\n",
              "      <td>0</td>\n",
              "      <td>0</td>\n",
              "      <td>0</td>\n",
              "    </tr>\n",
              "    <tr>\n",
              "      <th>01/25/2020</th>\n",
              "      <td>0</td>\n",
              "      <td>0</td>\n",
              "      <td>0</td>\n",
              "    </tr>\n",
              "    <tr>\n",
              "      <th>01/26/2020</th>\n",
              "      <td>0</td>\n",
              "      <td>0</td>\n",
              "      <td>0</td>\n",
              "    </tr>\n",
              "  </tbody>\n",
              "</table>\n",
              "</div>"
            ],
            "text/plain": [
              "            India Confirmed Cases  Confirmed Deaths  Confirmed Recovered\n",
              "Dates                                                                   \n",
              "01/22/2020                      0                 0                    0\n",
              "01/23/2020                      0                 0                    0\n",
              "01/24/2020                      0                 0                    0\n",
              "01/25/2020                      0                 0                    0\n",
              "01/26/2020                      0                 0                    0"
            ]
          },
          "metadata": {
            "tags": []
          },
          "execution_count": 131
        }
      ]
    },
    {
      "cell_type": "code",
      "metadata": {
        "id": "uru1gx_Rrlw5",
        "colab_type": "code",
        "colab": {}
      },
      "source": [
        "df3 = df3[['Confirmed Recovered']]"
      ],
      "execution_count": 0,
      "outputs": []
    },
    {
      "cell_type": "code",
      "metadata": {
        "id": "8JeNcCL6rpPe",
        "colab_type": "code",
        "outputId": "c36e36ea-811c-45fb-c0c0-eef31a41aa29",
        "colab": {
          "base_uri": "https://localhost:8080/",
          "height": 235
        }
      },
      "source": [
        "df3.head()"
      ],
      "execution_count": 0,
      "outputs": [
        {
          "output_type": "execute_result",
          "data": {
            "text/html": [
              "<div>\n",
              "<style scoped>\n",
              "    .dataframe tbody tr th:only-of-type {\n",
              "        vertical-align: middle;\n",
              "    }\n",
              "\n",
              "    .dataframe tbody tr th {\n",
              "        vertical-align: top;\n",
              "    }\n",
              "\n",
              "    .dataframe thead th {\n",
              "        text-align: right;\n",
              "    }\n",
              "</style>\n",
              "<table border=\"1\" class=\"dataframe\">\n",
              "  <thead>\n",
              "    <tr style=\"text-align: right;\">\n",
              "      <th></th>\n",
              "      <th>Confirmed Recovered</th>\n",
              "    </tr>\n",
              "    <tr>\n",
              "      <th>Dates</th>\n",
              "      <th></th>\n",
              "    </tr>\n",
              "  </thead>\n",
              "  <tbody>\n",
              "    <tr>\n",
              "      <th>01/22/2020</th>\n",
              "      <td>0</td>\n",
              "    </tr>\n",
              "    <tr>\n",
              "      <th>01/23/2020</th>\n",
              "      <td>0</td>\n",
              "    </tr>\n",
              "    <tr>\n",
              "      <th>01/24/2020</th>\n",
              "      <td>0</td>\n",
              "    </tr>\n",
              "    <tr>\n",
              "      <th>01/25/2020</th>\n",
              "      <td>0</td>\n",
              "    </tr>\n",
              "    <tr>\n",
              "      <th>01/26/2020</th>\n",
              "      <td>0</td>\n",
              "    </tr>\n",
              "  </tbody>\n",
              "</table>\n",
              "</div>"
            ],
            "text/plain": [
              "            Confirmed Recovered\n",
              "Dates                          \n",
              "01/22/2020                    0\n",
              "01/23/2020                    0\n",
              "01/24/2020                    0\n",
              "01/25/2020                    0\n",
              "01/26/2020                    0"
            ]
          },
          "metadata": {
            "tags": []
          },
          "execution_count": 133
        }
      ]
    },
    {
      "cell_type": "code",
      "metadata": {
        "id": "grFHfIT-r8H7",
        "colab_type": "code",
        "colab": {}
      },
      "source": [
        "future_days_recover = 25"
      ],
      "execution_count": 0,
      "outputs": []
    },
    {
      "cell_type": "code",
      "metadata": {
        "id": "PmUBDMblsHX5",
        "colab_type": "code",
        "outputId": "1462a785-6d77-41e1-bfe3-1bd46f527576",
        "colab": {
          "base_uri": "https://localhost:8080/",
          "height": 204
        }
      },
      "source": [
        "df3['Predicted Recovered'] = df3[['Confirmed Recovered']].shift(-future_days_recover)\n",
        "df3.tail(4)"
      ],
      "execution_count": 0,
      "outputs": [
        {
          "output_type": "execute_result",
          "data": {
            "text/html": [
              "<div>\n",
              "<style scoped>\n",
              "    .dataframe tbody tr th:only-of-type {\n",
              "        vertical-align: middle;\n",
              "    }\n",
              "\n",
              "    .dataframe tbody tr th {\n",
              "        vertical-align: top;\n",
              "    }\n",
              "\n",
              "    .dataframe thead th {\n",
              "        text-align: right;\n",
              "    }\n",
              "</style>\n",
              "<table border=\"1\" class=\"dataframe\">\n",
              "  <thead>\n",
              "    <tr style=\"text-align: right;\">\n",
              "      <th></th>\n",
              "      <th>Confirmed Recovered</th>\n",
              "      <th>Predicted Recovered</th>\n",
              "    </tr>\n",
              "    <tr>\n",
              "      <th>Dates</th>\n",
              "      <th></th>\n",
              "      <th></th>\n",
              "    </tr>\n",
              "  </thead>\n",
              "  <tbody>\n",
              "    <tr>\n",
              "      <th>04/19/2020</th>\n",
              "      <td>2854</td>\n",
              "      <td>NaN</td>\n",
              "    </tr>\n",
              "    <tr>\n",
              "      <th>04/20/2020</th>\n",
              "      <td>3273</td>\n",
              "      <td>NaN</td>\n",
              "    </tr>\n",
              "    <tr>\n",
              "      <th>04/21/2020</th>\n",
              "      <td>3975</td>\n",
              "      <td>NaN</td>\n",
              "    </tr>\n",
              "    <tr>\n",
              "      <th>04/22/2020</th>\n",
              "      <td>4370</td>\n",
              "      <td>NaN</td>\n",
              "    </tr>\n",
              "  </tbody>\n",
              "</table>\n",
              "</div>"
            ],
            "text/plain": [
              "            Confirmed Recovered  Predicted Recovered\n",
              "Dates                                               \n",
              "04/19/2020                 2854                  NaN\n",
              "04/20/2020                 3273                  NaN\n",
              "04/21/2020                 3975                  NaN\n",
              "04/22/2020                 4370                  NaN"
            ]
          },
          "metadata": {
            "tags": []
          },
          "execution_count": 135
        }
      ]
    },
    {
      "cell_type": "code",
      "metadata": {
        "id": "Aid3ptng_kxi",
        "colab_type": "code",
        "outputId": "1c86c06f-f404-4f1e-e7c6-9120297bfef9",
        "colab": {
          "base_uri": "https://localhost:8080/",
          "height": 296
        }
      },
      "source": [
        "df3['Confirmed Recovered'].plot()"
      ],
      "execution_count": 0,
      "outputs": [
        {
          "output_type": "execute_result",
          "data": {
            "text/plain": [
              "<matplotlib.axes._subplots.AxesSubplot at 0x7fc194993780>"
            ]
          },
          "metadata": {
            "tags": []
          },
          "execution_count": 136
        },
        {
          "output_type": "display_data",
          "data": {
            "image/png": "[encoded data removed]",
            "text/plain": [
              "<Figure size 432x288 with 1 Axes>"
            ]
          },
          "metadata": {
            "tags": [],
            "needs_background": "light"
          }
        }
      ]
    },
    {
      "cell_type": "code",
      "metadata": {
        "id": "POcJir7URXwZ",
        "colab_type": "code",
        "outputId": "807019e6-3202-4bf6-a271-df7697a6c02f",
        "colab": {
          "base_uri": "https://localhost:8080/",
          "height": 1000
        }
      },
      "source": [
        "X2 = np.array(df3.drop(['Predicted Recovered'], 1))[:-future_days_recover]\n",
        "print(X2)"
      ],
      "execution_count": 0,
      "outputs": [
        {
          "output_type": "stream",
          "text": [
            "[[ 0]\n",
            " [ 0]\n",
            " [ 0]\n",
            " [ 0]\n",
            " [ 0]\n",
            " [ 0]\n",
            " [ 0]\n",
            " [ 0]\n",
            " [ 0]\n",
            " [ 0]\n",
            " [ 0]\n",
            " [ 0]\n",
            " [ 0]\n",
            " [ 0]\n",
            " [ 0]\n",
            " [ 0]\n",
            " [ 0]\n",
            " [ 0]\n",
            " [ 0]\n",
            " [ 0]\n",
            " [ 0]\n",
            " [ 0]\n",
            " [ 0]\n",
            " [ 0]\n",
            " [ 0]\n",
            " [ 3]\n",
            " [ 3]\n",
            " [ 3]\n",
            " [ 3]\n",
            " [ 3]\n",
            " [ 3]\n",
            " [ 3]\n",
            " [ 3]\n",
            " [ 3]\n",
            " [ 3]\n",
            " [ 3]\n",
            " [ 3]\n",
            " [ 3]\n",
            " [ 3]\n",
            " [ 3]\n",
            " [ 3]\n",
            " [ 3]\n",
            " [ 3]\n",
            " [ 3]\n",
            " [ 3]\n",
            " [ 3]\n",
            " [ 3]\n",
            " [ 3]\n",
            " [ 4]\n",
            " [ 4]\n",
            " [ 4]\n",
            " [ 4]\n",
            " [ 4]\n",
            " [13]\n",
            " [13]\n",
            " [14]\n",
            " [14]\n",
            " [15]\n",
            " [20]\n",
            " [23]\n",
            " [27]\n",
            " [27]\n",
            " [40]\n",
            " [43]\n",
            " [45]\n",
            " [73]\n",
            " [84]]\n"
          ],
          "name": "stdout"
        }
      ]
    },
    {
      "cell_type": "code",
      "metadata": {
        "id": "cqc9zeCyReGL",
        "colab_type": "code",
        "outputId": "f3310bf5-b384-46f8-d1c2-a5e8a0ff32fe",
        "colab": {
          "base_uri": "https://localhost:8080/",
          "height": 187
        }
      },
      "source": [
        "y2 = np.array(df3['Predicted Recovered'])[:-future_days_recover]\n",
        "print(y2)"
      ],
      "execution_count": 0,
      "outputs": [
        {
          "output_type": "stream",
          "text": [
            "[3.000e+00 3.000e+00 3.000e+00 3.000e+00 3.000e+00 3.000e+00 3.000e+00\n",
            " 3.000e+00 3.000e+00 3.000e+00 3.000e+00 3.000e+00 3.000e+00 3.000e+00\n",
            " 3.000e+00 3.000e+00 3.000e+00 3.000e+00 3.000e+00 3.000e+00 3.000e+00\n",
            " 3.000e+00 3.000e+00 4.000e+00 4.000e+00 4.000e+00 4.000e+00 4.000e+00\n",
            " 1.300e+01 1.300e+01 1.400e+01 1.400e+01 1.500e+01 2.000e+01 2.300e+01\n",
            " 2.700e+01 2.700e+01 4.000e+01 4.300e+01 4.500e+01 7.300e+01 8.400e+01\n",
            " 9.500e+01 1.020e+02 1.230e+02 1.480e+02 1.910e+02 1.920e+02 2.290e+02\n",
            " 2.290e+02 3.750e+02 4.210e+02 5.060e+02 6.200e+02 7.740e+02 9.690e+02\n",
            " 1.080e+03 1.181e+03 1.359e+03 1.432e+03 1.768e+03 2.041e+03 2.463e+03\n",
            " 2.854e+03 3.273e+03 3.975e+03 4.370e+03]\n"
          ],
          "name": "stdout"
        }
      ]
    },
    {
      "cell_type": "code",
      "metadata": {
        "id": "HPFZnvaRRlc0",
        "colab_type": "code",
        "colab": {}
      },
      "source": [
        "x_train3, x_test3, y_train3, y_test3 = train_test_split(X2, y2, test_size = 0.25)\n"
      ],
      "execution_count": 0,
      "outputs": []
    },
    {
      "cell_type": "code",
      "metadata": {
        "id": "NeUDWYHcRsmE",
        "colab_type": "code",
        "colab": {}
      },
      "source": [
        "tree3 = DecisionTreeRegressor().fit(x_train3, y_train3)\n",
        "lr3 = LinearRegression().fit(x_train3, y_train3)"
      ],
      "execution_count": 0,
      "outputs": []
    },
    {
      "cell_type": "code",
      "metadata": {
        "id": "2MkUhWy7SUOt",
        "colab_type": "code",
        "outputId": "87493c0f-51d0-4c98-9b5a-a3e4c488e397",
        "colab": {
          "base_uri": "https://localhost:8080/",
          "height": 442
        }
      },
      "source": [
        "x_future3 = df3.drop(['Predicted Recovered'], 1)[:-future_days_recover]\n",
        "x_future3 = x_future3.tail(future_days_recover)\n",
        "x_future3 = np.array(x_future3)\n",
        "x_future3"
      ],
      "execution_count": 0,
      "outputs": [
        {
          "output_type": "execute_result",
          "data": {
            "text/plain": [
              "array([[ 3],\n",
              "       [ 3],\n",
              "       [ 3],\n",
              "       [ 3],\n",
              "       [ 3],\n",
              "       [ 3],\n",
              "       [ 4],\n",
              "       [ 4],\n",
              "       [ 4],\n",
              "       [ 4],\n",
              "       [ 4],\n",
              "       [13],\n",
              "       [13],\n",
              "       [14],\n",
              "       [14],\n",
              "       [15],\n",
              "       [20],\n",
              "       [23],\n",
              "       [27],\n",
              "       [27],\n",
              "       [40],\n",
              "       [43],\n",
              "       [45],\n",
              "       [73],\n",
              "       [84]])"
            ]
          },
          "metadata": {
            "tags": []
          },
          "execution_count": 141
        }
      ]
    },
    {
      "cell_type": "code",
      "metadata": {
        "id": "4XblUqFiSlrN",
        "colab_type": "code",
        "outputId": "c334f6d6-a0fc-46b7-b70d-27062cd801ef",
        "colab": {
          "base_uri": "https://localhost:8080/",
          "height": 204
        }
      },
      "source": [
        "tree_predictions3 = tree3.predict(x_future3)\n",
        "print(tree_predictions3)\n",
        "print()\n",
        "lr_predictions3 = lr3.predict(x_future3)\n",
        "print(lr_predictions3)"
      ],
      "execution_count": 0,
      "outputs": [
        {
          "output_type": "stream",
          "text": [
            "[  53.47058824   53.47058824   53.47058824   53.47058824   53.47058824\n",
            "   53.47058824  313.5         313.5         313.5         313.5\n",
            "  313.5         774.          774.         1024.5        1024.5\n",
            " 1181.         1359.         1432.         1432.         1432.\n",
            " 2463.         2854.         3273.         4370.         4370.        ]\n",
            "\n",
            "[ 166.89011678  166.89011678  166.89011678  166.89011678  166.89011678\n",
            "  166.89011678  226.67737188  226.67737188  226.67737188  226.67737188\n",
            "  226.67737188  764.7626677   764.7626677   824.54992279  824.54992279\n",
            "  884.33717788 1183.27345333 1362.63521861 1601.78423897 1601.78423897\n",
            " 2379.01855516 2558.38032043 2677.95483061 4351.99797317 5009.65777917]\n"
          ],
          "name": "stdout"
        }
      ]
    },
    {
      "cell_type": "code",
      "metadata": {
        "id": "7HRP9MupR1v3",
        "colab_type": "code",
        "outputId": "3e65cb18-d094-4c75-bae4-f660473ddbec",
        "colab": {
          "base_uri": "https://localhost:8080/",
          "height": 635
        }
      },
      "source": [
        "predictions3 = tree_predictions3\n",
        "\n",
        "valid3 = df3[X2.shape[0]:]\n",
        "valid3['Predicted Recovered'] = predictions3\n",
        "\n",
        "plt.figure(figsize=(16,8))\n",
        "plt.title('Model')\n",
        "plt.xlabel('Dates')\n",
        "plt.ylabel('Predicted Cases')\n",
        "plt.plot(df3['Confirmed Recovered'])\n",
        "plt.plot(valid3['Confirmed Recovered'])\n",
        "plt.plot(valid3['Predicted Recovered'])\n",
        "plt.legend(['Orig', 'Val', 'Pred'])\n",
        "plt.show()\n"
      ],
      "execution_count": 0,
      "outputs": [
        {
          "output_type": "stream",
          "text": [
            "/usr/local/lib/python3.6/dist-packages/ipykernel_launcher.py:4: SettingWithCopyWarning: \n",
            "A value is trying to be set on a copy of a slice from a DataFrame.\n",
            "Try using .loc[row_indexer,col_indexer] = value instead\n",
            "\n",
            "See the caveats in the documentation: https://pandas.pydata.org/pandas-docs/stable/user_guide/indexing.html#returning-a-view-versus-a-copy\n",
            "  after removing the cwd from sys.path.\n"
          ],
          "name": "stderr"
        },
        {
          "output_type": "display_data",
          "data": {
            "image/png": "[encoded data removed]",
            "text/plain": [
              "<Figure size 1152x576 with 1 Axes>"
            ]
          },
          "metadata": {
            "tags": [],
            "needs_background": "light"
          }
        }
      ]
    },
    {
      "cell_type": "code",
      "metadata": {
        "id": "JOmwjWPsSy5a",
        "colab_type": "code",
        "outputId": "684908e3-2cad-48c1-bf7d-7b0ec50679bf",
        "colab": {
          "base_uri": "https://localhost:8080/",
          "height": 855
        }
      },
      "source": [
        "valid3"
      ],
      "execution_count": 0,
      "outputs": [
        {
          "output_type": "execute_result",
          "data": {
            "text/html": [
              "<div>\n",
              "<style scoped>\n",
              "    .dataframe tbody tr th:only-of-type {\n",
              "        vertical-align: middle;\n",
              "    }\n",
              "\n",
              "    .dataframe tbody tr th {\n",
              "        vertical-align: top;\n",
              "    }\n",
              "\n",
              "    .dataframe thead th {\n",
              "        text-align: right;\n",
              "    }\n",
              "</style>\n",
              "<table border=\"1\" class=\"dataframe\">\n",
              "  <thead>\n",
              "    <tr style=\"text-align: right;\">\n",
              "      <th></th>\n",
              "      <th>Confirmed Recovered</th>\n",
              "      <th>Predicted Recovered</th>\n",
              "    </tr>\n",
              "    <tr>\n",
              "      <th>Dates</th>\n",
              "      <th></th>\n",
              "      <th></th>\n",
              "    </tr>\n",
              "  </thead>\n",
              "  <tbody>\n",
              "    <tr>\n",
              "      <th>03/29/2020</th>\n",
              "      <td>95</td>\n",
              "      <td>53.470588</td>\n",
              "    </tr>\n",
              "    <tr>\n",
              "      <th>03/30/2020</th>\n",
              "      <td>102</td>\n",
              "      <td>53.470588</td>\n",
              "    </tr>\n",
              "    <tr>\n",
              "      <th>03/31/2020</th>\n",
              "      <td>123</td>\n",
              "      <td>53.470588</td>\n",
              "    </tr>\n",
              "    <tr>\n",
              "      <th>04/01/2020</th>\n",
              "      <td>148</td>\n",
              "      <td>53.470588</td>\n",
              "    </tr>\n",
              "    <tr>\n",
              "      <th>04/02/2020</th>\n",
              "      <td>191</td>\n",
              "      <td>53.470588</td>\n",
              "    </tr>\n",
              "    <tr>\n",
              "      <th>04/03/2020</th>\n",
              "      <td>192</td>\n",
              "      <td>53.470588</td>\n",
              "    </tr>\n",
              "    <tr>\n",
              "      <th>04/04/2020</th>\n",
              "      <td>229</td>\n",
              "      <td>313.500000</td>\n",
              "    </tr>\n",
              "    <tr>\n",
              "      <th>04/05/2020</th>\n",
              "      <td>229</td>\n",
              "      <td>313.500000</td>\n",
              "    </tr>\n",
              "    <tr>\n",
              "      <th>04/06/2020</th>\n",
              "      <td>375</td>\n",
              "      <td>313.500000</td>\n",
              "    </tr>\n",
              "    <tr>\n",
              "      <th>04/07/2020</th>\n",
              "      <td>421</td>\n",
              "      <td>313.500000</td>\n",
              "    </tr>\n",
              "    <tr>\n",
              "      <th>04/08/2020</th>\n",
              "      <td>506</td>\n",
              "      <td>313.500000</td>\n",
              "    </tr>\n",
              "    <tr>\n",
              "      <th>04/09/2020</th>\n",
              "      <td>620</td>\n",
              "      <td>774.000000</td>\n",
              "    </tr>\n",
              "    <tr>\n",
              "      <th>04/10/2020</th>\n",
              "      <td>774</td>\n",
              "      <td>774.000000</td>\n",
              "    </tr>\n",
              "    <tr>\n",
              "      <th>04/11/2020</th>\n",
              "      <td>969</td>\n",
              "      <td>1024.500000</td>\n",
              "    </tr>\n",
              "    <tr>\n",
              "      <th>04/12/2020</th>\n",
              "      <td>1080</td>\n",
              "      <td>1024.500000</td>\n",
              "    </tr>\n",
              "    <tr>\n",
              "      <th>04/13/2020</th>\n",
              "      <td>1181</td>\n",
              "      <td>1181.000000</td>\n",
              "    </tr>\n",
              "    <tr>\n",
              "      <th>04/14/2020</th>\n",
              "      <td>1359</td>\n",
              "      <td>1359.000000</td>\n",
              "    </tr>\n",
              "    <tr>\n",
              "      <th>04/15/2020</th>\n",
              "      <td>1432</td>\n",
              "      <td>1432.000000</td>\n",
              "    </tr>\n",
              "    <tr>\n",
              "      <th>04/16/2020</th>\n",
              "      <td>1768</td>\n",
              "      <td>1432.000000</td>\n",
              "    </tr>\n",
              "    <tr>\n",
              "      <th>04/17/2020</th>\n",
              "      <td>2041</td>\n",
              "      <td>1432.000000</td>\n",
              "    </tr>\n",
              "    <tr>\n",
              "      <th>04/18/2020</th>\n",
              "      <td>2463</td>\n",
              "      <td>2463.000000</td>\n",
              "    </tr>\n",
              "    <tr>\n",
              "      <th>04/19/2020</th>\n",
              "      <td>2854</td>\n",
              "      <td>2854.000000</td>\n",
              "    </tr>\n",
              "    <tr>\n",
              "      <th>04/20/2020</th>\n",
              "      <td>3273</td>\n",
              "      <td>3273.000000</td>\n",
              "    </tr>\n",
              "    <tr>\n",
              "      <th>04/21/2020</th>\n",
              "      <td>3975</td>\n",
              "      <td>4370.000000</td>\n",
              "    </tr>\n",
              "    <tr>\n",
              "      <th>04/22/2020</th>\n",
              "      <td>4370</td>\n",
              "      <td>4370.000000</td>\n",
              "    </tr>\n",
              "  </tbody>\n",
              "</table>\n",
              "</div>"
            ],
            "text/plain": [
              "            Confirmed Recovered  Predicted Recovered\n",
              "Dates                                               \n",
              "03/29/2020                   95            53.470588\n",
              "03/30/2020                  102            53.470588\n",
              "03/31/2020                  123            53.470588\n",
              "04/01/2020                  148            53.470588\n",
              "04/02/2020                  191            53.470588\n",
              "04/03/2020                  192            53.470588\n",
              "04/04/2020                  229           313.500000\n",
              "04/05/2020                  229           313.500000\n",
              "04/06/2020                  375           313.500000\n",
              "04/07/2020                  421           313.500000\n",
              "04/08/2020                  506           313.500000\n",
              "04/09/2020                  620           774.000000\n",
              "04/10/2020                  774           774.000000\n",
              "04/11/2020                  969          1024.500000\n",
              "04/12/2020                 1080          1024.500000\n",
              "04/13/2020                 1181          1181.000000\n",
              "04/14/2020                 1359          1359.000000\n",
              "04/15/2020                 1432          1432.000000\n",
              "04/16/2020                 1768          1432.000000\n",
              "04/17/2020                 2041          1432.000000\n",
              "04/18/2020                 2463          2463.000000\n",
              "04/19/2020                 2854          2854.000000\n",
              "04/20/2020                 3273          3273.000000\n",
              "04/21/2020                 3975          4370.000000\n",
              "04/22/2020                 4370          4370.000000"
            ]
          },
          "metadata": {
            "tags": []
          },
          "execution_count": 144
        }
      ]
    },
    {
      "cell_type": "code",
      "metadata": {
        "id": "n9EmsA0mSK6p",
        "colab_type": "code",
        "outputId": "94c79b52-f3af-4e28-cfbb-2777d566e9d5",
        "colab": {
          "base_uri": "https://localhost:8080/",
          "height": 296
        }
      },
      "source": [
        "valid3.plot()"
      ],
      "execution_count": 0,
      "outputs": [
        {
          "output_type": "execute_result",
          "data": {
            "text/plain": [
              "<matplotlib.axes._subplots.AxesSubplot at 0x7fc194a17908>"
            ]
          },
          "metadata": {
            "tags": []
          },
          "execution_count": 145
        },
        {
          "output_type": "display_data",
          "data": {
            "image/png": "[encoded data removed]",
            "text/plain": [
              "<Figure size 432x288 with 1 Axes>"
            ]
          },
          "metadata": {
            "tags": [],
            "needs_background": "light"
          }
        }
      ]
    },
    {
      "cell_type": "code",
      "metadata": {
        "id": "NYTmxRmzTKZ5",
        "colab_type": "code",
        "outputId": "51940fcd-82b0-4522-e6f4-31a70fc39bbb",
        "colab": {
          "base_uri": "https://localhost:8080/",
          "height": 872
        }
      },
      "source": [
        "valid_final = valid.join(valid2.join(valid3))\n",
        "valid_final"
      ],
      "execution_count": 0,
      "outputs": [
        {
          "output_type": "execute_result",
          "data": {
            "text/html": [
              "<div>\n",
              "<style scoped>\n",
              "    .dataframe tbody tr th:only-of-type {\n",
              "        vertical-align: middle;\n",
              "    }\n",
              "\n",
              "    .dataframe tbody tr th {\n",
              "        vertical-align: top;\n",
              "    }\n",
              "\n",
              "    .dataframe thead th {\n",
              "        text-align: right;\n",
              "    }\n",
              "</style>\n",
              "<table border=\"1\" class=\"dataframe\">\n",
              "  <thead>\n",
              "    <tr style=\"text-align: right;\">\n",
              "      <th></th>\n",
              "      <th>India Confirmed Cases</th>\n",
              "      <th>Predicted Cases</th>\n",
              "      <th>Confirmed Deaths</th>\n",
              "      <th>Predicted Deaths</th>\n",
              "      <th>Confirmed Recovered</th>\n",
              "      <th>Predicted Recovered</th>\n",
              "    </tr>\n",
              "    <tr>\n",
              "      <th>Dates</th>\n",
              "      <th></th>\n",
              "      <th></th>\n",
              "      <th></th>\n",
              "      <th></th>\n",
              "      <th></th>\n",
              "      <th></th>\n",
              "    </tr>\n",
              "  </thead>\n",
              "  <tbody>\n",
              "    <tr>\n",
              "      <th>03/29/2020</th>\n",
              "      <td>1024</td>\n",
              "      <td>1251.0</td>\n",
              "      <td>27</td>\n",
              "      <td>11.189189</td>\n",
              "      <td>95</td>\n",
              "      <td>53.470588</td>\n",
              "    </tr>\n",
              "    <tr>\n",
              "      <th>03/30/2020</th>\n",
              "      <td>1251</td>\n",
              "      <td>1251.0</td>\n",
              "      <td>32</td>\n",
              "      <td>11.189189</td>\n",
              "      <td>102</td>\n",
              "      <td>53.470588</td>\n",
              "    </tr>\n",
              "    <tr>\n",
              "      <th>03/31/2020</th>\n",
              "      <td>1397</td>\n",
              "      <td>1397.0</td>\n",
              "      <td>35</td>\n",
              "      <td>11.189189</td>\n",
              "      <td>123</td>\n",
              "      <td>53.470588</td>\n",
              "    </tr>\n",
              "    <tr>\n",
              "      <th>04/01/2020</th>\n",
              "      <td>1998</td>\n",
              "      <td>1397.0</td>\n",
              "      <td>58</td>\n",
              "      <td>11.189189</td>\n",
              "      <td>148</td>\n",
              "      <td>53.470588</td>\n",
              "    </tr>\n",
              "    <tr>\n",
              "      <th>04/02/2020</th>\n",
              "      <td>2543</td>\n",
              "      <td>2543.0</td>\n",
              "      <td>72</td>\n",
              "      <td>11.189189</td>\n",
              "      <td>191</td>\n",
              "      <td>53.470588</td>\n",
              "    </tr>\n",
              "    <tr>\n",
              "      <th>04/03/2020</th>\n",
              "      <td>2567</td>\n",
              "      <td>2567.0</td>\n",
              "      <td>72</td>\n",
              "      <td>11.189189</td>\n",
              "      <td>192</td>\n",
              "      <td>53.470588</td>\n",
              "    </tr>\n",
              "    <tr>\n",
              "      <th>04/04/2020</th>\n",
              "      <td>3082</td>\n",
              "      <td>3082.0</td>\n",
              "      <td>86</td>\n",
              "      <td>11.189189</td>\n",
              "      <td>229</td>\n",
              "      <td>313.500000</td>\n",
              "    </tr>\n",
              "    <tr>\n",
              "      <th>04/05/2020</th>\n",
              "      <td>3588</td>\n",
              "      <td>3082.0</td>\n",
              "      <td>99</td>\n",
              "      <td>117.500000</td>\n",
              "      <td>229</td>\n",
              "      <td>313.500000</td>\n",
              "    </tr>\n",
              "    <tr>\n",
              "      <th>04/06/2020</th>\n",
              "      <td>4778</td>\n",
              "      <td>4778.0</td>\n",
              "      <td>136</td>\n",
              "      <td>117.500000</td>\n",
              "      <td>375</td>\n",
              "      <td>313.500000</td>\n",
              "    </tr>\n",
              "    <tr>\n",
              "      <th>04/07/2020</th>\n",
              "      <td>5311</td>\n",
              "      <td>4778.0</td>\n",
              "      <td>150</td>\n",
              "      <td>191.333333</td>\n",
              "      <td>421</td>\n",
              "      <td>313.500000</td>\n",
              "    </tr>\n",
              "    <tr>\n",
              "      <th>04/08/2020</th>\n",
              "      <td>5916</td>\n",
              "      <td>6725.0</td>\n",
              "      <td>178</td>\n",
              "      <td>191.333333</td>\n",
              "      <td>506</td>\n",
              "      <td>313.500000</td>\n",
              "    </tr>\n",
              "    <tr>\n",
              "      <th>04/09/2020</th>\n",
              "      <td>6725</td>\n",
              "      <td>6725.0</td>\n",
              "      <td>226</td>\n",
              "      <td>191.333333</td>\n",
              "      <td>620</td>\n",
              "      <td>774.000000</td>\n",
              "    </tr>\n",
              "    <tr>\n",
              "      <th>04/10/2020</th>\n",
              "      <td>7598</td>\n",
              "      <td>7598.0</td>\n",
              "      <td>246</td>\n",
              "      <td>191.333333</td>\n",
              "      <td>774</td>\n",
              "      <td>774.000000</td>\n",
              "    </tr>\n",
              "    <tr>\n",
              "      <th>04/11/2020</th>\n",
              "      <td>8446</td>\n",
              "      <td>8446.0</td>\n",
              "      <td>288</td>\n",
              "      <td>331.000000</td>\n",
              "      <td>969</td>\n",
              "      <td>1024.500000</td>\n",
              "    </tr>\n",
              "    <tr>\n",
              "      <th>04/12/2020</th>\n",
              "      <td>9205</td>\n",
              "      <td>9205.0</td>\n",
              "      <td>331</td>\n",
              "      <td>331.000000</td>\n",
              "      <td>1080</td>\n",
              "      <td>1024.500000</td>\n",
              "    </tr>\n",
              "    <tr>\n",
              "      <th>04/13/2020</th>\n",
              "      <td>10453</td>\n",
              "      <td>10453.0</td>\n",
              "      <td>358</td>\n",
              "      <td>358.000000</td>\n",
              "      <td>1181</td>\n",
              "      <td>1181.000000</td>\n",
              "    </tr>\n",
              "    <tr>\n",
              "      <th>04/14/2020</th>\n",
              "      <td>11487</td>\n",
              "      <td>10453.0</td>\n",
              "      <td>393</td>\n",
              "      <td>393.000000</td>\n",
              "      <td>1359</td>\n",
              "      <td>1359.000000</td>\n",
              "    </tr>\n",
              "    <tr>\n",
              "      <th>04/15/2020</th>\n",
              "      <td>12322</td>\n",
              "      <td>12322.0</td>\n",
              "      <td>405</td>\n",
              "      <td>358.000000</td>\n",
              "      <td>1432</td>\n",
              "      <td>1432.000000</td>\n",
              "    </tr>\n",
              "    <tr>\n",
              "      <th>04/16/2020</th>\n",
              "      <td>13430</td>\n",
              "      <td>12322.0</td>\n",
              "      <td>448</td>\n",
              "      <td>448.000000</td>\n",
              "      <td>1768</td>\n",
              "      <td>1432.000000</td>\n",
              "    </tr>\n",
              "    <tr>\n",
              "      <th>04/17/2020</th>\n",
              "      <td>14352</td>\n",
              "      <td>14352.0</td>\n",
              "      <td>486</td>\n",
              "      <td>486.000000</td>\n",
              "      <td>2041</td>\n",
              "      <td>1432.000000</td>\n",
              "    </tr>\n",
              "    <tr>\n",
              "      <th>04/18/2020</th>\n",
              "      <td>15722</td>\n",
              "      <td>15722.0</td>\n",
              "      <td>521</td>\n",
              "      <td>486.000000</td>\n",
              "      <td>2463</td>\n",
              "      <td>2463.000000</td>\n",
              "    </tr>\n",
              "    <tr>\n",
              "      <th>04/19/2020</th>\n",
              "      <td>17615</td>\n",
              "      <td>17615.0</td>\n",
              "      <td>559</td>\n",
              "      <td>559.000000</td>\n",
              "      <td>2854</td>\n",
              "      <td>2854.000000</td>\n",
              "    </tr>\n",
              "    <tr>\n",
              "      <th>04/20/2020</th>\n",
              "      <td>18539</td>\n",
              "      <td>18539.0</td>\n",
              "      <td>592</td>\n",
              "      <td>645.000000</td>\n",
              "      <td>3273</td>\n",
              "      <td>3273.000000</td>\n",
              "    </tr>\n",
              "    <tr>\n",
              "      <th>04/21/2020</th>\n",
              "      <td>20080</td>\n",
              "      <td>20080.0</td>\n",
              "      <td>645</td>\n",
              "      <td>645.000000</td>\n",
              "      <td>3975</td>\n",
              "      <td>4370.000000</td>\n",
              "    </tr>\n",
              "    <tr>\n",
              "      <th>04/22/2020</th>\n",
              "      <td>21370</td>\n",
              "      <td>20080.0</td>\n",
              "      <td>681</td>\n",
              "      <td>681.000000</td>\n",
              "      <td>4370</td>\n",
              "      <td>4370.000000</td>\n",
              "    </tr>\n",
              "  </tbody>\n",
              "</table>\n",
              "</div>"
            ],
            "text/plain": [
              "            India Confirmed Cases  ...  Predicted Recovered\n",
              "Dates                              ...                     \n",
              "03/29/2020                   1024  ...            53.470588\n",
              "03/30/2020                   1251  ...            53.470588\n",
              "03/31/2020                   1397  ...            53.470588\n",
              "04/01/2020                   1998  ...            53.470588\n",
              "04/02/2020                   2543  ...            53.470588\n",
              "04/03/2020                   2567  ...            53.470588\n",
              "04/04/2020                   3082  ...           313.500000\n",
              "04/05/2020                   3588  ...           313.500000\n",
              "04/06/2020                   4778  ...           313.500000\n",
              "04/07/2020                   5311  ...           313.500000\n",
              "04/08/2020                   5916  ...           313.500000\n",
              "04/09/2020                   6725  ...           774.000000\n",
              "04/10/2020                   7598  ...           774.000000\n",
              "04/11/2020                   8446  ...          1024.500000\n",
              "04/12/2020                   9205  ...          1024.500000\n",
              "04/13/2020                  10453  ...          1181.000000\n",
              "04/14/2020                  11487  ...          1359.000000\n",
              "04/15/2020                  12322  ...          1432.000000\n",
              "04/16/2020                  13430  ...          1432.000000\n",
              "04/17/2020                  14352  ...          1432.000000\n",
              "04/18/2020                  15722  ...          2463.000000\n",
              "04/19/2020                  17615  ...          2854.000000\n",
              "04/20/2020                  18539  ...          3273.000000\n",
              "04/21/2020                  20080  ...          4370.000000\n",
              "04/22/2020                  21370  ...          4370.000000\n",
              "\n",
              "[25 rows x 6 columns]"
            ]
          },
          "metadata": {
            "tags": []
          },
          "execution_count": 146
        }
      ]
    },
    {
      "cell_type": "code",
      "metadata": {
        "id": "ulFob2nJoUON",
        "colab_type": "code",
        "outputId": "1509327d-877a-45e3-d70c-55ff141229ba",
        "colab": {
          "base_uri": "https://localhost:8080/",
          "height": 34
        }
      },
      "source": [
        "from sklearn.metrics import r2_score\n",
        "score3 = r2_score(valid3['Confirmed Recovered'], valid3['Predicted Recovered'])\n",
        "print(score3)"
      ],
      "execution_count": 0,
      "outputs": [
        {
          "output_type": "stream",
          "text": [
            "0.9793837304559064\n"
          ],
          "name": "stdout"
        }
      ]
    },
    {
      "cell_type": "code",
      "metadata": {
        "id": "fj44VNJ_omiu",
        "colab_type": "code",
        "outputId": "68e84ef2-6cbd-4b55-bca7-326c9ff06c9e",
        "colab": {
          "base_uri": "https://localhost:8080/",
          "height": 34
        }
      },
      "source": [
        "average = (score + score2 + score3) / 3\n",
        "average"
      ],
      "execution_count": 0,
      "outputs": [
        {
          "output_type": "execute_result",
          "data": {
            "text/plain": [
              "0.9815614855281596"
            ]
          },
          "metadata": {
            "tags": []
          },
          "execution_count": 148
        }
      ]
    }
  ]
}