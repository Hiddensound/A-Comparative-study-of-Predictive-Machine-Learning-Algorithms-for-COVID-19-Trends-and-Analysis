{
  "nbformat": 4,
  "nbformat_minor": 0,
  "metadata": {
    "colab": {
      "name": "CNN_Regressor_Ontario_r2score.ipynb",
      "provenance": [],
      "collapsed_sections": []
    },
    "kernelspec": {
      "name": "python3",
      "display_name": "Python 3"
    }
  },
  "cells": [
    {
      "cell_type": "code",
      "metadata": {
        "id": "Diq0iFZvivVw",
        "colab_type": "code",
        "outputId": "9d44a44a-b433-4861-c230-789b58835ee7",
        "colab": {
          "base_uri": "https://localhost:8080/",
          "height": 121
        }
      },
      "source": [
        "from google.colab import drive\n",
        "drive.mount('/content/drive')"
      ],
      "execution_count": 1,
      "outputs": [
        {
          "output_type": "stream",
          "text": [
            "Go to this URL in a browser: https://accounts.google.com/o/oauth2/auth?client_id=947318989803-6bn6qk8qdgf4n4g3pfee6491hc0brc4i.apps.googleusercontent.com&redirect_uri=urn%3aietf%3awg%3aoauth%3a2.0%3aoob&response_type=code&scope=email%20https%3a%2f%2fwww.googleapis.com%2fauth%2fdocs.test%20https%3a%2f%2fwww.googleapis.com%2fauth%2fdrive%20https%3a%2f%2fwww.googleapis.com%2fauth%2fdrive.photos.readonly%20https%3a%2f%2fwww.googleapis.com%2fauth%2fpeopleapi.readonly\n",
            "\n",
            "Enter your authorization code:\n",
            "··········\n",
            "Mounted at /content/drive\n"
          ],
          "name": "stdout"
        }
      ]
    },
    {
      "cell_type": "code",
      "metadata": {
        "id": "zZVwp_jkebDH",
        "colab_type": "code",
        "colab": {}
      },
      "source": [
        "import pandas as pd\n",
        "raw_seq = pd.read_csv(\"/content/drive/My Drive/Ontario_Confirmed_Cases.csv\")"
      ],
      "execution_count": 0,
      "outputs": []
    },
    {
      "cell_type": "code",
      "metadata": {
        "id": "WobRCkyNy3X4",
        "colab_type": "code",
        "colab": {}
      },
      "source": [
        "raw_seq = raw_seq.rename(columns={'Confirmed deaths': 'Ontario Deaths', \\\n",
        "                                  'Confirmed Recovered': 'Ontario Recovered'})"
      ],
      "execution_count": 0,
      "outputs": []
    },
    {
      "cell_type": "code",
      "metadata": {
        "id": "8lTnsHMyhUu_",
        "colab_type": "code",
        "outputId": "54030bc5-af02-464b-e2f1-dabe66dca7db",
        "colab": {
          "base_uri": "https://localhost:8080/",
          "height": 195
        }
      },
      "source": [
        "raw = raw_seq.iloc[4:]\n",
        "\n",
        "raw.head()"
      ],
      "execution_count": 4,
      "outputs": [
        {
          "output_type": "execute_result",
          "data": {
            "text/html": [
              "<div>\n",
              "<style scoped>\n",
              "    .dataframe tbody tr th:only-of-type {\n",
              "        vertical-align: middle;\n",
              "    }\n",
              "\n",
              "    .dataframe tbody tr th {\n",
              "        vertical-align: top;\n",
              "    }\n",
              "\n",
              "    .dataframe thead th {\n",
              "        text-align: right;\n",
              "    }\n",
              "</style>\n",
              "<table border=\"1\" class=\"dataframe\">\n",
              "  <thead>\n",
              "    <tr style=\"text-align: right;\">\n",
              "      <th></th>\n",
              "      <th>Dates</th>\n",
              "      <th>Confirmed Cases</th>\n",
              "      <th>Ontario Deaths</th>\n",
              "      <th>Ontario Recovered</th>\n",
              "    </tr>\n",
              "  </thead>\n",
              "  <tbody>\n",
              "    <tr>\n",
              "      <th>4</th>\n",
              "      <td>01/26/2020</td>\n",
              "      <td>1</td>\n",
              "      <td>0</td>\n",
              "      <td>0</td>\n",
              "    </tr>\n",
              "    <tr>\n",
              "      <th>5</th>\n",
              "      <td>01/27/2020</td>\n",
              "      <td>1</td>\n",
              "      <td>0</td>\n",
              "      <td>0</td>\n",
              "    </tr>\n",
              "    <tr>\n",
              "      <th>6</th>\n",
              "      <td>01/28/2020</td>\n",
              "      <td>1</td>\n",
              "      <td>0</td>\n",
              "      <td>0</td>\n",
              "    </tr>\n",
              "    <tr>\n",
              "      <th>7</th>\n",
              "      <td>01/29/2020</td>\n",
              "      <td>1</td>\n",
              "      <td>0</td>\n",
              "      <td>0</td>\n",
              "    </tr>\n",
              "    <tr>\n",
              "      <th>8</th>\n",
              "      <td>01/30/2020</td>\n",
              "      <td>1</td>\n",
              "      <td>0</td>\n",
              "      <td>0</td>\n",
              "    </tr>\n",
              "  </tbody>\n",
              "</table>\n",
              "</div>"
            ],
            "text/plain": [
              "        Dates  Confirmed Cases  Ontario Deaths  Ontario Recovered\n",
              "4  01/26/2020                1               0                  0\n",
              "5  01/27/2020                1               0                  0\n",
              "6  01/28/2020                1               0                  0\n",
              "7  01/29/2020                1               0                  0\n",
              "8  01/30/2020                1               0                  0"
            ]
          },
          "metadata": {
            "tags": []
          },
          "execution_count": 4
        }
      ]
    },
    {
      "cell_type": "code",
      "metadata": {
        "id": "vqCt-8xneii7",
        "colab_type": "code",
        "colab": {}
      },
      "source": [
        "ontario_confirmed_cases = raw_seq['Confirmed Cases']\n",
        "ontario_deaths = raw_seq['Ontario Deaths']\n",
        "ontario_recovered = raw_seq['Ontario Recovered']"
      ],
      "execution_count": 0,
      "outputs": []
    },
    {
      "cell_type": "code",
      "metadata": {
        "id": "jUpNgS-ekJPV",
        "colab_type": "code",
        "outputId": "fdca08ac-0e7c-48a7-d4eb-2e34404e9f4c",
        "colab": {
          "base_uri": "https://localhost:8080/",
          "height": 282
        }
      },
      "source": [
        "raw_seq['Confirmed Cases'].plot()"
      ],
      "execution_count": 6,
      "outputs": [
        {
          "output_type": "execute_result",
          "data": {
            "text/plain": [
              "<matplotlib.axes._subplots.AxesSubplot at 0x7f22db86bfd0>"
            ]
          },
          "metadata": {
            "tags": []
          },
          "execution_count": 6
        },
        {
          "output_type": "display_data",
          "data": {
            "image/png": "[encoded data removed]",
            "text/plain": [
              "<Figure size 432x288 with 1 Axes>"
            ]
          },
          "metadata": {
            "tags": [],
            "needs_background": "light"
          }
        }
      ]
    },
    {
      "cell_type": "code",
      "metadata": {
        "id": "wHB9Pp4Mb7qZ",
        "colab_type": "code",
        "outputId": "45b11094-42f7-4c04-fddb-74999f78cbf5",
        "colab": {
          "base_uri": "https://localhost:8080/",
          "height": 1000
        }
      },
      "source": [
        "# univariate cnn example\n",
        "import numpy as np\n",
        "from numpy import array\n",
        "from keras.models import Sequential\n",
        "from keras.layers import Dense\n",
        "from keras.layers import Flatten\n",
        "from keras.layers.convolutional import Conv1D\n",
        "from keras.layers.convolutional import MaxPooling1D\n",
        "\n",
        "# split a univariate sequence into samples\n",
        "def split_sequence(sequence, n_steps):\n",
        "\tX, y = list(), list()\n",
        "\tfor i in range(len(sequence)):\n",
        "\t\t# find the end of this pattern\n",
        "\t\tend_ix = i + n_steps\n",
        "\t\t# check if we are beyond the sequence\n",
        "\t\tif end_ix > len(sequence)-1:\n",
        "\t\t\tbreak\n",
        "\t\t# gather input and output parts of the pattern\n",
        "\t\tseq_x, seq_y = sequence[i:end_ix], sequence[end_ix]\n",
        "\t\tX.append(seq_x)\n",
        "\t\ty.append(seq_y)\n",
        "\treturn array(X), array(y)\n",
        "\n",
        "# define input sequence\n",
        "#raw_seq = pd.read_csv(\"/content/drive/My Drive/Total_cases_Canada.csv\")\n",
        "# choose a number of time steps\n",
        "n_steps = 3\n",
        "# split into samples\n",
        "X, y = split_sequence(ontario_confirmed_cases, n_steps)\n",
        "# reshape from [samples, timesteps] into [samples, timesteps, features]\n",
        "n_features = 1\n",
        "X = X.reshape((X.shape[0], X.shape[1], n_features))\n",
        "# define model\n",
        "model = Sequential()\n",
        "model.add(Conv1D(filters=64, kernel_size=2, activation='relu', input_shape=(n_steps, n_features)))\n",
        "model.add(MaxPooling1D(pool_size=2))\n",
        "model.add(Flatten())\n",
        "model.add(Dense(50, activation='relu'))\n",
        "model.add(Dense(1))\n",
        "model.compile(optimizer='adam', loss='mse')\n",
        "# fit model\n",
        "model.fit(X, y, epochs=1000, verbose=0)\n",
        "# demonstrate prediction\n",
        "x= len(ontario_confirmed_cases)\n",
        "pred_val = []\n",
        "for i in range(x):\n",
        "  i=ontario_confirmed_cases[i]\n",
        "  x_input1=[i,i+1,i+2]\n",
        "  x_input=np.asarray(x_input1)\n",
        "  x_input = x_input.reshape((1, n_steps, n_features))\n",
        "  yhat = model.predict(x_input, verbose=1)\n",
        "  pred_val.append(yhat)\n",
        "  print(yhat)\n",
        "#x_input = array([1263, 1264, 1265])\n",
        "#x_input = x_input.reshape((1, n_steps, n_features))\n",
        "#yhat = model.predict(x_input, verbose=0)\n",
        "#print(yhat)"
      ],
      "execution_count": 7,
      "outputs": [
        {
          "output_type": "stream",
          "text": [
            "Using TensorFlow backend.\n"
          ],
          "name": "stderr"
        },
        {
          "output_type": "stream",
          "text": [
            "1/1 [==============================] - 0s 14ms/step\n",
            "[[1.6846337]]\n",
            "1/1 [==============================] - 0s 1ms/step\n",
            "[[1.6846337]]\n",
            "1/1 [==============================] - 0s 691us/step\n",
            "[[1.6846337]]\n",
            "1/1 [==============================] - 0s 3ms/step\n",
            "[[1.6846337]]\n",
            "1/1 [==============================] - 0s 1ms/step\n",
            "[[3.2129211]]\n",
            "1/1 [==============================] - 0s 2ms/step\n",
            "[[3.2129211]]\n",
            "1/1 [==============================] - 0s 1ms/step\n",
            "[[3.2129211]]\n",
            "1/1 [==============================] - 0s 1ms/step\n",
            "[[3.2129211]]\n",
            "1/1 [==============================] - 0s 1ms/step\n",
            "[[3.2129211]]\n",
            "1/1 [==============================] - 0s 991us/step\n",
            "[[5.4685802]]\n",
            "1/1 [==============================] - 0s 704us/step\n",
            "[[5.4685802]]\n",
            "1/1 [==============================] - 0s 732us/step\n",
            "[[5.4685802]]\n",
            "1/1 [==============================] - 0s 890us/step\n",
            "[[5.4685802]]\n",
            "1/1 [==============================] - 0s 883us/step\n",
            "[[5.4685802]]\n",
            "1/1 [==============================] - 0s 688us/step\n",
            "[[5.4685802]]\n",
            "1/1 [==============================] - 0s 1ms/step\n",
            "[[5.4685802]]\n",
            "1/1 [==============================] - 0s 616us/step\n",
            "[[5.4685802]]\n",
            "1/1 [==============================] - 0s 619us/step\n",
            "[[5.4685802]]\n",
            "1/1 [==============================] - 0s 951us/step\n",
            "[[5.4685802]]\n",
            "1/1 [==============================] - 0s 662us/step\n",
            "[[5.4685802]]\n",
            "1/1 [==============================] - 0s 647us/step\n",
            "[[5.4685802]]\n",
            "1/1 [==============================] - 0s 619us/step\n",
            "[[5.4685802]]\n",
            "1/1 [==============================] - 0s 785us/step\n",
            "[[5.4685802]]\n",
            "1/1 [==============================] - 0s 603us/step\n",
            "[[5.4685802]]\n",
            "1/1 [==============================] - 0s 621us/step\n",
            "[[5.4685802]]\n",
            "1/1 [==============================] - 0s 623us/step\n",
            "[[5.4685802]]\n",
            "1/1 [==============================] - 0s 764us/step\n",
            "[[5.4685802]]\n",
            "1/1 [==============================] - 0s 786us/step\n",
            "[[5.4685802]]\n",
            "1/1 [==============================] - 0s 855us/step\n",
            "[[5.4685802]]\n",
            "1/1 [==============================] - 0s 643us/step\n",
            "[[5.4685802]]\n",
            "1/1 [==============================] - 0s 582us/step\n",
            "[[5.4685802]]\n",
            "1/1 [==============================] - 0s 587us/step\n",
            "[[5.4685802]]\n",
            "1/1 [==============================] - 0s 715us/step\n",
            "[[5.4685802]]\n",
            "1/1 [==============================] - 0s 687us/step\n",
            "[[6.6684027]]\n",
            "1/1 [==============================] - 0s 611us/step\n",
            "[[6.6684027]]\n",
            "1/1 [==============================] - 0s 708us/step\n",
            "[[6.6684027]]\n",
            "1/1 [==============================] - 0s 608us/step\n",
            "[[9.056046]]\n",
            "1/1 [==============================] - 0s 659us/step\n",
            "[[9.056046]]\n",
            "1/1 [==============================] - 0s 994us/step\n",
            "[[15.697853]]\n",
            "1/1 [==============================] - 0s 653us/step\n",
            "[[21.20822]]\n",
            "1/1 [==============================] - 0s 623us/step\n",
            "[[25.340103]]\n",
            "1/1 [==============================] - 0s 791us/step\n",
            "[[28.094687]]\n",
            "1/1 [==============================] - 0s 793us/step\n",
            "[[28.094687]]\n",
            "1/1 [==============================] - 0s 604us/step\n",
            "[[30.849274]]\n",
            "1/1 [==============================] - 0s 597us/step\n",
            "[[35.07612]]\n",
            "1/1 [==============================] - 0s 589us/step\n",
            "[[39.414776]]\n",
            "1/1 [==============================] - 0s 736us/step\n",
            "[[40.860996]]\n",
            "1/1 [==============================] - 0s 716us/step\n",
            "[[48.092102]]\n",
            "1/1 [==============================] - 0s 606us/step\n",
            "[[50.976334]]\n",
            "1/1 [==============================] - 0s 711us/step\n",
            "[[58.354496]]\n",
            "1/1 [==============================] - 0s 553us/step\n",
            "[[59.847775]]\n",
            "1/1 [==============================] - 0s 597us/step\n",
            "[[96.40743]]\n",
            "1/1 [==============================] - 0s 737us/step\n",
            "[[101.726715]]\n",
            "1/1 [==============================] - 0s 660us/step\n",
            "[[128.32317]]\n",
            "1/1 [==============================] - 0s 635us/step\n",
            "[[205.98476]]\n",
            "1/1 [==============================] - 0s 613us/step\n",
            "[[214.49559]]\n",
            "1/1 [==============================] - 0s 620us/step\n",
            "[[252.79443]]\n",
            "1/1 [==============================] - 0s 697us/step\n",
            "[[291.09332]]\n",
            "1/1 [==============================] - 0s 722us/step\n",
            "[[345.35]]\n",
            "1/1 [==============================] - 0s 836us/step\n",
            "[[418.75616]]\n",
            "1/1 [==============================] - 0s 706us/step\n",
            "[[469.82132]]\n",
            "1/1 [==============================] - 0s 597us/step\n",
            "[[552.80225]]\n",
            "1/1 [==============================] - 0s 607us/step\n",
            "[[643.23]]\n",
            "1/1 [==============================] - 0s 585us/step\n",
            "[[749.61584]]\n",
            "1/1 [==============================] - 0s 862us/step\n",
            "[[930.4715]]\n",
            "1/1 [==============================] - 0s 671us/step\n",
            "[[1075.156]]\n",
            "1/1 [==============================] - 0s 871us/step\n",
            "[[1234.7346]]\n",
            "1/1 [==============================] - 0s 624us/step\n",
            "[[1459.2086]]\n",
            "1/1 [==============================] - 0s 658us/step\n",
            "[[1832.6224]]\n",
            "1/1 [==============================] - 0s 564us/step\n",
            "[[2109.2253]]\n",
            "1/1 [==============================] - 0s 689us/step\n",
            "[[2562.4285]]\n",
            "1/1 [==============================] - 0s 733us/step\n",
            "[[2989.0352]]\n",
            "1/1 [==============================] - 0s 686us/step\n",
            "[[3480.5369]]\n",
            "1/1 [==============================] - 0s 824us/step\n",
            "[[3879.484]]\n",
            "1/1 [==============================] - 0s 710us/step\n",
            "[[4649.717]]\n",
            "1/1 [==============================] - 0s 576us/step\n",
            "[[4642.2695]]\n",
            "1/1 [==============================] - 0s 585us/step\n",
            "[[5045.4717]]\n",
            "1/1 [==============================] - 0s 780us/step\n",
            "[[5630.593]]\n",
            "1/1 [==============================] - 0s 701us/step\n",
            "[[6144.4365]]\n",
            "1/1 [==============================] - 0s 577us/step\n",
            "[[6652.961]]\n",
            "1/1 [==============================] - 0s 715us/step\n",
            "[[7090.2056]]\n",
            "1/1 [==============================] - 0s 596us/step\n",
            "[[7516.811]]\n",
            "1/1 [==============================] - 0s 1ms/step\n",
            "[[7964.6953]]\n",
            "1/1 [==============================] - 0s 593us/step\n",
            "[[8478.539]]\n",
            "1/1 [==============================] - 0s 803us/step\n",
            "[[9004.084]]\n",
            "1/1 [==============================] - 0s 612us/step\n",
            "[[10486.037]]\n",
            "1/1 [==============================] - 0s 627us/step\n",
            "[[11141.372]]\n",
            "1/1 [==============================] - 0s 611us/step\n",
            "[[11733.942]]\n",
            "1/1 [==============================] - 0s 740us/step\n",
            "[[12316.937]]\n",
            "1/1 [==============================] - 0s 620us/step\n",
            "[[12850.992]]\n",
            "1/1 [==============================] - 0s 670us/step\n",
            "[[13544.627]]\n",
            "1/1 [==============================] - 0s 740us/step\n",
            "[[14611.677]]\n"
          ],
          "name": "stdout"
        }
      ]
    },
    {
      "cell_type": "code",
      "metadata": {
        "id": "vagYhyT3cJai",
        "colab_type": "code",
        "colab": {}
      },
      "source": [
        "pred_val\n",
        "predict= np.concatenate((pred_val))\n",
        "Predict_cases=pd.DataFrame(predict)\n",
        "Predict_cases['Predicted Cases']=Predict_cases\n",
        "Predict_cases.pop(0)\n",
        "Predict_cases\n",
        "#predicted_cases= Predict_cases.join(india_confirmed_cases)\n",
        "raw_seq = raw_seq.join(Predict_cases)\n",
        "raw_seq\n",
        "t1 = raw_seq\n"
      ],
      "execution_count": 0,
      "outputs": []
    },
    {
      "cell_type": "code",
      "metadata": {
        "id": "IPaL3Plhdjco",
        "colab_type": "code",
        "outputId": "3c3bd684-efef-4b29-8d2a-4c9bd27e2de9",
        "colab": {
          "base_uri": "https://localhost:8080/",
          "height": 252
        }
      },
      "source": [
        "print(t1)"
      ],
      "execution_count": 9,
      "outputs": [
        {
          "output_type": "stream",
          "text": [
            "         Dates  Confirmed Cases  ...  Ontario Recovered  Predicted Cases\n",
            "0   01/22/2020                0  ...                  0         1.684634\n",
            "1   01/23/2020                0  ...                  0         1.684634\n",
            "2   01/24/2020                0  ...                  0         1.684634\n",
            "3   01/25/2020                0  ...                  0         1.684634\n",
            "4   01/26/2020                1  ...                  0         3.212921\n",
            "..         ...              ...  ...                ...              ...\n",
            "87  04/18/2020            11013  ...              10964     11733.942383\n",
            "88  04/19/2020            11561  ...              11847     12316.936523\n",
            "89  04/20/2020            12063  ...              12543     12850.992188\n",
            "90  04/21/2020            12715  ...              13188     13544.626953\n",
            "91  04/22/2020            13718  ...              14454     14611.676758\n",
            "\n",
            "[92 rows x 5 columns]\n"
          ],
          "name": "stdout"
        }
      ]
    },
    {
      "cell_type": "code",
      "metadata": {
        "id": "sMTS3B2GdpWC",
        "colab_type": "code",
        "outputId": "987d6231-328f-4d43-f672-c2f646aa7d26",
        "colab": {
          "base_uri": "https://localhost:8080/",
          "height": 282
        }
      },
      "source": [
        "t1.plot()"
      ],
      "execution_count": 10,
      "outputs": [
        {
          "output_type": "execute_result",
          "data": {
            "text/plain": [
              "<matplotlib.axes._subplots.AxesSubplot at 0x7f22db7d1198>"
            ]
          },
          "metadata": {
            "tags": []
          },
          "execution_count": 10
        },
        {
          "output_type": "display_data",
          "data": {
            "image/png": "[encoded data removed]",
            "text/plain": [
              "<Figure size 432x288 with 1 Axes>"
            ]
          },
          "metadata": {
            "tags": [],
            "needs_background": "light"
          }
        }
      ]
    },
    {
      "cell_type": "code",
      "metadata": {
        "id": "py5-7Of-1HFC",
        "colab_type": "code",
        "outputId": "cd0e76b3-6a49-45b3-de6d-a0a2dab3b057",
        "colab": {
          "base_uri": "https://localhost:8080/",
          "height": 1000
        }
      },
      "source": [
        "# Ontario Deaths\n",
        "import numpy as np\n",
        "from numpy import array\n",
        "from keras.models import Sequential\n",
        "from keras.layers import Dense\n",
        "from keras.layers import Flatten\n",
        "from keras.layers.convolutional import Conv1D\n",
        "from keras.layers.convolutional import MaxPooling1D\n",
        "\n",
        "# split a univariate sequence into samples\n",
        "def split_sequence(sequence, n_steps):\n",
        "\tX, y = list(), list()\n",
        "\tfor i in range(len(sequence)):\n",
        "\t\t# find the end of this pattern\n",
        "\t\tend_ix = i + n_steps\n",
        "\t\t# check if we are beyond the sequence\n",
        "\t\tif end_ix > len(sequence)-1:\n",
        "\t\t\tbreak\n",
        "\t\t# gather input and output parts of the pattern\n",
        "\t\tseq_x, seq_y = sequence[i:end_ix], sequence[end_ix]\n",
        "\t\tX.append(seq_x)\n",
        "\t\ty.append(seq_y)\n",
        "\treturn array(X), array(y)\n",
        "\n",
        "# define input sequence\n",
        "#raw_seq = pd.read_csv(\"/content/drive/My Drive/Total_cases_Canada.csv\")\n",
        "# choose a number of time steps\n",
        "n_steps = 3\n",
        "# split into samples\n",
        "X, y = split_sequence(ontario_deaths, n_steps)\n",
        "# reshape from [samples, timesteps] into [samples, timesteps, features]\n",
        "n_features = 1\n",
        "X = X.reshape((X.shape[0], X.shape[1], n_features))\n",
        "# define model\n",
        "model = Sequential()\n",
        "model.add(Conv1D(filters=64, kernel_size=2, activation='relu', input_shape=(n_steps, n_features)))\n",
        "model.add(MaxPooling1D(pool_size=2))\n",
        "model.add(Flatten())\n",
        "model.add(Dense(50, activation='relu'))\n",
        "model.add(Dense(1))\n",
        "model.compile(optimizer='adam', loss='mse')\n",
        "# fit model\n",
        "model.fit(X, y, epochs=1000, verbose=0)\n",
        "# demonstrate prediction\n",
        "x= len(ontario_deaths)\n",
        "pred_val = []\n",
        "for i in range(x):\n",
        "  i=ontario_deaths[i]\n",
        "  x_input1=[i,i+1,i+2]\n",
        "  x_input=np.asarray(x_input1)\n",
        "  x_input = x_input.reshape((1, n_steps, n_features))\n",
        "  yhat = model.predict(x_input, verbose=1)\n",
        "  pred_val.append(yhat)\n",
        "  print(yhat)\n",
        "#x_input = array([1263, 1264, 1265])\n",
        "#x_input = x_input.reshape((1, n_steps, n_features))\n",
        "#yhat = model.predict(x_input, verbose=0)\n",
        "#print(yhat)"
      ],
      "execution_count": 11,
      "outputs": [
        {
          "output_type": "stream",
          "text": [
            "1/1 [==============================] - 0s 11ms/step\n",
            "[[2.0351634]]\n",
            "1/1 [==============================] - 0s 4ms/step\n",
            "[[2.0351634]]\n",
            "1/1 [==============================] - 0s 922us/step\n",
            "[[2.0351634]]\n",
            "1/1 [==============================] - 0s 3ms/step\n",
            "[[2.0351634]]\n",
            "1/1 [==============================] - 0s 2ms/step\n",
            "[[2.0351634]]\n",
            "1/1 [==============================] - 0s 2ms/step\n",
            "[[2.0351634]]\n",
            "1/1 [==============================] - 0s 2ms/step\n",
            "[[2.0351634]]\n",
            "1/1 [==============================] - 0s 2ms/step\n",
            "[[2.0351634]]\n",
            "1/1 [==============================] - 0s 2ms/step\n",
            "[[2.0351634]]\n",
            "1/1 [==============================] - 0s 2ms/step\n",
            "[[2.0351634]]\n",
            "1/1 [==============================] - 0s 2ms/step\n",
            "[[2.0351634]]\n",
            "1/1 [==============================] - 0s 631us/step\n",
            "[[2.0351634]]\n",
            "1/1 [==============================] - 0s 3ms/step\n",
            "[[2.0351634]]\n",
            "1/1 [==============================] - 0s 1ms/step\n",
            "[[2.0351634]]\n",
            "1/1 [==============================] - 0s 1ms/step\n",
            "[[2.0351634]]\n",
            "1/1 [==============================] - 0s 727us/step\n",
            "[[2.0351634]]\n",
            "1/1 [==============================] - 0s 1ms/step\n",
            "[[2.0351634]]\n",
            "1/1 [==============================] - 0s 707us/step\n",
            "[[2.0351634]]\n",
            "1/1 [==============================] - 0s 973us/step\n",
            "[[2.0351634]]\n",
            "1/1 [==============================] - 0s 1ms/step\n",
            "[[2.0351634]]\n",
            "1/1 [==============================] - 0s 796us/step\n",
            "[[2.0351634]]\n",
            "1/1 [==============================] - 0s 928us/step\n",
            "[[2.0351634]]\n",
            "1/1 [==============================] - 0s 789us/step\n",
            "[[2.0351634]]\n",
            "1/1 [==============================] - 0s 1ms/step\n",
            "[[2.0351634]]\n",
            "1/1 [==============================] - 0s 840us/step\n",
            "[[2.0351634]]\n",
            "1/1 [==============================] - 0s 993us/step\n",
            "[[2.0351634]]\n",
            "1/1 [==============================] - 0s 779us/step\n",
            "[[2.0351634]]\n",
            "1/1 [==============================] - 0s 927us/step\n",
            "[[2.0351634]]\n",
            "1/1 [==============================] - 0s 760us/step\n",
            "[[2.0351634]]\n",
            "1/1 [==============================] - 0s 722us/step\n",
            "[[2.0351634]]\n",
            "1/1 [==============================] - 0s 682us/step\n",
            "[[2.0351634]]\n",
            "1/1 [==============================] - 0s 707us/step\n",
            "[[2.0351634]]\n",
            "1/1 [==============================] - 0s 589us/step\n",
            "[[2.0351634]]\n",
            "1/1 [==============================] - 0s 591us/step\n",
            "[[2.0351634]]\n",
            "1/1 [==============================] - 0s 613us/step\n",
            "[[2.0351634]]\n",
            "1/1 [==============================] - 0s 600us/step\n",
            "[[2.0351634]]\n",
            "1/1 [==============================] - 0s 576us/step\n",
            "[[2.0351634]]\n",
            "1/1 [==============================] - 0s 575us/step\n",
            "[[2.0351634]]\n",
            "1/1 [==============================] - 0s 583us/step\n",
            "[[2.0351634]]\n",
            "1/1 [==============================] - 0s 668us/step\n",
            "[[2.0351634]]\n",
            "1/1 [==============================] - 0s 693us/step\n",
            "[[2.0351634]]\n",
            "1/1 [==============================] - 0s 665us/step\n",
            "[[2.0351634]]\n",
            "1/1 [==============================] - 0s 660us/step\n",
            "[[2.0351634]]\n",
            "1/1 [==============================] - 0s 1ms/step\n",
            "[[2.0351634]]\n",
            "1/1 [==============================] - 0s 809us/step\n",
            "[[2.0351634]]\n",
            "1/1 [==============================] - 0s 1ms/step\n",
            "[[2.0351634]]\n",
            "1/1 [==============================] - 0s 1ms/step\n",
            "[[2.0351634]]\n",
            "1/1 [==============================] - 0s 982us/step\n",
            "[[2.0351634]]\n",
            "1/1 [==============================] - 0s 724us/step\n",
            "[[2.0351634]]\n",
            "1/1 [==============================] - 0s 696us/step\n",
            "[[2.0351634]]\n",
            "1/1 [==============================] - 0s 684us/step\n",
            "[[2.0351634]]\n",
            "1/1 [==============================] - 0s 673us/step\n",
            "[[2.0351634]]\n",
            "1/1 [==============================] - 0s 736us/step\n",
            "[[2.0351634]]\n",
            "1/1 [==============================] - 0s 696us/step\n",
            "[[2.0351634]]\n",
            "1/1 [==============================] - 0s 721us/step\n",
            "[[2.0351634]]\n",
            "1/1 [==============================] - 0s 618us/step\n",
            "[[3.3704355]]\n",
            "1/1 [==============================] - 0s 684us/step\n",
            "[[3.3704355]]\n",
            "1/1 [==============================] - 0s 751us/step\n",
            "[[3.3704355]]\n",
            "1/1 [==============================] - 0s 743us/step\n",
            "[[4.6397023]]\n",
            "1/1 [==============================] - 0s 620us/step\n",
            "[[5.9641647]]\n",
            "1/1 [==============================] - 0s 575us/step\n",
            "[[8.616185]]\n",
            "1/1 [==============================] - 0s 560us/step\n",
            "[[9.960476]]\n",
            "1/1 [==============================] - 0s 607us/step\n",
            "[[11.304763]]\n",
            "1/1 [==============================] - 0s 702us/step\n",
            "[[12.649055]]\n",
            "1/1 [==============================] - 0s 670us/step\n",
            "[[20.30851]]\n",
            "1/1 [==============================] - 0s 694us/step\n",
            "[[27.673042]]\n",
            "1/1 [==============================] - 0s 707us/step\n",
            "[[27.673042]]\n",
            "1/1 [==============================] - 0s 681us/step\n",
            "[[31.452772]]\n",
            "1/1 [==============================] - 0s 808us/step\n",
            "[[41.152954]]\n",
            "1/1 [==============================] - 0s 814us/step\n",
            "[[43.23548]]\n",
            "1/1 [==============================] - 0s 1ms/step\n",
            "[[47.55134]]\n",
            "1/1 [==============================] - 0s 2ms/step\n",
            "[[64.81478]]\n",
            "1/1 [==============================] - 0s 1ms/step\n",
            "[[79.92027]]\n",
            "1/1 [==============================] - 0s 672us/step\n",
            "[[109.052315]]\n",
            "1/1 [==============================] - 0s 690us/step\n",
            "[[136.02646]]\n",
            "1/1 [==============================] - 0s 682us/step\n",
            "[[169.47435]]\n",
            "1/1 [==============================] - 0s 639us/step\n",
            "[[172.71124]]\n",
            "1/1 [==============================] - 0s 1ms/step\n",
            "[[172.71124]]\n",
            "1/1 [==============================] - 0s 1ms/step\n",
            "[[223.42259]]\n",
            "1/1 [==============================] - 0s 1ms/step\n",
            "[[247.1598]]\n",
            "1/1 [==============================] - 0s 625us/step\n",
            "[[280.60773]]\n",
            "1/1 [==============================] - 0s 657us/step\n",
            "[[303.26602]]\n",
            "1/1 [==============================] - 0s 737us/step\n",
            "[[321.6084]]\n",
            "1/1 [==============================] - 0s 672us/step\n",
            "[[368.00385]]\n",
            "1/1 [==============================] - 0s 659us/step\n",
            "[[423.0311]]\n",
            "1/1 [==============================] - 0s 590us/step\n",
            "[[536.3223]]\n",
            "1/1 [==============================] - 0s 757us/step\n",
            "[[573.0071]]\n",
            "1/1 [==============================] - 0s 612us/step\n",
            "[[616.1657]]\n",
            "1/1 [==============================] - 0s 2ms/step\n",
            "[[645.2977]]\n",
            "1/1 [==============================] - 0s 682us/step\n",
            "[[680.9036]]\n",
            "1/1 [==============================] - 0s 676us/step\n",
            "[[756.43115]]\n",
            "1/1 [==============================] - 0s 660us/step\n",
            "[[829.80066]]\n"
          ],
          "name": "stdout"
        }
      ]
    },
    {
      "cell_type": "code",
      "metadata": {
        "id": "ewKOC0cwcaV0",
        "colab_type": "code",
        "colab": {}
      },
      "source": [
        "pred_val\n",
        "predict= np.concatenate((pred_val))\n",
        "Predict_cases=pd.DataFrame(predict)\n",
        "Predict_cases['Predicted Deaths']=Predict_cases\n",
        "Predict_cases.pop(0)\n",
        "Predict_cases\n",
        "#predicted_cases= Predict_cases.join(india_confirmed_cases)\n",
        "raw_seq = raw_seq.join(Predict_cases)\n",
        "raw_seq\n",
        "t2 = raw_seq"
      ],
      "execution_count": 0,
      "outputs": []
    },
    {
      "cell_type": "code",
      "metadata": {
        "id": "yv13r-INeC5N",
        "colab_type": "code",
        "outputId": "68d0f800-f311-4d72-a038-b804c61489e2",
        "colab": {
          "base_uri": "https://localhost:8080/",
          "height": 252
        }
      },
      "source": [
        "print(t2)"
      ],
      "execution_count": 13,
      "outputs": [
        {
          "output_type": "stream",
          "text": [
            "         Dates  Confirmed Cases  ...  Predicted Cases  Predicted Deaths\n",
            "0   01/22/2020                0  ...         1.684634          2.035163\n",
            "1   01/23/2020                0  ...         1.684634          2.035163\n",
            "2   01/24/2020                0  ...         1.684634          2.035163\n",
            "3   01/25/2020                0  ...         1.684634          2.035163\n",
            "4   01/26/2020                1  ...         3.212921          2.035163\n",
            "..         ...              ...  ...              ...               ...\n",
            "87  04/18/2020            11013  ...     11733.942383        616.165710\n",
            "88  04/19/2020            11561  ...     12316.936523        645.297729\n",
            "89  04/20/2020            12063  ...     12850.992188        680.903625\n",
            "90  04/21/2020            12715  ...     13544.626953        756.431152\n",
            "91  04/22/2020            13718  ...     14611.676758        829.800659\n",
            "\n",
            "[92 rows x 6 columns]\n"
          ],
          "name": "stdout"
        }
      ]
    },
    {
      "cell_type": "code",
      "metadata": {
        "id": "0Vaone0bePOG",
        "colab_type": "code",
        "outputId": "05ace4b1-5ac3-41fe-de88-79e6073e1941",
        "colab": {
          "base_uri": "https://localhost:8080/",
          "height": 343
        }
      },
      "source": [
        "t2.tail(10)"
      ],
      "execution_count": 14,
      "outputs": [
        {
          "output_type": "execute_result",
          "data": {
            "text/html": [
              "<div>\n",
              "<style scoped>\n",
              "    .dataframe tbody tr th:only-of-type {\n",
              "        vertical-align: middle;\n",
              "    }\n",
              "\n",
              "    .dataframe tbody tr th {\n",
              "        vertical-align: top;\n",
              "    }\n",
              "\n",
              "    .dataframe thead th {\n",
              "        text-align: right;\n",
              "    }\n",
              "</style>\n",
              "<table border=\"1\" class=\"dataframe\">\n",
              "  <thead>\n",
              "    <tr style=\"text-align: right;\">\n",
              "      <th></th>\n",
              "      <th>Dates</th>\n",
              "      <th>Confirmed Cases</th>\n",
              "      <th>Ontario Deaths</th>\n",
              "      <th>Ontario Recovered</th>\n",
              "      <th>Predicted Cases</th>\n",
              "      <th>Predicted Deaths</th>\n",
              "    </tr>\n",
              "  </thead>\n",
              "  <tbody>\n",
              "    <tr>\n",
              "      <th>82</th>\n",
              "      <td>04/13/2020</td>\n",
              "      <td>7470</td>\n",
              "      <td>291</td>\n",
              "      <td>7758</td>\n",
              "      <td>7964.695312</td>\n",
              "      <td>321.608398</td>\n",
              "    </tr>\n",
              "    <tr>\n",
              "      <th>83</th>\n",
              "      <td>04/14/2020</td>\n",
              "      <td>7953</td>\n",
              "      <td>334</td>\n",
              "      <td>8210</td>\n",
              "      <td>8478.539062</td>\n",
              "      <td>368.003845</td>\n",
              "    </tr>\n",
              "    <tr>\n",
              "      <th>84</th>\n",
              "      <td>04/15/2020</td>\n",
              "      <td>8447</td>\n",
              "      <td>385</td>\n",
              "      <td>8966</td>\n",
              "      <td>9004.083984</td>\n",
              "      <td>423.031097</td>\n",
              "    </tr>\n",
              "    <tr>\n",
              "      <th>85</th>\n",
              "      <td>04/16/2020</td>\n",
              "      <td>9840</td>\n",
              "      <td>490</td>\n",
              "      <td>9698</td>\n",
              "      <td>10486.037109</td>\n",
              "      <td>536.322327</td>\n",
              "    </tr>\n",
              "    <tr>\n",
              "      <th>86</th>\n",
              "      <td>04/17/2020</td>\n",
              "      <td>10456</td>\n",
              "      <td>524</td>\n",
              "      <td>10545</td>\n",
              "      <td>11141.372070</td>\n",
              "      <td>573.007080</td>\n",
              "    </tr>\n",
              "    <tr>\n",
              "      <th>87</th>\n",
              "      <td>04/18/2020</td>\n",
              "      <td>11013</td>\n",
              "      <td>564</td>\n",
              "      <td>10964</td>\n",
              "      <td>11733.942383</td>\n",
              "      <td>616.165710</td>\n",
              "    </tr>\n",
              "    <tr>\n",
              "      <th>88</th>\n",
              "      <td>04/19/2020</td>\n",
              "      <td>11561</td>\n",
              "      <td>591</td>\n",
              "      <td>11847</td>\n",
              "      <td>12316.936523</td>\n",
              "      <td>645.297729</td>\n",
              "    </tr>\n",
              "    <tr>\n",
              "      <th>89</th>\n",
              "      <td>04/20/2020</td>\n",
              "      <td>12063</td>\n",
              "      <td>624</td>\n",
              "      <td>12543</td>\n",
              "      <td>12850.992188</td>\n",
              "      <td>680.903625</td>\n",
              "    </tr>\n",
              "    <tr>\n",
              "      <th>90</th>\n",
              "      <td>04/21/2020</td>\n",
              "      <td>12715</td>\n",
              "      <td>694</td>\n",
              "      <td>13188</td>\n",
              "      <td>13544.626953</td>\n",
              "      <td>756.431152</td>\n",
              "    </tr>\n",
              "    <tr>\n",
              "      <th>91</th>\n",
              "      <td>04/22/2020</td>\n",
              "      <td>13718</td>\n",
              "      <td>762</td>\n",
              "      <td>14454</td>\n",
              "      <td>14611.676758</td>\n",
              "      <td>829.800659</td>\n",
              "    </tr>\n",
              "  </tbody>\n",
              "</table>\n",
              "</div>"
            ],
            "text/plain": [
              "         Dates  Confirmed Cases  ...  Predicted Cases  Predicted Deaths\n",
              "82  04/13/2020             7470  ...      7964.695312        321.608398\n",
              "83  04/14/2020             7953  ...      8478.539062        368.003845\n",
              "84  04/15/2020             8447  ...      9004.083984        423.031097\n",
              "85  04/16/2020             9840  ...     10486.037109        536.322327\n",
              "86  04/17/2020            10456  ...     11141.372070        573.007080\n",
              "87  04/18/2020            11013  ...     11733.942383        616.165710\n",
              "88  04/19/2020            11561  ...     12316.936523        645.297729\n",
              "89  04/20/2020            12063  ...     12850.992188        680.903625\n",
              "90  04/21/2020            12715  ...     13544.626953        756.431152\n",
              "91  04/22/2020            13718  ...     14611.676758        829.800659\n",
              "\n",
              "[10 rows x 6 columns]"
            ]
          },
          "metadata": {
            "tags": []
          },
          "execution_count": 14
        }
      ]
    },
    {
      "cell_type": "code",
      "metadata": {
        "id": "nZaVWJIneoeH",
        "colab_type": "code",
        "outputId": "80be0146-b7ba-4d56-f9fe-103019ed8c82",
        "colab": {
          "base_uri": "https://localhost:8080/",
          "height": 282
        }
      },
      "source": [
        "t2.plot()"
      ],
      "execution_count": 15,
      "outputs": [
        {
          "output_type": "execute_result",
          "data": {
            "text/plain": [
              "<matplotlib.axes._subplots.AxesSubplot at 0x7f229262d518>"
            ]
          },
          "metadata": {
            "tags": []
          },
          "execution_count": 15
        },
        {
          "output_type": "display_data",
          "data": {
            "image/png": "[encoded data removed]",
            "text/plain": [
              "<Figure size 432x288 with 1 Axes>"
            ]
          },
          "metadata": {
            "tags": [],
            "needs_background": "light"
          }
        }
      ]
    },
    {
      "cell_type": "code",
      "metadata": {
        "id": "tpobDpR62bxb",
        "colab_type": "code",
        "outputId": "6b320094-09c1-4a87-8f58-4f83249865c5",
        "colab": {
          "base_uri": "https://localhost:8080/",
          "height": 1000
        }
      },
      "source": [
        "# India Recovered\n",
        "import numpy as np\n",
        "from numpy import array\n",
        "from keras.models import Sequential\n",
        "from keras.layers import Dense\n",
        "from keras.layers import Flatten\n",
        "from keras.layers.convolutional import Conv1D\n",
        "from keras.layers.convolutional import MaxPooling1D\n",
        "\n",
        "# split a univariate sequence into samples\n",
        "def split_sequence(sequence, n_steps):\n",
        "\tX, y = list(), list()\n",
        "\tfor i in range(len(sequence)):\n",
        "\t\t# find the end of this pattern\n",
        "\t\tend_ix = i + n_steps\n",
        "\t\t# check if we are beyond the sequence\n",
        "\t\tif end_ix > len(sequence)-1:\n",
        "\t\t\tbreak\n",
        "\t\t# gather input and output parts of the pattern\n",
        "\t\tseq_x, seq_y = sequence[i:end_ix], sequence[end_ix]\n",
        "\t\tX.append(seq_x)\n",
        "\t\ty.append(seq_y)\n",
        "\treturn array(X), array(y)\n",
        "\n",
        "# define input sequence\n",
        "#raw_seq = pd.read_csv(\"/content/drive/My Drive/Total_cases_Canada.csv\")\n",
        "# choose a number of time steps\n",
        "n_steps = 3\n",
        "# split into samples\n",
        "X, y = split_sequence(ontario_recovered, n_steps)\n",
        "# reshape from [samples, timesteps] into [samples, timesteps, features]\n",
        "n_features = 1\n",
        "X = X.reshape((X.shape[0], X.shape[1], n_features))\n",
        "# define model\n",
        "model = Sequential()\n",
        "model.add(Conv1D(filters=64, kernel_size=2, activation='relu', input_shape=(n_steps, n_features)))\n",
        "model.add(MaxPooling1D(pool_size=2))\n",
        "model.add(Flatten())\n",
        "model.add(Dense(50, activation='relu'))\n",
        "model.add(Dense(1))\n",
        "model.compile(optimizer='adam', loss='mse')\n",
        "# fit model\n",
        "model.fit(X, y, epochs=1000, verbose=0)\n",
        "# demonstrate prediction\n",
        "x= len(ontario_recovered)\n",
        "pred_val = []\n",
        "for i in range(x):\n",
        "  i=ontario_recovered[i]\n",
        "  x_input1=[i,i+1,i+2]\n",
        "  x_input=np.asarray(x_input1)\n",
        "  x_input = x_input.reshape((1, n_steps, n_features))\n",
        "  yhat = model.predict(x_input, verbose=1)\n",
        "  pred_val.append(yhat)\n",
        "  print(yhat)\n",
        "#x_input = array([1263, 1264, 1265])\n",
        "#x_input = x_input.reshape((1, n_steps, n_features))\n",
        "#yhat = model.predict(x_input, verbose=0)\n",
        "#print(yhat)"
      ],
      "execution_count": 16,
      "outputs": [
        {
          "output_type": "stream",
          "text": [
            "1/1 [==============================] - 0s 11ms/step\n",
            "[[3.5203722]]\n",
            "1/1 [==============================] - 0s 1ms/step\n",
            "[[3.5203722]]\n",
            "1/1 [==============================] - 0s 584us/step\n",
            "[[3.5203722]]\n",
            "1/1 [==============================] - 0s 1ms/step\n",
            "[[3.5203722]]\n",
            "1/1 [==============================] - 0s 572us/step\n",
            "[[3.5203722]]\n",
            "1/1 [==============================] - 0s 597us/step\n",
            "[[3.5203722]]\n",
            "1/1 [==============================] - 0s 848us/step\n",
            "[[3.5203722]]\n",
            "1/1 [==============================] - 0s 557us/step\n",
            "[[3.5203722]]\n",
            "1/1 [==============================] - 0s 628us/step\n",
            "[[3.5203722]]\n",
            "1/1 [==============================] - 0s 518us/step\n",
            "[[3.5203722]]\n",
            "1/1 [==============================] - 0s 576us/step\n",
            "[[3.5203722]]\n",
            "1/1 [==============================] - 0s 579us/step\n",
            "[[3.5203722]]\n",
            "1/1 [==============================] - 0s 550us/step\n",
            "[[3.5203722]]\n",
            "1/1 [==============================] - 0s 530us/step\n",
            "[[3.5203722]]\n",
            "1/1 [==============================] - 0s 568us/step\n",
            "[[3.5203722]]\n",
            "1/1 [==============================] - 0s 486us/step\n",
            "[[3.5203722]]\n",
            "1/1 [==============================] - 0s 531us/step\n",
            "[[3.5203722]]\n",
            "1/1 [==============================] - 0s 559us/step\n",
            "[[3.5203722]]\n",
            "1/1 [==============================] - 0s 1ms/step\n",
            "[[3.5203722]]\n",
            "1/1 [==============================] - 0s 1ms/step\n",
            "[[3.5203722]]\n",
            "1/1 [==============================] - 0s 1ms/step\n",
            "[[3.5203722]]\n",
            "1/1 [==============================] - 0s 1ms/step\n",
            "[[5.213809]]\n",
            "1/1 [==============================] - 0s 519us/step\n",
            "[[5.213809]]\n",
            "1/1 [==============================] - 0s 480us/step\n",
            "[[5.213809]]\n",
            "1/1 [==============================] - 0s 1ms/step\n",
            "[[5.213809]]\n",
            "1/1 [==============================] - 0s 2ms/step\n",
            "[[5.213809]]\n",
            "1/1 [==============================] - 0s 793us/step\n",
            "[[5.213809]]\n",
            "1/1 [==============================] - 0s 748us/step\n",
            "[[5.213809]]\n",
            "1/1 [==============================] - 0s 645us/step\n",
            "[[5.213809]]\n",
            "1/1 [==============================] - 0s 669us/step\n",
            "[[5.213809]]\n",
            "1/1 [==============================] - 0s 732us/step\n",
            "[[8.600392]]\n",
            "1/1 [==============================] - 0s 721us/step\n",
            "[[8.600392]]\n",
            "1/1 [==============================] - 0s 682us/step\n",
            "[[8.600392]]\n",
            "1/1 [==============================] - 0s 573us/step\n",
            "[[8.600392]]\n",
            "1/1 [==============================] - 0s 1ms/step\n",
            "[[8.600392]]\n",
            "1/1 [==============================] - 0s 671us/step\n",
            "[[8.600392]]\n",
            "1/1 [==============================] - 0s 681us/step\n",
            "[[13.664971]]\n",
            "1/1 [==============================] - 0s 689us/step\n",
            "[[13.664971]]\n",
            "1/1 [==============================] - 0s 578us/step\n",
            "[[13.664971]]\n",
            "1/1 [==============================] - 0s 1ms/step\n",
            "[[13.664971]]\n",
            "1/1 [==============================] - 0s 671us/step\n",
            "[[13.664971]]\n",
            "1/1 [==============================] - 0s 573us/step\n",
            "[[13.664971]]\n",
            "1/1 [==============================] - 0s 602us/step\n",
            "[[13.664971]]\n",
            "1/1 [==============================] - 0s 612us/step\n",
            "[[13.664971]]\n",
            "1/1 [==============================] - 0s 622us/step\n",
            "[[13.664971]]\n",
            "1/1 [==============================] - 0s 1ms/step\n",
            "[[17.034258]]\n",
            "1/1 [==============================] - 0s 576us/step\n",
            "[[17.034258]]\n",
            "1/1 [==============================] - 0s 838us/step\n",
            "[[17.034258]]\n",
            "1/1 [==============================] - 0s 587us/step\n",
            "[[17.034258]]\n",
            "1/1 [==============================] - 0s 606us/step\n",
            "[[17.034258]]\n",
            "1/1 [==============================] - 0s 679us/step\n",
            "[[17.034258]]\n",
            "1/1 [==============================] - 0s 597us/step\n",
            "[[17.034258]]\n",
            "1/1 [==============================] - 0s 1ms/step\n",
            "[[17.034258]]\n",
            "1/1 [==============================] - 0s 646us/step\n",
            "[[17.034258]]\n",
            "1/1 [==============================] - 0s 614us/step\n",
            "[[18.718897]]\n",
            "1/1 [==============================] - 0s 581us/step\n",
            "[[18.718897]]\n",
            "1/1 [==============================] - 0s 625us/step\n",
            "[[18.718897]]\n",
            "1/1 [==============================] - 0s 651us/step\n",
            "[[18.718897]]\n",
            "1/1 [==============================] - 0s 746us/step\n",
            "[[18.718897]]\n",
            "1/1 [==============================] - 0s 747us/step\n",
            "[[20.403538]]\n",
            "1/1 [==============================] - 0s 576us/step\n",
            "[[20.403538]]\n",
            "1/1 [==============================] - 0s 704us/step\n",
            "[[20.403538]]\n",
            "1/1 [==============================] - 0s 570us/step\n",
            "[[139.21829]]\n",
            "1/1 [==============================] - 0s 599us/step\n",
            "[[219.35774]]\n",
            "1/1 [==============================] - 0s 639us/step\n",
            "[[220.45523]]\n",
            "1/1 [==============================] - 0s 791us/step\n",
            "[[299.4306]]\n",
            "1/1 [==============================] - 0s 613us/step\n",
            "[[529.37036]]\n",
            "1/1 [==============================] - 0s 572us/step\n",
            "[[529.37036]]\n",
            "1/1 [==============================] - 0s 619us/step\n",
            "[[529.37036]]\n",
            "1/1 [==============================] - 0s 719us/step\n",
            "[[1762.2856]]\n",
            "1/1 [==============================] - 0s 722us/step\n",
            "[[1468.8389]]\n",
            "1/1 [==============================] - 0s 782us/step\n",
            "[[1918.8639]]\n",
            "1/1 [==============================] - 0s 754us/step\n",
            "[[2400.6423]]\n",
            "1/1 [==============================] - 0s 708us/step\n",
            "[[2840.8127]]\n",
            "1/1 [==============================] - 0s 607us/step\n",
            "[[3317.1167]]\n",
            "1/1 [==============================] - 0s 1ms/step\n",
            "[[3584.2847]]\n",
            "1/1 [==============================] - 0s 1ms/step\n",
            "[[4170.084]]\n",
            "1/1 [==============================] - 0s 753us/step\n",
            "[[4567.552]]\n",
            "1/1 [==============================] - 0s 576us/step\n",
            "[[5671.263]]\n",
            "1/1 [==============================] - 0s 656us/step\n",
            "[[6430.0635]]\n",
            "1/1 [==============================] - 0s 737us/step\n",
            "[[7233.7583]]\n",
            "1/1 [==============================] - 0s 841us/step\n",
            "[[7818.4624]]\n",
            "1/1 [==============================] - 0s 864us/step\n",
            "[[8513.756]]\n",
            "1/1 [==============================] - 0s 1ms/step\n",
            "[[9008.674]]\n",
            "1/1 [==============================] - 0s 793us/step\n",
            "[[9836.457]]\n",
            "1/1 [==============================] - 0s 663us/step\n",
            "[[10637.963]]\n",
            "1/1 [==============================] - 0s 545us/step\n",
            "[[11565.386]]\n",
            "1/1 [==============================] - 0s 561us/step\n",
            "[[12024.17]]\n",
            "1/1 [==============================] - 0s 585us/step\n",
            "[[12991.014]]\n",
            "1/1 [==============================] - 0s 886us/step\n",
            "[[13753.1]]\n",
            "1/1 [==============================] - 0s 572us/step\n",
            "[[14459.342]]\n",
            "1/1 [==============================] - 0s 876us/step\n",
            "[[15845.552]]\n"
          ],
          "name": "stdout"
        }
      ]
    },
    {
      "cell_type": "code",
      "metadata": {
        "id": "85qj4h_1vJ6V",
        "colab_type": "code",
        "colab": {}
      },
      "source": [
        "pred_val\n",
        "predict= np.concatenate((pred_val))\n",
        "Predict_cases=pd.DataFrame(predict)\n",
        "Predict_cases['Predicted Recovered']=Predict_cases\n",
        "Predict_cases.pop(0)\n",
        "Predict_cases\n",
        "#predicted_cases= Predict_cases.join(india_confirmed_cases)\n",
        "raw_seq = raw_seq.join(Predict_cases)\n",
        "raw_seq\n",
        "t3 = raw_seq"
      ],
      "execution_count": 0,
      "outputs": []
    },
    {
      "cell_type": "code",
      "metadata": {
        "id": "n3H_-alfirYc",
        "colab_type": "code",
        "outputId": "d67710a0-89b2-4860-9ea2-2d5ff445658b",
        "colab": {
          "base_uri": "https://localhost:8080/",
          "height": 252
        }
      },
      "source": [
        "print(t3)"
      ],
      "execution_count": 18,
      "outputs": [
        {
          "output_type": "stream",
          "text": [
            "         Dates  Confirmed Cases  ...  Predicted Deaths  Predicted Recovered\n",
            "0   01/22/2020                0  ...          2.035163             3.520372\n",
            "1   01/23/2020                0  ...          2.035163             3.520372\n",
            "2   01/24/2020                0  ...          2.035163             3.520372\n",
            "3   01/25/2020                0  ...          2.035163             3.520372\n",
            "4   01/26/2020                1  ...          2.035163             3.520372\n",
            "..         ...              ...  ...               ...                  ...\n",
            "87  04/18/2020            11013  ...        616.165710         12024.169922\n",
            "88  04/19/2020            11561  ...        645.297729         12991.013672\n",
            "89  04/20/2020            12063  ...        680.903625         13753.099609\n",
            "90  04/21/2020            12715  ...        756.431152         14459.341797\n",
            "91  04/22/2020            13718  ...        829.800659         15845.551758\n",
            "\n",
            "[92 rows x 7 columns]\n"
          ],
          "name": "stdout"
        }
      ]
    },
    {
      "cell_type": "code",
      "metadata": {
        "id": "6Dlpt_O7iwiJ",
        "colab_type": "code",
        "outputId": "ac663d55-ff65-466b-91e0-b8f84306f5dd",
        "colab": {
          "base_uri": "https://localhost:8080/",
          "height": 343
        }
      },
      "source": [
        "t3.tail(10)"
      ],
      "execution_count": 19,
      "outputs": [
        {
          "output_type": "execute_result",
          "data": {
            "text/html": [
              "<div>\n",
              "<style scoped>\n",
              "    .dataframe tbody tr th:only-of-type {\n",
              "        vertical-align: middle;\n",
              "    }\n",
              "\n",
              "    .dataframe tbody tr th {\n",
              "        vertical-align: top;\n",
              "    }\n",
              "\n",
              "    .dataframe thead th {\n",
              "        text-align: right;\n",
              "    }\n",
              "</style>\n",
              "<table border=\"1\" class=\"dataframe\">\n",
              "  <thead>\n",
              "    <tr style=\"text-align: right;\">\n",
              "      <th></th>\n",
              "      <th>Dates</th>\n",
              "      <th>Confirmed Cases</th>\n",
              "      <th>Ontario Deaths</th>\n",
              "      <th>Ontario Recovered</th>\n",
              "      <th>Predicted Cases</th>\n",
              "      <th>Predicted Deaths</th>\n",
              "      <th>Predicted Recovered</th>\n",
              "    </tr>\n",
              "  </thead>\n",
              "  <tbody>\n",
              "    <tr>\n",
              "      <th>82</th>\n",
              "      <td>04/13/2020</td>\n",
              "      <td>7470</td>\n",
              "      <td>291</td>\n",
              "      <td>7758</td>\n",
              "      <td>7964.695312</td>\n",
              "      <td>321.608398</td>\n",
              "      <td>8513.755859</td>\n",
              "    </tr>\n",
              "    <tr>\n",
              "      <th>83</th>\n",
              "      <td>04/14/2020</td>\n",
              "      <td>7953</td>\n",
              "      <td>334</td>\n",
              "      <td>8210</td>\n",
              "      <td>8478.539062</td>\n",
              "      <td>368.003845</td>\n",
              "      <td>9008.673828</td>\n",
              "    </tr>\n",
              "    <tr>\n",
              "      <th>84</th>\n",
              "      <td>04/15/2020</td>\n",
              "      <td>8447</td>\n",
              "      <td>385</td>\n",
              "      <td>8966</td>\n",
              "      <td>9004.083984</td>\n",
              "      <td>423.031097</td>\n",
              "      <td>9836.457031</td>\n",
              "    </tr>\n",
              "    <tr>\n",
              "      <th>85</th>\n",
              "      <td>04/16/2020</td>\n",
              "      <td>9840</td>\n",
              "      <td>490</td>\n",
              "      <td>9698</td>\n",
              "      <td>10486.037109</td>\n",
              "      <td>536.322327</td>\n",
              "      <td>10637.962891</td>\n",
              "    </tr>\n",
              "    <tr>\n",
              "      <th>86</th>\n",
              "      <td>04/17/2020</td>\n",
              "      <td>10456</td>\n",
              "      <td>524</td>\n",
              "      <td>10545</td>\n",
              "      <td>11141.372070</td>\n",
              "      <td>573.007080</td>\n",
              "      <td>11565.385742</td>\n",
              "    </tr>\n",
              "    <tr>\n",
              "      <th>87</th>\n",
              "      <td>04/18/2020</td>\n",
              "      <td>11013</td>\n",
              "      <td>564</td>\n",
              "      <td>10964</td>\n",
              "      <td>11733.942383</td>\n",
              "      <td>616.165710</td>\n",
              "      <td>12024.169922</td>\n",
              "    </tr>\n",
              "    <tr>\n",
              "      <th>88</th>\n",
              "      <td>04/19/2020</td>\n",
              "      <td>11561</td>\n",
              "      <td>591</td>\n",
              "      <td>11847</td>\n",
              "      <td>12316.936523</td>\n",
              "      <td>645.297729</td>\n",
              "      <td>12991.013672</td>\n",
              "    </tr>\n",
              "    <tr>\n",
              "      <th>89</th>\n",
              "      <td>04/20/2020</td>\n",
              "      <td>12063</td>\n",
              "      <td>624</td>\n",
              "      <td>12543</td>\n",
              "      <td>12850.992188</td>\n",
              "      <td>680.903625</td>\n",
              "      <td>13753.099609</td>\n",
              "    </tr>\n",
              "    <tr>\n",
              "      <th>90</th>\n",
              "      <td>04/21/2020</td>\n",
              "      <td>12715</td>\n",
              "      <td>694</td>\n",
              "      <td>13188</td>\n",
              "      <td>13544.626953</td>\n",
              "      <td>756.431152</td>\n",
              "      <td>14459.341797</td>\n",
              "    </tr>\n",
              "    <tr>\n",
              "      <th>91</th>\n",
              "      <td>04/22/2020</td>\n",
              "      <td>13718</td>\n",
              "      <td>762</td>\n",
              "      <td>14454</td>\n",
              "      <td>14611.676758</td>\n",
              "      <td>829.800659</td>\n",
              "      <td>15845.551758</td>\n",
              "    </tr>\n",
              "  </tbody>\n",
              "</table>\n",
              "</div>"
            ],
            "text/plain": [
              "         Dates  Confirmed Cases  ...  Predicted Deaths  Predicted Recovered\n",
              "82  04/13/2020             7470  ...        321.608398          8513.755859\n",
              "83  04/14/2020             7953  ...        368.003845          9008.673828\n",
              "84  04/15/2020             8447  ...        423.031097          9836.457031\n",
              "85  04/16/2020             9840  ...        536.322327         10637.962891\n",
              "86  04/17/2020            10456  ...        573.007080         11565.385742\n",
              "87  04/18/2020            11013  ...        616.165710         12024.169922\n",
              "88  04/19/2020            11561  ...        645.297729         12991.013672\n",
              "89  04/20/2020            12063  ...        680.903625         13753.099609\n",
              "90  04/21/2020            12715  ...        756.431152         14459.341797\n",
              "91  04/22/2020            13718  ...        829.800659         15845.551758\n",
              "\n",
              "[10 rows x 7 columns]"
            ]
          },
          "metadata": {
            "tags": []
          },
          "execution_count": 19
        }
      ]
    },
    {
      "cell_type": "code",
      "metadata": {
        "id": "SZY4BCvxjAZL",
        "colab_type": "code",
        "outputId": "8b8a1066-0c01-456b-898a-e9912a9893c7",
        "colab": {
          "base_uri": "https://localhost:8080/",
          "height": 282
        }
      },
      "source": [
        "t3.plot()"
      ],
      "execution_count": 20,
      "outputs": [
        {
          "output_type": "execute_result",
          "data": {
            "text/plain": [
              "<matplotlib.axes._subplots.AxesSubplot at 0x7f229243c5f8>"
            ]
          },
          "metadata": {
            "tags": []
          },
          "execution_count": 20
        },
        {
          "output_type": "display_data",
          "data": {
            "image/png": "[encoded data removed]",
            "text/plain": [
              "<Figure size 432x288 with 1 Axes>"
            ]
          },
          "metadata": {
            "tags": [],
            "needs_background": "light"
          }
        }
      ]
    },
    {
      "cell_type": "code",
      "metadata": {
        "id": "a6nk475f2zu2",
        "colab_type": "code",
        "colab": {}
      },
      "source": [
        "t3.to_csv (r'/content/drive/My Drive/ontario_og_preds.csv', index = False, header=True)"
      ],
      "execution_count": 0,
      "outputs": []
    },
    {
      "cell_type": "code",
      "metadata": {
        "id": "IjWFsjp42cNH",
        "colab_type": "code",
        "outputId": "724caf8f-330d-4369-ae9d-1d7758648daa",
        "colab": {
          "base_uri": "https://localhost:8080/",
          "height": 34
        }
      },
      "source": [
        "'''errors= abs(Total_cases['Prediction'] - raw['India Confirmed Cases'])\n",
        "mape= np.mean(100*(errors/confirmed_cases))\n",
        "Accuracy=100-mape\n",
        "Accuracy'''"
      ],
      "execution_count": 22,
      "outputs": [
        {
          "output_type": "execute_result",
          "data": {
            "text/plain": [
              "\"errors= abs(Total_cases['Prediction'] - raw['India Confirmed Cases'])\\nmape= np.mean(100*(errors/confirmed_cases))\\nAccuracy=100-mape\\nAccuracy\""
            ]
          },
          "metadata": {
            "tags": []
          },
          "execution_count": 22
        }
      ]
    },
    {
      "cell_type": "code",
      "metadata": {
        "id": "Q7pPdkGaNnqd",
        "colab_type": "code",
        "outputId": "93c9d9f3-def9-44e0-a73b-0a8135a6340e",
        "colab": {
          "base_uri": "https://localhost:8080/",
          "height": 1000
        }
      },
      "source": [
        "pd.set_option('display.max_rows', t3.shape[0]+1)\n",
        "print(t3)"
      ],
      "execution_count": 23,
      "outputs": [
        {
          "output_type": "stream",
          "text": [
            "         Dates  Confirmed Cases  ...  Predicted Deaths  Predicted Recovered\n",
            "0   01/22/2020                0  ...          2.035163             3.520372\n",
            "1   01/23/2020                0  ...          2.035163             3.520372\n",
            "2   01/24/2020                0  ...          2.035163             3.520372\n",
            "3   01/25/2020                0  ...          2.035163             3.520372\n",
            "4   01/26/2020                1  ...          2.035163             3.520372\n",
            "5   01/27/2020                1  ...          2.035163             3.520372\n",
            "6   01/28/2020                1  ...          2.035163             3.520372\n",
            "7   01/29/2020                1  ...          2.035163             3.520372\n",
            "8   01/30/2020                1  ...          2.035163             3.520372\n",
            "9   01/31/2020                3  ...          2.035163             3.520372\n",
            "10  02/01/2020                3  ...          2.035163             3.520372\n",
            "11  02/02/2020                3  ...          2.035163             3.520372\n",
            "12  02/03/2020                3  ...          2.035163             3.520372\n",
            "13  02/04/2020                3  ...          2.035163             3.520372\n",
            "14  02/05/2020                3  ...          2.035163             3.520372\n",
            "15  02/06/2020                3  ...          2.035163             3.520372\n",
            "16  02/07/2020                3  ...          2.035163             3.520372\n",
            "17  02/08/2020                3  ...          2.035163             3.520372\n",
            "18  02/09/2020                3  ...          2.035163             3.520372\n",
            "19  02/10/2020                3  ...          2.035163             3.520372\n",
            "20  02/11/2020                3  ...          2.035163             3.520372\n",
            "21  02/12/2020                3  ...          2.035163             5.213809\n",
            "22  02/13/2020                3  ...          2.035163             5.213809\n",
            "23  02/14/2020                3  ...          2.035163             5.213809\n",
            "24  02/15/2020                3  ...          2.035163             5.213809\n",
            "25  02/16/2020                3  ...          2.035163             5.213809\n",
            "26  02/17/2020                3  ...          2.035163             5.213809\n",
            "27  02/18/2020                3  ...          2.035163             5.213809\n",
            "28  02/19/2020                3  ...          2.035163             5.213809\n",
            "29  02/20/2020                3  ...          2.035163             5.213809\n",
            "30  02/21/2020                3  ...          2.035163             8.600392\n",
            "31  02/22/2020                3  ...          2.035163             8.600392\n",
            "32  02/23/2020                3  ...          2.035163             8.600392\n",
            "33  02/24/2020                4  ...          2.035163             8.600392\n",
            "34  02/25/2020                4  ...          2.035163             8.600392\n",
            "35  02/26/2020                4  ...          2.035163             8.600392\n",
            "36  02/27/2020                6  ...          2.035163            13.664971\n",
            "37  02/28/2020                6  ...          2.035163            13.664971\n",
            "38  02/29/2020               11  ...          2.035163            13.664971\n",
            "39  03/01/2020               15  ...          2.035163            13.664971\n",
            "40  03/02/2020               18  ...          2.035163            13.664971\n",
            "41  03/03/2020               20  ...          2.035163            13.664971\n",
            "42  03/04/2020               20  ...          2.035163            13.664971\n",
            "43  03/05/2020               22  ...          2.035163            13.664971\n",
            "44  03/06/2020               25  ...          2.035163            13.664971\n",
            "45  03/07/2020               28  ...          2.035163            17.034258\n",
            "46  03/08/2020               29  ...          2.035163            17.034258\n",
            "47  03/09/2020               34  ...          2.035163            17.034258\n",
            "48  03/10/2020               36  ...          2.035163            17.034258\n",
            "49  03/11/2020               41  ...          2.035163            17.034258\n",
            "50  03/12/2020               42  ...          2.035163            17.034258\n",
            "51  03/13/2020               74  ...          2.035163            17.034258\n",
            "52  03/14/2020               79  ...          2.035163            17.034258\n",
            "53  03/15/2020              104  ...          2.035163            17.034258\n",
            "54  03/16/2020              177  ...          2.035163            18.718897\n",
            "55  03/17/2020              185  ...          3.370435            18.718897\n",
            "56  03/18/2020              221  ...          3.370435            18.718897\n",
            "57  03/19/2020              257  ...          3.370435            18.718897\n",
            "58  03/20/2020              308  ...          4.639702            18.718897\n",
            "59  03/21/2020              377  ...          5.964165            20.403538\n",
            "60  03/22/2020              425  ...          8.616185            20.403538\n",
            "61  03/23/2020              503  ...          9.960476            20.403538\n",
            "62  03/24/2020              588  ...         11.304763           139.218292\n",
            "63  03/25/2020              688  ...         12.649055           219.357742\n",
            "64  03/26/2020              858  ...         20.308510           220.455231\n",
            "65  03/27/2020              994  ...         27.673042           299.430603\n",
            "66  03/28/2020             1144  ...         27.673042           529.370361\n",
            "67  03/29/2020             1355  ...         31.452772           529.370361\n",
            "68  03/30/2020             1706  ...         41.152954           529.370361\n",
            "69  03/31/2020             1966  ...         43.235481          1762.285645\n",
            "70  04/01/2020             2392  ...         47.551338          1468.838867\n",
            "71  04/02/2020             2793  ...         64.814781          1918.863892\n",
            "72  04/03/2020             3255  ...         79.920273          2400.642334\n",
            "73  04/04/2020             3630  ...        109.052315          2840.812744\n",
            "74  04/05/2020             4354  ...        136.026459          3317.116699\n",
            "75  04/06/2020             4347  ...        169.474350          3584.284668\n",
            "76  04/07/2020             4726  ...        172.711243          4170.083984\n",
            "77  04/08/2020             5276  ...        172.711243          4567.551758\n",
            "78  04/09/2020             5759  ...        223.422592          5671.263184\n",
            "79  04/10/2020             6237  ...        247.159805          6430.063477\n",
            "80  04/11/2020             6648  ...        280.607727          7233.758301\n",
            "81  04/12/2020             7049  ...        303.266022          7818.462402\n",
            "82  04/13/2020             7470  ...        321.608398          8513.755859\n",
            "83  04/14/2020             7953  ...        368.003845          9008.673828\n",
            "84  04/15/2020             8447  ...        423.031097          9836.457031\n",
            "85  04/16/2020             9840  ...        536.322327         10637.962891\n",
            "86  04/17/2020            10456  ...        573.007080         11565.385742\n",
            "87  04/18/2020            11013  ...        616.165710         12024.169922\n",
            "88  04/19/2020            11561  ...        645.297729         12991.013672\n",
            "89  04/20/2020            12063  ...        680.903625         13753.099609\n",
            "90  04/21/2020            12715  ...        756.431152         14459.341797\n",
            "91  04/22/2020            13718  ...        829.800659         15845.551758\n",
            "\n",
            "[92 rows x 7 columns]\n"
          ],
          "name": "stdout"
        }
      ]
    },
    {
      "cell_type": "code",
      "metadata": {
        "id": "vMQTTV3HxYeL",
        "colab_type": "code",
        "outputId": "0f7c2bba-fe4d-4739-83bc-93704b2ca096",
        "colab": {
          "base_uri": "https://localhost:8080/",
          "height": 483
        }
      },
      "source": [
        "import matplotlib.pyplot as plt\n",
        "plt.figure(figsize=(16,8))\n",
        "plt.ylabel(\"Number of Cases\")\n",
        "plt.plot(t3['Confirmed Cases'])\n",
        "plt.plot(t3['Predicted Cases'])\n",
        "plt.plot(t3['Ontario Deaths'])\n",
        "plt.plot(t3['Predicted Deaths'])\n",
        "plt.plot(t3['Ontario Recovered'])\n",
        "plt.plot(t3['Predicted Recovered'])\n",
        "plt.legend(['Ontario Confirmed Cases', 'Predicted Cases', 'Ontario Deaths', 'Predicted Deaths', 'Ontario Recovered', 'Predicted Recovered'], loc='upper left')\n",
        "plt.show()"
      ],
      "execution_count": 24,
      "outputs": [
        {
          "output_type": "display_data",
          "data": {
            "image/png": "[encoded data removed]",
            "text/plain": [
              "<Figure size 1152x576 with 1 Axes>"
            ]
          },
          "metadata": {
            "tags": [],
            "needs_background": "light"
          }
        }
      ]
    },
    {
      "cell_type": "code",
      "metadata": {
        "id": "GsASW11x3vT0",
        "colab_type": "code",
        "outputId": "ae224a85-5860-4d62-8b07-486fb1093dbe",
        "colab": {
          "base_uri": "https://localhost:8080/",
          "height": 483
        }
      },
      "source": [
        "import matplotlib.pyplot as plt\n",
        "plt.figure(figsize=(16,8))\n",
        "plt.ylabel(\"Number of Cases\")\n",
        "plt.plot(t3['Confirmed Cases'])\n",
        "#plt.plot(raw_seq['Predicted Cases'])\n",
        "plt.plot(t3['Ontario Deaths'])#plt.plot(raw_seq['Predicted Deaths'])\n",
        "plt.plot(t3['Ontario Recovered'])\n",
        "#plt.plot(raw_seq['Predicted Recovered'])\n",
        "plt.legend(['Confirmed Cases', 'Ontario Deaths', 'Ontario Recovered'], loc='upper left')\n",
        "plt.show()"
      ],
      "execution_count": 25,
      "outputs": [
        {
          "output_type": "display_data",
          "data": {
            "image/png": "[encoded data removed]",
            "text/plain": [
              "<Figure size 1152x576 with 1 Axes>"
            ]
          },
          "metadata": {
            "tags": [],
            "needs_background": "light"
          }
        }
      ]
    },
    {
      "cell_type": "code",
      "metadata": {
        "id": "BO9txJ9G5rz9",
        "colab_type": "code",
        "outputId": "118404cf-e14c-4031-d3fe-58c2bc619afb",
        "colab": {
          "base_uri": "https://localhost:8080/",
          "height": 483
        }
      },
      "source": [
        "import matplotlib.pyplot as plt\n",
        "plt.figure(figsize=(16,8))\n",
        "plt.ylabel(\"Number of Cases\")\n",
        "#plt.plot(raw_seq['India Confirmed Cases'])\n",
        "plt.plot(t3['Predicted Cases'])\n",
        "#plt.plot(raw_seq['India Deaths'])\n",
        "plt.plot(t3['Predicted Deaths'])\n",
        "#plt.plot(raw_seq['India Recovered'])\n",
        "plt.plot(t3['Predicted Recovered'])\n",
        "plt.legend(['Predicted Cases', 'Predicted Deaths', 'Predicted Recovered'], loc='upper left')\n",
        "plt.show()"
      ],
      "execution_count": 26,
      "outputs": [
        {
          "output_type": "display_data",
          "data": {
            "image/png": "[encoded data removed]",
            "text/plain": [
              "<Figure size 1152x576 with 1 Axes>"
            ]
          },
          "metadata": {
            "tags": [],
            "needs_background": "light"
          }
        }
      ]
    },
    {
      "cell_type": "code",
      "metadata": {
        "id": "T0hQrXRTrLFb",
        "colab_type": "code",
        "colab": {}
      },
      "source": [
        "newplot = t3.iloc[52:62]"
      ],
      "execution_count": 0,
      "outputs": []
    },
    {
      "cell_type": "code",
      "metadata": {
        "id": "fYyVG_7J56ni",
        "colab_type": "code",
        "outputId": "e379e2b6-319f-4c95-ee7f-16797aab4d5a",
        "colab": {
          "base_uri": "https://localhost:8080/",
          "height": 483
        }
      },
      "source": [
        "import matplotlib.pyplot as plt\n",
        "plt.figure(figsize=(16,8))\n",
        "plt.ylabel(\"Number of Cases\")\n",
        "newplot = t3['Confirmed Cases'].iloc[53:63]\n",
        "plt.plot(newplot)\n",
        "#plt.legend(['India Confirmed Cases', 'Predicted Cases', 'India Deaths', 'Predicted Deaths', 'India Recovered', 'Predicted Recovered'], loc='upper left')\n",
        "plt.show()"
      ],
      "execution_count": 28,
      "outputs": [
        {
          "output_type": "display_data",
          "data": {
            "image/png": "[encoded data removed]",
            "text/plain": [
              "<Figure size 1152x576 with 1 Axes>"
            ]
          },
          "metadata": {
            "tags": [],
            "needs_background": "light"
          }
        }
      ]
    },
    {
      "cell_type": "code",
      "metadata": {
        "id": "WsO1VTsn7RXV",
        "colab_type": "code",
        "outputId": "d0f56874-a260-4940-f733-3d48f4c76e17",
        "colab": {
          "base_uri": "https://localhost:8080/",
          "height": 202
        }
      },
      "source": [
        "newplot"
      ],
      "execution_count": 29,
      "outputs": [
        {
          "output_type": "execute_result",
          "data": {
            "text/plain": [
              "53    104\n",
              "54    177\n",
              "55    185\n",
              "56    221\n",
              "57    257\n",
              "58    308\n",
              "59    377\n",
              "60    425\n",
              "61    503\n",
              "62    588\n",
              "Name: Confirmed Cases, dtype: int64"
            ]
          },
          "metadata": {
            "tags": []
          },
          "execution_count": 29
        }
      ]
    },
    {
      "cell_type": "code",
      "metadata": {
        "id": "i0UDoNCp7SEA",
        "colab_type": "code",
        "outputId": "cc9dea85-995b-47d7-eaec-bdda66675c09",
        "colab": {
          "base_uri": "https://localhost:8080/",
          "height": 343
        }
      },
      "source": [
        "dates = t3['Dates'].iloc[53:63]\n",
        "dates\n",
        "newplot2 = pd.DataFrame(newplot.to_frame().join(dates))\n",
        "newplot2\n",
        "#newplot2.info()"
      ],
      "execution_count": 30,
      "outputs": [
        {
          "output_type": "execute_result",
          "data": {
            "text/html": [
              "<div>\n",
              "<style scoped>\n",
              "    .dataframe tbody tr th:only-of-type {\n",
              "        vertical-align: middle;\n",
              "    }\n",
              "\n",
              "    .dataframe tbody tr th {\n",
              "        vertical-align: top;\n",
              "    }\n",
              "\n",
              "    .dataframe thead th {\n",
              "        text-align: right;\n",
              "    }\n",
              "</style>\n",
              "<table border=\"1\" class=\"dataframe\">\n",
              "  <thead>\n",
              "    <tr style=\"text-align: right;\">\n",
              "      <th></th>\n",
              "      <th>Confirmed Cases</th>\n",
              "      <th>Dates</th>\n",
              "    </tr>\n",
              "  </thead>\n",
              "  <tbody>\n",
              "    <tr>\n",
              "      <th>53</th>\n",
              "      <td>104</td>\n",
              "      <td>03/15/2020</td>\n",
              "    </tr>\n",
              "    <tr>\n",
              "      <th>54</th>\n",
              "      <td>177</td>\n",
              "      <td>03/16/2020</td>\n",
              "    </tr>\n",
              "    <tr>\n",
              "      <th>55</th>\n",
              "      <td>185</td>\n",
              "      <td>03/17/2020</td>\n",
              "    </tr>\n",
              "    <tr>\n",
              "      <th>56</th>\n",
              "      <td>221</td>\n",
              "      <td>03/18/2020</td>\n",
              "    </tr>\n",
              "    <tr>\n",
              "      <th>57</th>\n",
              "      <td>257</td>\n",
              "      <td>03/19/2020</td>\n",
              "    </tr>\n",
              "    <tr>\n",
              "      <th>58</th>\n",
              "      <td>308</td>\n",
              "      <td>03/20/2020</td>\n",
              "    </tr>\n",
              "    <tr>\n",
              "      <th>59</th>\n",
              "      <td>377</td>\n",
              "      <td>03/21/2020</td>\n",
              "    </tr>\n",
              "    <tr>\n",
              "      <th>60</th>\n",
              "      <td>425</td>\n",
              "      <td>03/22/2020</td>\n",
              "    </tr>\n",
              "    <tr>\n",
              "      <th>61</th>\n",
              "      <td>503</td>\n",
              "      <td>03/23/2020</td>\n",
              "    </tr>\n",
              "    <tr>\n",
              "      <th>62</th>\n",
              "      <td>588</td>\n",
              "      <td>03/24/2020</td>\n",
              "    </tr>\n",
              "  </tbody>\n",
              "</table>\n",
              "</div>"
            ],
            "text/plain": [
              "    Confirmed Cases       Dates\n",
              "53              104  03/15/2020\n",
              "54              177  03/16/2020\n",
              "55              185  03/17/2020\n",
              "56              221  03/18/2020\n",
              "57              257  03/19/2020\n",
              "58              308  03/20/2020\n",
              "59              377  03/21/2020\n",
              "60              425  03/22/2020\n",
              "61              503  03/23/2020\n",
              "62              588  03/24/2020"
            ]
          },
          "metadata": {
            "tags": []
          },
          "execution_count": 30
        }
      ]
    },
    {
      "cell_type": "code",
      "metadata": {
        "id": "z_O5LyyWlKlJ",
        "colab_type": "code",
        "colab": {}
      },
      "source": [
        "newplot2.set_index('Dates', inplace=True)"
      ],
      "execution_count": 0,
      "outputs": []
    },
    {
      "cell_type": "code",
      "metadata": {
        "id": "wrNT9wF57ktJ",
        "colab_type": "code",
        "outputId": "9524823a-8b1d-4ae1-9153-6f10a74a4eb1",
        "colab": {
          "base_uri": "https://localhost:8080/",
          "height": 296
        }
      },
      "source": [
        "newplot2.plot()"
      ],
      "execution_count": 32,
      "outputs": [
        {
          "output_type": "execute_result",
          "data": {
            "text/plain": [
              "<matplotlib.axes._subplots.AxesSubplot at 0x7f22921bb048>"
            ]
          },
          "metadata": {
            "tags": []
          },
          "execution_count": 32
        },
        {
          "output_type": "display_data",
          "data": {
            "image/png": "[encoded data removed]",
            "text/plain": [
              "<Figure size 432x288 with 1 Axes>"
            ]
          },
          "metadata": {
            "tags": [],
            "needs_background": "light"
          }
        }
      ]
    },
    {
      "cell_type": "code",
      "metadata": {
        "id": "kqyy8oYO8Gib",
        "colab_type": "code",
        "outputId": "d651ed4f-4280-4e6a-f0fe-6f9dcdc3d7a9",
        "colab": {
          "base_uri": "https://localhost:8080/",
          "height": 34
        }
      },
      "source": [
        "percent_rise = (newplot2['Confirmed Cases'][9] - newplot2['Confirmed Cases'][0]) / newplot2['Confirmed Cases'][9] \n",
        "percent_rise\n",
        "total_rise = percent_rise * 100\n",
        "total_rise"
      ],
      "execution_count": 33,
      "outputs": [
        {
          "output_type": "execute_result",
          "data": {
            "text/plain": [
              "82.31292517006803"
            ]
          },
          "metadata": {
            "tags": []
          },
          "execution_count": 33
        }
      ]
    },
    {
      "cell_type": "code",
      "metadata": {
        "id": "xdzcWz64rFGh",
        "colab_type": "code",
        "colab": {}
      },
      "source": [
        "postplot = t3.iloc[63:73]"
      ],
      "execution_count": 0,
      "outputs": []
    },
    {
      "cell_type": "code",
      "metadata": {
        "id": "dkrifhh5pu8K",
        "colab_type": "code",
        "outputId": "f9a7c869-b606-4035-9385-80582f4e2ec8",
        "colab": {
          "base_uri": "https://localhost:8080/",
          "height": 483
        }
      },
      "source": [
        "import matplotlib.pyplot as plt\n",
        "plt.figure(figsize=(16,8))\n",
        "plt.ylabel(\"Number of Cases\")\n",
        "postplot = t3['Confirmed Cases'].iloc[63:73]\n",
        "plt.plot(postplot)\n",
        "#plt.legend(['India Confirmed Cases', 'Predicted Cases', 'India Deaths', 'Predicted Deaths', 'India Recovered', 'Predicted Recovered'], loc='upper left')\n",
        "plt.show()"
      ],
      "execution_count": 35,
      "outputs": [
        {
          "output_type": "display_data",
          "data": {
            "image/png": "[encoded data removed]",
            "text/plain": [
              "<Figure size 1152x576 with 1 Axes>"
            ]
          },
          "metadata": {
            "tags": [],
            "needs_background": "light"
          }
        }
      ]
    },
    {
      "cell_type": "code",
      "metadata": {
        "id": "sy098UIKrZkX",
        "colab_type": "code",
        "outputId": "c0e6b663-42d4-461a-e34b-559371d07416",
        "colab": {
          "base_uri": "https://localhost:8080/",
          "height": 373
        }
      },
      "source": [
        "dates2 = t3['Dates'].iloc[63:73]\n",
        "dates2\n",
        "postplot2 = pd.DataFrame(postplot.to_frame().join(dates2))\n",
        "postplot2.set_index('Dates', inplace=True)\n",
        "postplot2\n",
        "#newplot2.info()"
      ],
      "execution_count": 36,
      "outputs": [
        {
          "output_type": "execute_result",
          "data": {
            "text/html": [
              "<div>\n",
              "<style scoped>\n",
              "    .dataframe tbody tr th:only-of-type {\n",
              "        vertical-align: middle;\n",
              "    }\n",
              "\n",
              "    .dataframe tbody tr th {\n",
              "        vertical-align: top;\n",
              "    }\n",
              "\n",
              "    .dataframe thead th {\n",
              "        text-align: right;\n",
              "    }\n",
              "</style>\n",
              "<table border=\"1\" class=\"dataframe\">\n",
              "  <thead>\n",
              "    <tr style=\"text-align: right;\">\n",
              "      <th></th>\n",
              "      <th>Confirmed Cases</th>\n",
              "    </tr>\n",
              "    <tr>\n",
              "      <th>Dates</th>\n",
              "      <th></th>\n",
              "    </tr>\n",
              "  </thead>\n",
              "  <tbody>\n",
              "    <tr>\n",
              "      <th>03/25/2020</th>\n",
              "      <td>688</td>\n",
              "    </tr>\n",
              "    <tr>\n",
              "      <th>03/26/2020</th>\n",
              "      <td>858</td>\n",
              "    </tr>\n",
              "    <tr>\n",
              "      <th>03/27/2020</th>\n",
              "      <td>994</td>\n",
              "    </tr>\n",
              "    <tr>\n",
              "      <th>03/28/2020</th>\n",
              "      <td>1144</td>\n",
              "    </tr>\n",
              "    <tr>\n",
              "      <th>03/29/2020</th>\n",
              "      <td>1355</td>\n",
              "    </tr>\n",
              "    <tr>\n",
              "      <th>03/30/2020</th>\n",
              "      <td>1706</td>\n",
              "    </tr>\n",
              "    <tr>\n",
              "      <th>03/31/2020</th>\n",
              "      <td>1966</td>\n",
              "    </tr>\n",
              "    <tr>\n",
              "      <th>04/01/2020</th>\n",
              "      <td>2392</td>\n",
              "    </tr>\n",
              "    <tr>\n",
              "      <th>04/02/2020</th>\n",
              "      <td>2793</td>\n",
              "    </tr>\n",
              "    <tr>\n",
              "      <th>04/03/2020</th>\n",
              "      <td>3255</td>\n",
              "    </tr>\n",
              "  </tbody>\n",
              "</table>\n",
              "</div>"
            ],
            "text/plain": [
              "            Confirmed Cases\n",
              "Dates                      \n",
              "03/25/2020              688\n",
              "03/26/2020              858\n",
              "03/27/2020              994\n",
              "03/28/2020             1144\n",
              "03/29/2020             1355\n",
              "03/30/2020             1706\n",
              "03/31/2020             1966\n",
              "04/01/2020             2392\n",
              "04/02/2020             2793\n",
              "04/03/2020             3255"
            ]
          },
          "metadata": {
            "tags": []
          },
          "execution_count": 36
        }
      ]
    },
    {
      "cell_type": "code",
      "metadata": {
        "id": "8Cs7Q-fTrtY4",
        "colab_type": "code",
        "outputId": "d69cffee-759f-49f0-ccc2-c4859e47653d",
        "colab": {
          "base_uri": "https://localhost:8080/",
          "height": 296
        }
      },
      "source": [
        "postplot2.plot()"
      ],
      "execution_count": 37,
      "outputs": [
        {
          "output_type": "execute_result",
          "data": {
            "text/plain": [
              "<matplotlib.axes._subplots.AxesSubplot at 0x7f2291fd4518>"
            ]
          },
          "metadata": {
            "tags": []
          },
          "execution_count": 37
        },
        {
          "output_type": "display_data",
          "data": {
            "image/png": "[encoded data removed]",
            "text/plain": [
              "<Figure size 432x288 with 1 Axes>"
            ]
          },
          "metadata": {
            "tags": [],
            "needs_background": "light"
          }
        }
      ]
    },
    {
      "cell_type": "code",
      "metadata": {
        "id": "xgAHptjIrvIq",
        "colab_type": "code",
        "outputId": "d2c94e15-f252-47ca-f5a8-fc965496762b",
        "colab": {
          "base_uri": "https://localhost:8080/",
          "height": 34
        }
      },
      "source": [
        "percent_rise2 = (postplot2['Confirmed Cases'][9] - postplot2['Confirmed Cases'][0]) / postplot2['Confirmed Cases'][9] \n",
        "percent_rise2\n",
        "total_rise2 = percent_rise2 * 100\n",
        "total_rise2\n"
      ],
      "execution_count": 38,
      "outputs": [
        {
          "output_type": "execute_result",
          "data": {
            "text/plain": [
              "78.86328725038403"
            ]
          },
          "metadata": {
            "tags": []
          },
          "execution_count": 38
        }
      ]
    },
    {
      "cell_type": "code",
      "metadata": {
        "id": "xdNx-YussptC",
        "colab_type": "code",
        "outputId": "6a69a532-a117-43db-f4bb-ad5139312f4a",
        "colab": {
          "base_uri": "https://localhost:8080/",
          "height": 67
        }
      },
      "source": [
        "confirmed_cases_beforelockdown = total_rise\n",
        "confirmed_cases_afterlockdown = total_rise2\n",
        "prevented_cases = (newplot2['Confirmed Cases'][9] - newplot2['Confirmed Cases'][0])\n",
        "\n",
        "if confirmed_cases_beforelockdown < confirmed_cases_afterlockdown:\n",
        "   print(\"%s percent rise is greater than   %s percent rise\" % (confirmed_cases_afterlockdown, confirmed_cases_beforelockdown))\n",
        "else:\n",
        "   print(\"%s percent rise is smaller than  %s percent rise\" % (confirmed_cases_afterlockdown, confirmed_cases_beforelockdown))\n",
        "  \n",
        "print(\"The preferred Lockdown date to avoid more casualities would be 15th March\")\n",
        "print(\"Number of cases that could have been prevented: %s\" % (prevented_cases))"
      ],
      "execution_count": 39,
      "outputs": [
        {
          "output_type": "stream",
          "text": [
            "78.86328725038403 percent rise is smaller than  82.31292517006803 percent rise\n",
            "The preferred Lockdown date to avoid more casualities would be 15th March\n",
            "Number of cases that could have been prevented: 484\n"
          ],
          "name": "stdout"
        }
      ]
    },
    {
      "cell_type": "code",
      "metadata": {
        "id": "DRCZj8GezYIK",
        "colab_type": "code",
        "outputId": "3c965975-1a8a-4c13-bd22-da9bf4aabfc6",
        "colab": {
          "base_uri": "https://localhost:8080/",
          "height": 483
        }
      },
      "source": [
        "import matplotlib.pyplot as plt\n",
        "plt.figure(figsize=(16,8))\n",
        "plt.ylabel(\"Number of Cases\")\n",
        "predictplot = t3['Predicted Cases']\n",
        "predictplot = predictplot.iloc[53:63]\n",
        "plt.plot(predictplot)\n",
        "#plt.legend(['India Confirmed Cases', 'Predicted Cases', 'India Deaths', 'Predicted Deaths', 'India Recovered', 'Predicted Recovered'], loc='upper left')\n",
        "plt.show()"
      ],
      "execution_count": 40,
      "outputs": [
        {
          "output_type": "display_data",
          "data": {
            "image/png": "[encoded data removed]",
            "text/plain": [
              "<Figure size 1152x576 with 1 Axes>"
            ]
          },
          "metadata": {
            "tags": [],
            "needs_background": "light"
          }
        }
      ]
    },
    {
      "cell_type": "code",
      "metadata": {
        "id": "BqwOMlD80aG0",
        "colab_type": "code",
        "outputId": "859f599a-157c-441e-fef4-7dcb23f900d7",
        "colab": {
          "base_uri": "https://localhost:8080/",
          "height": 202
        }
      },
      "source": [
        "postdates = t3['Dates'].iloc[53:63]\n",
        "postdates\n",
        "#newplot2.info()"
      ],
      "execution_count": 41,
      "outputs": [
        {
          "output_type": "execute_result",
          "data": {
            "text/plain": [
              "53    03/15/2020\n",
              "54    03/16/2020\n",
              "55    03/17/2020\n",
              "56    03/18/2020\n",
              "57    03/19/2020\n",
              "58    03/20/2020\n",
              "59    03/21/2020\n",
              "60    03/22/2020\n",
              "61    03/23/2020\n",
              "62    03/24/2020\n",
              "Name: Dates, dtype: object"
            ]
          },
          "metadata": {
            "tags": []
          },
          "execution_count": 41
        }
      ]
    },
    {
      "cell_type": "code",
      "metadata": {
        "id": "CiFsq6NZ1-J-",
        "colab_type": "code",
        "outputId": "95f99d56-e73a-4df6-b8a3-7a5718d6338d",
        "colab": {
          "base_uri": "https://localhost:8080/",
          "height": 373
        }
      },
      "source": [
        "predplot2 = pd.DataFrame(predictplot.to_frame().join(postdates))\n",
        "predplot2.set_index('Dates', inplace=True)\n",
        "predplot2"
      ],
      "execution_count": 42,
      "outputs": [
        {
          "output_type": "execute_result",
          "data": {
            "text/html": [
              "<div>\n",
              "<style scoped>\n",
              "    .dataframe tbody tr th:only-of-type {\n",
              "        vertical-align: middle;\n",
              "    }\n",
              "\n",
              "    .dataframe tbody tr th {\n",
              "        vertical-align: top;\n",
              "    }\n",
              "\n",
              "    .dataframe thead th {\n",
              "        text-align: right;\n",
              "    }\n",
              "</style>\n",
              "<table border=\"1\" class=\"dataframe\">\n",
              "  <thead>\n",
              "    <tr style=\"text-align: right;\">\n",
              "      <th></th>\n",
              "      <th>Predicted Cases</th>\n",
              "    </tr>\n",
              "    <tr>\n",
              "      <th>Dates</th>\n",
              "      <th></th>\n",
              "    </tr>\n",
              "  </thead>\n",
              "  <tbody>\n",
              "    <tr>\n",
              "      <th>03/15/2020</th>\n",
              "      <td>128.323166</td>\n",
              "    </tr>\n",
              "    <tr>\n",
              "      <th>03/16/2020</th>\n",
              "      <td>205.984756</td>\n",
              "    </tr>\n",
              "    <tr>\n",
              "      <th>03/17/2020</th>\n",
              "      <td>214.495590</td>\n",
              "    </tr>\n",
              "    <tr>\n",
              "      <th>03/18/2020</th>\n",
              "      <td>252.794434</td>\n",
              "    </tr>\n",
              "    <tr>\n",
              "      <th>03/19/2020</th>\n",
              "      <td>291.093323</td>\n",
              "    </tr>\n",
              "    <tr>\n",
              "      <th>03/20/2020</th>\n",
              "      <td>345.350006</td>\n",
              "    </tr>\n",
              "    <tr>\n",
              "      <th>03/21/2020</th>\n",
              "      <td>418.756165</td>\n",
              "    </tr>\n",
              "    <tr>\n",
              "      <th>03/22/2020</th>\n",
              "      <td>469.821320</td>\n",
              "    </tr>\n",
              "    <tr>\n",
              "      <th>03/23/2020</th>\n",
              "      <td>552.802246</td>\n",
              "    </tr>\n",
              "    <tr>\n",
              "      <th>03/24/2020</th>\n",
              "      <td>643.229980</td>\n",
              "    </tr>\n",
              "  </tbody>\n",
              "</table>\n",
              "</div>"
            ],
            "text/plain": [
              "            Predicted Cases\n",
              "Dates                      \n",
              "03/15/2020       128.323166\n",
              "03/16/2020       205.984756\n",
              "03/17/2020       214.495590\n",
              "03/18/2020       252.794434\n",
              "03/19/2020       291.093323\n",
              "03/20/2020       345.350006\n",
              "03/21/2020       418.756165\n",
              "03/22/2020       469.821320\n",
              "03/23/2020       552.802246\n",
              "03/24/2020       643.229980"
            ]
          },
          "metadata": {
            "tags": []
          },
          "execution_count": 42
        }
      ]
    },
    {
      "cell_type": "code",
      "metadata": {
        "id": "E8t1rZDMQL6a",
        "colab_type": "code",
        "outputId": "05ea3ecd-bb90-4674-cc9e-f4146ccff59d",
        "colab": {
          "base_uri": "https://localhost:8080/",
          "height": 296
        }
      },
      "source": [
        "predplot2.plot()"
      ],
      "execution_count": 43,
      "outputs": [
        {
          "output_type": "execute_result",
          "data": {
            "text/plain": [
              "<matplotlib.axes._subplots.AxesSubplot at 0x7f2291e2e710>"
            ]
          },
          "metadata": {
            "tags": []
          },
          "execution_count": 43
        },
        {
          "output_type": "display_data",
          "data": {
            "image/png": "[encoded data removed]",
            "text/plain": [
              "<Figure size 432x288 with 1 Axes>"
            ]
          },
          "metadata": {
            "tags": [],
            "needs_background": "light"
          }
        }
      ]
    },
    {
      "cell_type": "code",
      "metadata": {
        "id": "6XR5hfCUQNZl",
        "colab_type": "code",
        "outputId": "5717d0ff-7ecb-45e8-a038-40bc15bc1ec6",
        "colab": {
          "base_uri": "https://localhost:8080/",
          "height": 34
        }
      },
      "source": [
        "prediction_percent = (predplot2['Predicted Cases'][9] - predplot2['Predicted Cases'][0]) / predplot2['Predicted Cases'][9] \n",
        "prediction_percent\n",
        "prediction_rise = prediction_percent * 100\n",
        "prediction_rise"
      ],
      "execution_count": 44,
      "outputs": [
        {
          "output_type": "execute_result",
          "data": {
            "text/plain": [
              "80.05018830299377"
            ]
          },
          "metadata": {
            "tags": []
          },
          "execution_count": 44
        }
      ]
    },
    {
      "cell_type": "code",
      "metadata": {
        "id": "MSblFZiMRIzw",
        "colab_type": "code",
        "outputId": "937ee6e9-982f-4560-8000-cd23fd9aee7b",
        "colab": {
          "base_uri": "https://localhost:8080/",
          "height": 483
        }
      },
      "source": [
        "import matplotlib.pyplot as plt\n",
        "plt.figure(figsize=(16,8))\n",
        "plt.ylabel(\"Number of Cases\")\n",
        "predictplot_afterlock = t3['Predicted Cases']\n",
        "predictplot_afterlock = predictplot_afterlock.iloc[63:73]\n",
        "plt.plot(predictplot_afterlock)\n",
        "#plt.legend(['India Confirmed Cases', 'Predicted Cases', 'India Deaths', 'Predicted Deaths', 'India Recovered', 'Predicted Recovered'], loc='upper left')\n",
        "plt.show()"
      ],
      "execution_count": 45,
      "outputs": [
        {
          "output_type": "display_data",
          "data": {
            "image/png": "[encoded data removed]",
            "text/plain": [
              "<Figure size 1152x576 with 1 Axes>"
            ]
          },
          "metadata": {
            "tags": [],
            "needs_background": "light"
          }
        }
      ]
    },
    {
      "cell_type": "code",
      "metadata": {
        "id": "CNbaHWyrRzba",
        "colab_type": "code",
        "outputId": "3f599ae7-c55e-495f-fe3d-ca6d6f0e11fb",
        "colab": {
          "base_uri": "https://localhost:8080/",
          "height": 202
        }
      },
      "source": [
        "postdates_afterlock = t3['Dates'].iloc[63:73]\n",
        "postdates_afterlock\n",
        "#newplot2.info()"
      ],
      "execution_count": 46,
      "outputs": [
        {
          "output_type": "execute_result",
          "data": {
            "text/plain": [
              "63    03/25/2020\n",
              "64    03/26/2020\n",
              "65    03/27/2020\n",
              "66    03/28/2020\n",
              "67    03/29/2020\n",
              "68    03/30/2020\n",
              "69    03/31/2020\n",
              "70    04/01/2020\n",
              "71    04/02/2020\n",
              "72    04/03/2020\n",
              "Name: Dates, dtype: object"
            ]
          },
          "metadata": {
            "tags": []
          },
          "execution_count": 46
        }
      ]
    },
    {
      "cell_type": "code",
      "metadata": {
        "id": "IGdDPG35SBZX",
        "colab_type": "code",
        "outputId": "764ce05c-dae4-490b-a759-ce0c4ae64e2d",
        "colab": {
          "base_uri": "https://localhost:8080/",
          "height": 373
        }
      },
      "source": [
        "predplot3 = pd.DataFrame(predictplot_afterlock.to_frame().join(postdates_afterlock))\n",
        "predplot3.set_index('Dates', inplace=True)\n",
        "predplot3"
      ],
      "execution_count": 47,
      "outputs": [
        {
          "output_type": "execute_result",
          "data": {
            "text/html": [
              "<div>\n",
              "<style scoped>\n",
              "    .dataframe tbody tr th:only-of-type {\n",
              "        vertical-align: middle;\n",
              "    }\n",
              "\n",
              "    .dataframe tbody tr th {\n",
              "        vertical-align: top;\n",
              "    }\n",
              "\n",
              "    .dataframe thead th {\n",
              "        text-align: right;\n",
              "    }\n",
              "</style>\n",
              "<table border=\"1\" class=\"dataframe\">\n",
              "  <thead>\n",
              "    <tr style=\"text-align: right;\">\n",
              "      <th></th>\n",
              "      <th>Predicted Cases</th>\n",
              "    </tr>\n",
              "    <tr>\n",
              "      <th>Dates</th>\n",
              "      <th></th>\n",
              "    </tr>\n",
              "  </thead>\n",
              "  <tbody>\n",
              "    <tr>\n",
              "      <th>03/25/2020</th>\n",
              "      <td>749.615845</td>\n",
              "    </tr>\n",
              "    <tr>\n",
              "      <th>03/26/2020</th>\n",
              "      <td>930.471497</td>\n",
              "    </tr>\n",
              "    <tr>\n",
              "      <th>03/27/2020</th>\n",
              "      <td>1075.156006</td>\n",
              "    </tr>\n",
              "    <tr>\n",
              "      <th>03/28/2020</th>\n",
              "      <td>1234.734619</td>\n",
              "    </tr>\n",
              "    <tr>\n",
              "      <th>03/29/2020</th>\n",
              "      <td>1459.208618</td>\n",
              "    </tr>\n",
              "    <tr>\n",
              "      <th>03/30/2020</th>\n",
              "      <td>1832.622437</td>\n",
              "    </tr>\n",
              "    <tr>\n",
              "      <th>03/31/2020</th>\n",
              "      <td>2109.225342</td>\n",
              "    </tr>\n",
              "    <tr>\n",
              "      <th>04/01/2020</th>\n",
              "      <td>2562.428467</td>\n",
              "    </tr>\n",
              "    <tr>\n",
              "      <th>04/02/2020</th>\n",
              "      <td>2989.035156</td>\n",
              "    </tr>\n",
              "    <tr>\n",
              "      <th>04/03/2020</th>\n",
              "      <td>3480.536865</td>\n",
              "    </tr>\n",
              "  </tbody>\n",
              "</table>\n",
              "</div>"
            ],
            "text/plain": [
              "            Predicted Cases\n",
              "Dates                      \n",
              "03/25/2020       749.615845\n",
              "03/26/2020       930.471497\n",
              "03/27/2020      1075.156006\n",
              "03/28/2020      1234.734619\n",
              "03/29/2020      1459.208618\n",
              "03/30/2020      1832.622437\n",
              "03/31/2020      2109.225342\n",
              "04/01/2020      2562.428467\n",
              "04/02/2020      2989.035156\n",
              "04/03/2020      3480.536865"
            ]
          },
          "metadata": {
            "tags": []
          },
          "execution_count": 47
        }
      ]
    },
    {
      "cell_type": "code",
      "metadata": {
        "id": "NJOs7BkCSN8V",
        "colab_type": "code",
        "outputId": "a475fc14-f932-465e-b832-fc442d4831ea",
        "colab": {
          "base_uri": "https://localhost:8080/",
          "height": 296
        }
      },
      "source": [
        "predplot3.plot()"
      ],
      "execution_count": 48,
      "outputs": [
        {
          "output_type": "execute_result",
          "data": {
            "text/plain": [
              "<matplotlib.axes._subplots.AxesSubplot at 0x7f2291d6c748>"
            ]
          },
          "metadata": {
            "tags": []
          },
          "execution_count": 48
        },
        {
          "output_type": "display_data",
          "data": {
            "image/png": "[encoded data removed]",
            "text/plain": [
              "<Figure size 432x288 with 1 Axes>"
            ]
          },
          "metadata": {
            "tags": [],
            "needs_background": "light"
          }
        }
      ]
    },
    {
      "cell_type": "code",
      "metadata": {
        "id": "wEcrI_uOTKFq",
        "colab_type": "code",
        "outputId": "f31b827a-218c-4aee-91f6-8bf823eb3d8c",
        "colab": {
          "base_uri": "https://localhost:8080/",
          "height": 202
        }
      },
      "source": [
        "predictplot_afterlock"
      ],
      "execution_count": 49,
      "outputs": [
        {
          "output_type": "execute_result",
          "data": {
            "text/plain": [
              "63     749.615845\n",
              "64     930.471497\n",
              "65    1075.156006\n",
              "66    1234.734619\n",
              "67    1459.208618\n",
              "68    1832.622437\n",
              "69    2109.225342\n",
              "70    2562.428467\n",
              "71    2989.035156\n",
              "72    3480.536865\n",
              "Name: Predicted Cases, dtype: float32"
            ]
          },
          "metadata": {
            "tags": []
          },
          "execution_count": 49
        }
      ]
    },
    {
      "cell_type": "code",
      "metadata": {
        "id": "pg5ApPPJSVk2",
        "colab_type": "code",
        "outputId": "9e134e0d-3eab-4934-d0eb-2461c426e179",
        "colab": {
          "base_uri": "https://localhost:8080/",
          "height": 34
        }
      },
      "source": [
        "prediction_percent_afterlock = (predplot3['Predicted Cases'][9] - predplot3['Predicted Cases'][0]) / predplot3['Predicted Cases'][9] \n",
        "prediction_percent_afterlock\n",
        "prediction_rise_afterlock = prediction_percent_afterlock * 100\n",
        "prediction_rise_afterlock"
      ],
      "execution_count": 50,
      "outputs": [
        {
          "output_type": "execute_result",
          "data": {
            "text/plain": [
              "78.46263647079468"
            ]
          },
          "metadata": {
            "tags": []
          },
          "execution_count": 50
        }
      ]
    },
    {
      "cell_type": "code",
      "metadata": {
        "id": "VppVFCcySyyh",
        "colab_type": "code",
        "outputId": "00d398f0-da34-4fd9-de77-7d1736f968d6",
        "colab": {
          "base_uri": "https://localhost:8080/",
          "height": 50
        }
      },
      "source": [
        "print(\"The percentage rise from 15th march to 25th march: %s \" % (prediction_rise))\n",
        "print(\"The percentage rise from 25th march to 3rd april: %s \" % (prediction_rise_afterlock))"
      ],
      "execution_count": 51,
      "outputs": [
        {
          "output_type": "stream",
          "text": [
            "The percentage rise from 15th march to 25th march: 80.05018830299377 \n",
            "The percentage rise from 25th march to 3rd april: 78.46263647079468 \n"
          ],
          "name": "stdout"
        }
      ]
    },
    {
      "cell_type": "code",
      "metadata": {
        "id": "wiAo3E49Uljd",
        "colab_type": "code",
        "outputId": "451409bf-e769-435b-b26a-ed52544c813f",
        "colab": {
          "base_uri": "https://localhost:8080/",
          "height": 448
        }
      },
      "source": [
        "import matplotlib.pyplot as plt\n",
        "fig = plt.figure()\n",
        "ax = fig.add_axes([0,0,1,1])\n",
        "cases = ['ConfirmCases_Before Lockdown', 'Confirmcases_afterlockdown', 'Predictedcases_before lockdown', 'Predicted Cases afterlockdown']\n",
        "percent = [total_rise, total_rise2, prediction_rise, prediction_rise_afterlock]\n",
        "ax.bar(cases,percent)\n",
        "plt.xticks(rotation=45)\n",
        "plt.show()"
      ],
      "execution_count": 52,
      "outputs": [
        {
          "output_type": "display_data",
          "data": {
            "image/png": "[encoded data removed]",
            "text/plain": [
              "<Figure size 432x288 with 1 Axes>"
            ]
          },
          "metadata": {
            "tags": [],
            "needs_background": "light"
          }
        }
      ]
    },
    {
      "cell_type": "code",
      "metadata": {
        "id": "0Zoe2GbHbi57",
        "colab_type": "code",
        "colab": {}
      },
      "source": [
        "xc = newplot2['Confirmed Cases'][0]\n",
        "xl=newplot2['Confirmed Cases'][9]"
      ],
      "execution_count": 0,
      "outputs": []
    },
    {
      "cell_type": "code",
      "metadata": {
        "id": "sDo-Rbybbyub",
        "colab_type": "code",
        "outputId": "2f04f65d-eca4-4f3a-cb33-313379079833",
        "colab": {
          "base_uri": "https://localhost:8080/",
          "height": 34
        }
      },
      "source": [
        "cv= total_rise2\n",
        "cv"
      ],
      "execution_count": 54,
      "outputs": [
        {
          "output_type": "execute_result",
          "data": {
            "text/plain": [
              "78.86328725038403"
            ]
          },
          "metadata": {
            "tags": []
          },
          "execution_count": 54
        }
      ]
    },
    {
      "cell_type": "code",
      "metadata": {
        "id": "M0fbB6biafbX",
        "colab_type": "code",
        "outputId": "ed2173bb-0410-4483-f989-43c60f849d0b",
        "colab": {
          "base_uri": "https://localhost:8080/",
          "height": 67
        }
      },
      "source": [
        "temp = (100 * xc) / (100 - cv)\n",
        "Case_prevented= xl - temp\n",
        "print(\"For Real Model:\")\n",
        "print('Total confirmed cases which could have been prevented if the lockdown started at 15th March:', Case_prevented)\n",
        "print('The number of cases it would have been till 25th march if lockdown started on 15th march:', temp)"
      ],
      "execution_count": 55,
      "outputs": [
        {
          "output_type": "stream",
          "text": [
            "For Real Model:\n",
            "Total confirmed cases which could have been prevented if the lockdown started at 15th March: 95.96511627906955\n",
            "The number of cases it would have been till 25th march if lockdown started on 15th march: 492.03488372093045\n"
          ],
          "name": "stdout"
        }
      ]
    },
    {
      "cell_type": "markdown",
      "metadata": {
        "id": "IkUxR0x4kuqq",
        "colab_type": "text"
      },
      "source": [
        "Concluded Numbers for Prediction Scores"
      ]
    },
    {
      "cell_type": "code",
      "metadata": {
        "id": "PIRdJduSbErD",
        "colab_type": "code",
        "colab": {}
      },
      "source": [
        "p1 = predplot2['Predicted Cases'][0]\n",
        "p2 = predplot2['Predicted Cases'][9]"
      ],
      "execution_count": 0,
      "outputs": []
    },
    {
      "cell_type": "code",
      "metadata": {
        "id": "dBFCyh4qmA2w",
        "colab_type": "code",
        "outputId": "771f0005-9431-48db-a01c-bf694be94d8a",
        "colab": {
          "base_uri": "https://localhost:8080/",
          "height": 34
        }
      },
      "source": [
        "cv2 = prediction_rise\n",
        "cv2"
      ],
      "execution_count": 57,
      "outputs": [
        {
          "output_type": "execute_result",
          "data": {
            "text/plain": [
              "80.05018830299377"
            ]
          },
          "metadata": {
            "tags": []
          },
          "execution_count": 57
        }
      ]
    },
    {
      "cell_type": "code",
      "metadata": {
        "id": "PQkkwS9tmNEO",
        "colab_type": "code",
        "outputId": "210867b2-ae27-4646-9a61-284107d76f32",
        "colab": {
          "base_uri": "https://localhost:8080/",
          "height": 67
        }
      },
      "source": [
        "a = 100 * p1\n",
        "b = 100 - cv2\n",
        "temp2 = a / b\n",
        "cases_prevented_prediction = p2 - temp2\n",
        "print(\"For Prediciton model supporting our real-time theory:\")\n",
        "print(\"Total predicted cases which could have been prevented in the future if lockdown started at 15th March\", cases_prevented_prediction)\n",
        "print('The number of cases there would be on 25th march if lockdown started on 15th march:', temp2)"
      ],
      "execution_count": 58,
      "outputs": [
        {
          "output_type": "stream",
          "text": [
            "For Prediciton model supporting our real-time theory:\n",
            "Total predicted cases which could have been prevented in the future if lockdown started at 15th March 1.999342612180044e-05\n",
            "The number of cases there would be on 25th march if lockdown started on 15th march: 643.2299604753239\n"
          ],
          "name": "stdout"
        }
      ]
    },
    {
      "cell_type": "code",
      "metadata": {
        "id": "LEj5YcaUq6AL",
        "colab_type": "code",
        "outputId": "19c0b016-3b4b-4eaf-f50a-c0687106c2d0",
        "colab": {
          "base_uri": "https://localhost:8080/",
          "height": 479
        }
      },
      "source": [
        "import matplotlib.pyplot as plt\n",
        "fig = plt.figure()\n",
        "ax = fig.add_axes([0,0,1,1])\n",
        "cases = ['Cases prevented in real model', 'cases prevented in prediction model', 'Cases: 25th march if lockdown: 15 march', 'Prediction model: 25th march']\n",
        "percent = [Case_prevented, cases_prevented_prediction, temp, temp2]\n",
        "ax.bar(cases,percent)\n",
        "plt.xticks(rotation=45)\n",
        "plt.show()"
      ],
      "execution_count": 59,
      "outputs": [
        {
          "output_type": "display_data",
          "data": {
            "image/png": "[encoded data removed]",
            "text/plain": [
              "<Figure size 432x288 with 1 Axes>"
            ]
          },
          "metadata": {
            "tags": [],
            "needs_background": "light"
          }
        }
      ]
    },
    {
      "cell_type": "code",
      "metadata": {
        "id": "Hu-y5sZmPWH4",
        "colab_type": "code",
        "colab": {
          "base_uri": "https://localhost:8080/",
          "height": 34
        },
        "outputId": "4526c027-0a5f-4ec3-f8ba-437132a3bb14"
      },
      "source": [
        "from sklearn.metrics import r2_score\n",
        "score = r2_score(t3['Confirmed Cases'], t3['Predicted Cases'])\n",
        "score"
      ],
      "execution_count": 61,
      "outputs": [
        {
          "output_type": "execute_result",
          "data": {
            "text/plain": [
              "0.9943611143477635"
            ]
          },
          "metadata": {
            "tags": []
          },
          "execution_count": 61
        }
      ]
    },
    {
      "cell_type": "code",
      "metadata": {
        "id": "keGYlCPqRDlU",
        "colab_type": "code",
        "colab": {
          "base_uri": "https://localhost:8080/",
          "height": 34
        },
        "outputId": "55242a66-b6ee-48eb-e39d-110ff75b62f6"
      },
      "source": [
        "from sklearn.metrics import r2_score\n",
        "score1 = r2_score(t3['Ontario Deaths'], t3['Predicted Deaths'])\n",
        "score1"
      ],
      "execution_count": 62,
      "outputs": [
        {
          "output_type": "execute_result",
          "data": {
            "text/plain": [
              "0.9886187123399178"
            ]
          },
          "metadata": {
            "tags": []
          },
          "execution_count": 62
        }
      ]
    },
    {
      "cell_type": "code",
      "metadata": {
        "id": "NHhTqI-jRKuL",
        "colab_type": "code",
        "colab": {
          "base_uri": "https://localhost:8080/",
          "height": 34
        },
        "outputId": "a8825c3c-aa96-4985-ba85-fad258db6b88"
      },
      "source": [
        "from sklearn.metrics import r2_score\n",
        "score3 = r2_score(t3['Ontario Recovered'], t3['Predicted Recovered'])\n",
        "score3"
      ],
      "execution_count": 63,
      "outputs": [
        {
          "output_type": "execute_result",
          "data": {
            "text/plain": [
              "0.9883557092429055"
            ]
          },
          "metadata": {
            "tags": []
          },
          "execution_count": 63
        }
      ]
    },
    {
      "cell_type": "code",
      "metadata": {
        "id": "z7MMF6OsRQyF",
        "colab_type": "code",
        "colab": {
          "base_uri": "https://localhost:8080/",
          "height": 34
        },
        "outputId": "d7297cd3-04cc-4eb6-9b45-7a73615c4580"
      },
      "source": [
        "Average = (score + score1 + score3) / 3\n",
        "Average"
      ],
      "execution_count": 64,
      "outputs": [
        {
          "output_type": "execute_result",
          "data": {
            "text/plain": [
              "0.990445178643529"
            ]
          },
          "metadata": {
            "tags": []
          },
          "execution_count": 64
        }
      ]
    },
    {
      "cell_type": "code",
      "metadata": {
        "id": "M6lCdMntRc65",
        "colab_type": "code",
        "colab": {}
      },
      "source": [
        ""
      ],
      "execution_count": 0,
      "outputs": []
    }
  ]
}