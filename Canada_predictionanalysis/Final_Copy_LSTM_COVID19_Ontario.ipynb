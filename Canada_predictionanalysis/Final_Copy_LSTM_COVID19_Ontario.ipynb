{
  "nbformat": 4,
  "nbformat_minor": 0,
  "metadata": {
    "colab": {
      "name": "Final_Copy_LSTM_COVID19_Ontario.ipynb",
      "provenance": [],
      "collapsed_sections": []
    },
    "kernelspec": {
      "name": "python3",
      "display_name": "Python 3"
    }
  },
  "cells": [
    {
      "cell_type": "code",
      "metadata": {
        "id": "O_LD9wHM_Q3q",
        "colab_type": "code",
        "outputId": "46cdfcc3-8a77-4840-d2e5-1b47824efda9",
        "colab": {
          "base_uri": "https://localhost:8080/",
          "height": 34
        }
      },
      "source": [
        "from google.colab import drive\n",
        "drive.mount('/content/drive')"
      ],
      "execution_count": 0,
      "outputs": [
        {
          "output_type": "stream",
          "text": [
            "Drive already mounted at /content/drive; to attempt to forcibly remount, call drive.mount(\"/content/drive\", force_remount=True).\n"
          ],
          "name": "stdout"
        }
      ]
    },
    {
      "cell_type": "code",
      "metadata": {
        "id": "82fXctuP65F9",
        "colab_type": "code",
        "colab": {}
      },
      "source": [
        "import math\n",
        "import pandas_datareader as web\n",
        "import numpy as np\n",
        "import pandas as pd\n",
        "from sklearn.preprocessing import MinMaxScaler\n",
        "from keras.models import Sequential\n",
        "from keras.layers import Dense,LSTM\n",
        "import matplotlib.pyplot as plt\n",
        "from sklearn.metrics import r2_score\n"
      ],
      "execution_count": 0,
      "outputs": []
    },
    {
      "cell_type": "code",
      "metadata": {
        "id": "VkDgJ5kf7r99",
        "colab_type": "code",
        "colab": {}
      },
      "source": [
        "df = pd.read_csv('/content/drive/My Drive/COVID-19/Ontario_Confirmed_Cases.csv', index_col='Dates')"
      ],
      "execution_count": 0,
      "outputs": []
    },
    {
      "cell_type": "code",
      "metadata": {
        "id": "vdPM2Sw68JPp",
        "colab_type": "code",
        "outputId": "36199b73-e66d-4c3f-d438-4d0b72d4f93d",
        "colab": {
          "base_uri": "https://localhost:8080/",
          "height": 269
        }
      },
      "source": [
        "print(df)"
      ],
      "execution_count": 0,
      "outputs": [
        {
          "output_type": "stream",
          "text": [
            "            Confirmed Cases  Confirmed deaths  Confirmed Recovered\n",
            "Dates                                                             \n",
            "01/22/2020                0                 0                    0\n",
            "01/23/2020                0                 0                    0\n",
            "01/24/2020                0                 0                    0\n",
            "01/25/2020                0                 0                    0\n",
            "01/26/2020                1                 0                    0\n",
            "...                     ...               ...                  ...\n",
            "04/18/2020            11013               564                10964\n",
            "04/19/2020            11561               591                11847\n",
            "04/20/2020            12063               624                12543\n",
            "04/21/2020            12715               694                13188\n",
            "04/22/2020            13718               762                14454\n",
            "\n",
            "[92 rows x 3 columns]\n"
          ],
          "name": "stdout"
        }
      ]
    },
    {
      "cell_type": "code",
      "metadata": {
        "id": "WzUuAhLm8S84",
        "colab_type": "code",
        "outputId": "017fa3f5-ce2b-4896-fa5c-a1adabc447c0",
        "colab": {
          "base_uri": "https://localhost:8080/",
          "height": 321
        }
      },
      "source": [
        "df['Confirmed Cases'].plot()\n",
        "#plt.figure(figsize=(16,8))"
      ],
      "execution_count": 0,
      "outputs": [
        {
          "output_type": "execute_result",
          "data": {
            "text/plain": [
              "<matplotlib.axes._subplots.AxesSubplot at 0x7f6e53a65550>"
            ]
          },
          "metadata": {
            "tags": []
          },
          "execution_count": 160
        },
        {
          "output_type": "display_data",
          "data": {
            "image/png": "[encoded data removed]",
            "text/plain": [
              "<Figure size 432x288 with 1 Axes>"
            ]
          },
          "metadata": {
            "tags": []
          }
        }
      ]
    },
    {
      "cell_type": "code",
      "metadata": {
        "id": "B5Y-uDN-8sUR",
        "colab_type": "code",
        "colab": {}
      },
      "source": [
        "data = df.filter(['Confirmed Cases'])"
      ],
      "execution_count": 0,
      "outputs": []
    },
    {
      "cell_type": "code",
      "metadata": {
        "id": "41X9NIEN9jZb",
        "colab_type": "code",
        "colab": {}
      },
      "source": [
        "dataset = data.values"
      ],
      "execution_count": 0,
      "outputs": []
    },
    {
      "cell_type": "code",
      "metadata": {
        "id": "7pOXyw-f9nNM",
        "colab_type": "code",
        "outputId": "083d374a-9f21-432f-cb7b-24c38586391a",
        "colab": {
          "base_uri": "https://localhost:8080/",
          "height": 34
        }
      },
      "source": [
        "training_data_len = math.ceil(len(dataset) * 0.8)\n",
        "training_data_len"
      ],
      "execution_count": 0,
      "outputs": [
        {
          "output_type": "execute_result",
          "data": {
            "text/plain": [
              "74"
            ]
          },
          "metadata": {
            "tags": []
          },
          "execution_count": 163
        }
      ]
    },
    {
      "cell_type": "code",
      "metadata": {
        "id": "-CBMUNzf96CY",
        "colab_type": "code",
        "colab": {}
      },
      "source": [
        "scaler = MinMaxScaler(feature_range=(0,1))\n",
        "scaled_data = scaler.fit_transform(dataset)"
      ],
      "execution_count": 0,
      "outputs": []
    },
    {
      "cell_type": "code",
      "metadata": {
        "id": "wJQEDTaK-RA5",
        "colab_type": "code",
        "outputId": "8e778e01-bf4e-4235-e73a-59407595374e",
        "colab": {
          "base_uri": "https://localhost:8080/",
          "height": 1000
        }
      },
      "source": [
        "scaled_data"
      ],
      "execution_count": 0,
      "outputs": [
        {
          "output_type": "execute_result",
          "data": {
            "text/plain": [
              "array([[0.00000000e+00],\n",
              "       [0.00000000e+00],\n",
              "       [0.00000000e+00],\n",
              "       [0.00000000e+00],\n",
              "       [7.28969237e-05],\n",
              "       [7.28969237e-05],\n",
              "       [7.28969237e-05],\n",
              "       [7.28969237e-05],\n",
              "       [7.28969237e-05],\n",
              "       [2.18690771e-04],\n",
              "       [2.18690771e-04],\n",
              "       [2.18690771e-04],\n",
              "       [2.18690771e-04],\n",
              "       [2.18690771e-04],\n",
              "       [2.18690771e-04],\n",
              "       [2.18690771e-04],\n",
              "       [2.18690771e-04],\n",
              "       [2.18690771e-04],\n",
              "       [2.18690771e-04],\n",
              "       [2.18690771e-04],\n",
              "       [2.18690771e-04],\n",
              "       [2.18690771e-04],\n",
              "       [2.18690771e-04],\n",
              "       [2.18690771e-04],\n",
              "       [2.18690771e-04],\n",
              "       [2.18690771e-04],\n",
              "       [2.18690771e-04],\n",
              "       [2.18690771e-04],\n",
              "       [2.18690771e-04],\n",
              "       [2.18690771e-04],\n",
              "       [2.18690771e-04],\n",
              "       [2.18690771e-04],\n",
              "       [2.18690771e-04],\n",
              "       [2.91587695e-04],\n",
              "       [2.91587695e-04],\n",
              "       [2.91587695e-04],\n",
              "       [4.37381542e-04],\n",
              "       [4.37381542e-04],\n",
              "       [8.01866161e-04],\n",
              "       [1.09345386e-03],\n",
              "       [1.31214463e-03],\n",
              "       [1.45793847e-03],\n",
              "       [1.45793847e-03],\n",
              "       [1.60373232e-03],\n",
              "       [1.82242309e-03],\n",
              "       [2.04111386e-03],\n",
              "       [2.11401079e-03],\n",
              "       [2.47849541e-03],\n",
              "       [2.62428925e-03],\n",
              "       [2.98877387e-03],\n",
              "       [3.06167080e-03],\n",
              "       [5.39437236e-03],\n",
              "       [5.75885698e-03],\n",
              "       [7.58128007e-03],\n",
              "       [1.29027555e-02],\n",
              "       [1.34859309e-02],\n",
              "       [1.61102201e-02],\n",
              "       [1.87345094e-02],\n",
              "       [2.24522525e-02],\n",
              "       [2.74821403e-02],\n",
              "       [3.09811926e-02],\n",
              "       [3.66671526e-02],\n",
              "       [4.28633912e-02],\n",
              "       [5.01530835e-02],\n",
              "       [6.25455606e-02],\n",
              "       [7.24595422e-02],\n",
              "       [8.33940808e-02],\n",
              "       [9.87753317e-02],\n",
              "       [1.24362152e-01],\n",
              "       [1.43315352e-01],\n",
              "       [1.74369442e-01],\n",
              "       [2.03601108e-01],\n",
              "       [2.37279487e-01],\n",
              "       [2.64615833e-01],\n",
              "       [3.17393206e-01],\n",
              "       [3.16882928e-01],\n",
              "       [3.44510862e-01],\n",
              "       [3.84604170e-01],\n",
              "       [4.19813384e-01],\n",
              "       [4.54658113e-01],\n",
              "       [4.84618749e-01],\n",
              "       [5.13850416e-01],\n",
              "       [5.44540020e-01],\n",
              "       [5.79749235e-01],\n",
              "       [6.15760315e-01],\n",
              "       [7.17305730e-01],\n",
              "       [7.62210235e-01],\n",
              "       [8.02813821e-01],\n",
              "       [8.42761335e-01],\n",
              "       [8.79355591e-01],\n",
              "       [9.26884385e-01],\n",
              "       [1.00000000e+00]])"
            ]
          },
          "metadata": {
            "tags": []
          },
          "execution_count": 165
        }
      ]
    },
    {
      "cell_type": "code",
      "metadata": {
        "id": "YL19PrqG-WP5",
        "colab_type": "code",
        "outputId": "041cdcc6-c68d-452f-eeaa-25dbdb0eb538",
        "colab": {
          "base_uri": "https://localhost:8080/",
          "height": 101
        }
      },
      "source": [
        "train_data = scaled_data[0:training_data_len, :]\n",
        "x_train = []\n",
        "y_train = []\n",
        "\n",
        "for i in range(10, len(train_data)):\n",
        "  x_train.append(train_data[i-10:i, 0])\n",
        "  y_train.append(train_data[i, 0])\n",
        "  if i<= 10:\n",
        "    print(x_train)\n",
        "    print(y_train)\n",
        "    print()"
      ],
      "execution_count": 0,
      "outputs": [
        {
          "output_type": "stream",
          "text": [
            "[array([0.00000000e+00, 0.00000000e+00, 0.00000000e+00, 0.00000000e+00,\n",
            "       7.28969237e-05, 7.28969237e-05, 7.28969237e-05, 7.28969237e-05,\n",
            "       7.28969237e-05, 2.18690771e-04])]\n",
            "[0.00021869077124945325]\n",
            "\n"
          ],
          "name": "stdout"
        }
      ]
    },
    {
      "cell_type": "code",
      "metadata": {
        "id": "fLRFNnYqAHrQ",
        "colab_type": "code",
        "colab": {}
      },
      "source": [
        "x_train, y_train = np.array(x_train), np.array(y_train)"
      ],
      "execution_count": 0,
      "outputs": []
    },
    {
      "cell_type": "code",
      "metadata": {
        "id": "w2rnFmToA-Ux",
        "colab_type": "code",
        "outputId": "e3d23118-7698-493e-882d-469986e61733",
        "colab": {
          "base_uri": "https://localhost:8080/",
          "height": 34
        }
      },
      "source": [
        "x_train = np.reshape(x_train, (x_train.shape[0], x_train.shape[1], 1))\n",
        "x_train.shape"
      ],
      "execution_count": 0,
      "outputs": [
        {
          "output_type": "execute_result",
          "data": {
            "text/plain": [
              "(64, 10, 1)"
            ]
          },
          "metadata": {
            "tags": []
          },
          "execution_count": 168
        }
      ]
    },
    {
      "cell_type": "code",
      "metadata": {
        "id": "b7adSETOMaIa",
        "colab_type": "code",
        "colab": {}
      },
      "source": [
        "model = Sequential()\n",
        "model.add(LSTM(50, return_sequences=True, input_shape=(x_train.shape[1], 1)))\n",
        "model.add(LSTM(50, return_sequences=False))\n",
        "model.add(Dense(25))\n",
        "model.add(Dense(1))"
      ],
      "execution_count": 0,
      "outputs": []
    },
    {
      "cell_type": "code",
      "metadata": {
        "id": "KdbEeOGKprOT",
        "colab_type": "code",
        "colab": {}
      },
      "source": [
        "#compile the model\n",
        "model.compile(optimizer='adam', loss='mean_squared_error')\n"
      ],
      "execution_count": 0,
      "outputs": []
    },
    {
      "cell_type": "code",
      "metadata": {
        "id": "SIUWBDqxqAPI",
        "colab_type": "code",
        "outputId": "971f95ae-6dbd-4aaa-b420-f3965b528496",
        "colab": {
          "base_uri": "https://localhost:8080/",
          "height": 1000
        }
      },
      "source": [
        "model.fit(x_train,y_train,batch_size=1, epochs=50)"
      ],
      "execution_count": 0,
      "outputs": [
        {
          "output_type": "stream",
          "text": [
            "Epoch 1/50\n",
            "64/64 [==============================] - 1s 17ms/step - loss: 0.0027\n",
            "Epoch 2/50\n",
            "64/64 [==============================] - 1s 8ms/step - loss: 9.2649e-04\n",
            "Epoch 3/50\n",
            "64/64 [==============================] - 1s 8ms/step - loss: 4.2146e-05\n",
            "Epoch 4/50\n",
            "64/64 [==============================] - 0s 8ms/step - loss: 5.9776e-05\n",
            "Epoch 5/50\n",
            "64/64 [==============================] - 0s 8ms/step - loss: 5.6602e-05\n",
            "Epoch 6/50\n",
            "64/64 [==============================] - 1s 8ms/step - loss: 7.1323e-05\n",
            "Epoch 7/50\n",
            "64/64 [==============================] - 0s 8ms/step - loss: 3.0014e-04\n",
            "Epoch 8/50\n",
            "64/64 [==============================] - 0s 8ms/step - loss: 9.5273e-05\n",
            "Epoch 9/50\n",
            "64/64 [==============================] - 1s 8ms/step - loss: 4.0644e-05\n",
            "Epoch 10/50\n",
            "64/64 [==============================] - 0s 7ms/step - loss: 6.3503e-05\n",
            "Epoch 11/50\n",
            "64/64 [==============================] - 0s 7ms/step - loss: 3.8423e-04\n",
            "Epoch 12/50\n",
            "64/64 [==============================] - 0s 8ms/step - loss: 3.2406e-05\n",
            "Epoch 13/50\n",
            "64/64 [==============================] - 0s 7ms/step - loss: 2.2413e-05\n",
            "Epoch 14/50\n",
            "64/64 [==============================] - 0s 8ms/step - loss: 1.4814e-04\n",
            "Epoch 15/50\n",
            "64/64 [==============================] - 0s 7ms/step - loss: 5.7086e-04\n",
            "Epoch 16/50\n",
            "64/64 [==============================] - 0s 8ms/step - loss: 4.1749e-05\n",
            "Epoch 17/50\n",
            "64/64 [==============================] - 0s 8ms/step - loss: 4.2265e-05\n",
            "Epoch 18/50\n",
            "64/64 [==============================] - 0s 8ms/step - loss: 5.0305e-04\n",
            "Epoch 19/50\n",
            "64/64 [==============================] - 0s 7ms/step - loss: 5.4894e-04\n",
            "Epoch 20/50\n",
            "64/64 [==============================] - 1s 8ms/step - loss: 4.2777e-05\n",
            "Epoch 21/50\n",
            "64/64 [==============================] - 0s 7ms/step - loss: 1.1908e-05\n",
            "Epoch 22/50\n",
            "64/64 [==============================] - 1s 8ms/step - loss: 2.9994e-05\n",
            "Epoch 23/50\n",
            "64/64 [==============================] - 0s 8ms/step - loss: 1.5830e-04\n",
            "Epoch 24/50\n",
            "64/64 [==============================] - 0s 8ms/step - loss: 8.6370e-05\n",
            "Epoch 25/50\n",
            "64/64 [==============================] - 0s 7ms/step - loss: 1.0409e-04\n",
            "Epoch 26/50\n",
            "64/64 [==============================] - 1s 8ms/step - loss: 1.6288e-05\n",
            "Epoch 27/50\n",
            "64/64 [==============================] - 0s 8ms/step - loss: 3.6965e-05\n",
            "Epoch 28/50\n",
            "64/64 [==============================] - 1s 8ms/step - loss: 4.3254e-05\n",
            "Epoch 29/50\n",
            "64/64 [==============================] - 0s 8ms/step - loss: 3.7834e-05\n",
            "Epoch 30/50\n",
            "64/64 [==============================] - 0s 8ms/step - loss: 8.7438e-06\n",
            "Epoch 31/50\n",
            "64/64 [==============================] - 0s 7ms/step - loss: 3.0001e-05\n",
            "Epoch 32/50\n",
            "64/64 [==============================] - 0s 7ms/step - loss: 2.9462e-05\n",
            "Epoch 33/50\n",
            "64/64 [==============================] - 0s 7ms/step - loss: 1.2779e-05\n",
            "Epoch 34/50\n",
            "64/64 [==============================] - 0s 8ms/step - loss: 1.0073e-05\n",
            "Epoch 35/50\n",
            "64/64 [==============================] - 0s 8ms/step - loss: 3.3378e-05\n",
            "Epoch 36/50\n",
            "64/64 [==============================] - 0s 7ms/step - loss: 8.1658e-05\n",
            "Epoch 37/50\n",
            "64/64 [==============================] - 1s 8ms/step - loss: 1.1322e-05\n",
            "Epoch 38/50\n",
            "64/64 [==============================] - 0s 8ms/step - loss: 2.0486e-05\n",
            "Epoch 39/50\n",
            "64/64 [==============================] - 0s 8ms/step - loss: 2.1907e-05\n",
            "Epoch 40/50\n",
            "64/64 [==============================] - 0s 7ms/step - loss: 1.2092e-05\n",
            "Epoch 41/50\n",
            "64/64 [==============================] - 1s 8ms/step - loss: 3.2259e-05\n",
            "Epoch 42/50\n",
            "64/64 [==============================] - 0s 8ms/step - loss: 2.6323e-04\n",
            "Epoch 43/50\n",
            "64/64 [==============================] - 1s 8ms/step - loss: 1.7079e-05\n",
            "Epoch 44/50\n",
            "64/64 [==============================] - 0s 8ms/step - loss: 1.5870e-05\n",
            "Epoch 45/50\n",
            "64/64 [==============================] - 0s 7ms/step - loss: 2.4348e-05\n",
            "Epoch 46/50\n",
            "64/64 [==============================] - 0s 8ms/step - loss: 1.6711e-05\n",
            "Epoch 47/50\n",
            "64/64 [==============================] - 0s 8ms/step - loss: 4.4088e-05\n",
            "Epoch 48/50\n",
            "64/64 [==============================] - 0s 7ms/step - loss: 1.9103e-05\n",
            "Epoch 49/50\n",
            "64/64 [==============================] - 0s 8ms/step - loss: 1.0844e-05\n",
            "Epoch 50/50\n",
            "64/64 [==============================] - 0s 8ms/step - loss: 2.6990e-04\n"
          ],
          "name": "stdout"
        },
        {
          "output_type": "execute_result",
          "data": {
            "text/plain": [
              "<keras.callbacks.callbacks.History at 0x7f6e5332d2e8>"
            ]
          },
          "metadata": {
            "tags": []
          },
          "execution_count": 171
        }
      ]
    },
    {
      "cell_type": "code",
      "metadata": {
        "id": "enX1Vm9EqNBq",
        "colab_type": "code",
        "colab": {}
      },
      "source": [
        "test_data = scaled_data[training_data_len-10: , :]\n",
        "x_test = []\n",
        "y_test = dataset[training_data_len:, :]\n",
        "for i in range(10, len(test_data)):\n",
        "  x_test.append(test_data[i-10:i, 0])\n",
        "  "
      ],
      "execution_count": 0,
      "outputs": []
    },
    {
      "cell_type": "code",
      "metadata": {
        "id": "1C4ylH1HAT8v",
        "colab_type": "code",
        "outputId": "3dea95ca-da43-4f2d-f5e6-70fde20f1da6",
        "colab": {
          "base_uri": "https://localhost:8080/",
          "height": 34
        }
      },
      "source": [
        "len(test_data)"
      ],
      "execution_count": 0,
      "outputs": [
        {
          "output_type": "execute_result",
          "data": {
            "text/plain": [
              "28"
            ]
          },
          "metadata": {
            "tags": []
          },
          "execution_count": 173
        }
      ]
    },
    {
      "cell_type": "code",
      "metadata": {
        "id": "9riQylarrFq4",
        "colab_type": "code",
        "colab": {}
      },
      "source": [
        "x_test = np.array(x_test)\n"
      ],
      "execution_count": 0,
      "outputs": []
    },
    {
      "cell_type": "code",
      "metadata": {
        "id": "gvFsLl8erUxJ",
        "colab_type": "code",
        "colab": {}
      },
      "source": [
        "x_test = np.reshape(x_test, (x_test.shape[0], x_test.shape[1], 1 ))"
      ],
      "execution_count": 0,
      "outputs": []
    },
    {
      "cell_type": "code",
      "metadata": {
        "id": "dJm2-FeerkCJ",
        "colab_type": "code",
        "outputId": "16c0b077-82da-47a9-80f2-4f351caabd1b",
        "colab": {
          "base_uri": "https://localhost:8080/",
          "height": 1000
        }
      },
      "source": [
        "x_test"
      ],
      "execution_count": 0,
      "outputs": [
        {
          "output_type": "execute_result",
          "data": {
            "text/plain": [
              "array([[[0.06254556],\n",
              "        [0.07245954],\n",
              "        [0.08339408],\n",
              "        [0.09877533],\n",
              "        [0.12436215],\n",
              "        [0.14331535],\n",
              "        [0.17436944],\n",
              "        [0.20360111],\n",
              "        [0.23727949],\n",
              "        [0.26461583]],\n",
              "\n",
              "       [[0.07245954],\n",
              "        [0.08339408],\n",
              "        [0.09877533],\n",
              "        [0.12436215],\n",
              "        [0.14331535],\n",
              "        [0.17436944],\n",
              "        [0.20360111],\n",
              "        [0.23727949],\n",
              "        [0.26461583],\n",
              "        [0.31739321]],\n",
              "\n",
              "       [[0.08339408],\n",
              "        [0.09877533],\n",
              "        [0.12436215],\n",
              "        [0.14331535],\n",
              "        [0.17436944],\n",
              "        [0.20360111],\n",
              "        [0.23727949],\n",
              "        [0.26461583],\n",
              "        [0.31739321],\n",
              "        [0.31688293]],\n",
              "\n",
              "       [[0.09877533],\n",
              "        [0.12436215],\n",
              "        [0.14331535],\n",
              "        [0.17436944],\n",
              "        [0.20360111],\n",
              "        [0.23727949],\n",
              "        [0.26461583],\n",
              "        [0.31739321],\n",
              "        [0.31688293],\n",
              "        [0.34451086]],\n",
              "\n",
              "       [[0.12436215],\n",
              "        [0.14331535],\n",
              "        [0.17436944],\n",
              "        [0.20360111],\n",
              "        [0.23727949],\n",
              "        [0.26461583],\n",
              "        [0.31739321],\n",
              "        [0.31688293],\n",
              "        [0.34451086],\n",
              "        [0.38460417]],\n",
              "\n",
              "       [[0.14331535],\n",
              "        [0.17436944],\n",
              "        [0.20360111],\n",
              "        [0.23727949],\n",
              "        [0.26461583],\n",
              "        [0.31739321],\n",
              "        [0.31688293],\n",
              "        [0.34451086],\n",
              "        [0.38460417],\n",
              "        [0.41981338]],\n",
              "\n",
              "       [[0.17436944],\n",
              "        [0.20360111],\n",
              "        [0.23727949],\n",
              "        [0.26461583],\n",
              "        [0.31739321],\n",
              "        [0.31688293],\n",
              "        [0.34451086],\n",
              "        [0.38460417],\n",
              "        [0.41981338],\n",
              "        [0.45465811]],\n",
              "\n",
              "       [[0.20360111],\n",
              "        [0.23727949],\n",
              "        [0.26461583],\n",
              "        [0.31739321],\n",
              "        [0.31688293],\n",
              "        [0.34451086],\n",
              "        [0.38460417],\n",
              "        [0.41981338],\n",
              "        [0.45465811],\n",
              "        [0.48461875]],\n",
              "\n",
              "       [[0.23727949],\n",
              "        [0.26461583],\n",
              "        [0.31739321],\n",
              "        [0.31688293],\n",
              "        [0.34451086],\n",
              "        [0.38460417],\n",
              "        [0.41981338],\n",
              "        [0.45465811],\n",
              "        [0.48461875],\n",
              "        [0.51385042]],\n",
              "\n",
              "       [[0.26461583],\n",
              "        [0.31739321],\n",
              "        [0.31688293],\n",
              "        [0.34451086],\n",
              "        [0.38460417],\n",
              "        [0.41981338],\n",
              "        [0.45465811],\n",
              "        [0.48461875],\n",
              "        [0.51385042],\n",
              "        [0.54454002]],\n",
              "\n",
              "       [[0.31739321],\n",
              "        [0.31688293],\n",
              "        [0.34451086],\n",
              "        [0.38460417],\n",
              "        [0.41981338],\n",
              "        [0.45465811],\n",
              "        [0.48461875],\n",
              "        [0.51385042],\n",
              "        [0.54454002],\n",
              "        [0.57974923]],\n",
              "\n",
              "       [[0.31688293],\n",
              "        [0.34451086],\n",
              "        [0.38460417],\n",
              "        [0.41981338],\n",
              "        [0.45465811],\n",
              "        [0.48461875],\n",
              "        [0.51385042],\n",
              "        [0.54454002],\n",
              "        [0.57974923],\n",
              "        [0.61576031]],\n",
              "\n",
              "       [[0.34451086],\n",
              "        [0.38460417],\n",
              "        [0.41981338],\n",
              "        [0.45465811],\n",
              "        [0.48461875],\n",
              "        [0.51385042],\n",
              "        [0.54454002],\n",
              "        [0.57974923],\n",
              "        [0.61576031],\n",
              "        [0.71730573]],\n",
              "\n",
              "       [[0.38460417],\n",
              "        [0.41981338],\n",
              "        [0.45465811],\n",
              "        [0.48461875],\n",
              "        [0.51385042],\n",
              "        [0.54454002],\n",
              "        [0.57974923],\n",
              "        [0.61576031],\n",
              "        [0.71730573],\n",
              "        [0.76221023]],\n",
              "\n",
              "       [[0.41981338],\n",
              "        [0.45465811],\n",
              "        [0.48461875],\n",
              "        [0.51385042],\n",
              "        [0.54454002],\n",
              "        [0.57974923],\n",
              "        [0.61576031],\n",
              "        [0.71730573],\n",
              "        [0.76221023],\n",
              "        [0.80281382]],\n",
              "\n",
              "       [[0.45465811],\n",
              "        [0.48461875],\n",
              "        [0.51385042],\n",
              "        [0.54454002],\n",
              "        [0.57974923],\n",
              "        [0.61576031],\n",
              "        [0.71730573],\n",
              "        [0.76221023],\n",
              "        [0.80281382],\n",
              "        [0.84276134]],\n",
              "\n",
              "       [[0.48461875],\n",
              "        [0.51385042],\n",
              "        [0.54454002],\n",
              "        [0.57974923],\n",
              "        [0.61576031],\n",
              "        [0.71730573],\n",
              "        [0.76221023],\n",
              "        [0.80281382],\n",
              "        [0.84276134],\n",
              "        [0.87935559]],\n",
              "\n",
              "       [[0.51385042],\n",
              "        [0.54454002],\n",
              "        [0.57974923],\n",
              "        [0.61576031],\n",
              "        [0.71730573],\n",
              "        [0.76221023],\n",
              "        [0.80281382],\n",
              "        [0.84276134],\n",
              "        [0.87935559],\n",
              "        [0.92688439]]])"
            ]
          },
          "metadata": {
            "tags": []
          },
          "execution_count": 176
        }
      ]
    },
    {
      "cell_type": "code",
      "metadata": {
        "id": "uUTmSYy-Ahx1",
        "colab_type": "code",
        "outputId": "c7c989b6-c115-4126-d2ba-7e6391bf46ae",
        "colab": {
          "base_uri": "https://localhost:8080/",
          "height": 34
        }
      },
      "source": [
        "len(x_test)"
      ],
      "execution_count": 0,
      "outputs": [
        {
          "output_type": "execute_result",
          "data": {
            "text/plain": [
              "18"
            ]
          },
          "metadata": {
            "tags": []
          },
          "execution_count": 177
        }
      ]
    },
    {
      "cell_type": "code",
      "metadata": {
        "id": "QRpcISLfBBha",
        "colab_type": "code",
        "outputId": "e98fa2d8-b630-4cc6-d379-fc20fb1697b0",
        "colab": {
          "base_uri": "https://localhost:8080/",
          "height": 34
        }
      },
      "source": [
        "len(x_train)"
      ],
      "execution_count": 0,
      "outputs": [
        {
          "output_type": "execute_result",
          "data": {
            "text/plain": [
              "64"
            ]
          },
          "metadata": {
            "tags": []
          },
          "execution_count": 178
        }
      ]
    },
    {
      "cell_type": "code",
      "metadata": {
        "id": "5T3FumoDrl_J",
        "colab_type": "code",
        "colab": {}
      },
      "source": [
        "predictions = model.predict(x_test)\n",
        "predictions = scaler.inverse_transform(predictions)"
      ],
      "execution_count": 0,
      "outputs": []
    },
    {
      "cell_type": "code",
      "metadata": {
        "id": "xeSdeCGzuS9b",
        "colab_type": "code",
        "outputId": "e7e7ddce-2b2f-4da3-adfc-4efb1d3cac65",
        "colab": {
          "base_uri": "https://localhost:8080/",
          "height": 319
        }
      },
      "source": [
        "predictions"
      ],
      "execution_count": 0,
      "outputs": [
        {
          "output_type": "execute_result",
          "data": {
            "text/plain": [
              "array([[ 3737.4475],\n",
              "       [ 4228.7183],\n",
              "       [ 4639.8604],\n",
              "       [ 5023.9966],\n",
              "       [ 5429.906 ],\n",
              "       [ 5848.283 ],\n",
              "       [ 6272.425 ],\n",
              "       [ 6681.2666],\n",
              "       [ 7069.719 ],\n",
              "       [ 7440.8613],\n",
              "       [ 7808.2886],\n",
              "       [ 8170.2603],\n",
              "       [ 8671.899 ],\n",
              "       [ 9180.131 ],\n",
              "       [ 9651.899 ],\n",
              "       [10080.843 ],\n",
              "       [10465.938 ],\n",
              "       [10833.584 ]], dtype=float32)"
            ]
          },
          "metadata": {
            "tags": []
          },
          "execution_count": 180
        }
      ]
    },
    {
      "cell_type": "code",
      "metadata": {
        "id": "SKwx-v8gBvJm",
        "colab_type": "code",
        "outputId": "cc06717a-758b-4cfc-b053-a76dcf50fa64",
        "colab": {
          "base_uri": "https://localhost:8080/",
          "height": 34
        }
      },
      "source": [
        "len(predictions)"
      ],
      "execution_count": 0,
      "outputs": [
        {
          "output_type": "execute_result",
          "data": {
            "text/plain": [
              "18"
            ]
          },
          "metadata": {
            "tags": []
          },
          "execution_count": 181
        }
      ]
    },
    {
      "cell_type": "code",
      "metadata": {
        "id": "eqFoe549sXsn",
        "colab_type": "code",
        "outputId": "0abca648-680b-404e-c39d-5e4156785291",
        "colab": {
          "base_uri": "https://localhost:8080/",
          "height": 34
        }
      },
      "source": [
        "rmse = np.sqrt( np.mean( predictions - y_test )**2)\n",
        "rmse\n"
      ],
      "execution_count": 0,
      "outputs": [
        {
          "output_type": "execute_result",
          "data": {
            "text/plain": [
              "1022.037367078993"
            ]
          },
          "metadata": {
            "tags": []
          },
          "execution_count": 182
        }
      ]
    },
    {
      "cell_type": "code",
      "metadata": {
        "id": "PLYRsNOGsgZr",
        "colab_type": "code",
        "outputId": "728fd625-d5c5-41ff-894f-7079551ddba6",
        "colab": {
          "base_uri": "https://localhost:8080/",
          "height": 118
        }
      },
      "source": [
        "train = data[:training_data_len]\n",
        "valid = data[training_data_len:]\n",
        "valid['Predicted Cases'] = predictions\n",
        "\n"
      ],
      "execution_count": 0,
      "outputs": [
        {
          "output_type": "stream",
          "text": [
            "/usr/local/lib/python3.6/dist-packages/ipykernel_launcher.py:3: SettingWithCopyWarning: \n",
            "A value is trying to be set on a copy of a slice from a DataFrame.\n",
            "Try using .loc[row_indexer,col_indexer] = value instead\n",
            "\n",
            "See the caveats in the documentation: https://pandas.pydata.org/pandas-docs/stable/user_guide/indexing.html#returning-a-view-versus-a-copy\n",
            "  This is separate from the ipykernel package so we can avoid doing imports until\n"
          ],
          "name": "stderr"
        }
      ]
    },
    {
      "cell_type": "code",
      "metadata": {
        "id": "Qo985PovtHoN",
        "colab_type": "code",
        "outputId": "4af9afce-c48d-4a9a-a4fe-ea8f3f33af33",
        "colab": {
          "base_uri": "https://localhost:8080/",
          "height": 556
        }
      },
      "source": [
        "plt.figure(figsize=(22,10))\n",
        "plt.title('Model')\n",
        "plt.xlabel('Date', fontsize=12)\n",
        "plt.xticks(rotation=45)\n",
        "plt.ylabel('Confirmed Cases', fontsize=12)\n",
        "plt.plot(train['Confirmed Cases'])\n",
        "plt.plot(valid[['Confirmed Cases', 'Predicted Cases']])\n",
        "plt.legend(['Train', 'Val', 'Predictions'], loc='lower right')\n",
        "plt.savefig('/content/drive/My Drive/figzero.png', dpi=300)\n",
        "#plt.show()"
      ],
      "execution_count": 0,
      "outputs": [
        {
          "output_type": "display_data",
          "data": {
            "image/png": "[encoded data removed]",
            "text/plain": [
              "<Figure size 1584x720 with 1 Axes>"
            ]
          },
          "metadata": {
            "tags": []
          }
        }
      ]
    },
    {
      "cell_type": "code",
      "metadata": {
        "id": "BLCuU07muNXg",
        "colab_type": "code",
        "outputId": "9c4d88d9-bd3f-4526-cd89-bd3dfee0c1e0",
        "colab": {
          "base_uri": "https://localhost:8080/",
          "height": 610
        }
      },
      "source": [
        "valid"
      ],
      "execution_count": 0,
      "outputs": [
        {
          "output_type": "execute_result",
          "data": {
            "text/html": [
              "<div>\n",
              "<style scoped>\n",
              "    .dataframe tbody tr th:only-of-type {\n",
              "        vertical-align: middle;\n",
              "    }\n",
              "\n",
              "    .dataframe tbody tr th {\n",
              "        vertical-align: top;\n",
              "    }\n",
              "\n",
              "    .dataframe thead th {\n",
              "        text-align: right;\n",
              "    }\n",
              "</style>\n",
              "<table border=\"1\" class=\"dataframe\">\n",
              "  <thead>\n",
              "    <tr style=\"text-align: right;\">\n",
              "      <th></th>\n",
              "      <th>Confirmed Cases</th>\n",
              "      <th>Predicted Cases</th>\n",
              "    </tr>\n",
              "    <tr>\n",
              "      <th>Dates</th>\n",
              "      <th></th>\n",
              "      <th></th>\n",
              "    </tr>\n",
              "  </thead>\n",
              "  <tbody>\n",
              "    <tr>\n",
              "      <th>04/05/2020</th>\n",
              "      <td>4354</td>\n",
              "      <td>3737.447510</td>\n",
              "    </tr>\n",
              "    <tr>\n",
              "      <th>04/06/2020</th>\n",
              "      <td>4347</td>\n",
              "      <td>4228.718262</td>\n",
              "    </tr>\n",
              "    <tr>\n",
              "      <th>04/07/2020</th>\n",
              "      <td>4726</td>\n",
              "      <td>4639.860352</td>\n",
              "    </tr>\n",
              "    <tr>\n",
              "      <th>04/08/2020</th>\n",
              "      <td>5276</td>\n",
              "      <td>5023.996582</td>\n",
              "    </tr>\n",
              "    <tr>\n",
              "      <th>04/09/2020</th>\n",
              "      <td>5759</td>\n",
              "      <td>5429.905762</td>\n",
              "    </tr>\n",
              "    <tr>\n",
              "      <th>04/10/2020</th>\n",
              "      <td>6237</td>\n",
              "      <td>5848.283203</td>\n",
              "    </tr>\n",
              "    <tr>\n",
              "      <th>04/11/2020</th>\n",
              "      <td>6648</td>\n",
              "      <td>6272.424805</td>\n",
              "    </tr>\n",
              "    <tr>\n",
              "      <th>04/12/2020</th>\n",
              "      <td>7049</td>\n",
              "      <td>6681.266602</td>\n",
              "    </tr>\n",
              "    <tr>\n",
              "      <th>04/13/2020</th>\n",
              "      <td>7470</td>\n",
              "      <td>7069.719238</td>\n",
              "    </tr>\n",
              "    <tr>\n",
              "      <th>04/14/2020</th>\n",
              "      <td>7953</td>\n",
              "      <td>7440.861328</td>\n",
              "    </tr>\n",
              "    <tr>\n",
              "      <th>04/15/2020</th>\n",
              "      <td>8447</td>\n",
              "      <td>7808.288574</td>\n",
              "    </tr>\n",
              "    <tr>\n",
              "      <th>04/16/2020</th>\n",
              "      <td>9840</td>\n",
              "      <td>8170.260254</td>\n",
              "    </tr>\n",
              "    <tr>\n",
              "      <th>04/17/2020</th>\n",
              "      <td>10456</td>\n",
              "      <td>8671.899414</td>\n",
              "    </tr>\n",
              "    <tr>\n",
              "      <th>04/18/2020</th>\n",
              "      <td>11013</td>\n",
              "      <td>9180.130859</td>\n",
              "    </tr>\n",
              "    <tr>\n",
              "      <th>04/19/2020</th>\n",
              "      <td>11561</td>\n",
              "      <td>9651.899414</td>\n",
              "    </tr>\n",
              "    <tr>\n",
              "      <th>04/20/2020</th>\n",
              "      <td>12063</td>\n",
              "      <td>10080.842773</td>\n",
              "    </tr>\n",
              "    <tr>\n",
              "      <th>04/21/2020</th>\n",
              "      <td>12715</td>\n",
              "      <td>10465.938477</td>\n",
              "    </tr>\n",
              "    <tr>\n",
              "      <th>04/22/2020</th>\n",
              "      <td>13718</td>\n",
              "      <td>10833.583984</td>\n",
              "    </tr>\n",
              "  </tbody>\n",
              "</table>\n",
              "</div>"
            ],
            "text/plain": [
              "            Confirmed Cases  Predicted Cases\n",
              "Dates                                       \n",
              "04/05/2020             4354      3737.447510\n",
              "04/06/2020             4347      4228.718262\n",
              "04/07/2020             4726      4639.860352\n",
              "04/08/2020             5276      5023.996582\n",
              "04/09/2020             5759      5429.905762\n",
              "04/10/2020             6237      5848.283203\n",
              "04/11/2020             6648      6272.424805\n",
              "04/12/2020             7049      6681.266602\n",
              "04/13/2020             7470      7069.719238\n",
              "04/14/2020             7953      7440.861328\n",
              "04/15/2020             8447      7808.288574\n",
              "04/16/2020             9840      8170.260254\n",
              "04/17/2020            10456      8671.899414\n",
              "04/18/2020            11013      9180.130859\n",
              "04/19/2020            11561      9651.899414\n",
              "04/20/2020            12063     10080.842773\n",
              "04/21/2020            12715     10465.938477\n",
              "04/22/2020            13718     10833.583984"
            ]
          },
          "metadata": {
            "tags": []
          },
          "execution_count": 187
        }
      ]
    },
    {
      "cell_type": "code",
      "metadata": {
        "id": "-dKnJxcECYW-",
        "colab_type": "code",
        "outputId": "780c8f1a-017a-4539-ef0c-7440adc0cbc5",
        "colab": {
          "base_uri": "https://localhost:8080/",
          "height": 34
        }
      },
      "source": [
        "len(valid)"
      ],
      "execution_count": 0,
      "outputs": [
        {
          "output_type": "execute_result",
          "data": {
            "text/plain": [
              "18"
            ]
          },
          "metadata": {
            "tags": []
          },
          "execution_count": 188
        }
      ]
    },
    {
      "cell_type": "code",
      "metadata": {
        "colab_type": "code",
        "outputId": "37e75ad7-2e5d-4d6b-fbac-bccd76a48f9f",
        "id": "LNNyOWc7F_ep",
        "colab": {
          "base_uri": "https://localhost:8080/",
          "height": 606
        }
      },
      "source": [
        "plt.figure(figsize=(16,8))\n",
        "plt.title('Model')\n",
        "plt.xlabel('Date', fontsize=12)\n",
        "plt.xticks(rotation=45)\n",
        "plt.ylabel('Confirmed Cases', fontsize=12)\n",
        "plt.plot(valid)\n",
        "plt.legend(['Train', 'Predictions'], loc='lower right')\n",
        "plt.savefig('/content/drive/My Drive/figone.png', dpi=300)\n",
        "#plt.show()"
      ],
      "execution_count": 0,
      "outputs": [
        {
          "output_type": "display_data",
          "data": {
            "image/png": "[encoded data removed]",
            "text/plain": [
              "<Figure size 1152x576 with 1 Axes>"
            ]
          },
          "metadata": {
            "tags": []
          }
        }
      ]
    },
    {
      "cell_type": "code",
      "metadata": {
        "id": "DlAhnN5vFtXq",
        "colab_type": "code",
        "outputId": "66857eca-2833-4f30-ff9c-2a3f1dfe1c06",
        "colab": {
          "base_uri": "https://localhost:8080/",
          "height": 34
        }
      },
      "source": [
        "from sklearn.metrics import r2_score\n",
        "score = r2_score(valid['Confirmed Cases'], valid['Predicted Cases'])\n",
        "print(score)"
      ],
      "execution_count": 0,
      "outputs": [
        {
          "output_type": "stream",
          "text": [
            "0.7954187534637067\n"
          ],
          "name": "stdout"
        }
      ]
    },
    {
      "cell_type": "markdown",
      "metadata": {
        "id": "Np5QtxiXhKBj",
        "colab_type": "text"
      },
      "source": [
        "LSTM FOR ONTARIO DEATHS"
      ]
    },
    {
      "cell_type": "code",
      "metadata": {
        "id": "a8d2fAjwfbQM",
        "colab_type": "code",
        "outputId": "6fa83c3e-3ea7-41ea-c266-bb8ea6a804ac",
        "colab": {
          "base_uri": "https://localhost:8080/",
          "height": 309
        }
      },
      "source": [
        "df2 = df['Confirmed deaths'].plot()\n",
        "#plt.figure(figsize=(16,8))"
      ],
      "execution_count": 0,
      "outputs": [
        {
          "output_type": "display_data",
          "data": {
            "image/png": "[encoded data removed]",
            "text/plain": [
              "<Figure size 432x288 with 1 Axes>"
            ]
          },
          "metadata": {
            "tags": []
          }
        }
      ]
    },
    {
      "cell_type": "code",
      "metadata": {
        "id": "K3VBKnC7hV0W",
        "colab_type": "code",
        "colab": {}
      },
      "source": [
        "data2 = df.filter(['Confirmed deaths'])"
      ],
      "execution_count": 0,
      "outputs": []
    },
    {
      "cell_type": "code",
      "metadata": {
        "id": "qPhJZx-Oib32",
        "colab_type": "code",
        "colab": {}
      },
      "source": [
        "dataset2 = data2.values"
      ],
      "execution_count": 0,
      "outputs": []
    },
    {
      "cell_type": "code",
      "metadata": {
        "id": "j8KeADxcidfP",
        "colab_type": "code",
        "outputId": "8c328f0c-985d-4cba-cd43-85cecaf4488a",
        "colab": {
          "base_uri": "https://localhost:8080/",
          "height": 34
        }
      },
      "source": [
        "training_data_len2 = math.ceil(len(dataset2) * 0.8)\n",
        "training_data_len2"
      ],
      "execution_count": 0,
      "outputs": [
        {
          "output_type": "execute_result",
          "data": {
            "text/plain": [
              "74"
            ]
          },
          "metadata": {
            "tags": []
          },
          "execution_count": 195
        }
      ]
    },
    {
      "cell_type": "code",
      "metadata": {
        "id": "25VlIZiOijtM",
        "colab_type": "code",
        "colab": {}
      },
      "source": [
        "scaler2 = MinMaxScaler(feature_range=(0,1))\n",
        "scaled_data2 = scaler.fit_transform(dataset2)"
      ],
      "execution_count": 0,
      "outputs": []
    },
    {
      "cell_type": "code",
      "metadata": {
        "id": "EtAscLFxipZ8",
        "colab_type": "code",
        "outputId": "4fcd2c57-0bed-46b9-c264-a619a4546f58",
        "colab": {
          "base_uri": "https://localhost:8080/",
          "height": 1000
        }
      },
      "source": [
        "scaled_data2"
      ],
      "execution_count": 0,
      "outputs": [
        {
          "output_type": "execute_result",
          "data": {
            "text/plain": [
              "array([[0.        ],\n",
              "       [0.        ],\n",
              "       [0.        ],\n",
              "       [0.        ],\n",
              "       [0.        ],\n",
              "       [0.        ],\n",
              "       [0.        ],\n",
              "       [0.        ],\n",
              "       [0.        ],\n",
              "       [0.        ],\n",
              "       [0.        ],\n",
              "       [0.        ],\n",
              "       [0.        ],\n",
              "       [0.        ],\n",
              "       [0.        ],\n",
              "       [0.        ],\n",
              "       [0.        ],\n",
              "       [0.        ],\n",
              "       [0.        ],\n",
              "       [0.        ],\n",
              "       [0.        ],\n",
              "       [0.        ],\n",
              "       [0.        ],\n",
              "       [0.        ],\n",
              "       [0.        ],\n",
              "       [0.        ],\n",
              "       [0.        ],\n",
              "       [0.        ],\n",
              "       [0.        ],\n",
              "       [0.        ],\n",
              "       [0.        ],\n",
              "       [0.        ],\n",
              "       [0.        ],\n",
              "       [0.        ],\n",
              "       [0.        ],\n",
              "       [0.        ],\n",
              "       [0.        ],\n",
              "       [0.        ],\n",
              "       [0.        ],\n",
              "       [0.        ],\n",
              "       [0.        ],\n",
              "       [0.        ],\n",
              "       [0.        ],\n",
              "       [0.        ],\n",
              "       [0.        ],\n",
              "       [0.        ],\n",
              "       [0.        ],\n",
              "       [0.        ],\n",
              "       [0.        ],\n",
              "       [0.        ],\n",
              "       [0.        ],\n",
              "       [0.        ],\n",
              "       [0.        ],\n",
              "       [0.        ],\n",
              "       [0.        ],\n",
              "       [0.00131234],\n",
              "       [0.00131234],\n",
              "       [0.00131234],\n",
              "       [0.00262467],\n",
              "       [0.00393701],\n",
              "       [0.00656168],\n",
              "       [0.00787402],\n",
              "       [0.00918635],\n",
              "       [0.01049869],\n",
              "       [0.01706037],\n",
              "       [0.02362205],\n",
              "       [0.02362205],\n",
              "       [0.02755906],\n",
              "       [0.04068241],\n",
              "       [0.04330709],\n",
              "       [0.04855643],\n",
              "       [0.06955381],\n",
              "       [0.08792651],\n",
              "       [0.12335958],\n",
              "       [0.15616798],\n",
              "       [0.19685039],\n",
              "       [0.2007874 ],\n",
              "       [0.2007874 ],\n",
              "       [0.26246719],\n",
              "       [0.29133858],\n",
              "       [0.332021  ],\n",
              "       [0.35958005],\n",
              "       [0.38188976],\n",
              "       [0.43832021],\n",
              "       [0.50524934],\n",
              "       [0.64304462],\n",
              "       [0.68766404],\n",
              "       [0.74015748],\n",
              "       [0.77559055],\n",
              "       [0.81889764],\n",
              "       [0.91076115],\n",
              "       [1.        ]])"
            ]
          },
          "metadata": {
            "tags": []
          },
          "execution_count": 197
        }
      ]
    },
    {
      "cell_type": "code",
      "metadata": {
        "id": "vI7R3akPiuv5",
        "colab_type": "code",
        "outputId": "c91ae8c2-c228-4313-b2e5-1df9413e23c0",
        "colab": {
          "base_uri": "https://localhost:8080/",
          "height": 67
        }
      },
      "source": [
        "train_data2 = scaled_data2[0:training_data_len2, :]\n",
        "x_train2 = []\n",
        "y_train2 = []\n",
        "\n",
        "for i in range(10, len(train_data2)):\n",
        "  x_train2.append(train_data2[i-10:i, 0])\n",
        "  y_train2.append(train_data2[i, 0])\n",
        "  if i<= 10:\n",
        "    print(x_train2)\n",
        "    print(y_train2)\n",
        "    print()"
      ],
      "execution_count": 0,
      "outputs": [
        {
          "output_type": "stream",
          "text": [
            "[array([0., 0., 0., 0., 0., 0., 0., 0., 0., 0.])]\n",
            "[0.0]\n",
            "\n"
          ],
          "name": "stdout"
        }
      ]
    },
    {
      "cell_type": "code",
      "metadata": {
        "id": "ywdAMCgIi0sA",
        "colab_type": "code",
        "colab": {}
      },
      "source": [
        "x_train2, y_train2 = np.array(x_train2), np.array(y_train2)"
      ],
      "execution_count": 0,
      "outputs": []
    },
    {
      "cell_type": "code",
      "metadata": {
        "id": "9vXTIODJi62A",
        "colab_type": "code",
        "outputId": "69c86c37-6563-4ba3-c54a-7996bb8d4c84",
        "colab": {
          "base_uri": "https://localhost:8080/",
          "height": 34
        }
      },
      "source": [
        "x_train2 = np.reshape(x_train2, (x_train2.shape[0], x_train2.shape[1], 1))\n",
        "x_train2.shape"
      ],
      "execution_count": 0,
      "outputs": [
        {
          "output_type": "execute_result",
          "data": {
            "text/plain": [
              "(64, 10, 1)"
            ]
          },
          "metadata": {
            "tags": []
          },
          "execution_count": 200
        }
      ]
    },
    {
      "cell_type": "code",
      "metadata": {
        "id": "ADuwUtFHi_QY",
        "colab_type": "code",
        "colab": {}
      },
      "source": [
        "model2 = Sequential()\n",
        "model2.add(LSTM(50, return_sequences=True, input_shape=(x_train2.shape[1], 1)))\n",
        "model2.add(LSTM(50, return_sequences=False))\n",
        "model2.add(Dense(25))\n",
        "model2.add(Dense(1))"
      ],
      "execution_count": 0,
      "outputs": []
    },
    {
      "cell_type": "code",
      "metadata": {
        "id": "H50CL4dBjHQp",
        "colab_type": "code",
        "colab": {}
      },
      "source": [
        "#compile the model\n",
        "model2.compile(optimizer='adam', loss='mean_squared_error')\n"
      ],
      "execution_count": 0,
      "outputs": []
    },
    {
      "cell_type": "code",
      "metadata": {
        "id": "1V32MJ4XjMeT",
        "colab_type": "code",
        "outputId": "689a1bf5-c241-45ef-e0dc-3204c8749a27",
        "colab": {
          "base_uri": "https://localhost:8080/",
          "height": 1000
        }
      },
      "source": [
        "model2.fit(x_train2, y_train2, batch_size=1, epochs=50)"
      ],
      "execution_count": 0,
      "outputs": [
        {
          "output_type": "stream",
          "text": [
            "Epoch 1/50\n",
            "64/64 [==============================] - 1s 16ms/step - loss: 5.7532e-04\n",
            "Epoch 2/50\n",
            "64/64 [==============================] - 1s 8ms/step - loss: 4.5549e-04\n",
            "Epoch 3/50\n",
            "64/64 [==============================] - 0s 8ms/step - loss: 3.3118e-04\n",
            "Epoch 4/50\n",
            "64/64 [==============================] - 1s 8ms/step - loss: 1.8204e-04\n",
            "Epoch 5/50\n",
            "64/64 [==============================] - 0s 7ms/step - loss: 5.6328e-05\n",
            "Epoch 6/50\n",
            "64/64 [==============================] - 0s 8ms/step - loss: 9.1171e-05\n",
            "Epoch 7/50\n",
            "64/64 [==============================] - 0s 7ms/step - loss: 3.8989e-05\n",
            "Epoch 8/50\n",
            "64/64 [==============================] - 0s 7ms/step - loss: 1.5892e-04\n",
            "Epoch 9/50\n",
            "64/64 [==============================] - 0s 7ms/step - loss: 2.4513e-05\n",
            "Epoch 10/50\n",
            "64/64 [==============================] - 0s 7ms/step - loss: 1.4888e-05\n",
            "Epoch 11/50\n",
            "64/64 [==============================] - 1s 8ms/step - loss: 4.3116e-05\n",
            "Epoch 12/50\n",
            "64/64 [==============================] - 0s 7ms/step - loss: 5.3777e-05\n",
            "Epoch 13/50\n",
            "64/64 [==============================] - 0s 8ms/step - loss: 2.2863e-05\n",
            "Epoch 14/50\n",
            "64/64 [==============================] - 0s 7ms/step - loss: 4.0213e-05\n",
            "Epoch 15/50\n",
            "64/64 [==============================] - 0s 8ms/step - loss: 3.4677e-05\n",
            "Epoch 16/50\n",
            "64/64 [==============================] - 0s 7ms/step - loss: 4.5167e-05\n",
            "Epoch 17/50\n",
            "64/64 [==============================] - 1s 8ms/step - loss: 3.5313e-05\n",
            "Epoch 18/50\n",
            "64/64 [==============================] - 0s 7ms/step - loss: 3.3099e-05\n",
            "Epoch 19/50\n",
            "64/64 [==============================] - 0s 8ms/step - loss: 2.8173e-05\n",
            "Epoch 20/50\n",
            "64/64 [==============================] - 0s 7ms/step - loss: 3.3643e-05\n",
            "Epoch 21/50\n",
            "64/64 [==============================] - 0s 8ms/step - loss: 1.7301e-05\n",
            "Epoch 22/50\n",
            "64/64 [==============================] - 0s 7ms/step - loss: 2.2040e-05\n",
            "Epoch 23/50\n",
            "64/64 [==============================] - 0s 7ms/step - loss: 3.9653e-05\n",
            "Epoch 24/50\n",
            "64/64 [==============================] - 0s 7ms/step - loss: 5.2479e-05\n",
            "Epoch 25/50\n",
            "64/64 [==============================] - 0s 8ms/step - loss: 3.0328e-05\n",
            "Epoch 26/50\n",
            "64/64 [==============================] - 0s 7ms/step - loss: 1.9852e-05\n",
            "Epoch 27/50\n",
            "64/64 [==============================] - 0s 7ms/step - loss: 1.6723e-05\n",
            "Epoch 28/50\n",
            "64/64 [==============================] - 0s 8ms/step - loss: 2.1156e-05\n",
            "Epoch 29/50\n",
            "64/64 [==============================] - 0s 7ms/step - loss: 1.8280e-05\n",
            "Epoch 30/50\n",
            "64/64 [==============================] - 1s 8ms/step - loss: 2.4588e-05\n",
            "Epoch 31/50\n",
            "64/64 [==============================] - 0s 7ms/step - loss: 2.4872e-05\n",
            "Epoch 32/50\n",
            "64/64 [==============================] - 0s 8ms/step - loss: 4.2402e-05\n",
            "Epoch 33/50\n",
            "64/64 [==============================] - 0s 7ms/step - loss: 4.9550e-05\n",
            "Epoch 34/50\n",
            "64/64 [==============================] - 0s 8ms/step - loss: 2.8568e-05\n",
            "Epoch 35/50\n",
            "64/64 [==============================] - 0s 7ms/step - loss: 3.9796e-05\n",
            "Epoch 36/50\n",
            "64/64 [==============================] - 0s 7ms/step - loss: 6.0483e-05\n",
            "Epoch 37/50\n",
            "64/64 [==============================] - 0s 8ms/step - loss: 2.0103e-05\n",
            "Epoch 38/50\n",
            "64/64 [==============================] - 1s 8ms/step - loss: 2.2472e-05\n",
            "Epoch 39/50\n",
            "64/64 [==============================] - 0s 7ms/step - loss: 2.9142e-05\n",
            "Epoch 40/50\n",
            "64/64 [==============================] - 0s 8ms/step - loss: 1.5747e-05\n",
            "Epoch 41/50\n",
            "64/64 [==============================] - 0s 7ms/step - loss: 3.7152e-05\n",
            "Epoch 42/50\n",
            "64/64 [==============================] - 0s 8ms/step - loss: 3.2391e-05\n",
            "Epoch 43/50\n",
            "64/64 [==============================] - 0s 7ms/step - loss: 3.6726e-05\n",
            "Epoch 44/50\n",
            "64/64 [==============================] - 0s 8ms/step - loss: 1.7480e-05\n",
            "Epoch 45/50\n",
            "64/64 [==============================] - 0s 7ms/step - loss: 2.5069e-05\n",
            "Epoch 46/50\n",
            "64/64 [==============================] - 0s 7ms/step - loss: 2.3246e-05\n",
            "Epoch 47/50\n",
            "64/64 [==============================] - 0s 7ms/step - loss: 8.9754e-06\n",
            "Epoch 48/50\n",
            "64/64 [==============================] - 0s 7ms/step - loss: 2.3114e-05\n",
            "Epoch 49/50\n",
            "64/64 [==============================] - 0s 7ms/step - loss: 1.7553e-05\n",
            "Epoch 50/50\n",
            "64/64 [==============================] - 0s 7ms/step - loss: 1.8394e-05\n"
          ],
          "name": "stdout"
        },
        {
          "output_type": "execute_result",
          "data": {
            "text/plain": [
              "<keras.callbacks.callbacks.History at 0x7f6e52a3b0f0>"
            ]
          },
          "metadata": {
            "tags": []
          },
          "execution_count": 203
        }
      ]
    },
    {
      "cell_type": "code",
      "metadata": {
        "id": "YTcxQNj9jixB",
        "colab_type": "code",
        "colab": {}
      },
      "source": [
        "test_data2 = scaled_data2[training_data_len2-10: , :]\n",
        "x_test2 = []\n",
        "y_test2 = dataset2[training_data_len2:, :]\n",
        "for i in range(10, len(test_data2)):\n",
        "  x_test2.append(test_data2[i-10:i, 0])\n",
        "  "
      ],
      "execution_count": 0,
      "outputs": []
    },
    {
      "cell_type": "code",
      "metadata": {
        "id": "fHlp2hGGjykZ",
        "colab_type": "code",
        "outputId": "7bba5237-5d9d-4625-b437-ac49b84e44af",
        "colab": {
          "base_uri": "https://localhost:8080/",
          "height": 34
        }
      },
      "source": [
        "len(test_data2)"
      ],
      "execution_count": 0,
      "outputs": [
        {
          "output_type": "execute_result",
          "data": {
            "text/plain": [
              "28"
            ]
          },
          "metadata": {
            "tags": []
          },
          "execution_count": 205
        }
      ]
    },
    {
      "cell_type": "code",
      "metadata": {
        "id": "wcK2a08jj4hj",
        "colab_type": "code",
        "colab": {}
      },
      "source": [
        "x_test2 = np.array(x_test2)"
      ],
      "execution_count": 0,
      "outputs": []
    },
    {
      "cell_type": "code",
      "metadata": {
        "id": "PDQeRF86j8xY",
        "colab_type": "code",
        "colab": {}
      },
      "source": [
        "x_test2 = np.reshape(x_test2, (x_test2.shape[0], x_test2.shape[1], 1 ))"
      ],
      "execution_count": 0,
      "outputs": []
    },
    {
      "cell_type": "code",
      "metadata": {
        "id": "28zBibWLkCD-",
        "colab_type": "code",
        "colab": {}
      },
      "source": [
        "predictions2 = model.predict(x_test2)\n",
        "predictions2 = scaler.inverse_transform(predictions2)"
      ],
      "execution_count": 0,
      "outputs": []
    },
    {
      "cell_type": "code",
      "metadata": {
        "id": "6Lbvq9pCkIme",
        "colab_type": "code",
        "outputId": "f0b577e2-8211-4a95-ca57-14222c613c22",
        "colab": {
          "base_uri": "https://localhost:8080/",
          "height": 34
        }
      },
      "source": [
        "rmse = np.sqrt( np.mean( predictions2 - y_test )**2)\n",
        "rmse"
      ],
      "execution_count": 0,
      "outputs": [
        {
          "output_type": "execute_result",
          "data": {
            "text/plain": [
              "8001.996246761746"
            ]
          },
          "metadata": {
            "tags": []
          },
          "execution_count": 209
        }
      ]
    },
    {
      "cell_type": "code",
      "metadata": {
        "id": "zEiYFO0ckPgK",
        "colab_type": "code",
        "outputId": "4f6de0a6-1810-41d9-b508-3ecff7fa8897",
        "colab": {
          "base_uri": "https://localhost:8080/",
          "height": 118
        }
      },
      "source": [
        "train2 = data2[:training_data_len2]\n",
        "valid2 = data2[training_data_len2:]\n",
        "valid2['Predicted Deaths'] = predictions2"
      ],
      "execution_count": 0,
      "outputs": [
        {
          "output_type": "stream",
          "text": [
            "/usr/local/lib/python3.6/dist-packages/ipykernel_launcher.py:3: SettingWithCopyWarning: \n",
            "A value is trying to be set on a copy of a slice from a DataFrame.\n",
            "Try using .loc[row_indexer,col_indexer] = value instead\n",
            "\n",
            "See the caveats in the documentation: https://pandas.pydata.org/pandas-docs/stable/user_guide/indexing.html#returning-a-view-versus-a-copy\n",
            "  This is separate from the ipykernel package so we can avoid doing imports until\n"
          ],
          "name": "stderr"
        }
      ]
    },
    {
      "cell_type": "code",
      "metadata": {
        "id": "MMDnw1s7l-KL",
        "colab_type": "code",
        "outputId": "d21fb0e5-7d32-42a6-9888-bc787d719c4d",
        "colab": {
          "base_uri": "https://localhost:8080/",
          "height": 610
        }
      },
      "source": [
        "valid2\n"
      ],
      "execution_count": 0,
      "outputs": [
        {
          "output_type": "execute_result",
          "data": {
            "text/html": [
              "<div>\n",
              "<style scoped>\n",
              "    .dataframe tbody tr th:only-of-type {\n",
              "        vertical-align: middle;\n",
              "    }\n",
              "\n",
              "    .dataframe tbody tr th {\n",
              "        vertical-align: top;\n",
              "    }\n",
              "\n",
              "    .dataframe thead th {\n",
              "        text-align: right;\n",
              "    }\n",
              "</style>\n",
              "<table border=\"1\" class=\"dataframe\">\n",
              "  <thead>\n",
              "    <tr style=\"text-align: right;\">\n",
              "      <th></th>\n",
              "      <th>Confirmed deaths</th>\n",
              "      <th>Predicted Deaths</th>\n",
              "    </tr>\n",
              "    <tr>\n",
              "      <th>Dates</th>\n",
              "      <th></th>\n",
              "      <th></th>\n",
              "    </tr>\n",
              "  </thead>\n",
              "  <tbody>\n",
              "    <tr>\n",
              "      <th>04/05/2020</th>\n",
              "      <td>119</td>\n",
              "      <td>96.256805</td>\n",
              "    </tr>\n",
              "    <tr>\n",
              "      <th>04/06/2020</th>\n",
              "      <td>150</td>\n",
              "      <td>116.477837</td>\n",
              "    </tr>\n",
              "    <tr>\n",
              "      <th>04/07/2020</th>\n",
              "      <td>153</td>\n",
              "      <td>141.047485</td>\n",
              "    </tr>\n",
              "    <tr>\n",
              "      <th>04/08/2020</th>\n",
              "      <td>153</td>\n",
              "      <td>162.888855</td>\n",
              "    </tr>\n",
              "    <tr>\n",
              "      <th>04/09/2020</th>\n",
              "      <td>200</td>\n",
              "      <td>179.816589</td>\n",
              "    </tr>\n",
              "    <tr>\n",
              "      <th>04/10/2020</th>\n",
              "      <td>222</td>\n",
              "      <td>202.103806</td>\n",
              "    </tr>\n",
              "    <tr>\n",
              "      <th>04/11/2020</th>\n",
              "      <td>253</td>\n",
              "      <td>226.237625</td>\n",
              "    </tr>\n",
              "    <tr>\n",
              "      <th>04/12/2020</th>\n",
              "      <td>274</td>\n",
              "      <td>252.496918</td>\n",
              "    </tr>\n",
              "    <tr>\n",
              "      <th>04/13/2020</th>\n",
              "      <td>291</td>\n",
              "      <td>278.094208</td>\n",
              "    </tr>\n",
              "    <tr>\n",
              "      <th>04/14/2020</th>\n",
              "      <td>334</td>\n",
              "      <td>301.641693</td>\n",
              "    </tr>\n",
              "    <tr>\n",
              "      <th>04/15/2020</th>\n",
              "      <td>385</td>\n",
              "      <td>327.747437</td>\n",
              "    </tr>\n",
              "    <tr>\n",
              "      <th>04/16/2020</th>\n",
              "      <td>490</td>\n",
              "      <td>358.217163</td>\n",
              "    </tr>\n",
              "    <tr>\n",
              "      <th>04/17/2020</th>\n",
              "      <td>524</td>\n",
              "      <td>401.175537</td>\n",
              "    </tr>\n",
              "    <tr>\n",
              "      <th>04/18/2020</th>\n",
              "      <td>564</td>\n",
              "      <td>442.990540</td>\n",
              "    </tr>\n",
              "    <tr>\n",
              "      <th>04/19/2020</th>\n",
              "      <td>591</td>\n",
              "      <td>481.380310</td>\n",
              "    </tr>\n",
              "    <tr>\n",
              "      <th>04/20/2020</th>\n",
              "      <td>624</td>\n",
              "      <td>513.706421</td>\n",
              "    </tr>\n",
              "    <tr>\n",
              "      <th>04/21/2020</th>\n",
              "      <td>694</td>\n",
              "      <td>541.940674</td>\n",
              "    </tr>\n",
              "    <tr>\n",
              "      <th>04/22/2020</th>\n",
              "      <td>762</td>\n",
              "      <td>571.847656</td>\n",
              "    </tr>\n",
              "  </tbody>\n",
              "</table>\n",
              "</div>"
            ],
            "text/plain": [
              "            Confirmed deaths  Predicted Deaths\n",
              "Dates                                         \n",
              "04/05/2020               119         96.256805\n",
              "04/06/2020               150        116.477837\n",
              "04/07/2020               153        141.047485\n",
              "04/08/2020               153        162.888855\n",
              "04/09/2020               200        179.816589\n",
              "04/10/2020               222        202.103806\n",
              "04/11/2020               253        226.237625\n",
              "04/12/2020               274        252.496918\n",
              "04/13/2020               291        278.094208\n",
              "04/14/2020               334        301.641693\n",
              "04/15/2020               385        327.747437\n",
              "04/16/2020               490        358.217163\n",
              "04/17/2020               524        401.175537\n",
              "04/18/2020               564        442.990540\n",
              "04/19/2020               591        481.380310\n",
              "04/20/2020               624        513.706421\n",
              "04/21/2020               694        541.940674\n",
              "04/22/2020               762        571.847656"
            ]
          },
          "metadata": {
            "tags": []
          },
          "execution_count": 211
        }
      ]
    },
    {
      "cell_type": "code",
      "metadata": {
        "id": "POhK4o7PkYpf",
        "colab_type": "code",
        "outputId": "4b5885b0-657a-4c5a-8d9c-e61d7658e3e8",
        "colab": {
          "base_uri": "https://localhost:8080/",
          "height": 562
        }
      },
      "source": [
        "plt.figure(figsize=(22,10))\n",
        "plt.title('Model')\n",
        "plt.xlabel('Date', fontsize=12)\n",
        "plt.xticks(rotation=45)\n",
        "plt.ylabel('Confirmed deaths', fontsize=12)\n",
        "plt.plot(train2['Confirmed deaths'])\n",
        "plt.plot(valid2[['Confirmed deaths', 'Predicted Deaths']])\n",
        "plt.legend(['Train', 'Val', 'Predictions'], loc='lower right')\n",
        "#plt.savefig('/content/drive/My Drive/figzero.png', dpi=300)\n",
        "plt.show()"
      ],
      "execution_count": 0,
      "outputs": [
        {
          "output_type": "display_data",
          "data": {
            "image/png": "[encoded data removed]",
            "text/plain": [
              "<Figure size 1584x720 with 1 Axes>"
            ]
          },
          "metadata": {
            "tags": []
          }
        }
      ]
    },
    {
      "cell_type": "code",
      "metadata": {
        "id": "MGpjbTvxkjCO",
        "colab_type": "code",
        "outputId": "a5d4f0a2-9d67-433d-f955-cedc6cba481a",
        "colab": {
          "base_uri": "https://localhost:8080/",
          "height": 606
        }
      },
      "source": [
        "plt.figure(figsize=(16,8))\n",
        "plt.title('Model')\n",
        "plt.xlabel('Date', fontsize=12)\n",
        "plt.xticks(rotation=45)\n",
        "plt.ylabel('Confirmed Deaths', fontsize=12)\n",
        "plt.plot(valid2)\n",
        "plt.legend(['Train', 'Predictions'], loc='lower right')\n",
        "#plt.savefig('/content/drive/My Drive/figone.png', dpi=300)\n",
        "plt.show()"
      ],
      "execution_count": 0,
      "outputs": [
        {
          "output_type": "display_data",
          "data": {
            "image/png": "[encoded data removed]",
            "text/plain": [
              "<Figure size 1152x576 with 1 Axes>"
            ]
          },
          "metadata": {
            "tags": []
          }
        }
      ]
    },
    {
      "cell_type": "code",
      "metadata": {
        "id": "uIkTyNgMu40Q",
        "colab_type": "code",
        "outputId": "f7011ecd-e9db-4582-abb0-bb47f686cbff",
        "colab": {
          "base_uri": "https://localhost:8080/",
          "height": 304
        }
      },
      "source": [
        "df2 = df['Confirmed Recovered'].plot()\n"
      ],
      "execution_count": 0,
      "outputs": [
        {
          "output_type": "display_data",
          "data": {
            "image/png": "[encoded data removed]",
            "text/plain": [
              "<Figure size 432x288 with 1 Axes>"
            ]
          },
          "metadata": {
            "tags": []
          }
        }
      ]
    },
    {
      "cell_type": "code",
      "metadata": {
        "id": "33KEAANYvHlS",
        "colab_type": "code",
        "colab": {}
      },
      "source": [
        "data3 = df.filter(['Confirmed Recovered'])"
      ],
      "execution_count": 0,
      "outputs": []
    },
    {
      "cell_type": "code",
      "metadata": {
        "id": "WfIzbwAkvKKy",
        "colab_type": "code",
        "colab": {}
      },
      "source": [
        "dataset3 = data3.values"
      ],
      "execution_count": 0,
      "outputs": []
    },
    {
      "cell_type": "code",
      "metadata": {
        "id": "1misUtX_vO2Y",
        "colab_type": "code",
        "outputId": "44913331-532b-4e68-df4c-05e448f7c6a1",
        "colab": {
          "base_uri": "https://localhost:8080/",
          "height": 34
        }
      },
      "source": [
        "training_data_len3 = math.ceil(len(dataset3) * 0.8)\n",
        "training_data_len3"
      ],
      "execution_count": 0,
      "outputs": [
        {
          "output_type": "execute_result",
          "data": {
            "text/plain": [
              "74"
            ]
          },
          "metadata": {
            "tags": []
          },
          "execution_count": 219
        }
      ]
    },
    {
      "cell_type": "code",
      "metadata": {
        "id": "Roqt7rzhvS7T",
        "colab_type": "code",
        "colab": {}
      },
      "source": [
        "scaler3 = MinMaxScaler(feature_range=(0,1))\n",
        "scaled_data3 = scaler.fit_transform(dataset3)"
      ],
      "execution_count": 0,
      "outputs": []
    },
    {
      "cell_type": "code",
      "metadata": {
        "id": "8WHRvGS7vZUs",
        "colab_type": "code",
        "outputId": "c22d33d5-427a-46bc-929b-89e31800209d",
        "colab": {
          "base_uri": "https://localhost:8080/",
          "height": 1000
        }
      },
      "source": [
        "scaled_data3"
      ],
      "execution_count": 0,
      "outputs": [
        {
          "output_type": "execute_result",
          "data": {
            "text/plain": [
              "array([[0.00000000e+00],\n",
              "       [0.00000000e+00],\n",
              "       [0.00000000e+00],\n",
              "       [0.00000000e+00],\n",
              "       [0.00000000e+00],\n",
              "       [0.00000000e+00],\n",
              "       [0.00000000e+00],\n",
              "       [0.00000000e+00],\n",
              "       [0.00000000e+00],\n",
              "       [0.00000000e+00],\n",
              "       [0.00000000e+00],\n",
              "       [0.00000000e+00],\n",
              "       [0.00000000e+00],\n",
              "       [0.00000000e+00],\n",
              "       [0.00000000e+00],\n",
              "       [0.00000000e+00],\n",
              "       [0.00000000e+00],\n",
              "       [0.00000000e+00],\n",
              "       [0.00000000e+00],\n",
              "       [0.00000000e+00],\n",
              "       [0.00000000e+00],\n",
              "       [6.91850007e-05],\n",
              "       [6.91850007e-05],\n",
              "       [6.91850007e-05],\n",
              "       [6.91850007e-05],\n",
              "       [6.91850007e-05],\n",
              "       [6.91850007e-05],\n",
              "       [6.91850007e-05],\n",
              "       [6.91850007e-05],\n",
              "       [6.91850007e-05],\n",
              "       [2.07555002e-04],\n",
              "       [2.07555002e-04],\n",
              "       [2.07555002e-04],\n",
              "       [2.07555002e-04],\n",
              "       [2.07555002e-04],\n",
              "       [2.07555002e-04],\n",
              "       [4.15110004e-04],\n",
              "       [4.15110004e-04],\n",
              "       [4.15110004e-04],\n",
              "       [4.15110004e-04],\n",
              "       [4.15110004e-04],\n",
              "       [4.15110004e-04],\n",
              "       [4.15110004e-04],\n",
              "       [4.15110004e-04],\n",
              "       [4.15110004e-04],\n",
              "       [5.53480006e-04],\n",
              "       [5.53480006e-04],\n",
              "       [5.53480006e-04],\n",
              "       [5.53480006e-04],\n",
              "       [5.53480006e-04],\n",
              "       [5.53480006e-04],\n",
              "       [5.53480006e-04],\n",
              "       [5.53480006e-04],\n",
              "       [5.53480006e-04],\n",
              "       [6.22665006e-04],\n",
              "       [6.22665006e-04],\n",
              "       [6.22665006e-04],\n",
              "       [6.22665006e-04],\n",
              "       [6.22665006e-04],\n",
              "       [6.91850007e-04],\n",
              "       [6.91850007e-04],\n",
              "       [6.91850007e-04],\n",
              "       [7.61035008e-03],\n",
              "       [1.26608551e-02],\n",
              "       [1.27300401e-02],\n",
              "       [1.77113602e-02],\n",
              "       [3.22402103e-02],\n",
              "       [3.22402103e-02],\n",
              "       [3.22402103e-02],\n",
              "       [1.10142521e-01],\n",
              "       [9.16009409e-02],\n",
              "       [1.20035976e-01],\n",
              "       [1.50477377e-01],\n",
              "       [1.78289747e-01],\n",
              "       [2.08385222e-01],\n",
              "       [2.25266362e-01],\n",
              "       [2.62280338e-01],\n",
              "       [2.87394493e-01],\n",
              "       [3.57132974e-01],\n",
              "       [4.05078179e-01],\n",
              "       [4.55859970e-01],\n",
              "       [4.92804760e-01],\n",
              "       [5.36737235e-01],\n",
              "       [5.68008856e-01],\n",
              "       [6.20312716e-01],\n",
              "       [6.70956137e-01],\n",
              "       [7.29555832e-01],\n",
              "       [7.58544348e-01],\n",
              "       [8.19634703e-01],\n",
              "       [8.67787464e-01],\n",
              "       [9.12411789e-01],\n",
              "       [1.00000000e+00]])"
            ]
          },
          "metadata": {
            "tags": []
          },
          "execution_count": 221
        }
      ]
    },
    {
      "cell_type": "code",
      "metadata": {
        "id": "F_SWz68JvtkZ",
        "colab_type": "code",
        "outputId": "55019a31-cae6-4387-effe-60d5d0dc2538",
        "colab": {
          "base_uri": "https://localhost:8080/",
          "height": 67
        }
      },
      "source": [
        "train_data3 = scaled_data3[0:training_data_len2, :]\n",
        "x_train3 = []\n",
        "y_train3 = []\n",
        "\n",
        "for i in range(10, len(train_data3)):\n",
        "  x_train3.append(train_data3[i-10:i, 0])\n",
        "  y_train3.append(train_data3[i, 0])\n",
        "  if i<= 10:\n",
        "    print(x_train3)\n",
        "    print(y_train3)\n",
        "    print()"
      ],
      "execution_count": 0,
      "outputs": [
        {
          "output_type": "stream",
          "text": [
            "[array([0., 0., 0., 0., 0., 0., 0., 0., 0., 0.])]\n",
            "[0.0]\n",
            "\n"
          ],
          "name": "stdout"
        }
      ]
    },
    {
      "cell_type": "code",
      "metadata": {
        "id": "FcSANo8_v3AQ",
        "colab_type": "code",
        "colab": {}
      },
      "source": [
        "x_train3, y_train3 = np.array(x_train3), np.array(y_train3)"
      ],
      "execution_count": 0,
      "outputs": []
    },
    {
      "cell_type": "code",
      "metadata": {
        "id": "MwG9vmdwv8WZ",
        "colab_type": "code",
        "outputId": "aca723dd-67d1-4790-b61d-f2a34c27b311",
        "colab": {
          "base_uri": "https://localhost:8080/",
          "height": 34
        }
      },
      "source": [
        "x_train3 = np.reshape(x_train3, (x_train3.shape[0], x_train3.shape[1], 1))\n",
        "x_train3.shape"
      ],
      "execution_count": 0,
      "outputs": [
        {
          "output_type": "execute_result",
          "data": {
            "text/plain": [
              "(64, 10, 1)"
            ]
          },
          "metadata": {
            "tags": []
          },
          "execution_count": 224
        }
      ]
    },
    {
      "cell_type": "code",
      "metadata": {
        "id": "zw0AJyiTwJZ3",
        "colab_type": "code",
        "colab": {}
      },
      "source": [
        "model3 = Sequential()\n",
        "model3.add(LSTM(50, return_sequences=True, input_shape=(x_train2.shape[1], 1)))\n",
        "model3.add(LSTM(50, return_sequences=False))\n",
        "model3.add(Dense(25))\n",
        "model3.add(Dense(1))"
      ],
      "execution_count": 0,
      "outputs": []
    },
    {
      "cell_type": "code",
      "metadata": {
        "id": "EfTCyaTtwQQL",
        "colab_type": "code",
        "colab": {}
      },
      "source": [
        "model3.compile(optimizer='adam', loss='mean_squared_error')\n"
      ],
      "execution_count": 0,
      "outputs": []
    },
    {
      "cell_type": "code",
      "metadata": {
        "id": "t_7YiOvswS8h",
        "colab_type": "code",
        "outputId": "8423cc11-c021-4365-fda0-8df79be041e8",
        "colab": {
          "base_uri": "https://localhost:8080/",
          "height": 1000
        }
      },
      "source": [
        "model3.fit(x_train3, y_train3, batch_size=1, epochs=50)"
      ],
      "execution_count": 0,
      "outputs": [
        {
          "output_type": "stream",
          "text": [
            "Epoch 1/50\n",
            "64/64 [==============================] - 1s 16ms/step - loss: 0.0013\n",
            "Epoch 2/50\n",
            "64/64 [==============================] - 1s 8ms/step - loss: 0.0012\n",
            "Epoch 3/50\n",
            "64/64 [==============================] - 1s 8ms/step - loss: 6.2827e-04\n",
            "Epoch 4/50\n",
            "64/64 [==============================] - 1s 8ms/step - loss: 1.5722e-04\n",
            "Epoch 5/50\n",
            "64/64 [==============================] - 1s 8ms/step - loss: 1.9746e-04\n",
            "Epoch 6/50\n",
            "64/64 [==============================] - 1s 8ms/step - loss: 1.9758e-04\n",
            "Epoch 7/50\n",
            "64/64 [==============================] - 1s 9ms/step - loss: 2.3700e-04\n",
            "Epoch 8/50\n",
            "64/64 [==============================] - 1s 8ms/step - loss: 1.2582e-04\n",
            "Epoch 9/50\n",
            "64/64 [==============================] - 1s 8ms/step - loss: 2.4093e-04\n",
            "Epoch 10/50\n",
            "64/64 [==============================] - 1s 8ms/step - loss: 1.3728e-04\n",
            "Epoch 11/50\n",
            "64/64 [==============================] - 1s 8ms/step - loss: 2.1079e-04\n",
            "Epoch 12/50\n",
            "64/64 [==============================] - 1s 8ms/step - loss: 4.3012e-04\n",
            "Epoch 13/50\n",
            "64/64 [==============================] - 1s 8ms/step - loss: 1.3610e-04\n",
            "Epoch 14/50\n",
            "64/64 [==============================] - 1s 8ms/step - loss: 1.7264e-04\n",
            "Epoch 15/50\n",
            "64/64 [==============================] - 1s 8ms/step - loss: 1.3613e-04\n",
            "Epoch 16/50\n",
            "64/64 [==============================] - 1s 8ms/step - loss: 9.1754e-05\n",
            "Epoch 17/50\n",
            "64/64 [==============================] - 1s 8ms/step - loss: 1.1230e-04\n",
            "Epoch 18/50\n",
            "64/64 [==============================] - 1s 8ms/step - loss: 9.5994e-05\n",
            "Epoch 19/50\n",
            "64/64 [==============================] - 1s 8ms/step - loss: 9.4433e-05\n",
            "Epoch 20/50\n",
            "64/64 [==============================] - 1s 8ms/step - loss: 1.0470e-04\n",
            "Epoch 21/50\n",
            "64/64 [==============================] - 1s 8ms/step - loss: 1.0551e-04\n",
            "Epoch 22/50\n",
            "64/64 [==============================] - 1s 8ms/step - loss: 1.4034e-04\n",
            "Epoch 23/50\n",
            "64/64 [==============================] - 1s 8ms/step - loss: 1.6656e-04\n",
            "Epoch 24/50\n",
            "64/64 [==============================] - 1s 8ms/step - loss: 1.1841e-04\n",
            "Epoch 25/50\n",
            "64/64 [==============================] - 1s 8ms/step - loss: 9.9109e-05\n",
            "Epoch 26/50\n",
            "64/64 [==============================] - 0s 8ms/step - loss: 1.1965e-04\n",
            "Epoch 27/50\n",
            "64/64 [==============================] - 0s 8ms/step - loss: 8.4029e-05\n",
            "Epoch 28/50\n",
            "64/64 [==============================] - 0s 7ms/step - loss: 1.4343e-04\n",
            "Epoch 29/50\n",
            "64/64 [==============================] - 0s 8ms/step - loss: 1.0545e-04\n",
            "Epoch 30/50\n",
            "64/64 [==============================] - 0s 7ms/step - loss: 1.0933e-04\n",
            "Epoch 31/50\n",
            "64/64 [==============================] - 0s 8ms/step - loss: 7.5211e-05\n",
            "Epoch 32/50\n",
            "64/64 [==============================] - 0s 8ms/step - loss: 1.3994e-04\n",
            "Epoch 33/50\n",
            "64/64 [==============================] - 0s 8ms/step - loss: 8.3010e-05\n",
            "Epoch 34/50\n",
            "64/64 [==============================] - 1s 8ms/step - loss: 1.2607e-04\n",
            "Epoch 35/50\n",
            "64/64 [==============================] - 0s 8ms/step - loss: 1.3567e-04\n",
            "Epoch 36/50\n",
            "64/64 [==============================] - 0s 8ms/step - loss: 9.2510e-05\n",
            "Epoch 37/50\n",
            "64/64 [==============================] - 0s 8ms/step - loss: 1.0986e-04\n",
            "Epoch 38/50\n",
            "64/64 [==============================] - 0s 8ms/step - loss: 1.0750e-04\n",
            "Epoch 39/50\n",
            "64/64 [==============================] - 0s 8ms/step - loss: 9.2296e-05\n",
            "Epoch 40/50\n",
            "64/64 [==============================] - 0s 8ms/step - loss: 7.8719e-05\n",
            "Epoch 41/50\n",
            "64/64 [==============================] - 0s 8ms/step - loss: 1.3280e-04\n",
            "Epoch 42/50\n",
            "64/64 [==============================] - 0s 7ms/step - loss: 1.0825e-04\n",
            "Epoch 43/50\n",
            "64/64 [==============================] - 0s 8ms/step - loss: 9.9723e-05\n",
            "Epoch 44/50\n",
            "64/64 [==============================] - 0s 8ms/step - loss: 1.5724e-04\n",
            "Epoch 45/50\n",
            "64/64 [==============================] - 0s 7ms/step - loss: 8.5802e-04\n",
            "Epoch 46/50\n",
            "64/64 [==============================] - 0s 8ms/step - loss: 2.7844e-04\n",
            "Epoch 47/50\n",
            "64/64 [==============================] - 0s 8ms/step - loss: 1.0528e-04\n",
            "Epoch 48/50\n",
            "64/64 [==============================] - 0s 8ms/step - loss: 9.2573e-05\n",
            "Epoch 49/50\n",
            "64/64 [==============================] - 0s 7ms/step - loss: 7.7507e-05\n",
            "Epoch 50/50\n",
            "64/64 [==============================] - 0s 7ms/step - loss: 1.2125e-04\n"
          ],
          "name": "stdout"
        },
        {
          "output_type": "execute_result",
          "data": {
            "text/plain": [
              "<keras.callbacks.callbacks.History at 0x7f6e52431710>"
            ]
          },
          "metadata": {
            "tags": []
          },
          "execution_count": 227
        }
      ]
    },
    {
      "cell_type": "code",
      "metadata": {
        "id": "vPX497rhwaBP",
        "colab_type": "code",
        "colab": {}
      },
      "source": [
        "test_data3 = scaled_data3[training_data_len3-10: , :]\n",
        "x_test3 = []\n",
        "y_test3 = dataset3[training_data_len3:, :]\n",
        "for i in range(10, len(test_data3)):\n",
        "  x_test3.append(test_data2[i-10:i, 0])\n",
        "  "
      ],
      "execution_count": 0,
      "outputs": []
    },
    {
      "cell_type": "code",
      "metadata": {
        "id": "oGMhAOF3wjQJ",
        "colab_type": "code",
        "outputId": "880f4f4c-9338-4e96-f609-3c853678934a",
        "colab": {
          "base_uri": "https://localhost:8080/",
          "height": 34
        }
      },
      "source": [
        "len(test_data3)"
      ],
      "execution_count": 0,
      "outputs": [
        {
          "output_type": "execute_result",
          "data": {
            "text/plain": [
              "28"
            ]
          },
          "metadata": {
            "tags": []
          },
          "execution_count": 229
        }
      ]
    },
    {
      "cell_type": "code",
      "metadata": {
        "id": "RDnL7cn6wgvK",
        "colab_type": "code",
        "colab": {}
      },
      "source": [
        "x_test3 = np.array(x_test3)"
      ],
      "execution_count": 0,
      "outputs": []
    },
    {
      "cell_type": "code",
      "metadata": {
        "id": "gB1EzMc4wk53",
        "colab_type": "code",
        "colab": {}
      },
      "source": [
        "x_test3 = np.reshape(x_test3, (x_test3.shape[0], x_test3.shape[1], 1 ))"
      ],
      "execution_count": 0,
      "outputs": []
    },
    {
      "cell_type": "code",
      "metadata": {
        "id": "dsA-BhYEwmsL",
        "colab_type": "code",
        "colab": {}
      },
      "source": [
        "predictions3 = model.predict(x_test3)\n",
        "predictions3 = scaler.inverse_transform(predictions3)"
      ],
      "execution_count": 0,
      "outputs": []
    },
    {
      "cell_type": "code",
      "metadata": {
        "id": "-TC_NS_Vwpik",
        "colab_type": "code",
        "outputId": "503c3cf6-fbe0-4088-918c-68a9b1c83704",
        "colab": {
          "base_uri": "https://localhost:8080/",
          "height": 34
        }
      },
      "source": [
        "rmse = np.sqrt( np.mean( predictions3 - y_test )**2)\n",
        "rmse"
      ],
      "execution_count": 0,
      "outputs": [
        {
          "output_type": "execute_result",
          "data": {
            "text/plain": [
              "2415.7205268012153"
            ]
          },
          "metadata": {
            "tags": []
          },
          "execution_count": 233
        }
      ]
    },
    {
      "cell_type": "code",
      "metadata": {
        "id": "S8fGZGhJwrO8",
        "colab_type": "code",
        "outputId": "c331f7c3-607c-47c6-c524-a3d1ec1c27f8",
        "colab": {
          "base_uri": "https://localhost:8080/",
          "height": 118
        }
      },
      "source": [
        "train3 = data3[:training_data_len3]\n",
        "valid3 = data3[training_data_len3:]\n",
        "valid3['Predicted Recovered Cases'] = predictions3"
      ],
      "execution_count": 0,
      "outputs": [
        {
          "output_type": "stream",
          "text": [
            "/usr/local/lib/python3.6/dist-packages/ipykernel_launcher.py:3: SettingWithCopyWarning: \n",
            "A value is trying to be set on a copy of a slice from a DataFrame.\n",
            "Try using .loc[row_indexer,col_indexer] = value instead\n",
            "\n",
            "See the caveats in the documentation: https://pandas.pydata.org/pandas-docs/stable/user_guide/indexing.html#returning-a-view-versus-a-copy\n",
            "  This is separate from the ipykernel package so we can avoid doing imports until\n"
          ],
          "name": "stderr"
        }
      ]
    },
    {
      "cell_type": "code",
      "metadata": {
        "id": "XikMz-HIwyXq",
        "colab_type": "code",
        "outputId": "b43d0240-30bf-4b29-c8f2-72312b44c83d",
        "colab": {
          "base_uri": "https://localhost:8080/",
          "height": 610
        }
      },
      "source": [
        "valid3\n"
      ],
      "execution_count": 0,
      "outputs": [
        {
          "output_type": "execute_result",
          "data": {
            "text/html": [
              "<div>\n",
              "<style scoped>\n",
              "    .dataframe tbody tr th:only-of-type {\n",
              "        vertical-align: middle;\n",
              "    }\n",
              "\n",
              "    .dataframe tbody tr th {\n",
              "        vertical-align: top;\n",
              "    }\n",
              "\n",
              "    .dataframe thead th {\n",
              "        text-align: right;\n",
              "    }\n",
              "</style>\n",
              "<table border=\"1\" class=\"dataframe\">\n",
              "  <thead>\n",
              "    <tr style=\"text-align: right;\">\n",
              "      <th></th>\n",
              "      <th>Confirmed Recovered</th>\n",
              "      <th>Predicted Recovered Cases</th>\n",
              "    </tr>\n",
              "    <tr>\n",
              "      <th>Dates</th>\n",
              "      <th></th>\n",
              "      <th></th>\n",
              "    </tr>\n",
              "  </thead>\n",
              "  <tbody>\n",
              "    <tr>\n",
              "      <th>04/05/2020</th>\n",
              "      <td>3012</td>\n",
              "      <td>1825.847656</td>\n",
              "    </tr>\n",
              "    <tr>\n",
              "      <th>04/06/2020</th>\n",
              "      <td>3256</td>\n",
              "      <td>2209.410156</td>\n",
              "    </tr>\n",
              "    <tr>\n",
              "      <th>04/07/2020</th>\n",
              "      <td>3791</td>\n",
              "      <td>2675.459717</td>\n",
              "    </tr>\n",
              "    <tr>\n",
              "      <th>04/08/2020</th>\n",
              "      <td>4154</td>\n",
              "      <td>3089.758057</td>\n",
              "    </tr>\n",
              "    <tr>\n",
              "      <th>04/09/2020</th>\n",
              "      <td>5162</td>\n",
              "      <td>3410.851807</td>\n",
              "    </tr>\n",
              "    <tr>\n",
              "      <th>04/10/2020</th>\n",
              "      <td>5855</td>\n",
              "      <td>3833.606934</td>\n",
              "    </tr>\n",
              "    <tr>\n",
              "      <th>04/11/2020</th>\n",
              "      <td>6589</td>\n",
              "      <td>4291.389160</td>\n",
              "    </tr>\n",
              "    <tr>\n",
              "      <th>04/12/2020</th>\n",
              "      <td>7123</td>\n",
              "      <td>4789.488770</td>\n",
              "    </tr>\n",
              "    <tr>\n",
              "      <th>04/13/2020</th>\n",
              "      <td>7758</td>\n",
              "      <td>5275.030762</td>\n",
              "    </tr>\n",
              "    <tr>\n",
              "      <th>04/14/2020</th>\n",
              "      <td>8210</td>\n",
              "      <td>5721.691895</td>\n",
              "    </tr>\n",
              "    <tr>\n",
              "      <th>04/15/2020</th>\n",
              "      <td>8966</td>\n",
              "      <td>6216.878418</td>\n",
              "    </tr>\n",
              "    <tr>\n",
              "      <th>04/16/2020</th>\n",
              "      <td>9698</td>\n",
              "      <td>6794.843750</td>\n",
              "    </tr>\n",
              "    <tr>\n",
              "      <th>04/17/2020</th>\n",
              "      <td>10545</td>\n",
              "      <td>7609.700195</td>\n",
              "    </tr>\n",
              "    <tr>\n",
              "      <th>04/18/2020</th>\n",
              "      <td>10964</td>\n",
              "      <td>8402.868164</td>\n",
              "    </tr>\n",
              "    <tr>\n",
              "      <th>04/19/2020</th>\n",
              "      <td>11847</td>\n",
              "      <td>9131.064453</td>\n",
              "    </tr>\n",
              "    <tr>\n",
              "      <th>04/20/2020</th>\n",
              "      <td>12543</td>\n",
              "      <td>9744.242188</td>\n",
              "    </tr>\n",
              "    <tr>\n",
              "      <th>04/21/2020</th>\n",
              "      <td>13188</td>\n",
              "      <td>10279.803711</td>\n",
              "    </tr>\n",
              "    <tr>\n",
              "      <th>04/22/2020</th>\n",
              "      <td>14454</td>\n",
              "      <td>10847.094727</td>\n",
              "    </tr>\n",
              "  </tbody>\n",
              "</table>\n",
              "</div>"
            ],
            "text/plain": [
              "            Confirmed Recovered  Predicted Recovered Cases\n",
              "Dates                                                     \n",
              "04/05/2020                 3012                1825.847656\n",
              "04/06/2020                 3256                2209.410156\n",
              "04/07/2020                 3791                2675.459717\n",
              "04/08/2020                 4154                3089.758057\n",
              "04/09/2020                 5162                3410.851807\n",
              "04/10/2020                 5855                3833.606934\n",
              "04/11/2020                 6589                4291.389160\n",
              "04/12/2020                 7123                4789.488770\n",
              "04/13/2020                 7758                5275.030762\n",
              "04/14/2020                 8210                5721.691895\n",
              "04/15/2020                 8966                6216.878418\n",
              "04/16/2020                 9698                6794.843750\n",
              "04/17/2020                10545                7609.700195\n",
              "04/18/2020                10964                8402.868164\n",
              "04/19/2020                11847                9131.064453\n",
              "04/20/2020                12543                9744.242188\n",
              "04/21/2020                13188               10279.803711\n",
              "04/22/2020                14454               10847.094727"
            ]
          },
          "metadata": {
            "tags": []
          },
          "execution_count": 235
        }
      ]
    },
    {
      "cell_type": "code",
      "metadata": {
        "id": "h79Ah8rqxYF6",
        "colab_type": "code",
        "outputId": "d40052f0-21cb-4b82-975a-07aa0fbcf311",
        "colab": {
          "base_uri": "https://localhost:8080/",
          "height": 610
        }
      },
      "source": [
        "valid_final = valid.join(valid2.join(valid3))\n",
        "valid_final"
      ],
      "execution_count": 0,
      "outputs": [
        {
          "output_type": "execute_result",
          "data": {
            "text/html": [
              "<div>\n",
              "<style scoped>\n",
              "    .dataframe tbody tr th:only-of-type {\n",
              "        vertical-align: middle;\n",
              "    }\n",
              "\n",
              "    .dataframe tbody tr th {\n",
              "        vertical-align: top;\n",
              "    }\n",
              "\n",
              "    .dataframe thead th {\n",
              "        text-align: right;\n",
              "    }\n",
              "</style>\n",
              "<table border=\"1\" class=\"dataframe\">\n",
              "  <thead>\n",
              "    <tr style=\"text-align: right;\">\n",
              "      <th></th>\n",
              "      <th>Confirmed Cases</th>\n",
              "      <th>Predicted Cases</th>\n",
              "      <th>Confirmed deaths</th>\n",
              "      <th>Predicted Deaths</th>\n",
              "      <th>Confirmed Recovered</th>\n",
              "      <th>Predicted Recovered Cases</th>\n",
              "    </tr>\n",
              "    <tr>\n",
              "      <th>Dates</th>\n",
              "      <th></th>\n",
              "      <th></th>\n",
              "      <th></th>\n",
              "      <th></th>\n",
              "      <th></th>\n",
              "      <th></th>\n",
              "    </tr>\n",
              "  </thead>\n",
              "  <tbody>\n",
              "    <tr>\n",
              "      <th>04/05/2020</th>\n",
              "      <td>4354</td>\n",
              "      <td>3737.447510</td>\n",
              "      <td>119</td>\n",
              "      <td>96.256805</td>\n",
              "      <td>3012</td>\n",
              "      <td>1825.847656</td>\n",
              "    </tr>\n",
              "    <tr>\n",
              "      <th>04/06/2020</th>\n",
              "      <td>4347</td>\n",
              "      <td>4228.718262</td>\n",
              "      <td>150</td>\n",
              "      <td>116.477837</td>\n",
              "      <td>3256</td>\n",
              "      <td>2209.410156</td>\n",
              "    </tr>\n",
              "    <tr>\n",
              "      <th>04/07/2020</th>\n",
              "      <td>4726</td>\n",
              "      <td>4639.860352</td>\n",
              "      <td>153</td>\n",
              "      <td>141.047485</td>\n",
              "      <td>3791</td>\n",
              "      <td>2675.459717</td>\n",
              "    </tr>\n",
              "    <tr>\n",
              "      <th>04/08/2020</th>\n",
              "      <td>5276</td>\n",
              "      <td>5023.996582</td>\n",
              "      <td>153</td>\n",
              "      <td>162.888855</td>\n",
              "      <td>4154</td>\n",
              "      <td>3089.758057</td>\n",
              "    </tr>\n",
              "    <tr>\n",
              "      <th>04/09/2020</th>\n",
              "      <td>5759</td>\n",
              "      <td>5429.905762</td>\n",
              "      <td>200</td>\n",
              "      <td>179.816589</td>\n",
              "      <td>5162</td>\n",
              "      <td>3410.851807</td>\n",
              "    </tr>\n",
              "    <tr>\n",
              "      <th>04/10/2020</th>\n",
              "      <td>6237</td>\n",
              "      <td>5848.283203</td>\n",
              "      <td>222</td>\n",
              "      <td>202.103806</td>\n",
              "      <td>5855</td>\n",
              "      <td>3833.606934</td>\n",
              "    </tr>\n",
              "    <tr>\n",
              "      <th>04/11/2020</th>\n",
              "      <td>6648</td>\n",
              "      <td>6272.424805</td>\n",
              "      <td>253</td>\n",
              "      <td>226.237625</td>\n",
              "      <td>6589</td>\n",
              "      <td>4291.389160</td>\n",
              "    </tr>\n",
              "    <tr>\n",
              "      <th>04/12/2020</th>\n",
              "      <td>7049</td>\n",
              "      <td>6681.266602</td>\n",
              "      <td>274</td>\n",
              "      <td>252.496918</td>\n",
              "      <td>7123</td>\n",
              "      <td>4789.488770</td>\n",
              "    </tr>\n",
              "    <tr>\n",
              "      <th>04/13/2020</th>\n",
              "      <td>7470</td>\n",
              "      <td>7069.719238</td>\n",
              "      <td>291</td>\n",
              "      <td>278.094208</td>\n",
              "      <td>7758</td>\n",
              "      <td>5275.030762</td>\n",
              "    </tr>\n",
              "    <tr>\n",
              "      <th>04/14/2020</th>\n",
              "      <td>7953</td>\n",
              "      <td>7440.861328</td>\n",
              "      <td>334</td>\n",
              "      <td>301.641693</td>\n",
              "      <td>8210</td>\n",
              "      <td>5721.691895</td>\n",
              "    </tr>\n",
              "    <tr>\n",
              "      <th>04/15/2020</th>\n",
              "      <td>8447</td>\n",
              "      <td>7808.288574</td>\n",
              "      <td>385</td>\n",
              "      <td>327.747437</td>\n",
              "      <td>8966</td>\n",
              "      <td>6216.878418</td>\n",
              "    </tr>\n",
              "    <tr>\n",
              "      <th>04/16/2020</th>\n",
              "      <td>9840</td>\n",
              "      <td>8170.260254</td>\n",
              "      <td>490</td>\n",
              "      <td>358.217163</td>\n",
              "      <td>9698</td>\n",
              "      <td>6794.843750</td>\n",
              "    </tr>\n",
              "    <tr>\n",
              "      <th>04/17/2020</th>\n",
              "      <td>10456</td>\n",
              "      <td>8671.899414</td>\n",
              "      <td>524</td>\n",
              "      <td>401.175537</td>\n",
              "      <td>10545</td>\n",
              "      <td>7609.700195</td>\n",
              "    </tr>\n",
              "    <tr>\n",
              "      <th>04/18/2020</th>\n",
              "      <td>11013</td>\n",
              "      <td>9180.130859</td>\n",
              "      <td>564</td>\n",
              "      <td>442.990540</td>\n",
              "      <td>10964</td>\n",
              "      <td>8402.868164</td>\n",
              "    </tr>\n",
              "    <tr>\n",
              "      <th>04/19/2020</th>\n",
              "      <td>11561</td>\n",
              "      <td>9651.899414</td>\n",
              "      <td>591</td>\n",
              "      <td>481.380310</td>\n",
              "      <td>11847</td>\n",
              "      <td>9131.064453</td>\n",
              "    </tr>\n",
              "    <tr>\n",
              "      <th>04/20/2020</th>\n",
              "      <td>12063</td>\n",
              "      <td>10080.842773</td>\n",
              "      <td>624</td>\n",
              "      <td>513.706421</td>\n",
              "      <td>12543</td>\n",
              "      <td>9744.242188</td>\n",
              "    </tr>\n",
              "    <tr>\n",
              "      <th>04/21/2020</th>\n",
              "      <td>12715</td>\n",
              "      <td>10465.938477</td>\n",
              "      <td>694</td>\n",
              "      <td>541.940674</td>\n",
              "      <td>13188</td>\n",
              "      <td>10279.803711</td>\n",
              "    </tr>\n",
              "    <tr>\n",
              "      <th>04/22/2020</th>\n",
              "      <td>13718</td>\n",
              "      <td>10833.583984</td>\n",
              "      <td>762</td>\n",
              "      <td>571.847656</td>\n",
              "      <td>14454</td>\n",
              "      <td>10847.094727</td>\n",
              "    </tr>\n",
              "  </tbody>\n",
              "</table>\n",
              "</div>"
            ],
            "text/plain": [
              "            Confirmed Cases  ...  Predicted Recovered Cases\n",
              "Dates                        ...                           \n",
              "04/05/2020             4354  ...                1825.847656\n",
              "04/06/2020             4347  ...                2209.410156\n",
              "04/07/2020             4726  ...                2675.459717\n",
              "04/08/2020             5276  ...                3089.758057\n",
              "04/09/2020             5759  ...                3410.851807\n",
              "04/10/2020             6237  ...                3833.606934\n",
              "04/11/2020             6648  ...                4291.389160\n",
              "04/12/2020             7049  ...                4789.488770\n",
              "04/13/2020             7470  ...                5275.030762\n",
              "04/14/2020             7953  ...                5721.691895\n",
              "04/15/2020             8447  ...                6216.878418\n",
              "04/16/2020             9840  ...                6794.843750\n",
              "04/17/2020            10456  ...                7609.700195\n",
              "04/18/2020            11013  ...                8402.868164\n",
              "04/19/2020            11561  ...                9131.064453\n",
              "04/20/2020            12063  ...                9744.242188\n",
              "04/21/2020            12715  ...               10279.803711\n",
              "04/22/2020            13718  ...               10847.094727\n",
              "\n",
              "[18 rows x 6 columns]"
            ]
          },
          "metadata": {
            "tags": []
          },
          "execution_count": 236
        }
      ]
    },
    {
      "cell_type": "code",
      "metadata": {
        "id": "IYryGtHwygQw",
        "colab_type": "code",
        "outputId": "d8b52427-ed3d-42d7-c622-116493e5c1a1",
        "colab": {
          "base_uri": "https://localhost:8080/",
          "height": 321
        }
      },
      "source": [
        "valid_final.plot()"
      ],
      "execution_count": 0,
      "outputs": [
        {
          "output_type": "execute_result",
          "data": {
            "text/plain": [
              "<matplotlib.axes._subplots.AxesSubplot at 0x7f6e52e78f28>"
            ]
          },
          "metadata": {
            "tags": []
          },
          "execution_count": 239
        },
        {
          "output_type": "display_data",
          "data": {
            "image/png": "[encoded data removed]",
            "text/plain": [
              "<Figure size 432x288 with 1 Axes>"
            ]
          },
          "metadata": {
            "tags": []
          }
        }
      ]
    },
    {
      "cell_type": "code",
      "metadata": {
        "id": "8gh57seZzS38",
        "colab_type": "code",
        "outputId": "ab95c872-e3c5-44c8-eb73-83a8c84c463c",
        "colab": {
          "base_uri": "https://localhost:8080/",
          "height": 34
        }
      },
      "source": [
        "score = r2_score(valid_final['Confirmed Cases'], valid_final['Predicted Cases'])\n",
        "score"
      ],
      "execution_count": 0,
      "outputs": [
        {
          "output_type": "execute_result",
          "data": {
            "text/plain": [
              "0.7954187534637067"
            ]
          },
          "metadata": {
            "tags": []
          },
          "execution_count": 240
        }
      ]
    },
    {
      "cell_type": "code",
      "metadata": {
        "id": "gZwoa2qLzmo5",
        "colab_type": "code",
        "outputId": "83c4af68-ef1c-469b-b81b-e71ed9f800bc",
        "colab": {
          "base_uri": "https://localhost:8080/",
          "height": 34
        }
      },
      "source": [
        "score1 = r2_score(valid_final['Confirmed deaths'], valid_final['Predicted Deaths'])\n",
        "score1"
      ],
      "execution_count": 0,
      "outputs": [
        {
          "output_type": "execute_result",
          "data": {
            "text/plain": [
              "0.8107360175999616"
            ]
          },
          "metadata": {
            "tags": []
          },
          "execution_count": 242
        }
      ]
    },
    {
      "cell_type": "code",
      "metadata": {
        "id": "kN7yOIymzv1s",
        "colab_type": "code",
        "outputId": "223195cc-5442-4eb6-b019-fd9a406bb4a6",
        "colab": {
          "base_uri": "https://localhost:8080/",
          "height": 34
        }
      },
      "source": [
        "score3 = r2_score(valid_final['Confirmed Recovered'], valid_final['Predicted Recovered Cases'])\n",
        "score3"
      ],
      "execution_count": 0,
      "outputs": [
        {
          "output_type": "execute_result",
          "data": {
            "text/plain": [
              "0.5276571307793475"
            ]
          },
          "metadata": {
            "tags": []
          },
          "execution_count": 243
        }
      ]
    },
    {
      "cell_type": "code",
      "metadata": {
        "id": "-rlKA3Pjz4Ch",
        "colab_type": "code",
        "outputId": "f82428bc-a14d-40ea-e960-9442134fc5bc",
        "colab": {
          "base_uri": "https://localhost:8080/",
          "height": 34
        }
      },
      "source": [
        "\n",
        "Average = (score + score1 + score3) / 3\n",
        "Average"
      ],
      "execution_count": 0,
      "outputs": [
        {
          "output_type": "execute_result",
          "data": {
            "text/plain": [
              "0.711270633947672"
            ]
          },
          "metadata": {
            "tags": []
          },
          "execution_count": 246
        }
      ]
    },
    {
      "cell_type": "code",
      "metadata": {
        "id": "V-EqfHQf0aFd",
        "colab_type": "code",
        "colab": {}
      },
      "source": [
        ""
      ],
      "execution_count": 0,
      "outputs": []
    }
  ]
}