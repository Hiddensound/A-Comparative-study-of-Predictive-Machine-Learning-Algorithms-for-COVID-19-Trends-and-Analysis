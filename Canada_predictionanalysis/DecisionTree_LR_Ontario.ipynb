{
  "nbformat": 4,
  "nbformat_minor": 0,
  "metadata": {
    "colab": {
      "name": "DecisionTree_LR_Ontario.ipynb",
      "provenance": [],
      "collapsed_sections": []
    },
    "kernelspec": {
      "name": "python3",
      "display_name": "Python 3"
    }
  },
  "cells": [
    {
      "cell_type": "code",
      "metadata": {
        "id": "UEA638fDLeL-",
        "colab_type": "code",
        "colab": {}
      },
      "source": [
        "import numpy as np\n",
        "import pandas as pd\n",
        "from sklearn.tree import DecisionTreeRegressor\n",
        "from sklearn.linear_model import LinearRegression\n",
        "from sklearn.model_selection import train_test_split\n",
        "import matplotlib.pyplot as plt\n",
        "plt.style.use('bmh')\n"
      ],
      "execution_count": 0,
      "outputs": []
    },
    {
      "cell_type": "code",
      "metadata": {
        "id": "u2nFM8H_N1Zc",
        "colab_type": "code",
        "outputId": "53cb8188-6fd5-4840-a10a-93e5a3e41b79",
        "colab": {
          "base_uri": "https://localhost:8080/",
          "height": 669
        }
      },
      "source": [
        "df = pd.read_csv('/content/drive/My Drive/COVID-19/COVID-19_Data/Ontario_Confirmed_Cases (1).csv', index_col = 'Dates')\n",
        "df = df.rename(columns={\"Confirmed deaths\": \"Confirmed Deaths\"})\n",
        "df.tail(19)"
      ],
      "execution_count": 0,
      "outputs": [
        {
          "output_type": "execute_result",
          "data": {
            "text/html": [
              "<div>\n",
              "<style scoped>\n",
              "    .dataframe tbody tr th:only-of-type {\n",
              "        vertical-align: middle;\n",
              "    }\n",
              "\n",
              "    .dataframe tbody tr th {\n",
              "        vertical-align: top;\n",
              "    }\n",
              "\n",
              "    .dataframe thead th {\n",
              "        text-align: right;\n",
              "    }\n",
              "</style>\n",
              "<table border=\"1\" class=\"dataframe\">\n",
              "  <thead>\n",
              "    <tr style=\"text-align: right;\">\n",
              "      <th></th>\n",
              "      <th>Confirmed Cases</th>\n",
              "      <th>Confirmed Deaths</th>\n",
              "      <th>Confirmed Recovered</th>\n",
              "    </tr>\n",
              "    <tr>\n",
              "      <th>Dates</th>\n",
              "      <th></th>\n",
              "      <th></th>\n",
              "      <th></th>\n",
              "    </tr>\n",
              "  </thead>\n",
              "  <tbody>\n",
              "    <tr>\n",
              "      <th>04/04/2020</th>\n",
              "      <td>3630</td>\n",
              "      <td>94</td>\n",
              "      <td>2577</td>\n",
              "    </tr>\n",
              "    <tr>\n",
              "      <th>04/05/2020</th>\n",
              "      <td>4354</td>\n",
              "      <td>119</td>\n",
              "      <td>3012</td>\n",
              "    </tr>\n",
              "    <tr>\n",
              "      <th>04/06/2020</th>\n",
              "      <td>4347</td>\n",
              "      <td>150</td>\n",
              "      <td>3256</td>\n",
              "    </tr>\n",
              "    <tr>\n",
              "      <th>04/07/2020</th>\n",
              "      <td>4726</td>\n",
              "      <td>153</td>\n",
              "      <td>3791</td>\n",
              "    </tr>\n",
              "    <tr>\n",
              "      <th>04/08/2020</th>\n",
              "      <td>5276</td>\n",
              "      <td>153</td>\n",
              "      <td>4154</td>\n",
              "    </tr>\n",
              "    <tr>\n",
              "      <th>04/09/2020</th>\n",
              "      <td>5759</td>\n",
              "      <td>200</td>\n",
              "      <td>5162</td>\n",
              "    </tr>\n",
              "    <tr>\n",
              "      <th>04/10/2020</th>\n",
              "      <td>6237</td>\n",
              "      <td>222</td>\n",
              "      <td>5855</td>\n",
              "    </tr>\n",
              "    <tr>\n",
              "      <th>04/11/2020</th>\n",
              "      <td>6648</td>\n",
              "      <td>253</td>\n",
              "      <td>6589</td>\n",
              "    </tr>\n",
              "    <tr>\n",
              "      <th>04/12/2020</th>\n",
              "      <td>7049</td>\n",
              "      <td>274</td>\n",
              "      <td>7123</td>\n",
              "    </tr>\n",
              "    <tr>\n",
              "      <th>04/13/2020</th>\n",
              "      <td>7470</td>\n",
              "      <td>291</td>\n",
              "      <td>7758</td>\n",
              "    </tr>\n",
              "    <tr>\n",
              "      <th>04/14/2020</th>\n",
              "      <td>7953</td>\n",
              "      <td>334</td>\n",
              "      <td>8210</td>\n",
              "    </tr>\n",
              "    <tr>\n",
              "      <th>04/15/2020</th>\n",
              "      <td>8447</td>\n",
              "      <td>385</td>\n",
              "      <td>8966</td>\n",
              "    </tr>\n",
              "    <tr>\n",
              "      <th>04/16/2020</th>\n",
              "      <td>9840</td>\n",
              "      <td>490</td>\n",
              "      <td>9698</td>\n",
              "    </tr>\n",
              "    <tr>\n",
              "      <th>04/17/2020</th>\n",
              "      <td>10456</td>\n",
              "      <td>524</td>\n",
              "      <td>10545</td>\n",
              "    </tr>\n",
              "    <tr>\n",
              "      <th>04/18/2020</th>\n",
              "      <td>11013</td>\n",
              "      <td>564</td>\n",
              "      <td>10964</td>\n",
              "    </tr>\n",
              "    <tr>\n",
              "      <th>04/19/2020</th>\n",
              "      <td>11561</td>\n",
              "      <td>591</td>\n",
              "      <td>11847</td>\n",
              "    </tr>\n",
              "    <tr>\n",
              "      <th>04/20/2020</th>\n",
              "      <td>12063</td>\n",
              "      <td>624</td>\n",
              "      <td>12543</td>\n",
              "    </tr>\n",
              "    <tr>\n",
              "      <th>04/21/2020</th>\n",
              "      <td>12715</td>\n",
              "      <td>694</td>\n",
              "      <td>13188</td>\n",
              "    </tr>\n",
              "    <tr>\n",
              "      <th>04/22/2020</th>\n",
              "      <td>13718</td>\n",
              "      <td>762</td>\n",
              "      <td>14454</td>\n",
              "    </tr>\n",
              "  </tbody>\n",
              "</table>\n",
              "</div>"
            ],
            "text/plain": [
              "            Confirmed Cases  Confirmed Deaths  Confirmed Recovered\n",
              "Dates                                                             \n",
              "04/04/2020             3630                94                 2577\n",
              "04/05/2020             4354               119                 3012\n",
              "04/06/2020             4347               150                 3256\n",
              "04/07/2020             4726               153                 3791\n",
              "04/08/2020             5276               153                 4154\n",
              "04/09/2020             5759               200                 5162\n",
              "04/10/2020             6237               222                 5855\n",
              "04/11/2020             6648               253                 6589\n",
              "04/12/2020             7049               274                 7123\n",
              "04/13/2020             7470               291                 7758\n",
              "04/14/2020             7953               334                 8210\n",
              "04/15/2020             8447               385                 8966\n",
              "04/16/2020             9840               490                 9698\n",
              "04/17/2020            10456               524                10545\n",
              "04/18/2020            11013               564                10964\n",
              "04/19/2020            11561               591                11847\n",
              "04/20/2020            12063               624                12543\n",
              "04/21/2020            12715               694                13188\n",
              "04/22/2020            13718               762                14454"
            ]
          },
          "metadata": {
            "tags": []
          },
          "execution_count": 42
        }
      ]
    },
    {
      "cell_type": "code",
      "metadata": {
        "id": "ck56jx2eOIyX",
        "colab_type": "code",
        "outputId": "bdd279a1-47fc-4b48-fc03-d0587fcdb8d0",
        "colab": {
          "base_uri": "https://localhost:8080/",
          "height": 513
        }
      },
      "source": [
        "plt.figure(figsize=(16,8))\n",
        "plt.title('Confirmed Cases in India')\n",
        "plt.xlabel('Dates')\n",
        "plt.ylabel('Confirmed Cases')\n",
        "plt.plot(df['Confirmed Cases'])\n",
        "plt.show()"
      ],
      "execution_count": 0,
      "outputs": [
        {
          "output_type": "display_data",
          "data": {
            "image/png": "[encoded data removed]",
            "text/plain": [
              "<Figure size 1152x576 with 1 Axes>"
            ]
          },
          "metadata": {
            "tags": [],
            "needs_background": "light"
          }
        }
      ]
    },
    {
      "cell_type": "code",
      "metadata": {
        "id": "poXjJWvLOluh",
        "colab_type": "code",
        "outputId": "1e400072-74ca-4dd2-db5d-1e77b5f433ff",
        "colab": {
          "base_uri": "https://localhost:8080/",
          "height": 204
        }
      },
      "source": [
        "df = df[['Confirmed Cases']]\n",
        "df.head(4)"
      ],
      "execution_count": 0,
      "outputs": [
        {
          "output_type": "execute_result",
          "data": {
            "text/html": [
              "<div>\n",
              "<style scoped>\n",
              "    .dataframe tbody tr th:only-of-type {\n",
              "        vertical-align: middle;\n",
              "    }\n",
              "\n",
              "    .dataframe tbody tr th {\n",
              "        vertical-align: top;\n",
              "    }\n",
              "\n",
              "    .dataframe thead th {\n",
              "        text-align: right;\n",
              "    }\n",
              "</style>\n",
              "<table border=\"1\" class=\"dataframe\">\n",
              "  <thead>\n",
              "    <tr style=\"text-align: right;\">\n",
              "      <th></th>\n",
              "      <th>Confirmed Cases</th>\n",
              "    </tr>\n",
              "    <tr>\n",
              "      <th>Dates</th>\n",
              "      <th></th>\n",
              "    </tr>\n",
              "  </thead>\n",
              "  <tbody>\n",
              "    <tr>\n",
              "      <th>01/22/2020</th>\n",
              "      <td>0</td>\n",
              "    </tr>\n",
              "    <tr>\n",
              "      <th>01/23/2020</th>\n",
              "      <td>0</td>\n",
              "    </tr>\n",
              "    <tr>\n",
              "      <th>01/24/2020</th>\n",
              "      <td>0</td>\n",
              "    </tr>\n",
              "    <tr>\n",
              "      <th>01/25/2020</th>\n",
              "      <td>0</td>\n",
              "    </tr>\n",
              "  </tbody>\n",
              "</table>\n",
              "</div>"
            ],
            "text/plain": [
              "            Confirmed Cases\n",
              "Dates                      \n",
              "01/22/2020                0\n",
              "01/23/2020                0\n",
              "01/24/2020                0\n",
              "01/25/2020                0"
            ]
          },
          "metadata": {
            "tags": []
          },
          "execution_count": 44
        }
      ]
    },
    {
      "cell_type": "code",
      "metadata": {
        "id": "Dw7vnK4MO6-Z",
        "colab_type": "code",
        "outputId": "9389b6e5-109c-486b-da88-aae0fcabdafd",
        "colab": {
          "base_uri": "https://localhost:8080/",
          "height": 204
        }
      },
      "source": [
        "future_days = 25\n",
        "df['Predicted Cases'] = df[['Confirmed Cases']].shift(-future_days)\n",
        "df.head(4)"
      ],
      "execution_count": 0,
      "outputs": [
        {
          "output_type": "execute_result",
          "data": {
            "text/html": [
              "<div>\n",
              "<style scoped>\n",
              "    .dataframe tbody tr th:only-of-type {\n",
              "        vertical-align: middle;\n",
              "    }\n",
              "\n",
              "    .dataframe tbody tr th {\n",
              "        vertical-align: top;\n",
              "    }\n",
              "\n",
              "    .dataframe thead th {\n",
              "        text-align: right;\n",
              "    }\n",
              "</style>\n",
              "<table border=\"1\" class=\"dataframe\">\n",
              "  <thead>\n",
              "    <tr style=\"text-align: right;\">\n",
              "      <th></th>\n",
              "      <th>Confirmed Cases</th>\n",
              "      <th>Predicted Cases</th>\n",
              "    </tr>\n",
              "    <tr>\n",
              "      <th>Dates</th>\n",
              "      <th></th>\n",
              "      <th></th>\n",
              "    </tr>\n",
              "  </thead>\n",
              "  <tbody>\n",
              "    <tr>\n",
              "      <th>01/22/2020</th>\n",
              "      <td>0</td>\n",
              "      <td>3.0</td>\n",
              "    </tr>\n",
              "    <tr>\n",
              "      <th>01/23/2020</th>\n",
              "      <td>0</td>\n",
              "      <td>3.0</td>\n",
              "    </tr>\n",
              "    <tr>\n",
              "      <th>01/24/2020</th>\n",
              "      <td>0</td>\n",
              "      <td>3.0</td>\n",
              "    </tr>\n",
              "    <tr>\n",
              "      <th>01/25/2020</th>\n",
              "      <td>0</td>\n",
              "      <td>3.0</td>\n",
              "    </tr>\n",
              "  </tbody>\n",
              "</table>\n",
              "</div>"
            ],
            "text/plain": [
              "            Confirmed Cases  Predicted Cases\n",
              "Dates                                       \n",
              "01/22/2020                0              3.0\n",
              "01/23/2020                0              3.0\n",
              "01/24/2020                0              3.0\n",
              "01/25/2020                0              3.0"
            ]
          },
          "metadata": {
            "tags": []
          },
          "execution_count": 45
        }
      ]
    },
    {
      "cell_type": "code",
      "metadata": {
        "id": "Lq_4p2TdPaQh",
        "colab_type": "code",
        "outputId": "a9a911cf-1b73-49b4-94c1-16469b79e0e6",
        "colab": {
          "base_uri": "https://localhost:8080/",
          "height": 700
        }
      },
      "source": [
        "df.tail(20)"
      ],
      "execution_count": 0,
      "outputs": [
        {
          "output_type": "execute_result",
          "data": {
            "text/html": [
              "<div>\n",
              "<style scoped>\n",
              "    .dataframe tbody tr th:only-of-type {\n",
              "        vertical-align: middle;\n",
              "    }\n",
              "\n",
              "    .dataframe tbody tr th {\n",
              "        vertical-align: top;\n",
              "    }\n",
              "\n",
              "    .dataframe thead th {\n",
              "        text-align: right;\n",
              "    }\n",
              "</style>\n",
              "<table border=\"1\" class=\"dataframe\">\n",
              "  <thead>\n",
              "    <tr style=\"text-align: right;\">\n",
              "      <th></th>\n",
              "      <th>Confirmed Cases</th>\n",
              "      <th>Predicted Cases</th>\n",
              "    </tr>\n",
              "    <tr>\n",
              "      <th>Dates</th>\n",
              "      <th></th>\n",
              "      <th></th>\n",
              "    </tr>\n",
              "  </thead>\n",
              "  <tbody>\n",
              "    <tr>\n",
              "      <th>04/03/2020</th>\n",
              "      <td>3255</td>\n",
              "      <td>NaN</td>\n",
              "    </tr>\n",
              "    <tr>\n",
              "      <th>04/04/2020</th>\n",
              "      <td>3630</td>\n",
              "      <td>NaN</td>\n",
              "    </tr>\n",
              "    <tr>\n",
              "      <th>04/05/2020</th>\n",
              "      <td>4354</td>\n",
              "      <td>NaN</td>\n",
              "    </tr>\n",
              "    <tr>\n",
              "      <th>04/06/2020</th>\n",
              "      <td>4347</td>\n",
              "      <td>NaN</td>\n",
              "    </tr>\n",
              "    <tr>\n",
              "      <th>04/07/2020</th>\n",
              "      <td>4726</td>\n",
              "      <td>NaN</td>\n",
              "    </tr>\n",
              "    <tr>\n",
              "      <th>04/08/2020</th>\n",
              "      <td>5276</td>\n",
              "      <td>NaN</td>\n",
              "    </tr>\n",
              "    <tr>\n",
              "      <th>04/09/2020</th>\n",
              "      <td>5759</td>\n",
              "      <td>NaN</td>\n",
              "    </tr>\n",
              "    <tr>\n",
              "      <th>04/10/2020</th>\n",
              "      <td>6237</td>\n",
              "      <td>NaN</td>\n",
              "    </tr>\n",
              "    <tr>\n",
              "      <th>04/11/2020</th>\n",
              "      <td>6648</td>\n",
              "      <td>NaN</td>\n",
              "    </tr>\n",
              "    <tr>\n",
              "      <th>04/12/2020</th>\n",
              "      <td>7049</td>\n",
              "      <td>NaN</td>\n",
              "    </tr>\n",
              "    <tr>\n",
              "      <th>04/13/2020</th>\n",
              "      <td>7470</td>\n",
              "      <td>NaN</td>\n",
              "    </tr>\n",
              "    <tr>\n",
              "      <th>04/14/2020</th>\n",
              "      <td>7953</td>\n",
              "      <td>NaN</td>\n",
              "    </tr>\n",
              "    <tr>\n",
              "      <th>04/15/2020</th>\n",
              "      <td>8447</td>\n",
              "      <td>NaN</td>\n",
              "    </tr>\n",
              "    <tr>\n",
              "      <th>04/16/2020</th>\n",
              "      <td>9840</td>\n",
              "      <td>NaN</td>\n",
              "    </tr>\n",
              "    <tr>\n",
              "      <th>04/17/2020</th>\n",
              "      <td>10456</td>\n",
              "      <td>NaN</td>\n",
              "    </tr>\n",
              "    <tr>\n",
              "      <th>04/18/2020</th>\n",
              "      <td>11013</td>\n",
              "      <td>NaN</td>\n",
              "    </tr>\n",
              "    <tr>\n",
              "      <th>04/19/2020</th>\n",
              "      <td>11561</td>\n",
              "      <td>NaN</td>\n",
              "    </tr>\n",
              "    <tr>\n",
              "      <th>04/20/2020</th>\n",
              "      <td>12063</td>\n",
              "      <td>NaN</td>\n",
              "    </tr>\n",
              "    <tr>\n",
              "      <th>04/21/2020</th>\n",
              "      <td>12715</td>\n",
              "      <td>NaN</td>\n",
              "    </tr>\n",
              "    <tr>\n",
              "      <th>04/22/2020</th>\n",
              "      <td>13718</td>\n",
              "      <td>NaN</td>\n",
              "    </tr>\n",
              "  </tbody>\n",
              "</table>\n",
              "</div>"
            ],
            "text/plain": [
              "            Confirmed Cases  Predicted Cases\n",
              "Dates                                       \n",
              "04/03/2020             3255              NaN\n",
              "04/04/2020             3630              NaN\n",
              "04/05/2020             4354              NaN\n",
              "04/06/2020             4347              NaN\n",
              "04/07/2020             4726              NaN\n",
              "04/08/2020             5276              NaN\n",
              "04/09/2020             5759              NaN\n",
              "04/10/2020             6237              NaN\n",
              "04/11/2020             6648              NaN\n",
              "04/12/2020             7049              NaN\n",
              "04/13/2020             7470              NaN\n",
              "04/14/2020             7953              NaN\n",
              "04/15/2020             8447              NaN\n",
              "04/16/2020             9840              NaN\n",
              "04/17/2020            10456              NaN\n",
              "04/18/2020            11013              NaN\n",
              "04/19/2020            11561              NaN\n",
              "04/20/2020            12063              NaN\n",
              "04/21/2020            12715              NaN\n",
              "04/22/2020            13718              NaN"
            ]
          },
          "metadata": {
            "tags": []
          },
          "execution_count": 46
        }
      ]
    },
    {
      "cell_type": "code",
      "metadata": {
        "id": "dBJojLg2Pmqm",
        "colab_type": "code",
        "outputId": "037624b4-bc9b-4fa4-a203-d0a3ea0fe2da",
        "colab": {
          "base_uri": "https://localhost:8080/",
          "height": 1000
        }
      },
      "source": [
        "X = np.array(df.drop(['Predicted Cases'], 1))[:-future_days]\n",
        "print(X)"
      ],
      "execution_count": 0,
      "outputs": [
        {
          "output_type": "stream",
          "text": [
            "[[   0]\n",
            " [   0]\n",
            " [   0]\n",
            " [   0]\n",
            " [   1]\n",
            " [   1]\n",
            " [   1]\n",
            " [   1]\n",
            " [   1]\n",
            " [   3]\n",
            " [   3]\n",
            " [   3]\n",
            " [   3]\n",
            " [   3]\n",
            " [   3]\n",
            " [   3]\n",
            " [   3]\n",
            " [   3]\n",
            " [   3]\n",
            " [   3]\n",
            " [   3]\n",
            " [   3]\n",
            " [   3]\n",
            " [   3]\n",
            " [   3]\n",
            " [   3]\n",
            " [   3]\n",
            " [   3]\n",
            " [   3]\n",
            " [   3]\n",
            " [   3]\n",
            " [   3]\n",
            " [   3]\n",
            " [   4]\n",
            " [   4]\n",
            " [   4]\n",
            " [   6]\n",
            " [   6]\n",
            " [  11]\n",
            " [  15]\n",
            " [  18]\n",
            " [  20]\n",
            " [  20]\n",
            " [  22]\n",
            " [  25]\n",
            " [  28]\n",
            " [  29]\n",
            " [  34]\n",
            " [  36]\n",
            " [  41]\n",
            " [  42]\n",
            " [  74]\n",
            " [  79]\n",
            " [ 104]\n",
            " [ 177]\n",
            " [ 185]\n",
            " [ 221]\n",
            " [ 257]\n",
            " [ 308]\n",
            " [ 377]\n",
            " [ 425]\n",
            " [ 503]\n",
            " [ 588]\n",
            " [ 688]\n",
            " [ 858]\n",
            " [ 994]\n",
            " [1144]]\n"
          ],
          "name": "stdout"
        }
      ]
    },
    {
      "cell_type": "code",
      "metadata": {
        "id": "-ztJYcsaQ6qt",
        "colab_type": "code",
        "outputId": "60c830e4-d957-4e07-db39-a2f4fc117297",
        "colab": {
          "base_uri": "https://localhost:8080/",
          "height": 221
        }
      },
      "source": [
        "y = np.array(df['Predicted Cases'])[:-future_days]\n",
        "print(y)"
      ],
      "execution_count": 0,
      "outputs": [
        {
          "output_type": "stream",
          "text": [
            "[3.0000e+00 3.0000e+00 3.0000e+00 3.0000e+00 3.0000e+00 3.0000e+00\n",
            " 3.0000e+00 3.0000e+00 4.0000e+00 4.0000e+00 4.0000e+00 6.0000e+00\n",
            " 6.0000e+00 1.1000e+01 1.5000e+01 1.8000e+01 2.0000e+01 2.0000e+01\n",
            " 2.2000e+01 2.5000e+01 2.8000e+01 2.9000e+01 3.4000e+01 3.6000e+01\n",
            " 4.1000e+01 4.2000e+01 7.4000e+01 7.9000e+01 1.0400e+02 1.7700e+02\n",
            " 1.8500e+02 2.2100e+02 2.5700e+02 3.0800e+02 3.7700e+02 4.2500e+02\n",
            " 5.0300e+02 5.8800e+02 6.8800e+02 8.5800e+02 9.9400e+02 1.1440e+03\n",
            " 1.3550e+03 1.7060e+03 1.9660e+03 2.3920e+03 2.7930e+03 3.2550e+03\n",
            " 3.6300e+03 4.3540e+03 4.3470e+03 4.7260e+03 5.2760e+03 5.7590e+03\n",
            " 6.2370e+03 6.6480e+03 7.0490e+03 7.4700e+03 7.9530e+03 8.4470e+03\n",
            " 9.8400e+03 1.0456e+04 1.1013e+04 1.1561e+04 1.2063e+04 1.2715e+04\n",
            " 1.3718e+04]\n"
          ],
          "name": "stdout"
        }
      ]
    },
    {
      "cell_type": "code",
      "metadata": {
        "id": "fGN9tyk-Th_3",
        "colab_type": "code",
        "colab": {}
      },
      "source": [
        "x_train, x_test, y_train, y_test = train_test_split(X, y, test_size = 0.25)\n"
      ],
      "execution_count": 0,
      "outputs": []
    },
    {
      "cell_type": "code",
      "metadata": {
        "id": "ysK5qsIHUT8g",
        "colab_type": "code",
        "colab": {}
      },
      "source": [
        "tree = DecisionTreeRegressor().fit(x_train, y_train)\n",
        "lr = LinearRegression().fit(x_train, y_train)"
      ],
      "execution_count": 0,
      "outputs": []
    },
    {
      "cell_type": "code",
      "metadata": {
        "id": "RrvRuufqUnOe",
        "colab_type": "code",
        "outputId": "1127609b-f61d-49c8-df86-5c31ebdcdd1c",
        "colab": {
          "base_uri": "https://localhost:8080/",
          "height": 442
        }
      },
      "source": [
        "x_future = df.drop(['Predicted Cases'], 1)[:-future_days]\n",
        "x_future = x_future.tail(future_days)\n",
        "x_future = np.array(x_future)\n",
        "x_future"
      ],
      "execution_count": 0,
      "outputs": [
        {
          "output_type": "execute_result",
          "data": {
            "text/plain": [
              "array([[  20],\n",
              "       [  22],\n",
              "       [  25],\n",
              "       [  28],\n",
              "       [  29],\n",
              "       [  34],\n",
              "       [  36],\n",
              "       [  41],\n",
              "       [  42],\n",
              "       [  74],\n",
              "       [  79],\n",
              "       [ 104],\n",
              "       [ 177],\n",
              "       [ 185],\n",
              "       [ 221],\n",
              "       [ 257],\n",
              "       [ 308],\n",
              "       [ 377],\n",
              "       [ 425],\n",
              "       [ 503],\n",
              "       [ 588],\n",
              "       [ 688],\n",
              "       [ 858],\n",
              "       [ 994],\n",
              "       [1144]])"
            ]
          },
          "metadata": {
            "tags": []
          },
          "execution_count": 51
        }
      ]
    },
    {
      "cell_type": "code",
      "metadata": {
        "id": "aHRneIw7VbYN",
        "colab_type": "code",
        "outputId": "86bc3da2-6b72-456e-a364-3f206ab70ee0",
        "colab": {
          "base_uri": "https://localhost:8080/",
          "height": 204
        }
      },
      "source": [
        "tree_predictions = tree.predict(x_future)\n",
        "print(tree_predictions)\n",
        "print()\n",
        "lr_predictions = lr.predict(x_future)\n",
        "print(lr_predictions)"
      ],
      "execution_count": 0,
      "outputs": [
        {
          "output_type": "stream",
          "text": [
            "[ 1355.  1706.  1966.  2392.  2793.  2793.  4354.  4354.  4354.  4726.\n",
            "  4726.  5759.  6237.  6648.  7049.  7470.  7470.  8447.  9840. 10456.\n",
            " 11013. 11013. 12063. 12715. 13718.]\n",
            "\n",
            "[ 1241.76639509  1270.2066422   1312.86701285  1355.52738351\n",
            "  1369.74750706  1440.84812482  1469.28837192  1540.38898968\n",
            "  1554.60911323  2009.65306689  2080.75368465  2436.25677344\n",
            "  3474.32579272  3588.08678114  4100.011229    4611.93567686\n",
            "  5337.161978    6318.35050308  7000.91643356  8110.0860706\n",
            "  9318.7965725  10740.80892767 13158.22993147 15092.16673451\n",
            " 17225.18526728]\n"
          ],
          "name": "stdout"
        }
      ]
    },
    {
      "cell_type": "code",
      "metadata": {
        "id": "6osrr3d3VqPe",
        "colab_type": "code",
        "outputId": "f4f9a98d-7b29-4f6e-83af-55f3615001ae",
        "colab": {
          "base_uri": "https://localhost:8080/",
          "height": 635
        }
      },
      "source": [
        "predictions = tree_predictions\n",
        "\n",
        "valid = df[X.shape[0]:]\n",
        "valid['Predicted Cases'] = predictions\n",
        "\n",
        "plt.figure(figsize=(16,8))\n",
        "plt.title('Model')\n",
        "plt.xlabel('Dates')\n",
        "plt.ylabel('Predicted Cases')\n",
        "plt.plot(df['Confirmed Cases'])\n",
        "plt.plot(valid['Confirmed Cases'])\n",
        "plt.plot(valid['Predicted Cases'])\n",
        "plt.legend(['Orig', 'Val', 'Pred'])\n",
        "plt.show()\n"
      ],
      "execution_count": 0,
      "outputs": [
        {
          "output_type": "stream",
          "text": [
            "/usr/local/lib/python3.6/dist-packages/ipykernel_launcher.py:4: SettingWithCopyWarning: \n",
            "A value is trying to be set on a copy of a slice from a DataFrame.\n",
            "Try using .loc[row_indexer,col_indexer] = value instead\n",
            "\n",
            "See the caveats in the documentation: https://pandas.pydata.org/pandas-docs/stable/user_guide/indexing.html#returning-a-view-versus-a-copy\n",
            "  after removing the cwd from sys.path.\n"
          ],
          "name": "stderr"
        },
        {
          "output_type": "display_data",
          "data": {
            "image/png": "[encoded data removed]",
            "text/plain": [
              "<Figure size 1152x576 with 1 Axes>"
            ]
          },
          "metadata": {
            "tags": [],
            "needs_background": "light"
          }
        }
      ]
    },
    {
      "cell_type": "code",
      "metadata": {
        "id": "LIeCTaIFQ1JC",
        "colab_type": "code",
        "outputId": "02ade461-16f3-44fc-cac2-4e47d4a8b1fd",
        "colab": {
          "base_uri": "https://localhost:8080/",
          "height": 855
        }
      },
      "source": [
        "valid"
      ],
      "execution_count": 0,
      "outputs": [
        {
          "output_type": "execute_result",
          "data": {
            "text/html": [
              "<div>\n",
              "<style scoped>\n",
              "    .dataframe tbody tr th:only-of-type {\n",
              "        vertical-align: middle;\n",
              "    }\n",
              "\n",
              "    .dataframe tbody tr th {\n",
              "        vertical-align: top;\n",
              "    }\n",
              "\n",
              "    .dataframe thead th {\n",
              "        text-align: right;\n",
              "    }\n",
              "</style>\n",
              "<table border=\"1\" class=\"dataframe\">\n",
              "  <thead>\n",
              "    <tr style=\"text-align: right;\">\n",
              "      <th></th>\n",
              "      <th>Confirmed Cases</th>\n",
              "      <th>Predicted Cases</th>\n",
              "    </tr>\n",
              "    <tr>\n",
              "      <th>Dates</th>\n",
              "      <th></th>\n",
              "      <th></th>\n",
              "    </tr>\n",
              "  </thead>\n",
              "  <tbody>\n",
              "    <tr>\n",
              "      <th>03/29/2020</th>\n",
              "      <td>1355</td>\n",
              "      <td>1355.0</td>\n",
              "    </tr>\n",
              "    <tr>\n",
              "      <th>03/30/2020</th>\n",
              "      <td>1706</td>\n",
              "      <td>1706.0</td>\n",
              "    </tr>\n",
              "    <tr>\n",
              "      <th>03/31/2020</th>\n",
              "      <td>1966</td>\n",
              "      <td>1966.0</td>\n",
              "    </tr>\n",
              "    <tr>\n",
              "      <th>04/01/2020</th>\n",
              "      <td>2392</td>\n",
              "      <td>2392.0</td>\n",
              "    </tr>\n",
              "    <tr>\n",
              "      <th>04/02/2020</th>\n",
              "      <td>2793</td>\n",
              "      <td>2793.0</td>\n",
              "    </tr>\n",
              "    <tr>\n",
              "      <th>04/03/2020</th>\n",
              "      <td>3255</td>\n",
              "      <td>2793.0</td>\n",
              "    </tr>\n",
              "    <tr>\n",
              "      <th>04/04/2020</th>\n",
              "      <td>3630</td>\n",
              "      <td>4354.0</td>\n",
              "    </tr>\n",
              "    <tr>\n",
              "      <th>04/05/2020</th>\n",
              "      <td>4354</td>\n",
              "      <td>4354.0</td>\n",
              "    </tr>\n",
              "    <tr>\n",
              "      <th>04/06/2020</th>\n",
              "      <td>4347</td>\n",
              "      <td>4354.0</td>\n",
              "    </tr>\n",
              "    <tr>\n",
              "      <th>04/07/2020</th>\n",
              "      <td>4726</td>\n",
              "      <td>4726.0</td>\n",
              "    </tr>\n",
              "    <tr>\n",
              "      <th>04/08/2020</th>\n",
              "      <td>5276</td>\n",
              "      <td>4726.0</td>\n",
              "    </tr>\n",
              "    <tr>\n",
              "      <th>04/09/2020</th>\n",
              "      <td>5759</td>\n",
              "      <td>5759.0</td>\n",
              "    </tr>\n",
              "    <tr>\n",
              "      <th>04/10/2020</th>\n",
              "      <td>6237</td>\n",
              "      <td>6237.0</td>\n",
              "    </tr>\n",
              "    <tr>\n",
              "      <th>04/11/2020</th>\n",
              "      <td>6648</td>\n",
              "      <td>6648.0</td>\n",
              "    </tr>\n",
              "    <tr>\n",
              "      <th>04/12/2020</th>\n",
              "      <td>7049</td>\n",
              "      <td>7049.0</td>\n",
              "    </tr>\n",
              "    <tr>\n",
              "      <th>04/13/2020</th>\n",
              "      <td>7470</td>\n",
              "      <td>7470.0</td>\n",
              "    </tr>\n",
              "    <tr>\n",
              "      <th>04/14/2020</th>\n",
              "      <td>7953</td>\n",
              "      <td>7470.0</td>\n",
              "    </tr>\n",
              "    <tr>\n",
              "      <th>04/15/2020</th>\n",
              "      <td>8447</td>\n",
              "      <td>8447.0</td>\n",
              "    </tr>\n",
              "    <tr>\n",
              "      <th>04/16/2020</th>\n",
              "      <td>9840</td>\n",
              "      <td>9840.0</td>\n",
              "    </tr>\n",
              "    <tr>\n",
              "      <th>04/17/2020</th>\n",
              "      <td>10456</td>\n",
              "      <td>10456.0</td>\n",
              "    </tr>\n",
              "    <tr>\n",
              "      <th>04/18/2020</th>\n",
              "      <td>11013</td>\n",
              "      <td>11013.0</td>\n",
              "    </tr>\n",
              "    <tr>\n",
              "      <th>04/19/2020</th>\n",
              "      <td>11561</td>\n",
              "      <td>11013.0</td>\n",
              "    </tr>\n",
              "    <tr>\n",
              "      <th>04/20/2020</th>\n",
              "      <td>12063</td>\n",
              "      <td>12063.0</td>\n",
              "    </tr>\n",
              "    <tr>\n",
              "      <th>04/21/2020</th>\n",
              "      <td>12715</td>\n",
              "      <td>12715.0</td>\n",
              "    </tr>\n",
              "    <tr>\n",
              "      <th>04/22/2020</th>\n",
              "      <td>13718</td>\n",
              "      <td>13718.0</td>\n",
              "    </tr>\n",
              "  </tbody>\n",
              "</table>\n",
              "</div>"
            ],
            "text/plain": [
              "            Confirmed Cases  Predicted Cases\n",
              "Dates                                       \n",
              "03/29/2020             1355           1355.0\n",
              "03/30/2020             1706           1706.0\n",
              "03/31/2020             1966           1966.0\n",
              "04/01/2020             2392           2392.0\n",
              "04/02/2020             2793           2793.0\n",
              "04/03/2020             3255           2793.0\n",
              "04/04/2020             3630           4354.0\n",
              "04/05/2020             4354           4354.0\n",
              "04/06/2020             4347           4354.0\n",
              "04/07/2020             4726           4726.0\n",
              "04/08/2020             5276           4726.0\n",
              "04/09/2020             5759           5759.0\n",
              "04/10/2020             6237           6237.0\n",
              "04/11/2020             6648           6648.0\n",
              "04/12/2020             7049           7049.0\n",
              "04/13/2020             7470           7470.0\n",
              "04/14/2020             7953           7470.0\n",
              "04/15/2020             8447           8447.0\n",
              "04/16/2020             9840           9840.0\n",
              "04/17/2020            10456          10456.0\n",
              "04/18/2020            11013          11013.0\n",
              "04/19/2020            11561          11013.0\n",
              "04/20/2020            12063          12063.0\n",
              "04/21/2020            12715          12715.0\n",
              "04/22/2020            13718          13718.0"
            ]
          },
          "metadata": {
            "tags": []
          },
          "execution_count": 54
        }
      ]
    },
    {
      "cell_type": "code",
      "metadata": {
        "id": "mcscwDMaQ9sy",
        "colab_type": "code",
        "outputId": "d58d1599-d07e-4a9d-8416-8b003069ffbc",
        "colab": {
          "base_uri": "https://localhost:8080/",
          "height": 34
        }
      },
      "source": [
        "from sklearn.metrics import r2_score\n",
        "score = r2_score(valid['Confirmed Cases'], valid['Predicted Cases'])\n",
        "print(score)"
      ],
      "execution_count": 0,
      "outputs": [
        {
          "output_type": "stream",
          "text": [
            "0.9952995268213232\n"
          ],
          "name": "stdout"
        }
      ]
    },
    {
      "cell_type": "code",
      "metadata": {
        "id": "gUsHrbQSS-Ad",
        "colab_type": "code",
        "outputId": "610cd793-5f1b-42cd-e942-c0e643e6bae6",
        "colab": {
          "base_uri": "https://localhost:8080/",
          "height": 296
        }
      },
      "source": [
        "valid.plot()"
      ],
      "execution_count": 0,
      "outputs": [
        {
          "output_type": "execute_result",
          "data": {
            "text/plain": [
              "<matplotlib.axes._subplots.AxesSubplot at 0x7fc131fa3d68>"
            ]
          },
          "metadata": {
            "tags": []
          },
          "execution_count": 56
        },
        {
          "output_type": "display_data",
          "data": {
            "image/png": "[encoded data removed]",
            "text/plain": [
              "<Figure size 432x288 with 1 Axes>"
            ]
          },
          "metadata": {
            "tags": [],
            "needs_background": "light"
          }
        }
      ]
    },
    {
      "cell_type": "markdown",
      "metadata": {
        "id": "N_v3pHJWqoW9",
        "colab_type": "text"
      },
      "source": [
        ""
      ]
    },
    {
      "cell_type": "code",
      "metadata": {
        "id": "u1KkTYbaoogQ",
        "colab_type": "code",
        "outputId": "807b00e0-783e-4f48-a8fb-26512309c217",
        "colab": {
          "base_uri": "https://localhost:8080/",
          "height": 390
        }
      },
      "source": [
        "df2= pd.read_csv('/content/drive/My Drive/COVID-19/COVID-19_Data/Ontario_Confirmed_Cases (1).csv', index_col = 'Dates')\n",
        "df2 = df2.rename(columns={\"Confirmed deaths\": \"Confirmed Deaths\"})\n",
        "df2.head(10)"
      ],
      "execution_count": 0,
      "outputs": [
        {
          "output_type": "execute_result",
          "data": {
            "text/html": [
              "<div>\n",
              "<style scoped>\n",
              "    .dataframe tbody tr th:only-of-type {\n",
              "        vertical-align: middle;\n",
              "    }\n",
              "\n",
              "    .dataframe tbody tr th {\n",
              "        vertical-align: top;\n",
              "    }\n",
              "\n",
              "    .dataframe thead th {\n",
              "        text-align: right;\n",
              "    }\n",
              "</style>\n",
              "<table border=\"1\" class=\"dataframe\">\n",
              "  <thead>\n",
              "    <tr style=\"text-align: right;\">\n",
              "      <th></th>\n",
              "      <th>Confirmed Cases</th>\n",
              "      <th>Confirmed Deaths</th>\n",
              "      <th>Confirmed Recovered</th>\n",
              "    </tr>\n",
              "    <tr>\n",
              "      <th>Dates</th>\n",
              "      <th></th>\n",
              "      <th></th>\n",
              "      <th></th>\n",
              "    </tr>\n",
              "  </thead>\n",
              "  <tbody>\n",
              "    <tr>\n",
              "      <th>01/22/2020</th>\n",
              "      <td>0</td>\n",
              "      <td>0</td>\n",
              "      <td>0</td>\n",
              "    </tr>\n",
              "    <tr>\n",
              "      <th>01/23/2020</th>\n",
              "      <td>0</td>\n",
              "      <td>0</td>\n",
              "      <td>0</td>\n",
              "    </tr>\n",
              "    <tr>\n",
              "      <th>01/24/2020</th>\n",
              "      <td>0</td>\n",
              "      <td>0</td>\n",
              "      <td>0</td>\n",
              "    </tr>\n",
              "    <tr>\n",
              "      <th>01/25/2020</th>\n",
              "      <td>0</td>\n",
              "      <td>0</td>\n",
              "      <td>0</td>\n",
              "    </tr>\n",
              "    <tr>\n",
              "      <th>01/26/2020</th>\n",
              "      <td>1</td>\n",
              "      <td>0</td>\n",
              "      <td>0</td>\n",
              "    </tr>\n",
              "    <tr>\n",
              "      <th>01/27/2020</th>\n",
              "      <td>1</td>\n",
              "      <td>0</td>\n",
              "      <td>0</td>\n",
              "    </tr>\n",
              "    <tr>\n",
              "      <th>01/28/2020</th>\n",
              "      <td>1</td>\n",
              "      <td>0</td>\n",
              "      <td>0</td>\n",
              "    </tr>\n",
              "    <tr>\n",
              "      <th>01/29/2020</th>\n",
              "      <td>1</td>\n",
              "      <td>0</td>\n",
              "      <td>0</td>\n",
              "    </tr>\n",
              "    <tr>\n",
              "      <th>01/30/2020</th>\n",
              "      <td>1</td>\n",
              "      <td>0</td>\n",
              "      <td>0</td>\n",
              "    </tr>\n",
              "    <tr>\n",
              "      <th>01/31/2020</th>\n",
              "      <td>3</td>\n",
              "      <td>0</td>\n",
              "      <td>0</td>\n",
              "    </tr>\n",
              "  </tbody>\n",
              "</table>\n",
              "</div>"
            ],
            "text/plain": [
              "            Confirmed Cases  Confirmed Deaths  Confirmed Recovered\n",
              "Dates                                                             \n",
              "01/22/2020                0                 0                    0\n",
              "01/23/2020                0                 0                    0\n",
              "01/24/2020                0                 0                    0\n",
              "01/25/2020                0                 0                    0\n",
              "01/26/2020                1                 0                    0\n",
              "01/27/2020                1                 0                    0\n",
              "01/28/2020                1                 0                    0\n",
              "01/29/2020                1                 0                    0\n",
              "01/30/2020                1                 0                    0\n",
              "01/31/2020                3                 0                    0"
            ]
          },
          "metadata": {
            "tags": []
          },
          "execution_count": 57
        }
      ]
    },
    {
      "cell_type": "code",
      "metadata": {
        "id": "wXjiNHbFo2Wf",
        "colab_type": "code",
        "colab": {}
      },
      "source": [
        "df2 = df2[['Confirmed Deaths']]"
      ],
      "execution_count": 0,
      "outputs": []
    },
    {
      "cell_type": "code",
      "metadata": {
        "id": "B6lKm6KYo5DR",
        "colab_type": "code",
        "outputId": "447eab7c-9001-4eb5-a11a-7c4b1977b2a2",
        "colab": {
          "base_uri": "https://localhost:8080/",
          "height": 235
        }
      },
      "source": [
        "df2.head()"
      ],
      "execution_count": 0,
      "outputs": [
        {
          "output_type": "execute_result",
          "data": {
            "text/html": [
              "<div>\n",
              "<style scoped>\n",
              "    .dataframe tbody tr th:only-of-type {\n",
              "        vertical-align: middle;\n",
              "    }\n",
              "\n",
              "    .dataframe tbody tr th {\n",
              "        vertical-align: top;\n",
              "    }\n",
              "\n",
              "    .dataframe thead th {\n",
              "        text-align: right;\n",
              "    }\n",
              "</style>\n",
              "<table border=\"1\" class=\"dataframe\">\n",
              "  <thead>\n",
              "    <tr style=\"text-align: right;\">\n",
              "      <th></th>\n",
              "      <th>Confirmed Deaths</th>\n",
              "    </tr>\n",
              "    <tr>\n",
              "      <th>Dates</th>\n",
              "      <th></th>\n",
              "    </tr>\n",
              "  </thead>\n",
              "  <tbody>\n",
              "    <tr>\n",
              "      <th>01/22/2020</th>\n",
              "      <td>0</td>\n",
              "    </tr>\n",
              "    <tr>\n",
              "      <th>01/23/2020</th>\n",
              "      <td>0</td>\n",
              "    </tr>\n",
              "    <tr>\n",
              "      <th>01/24/2020</th>\n",
              "      <td>0</td>\n",
              "    </tr>\n",
              "    <tr>\n",
              "      <th>01/25/2020</th>\n",
              "      <td>0</td>\n",
              "    </tr>\n",
              "    <tr>\n",
              "      <th>01/26/2020</th>\n",
              "      <td>0</td>\n",
              "    </tr>\n",
              "  </tbody>\n",
              "</table>\n",
              "</div>"
            ],
            "text/plain": [
              "            Confirmed Deaths\n",
              "Dates                       \n",
              "01/22/2020                 0\n",
              "01/23/2020                 0\n",
              "01/24/2020                 0\n",
              "01/25/2020                 0\n",
              "01/26/2020                 0"
            ]
          },
          "metadata": {
            "tags": []
          },
          "execution_count": 59
        }
      ]
    },
    {
      "cell_type": "code",
      "metadata": {
        "id": "b4pVTMhfo7gp",
        "colab_type": "code",
        "outputId": "99bb4f4b-49fc-4daf-ca0c-5ed4ee0a816b",
        "colab": {
          "base_uri": "https://localhost:8080/",
          "height": 204
        }
      },
      "source": [
        "future_days_deaths = 25\n",
        "df2['Predicted Deaths'] = df2[['Confirmed Deaths']].shift(-future_days_deaths)\n",
        "df2.tail(4)"
      ],
      "execution_count": 0,
      "outputs": [
        {
          "output_type": "execute_result",
          "data": {
            "text/html": [
              "<div>\n",
              "<style scoped>\n",
              "    .dataframe tbody tr th:only-of-type {\n",
              "        vertical-align: middle;\n",
              "    }\n",
              "\n",
              "    .dataframe tbody tr th {\n",
              "        vertical-align: top;\n",
              "    }\n",
              "\n",
              "    .dataframe thead th {\n",
              "        text-align: right;\n",
              "    }\n",
              "</style>\n",
              "<table border=\"1\" class=\"dataframe\">\n",
              "  <thead>\n",
              "    <tr style=\"text-align: right;\">\n",
              "      <th></th>\n",
              "      <th>Confirmed Deaths</th>\n",
              "      <th>Predicted Deaths</th>\n",
              "    </tr>\n",
              "    <tr>\n",
              "      <th>Dates</th>\n",
              "      <th></th>\n",
              "      <th></th>\n",
              "    </tr>\n",
              "  </thead>\n",
              "  <tbody>\n",
              "    <tr>\n",
              "      <th>04/19/2020</th>\n",
              "      <td>591</td>\n",
              "      <td>NaN</td>\n",
              "    </tr>\n",
              "    <tr>\n",
              "      <th>04/20/2020</th>\n",
              "      <td>624</td>\n",
              "      <td>NaN</td>\n",
              "    </tr>\n",
              "    <tr>\n",
              "      <th>04/21/2020</th>\n",
              "      <td>694</td>\n",
              "      <td>NaN</td>\n",
              "    </tr>\n",
              "    <tr>\n",
              "      <th>04/22/2020</th>\n",
              "      <td>762</td>\n",
              "      <td>NaN</td>\n",
              "    </tr>\n",
              "  </tbody>\n",
              "</table>\n",
              "</div>"
            ],
            "text/plain": [
              "            Confirmed Deaths  Predicted Deaths\n",
              "Dates                                         \n",
              "04/19/2020               591               NaN\n",
              "04/20/2020               624               NaN\n",
              "04/21/2020               694               NaN\n",
              "04/22/2020               762               NaN"
            ]
          },
          "metadata": {
            "tags": []
          },
          "execution_count": 60
        }
      ]
    },
    {
      "cell_type": "code",
      "metadata": {
        "id": "9TymVp_SpHWg",
        "colab_type": "code",
        "outputId": "cb957dce-1e88-4268-8a92-1fccda95d576",
        "colab": {
          "base_uri": "https://localhost:8080/",
          "height": 300
        }
      },
      "source": [
        "df2['Confirmed Deaths'].plot()"
      ],
      "execution_count": 0,
      "outputs": [
        {
          "output_type": "execute_result",
          "data": {
            "text/plain": [
              "<matplotlib.axes._subplots.AxesSubplot at 0x7fc133339ef0>"
            ]
          },
          "metadata": {
            "tags": []
          },
          "execution_count": 61
        },
        {
          "output_type": "display_data",
          "data": {
            "image/png": "[encoded data removed]",
            "text/plain": [
              "<Figure size 432x288 with 1 Axes>"
            ]
          },
          "metadata": {
            "tags": [],
            "needs_background": "light"
          }
        }
      ]
    },
    {
      "cell_type": "code",
      "metadata": {
        "id": "0vLGqqbppLMO",
        "colab_type": "code",
        "outputId": "cbc51f66-a5c9-4186-f969-c801aaf5570b",
        "colab": {
          "base_uri": "https://localhost:8080/",
          "height": 1000
        }
      },
      "source": [
        "X1 = np.array(df2.drop(['Predicted Deaths'], 1))[:-future_days_deaths]\n",
        "print(X1)"
      ],
      "execution_count": 0,
      "outputs": [
        {
          "output_type": "stream",
          "text": [
            "[[ 0]\n",
            " [ 0]\n",
            " [ 0]\n",
            " [ 0]\n",
            " [ 0]\n",
            " [ 0]\n",
            " [ 0]\n",
            " [ 0]\n",
            " [ 0]\n",
            " [ 0]\n",
            " [ 0]\n",
            " [ 0]\n",
            " [ 0]\n",
            " [ 0]\n",
            " [ 0]\n",
            " [ 0]\n",
            " [ 0]\n",
            " [ 0]\n",
            " [ 0]\n",
            " [ 0]\n",
            " [ 0]\n",
            " [ 0]\n",
            " [ 0]\n",
            " [ 0]\n",
            " [ 0]\n",
            " [ 0]\n",
            " [ 0]\n",
            " [ 0]\n",
            " [ 0]\n",
            " [ 0]\n",
            " [ 0]\n",
            " [ 0]\n",
            " [ 0]\n",
            " [ 0]\n",
            " [ 0]\n",
            " [ 0]\n",
            " [ 0]\n",
            " [ 0]\n",
            " [ 0]\n",
            " [ 0]\n",
            " [ 0]\n",
            " [ 0]\n",
            " [ 0]\n",
            " [ 0]\n",
            " [ 0]\n",
            " [ 0]\n",
            " [ 0]\n",
            " [ 0]\n",
            " [ 0]\n",
            " [ 0]\n",
            " [ 0]\n",
            " [ 0]\n",
            " [ 0]\n",
            " [ 0]\n",
            " [ 0]\n",
            " [ 1]\n",
            " [ 1]\n",
            " [ 1]\n",
            " [ 2]\n",
            " [ 3]\n",
            " [ 5]\n",
            " [ 6]\n",
            " [ 7]\n",
            " [ 8]\n",
            " [13]\n",
            " [18]\n",
            " [18]]\n"
          ],
          "name": "stdout"
        }
      ]
    },
    {
      "cell_type": "code",
      "metadata": {
        "id": "pzFe6lEcpV8j",
        "colab_type": "code",
        "outputId": "15085cb5-e75a-4ede-97fd-6bc4bab4dbb6",
        "colab": {
          "base_uri": "https://localhost:8080/",
          "height": 102
        }
      },
      "source": [
        "y1 = np.array(df2['Predicted Deaths'])[:-future_days_deaths]\n",
        "print(y1)"
      ],
      "execution_count": 0,
      "outputs": [
        {
          "output_type": "stream",
          "text": [
            "[  0.   0.   0.   0.   0.   0.   0.   0.   0.   0.   0.   0.   0.   0.\n",
            "   0.   0.   0.   0.   0.   0.   0.   0.   0.   0.   0.   0.   0.   0.\n",
            "   0.   0.   1.   1.   1.   2.   3.   5.   6.   7.   8.  13.  18.  18.\n",
            "  21.  31.  33.  37.  53.  67.  94. 119. 150. 153. 153. 200. 222. 253.\n",
            " 274. 291. 334. 385. 490. 524. 564. 591. 624. 694. 762.]\n"
          ],
          "name": "stdout"
        }
      ]
    },
    {
      "cell_type": "code",
      "metadata": {
        "id": "vsp7Cjnjpflz",
        "colab_type": "code",
        "colab": {}
      },
      "source": [
        "x_train2, x_test2, y_train2, y_test2 = train_test_split(X1, y1, test_size = 0.25)\n"
      ],
      "execution_count": 0,
      "outputs": []
    },
    {
      "cell_type": "code",
      "metadata": {
        "id": "J5hJE6U4pppI",
        "colab_type": "code",
        "colab": {}
      },
      "source": [
        "tree2 = DecisionTreeRegressor().fit(x_train2, y_train2)\n",
        "lr2 = LinearRegression().fit(x_train2, y_train2)"
      ],
      "execution_count": 0,
      "outputs": []
    },
    {
      "cell_type": "code",
      "metadata": {
        "id": "BqvwX4MepyP0",
        "colab_type": "code",
        "outputId": "ae8e6c70-5fa5-4607-8d8f-1e99ea9c2016",
        "colab": {
          "base_uri": "https://localhost:8080/",
          "height": 442
        }
      },
      "source": [
        "x_future2 = df2.drop(['Predicted Deaths'], 1)[:-future_days_deaths]\n",
        "x_future2 = x_future2.tail(future_days_deaths)\n",
        "x_future2 = np.array(x_future2)\n",
        "x_future2"
      ],
      "execution_count": 0,
      "outputs": [
        {
          "output_type": "execute_result",
          "data": {
            "text/plain": [
              "array([[ 0],\n",
              "       [ 0],\n",
              "       [ 0],\n",
              "       [ 0],\n",
              "       [ 0],\n",
              "       [ 0],\n",
              "       [ 0],\n",
              "       [ 0],\n",
              "       [ 0],\n",
              "       [ 0],\n",
              "       [ 0],\n",
              "       [ 0],\n",
              "       [ 0],\n",
              "       [ 1],\n",
              "       [ 1],\n",
              "       [ 1],\n",
              "       [ 2],\n",
              "       [ 3],\n",
              "       [ 5],\n",
              "       [ 6],\n",
              "       [ 7],\n",
              "       [ 8],\n",
              "       [13],\n",
              "       [18],\n",
              "       [18]])"
            ]
          },
          "metadata": {
            "tags": []
          },
          "execution_count": 66
        }
      ]
    },
    {
      "cell_type": "code",
      "metadata": {
        "id": "TrrKGYD6p9A1",
        "colab_type": "code",
        "outputId": "e9592c9b-b407-4278-dfc8-a4c0a3075dc2",
        "colab": {
          "base_uri": "https://localhost:8080/",
          "height": 204
        }
      },
      "source": [
        "tree_predictions2 = tree2.predict(x_future2)\n",
        "print(tree_predictions2)\n",
        "print()\n",
        "lr_predictions2 = lr2.predict(x_future2)\n",
        "print(lr_predictions2)"
      ],
      "execution_count": 0,
      "outputs": [
        {
          "output_type": "stream",
          "text": [
            "[ 25.62790698  25.62790698  25.62790698  25.62790698  25.62790698\n",
            "  25.62790698  25.62790698  25.62790698  25.62790698  25.62790698\n",
            "  25.62790698  25.62790698  25.62790698 291.         291.\n",
            " 291.         291.         385.         490.         524.\n",
            " 564.         564.         624.         694.         694.        ]\n",
            "\n",
            "[ 42.77094932  42.77094932  42.77094932  42.77094932  42.77094932\n",
            "  42.77094932  42.77094932  42.77094932  42.77094932  42.77094932\n",
            "  42.77094932  42.77094932  42.77094932  90.60967638  90.60967638\n",
            "  90.60967638 138.44840343 186.28713049 281.96458461 329.80331166\n",
            " 377.64203872 425.48076578 664.67440106 903.86803635 903.86803635]\n"
          ],
          "name": "stdout"
        }
      ]
    },
    {
      "cell_type": "code",
      "metadata": {
        "id": "p-6opNICqHbk",
        "colab_type": "code",
        "outputId": "6cb37da1-3525-4196-e17b-d55d40fbba7c",
        "colab": {
          "base_uri": "https://localhost:8080/",
          "height": 635
        }
      },
      "source": [
        "predictions2 = tree_predictions2\n",
        "\n",
        "valid2 = df2[X1.shape[0]:]\n",
        "valid2['Predicted Deaths'] = predictions2\n",
        "\n",
        "plt.figure(figsize=(16,8))\n",
        "plt.title('Model')\n",
        "plt.xlabel('Dates')\n",
        "plt.ylabel('Predicted Cases')\n",
        "plt.plot(df2['Confirmed Deaths'])\n",
        "plt.plot(valid2['Confirmed Deaths'])\n",
        "plt.plot(valid2['Predicted Deaths'])\n",
        "plt.legend(['Orig', 'Val', 'Pred'])\n",
        "plt.show()\n"
      ],
      "execution_count": 0,
      "outputs": [
        {
          "output_type": "stream",
          "text": [
            "/usr/local/lib/python3.6/dist-packages/ipykernel_launcher.py:4: SettingWithCopyWarning: \n",
            "A value is trying to be set on a copy of a slice from a DataFrame.\n",
            "Try using .loc[row_indexer,col_indexer] = value instead\n",
            "\n",
            "See the caveats in the documentation: https://pandas.pydata.org/pandas-docs/stable/user_guide/indexing.html#returning-a-view-versus-a-copy\n",
            "  after removing the cwd from sys.path.\n"
          ],
          "name": "stderr"
        },
        {
          "output_type": "display_data",
          "data": {
            "image/png": "[encoded data removed]",
            "text/plain": [
              "<Figure size 1152x576 with 1 Axes>"
            ]
          },
          "metadata": {
            "tags": [],
            "needs_background": "light"
          }
        }
      ]
    },
    {
      "cell_type": "code",
      "metadata": {
        "id": "4FZ6JT4fqfLH",
        "colab_type": "code",
        "outputId": "3af6f26d-8a62-4b3c-dace-129f294513ba",
        "colab": {
          "base_uri": "https://localhost:8080/",
          "height": 34
        }
      },
      "source": [
        "from sklearn.metrics import r2_score\n",
        "score2 = r2_score(valid2['Confirmed Deaths'], valid2['Predicted Deaths'])\n",
        "print(score2)"
      ],
      "execution_count": 0,
      "outputs": [
        {
          "output_type": "stream",
          "text": [
            "0.8893782824059517\n"
          ],
          "name": "stdout"
        }
      ]
    },
    {
      "cell_type": "code",
      "metadata": {
        "id": "IubNRhywqv_j",
        "colab_type": "code",
        "outputId": "148e428d-5bd4-40f7-f58c-a9dd6364881e",
        "colab": {
          "base_uri": "https://localhost:8080/",
          "height": 296
        }
      },
      "source": [
        "valid2.plot()"
      ],
      "execution_count": 0,
      "outputs": [
        {
          "output_type": "execute_result",
          "data": {
            "text/plain": [
              "<matplotlib.axes._subplots.AxesSubplot at 0x7fc131f745f8>"
            ]
          },
          "metadata": {
            "tags": []
          },
          "execution_count": 70
        },
        {
          "output_type": "display_data",
          "data": {
            "image/png": "[encoded data removed]",
            "text/plain": [
              "<Figure size 432x288 with 1 Axes>"
            ]
          },
          "metadata": {
            "tags": [],
            "needs_background": "light"
          }
        }
      ]
    },
    {
      "cell_type": "code",
      "metadata": {
        "id": "tD6IvAA8q69C",
        "colab_type": "code",
        "outputId": "e27489e5-1ba4-4a0a-e6fa-89eb062833bf",
        "colab": {
          "base_uri": "https://localhost:8080/",
          "height": 235
        }
      },
      "source": [
        "df3 = pd.read_csv(\"/content/drive/My Drive/COVID-19/COVID-19_Data/Ontario_Confirmed_Cases (1).csv\", index_col = 'Dates')\n",
        "df3 = df3.rename(columns={\"Confirmed deaths\": \"Confirmed Deaths\"})\n",
        "df3.head(5)"
      ],
      "execution_count": 0,
      "outputs": [
        {
          "output_type": "execute_result",
          "data": {
            "text/html": [
              "<div>\n",
              "<style scoped>\n",
              "    .dataframe tbody tr th:only-of-type {\n",
              "        vertical-align: middle;\n",
              "    }\n",
              "\n",
              "    .dataframe tbody tr th {\n",
              "        vertical-align: top;\n",
              "    }\n",
              "\n",
              "    .dataframe thead th {\n",
              "        text-align: right;\n",
              "    }\n",
              "</style>\n",
              "<table border=\"1\" class=\"dataframe\">\n",
              "  <thead>\n",
              "    <tr style=\"text-align: right;\">\n",
              "      <th></th>\n",
              "      <th>Confirmed Cases</th>\n",
              "      <th>Confirmed Deaths</th>\n",
              "      <th>Confirmed Recovered</th>\n",
              "    </tr>\n",
              "    <tr>\n",
              "      <th>Dates</th>\n",
              "      <th></th>\n",
              "      <th></th>\n",
              "      <th></th>\n",
              "    </tr>\n",
              "  </thead>\n",
              "  <tbody>\n",
              "    <tr>\n",
              "      <th>01/22/2020</th>\n",
              "      <td>0</td>\n",
              "      <td>0</td>\n",
              "      <td>0</td>\n",
              "    </tr>\n",
              "    <tr>\n",
              "      <th>01/23/2020</th>\n",
              "      <td>0</td>\n",
              "      <td>0</td>\n",
              "      <td>0</td>\n",
              "    </tr>\n",
              "    <tr>\n",
              "      <th>01/24/2020</th>\n",
              "      <td>0</td>\n",
              "      <td>0</td>\n",
              "      <td>0</td>\n",
              "    </tr>\n",
              "    <tr>\n",
              "      <th>01/25/2020</th>\n",
              "      <td>0</td>\n",
              "      <td>0</td>\n",
              "      <td>0</td>\n",
              "    </tr>\n",
              "    <tr>\n",
              "      <th>01/26/2020</th>\n",
              "      <td>1</td>\n",
              "      <td>0</td>\n",
              "      <td>0</td>\n",
              "    </tr>\n",
              "  </tbody>\n",
              "</table>\n",
              "</div>"
            ],
            "text/plain": [
              "            Confirmed Cases  Confirmed Deaths  Confirmed Recovered\n",
              "Dates                                                             \n",
              "01/22/2020                0                 0                    0\n",
              "01/23/2020                0                 0                    0\n",
              "01/24/2020                0                 0                    0\n",
              "01/25/2020                0                 0                    0\n",
              "01/26/2020                1                 0                    0"
            ]
          },
          "metadata": {
            "tags": []
          },
          "execution_count": 71
        }
      ]
    },
    {
      "cell_type": "code",
      "metadata": {
        "id": "uru1gx_Rrlw5",
        "colab_type": "code",
        "colab": {}
      },
      "source": [
        "df3 = df3[['Confirmed Recovered']]"
      ],
      "execution_count": 0,
      "outputs": []
    },
    {
      "cell_type": "code",
      "metadata": {
        "id": "8JeNcCL6rpPe",
        "colab_type": "code",
        "outputId": "7a0f13e3-6516-428f-844c-4bd88b55e084",
        "colab": {
          "base_uri": "https://localhost:8080/",
          "height": 235
        }
      },
      "source": [
        "df3.head()"
      ],
      "execution_count": 0,
      "outputs": [
        {
          "output_type": "execute_result",
          "data": {
            "text/html": [
              "<div>\n",
              "<style scoped>\n",
              "    .dataframe tbody tr th:only-of-type {\n",
              "        vertical-align: middle;\n",
              "    }\n",
              "\n",
              "    .dataframe tbody tr th {\n",
              "        vertical-align: top;\n",
              "    }\n",
              "\n",
              "    .dataframe thead th {\n",
              "        text-align: right;\n",
              "    }\n",
              "</style>\n",
              "<table border=\"1\" class=\"dataframe\">\n",
              "  <thead>\n",
              "    <tr style=\"text-align: right;\">\n",
              "      <th></th>\n",
              "      <th>Confirmed Recovered</th>\n",
              "    </tr>\n",
              "    <tr>\n",
              "      <th>Dates</th>\n",
              "      <th></th>\n",
              "    </tr>\n",
              "  </thead>\n",
              "  <tbody>\n",
              "    <tr>\n",
              "      <th>01/22/2020</th>\n",
              "      <td>0</td>\n",
              "    </tr>\n",
              "    <tr>\n",
              "      <th>01/23/2020</th>\n",
              "      <td>0</td>\n",
              "    </tr>\n",
              "    <tr>\n",
              "      <th>01/24/2020</th>\n",
              "      <td>0</td>\n",
              "    </tr>\n",
              "    <tr>\n",
              "      <th>01/25/2020</th>\n",
              "      <td>0</td>\n",
              "    </tr>\n",
              "    <tr>\n",
              "      <th>01/26/2020</th>\n",
              "      <td>0</td>\n",
              "    </tr>\n",
              "  </tbody>\n",
              "</table>\n",
              "</div>"
            ],
            "text/plain": [
              "            Confirmed Recovered\n",
              "Dates                          \n",
              "01/22/2020                    0\n",
              "01/23/2020                    0\n",
              "01/24/2020                    0\n",
              "01/25/2020                    0\n",
              "01/26/2020                    0"
            ]
          },
          "metadata": {
            "tags": []
          },
          "execution_count": 73
        }
      ]
    },
    {
      "cell_type": "code",
      "metadata": {
        "id": "grFHfIT-r8H7",
        "colab_type": "code",
        "colab": {}
      },
      "source": [
        "future_days_recover = 25"
      ],
      "execution_count": 0,
      "outputs": []
    },
    {
      "cell_type": "code",
      "metadata": {
        "id": "PmUBDMblsHX5",
        "colab_type": "code",
        "outputId": "97feff4b-c024-4fab-90b5-5c8e54ecd97d",
        "colab": {
          "base_uri": "https://localhost:8080/",
          "height": 204
        }
      },
      "source": [
        "df3['Predicted Recovered'] = df3[['Confirmed Recovered']].shift(-future_days_recover)\n",
        "df3.tail(4)"
      ],
      "execution_count": 0,
      "outputs": [
        {
          "output_type": "execute_result",
          "data": {
            "text/html": [
              "<div>\n",
              "<style scoped>\n",
              "    .dataframe tbody tr th:only-of-type {\n",
              "        vertical-align: middle;\n",
              "    }\n",
              "\n",
              "    .dataframe tbody tr th {\n",
              "        vertical-align: top;\n",
              "    }\n",
              "\n",
              "    .dataframe thead th {\n",
              "        text-align: right;\n",
              "    }\n",
              "</style>\n",
              "<table border=\"1\" class=\"dataframe\">\n",
              "  <thead>\n",
              "    <tr style=\"text-align: right;\">\n",
              "      <th></th>\n",
              "      <th>Confirmed Recovered</th>\n",
              "      <th>Predicted Recovered</th>\n",
              "    </tr>\n",
              "    <tr>\n",
              "      <th>Dates</th>\n",
              "      <th></th>\n",
              "      <th></th>\n",
              "    </tr>\n",
              "  </thead>\n",
              "  <tbody>\n",
              "    <tr>\n",
              "      <th>04/19/2020</th>\n",
              "      <td>11847</td>\n",
              "      <td>NaN</td>\n",
              "    </tr>\n",
              "    <tr>\n",
              "      <th>04/20/2020</th>\n",
              "      <td>12543</td>\n",
              "      <td>NaN</td>\n",
              "    </tr>\n",
              "    <tr>\n",
              "      <th>04/21/2020</th>\n",
              "      <td>13188</td>\n",
              "      <td>NaN</td>\n",
              "    </tr>\n",
              "    <tr>\n",
              "      <th>04/22/2020</th>\n",
              "      <td>14454</td>\n",
              "      <td>NaN</td>\n",
              "    </tr>\n",
              "  </tbody>\n",
              "</table>\n",
              "</div>"
            ],
            "text/plain": [
              "            Confirmed Recovered  Predicted Recovered\n",
              "Dates                                               \n",
              "04/19/2020                11847                  NaN\n",
              "04/20/2020                12543                  NaN\n",
              "04/21/2020                13188                  NaN\n",
              "04/22/2020                14454                  NaN"
            ]
          },
          "metadata": {
            "tags": []
          },
          "execution_count": 75
        }
      ]
    },
    {
      "cell_type": "code",
      "metadata": {
        "id": "Aid3ptng_kxi",
        "colab_type": "code",
        "outputId": "f2c07d56-6ae2-4bb3-985c-50b98d5f3b68",
        "colab": {
          "base_uri": "https://localhost:8080/",
          "height": 296
        }
      },
      "source": [
        "df3['Confirmed Recovered'].plot()"
      ],
      "execution_count": 0,
      "outputs": [
        {
          "output_type": "execute_result",
          "data": {
            "text/plain": [
              "<matplotlib.axes._subplots.AxesSubplot at 0x7fc1331bd588>"
            ]
          },
          "metadata": {
            "tags": []
          },
          "execution_count": 76
        },
        {
          "output_type": "display_data",
          "data": {
            "image/png": "[encoded data removed]",
            "text/plain": [
              "<Figure size 432x288 with 1 Axes>"
            ]
          },
          "metadata": {
            "tags": [],
            "needs_background": "light"
          }
        }
      ]
    },
    {
      "cell_type": "code",
      "metadata": {
        "id": "POcJir7URXwZ",
        "colab_type": "code",
        "outputId": "1df32b54-65d2-480b-fdcf-88b50f5b2d53",
        "colab": {
          "base_uri": "https://localhost:8080/",
          "height": 1000
        }
      },
      "source": [
        "X2 = np.array(df3.drop(['Predicted Recovered'], 1))[:-future_days_recover]\n",
        "print(X2)"
      ],
      "execution_count": 0,
      "outputs": [
        {
          "output_type": "stream",
          "text": [
            "[[  0]\n",
            " [  0]\n",
            " [  0]\n",
            " [  0]\n",
            " [  0]\n",
            " [  0]\n",
            " [  0]\n",
            " [  0]\n",
            " [  0]\n",
            " [  0]\n",
            " [  0]\n",
            " [  0]\n",
            " [  0]\n",
            " [  0]\n",
            " [  0]\n",
            " [  0]\n",
            " [  0]\n",
            " [  0]\n",
            " [  0]\n",
            " [  0]\n",
            " [  0]\n",
            " [  1]\n",
            " [  1]\n",
            " [  1]\n",
            " [  1]\n",
            " [  1]\n",
            " [  1]\n",
            " [  1]\n",
            " [  1]\n",
            " [  1]\n",
            " [  3]\n",
            " [  3]\n",
            " [  3]\n",
            " [  3]\n",
            " [  3]\n",
            " [  3]\n",
            " [  6]\n",
            " [  6]\n",
            " [  6]\n",
            " [  6]\n",
            " [  6]\n",
            " [  6]\n",
            " [  6]\n",
            " [  6]\n",
            " [  6]\n",
            " [  8]\n",
            " [  8]\n",
            " [  8]\n",
            " [  8]\n",
            " [  8]\n",
            " [  8]\n",
            " [  8]\n",
            " [  8]\n",
            " [  8]\n",
            " [  9]\n",
            " [  9]\n",
            " [  9]\n",
            " [  9]\n",
            " [  9]\n",
            " [ 10]\n",
            " [ 10]\n",
            " [ 10]\n",
            " [110]\n",
            " [183]\n",
            " [184]\n",
            " [256]\n",
            " [466]]\n"
          ],
          "name": "stdout"
        }
      ]
    },
    {
      "cell_type": "code",
      "metadata": {
        "id": "cqc9zeCyReGL",
        "colab_type": "code",
        "outputId": "38880ed9-1041-473d-87cc-c4550c018c55",
        "colab": {
          "base_uri": "https://localhost:8080/",
          "height": 221
        }
      },
      "source": [
        "y2 = np.array(df3['Predicted Recovered'])[:-future_days_recover]\n",
        "print(y2)"
      ],
      "execution_count": 0,
      "outputs": [
        {
          "output_type": "stream",
          "text": [
            "[1.0000e+00 1.0000e+00 1.0000e+00 1.0000e+00 1.0000e+00 3.0000e+00\n",
            " 3.0000e+00 3.0000e+00 3.0000e+00 3.0000e+00 3.0000e+00 6.0000e+00\n",
            " 6.0000e+00 6.0000e+00 6.0000e+00 6.0000e+00 6.0000e+00 6.0000e+00\n",
            " 6.0000e+00 6.0000e+00 8.0000e+00 8.0000e+00 8.0000e+00 8.0000e+00\n",
            " 8.0000e+00 8.0000e+00 8.0000e+00 8.0000e+00 8.0000e+00 9.0000e+00\n",
            " 9.0000e+00 9.0000e+00 9.0000e+00 9.0000e+00 1.0000e+01 1.0000e+01\n",
            " 1.0000e+01 1.1000e+02 1.8300e+02 1.8400e+02 2.5600e+02 4.6600e+02\n",
            " 4.6600e+02 4.6600e+02 1.5920e+03 1.3240e+03 1.7350e+03 2.1750e+03\n",
            " 2.5770e+03 3.0120e+03 3.2560e+03 3.7910e+03 4.1540e+03 5.1620e+03\n",
            " 5.8550e+03 6.5890e+03 7.1230e+03 7.7580e+03 8.2100e+03 8.9660e+03\n",
            " 9.6980e+03 1.0545e+04 1.0964e+04 1.1847e+04 1.2543e+04 1.3188e+04\n",
            " 1.4454e+04]\n"
          ],
          "name": "stdout"
        }
      ]
    },
    {
      "cell_type": "code",
      "metadata": {
        "id": "HPFZnvaRRlc0",
        "colab_type": "code",
        "colab": {}
      },
      "source": [
        "x_train3, x_test3, y_train3, y_test3 = train_test_split(X2, y2, test_size = 0.25)\n"
      ],
      "execution_count": 0,
      "outputs": []
    },
    {
      "cell_type": "code",
      "metadata": {
        "id": "NeUDWYHcRsmE",
        "colab_type": "code",
        "colab": {}
      },
      "source": [
        "tree3 = DecisionTreeRegressor().fit(x_train3, y_train3)\n",
        "lr3 = LinearRegression().fit(x_train3, y_train3)"
      ],
      "execution_count": 0,
      "outputs": []
    },
    {
      "cell_type": "code",
      "metadata": {
        "id": "2MkUhWy7SUOt",
        "colab_type": "code",
        "outputId": "7a044105-c1e4-42a1-a14f-48712309baf8",
        "colab": {
          "base_uri": "https://localhost:8080/",
          "height": 442
        }
      },
      "source": [
        "x_future3 = df3.drop(['Predicted Recovered'], 1)[:-future_days_recover]\n",
        "x_future3 = x_future3.tail(future_days_recover)\n",
        "x_future3 = np.array(x_future3)\n",
        "x_future3"
      ],
      "execution_count": 0,
      "outputs": [
        {
          "output_type": "execute_result",
          "data": {
            "text/plain": [
              "array([[  6],\n",
              "       [  6],\n",
              "       [  6],\n",
              "       [  8],\n",
              "       [  8],\n",
              "       [  8],\n",
              "       [  8],\n",
              "       [  8],\n",
              "       [  8],\n",
              "       [  8],\n",
              "       [  8],\n",
              "       [  8],\n",
              "       [  9],\n",
              "       [  9],\n",
              "       [  9],\n",
              "       [  9],\n",
              "       [  9],\n",
              "       [ 10],\n",
              "       [ 10],\n",
              "       [ 10],\n",
              "       [110],\n",
              "       [183],\n",
              "       [184],\n",
              "       [256],\n",
              "       [466]])"
            ]
          },
          "metadata": {
            "tags": []
          },
          "execution_count": 81
        }
      ]
    },
    {
      "cell_type": "code",
      "metadata": {
        "id": "4XblUqFiSlrN",
        "colab_type": "code",
        "outputId": "e05b3659-c276-4881-a9f4-9f507ca71b59",
        "colab": {
          "base_uri": "https://localhost:8080/",
          "height": 272
        }
      },
      "source": [
        "tree_predictions3 = tree3.predict(x_future3)\n",
        "print(tree_predictions3)\n",
        "print()\n",
        "lr_predictions3 = lr3.predict(x_future3)\n",
        "print(lr_predictions3)"
      ],
      "execution_count": 0,
      "outputs": [
        {
          "output_type": "stream",
          "text": [
            "[  400.14285714   400.14285714   400.14285714  3094.28571429\n",
            "  3094.28571429  3094.28571429  3094.28571429  3094.28571429\n",
            "  3094.28571429  3094.28571429  3094.28571429  3094.28571429\n",
            "  7103.          7103.          7103.          7103.\n",
            "  7103.          9698.          9698.          9698.\n",
            " 10964.         11847.         12543.         12543.\n",
            " 14454.        ]\n",
            "\n",
            "[ 1633.77651084  1633.77651084  1633.77651084  1710.40800018\n",
            "  1710.40800018  1710.40800018  1710.40800018  1710.40800018\n",
            "  1710.40800018  1710.40800018  1710.40800018  1710.40800018\n",
            "  1748.72374484  1748.72374484  1748.72374484  1748.72374484\n",
            "  1748.72374484  1787.03948951  1787.03948951  1787.03948951\n",
            "  5618.61395635  8415.66331715  8453.97906181 11212.71267794\n",
            " 19259.0190583 ]\n"
          ],
          "name": "stdout"
        }
      ]
    },
    {
      "cell_type": "code",
      "metadata": {
        "id": "7HRP9MupR1v3",
        "colab_type": "code",
        "outputId": "ecada784-57fd-4279-a920-16d53a21b8c9",
        "colab": {
          "base_uri": "https://localhost:8080/",
          "height": 635
        }
      },
      "source": [
        "predictions3 = tree_predictions3\n",
        "\n",
        "valid3 = df3[X2.shape[0]:]\n",
        "valid3['Predicted Recovered'] = predictions3\n",
        "\n",
        "plt.figure(figsize=(16,8))\n",
        "plt.title('Model')\n",
        "plt.xlabel('Dates')\n",
        "plt.ylabel('Predicted Cases')\n",
        "plt.plot(df3['Confirmed Recovered'])\n",
        "plt.plot(valid3['Confirmed Recovered'])\n",
        "plt.plot(valid3['Predicted Recovered'])\n",
        "plt.legend(['Orig', 'Val', 'Pred'])\n",
        "plt.show()\n"
      ],
      "execution_count": 0,
      "outputs": [
        {
          "output_type": "stream",
          "text": [
            "/usr/local/lib/python3.6/dist-packages/ipykernel_launcher.py:4: SettingWithCopyWarning: \n",
            "A value is trying to be set on a copy of a slice from a DataFrame.\n",
            "Try using .loc[row_indexer,col_indexer] = value instead\n",
            "\n",
            "See the caveats in the documentation: https://pandas.pydata.org/pandas-docs/stable/user_guide/indexing.html#returning-a-view-versus-a-copy\n",
            "  after removing the cwd from sys.path.\n"
          ],
          "name": "stderr"
        },
        {
          "output_type": "display_data",
          "data": {
            "image/png": "[encoded data removed]",
            "text/plain": [
              "<Figure size 1152x576 with 1 Axes>"
            ]
          },
          "metadata": {
            "tags": [],
            "needs_background": "light"
          }
        }
      ]
    },
    {
      "cell_type": "code",
      "metadata": {
        "id": "JOmwjWPsSy5a",
        "colab_type": "code",
        "outputId": "86d6df6a-e331-4dab-b3fd-2e269eda0f33",
        "colab": {
          "base_uri": "https://localhost:8080/",
          "height": 855
        }
      },
      "source": [
        "valid3"
      ],
      "execution_count": 0,
      "outputs": [
        {
          "output_type": "execute_result",
          "data": {
            "text/html": [
              "<div>\n",
              "<style scoped>\n",
              "    .dataframe tbody tr th:only-of-type {\n",
              "        vertical-align: middle;\n",
              "    }\n",
              "\n",
              "    .dataframe tbody tr th {\n",
              "        vertical-align: top;\n",
              "    }\n",
              "\n",
              "    .dataframe thead th {\n",
              "        text-align: right;\n",
              "    }\n",
              "</style>\n",
              "<table border=\"1\" class=\"dataframe\">\n",
              "  <thead>\n",
              "    <tr style=\"text-align: right;\">\n",
              "      <th></th>\n",
              "      <th>Confirmed Recovered</th>\n",
              "      <th>Predicted Recovered</th>\n",
              "    </tr>\n",
              "    <tr>\n",
              "      <th>Dates</th>\n",
              "      <th></th>\n",
              "      <th></th>\n",
              "    </tr>\n",
              "  </thead>\n",
              "  <tbody>\n",
              "    <tr>\n",
              "      <th>03/29/2020</th>\n",
              "      <td>466</td>\n",
              "      <td>400.142857</td>\n",
              "    </tr>\n",
              "    <tr>\n",
              "      <th>03/30/2020</th>\n",
              "      <td>466</td>\n",
              "      <td>400.142857</td>\n",
              "    </tr>\n",
              "    <tr>\n",
              "      <th>03/31/2020</th>\n",
              "      <td>1592</td>\n",
              "      <td>400.142857</td>\n",
              "    </tr>\n",
              "    <tr>\n",
              "      <th>04/01/2020</th>\n",
              "      <td>1324</td>\n",
              "      <td>3094.285714</td>\n",
              "    </tr>\n",
              "    <tr>\n",
              "      <th>04/02/2020</th>\n",
              "      <td>1735</td>\n",
              "      <td>3094.285714</td>\n",
              "    </tr>\n",
              "    <tr>\n",
              "      <th>04/03/2020</th>\n",
              "      <td>2175</td>\n",
              "      <td>3094.285714</td>\n",
              "    </tr>\n",
              "    <tr>\n",
              "      <th>04/04/2020</th>\n",
              "      <td>2577</td>\n",
              "      <td>3094.285714</td>\n",
              "    </tr>\n",
              "    <tr>\n",
              "      <th>04/05/2020</th>\n",
              "      <td>3012</td>\n",
              "      <td>3094.285714</td>\n",
              "    </tr>\n",
              "    <tr>\n",
              "      <th>04/06/2020</th>\n",
              "      <td>3256</td>\n",
              "      <td>3094.285714</td>\n",
              "    </tr>\n",
              "    <tr>\n",
              "      <th>04/07/2020</th>\n",
              "      <td>3791</td>\n",
              "      <td>3094.285714</td>\n",
              "    </tr>\n",
              "    <tr>\n",
              "      <th>04/08/2020</th>\n",
              "      <td>4154</td>\n",
              "      <td>3094.285714</td>\n",
              "    </tr>\n",
              "    <tr>\n",
              "      <th>04/09/2020</th>\n",
              "      <td>5162</td>\n",
              "      <td>3094.285714</td>\n",
              "    </tr>\n",
              "    <tr>\n",
              "      <th>04/10/2020</th>\n",
              "      <td>5855</td>\n",
              "      <td>7103.000000</td>\n",
              "    </tr>\n",
              "    <tr>\n",
              "      <th>04/11/2020</th>\n",
              "      <td>6589</td>\n",
              "      <td>7103.000000</td>\n",
              "    </tr>\n",
              "    <tr>\n",
              "      <th>04/12/2020</th>\n",
              "      <td>7123</td>\n",
              "      <td>7103.000000</td>\n",
              "    </tr>\n",
              "    <tr>\n",
              "      <th>04/13/2020</th>\n",
              "      <td>7758</td>\n",
              "      <td>7103.000000</td>\n",
              "    </tr>\n",
              "    <tr>\n",
              "      <th>04/14/2020</th>\n",
              "      <td>8210</td>\n",
              "      <td>7103.000000</td>\n",
              "    </tr>\n",
              "    <tr>\n",
              "      <th>04/15/2020</th>\n",
              "      <td>8966</td>\n",
              "      <td>9698.000000</td>\n",
              "    </tr>\n",
              "    <tr>\n",
              "      <th>04/16/2020</th>\n",
              "      <td>9698</td>\n",
              "      <td>9698.000000</td>\n",
              "    </tr>\n",
              "    <tr>\n",
              "      <th>04/17/2020</th>\n",
              "      <td>10545</td>\n",
              "      <td>9698.000000</td>\n",
              "    </tr>\n",
              "    <tr>\n",
              "      <th>04/18/2020</th>\n",
              "      <td>10964</td>\n",
              "      <td>10964.000000</td>\n",
              "    </tr>\n",
              "    <tr>\n",
              "      <th>04/19/2020</th>\n",
              "      <td>11847</td>\n",
              "      <td>11847.000000</td>\n",
              "    </tr>\n",
              "    <tr>\n",
              "      <th>04/20/2020</th>\n",
              "      <td>12543</td>\n",
              "      <td>12543.000000</td>\n",
              "    </tr>\n",
              "    <tr>\n",
              "      <th>04/21/2020</th>\n",
              "      <td>13188</td>\n",
              "      <td>12543.000000</td>\n",
              "    </tr>\n",
              "    <tr>\n",
              "      <th>04/22/2020</th>\n",
              "      <td>14454</td>\n",
              "      <td>14454.000000</td>\n",
              "    </tr>\n",
              "  </tbody>\n",
              "</table>\n",
              "</div>"
            ],
            "text/plain": [
              "            Confirmed Recovered  Predicted Recovered\n",
              "Dates                                               \n",
              "03/29/2020                  466           400.142857\n",
              "03/30/2020                  466           400.142857\n",
              "03/31/2020                 1592           400.142857\n",
              "04/01/2020                 1324          3094.285714\n",
              "04/02/2020                 1735          3094.285714\n",
              "04/03/2020                 2175          3094.285714\n",
              "04/04/2020                 2577          3094.285714\n",
              "04/05/2020                 3012          3094.285714\n",
              "04/06/2020                 3256          3094.285714\n",
              "04/07/2020                 3791          3094.285714\n",
              "04/08/2020                 4154          3094.285714\n",
              "04/09/2020                 5162          3094.285714\n",
              "04/10/2020                 5855          7103.000000\n",
              "04/11/2020                 6589          7103.000000\n",
              "04/12/2020                 7123          7103.000000\n",
              "04/13/2020                 7758          7103.000000\n",
              "04/14/2020                 8210          7103.000000\n",
              "04/15/2020                 8966          9698.000000\n",
              "04/16/2020                 9698          9698.000000\n",
              "04/17/2020                10545          9698.000000\n",
              "04/18/2020                10964         10964.000000\n",
              "04/19/2020                11847         11847.000000\n",
              "04/20/2020                12543         12543.000000\n",
              "04/21/2020                13188         12543.000000\n",
              "04/22/2020                14454         14454.000000"
            ]
          },
          "metadata": {
            "tags": []
          },
          "execution_count": 84
        }
      ]
    },
    {
      "cell_type": "code",
      "metadata": {
        "id": "n9EmsA0mSK6p",
        "colab_type": "code",
        "outputId": "727ae2b1-2061-4ebc-f59f-e9aa04626e55",
        "colab": {
          "base_uri": "https://localhost:8080/",
          "height": 296
        }
      },
      "source": [
        "valid3.plot()"
      ],
      "execution_count": 0,
      "outputs": [
        {
          "output_type": "execute_result",
          "data": {
            "text/plain": [
              "<matplotlib.axes._subplots.AxesSubplot at 0x7fc131c166d8>"
            ]
          },
          "metadata": {
            "tags": []
          },
          "execution_count": 85
        },
        {
          "output_type": "display_data",
          "data": {
            "image/png": "[encoded data removed]",
            "text/plain": [
              "<Figure size 432x288 with 1 Axes>"
            ]
          },
          "metadata": {
            "tags": [],
            "needs_background": "light"
          }
        }
      ]
    },
    {
      "cell_type": "code",
      "metadata": {
        "id": "NYTmxRmzTKZ5",
        "colab_type": "code",
        "outputId": "e952dd32-7fca-461a-c435-ca7da6572501",
        "colab": {
          "base_uri": "https://localhost:8080/",
          "height": 855
        }
      },
      "source": [
        "valid_final = valid.join(valid2.join(valid3))\n",
        "valid_final"
      ],
      "execution_count": 0,
      "outputs": [
        {
          "output_type": "execute_result",
          "data": {
            "text/html": [
              "<div>\n",
              "<style scoped>\n",
              "    .dataframe tbody tr th:only-of-type {\n",
              "        vertical-align: middle;\n",
              "    }\n",
              "\n",
              "    .dataframe tbody tr th {\n",
              "        vertical-align: top;\n",
              "    }\n",
              "\n",
              "    .dataframe thead th {\n",
              "        text-align: right;\n",
              "    }\n",
              "</style>\n",
              "<table border=\"1\" class=\"dataframe\">\n",
              "  <thead>\n",
              "    <tr style=\"text-align: right;\">\n",
              "      <th></th>\n",
              "      <th>Confirmed Cases</th>\n",
              "      <th>Predicted Cases</th>\n",
              "      <th>Confirmed Deaths</th>\n",
              "      <th>Predicted Deaths</th>\n",
              "      <th>Confirmed Recovered</th>\n",
              "      <th>Predicted Recovered</th>\n",
              "    </tr>\n",
              "    <tr>\n",
              "      <th>Dates</th>\n",
              "      <th></th>\n",
              "      <th></th>\n",
              "      <th></th>\n",
              "      <th></th>\n",
              "      <th></th>\n",
              "      <th></th>\n",
              "    </tr>\n",
              "  </thead>\n",
              "  <tbody>\n",
              "    <tr>\n",
              "      <th>03/29/2020</th>\n",
              "      <td>1355</td>\n",
              "      <td>1355.0</td>\n",
              "      <td>21</td>\n",
              "      <td>25.627907</td>\n",
              "      <td>466</td>\n",
              "      <td>400.142857</td>\n",
              "    </tr>\n",
              "    <tr>\n",
              "      <th>03/30/2020</th>\n",
              "      <td>1706</td>\n",
              "      <td>1706.0</td>\n",
              "      <td>31</td>\n",
              "      <td>25.627907</td>\n",
              "      <td>466</td>\n",
              "      <td>400.142857</td>\n",
              "    </tr>\n",
              "    <tr>\n",
              "      <th>03/31/2020</th>\n",
              "      <td>1966</td>\n",
              "      <td>1966.0</td>\n",
              "      <td>33</td>\n",
              "      <td>25.627907</td>\n",
              "      <td>1592</td>\n",
              "      <td>400.142857</td>\n",
              "    </tr>\n",
              "    <tr>\n",
              "      <th>04/01/2020</th>\n",
              "      <td>2392</td>\n",
              "      <td>2392.0</td>\n",
              "      <td>37</td>\n",
              "      <td>25.627907</td>\n",
              "      <td>1324</td>\n",
              "      <td>3094.285714</td>\n",
              "    </tr>\n",
              "    <tr>\n",
              "      <th>04/02/2020</th>\n",
              "      <td>2793</td>\n",
              "      <td>2793.0</td>\n",
              "      <td>53</td>\n",
              "      <td>25.627907</td>\n",
              "      <td>1735</td>\n",
              "      <td>3094.285714</td>\n",
              "    </tr>\n",
              "    <tr>\n",
              "      <th>04/03/2020</th>\n",
              "      <td>3255</td>\n",
              "      <td>2793.0</td>\n",
              "      <td>67</td>\n",
              "      <td>25.627907</td>\n",
              "      <td>2175</td>\n",
              "      <td>3094.285714</td>\n",
              "    </tr>\n",
              "    <tr>\n",
              "      <th>04/04/2020</th>\n",
              "      <td>3630</td>\n",
              "      <td>4354.0</td>\n",
              "      <td>94</td>\n",
              "      <td>25.627907</td>\n",
              "      <td>2577</td>\n",
              "      <td>3094.285714</td>\n",
              "    </tr>\n",
              "    <tr>\n",
              "      <th>04/05/2020</th>\n",
              "      <td>4354</td>\n",
              "      <td>4354.0</td>\n",
              "      <td>119</td>\n",
              "      <td>25.627907</td>\n",
              "      <td>3012</td>\n",
              "      <td>3094.285714</td>\n",
              "    </tr>\n",
              "    <tr>\n",
              "      <th>04/06/2020</th>\n",
              "      <td>4347</td>\n",
              "      <td>4354.0</td>\n",
              "      <td>150</td>\n",
              "      <td>25.627907</td>\n",
              "      <td>3256</td>\n",
              "      <td>3094.285714</td>\n",
              "    </tr>\n",
              "    <tr>\n",
              "      <th>04/07/2020</th>\n",
              "      <td>4726</td>\n",
              "      <td>4726.0</td>\n",
              "      <td>153</td>\n",
              "      <td>25.627907</td>\n",
              "      <td>3791</td>\n",
              "      <td>3094.285714</td>\n",
              "    </tr>\n",
              "    <tr>\n",
              "      <th>04/08/2020</th>\n",
              "      <td>5276</td>\n",
              "      <td>4726.0</td>\n",
              "      <td>153</td>\n",
              "      <td>25.627907</td>\n",
              "      <td>4154</td>\n",
              "      <td>3094.285714</td>\n",
              "    </tr>\n",
              "    <tr>\n",
              "      <th>04/09/2020</th>\n",
              "      <td>5759</td>\n",
              "      <td>5759.0</td>\n",
              "      <td>200</td>\n",
              "      <td>25.627907</td>\n",
              "      <td>5162</td>\n",
              "      <td>3094.285714</td>\n",
              "    </tr>\n",
              "    <tr>\n",
              "      <th>04/10/2020</th>\n",
              "      <td>6237</td>\n",
              "      <td>6237.0</td>\n",
              "      <td>222</td>\n",
              "      <td>25.627907</td>\n",
              "      <td>5855</td>\n",
              "      <td>7103.000000</td>\n",
              "    </tr>\n",
              "    <tr>\n",
              "      <th>04/11/2020</th>\n",
              "      <td>6648</td>\n",
              "      <td>6648.0</td>\n",
              "      <td>253</td>\n",
              "      <td>291.000000</td>\n",
              "      <td>6589</td>\n",
              "      <td>7103.000000</td>\n",
              "    </tr>\n",
              "    <tr>\n",
              "      <th>04/12/2020</th>\n",
              "      <td>7049</td>\n",
              "      <td>7049.0</td>\n",
              "      <td>274</td>\n",
              "      <td>291.000000</td>\n",
              "      <td>7123</td>\n",
              "      <td>7103.000000</td>\n",
              "    </tr>\n",
              "    <tr>\n",
              "      <th>04/13/2020</th>\n",
              "      <td>7470</td>\n",
              "      <td>7470.0</td>\n",
              "      <td>291</td>\n",
              "      <td>291.000000</td>\n",
              "      <td>7758</td>\n",
              "      <td>7103.000000</td>\n",
              "    </tr>\n",
              "    <tr>\n",
              "      <th>04/14/2020</th>\n",
              "      <td>7953</td>\n",
              "      <td>7470.0</td>\n",
              "      <td>334</td>\n",
              "      <td>291.000000</td>\n",
              "      <td>8210</td>\n",
              "      <td>7103.000000</td>\n",
              "    </tr>\n",
              "    <tr>\n",
              "      <th>04/15/2020</th>\n",
              "      <td>8447</td>\n",
              "      <td>8447.0</td>\n",
              "      <td>385</td>\n",
              "      <td>385.000000</td>\n",
              "      <td>8966</td>\n",
              "      <td>9698.000000</td>\n",
              "    </tr>\n",
              "    <tr>\n",
              "      <th>04/16/2020</th>\n",
              "      <td>9840</td>\n",
              "      <td>9840.0</td>\n",
              "      <td>490</td>\n",
              "      <td>490.000000</td>\n",
              "      <td>9698</td>\n",
              "      <td>9698.000000</td>\n",
              "    </tr>\n",
              "    <tr>\n",
              "      <th>04/17/2020</th>\n",
              "      <td>10456</td>\n",
              "      <td>10456.0</td>\n",
              "      <td>524</td>\n",
              "      <td>524.000000</td>\n",
              "      <td>10545</td>\n",
              "      <td>9698.000000</td>\n",
              "    </tr>\n",
              "    <tr>\n",
              "      <th>04/18/2020</th>\n",
              "      <td>11013</td>\n",
              "      <td>11013.0</td>\n",
              "      <td>564</td>\n",
              "      <td>564.000000</td>\n",
              "      <td>10964</td>\n",
              "      <td>10964.000000</td>\n",
              "    </tr>\n",
              "    <tr>\n",
              "      <th>04/19/2020</th>\n",
              "      <td>11561</td>\n",
              "      <td>11013.0</td>\n",
              "      <td>591</td>\n",
              "      <td>564.000000</td>\n",
              "      <td>11847</td>\n",
              "      <td>11847.000000</td>\n",
              "    </tr>\n",
              "    <tr>\n",
              "      <th>04/20/2020</th>\n",
              "      <td>12063</td>\n",
              "      <td>12063.0</td>\n",
              "      <td>624</td>\n",
              "      <td>624.000000</td>\n",
              "      <td>12543</td>\n",
              "      <td>12543.000000</td>\n",
              "    </tr>\n",
              "    <tr>\n",
              "      <th>04/21/2020</th>\n",
              "      <td>12715</td>\n",
              "      <td>12715.0</td>\n",
              "      <td>694</td>\n",
              "      <td>694.000000</td>\n",
              "      <td>13188</td>\n",
              "      <td>12543.000000</td>\n",
              "    </tr>\n",
              "    <tr>\n",
              "      <th>04/22/2020</th>\n",
              "      <td>13718</td>\n",
              "      <td>13718.0</td>\n",
              "      <td>762</td>\n",
              "      <td>694.000000</td>\n",
              "      <td>14454</td>\n",
              "      <td>14454.000000</td>\n",
              "    </tr>\n",
              "  </tbody>\n",
              "</table>\n",
              "</div>"
            ],
            "text/plain": [
              "            Confirmed Cases  ...  Predicted Recovered\n",
              "Dates                        ...                     \n",
              "03/29/2020             1355  ...           400.142857\n",
              "03/30/2020             1706  ...           400.142857\n",
              "03/31/2020             1966  ...           400.142857\n",
              "04/01/2020             2392  ...          3094.285714\n",
              "04/02/2020             2793  ...          3094.285714\n",
              "04/03/2020             3255  ...          3094.285714\n",
              "04/04/2020             3630  ...          3094.285714\n",
              "04/05/2020             4354  ...          3094.285714\n",
              "04/06/2020             4347  ...          3094.285714\n",
              "04/07/2020             4726  ...          3094.285714\n",
              "04/08/2020             5276  ...          3094.285714\n",
              "04/09/2020             5759  ...          3094.285714\n",
              "04/10/2020             6237  ...          7103.000000\n",
              "04/11/2020             6648  ...          7103.000000\n",
              "04/12/2020             7049  ...          7103.000000\n",
              "04/13/2020             7470  ...          7103.000000\n",
              "04/14/2020             7953  ...          7103.000000\n",
              "04/15/2020             8447  ...          9698.000000\n",
              "04/16/2020             9840  ...          9698.000000\n",
              "04/17/2020            10456  ...          9698.000000\n",
              "04/18/2020            11013  ...         10964.000000\n",
              "04/19/2020            11561  ...         11847.000000\n",
              "04/20/2020            12063  ...         12543.000000\n",
              "04/21/2020            12715  ...         12543.000000\n",
              "04/22/2020            13718  ...         14454.000000\n",
              "\n",
              "[25 rows x 6 columns]"
            ]
          },
          "metadata": {
            "tags": []
          },
          "execution_count": 86
        }
      ]
    },
    {
      "cell_type": "code",
      "metadata": {
        "id": "ulFob2nJoUON",
        "colab_type": "code",
        "outputId": "15ad34c1-17f7-484f-9830-125a3325898f",
        "colab": {
          "base_uri": "https://localhost:8080/",
          "height": 34
        }
      },
      "source": [
        "from sklearn.metrics import r2_score\n",
        "score3 = r2_score(valid3['Confirmed Recovered'], valid3['Predicted Recovered'])\n",
        "print(score3)"
      ],
      "execution_count": 0,
      "outputs": [
        {
          "output_type": "stream",
          "text": [
            "0.958496711368107\n"
          ],
          "name": "stdout"
        }
      ]
    },
    {
      "cell_type": "code",
      "metadata": {
        "id": "fj44VNJ_omiu",
        "colab_type": "code",
        "outputId": "c3f4ae56-5feb-4512-811c-30b8af176894",
        "colab": {
          "base_uri": "https://localhost:8080/",
          "height": 34
        }
      },
      "source": [
        "average = (score + score2 + score3) / 3\n",
        "average"
      ],
      "execution_count": 0,
      "outputs": [
        {
          "output_type": "execute_result",
          "data": {
            "text/plain": [
              "0.9477248401984606"
            ]
          },
          "metadata": {
            "tags": []
          },
          "execution_count": 88
        }
      ]
    }
  ]
}